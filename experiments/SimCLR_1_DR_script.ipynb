{
  "nbformat": 4,
  "nbformat_minor": 0,
  "metadata": {
    "colab": {
      "name": "SimCLR-1-DR-script.ipynb",
      "provenance": [],
      "collapsed_sections": [],
      "mount_file_id": "1nNolZlGg7vkz-lDfVmNXiVkXhCM36FR8",
      "authorship_tag": "ABX9TyOzh8sAQuO9BARwioovKO5o",
      "include_colab_link": true
    },
    "kernelspec": {
      "name": "python3",
      "display_name": "Python 3"
    },
    "language_info": {
      "name": "python"
    },
    "accelerator": "GPU"
  },
  "cells": [
    {
      "cell_type": "markdown",
      "metadata": {
        "id": "view-in-github",
        "colab_type": "text"
      },
      "source": [
        "<a href=\"https://colab.research.google.com/github/jmarrietar/ocular/blob/master/experiments/SimCLR_1_DR_script.ipynb\" target=\"_parent\"><img src=\"https://colab.research.google.com/assets/colab-badge.svg\" alt=\"Open In Colab\"/></a>"
      ]
    },
    {
      "cell_type": "code",
      "metadata": {
        "id": "CI3i2Jfk2_bT"
      },
      "source": [
        "from google.colab import auth, drive\n",
        "from googleapiclient.discovery import build\n",
        "from googleapiclient.http import MediaFileUpload\n",
        "\n",
        "import argparse\n",
        "import torch\n",
        "import torch.backends.cudnn as cudnn\n",
        "\n",
        "import gdown"
      ],
      "execution_count": null,
      "outputs": []
    },
    {
      "cell_type": "code",
      "metadata": {
        "colab": {
          "base_uri": "https://localhost:8080/"
        },
        "id": "vk6zCoCp2-dn",
        "outputId": "45a4cbf3-de8f-4151-8cd4-f78752243906"
      },
      "source": [
        "# Mount Drive\n",
        "drive.mount('/content/drive')\n",
        "auth.authenticate_user()"
      ],
      "execution_count": null,
      "outputs": [
        {
          "output_type": "stream",
          "text": [
            "Drive already mounted at /content/drive; to attempt to forcibly remount, call drive.mount(\"/content/drive\", force_remount=True).\n"
          ],
          "name": "stdout"
        }
      ]
    },
    {
      "cell_type": "code",
      "metadata": {
        "id": "SmJGUpTzoqJO"
      },
      "source": [
        "def download(data, url):\n",
        "    # Download dataset\n",
        "    import zipfile\n",
        "    url = url\n",
        "    output = \"{}.zip\".format(data)\n",
        "    gdown.download(url, output, quiet=False)\n",
        "\n",
        "    # Uncompress dataset\n",
        "    local_zip = '{}.zip'.format(data)\n",
        "    zip_ref = zipfile.ZipFile(local_zip, \"r\")\n",
        "    zip_ref.extractall()\n",
        "    zip_ref.close()"
      ],
      "execution_count": null,
      "outputs": []
    },
    {
      "cell_type": "code",
      "metadata": {
        "id": "9yR3_66moizK"
      },
      "source": [
        "data_samples = {\n",
        "    \"sample@200\": \"https://drive.google.com/uc?id=1FfV7YyDJvNUCDP5r3-8iQfZ2-xJp_pgb\",\n",
        "    \"sample@500\": \"https://drive.google.com/uc?id=1dHwUqpmSogEdjAB9rwDUL-OKFRUcVXte\",\n",
        "    \"sample@1000\": \"https://drive.google.com/uc?id=1DPZrHrj3Bdte5Dc6NCZ33CAqMG-Oipa2\",\n",
        "    \"sample@2000\": \"https://drive.google.com/uc?id=1PB7uGd-dUnZKnKZpZl-HvE1DVcWgX50F\",\n",
        "    \"sample@3000\": \"https://drive.google.com/uc?id=1_yre5K9YYvJgSrT4xvrI8eD_htucIywA\",\n",
        "    \"sample@4000_images\": \"https://drive.google.com/uc?id=1dqVB8EozEpwWzyuU80AauoQmsiw3Gtm2\",\n",
        "    \"sample@20000\": \"https://drive.google.com/uc?id=1MTDpLzpmhSiZq2jSdmHx2UDPn9FC8gzO\",\n",
        "    \"val-voets-tf\": \"https://drive.google.com/uc?id=1VzVgMGTkBBPG2qbzLunD9HvLzH6tcyrv\",\n",
        "    \"train_voets\": \"https://drive.google.com/uc?id=1AmcFh1MOOZ6aqKm2eO7XEdgmIEqHKTZ5\",\n",
        "    \"voets_test_images\": \"https://drive.google.com/uc?id=15S_V3B_Z3BOjCT3AbO2c887FyS5B0Lyd\"\n",
        "}"
      ],
      "execution_count": null,
      "outputs": []
    },
    {
      "cell_type": "code",
      "metadata": {
        "id": "RcZYUGelolat"
      },
      "source": [
        "UNLABELED = 'train_voets'"
      ],
      "execution_count": null,
      "outputs": []
    },
    {
      "cell_type": "code",
      "metadata": {
        "colab": {
          "base_uri": "https://localhost:8080/"
        },
        "id": "JejqFdk9otMe",
        "outputId": "23a6fc86-d74b-4042-91ca-dbfbbe7fc808"
      },
      "source": [
        "URL_UNLABELED = data_samples[UNLABELED]\n",
        "download(UNLABELED, URL_UNLABELED)"
      ],
      "execution_count": null,
      "outputs": [
        {
          "output_type": "stream",
          "text": [
            "Downloading...\n",
            "From: https://drive.google.com/uc?id=1MTDpLzpmhSiZq2jSdmHx2UDPn9FC8gzO\n",
            "To: /content/sample@20000.zip\n",
            "1.08GB [00:07, 138MB/s] \n"
          ],
          "name": "stderr"
        }
      ]
    },
    {
      "cell_type": "code",
      "metadata": {
        "colab": {
          "base_uri": "https://localhost:8080/"
        },
        "id": "AqPmHRup_tbm",
        "outputId": "ebb505f3-672f-4654-dcda-55e0ac0c819f"
      },
      "source": [
        "!git clone -b develop https://github.com/jmarrietar/SimCLR-1.git"
      ],
      "execution_count": null,
      "outputs": [
        {
          "output_type": "stream",
          "text": [
            "Cloning into 'SimCLR-1'...\n",
            "remote: Enumerating objects: 617, done.\u001b[K\n",
            "remote: Counting objects: 100% (79/79), done.\u001b[K\n",
            "remote: Compressing objects: 100% (50/50), done.\u001b[K\n",
            "remote: Total 617 (delta 47), reused 56 (delta 27), pack-reused 538\u001b[K\n",
            "Receiving objects: 100% (617/617), 82.45 MiB | 30.42 MiB/s, done.\n",
            "Resolving deltas: 100% (350/350), done.\n"
          ],
          "name": "stdout"
        }
      ]
    },
    {
      "cell_type": "code",
      "metadata": {
        "colab": {
          "base_uri": "https://localhost:8080/"
        },
        "id": "lRhsypxxVWcK",
        "outputId": "53362430-73e0-4a66-ff67-28f4fbefe83e"
      },
      "source": [
        "cd SimCLR-1/"
      ],
      "execution_count": null,
      "outputs": [
        {
          "output_type": "stream",
          "text": [
            "/content/SimCLR-1\n"
          ],
          "name": "stdout"
        }
      ]
    },
    {
      "cell_type": "code",
      "metadata": {
        "colab": {
          "base_uri": "https://localhost:8080/"
        },
        "id": "IUvz7J91RSNY",
        "outputId": "2f1ffd1c-60d4-4588-be41-49be5b168167"
      },
      "source": [
        "!python run.py -data ./datasets -dataset-name dr --learning-rate 0.00001 --log-every-n-steps 100 --epochs 100 --unlabeled ../$UNLABELED --batch-size 64 --arch resnet50 "
      ],
      "execution_count": null,
      "outputs": [
        {
          "output_type": "stream",
          "text": [
            "Device is cuda\n",
            "/usr/local/lib/python3.7/dist-packages/torch/utils/data/dataloader.py:477: UserWarning: This DataLoader will create 12 worker processes in total. Our suggested max number of worker in current system is 2, which is smaller than what this DataLoader is going to create. Please be aware that excessive worker creation might get DataLoader running slow or even freeze, lower the worker number to avoid potential slowness/freeze if necessary.\n",
            "  cpuset_checked))\n",
            "Downloading: \"https://download.pytorch.org/models/resnet50-19c8e357.pth\" to /root/.cache/torch/hub/checkpoints/resnet50-19c8e357.pth\n",
            "100% 97.8M/97.8M [00:00<00:00, 135MB/s]\n",
            "Resuming Training ...\n",
            "2021-05-17 04:22:11.661730: I tensorflow/stream_executor/platform/default/dso_loader.cc:49] Successfully opened dynamic library libcudart.so.11.0\n",
            "Start SimCLR training for 200 epochs.\n",
            "Training with gpu: False.\n",
            "  0% 0/312 [00:00<?, ?it/s]/usr/local/lib/python3.7/dist-packages/torch/utils/data/dataloader.py:477: UserWarning: This DataLoader will create 12 worker processes in total. Our suggested max number of worker in current system is 2, which is smaller than what this DataLoader is going to create. Please be aware that excessive worker creation might get DataLoader running slow or even freeze, lower the worker number to avoid potential slowness/freeze if necessary.\n",
            "  cpuset_checked))\n",
            "/usr/local/lib/python3.7/dist-packages/torch/optim/lr_scheduler.py:509: UserWarning: To get the last learning rate computed by the scheduler, please use `get_last_lr()`.\n",
            "  \"please use `get_last_lr()`.\", UserWarning)\n",
            "100% 312/312 [10:39<00:00,  2.05s/it]\n",
            "Epoch: 100\tLoss: 0.2829030454158783\tTop1 accuracy: 95.3125\n",
            "100% 312/312 [10:43<00:00,  2.06s/it]\n",
            "Epoch: 101\tLoss: 0.3964991867542267\tTop1 accuracy: 97.65625\n",
            "100% 312/312 [10:39<00:00,  2.05s/it]\n",
            "Epoch: 102\tLoss: 0.39470478892326355\tTop1 accuracy: 95.3125\n",
            "100% 312/312 [10:28<00:00,  2.01s/it]\n",
            "Epoch: 103\tLoss: 0.2966141998767853\tTop1 accuracy: 93.75\n",
            "100% 312/312 [10:35<00:00,  2.04s/it]\n",
            "Epoch: 104\tLoss: 0.5060046315193176\tTop1 accuracy: 89.0625\n",
            "100% 312/312 [10:28<00:00,  2.02s/it]\n",
            "Epoch: 105\tLoss: 0.22855761647224426\tTop1 accuracy: 93.75\n",
            "100% 312/312 [10:28<00:00,  2.01s/it]\n",
            "Epoch: 106\tLoss: 0.12693971395492554\tTop1 accuracy: 91.40625\n",
            "100% 312/312 [10:36<00:00,  2.04s/it]\n",
            "Epoch: 107\tLoss: 0.31266462802886963\tTop1 accuracy: 93.75\n",
            "100% 312/312 [10:46<00:00,  2.07s/it]\n",
            "Epoch: 108\tLoss: 0.1678890734910965\tTop1 accuracy: 92.96875\n",
            "100% 312/312 [10:50<00:00,  2.08s/it]\n",
            "Epoch: 109\tLoss: 0.3007269501686096\tTop1 accuracy: 93.75\n",
            "100% 312/312 [10:58<00:00,  2.11s/it]\n",
            "Epoch: 110\tLoss: 0.21849961578845978\tTop1 accuracy: 96.09375\n",
            "100% 312/312 [10:52<00:00,  2.09s/it]\n",
            "Epoch: 111\tLoss: 0.15265172719955444\tTop1 accuracy: 95.3125\n",
            "100% 312/312 [11:01<00:00,  2.12s/it]\n",
            "Epoch: 112\tLoss: 0.29397571086883545\tTop1 accuracy: 92.96875\n",
            "100% 312/312 [10:49<00:00,  2.08s/it]\n",
            "Epoch: 113\tLoss: 0.15952007472515106\tTop1 accuracy: 92.96875\n",
            "100% 312/312 [10:42<00:00,  2.06s/it]\n",
            "Epoch: 114\tLoss: 0.1203499361872673\tTop1 accuracy: 92.1875\n",
            "100% 312/312 [10:32<00:00,  2.03s/it]\n",
            "Epoch: 115\tLoss: 0.217488095164299\tTop1 accuracy: 92.96875\n",
            "100% 312/312 [10:13<00:00,  1.97s/it]\n",
            "Epoch: 116\tLoss: 0.3028247356414795\tTop1 accuracy: 97.65625\n",
            "100% 312/312 [10:15<00:00,  1.97s/it]\n",
            "Epoch: 117\tLoss: 0.18687817454338074\tTop1 accuracy: 92.1875\n",
            "100% 312/312 [10:31<00:00,  2.02s/it]\n",
            "Epoch: 118\tLoss: 0.20422300696372986\tTop1 accuracy: 92.96875\n",
            "100% 312/312 [10:42<00:00,  2.06s/it]\n",
            "Epoch: 119\tLoss: 0.2550211250782013\tTop1 accuracy: 97.65625\n",
            "100% 312/312 [10:37<00:00,  2.04s/it]\n",
            "Epoch: 120\tLoss: 0.21607133746147156\tTop1 accuracy: 94.53125\n",
            "100% 312/312 [10:26<00:00,  2.01s/it]\n",
            "Epoch: 121\tLoss: 0.18399958312511444\tTop1 accuracy: 95.3125\n",
            "100% 312/312 [10:30<00:00,  2.02s/it]\n",
            "Epoch: 122\tLoss: 0.20886112749576569\tTop1 accuracy: 89.84375\n",
            "100% 312/312 [10:24<00:00,  2.00s/it]\n",
            "Epoch: 123\tLoss: 0.1832069754600525\tTop1 accuracy: 93.75\n",
            "100% 312/312 [10:24<00:00,  2.00s/it]\n",
            "Epoch: 124\tLoss: 0.1942976862192154\tTop1 accuracy: 97.65625\n",
            "100% 312/312 [10:28<00:00,  2.01s/it]\n",
            "Epoch: 125\tLoss: 0.2296254187822342\tTop1 accuracy: 96.09375\n",
            "100% 312/312 [10:35<00:00,  2.04s/it]\n",
            "Epoch: 126\tLoss: 0.26255664229393005\tTop1 accuracy: 92.96875\n",
            "100% 312/312 [10:46<00:00,  2.07s/it]\n",
            "Epoch: 127\tLoss: 0.18346059322357178\tTop1 accuracy: 94.53125\n",
            "100% 312/312 [10:54<00:00,  2.10s/it]\n",
            "Epoch: 128\tLoss: 0.37515363097190857\tTop1 accuracy: 93.75\n",
            "100% 312/312 [10:37<00:00,  2.04s/it]\n",
            "Epoch: 129\tLoss: 0.35819247364997864\tTop1 accuracy: 96.09375\n",
            "100% 312/312 [10:36<00:00,  2.04s/it]\n",
            "Epoch: 130\tLoss: 0.24943891167640686\tTop1 accuracy: 92.1875\n",
            "100% 312/312 [10:33<00:00,  2.03s/it]\n",
            "Epoch: 131\tLoss: 0.22885803878307343\tTop1 accuracy: 93.75\n",
            "100% 312/312 [10:32<00:00,  2.03s/it]\n",
            "Epoch: 132\tLoss: 0.487516313791275\tTop1 accuracy: 93.75\n",
            "100% 312/312 [10:45<00:00,  2.07s/it]\n",
            "Epoch: 133\tLoss: 0.22410918772220612\tTop1 accuracy: 97.65625\n",
            "100% 312/312 [10:52<00:00,  2.09s/it]\n",
            "Epoch: 134\tLoss: 0.1871240735054016\tTop1 accuracy: 95.3125\n",
            "100% 312/312 [10:44<00:00,  2.06s/it]\n",
            "Epoch: 135\tLoss: 0.19328762590885162\tTop1 accuracy: 94.53125\n",
            "100% 312/312 [10:41<00:00,  2.05s/it]\n",
            "Epoch: 136\tLoss: 0.11028836667537689\tTop1 accuracy: 96.875\n",
            "100% 312/312 [10:43<00:00,  2.06s/it]\n",
            "Epoch: 137\tLoss: 0.1818448156118393\tTop1 accuracy: 99.21875\n",
            "100% 312/312 [10:30<00:00,  2.02s/it]\n",
            "Epoch: 138\tLoss: 0.16352196037769318\tTop1 accuracy: 96.875\n",
            "100% 312/312 [10:30<00:00,  2.02s/it]\n",
            "Epoch: 139\tLoss: 0.15433423221111298\tTop1 accuracy: 96.875\n",
            "100% 312/312 [10:31<00:00,  2.02s/it]\n",
            "Epoch: 140\tLoss: 0.2234550565481186\tTop1 accuracy: 99.21875\n",
            "100% 312/312 [10:34<00:00,  2.03s/it]\n",
            "Epoch: 141\tLoss: 0.20860421657562256\tTop1 accuracy: 97.65625\n",
            "100% 312/312 [11:03<00:00,  2.13s/it]\n",
            "Epoch: 142\tLoss: 0.18494856357574463\tTop1 accuracy: 99.21875\n",
            "100% 312/312 [10:44<00:00,  2.07s/it]\n",
            "Epoch: 143\tLoss: 0.2646026611328125\tTop1 accuracy: 97.65625\n",
            "100% 312/312 [10:40<00:00,  2.05s/it]\n",
            "Epoch: 144\tLoss: 0.1498401165008545\tTop1 accuracy: 98.4375\n",
            "100% 312/312 [10:40<00:00,  2.05s/it]\n",
            "Epoch: 145\tLoss: 0.18051652610301971\tTop1 accuracy: 95.3125\n",
            "100% 312/312 [10:50<00:00,  2.08s/it]\n",
            "Epoch: 146\tLoss: 0.17123503983020782\tTop1 accuracy: 97.65625\n",
            "100% 312/312 [10:57<00:00,  2.11s/it]\n",
            "Epoch: 147\tLoss: 0.140506312251091\tTop1 accuracy: 92.1875\n",
            "100% 312/312 [11:02<00:00,  2.12s/it]\n",
            "Epoch: 148\tLoss: 0.13842810690402985\tTop1 accuracy: 95.3125\n",
            "100% 312/312 [10:57<00:00,  2.11s/it]\n",
            "Epoch: 149\tLoss: 0.26223814487457275\tTop1 accuracy: 97.65625\n",
            "100% 312/312 [10:55<00:00,  2.10s/it]\n",
            "Epoch: 150\tLoss: 0.1948971301317215\tTop1 accuracy: 92.96875\n",
            "100% 312/312 [10:44<00:00,  2.07s/it]\n",
            "Epoch: 151\tLoss: 0.2804678976535797\tTop1 accuracy: 98.4375\n",
            "100% 312/312 [10:47<00:00,  2.07s/it]\n",
            "Epoch: 152\tLoss: 0.13863177597522736\tTop1 accuracy: 85.15625\n",
            "100% 312/312 [10:41<00:00,  2.06s/it]\n",
            "Epoch: 153\tLoss: 0.2701564431190491\tTop1 accuracy: 94.53125\n",
            "100% 312/312 [10:42<00:00,  2.06s/it]\n",
            "Epoch: 154\tLoss: 0.14668937027454376\tTop1 accuracy: 95.3125\n",
            "100% 312/312 [10:38<00:00,  2.05s/it]\n",
            "Epoch: 155\tLoss: 0.31495335698127747\tTop1 accuracy: 96.09375\n",
            "100% 312/312 [10:33<00:00,  2.03s/it]\n",
            "Epoch: 156\tLoss: 0.32227206230163574\tTop1 accuracy: 98.4375\n",
            "100% 312/312 [10:40<00:00,  2.05s/it]\n",
            "Epoch: 157\tLoss: 0.2314876914024353\tTop1 accuracy: 98.4375\n",
            "100% 312/312 [10:42<00:00,  2.06s/it]\n",
            "Epoch: 158\tLoss: 0.13385345041751862\tTop1 accuracy: 95.3125\n",
            "100% 312/312 [10:46<00:00,  2.07s/it]\n",
            "Epoch: 159\tLoss: 0.24237895011901855\tTop1 accuracy: 98.4375\n",
            "100% 312/312 [10:38<00:00,  2.05s/it]\n",
            "Epoch: 160\tLoss: 0.1759527027606964\tTop1 accuracy: 92.96875\n",
            "100% 312/312 [10:34<00:00,  2.03s/it]\n",
            "Epoch: 161\tLoss: 0.17466233670711517\tTop1 accuracy: 100.0\n",
            "100% 312/312 [10:36<00:00,  2.04s/it]\n",
            "Epoch: 162\tLoss: 0.18853625655174255\tTop1 accuracy: 95.3125\n",
            "100% 312/312 [10:45<00:00,  2.07s/it]\n",
            "Epoch: 163\tLoss: 0.2508312463760376\tTop1 accuracy: 98.4375\n",
            "100% 312/312 [10:43<00:00,  2.06s/it]\n",
            "Epoch: 164\tLoss: 0.18420016765594482\tTop1 accuracy: 96.875\n",
            "100% 312/312 [10:40<00:00,  2.05s/it]\n",
            "Epoch: 165\tLoss: 0.1873866468667984\tTop1 accuracy: 99.21875\n",
            "100% 312/312 [10:34<00:00,  2.03s/it]\n",
            "Epoch: 166\tLoss: 0.10854556411504745\tTop1 accuracy: 95.3125\n",
            "100% 312/312 [10:28<00:00,  2.01s/it]\n",
            "Epoch: 167\tLoss: 0.13996972143650055\tTop1 accuracy: 97.65625\n",
            "100% 312/312 [10:27<00:00,  2.01s/it]\n",
            "Epoch: 168\tLoss: 0.2598171830177307\tTop1 accuracy: 96.875\n",
            "100% 312/312 [10:40<00:00,  2.05s/it]\n",
            "Epoch: 169\tLoss: 0.17676392197608948\tTop1 accuracy: 95.3125\n",
            "100% 312/312 [10:40<00:00,  2.05s/it]\n",
            "Epoch: 170\tLoss: 0.10567203909158707\tTop1 accuracy: 91.40625\n",
            "100% 312/312 [10:36<00:00,  2.04s/it]\n",
            "Epoch: 171\tLoss: 0.14628447592258453\tTop1 accuracy: 99.21875\n",
            "100% 312/312 [10:38<00:00,  2.05s/it]\n",
            "Epoch: 172\tLoss: 0.09286809712648392\tTop1 accuracy: 96.875\n",
            "100% 312/312 [10:40<00:00,  2.05s/it]\n",
            "Epoch: 173\tLoss: 0.13032019138336182\tTop1 accuracy: 96.875\n",
            "100% 312/312 [10:38<00:00,  2.05s/it]\n",
            "Epoch: 174\tLoss: 0.1877242773771286\tTop1 accuracy: 96.875\n",
            "100% 312/312 [10:52<00:00,  2.09s/it]\n",
            "Epoch: 175\tLoss: 0.1138472855091095\tTop1 accuracy: 96.09375\n",
            "100% 312/312 [11:00<00:00,  2.12s/it]\n",
            "Epoch: 176\tLoss: 0.1333589404821396\tTop1 accuracy: 96.09375\n",
            "100% 312/312 [11:04<00:00,  2.13s/it]\n",
            "Epoch: 177\tLoss: 0.12482742965221405\tTop1 accuracy: 99.21875\n",
            "100% 312/312 [11:03<00:00,  2.13s/it]\n",
            "Epoch: 178\tLoss: 0.1315203607082367\tTop1 accuracy: 96.875\n",
            "100% 312/312 [11:06<00:00,  2.14s/it]\n",
            "Epoch: 179\tLoss: 0.13593637943267822\tTop1 accuracy: 95.3125\n",
            "100% 312/312 [11:19<00:00,  2.18s/it]\n",
            "Epoch: 180\tLoss: 0.31744876503944397\tTop1 accuracy: 96.875\n",
            "100% 312/312 [10:51<00:00,  2.09s/it]\n",
            "Epoch: 181\tLoss: 0.056097421795129776\tTop1 accuracy: 96.875\n",
            "100% 312/312 [10:46<00:00,  2.07s/it]\n",
            "Epoch: 182\tLoss: 0.11345557123422623\tTop1 accuracy: 100.0\n",
            "100% 312/312 [10:44<00:00,  2.07s/it]\n",
            "Epoch: 183\tLoss: 0.16083116829395294\tTop1 accuracy: 94.53125\n",
            "100% 312/312 [10:49<00:00,  2.08s/it]\n",
            "Epoch: 184\tLoss: 0.2237142026424408\tTop1 accuracy: 96.09375\n",
            "100% 312/312 [10:53<00:00,  2.09s/it]\n",
            "Epoch: 185\tLoss: 0.10939856618642807\tTop1 accuracy: 99.21875\n",
            "100% 312/312 [10:58<00:00,  2.11s/it]\n",
            "Epoch: 186\tLoss: 0.08884915709495544\tTop1 accuracy: 96.875\n",
            "100% 312/312 [10:55<00:00,  2.10s/it]\n",
            "Epoch: 187\tLoss: 0.11060900241136551\tTop1 accuracy: 95.3125\n",
            "100% 312/312 [10:44<00:00,  2.07s/it]\n",
            "Epoch: 188\tLoss: 0.1297188699245453\tTop1 accuracy: 97.65625\n",
            "100% 312/312 [10:37<00:00,  2.04s/it]\n",
            "Epoch: 189\tLoss: 0.08612540364265442\tTop1 accuracy: 95.3125\n",
            "100% 312/312 [10:43<00:00,  2.06s/it]\n",
            "Epoch: 190\tLoss: 0.11019309610128403\tTop1 accuracy: 96.09375\n",
            "100% 312/312 [10:47<00:00,  2.07s/it]\n",
            "Epoch: 191\tLoss: 0.2159624844789505\tTop1 accuracy: 99.21875\n",
            "100% 312/312 [10:42<00:00,  2.06s/it]\n",
            "Epoch: 192\tLoss: 0.21779346466064453\tTop1 accuracy: 98.4375\n",
            "100% 312/312 [10:43<00:00,  2.06s/it]\n",
            "Epoch: 193\tLoss: 0.18007922172546387\tTop1 accuracy: 98.4375\n",
            "100% 312/312 [10:39<00:00,  2.05s/it]\n",
            "Epoch: 194\tLoss: 0.1287592351436615\tTop1 accuracy: 99.21875\n",
            "100% 312/312 [10:44<00:00,  2.06s/it]\n",
            "Epoch: 195\tLoss: 0.2332552671432495\tTop1 accuracy: 99.21875\n",
            "100% 312/312 [10:46<00:00,  2.07s/it]\n",
            "Epoch: 196\tLoss: 0.18624861538410187\tTop1 accuracy: 97.65625\n",
            "100% 312/312 [10:47<00:00,  2.08s/it]\n",
            "Epoch: 197\tLoss: 0.181230366230011\tTop1 accuracy: 96.875\n",
            "100% 312/312 [10:33<00:00,  2.03s/it]\n",
            "Epoch: 198\tLoss: 0.23367610573768616\tTop1 accuracy: 96.875\n",
            "100% 312/312 [10:29<00:00,  2.02s/it]\n",
            "Epoch: 199\tLoss: 0.10502124577760696\tTop1 accuracy: 98.4375\n",
            "Training has finished.\n",
            "Model checkpoint and metadata has been saved at ../drive/MyDrive/Colab Notebooks/SimCLR/models/SimCLR-1-DR-pytorch.\n"
          ],
          "name": "stdout"
        }
      ]
    },
    {
      "cell_type": "code",
      "metadata": {
        "colab": {
          "base_uri": "https://localhost:8080/"
        },
        "id": "eLquwF4tPiCT",
        "outputId": "c30d3d15-4f97-40a3-fbb3-150aacd1b650"
      },
      "source": [
        "RESUME_EPOCHS = 5\n",
        "\n",
        "resume_model_name = \"checkpoint_{:04d}.pth.tar\".format(RESUME_EPOCHS)\n",
        "checkpoint = torch.load(\n",
        "    \"/content/drive/MyDrive/Colab Notebooks/SimCLR/models/SimCLR-1-DR-pytorch/{}\".format(\n",
        "        resume_model_name\n",
        "    ),\n",
        "    map_location='cuda',\n",
        ")\n",
        "\n",
        "print(\"Optimizer info\")\n",
        "print('lr: {}'.format(checkpoint[\"optimizer\"][\"param_groups\"][0][\"lr\"]))\n",
        "print('initial_lr: {}'.format(checkpoint[\"optimizer\"][\"param_groups\"][0][\"initial_lr\"]))"
      ],
      "execution_count": null,
      "outputs": [
        {
          "output_type": "stream",
          "text": [
            "Optimizer info\n",
            "lr: 3e-05\n",
            "initial_lr: 3e-05\n"
          ],
          "name": "stdout"
        }
      ]
    },
    {
      "cell_type": "code",
      "metadata": {
        "id": "RG4RyhLgVgKI"
      },
      "source": [
        "#!python run.py -data ./datasets -dataset-name dr --learning-rate 0.00003 --log-every-n-steps 100 --epochs 10 --resume-epochs $RESUME_EPOCHS --unlabeled ../$UNLABELED --batch-size 64 --arch resnet50 "
      ],
      "execution_count": null,
      "outputs": []
    }
  ]
}