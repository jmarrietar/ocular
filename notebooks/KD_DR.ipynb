{
  "nbformat": 4,
  "nbformat_minor": 0,
  "metadata": {
    "colab": {
      "name": "KD-DR.ipynb",
      "provenance": [],
      "collapsed_sections": [],
      "authorship_tag": "ABX9TyPxvgzL4ZmEgAwGzEXGJLaZ",
      "include_colab_link": true
    },
    "kernelspec": {
      "name": "python3",
      "display_name": "Python 3"
    },
    "language_info": {
      "name": "python"
    },
    "accelerator": "GPU",
    "widgets": {
      "application/vnd.jupyter.widget-state+json": {
        "5794e8e766b84422b226feb489ddff01": {
          "model_module": "@jupyter-widgets/controls",
          "model_name": "HBoxModel",
          "model_module_version": "1.5.0",
          "state": {
            "_view_name": "HBoxView",
            "_dom_classes": [],
            "_model_name": "HBoxModel",
            "_view_module": "@jupyter-widgets/controls",
            "_model_module_version": "1.5.0",
            "_view_count": null,
            "_view_module_version": "1.5.0",
            "box_style": "",
            "layout": "IPY_MODEL_a17215e7dc184390b432c586ebeb99af",
            "_model_module": "@jupyter-widgets/controls",
            "children": [
              "IPY_MODEL_f27ee4efd9ad40b7a398069f05a61f4b",
              "IPY_MODEL_4d75d0c76d32403e9801aa3b0bc73498",
              "IPY_MODEL_a627ccd70add45ec85c723c1d5bd6514"
            ]
          }
        },
        "a17215e7dc184390b432c586ebeb99af": {
          "model_module": "@jupyter-widgets/base",
          "model_name": "LayoutModel",
          "model_module_version": "1.2.0",
          "state": {
            "_view_name": "LayoutView",
            "grid_template_rows": null,
            "right": null,
            "justify_content": null,
            "_view_module": "@jupyter-widgets/base",
            "overflow": null,
            "_model_module_version": "1.2.0",
            "_view_count": null,
            "flex_flow": null,
            "width": null,
            "min_width": null,
            "border": null,
            "align_items": null,
            "bottom": null,
            "_model_module": "@jupyter-widgets/base",
            "top": null,
            "grid_column": null,
            "overflow_y": null,
            "overflow_x": null,
            "grid_auto_flow": null,
            "grid_area": null,
            "grid_template_columns": null,
            "flex": null,
            "_model_name": "LayoutModel",
            "justify_items": null,
            "grid_row": null,
            "max_height": null,
            "align_content": null,
            "visibility": null,
            "align_self": null,
            "height": null,
            "min_height": null,
            "padding": null,
            "grid_auto_rows": null,
            "grid_gap": null,
            "max_width": null,
            "order": null,
            "_view_module_version": "1.2.0",
            "grid_template_areas": null,
            "object_position": null,
            "object_fit": null,
            "grid_auto_columns": null,
            "margin": null,
            "display": null,
            "left": null
          }
        },
        "f27ee4efd9ad40b7a398069f05a61f4b": {
          "model_module": "@jupyter-widgets/controls",
          "model_name": "HTMLModel",
          "model_module_version": "1.5.0",
          "state": {
            "_view_name": "HTMLView",
            "style": "IPY_MODEL_83dfec0ac1934a7987b322f0696e52da",
            "_dom_classes": [],
            "description": "",
            "_model_name": "HTMLModel",
            "placeholder": "​",
            "_view_module": "@jupyter-widgets/controls",
            "_model_module_version": "1.5.0",
            "value": "100%",
            "_view_count": null,
            "_view_module_version": "1.5.0",
            "description_tooltip": null,
            "_model_module": "@jupyter-widgets/controls",
            "layout": "IPY_MODEL_4dec695534d74bf6a5afcbcd73c751db"
          }
        },
        "4d75d0c76d32403e9801aa3b0bc73498": {
          "model_module": "@jupyter-widgets/controls",
          "model_name": "FloatProgressModel",
          "model_module_version": "1.5.0",
          "state": {
            "_view_name": "ProgressView",
            "style": "IPY_MODEL_8bfa0792a1bc473e92cb1c690552aef4",
            "_dom_classes": [],
            "description": "",
            "_model_name": "FloatProgressModel",
            "bar_style": "success",
            "max": 14212972,
            "_view_module": "@jupyter-widgets/controls",
            "_model_module_version": "1.5.0",
            "value": 14212972,
            "_view_count": null,
            "_view_module_version": "1.5.0",
            "orientation": "horizontal",
            "min": 0,
            "description_tooltip": null,
            "_model_module": "@jupyter-widgets/controls",
            "layout": "IPY_MODEL_c8605fef8a574611ac8e962448f38e71"
          }
        },
        "a627ccd70add45ec85c723c1d5bd6514": {
          "model_module": "@jupyter-widgets/controls",
          "model_name": "HTMLModel",
          "model_module_version": "1.5.0",
          "state": {
            "_view_name": "HTMLView",
            "style": "IPY_MODEL_8a8316afecc14eb597a4bc7c27aeb538",
            "_dom_classes": [],
            "description": "",
            "_model_name": "HTMLModel",
            "placeholder": "​",
            "_view_module": "@jupyter-widgets/controls",
            "_model_module_version": "1.5.0",
            "value": " 13.6M/13.6M [00:00&lt;00:00, 70.3MB/s]",
            "_view_count": null,
            "_view_module_version": "1.5.0",
            "description_tooltip": null,
            "_model_module": "@jupyter-widgets/controls",
            "layout": "IPY_MODEL_dade9fa59eb7459a8796d7ed84e23ac9"
          }
        },
        "83dfec0ac1934a7987b322f0696e52da": {
          "model_module": "@jupyter-widgets/controls",
          "model_name": "DescriptionStyleModel",
          "model_module_version": "1.5.0",
          "state": {
            "_view_name": "StyleView",
            "_model_name": "DescriptionStyleModel",
            "description_width": "",
            "_view_module": "@jupyter-widgets/base",
            "_model_module_version": "1.5.0",
            "_view_count": null,
            "_view_module_version": "1.2.0",
            "_model_module": "@jupyter-widgets/controls"
          }
        },
        "4dec695534d74bf6a5afcbcd73c751db": {
          "model_module": "@jupyter-widgets/base",
          "model_name": "LayoutModel",
          "model_module_version": "1.2.0",
          "state": {
            "_view_name": "LayoutView",
            "grid_template_rows": null,
            "right": null,
            "justify_content": null,
            "_view_module": "@jupyter-widgets/base",
            "overflow": null,
            "_model_module_version": "1.2.0",
            "_view_count": null,
            "flex_flow": null,
            "width": null,
            "min_width": null,
            "border": null,
            "align_items": null,
            "bottom": null,
            "_model_module": "@jupyter-widgets/base",
            "top": null,
            "grid_column": null,
            "overflow_y": null,
            "overflow_x": null,
            "grid_auto_flow": null,
            "grid_area": null,
            "grid_template_columns": null,
            "flex": null,
            "_model_name": "LayoutModel",
            "justify_items": null,
            "grid_row": null,
            "max_height": null,
            "align_content": null,
            "visibility": null,
            "align_self": null,
            "height": null,
            "min_height": null,
            "padding": null,
            "grid_auto_rows": null,
            "grid_gap": null,
            "max_width": null,
            "order": null,
            "_view_module_version": "1.2.0",
            "grid_template_areas": null,
            "object_position": null,
            "object_fit": null,
            "grid_auto_columns": null,
            "margin": null,
            "display": null,
            "left": null
          }
        },
        "8bfa0792a1bc473e92cb1c690552aef4": {
          "model_module": "@jupyter-widgets/controls",
          "model_name": "ProgressStyleModel",
          "model_module_version": "1.5.0",
          "state": {
            "_view_name": "StyleView",
            "_model_name": "ProgressStyleModel",
            "description_width": "",
            "_view_module": "@jupyter-widgets/base",
            "_model_module_version": "1.5.0",
            "_view_count": null,
            "_view_module_version": "1.2.0",
            "bar_color": null,
            "_model_module": "@jupyter-widgets/controls"
          }
        },
        "c8605fef8a574611ac8e962448f38e71": {
          "model_module": "@jupyter-widgets/base",
          "model_name": "LayoutModel",
          "model_module_version": "1.2.0",
          "state": {
            "_view_name": "LayoutView",
            "grid_template_rows": null,
            "right": null,
            "justify_content": null,
            "_view_module": "@jupyter-widgets/base",
            "overflow": null,
            "_model_module_version": "1.2.0",
            "_view_count": null,
            "flex_flow": null,
            "width": null,
            "min_width": null,
            "border": null,
            "align_items": null,
            "bottom": null,
            "_model_module": "@jupyter-widgets/base",
            "top": null,
            "grid_column": null,
            "overflow_y": null,
            "overflow_x": null,
            "grid_auto_flow": null,
            "grid_area": null,
            "grid_template_columns": null,
            "flex": null,
            "_model_name": "LayoutModel",
            "justify_items": null,
            "grid_row": null,
            "max_height": null,
            "align_content": null,
            "visibility": null,
            "align_self": null,
            "height": null,
            "min_height": null,
            "padding": null,
            "grid_auto_rows": null,
            "grid_gap": null,
            "max_width": null,
            "order": null,
            "_view_module_version": "1.2.0",
            "grid_template_areas": null,
            "object_position": null,
            "object_fit": null,
            "grid_auto_columns": null,
            "margin": null,
            "display": null,
            "left": null
          }
        },
        "8a8316afecc14eb597a4bc7c27aeb538": {
          "model_module": "@jupyter-widgets/controls",
          "model_name": "DescriptionStyleModel",
          "model_module_version": "1.5.0",
          "state": {
            "_view_name": "StyleView",
            "_model_name": "DescriptionStyleModel",
            "description_width": "",
            "_view_module": "@jupyter-widgets/base",
            "_model_module_version": "1.5.0",
            "_view_count": null,
            "_view_module_version": "1.2.0",
            "_model_module": "@jupyter-widgets/controls"
          }
        },
        "dade9fa59eb7459a8796d7ed84e23ac9": {
          "model_module": "@jupyter-widgets/base",
          "model_name": "LayoutModel",
          "model_module_version": "1.2.0",
          "state": {
            "_view_name": "LayoutView",
            "grid_template_rows": null,
            "right": null,
            "justify_content": null,
            "_view_module": "@jupyter-widgets/base",
            "overflow": null,
            "_model_module_version": "1.2.0",
            "_view_count": null,
            "flex_flow": null,
            "width": null,
            "min_width": null,
            "border": null,
            "align_items": null,
            "bottom": null,
            "_model_module": "@jupyter-widgets/base",
            "top": null,
            "grid_column": null,
            "overflow_y": null,
            "overflow_x": null,
            "grid_auto_flow": null,
            "grid_area": null,
            "grid_template_columns": null,
            "flex": null,
            "_model_name": "LayoutModel",
            "justify_items": null,
            "grid_row": null,
            "max_height": null,
            "align_content": null,
            "visibility": null,
            "align_self": null,
            "height": null,
            "min_height": null,
            "padding": null,
            "grid_auto_rows": null,
            "grid_gap": null,
            "max_width": null,
            "order": null,
            "_view_module_version": "1.2.0",
            "grid_template_areas": null,
            "object_position": null,
            "object_fit": null,
            "grid_auto_columns": null,
            "margin": null,
            "display": null,
            "left": null
          }
        }
      }
    }
  },
  "cells": [
    {
      "cell_type": "markdown",
      "metadata": {
        "id": "view-in-github",
        "colab_type": "text"
      },
      "source": [
        "<a href=\"https://colab.research.google.com/github/jmarrietar/ocular/blob/master/notebooks/KD_DR.ipynb\" target=\"_parent\"><img src=\"https://colab.research.google.com/assets/colab-badge.svg\" alt=\"Open In Colab\"/></a>"
      ]
    },
    {
      "cell_type": "code",
      "metadata": {
        "colab": {
          "base_uri": "https://localhost:8080/"
        },
        "id": "PgtmUMxXD-oQ",
        "outputId": "0cb22160-be52-4ece-b30f-b99818d4042f"
      },
      "source": [
        "!nvidia-smi"
      ],
      "execution_count": null,
      "outputs": [
        {
          "output_type": "stream",
          "text": [
            "Tue Aug 24 13:27:59 2021       \n",
            "+-----------------------------------------------------------------------------+\n",
            "| NVIDIA-SMI 470.57.02    Driver Version: 460.32.03    CUDA Version: 11.2     |\n",
            "|-------------------------------+----------------------+----------------------+\n",
            "| GPU  Name        Persistence-M| Bus-Id        Disp.A | Volatile Uncorr. ECC |\n",
            "| Fan  Temp  Perf  Pwr:Usage/Cap|         Memory-Usage | GPU-Util  Compute M. |\n",
            "|                               |                      |               MIG M. |\n",
            "|===============================+======================+======================|\n",
            "|   0  Tesla P100-PCIE...  Off  | 00000000:00:04.0 Off |                    0 |\n",
            "| N/A   37C    P0    26W / 250W |      0MiB / 16280MiB |      0%      Default |\n",
            "|                               |                      |                  N/A |\n",
            "+-------------------------------+----------------------+----------------------+\n",
            "                                                                               \n",
            "+-----------------------------------------------------------------------------+\n",
            "| Processes:                                                                  |\n",
            "|  GPU   GI   CI        PID   Type   Process name                  GPU Memory |\n",
            "|        ID   ID                                                   Usage      |\n",
            "|=============================================================================|\n",
            "|  No running processes found                                                 |\n",
            "+-----------------------------------------------------------------------------+\n"
          ],
          "name": "stdout"
        }
      ]
    },
    {
      "cell_type": "code",
      "metadata": {
        "colab": {
          "base_uri": "https://localhost:8080/"
        },
        "id": "im0FJRKqb11N",
        "outputId": "73fe97b8-70c5-437c-e197-1f5ea7f45688"
      },
      "source": [
        "!git clone -b develop-jose https://github.com/jmarrietar/Knowledge-Distillation-Zoo.git"
      ],
      "execution_count": null,
      "outputs": [
        {
          "output_type": "stream",
          "text": [
            "Cloning into 'Knowledge-Distillation-Zoo'...\n",
            "remote: Enumerating objects: 193, done.\u001b[K\n",
            "remote: Counting objects: 100% (140/140), done.\u001b[K\n",
            "remote: Compressing objects: 100% (124/124), done.\u001b[K\n",
            "remote: Total 193 (delta 71), reused 54 (delta 15), pack-reused 53\u001b[K\n",
            "Receiving objects: 100% (193/193), 85.34 KiB | 7.76 MiB/s, done.\n",
            "Resolving deltas: 100% (103/103), done.\n"
          ],
          "name": "stdout"
        }
      ]
    },
    {
      "cell_type": "code",
      "metadata": {
        "colab": {
          "base_uri": "https://localhost:8080/"
        },
        "id": "EwwI4Ztab5yt",
        "outputId": "25c69075-9aac-4c4d-dede-e4b231e691f2"
      },
      "source": [
        "cd Knowledge-Distillation-Zoo"
      ],
      "execution_count": null,
      "outputs": [
        {
          "output_type": "stream",
          "text": [
            "/content/Knowledge-Distillation-Zoo\n"
          ],
          "name": "stdout"
        }
      ]
    },
    {
      "cell_type": "code",
      "metadata": {
        "id": "j8bM_qLtshDB"
      },
      "source": [
        "#!pip install cloud-tpu-client==0.10 torch==1.8.1 https://storage.googleapis.com/tpu-pytorch/wheels/torch_xla-1.8.1-cp37-cp37m-linux_x86_64.whl tensorboard-plugin-profile"
      ],
      "execution_count": null,
      "outputs": []
    },
    {
      "cell_type": "code",
      "metadata": {
        "id": "CZ9mVy_5sjwP"
      },
      "source": [
        "#!pip uninstall torch -y\n",
        "#!pip install torch==1.8.1"
      ],
      "execution_count": null,
      "outputs": []
    },
    {
      "cell_type": "code",
      "metadata": {
        "id": "S4hgVukag6x6"
      },
      "source": [
        "from __future__ import absolute_import\n",
        "from __future__ import print_function\n",
        "from __future__ import division\n",
        "import os\n",
        "import sys\n",
        "import time\n",
        "import logging\n",
        "import argparse\n",
        "import numpy as np\n",
        "from itertools import chain\n",
        "\n",
        "import torch\n",
        "import torch.nn as nn\n",
        "import torch.nn.functional as F\n",
        "import torch.backends.cudnn as cudnn\n",
        "import torchvision.transforms as transforms\n",
        "import torchvision.datasets as dst\n",
        "import torchvision\n",
        "\n",
        "from __future__ import absolute_import\n",
        "from __future__ import print_function\n",
        "from __future__ import division\n",
        "import torch\n",
        "import torch.nn as nn\n",
        "import torch.nn.functional as F"
      ],
      "execution_count": null,
      "outputs": []
    },
    {
      "cell_type": "code",
      "metadata": {
        "id": "ZCWrbejNpV4N"
      },
      "source": [
        "import torch\n",
        "import sys\n",
        "import numpy as np\n",
        "import os\n",
        "import yaml\n",
        "import matplotlib.pyplot as plt\n",
        "import torchvision\n",
        "\n",
        "from google.colab import auth, drive\n",
        "from googleapiclient.discovery import build\n",
        "from googleapiclient.http import MediaFileUpload"
      ],
      "execution_count": null,
      "outputs": []
    },
    {
      "cell_type": "code",
      "metadata": {
        "id": "qox2FakY0Tik"
      },
      "source": [
        "def accuracy(output, target, topk=(1,)):\n",
        "\t\"\"\"Computes the precision@k for the specified values of k\"\"\"\n",
        "\tmaxk = max(topk)\n",
        "\tbatch_size = target.size(0)\n",
        "\n",
        "\t_, pred = output.topk(maxk, 1, True, True)\n",
        "\tpred    = pred.t()\n",
        "\tcorrect = pred.eq(target.view(1, -1).expand_as(pred))\n",
        "\n",
        "\tres = []\n",
        "\tfor k in topk:\n",
        "\t\tcorrect_k = correct[:k].view(-1).float().sum(0)\n",
        "\t\tres.append(correct_k.mul_(100.0 / batch_size))\n",
        "\treturn res"
      ],
      "execution_count": null,
      "outputs": []
    },
    {
      "cell_type": "code",
      "metadata": {
        "id": "hmb43HBkq4_i"
      },
      "source": [
        "from torchvision.transforms import transforms"
      ],
      "execution_count": null,
      "outputs": []
    },
    {
      "cell_type": "code",
      "metadata": {
        "id": "UDERtYUuqoN4"
      },
      "source": [
        "class GaussianBlur(object):\n",
        "    def __init__(self, p=0.5, radius_min=0.1, radius_max=2.0):\n",
        "        self.prob = p\n",
        "        self.radius_min = radius_min\n",
        "        self.radius_max = radius_max\n",
        "\n",
        "    def __call__(self, img):\n",
        "        if torch.bernoulli(torch.tensor(self.prob)) == 0:\n",
        "            return img\n",
        "\n",
        "        radius = self.radius_min + torch.rand(1) * (self.radius_max - self.radius_min)\n",
        "        return img.filter(ImageFilter.GaussianBlur(radius=radius))"
      ],
      "execution_count": null,
      "outputs": []
    },
    {
      "cell_type": "code",
      "metadata": {
        "colab": {
          "base_uri": "https://localhost:8080/"
        },
        "id": "Qqt1pcJRpYME",
        "outputId": "3aea1898-a684-446d-cf44-b84d814e76ce"
      },
      "source": [
        "# Mount Drive\n",
        "drive.mount('/content/drive')\n",
        "auth.authenticate_user()"
      ],
      "execution_count": null,
      "outputs": [
        {
          "output_type": "stream",
          "text": [
            "Mounted at /content/drive\n"
          ],
          "name": "stdout"
        }
      ]
    },
    {
      "cell_type": "code",
      "metadata": {
        "colab": {
          "base_uri": "https://localhost:8080/"
        },
        "id": "5BQqv_ga1_5N",
        "outputId": "f9ef0a1e-d62b-426a-8cb3-864298e4733d"
      },
      "source": [
        "cd .."
      ],
      "execution_count": null,
      "outputs": [
        {
          "output_type": "stream",
          "text": [
            "/content\n"
          ],
          "name": "stdout"
        }
      ]
    },
    {
      "cell_type": "code",
      "metadata": {
        "id": "mqaMrB_IpZug"
      },
      "source": [
        "import gdown\n",
        "\n",
        "def download(data, url):\n",
        "    # Download dataset\n",
        "    import zipfile\n",
        "    url = url\n",
        "    output = \"{}.zip\".format(data)\n",
        "    gdown.download(url, output, quiet=False)\n",
        "\n",
        "    # Uncompress dataset\n",
        "    local_zip = '{}.zip'.format(data)\n",
        "    zip_ref = zipfile.ZipFile(local_zip, \"r\")\n",
        "    zip_ref.extractall()\n",
        "    zip_ref.close()"
      ],
      "execution_count": null,
      "outputs": []
    },
    {
      "cell_type": "code",
      "metadata": {
        "id": "ly5R0jPyofA8"
      },
      "source": [
        "def get_model_property(key):\n",
        "  default_model_property = {\n",
        "      'img_dim': 224,\n",
        "      'model_fn': getattr(torchvision.models, FLAGS.model)\n",
        "  }\n",
        "  model_properties = {\n",
        "      'inception_v3': {\n",
        "          'img_dim': 299,\n",
        "          'model_fn': lambda: torchvision.models.inception_v3(aux_logits=False)\n",
        "      },\n",
        "  }\n",
        "  model_fn = model_properties.get(FLAGS.model, default_model_property)[key]\n",
        "  return model_fn"
      ],
      "execution_count": null,
      "outputs": []
    },
    {
      "cell_type": "code",
      "metadata": {
        "colab": {
          "base_uri": "https://localhost:8080/",
          "height": 69
        },
        "id": "5sYBpSrGbgXg",
        "outputId": "10eb3e00-2885-4ebd-f1e5-cd7743140b24"
      },
      "source": [
        "\"\"\"\n",
        "def adjust_lr_init(optimizer, epoch):\n",
        "\tscale   = 0.1\n",
        "\tlr_list = [args.lr*scale] * 30\n",
        "\tlr_list += [args.lr*scale*scale] * 10\n",
        "\tlr_list += [args.lr*scale*scale*scale] * 10\n",
        "\n",
        "\tlr = lr_list[epoch-1]\n",
        "\tlogging.info('Epoch: {}  lr: {:.4f}'.format(epoch, lr))\n",
        "\tfor param_group in optimizer.param_groups:\n",
        "\t\tparam_group['lr'] = lr\n",
        "\"\"\""
      ],
      "execution_count": null,
      "outputs": [
        {
          "output_type": "execute_result",
          "data": {
            "application/vnd.google.colaboratory.intrinsic+json": {
              "type": "string"
            },
            "text/plain": [
              "\"\\ndef adjust_lr_init(optimizer, epoch):\\n\\tscale   = 0.1\\n\\tlr_list = [args.lr*scale] * 30\\n\\tlr_list += [args.lr*scale*scale] * 10\\n\\tlr_list += [args.lr*scale*scale*scale] * 10\\n\\n\\tlr = lr_list[epoch-1]\\n\\tlogging.info('Epoch: {}  lr: {:.4f}'.format(epoch, lr))\\n\\tfor param_group in optimizer.param_groups:\\n\\t\\tparam_group['lr'] = lr\\n\""
            ]
          },
          "metadata": {},
          "execution_count": 13
        }
      ]
    },
    {
      "cell_type": "code",
      "metadata": {
        "id": "1ixlRQzbpuvS"
      },
      "source": [
        "data_samples = {\n",
        "    \"sample@200\": \"https://drive.google.com/uc?id=1FfV7YyDJvNUCDP5r3-8iQfZ2-xJp_pgb\",\n",
        "    \"sample@500\": \"https://drive.google.com/uc?id=1dHwUqpmSogEdjAB9rwDUL-OKFRUcVXte\",\n",
        "    \"sample@1000\": \"https://drive.google.com/uc?id=1DPZrHrj3Bdte5Dc6NCZ33CAqMG-Oipa2\",\n",
        "    \"sample@2000\": \"https://drive.google.com/uc?id=1PB7uGd-dUnZKnKZpZl-HvE1DVcWgX50F\",\n",
        "    \"sample@3000\": \"https://drive.google.com/uc?id=1_yre5K9YYvJgSrT4xvrI8eD_htucIywA\",\n",
        "    \"sample@4000_images\": \"https://drive.google.com/uc?id=1dqVB8EozEpwWzyuU80AauoQmsiw3Gtm2\",\n",
        "    \"sample@20000\": \"https://drive.google.com/uc?id=1MTDpLzpmhSiZq2jSdmHx2UDPn9FC8gzO\",\n",
        "    \"val-voets-tf\": \"https://drive.google.com/uc?id=1VzVgMGTkBBPG2qbzLunD9HvLzH6tcyrv\",\n",
        "    \"train_voets\": \"https://drive.google.com/uc?id=1AmcFh1MOOZ6aqKm2eO7XEdgmIEqHKTZ5\",\n",
        "    \"voets_test_images\": \"https://drive.google.com/uc?id=15S_V3B_Z3BOjCT3AbO2c887FyS5B0Lyd\"\n",
        "}"
      ],
      "execution_count": null,
      "outputs": []
    },
    {
      "cell_type": "code",
      "metadata": {
        "id": "WbyqP5hKpxrX"
      },
      "source": [
        "LABELED = 'sample@1000'"
      ],
      "execution_count": null,
      "outputs": []
    },
    {
      "cell_type": "code",
      "metadata": {
        "id": "fjiev4tuX2S8"
      },
      "source": [
        "UNLABELED = 'sample@20000'"
      ],
      "execution_count": null,
      "outputs": []
    },
    {
      "cell_type": "code",
      "metadata": {
        "colab": {
          "base_uri": "https://localhost:8080/"
        },
        "id": "GebGRfl0py7_",
        "outputId": "264a10cb-021c-4559-9bc9-e5b5ade5ddb0"
      },
      "source": [
        "URL_UNLABELED = data_samples[UNLABELED]\n",
        "download(UNLABELED, URL_UNLABELED)"
      ],
      "execution_count": null,
      "outputs": [
        {
          "output_type": "stream",
          "text": [
            "Downloading...\n",
            "From: https://drive.google.com/uc?id=1MTDpLzpmhSiZq2jSdmHx2UDPn9FC8gzO\n",
            "To: /content/sample@20000.zip\n",
            "1.08GB [00:09, 113MB/s]\n"
          ],
          "name": "stderr"
        }
      ]
    },
    {
      "cell_type": "code",
      "metadata": {
        "colab": {
          "base_uri": "https://localhost:8080/"
        },
        "id": "50M48gGVpJ7c",
        "outputId": "6b1ec0fa-32a1-4c99-f691-84185fe3a8f0"
      },
      "source": [
        "!wget \"https://raw.githubusercontent.com/pytorch/xla/master/test/args_parse.py\""
      ],
      "execution_count": null,
      "outputs": [
        {
          "output_type": "stream",
          "text": [
            "--2021-08-24 13:31:08--  https://raw.githubusercontent.com/pytorch/xla/master/test/args_parse.py\n",
            "Resolving raw.githubusercontent.com (raw.githubusercontent.com)... 185.199.108.133, 185.199.111.133, 185.199.110.133, ...\n",
            "Connecting to raw.githubusercontent.com (raw.githubusercontent.com)|185.199.108.133|:443... connected.\n",
            "HTTP request sent, awaiting response... 200 OK\n",
            "Length: 2036 (2.0K) [text/plain]\n",
            "Saving to: ‘args_parse.py’\n",
            "\n",
            "\rargs_parse.py         0%[                    ]       0  --.-KB/s               \rargs_parse.py       100%[===================>]   1.99K  --.-KB/s    in 0s      \n",
            "\n",
            "2021-08-24 13:31:09 (27.9 MB/s) - ‘args_parse.py’ saved [2036/2036]\n",
            "\n"
          ],
          "name": "stdout"
        }
      ]
    },
    {
      "cell_type": "code",
      "metadata": {
        "id": "kqBt8ffVpME3"
      },
      "source": [
        "import args_parse\n",
        "\n",
        "SUPPORTED_MODELS = [\n",
        "    'alexnet', 'densenet121', 'densenet161', 'densenet169', 'densenet201',\n",
        "    'inception_v3', 'resnet101', 'resnet152', 'resnet18', 'resnet34',\n",
        "    'resnet50', 'squeezenet1_0', 'squeezenet1_1', 'vgg11', 'vgg11_bn', 'vgg13',\n",
        "    'vgg13_bn', 'vgg16', 'vgg16_bn', 'vgg19', 'vgg19_bn'\n",
        "]\n",
        "\n",
        "MODEL_OPTS = {\n",
        "    '--model': {\n",
        "        'choices': SUPPORTED_MODELS,\n",
        "        'default': 'resnet50',\n",
        "    },\n",
        "    '--test_set_batch_size': {\n",
        "        'type': int,\n",
        "    },\n",
        "    '--lr_scheduler_type': {\n",
        "        'type': str,\n",
        "    },\n",
        "    '--lr_scheduler_divide_every_n_epochs': {\n",
        "        'type': int,\n",
        "    },\n",
        "    '--lr_scheduler_divisor': {\n",
        "        'type': int,\n",
        "    },\n",
        "    '--test_only_at_end': {\n",
        "        'action': 'store_true',\n",
        "    },\n",
        "}"
      ],
      "execution_count": null,
      "outputs": []
    },
    {
      "cell_type": "code",
      "metadata": {
        "id": "LMYCSQfBpN-_"
      },
      "source": [
        "FLAGS = args_parse.parse_common_options(\n",
        "    datadir=UNLABELED,\n",
        "    batch_size=None,\n",
        "    num_epochs=None,\n",
        "    momentum=None,\n",
        "    lr=None,\n",
        "    target_accuracy=None,\n",
        "    profiler_port=9012,\n",
        "    opts=MODEL_OPTS.items(),\n",
        ")"
      ],
      "execution_count": null,
      "outputs": []
    },
    {
      "cell_type": "code",
      "metadata": {
        "id": "5UPvc_YQpPJU"
      },
      "source": [
        "EPOCHS = 200"
      ],
      "execution_count": null,
      "outputs": []
    },
    {
      "cell_type": "code",
      "metadata": {
        "id": "gt7PTK0TpPRH"
      },
      "source": [
        "FLAGS.fake_data = False\n",
        "FLAGS.num_epochs = EPOCHS\n",
        "FLAGS.batch_size = 64\n",
        "FLAGS.log_steps = 100\n",
        "FLAGS.num_cores = 8"
      ],
      "execution_count": null,
      "outputs": []
    },
    {
      "cell_type": "code",
      "metadata": {
        "id": "FrvbLMlpotGg"
      },
      "source": [
        "device = torch.device('cuda' if torch.cuda.is_available() else 'cpu')"
      ],
      "execution_count": null,
      "outputs": []
    },
    {
      "cell_type": "code",
      "metadata": {
        "id": "Mj8X_5Jio6aR",
        "colab": {
          "base_uri": "https://localhost:8080/",
          "height": 86,
          "referenced_widgets": [
            "5794e8e766b84422b226feb489ddff01",
            "a17215e7dc184390b432c586ebeb99af",
            "f27ee4efd9ad40b7a398069f05a61f4b",
            "4d75d0c76d32403e9801aa3b0bc73498",
            "a627ccd70add45ec85c723c1d5bd6514",
            "83dfec0ac1934a7987b322f0696e52da",
            "4dec695534d74bf6a5afcbcd73c751db",
            "8bfa0792a1bc473e92cb1c690552aef4",
            "c8605fef8a574611ac8e962448f38e71",
            "8a8316afecc14eb597a4bc7c27aeb538",
            "dade9fa59eb7459a8796d7ed84e23ac9"
          ]
        },
        "outputId": "ed6dbb72-bfef-46dc-c8ba-1c96602a4ac0"
      },
      "source": [
        "#model1 = get_model_property('model_fn')().to(device)\n",
        "model1 = torchvision.models.mobilenet_v2(pretrained=True).to(device)\n",
        "\n",
        "model1.classifier = nn.Sequential(\n",
        "      nn.Linear(1280, 512),\n",
        "      nn.Linear(512, 1),\n",
        "      nn.Sigmoid()\n",
        "  ).to(device)"
      ],
      "execution_count": null,
      "outputs": [
        {
          "output_type": "stream",
          "text": [
            "Downloading: \"https://download.pytorch.org/models/mobilenet_v2-b0353104.pth\" to /root/.cache/torch/hub/checkpoints/mobilenet_v2-b0353104.pth\n"
          ],
          "name": "stderr"
        },
        {
          "output_type": "display_data",
          "data": {
            "application/vnd.jupyter.widget-view+json": {
              "model_id": "5794e8e766b84422b226feb489ddff01",
              "version_minor": 0,
              "version_major": 2
            },
            "text/plain": [
              "  0%|          | 0.00/13.6M [00:00<?, ?B/s]"
            ]
          },
          "metadata": {}
        }
      ]
    },
    {
      "cell_type": "code",
      "metadata": {
        "id": "E7b4QzlordWY"
      },
      "source": [
        "state_dict = torch.load('/content/drive/MyDrive/Colab Notebooks/SimCLR/models/SimCLR-1-DR-pytorch/net-DR-SimCLR-Finetuned-Test-{}.pt'.format(LABELED))"
      ],
      "execution_count": null,
      "outputs": []
    },
    {
      "cell_type": "code",
      "metadata": {
        "colab": {
          "base_uri": "https://localhost:8080/"
        },
        "id": "7tYiDxZaryue",
        "outputId": "ecd1a7b8-7281-4afa-f64b-6dd4a8d003c5"
      },
      "source": [
        "state_dict.keys()"
      ],
      "execution_count": null,
      "outputs": [
        {
          "output_type": "execute_result",
          "data": {
            "text/plain": [
              "dict_keys(['conv1.weight', 'bn1.weight', 'bn1.bias', 'bn1.running_mean', 'bn1.running_var', 'bn1.num_batches_tracked', 'layer1.0.conv1.weight', 'layer1.0.bn1.weight', 'layer1.0.bn1.bias', 'layer1.0.bn1.running_mean', 'layer1.0.bn1.running_var', 'layer1.0.bn1.num_batches_tracked', 'layer1.0.conv2.weight', 'layer1.0.bn2.weight', 'layer1.0.bn2.bias', 'layer1.0.bn2.running_mean', 'layer1.0.bn2.running_var', 'layer1.0.bn2.num_batches_tracked', 'layer1.0.conv3.weight', 'layer1.0.bn3.weight', 'layer1.0.bn3.bias', 'layer1.0.bn3.running_mean', 'layer1.0.bn3.running_var', 'layer1.0.bn3.num_batches_tracked', 'layer1.0.downsample.0.weight', 'layer1.0.downsample.1.weight', 'layer1.0.downsample.1.bias', 'layer1.0.downsample.1.running_mean', 'layer1.0.downsample.1.running_var', 'layer1.0.downsample.1.num_batches_tracked', 'layer1.1.conv1.weight', 'layer1.1.bn1.weight', 'layer1.1.bn1.bias', 'layer1.1.bn1.running_mean', 'layer1.1.bn1.running_var', 'layer1.1.bn1.num_batches_tracked', 'layer1.1.conv2.weight', 'layer1.1.bn2.weight', 'layer1.1.bn2.bias', 'layer1.1.bn2.running_mean', 'layer1.1.bn2.running_var', 'layer1.1.bn2.num_batches_tracked', 'layer1.1.conv3.weight', 'layer1.1.bn3.weight', 'layer1.1.bn3.bias', 'layer1.1.bn3.running_mean', 'layer1.1.bn3.running_var', 'layer1.1.bn3.num_batches_tracked', 'layer1.2.conv1.weight', 'layer1.2.bn1.weight', 'layer1.2.bn1.bias', 'layer1.2.bn1.running_mean', 'layer1.2.bn1.running_var', 'layer1.2.bn1.num_batches_tracked', 'layer1.2.conv2.weight', 'layer1.2.bn2.weight', 'layer1.2.bn2.bias', 'layer1.2.bn2.running_mean', 'layer1.2.bn2.running_var', 'layer1.2.bn2.num_batches_tracked', 'layer1.2.conv3.weight', 'layer1.2.bn3.weight', 'layer1.2.bn3.bias', 'layer1.2.bn3.running_mean', 'layer1.2.bn3.running_var', 'layer1.2.bn3.num_batches_tracked', 'layer2.0.conv1.weight', 'layer2.0.bn1.weight', 'layer2.0.bn1.bias', 'layer2.0.bn1.running_mean', 'layer2.0.bn1.running_var', 'layer2.0.bn1.num_batches_tracked', 'layer2.0.conv2.weight', 'layer2.0.bn2.weight', 'layer2.0.bn2.bias', 'layer2.0.bn2.running_mean', 'layer2.0.bn2.running_var', 'layer2.0.bn2.num_batches_tracked', 'layer2.0.conv3.weight', 'layer2.0.bn3.weight', 'layer2.0.bn3.bias', 'layer2.0.bn3.running_mean', 'layer2.0.bn3.running_var', 'layer2.0.bn3.num_batches_tracked', 'layer2.0.downsample.0.weight', 'layer2.0.downsample.1.weight', 'layer2.0.downsample.1.bias', 'layer2.0.downsample.1.running_mean', 'layer2.0.downsample.1.running_var', 'layer2.0.downsample.1.num_batches_tracked', 'layer2.1.conv1.weight', 'layer2.1.bn1.weight', 'layer2.1.bn1.bias', 'layer2.1.bn1.running_mean', 'layer2.1.bn1.running_var', 'layer2.1.bn1.num_batches_tracked', 'layer2.1.conv2.weight', 'layer2.1.bn2.weight', 'layer2.1.bn2.bias', 'layer2.1.bn2.running_mean', 'layer2.1.bn2.running_var', 'layer2.1.bn2.num_batches_tracked', 'layer2.1.conv3.weight', 'layer2.1.bn3.weight', 'layer2.1.bn3.bias', 'layer2.1.bn3.running_mean', 'layer2.1.bn3.running_var', 'layer2.1.bn3.num_batches_tracked', 'layer2.2.conv1.weight', 'layer2.2.bn1.weight', 'layer2.2.bn1.bias', 'layer2.2.bn1.running_mean', 'layer2.2.bn1.running_var', 'layer2.2.bn1.num_batches_tracked', 'layer2.2.conv2.weight', 'layer2.2.bn2.weight', 'layer2.2.bn2.bias', 'layer2.2.bn2.running_mean', 'layer2.2.bn2.running_var', 'layer2.2.bn2.num_batches_tracked', 'layer2.2.conv3.weight', 'layer2.2.bn3.weight', 'layer2.2.bn3.bias', 'layer2.2.bn3.running_mean', 'layer2.2.bn3.running_var', 'layer2.2.bn3.num_batches_tracked', 'layer2.3.conv1.weight', 'layer2.3.bn1.weight', 'layer2.3.bn1.bias', 'layer2.3.bn1.running_mean', 'layer2.3.bn1.running_var', 'layer2.3.bn1.num_batches_tracked', 'layer2.3.conv2.weight', 'layer2.3.bn2.weight', 'layer2.3.bn2.bias', 'layer2.3.bn2.running_mean', 'layer2.3.bn2.running_var', 'layer2.3.bn2.num_batches_tracked', 'layer2.3.conv3.weight', 'layer2.3.bn3.weight', 'layer2.3.bn3.bias', 'layer2.3.bn3.running_mean', 'layer2.3.bn3.running_var', 'layer2.3.bn3.num_batches_tracked', 'layer3.0.conv1.weight', 'layer3.0.bn1.weight', 'layer3.0.bn1.bias', 'layer3.0.bn1.running_mean', 'layer3.0.bn1.running_var', 'layer3.0.bn1.num_batches_tracked', 'layer3.0.conv2.weight', 'layer3.0.bn2.weight', 'layer3.0.bn2.bias', 'layer3.0.bn2.running_mean', 'layer3.0.bn2.running_var', 'layer3.0.bn2.num_batches_tracked', 'layer3.0.conv3.weight', 'layer3.0.bn3.weight', 'layer3.0.bn3.bias', 'layer3.0.bn3.running_mean', 'layer3.0.bn3.running_var', 'layer3.0.bn3.num_batches_tracked', 'layer3.0.downsample.0.weight', 'layer3.0.downsample.1.weight', 'layer3.0.downsample.1.bias', 'layer3.0.downsample.1.running_mean', 'layer3.0.downsample.1.running_var', 'layer3.0.downsample.1.num_batches_tracked', 'layer3.1.conv1.weight', 'layer3.1.bn1.weight', 'layer3.1.bn1.bias', 'layer3.1.bn1.running_mean', 'layer3.1.bn1.running_var', 'layer3.1.bn1.num_batches_tracked', 'layer3.1.conv2.weight', 'layer3.1.bn2.weight', 'layer3.1.bn2.bias', 'layer3.1.bn2.running_mean', 'layer3.1.bn2.running_var', 'layer3.1.bn2.num_batches_tracked', 'layer3.1.conv3.weight', 'layer3.1.bn3.weight', 'layer3.1.bn3.bias', 'layer3.1.bn3.running_mean', 'layer3.1.bn3.running_var', 'layer3.1.bn3.num_batches_tracked', 'layer3.2.conv1.weight', 'layer3.2.bn1.weight', 'layer3.2.bn1.bias', 'layer3.2.bn1.running_mean', 'layer3.2.bn1.running_var', 'layer3.2.bn1.num_batches_tracked', 'layer3.2.conv2.weight', 'layer3.2.bn2.weight', 'layer3.2.bn2.bias', 'layer3.2.bn2.running_mean', 'layer3.2.bn2.running_var', 'layer3.2.bn2.num_batches_tracked', 'layer3.2.conv3.weight', 'layer3.2.bn3.weight', 'layer3.2.bn3.bias', 'layer3.2.bn3.running_mean', 'layer3.2.bn3.running_var', 'layer3.2.bn3.num_batches_tracked', 'layer3.3.conv1.weight', 'layer3.3.bn1.weight', 'layer3.3.bn1.bias', 'layer3.3.bn1.running_mean', 'layer3.3.bn1.running_var', 'layer3.3.bn1.num_batches_tracked', 'layer3.3.conv2.weight', 'layer3.3.bn2.weight', 'layer3.3.bn2.bias', 'layer3.3.bn2.running_mean', 'layer3.3.bn2.running_var', 'layer3.3.bn2.num_batches_tracked', 'layer3.3.conv3.weight', 'layer3.3.bn3.weight', 'layer3.3.bn3.bias', 'layer3.3.bn3.running_mean', 'layer3.3.bn3.running_var', 'layer3.3.bn3.num_batches_tracked', 'layer3.4.conv1.weight', 'layer3.4.bn1.weight', 'layer3.4.bn1.bias', 'layer3.4.bn1.running_mean', 'layer3.4.bn1.running_var', 'layer3.4.bn1.num_batches_tracked', 'layer3.4.conv2.weight', 'layer3.4.bn2.weight', 'layer3.4.bn2.bias', 'layer3.4.bn2.running_mean', 'layer3.4.bn2.running_var', 'layer3.4.bn2.num_batches_tracked', 'layer3.4.conv3.weight', 'layer3.4.bn3.weight', 'layer3.4.bn3.bias', 'layer3.4.bn3.running_mean', 'layer3.4.bn3.running_var', 'layer3.4.bn3.num_batches_tracked', 'layer3.5.conv1.weight', 'layer3.5.bn1.weight', 'layer3.5.bn1.bias', 'layer3.5.bn1.running_mean', 'layer3.5.bn1.running_var', 'layer3.5.bn1.num_batches_tracked', 'layer3.5.conv2.weight', 'layer3.5.bn2.weight', 'layer3.5.bn2.bias', 'layer3.5.bn2.running_mean', 'layer3.5.bn2.running_var', 'layer3.5.bn2.num_batches_tracked', 'layer3.5.conv3.weight', 'layer3.5.bn3.weight', 'layer3.5.bn3.bias', 'layer3.5.bn3.running_mean', 'layer3.5.bn3.running_var', 'layer3.5.bn3.num_batches_tracked', 'layer4.0.conv1.weight', 'layer4.0.bn1.weight', 'layer4.0.bn1.bias', 'layer4.0.bn1.running_mean', 'layer4.0.bn1.running_var', 'layer4.0.bn1.num_batches_tracked', 'layer4.0.conv2.weight', 'layer4.0.bn2.weight', 'layer4.0.bn2.bias', 'layer4.0.bn2.running_mean', 'layer4.0.bn2.running_var', 'layer4.0.bn2.num_batches_tracked', 'layer4.0.conv3.weight', 'layer4.0.bn3.weight', 'layer4.0.bn3.bias', 'layer4.0.bn3.running_mean', 'layer4.0.bn3.running_var', 'layer4.0.bn3.num_batches_tracked', 'layer4.0.downsample.0.weight', 'layer4.0.downsample.1.weight', 'layer4.0.downsample.1.bias', 'layer4.0.downsample.1.running_mean', 'layer4.0.downsample.1.running_var', 'layer4.0.downsample.1.num_batches_tracked', 'layer4.1.conv1.weight', 'layer4.1.bn1.weight', 'layer4.1.bn1.bias', 'layer4.1.bn1.running_mean', 'layer4.1.bn1.running_var', 'layer4.1.bn1.num_batches_tracked', 'layer4.1.conv2.weight', 'layer4.1.bn2.weight', 'layer4.1.bn2.bias', 'layer4.1.bn2.running_mean', 'layer4.1.bn2.running_var', 'layer4.1.bn2.num_batches_tracked', 'layer4.1.conv3.weight', 'layer4.1.bn3.weight', 'layer4.1.bn3.bias', 'layer4.1.bn3.running_mean', 'layer4.1.bn3.running_var', 'layer4.1.bn3.num_batches_tracked', 'layer4.2.conv1.weight', 'layer4.2.bn1.weight', 'layer4.2.bn1.bias', 'layer4.2.bn1.running_mean', 'layer4.2.bn1.running_var', 'layer4.2.bn1.num_batches_tracked', 'layer4.2.conv2.weight', 'layer4.2.bn2.weight', 'layer4.2.bn2.bias', 'layer4.2.bn2.running_mean', 'layer4.2.bn2.running_var', 'layer4.2.bn2.num_batches_tracked', 'layer4.2.conv3.weight', 'layer4.2.bn3.weight', 'layer4.2.bn3.bias', 'layer4.2.bn3.running_mean', 'layer4.2.bn3.running_var', 'layer4.2.bn3.num_batches_tracked', 'fc.0.weight', 'fc.0.bias', 'fc.1.weight', 'fc.1.bias'])"
            ]
          },
          "metadata": {},
          "execution_count": 28
        }
      ]
    },
    {
      "cell_type": "code",
      "metadata": {
        "id": "yDHrWMZarasC"
      },
      "source": [
        "#log = model1.load_state_dict(state_dict, strict=False)\n",
        "#print(log)"
      ],
      "execution_count": null,
      "outputs": []
    },
    {
      "cell_type": "code",
      "metadata": {
        "id": "BTIGHmNYp4Xm"
      },
      "source": [
        "model2 = get_model_property('model_fn')().to(device)\n",
        "\n",
        "model2.fc = nn.Sequential(\n",
        "      nn.Linear(2048, 512),\n",
        "      nn.Linear(512, 1),\n",
        "      nn.Sigmoid()\n",
        "  ).to(device)"
      ],
      "execution_count": null,
      "outputs": []
    },
    {
      "cell_type": "code",
      "metadata": {
        "colab": {
          "base_uri": "https://localhost:8080/"
        },
        "id": "ffA2kqYBuccS",
        "outputId": "b6f9257b-218b-4427-f5a3-e9821c657301"
      },
      "source": [
        "log = model2.load_state_dict(state_dict, strict=False)\n",
        "print(log)"
      ],
      "execution_count": null,
      "outputs": [
        {
          "output_type": "stream",
          "text": [
            "<All keys matched successfully>\n"
          ],
          "name": "stdout"
        }
      ]
    },
    {
      "cell_type": "code",
      "metadata": {
        "colab": {
          "base_uri": "https://localhost:8080/"
        },
        "id": "YBq_qgdQviOz",
        "outputId": "c745cfbb-048a-4292-be5d-b5b531fcb94b"
      },
      "source": [
        "parser = argparse.ArgumentParser(description='train kd')\n",
        "\n",
        "# various path\n",
        "parser.add_argument('--save_root', type=str, default='./results', help='models and logs are saved here')\n",
        "parser.add_argument('--img_root', type=str, default='./datasets', help='path name of image dataset')\n",
        "parser.add_argument('--s_init', type=str, required=True, help='initial parameters of student model')\n",
        "parser.add_argument('--t_model', type=str, required=True, help='path name of teacher model')\n",
        "\n",
        "# training hyper parameters\n",
        "parser.add_argument('--print_freq', type=int, default=50, help='frequency of showing training results on console')\n",
        "parser.add_argument('--epochs', type=int, default=200, help='number of total epochs to run')\n",
        "parser.add_argument('--batch_size', type=int, default=128, help='The size of batch')\n",
        "parser.add_argument('--lr', type=float, default=0.1, help='initial learning rate')\n",
        "parser.add_argument('--momentum', type=float, default=0.9, help='momentum')\n",
        "parser.add_argument('--weight_decay', type=float, default=1e-4, help='weight decay')\n",
        "parser.add_argument('--num_class', type=int, default=10, help='number of classes')\n",
        "parser.add_argument('--cuda', type=int, default=1)\n",
        "\n",
        "# others\n",
        "parser.add_argument('--seed', type=int, default=2, help='random seed')\n",
        "parser.add_argument('--note', type=str, default='try', help='note for this run')\n",
        "\n",
        "# net and dataset choosen\n",
        "parser.add_argument('--data_name', type=str, required=True, help='name of dataset') # cifar10/cifar100\n",
        "parser.add_argument('--t_name', type=str, required=True, help='name of teacher')    # resnet20/resnet110\n",
        "parser.add_argument('--s_name', type=str, required=True, help='name of student')    # resnet20/resnet110\n",
        "\n",
        "# hyperparameter\n",
        "parser.add_argument('--kd_mode', type=str, required=True, help='mode of kd, which can be:'\n",
        "\t\t\t\t\t\t\t\t\t\t\t\t\t\t\t   'logits/st/at/fitnet/nst/pkt/fsp/rkd/ab/'\n",
        "\t\t\t\t\t\t\t\t\t\t\t\t\t\t\t   'sp/sobolev/cc/lwm/irg/vid/ofd/afd')\n",
        "parser.add_argument('--lambda_kd', type=float, default=1.0, help='trade-off parameter for kd loss')\n",
        "parser.add_argument('--T', type=float, default=4.0, help='temperature for ST')\n",
        "parser.add_argument('--p', type=float, default=2.0, help='power for AT')\n",
        "parser.add_argument('--w_dist', type=float, default=25.0, help='weight for RKD distance')\n",
        "parser.add_argument('--w_angle', type=float, default=50.0, help='weight for RKD angle')\n",
        "parser.add_argument('--m', type=float, default=2.0, help='margin for AB')\n",
        "parser.add_argument('--gamma', type=float, default=0.4, help='gamma in Gaussian RBF for CC')\n",
        "parser.add_argument('--P_order', type=int, default=2, help='P-order Taylor series of Gaussian RBF for CC')\n",
        "parser.add_argument('--w_irg_vert', type=float, default=0.1, help='weight for IRG vertex')\n",
        "parser.add_argument('--w_irg_edge', type=float, default=5.0, help='weight for IRG edge')\n",
        "parser.add_argument('--w_irg_tran', type=float, default=5.0, help='weight for IRG transformation')\n",
        "parser.add_argument('--sf', type=float, default=1.0, help='scale factor for VID, i.e. mid_channels = sf * out_channels')\n",
        "parser.add_argument('--init_var', type=float, default=5.0, help='initial variance for VID')\n",
        "parser.add_argument('--att_f', type=float, default=1.0, help='attention factor of mid_channels for AFD')\n"
      ],
      "execution_count": null,
      "outputs": [
        {
          "output_type": "execute_result",
          "data": {
            "text/plain": [
              "_StoreAction(option_strings=['--att_f'], dest='att_f', nargs=None, const=None, default=1.0, type=<class 'float'>, choices=None, help='attention factor of mid_channels for AFD', metavar=None)"
            ]
          },
          "metadata": {},
          "execution_count": 32
        }
      ]
    },
    {
      "cell_type": "code",
      "metadata": {
        "id": "k4EABSlDvrgu"
      },
      "source": [
        "args, unparsed = parser.parse_known_args(['--save_root', './results/logits/',\n",
        "                                          '--t_model', './results/base/base-c10-r110/model_best.pth.tar',\n",
        "                                          '--s_init', './results/base/base-c10-r20/initial_r20.pth.tar',\n",
        "                                          '--data_name', 'DR',\n",
        "                                          '--batch_size', '32',\n",
        "                                          '--epochs', '100',\n",
        "                                          '--t_name', 'resnet110', \n",
        "                                          '--s_name', 'resnet20',\n",
        "                                          '--num_class', '2',\n",
        "                                          '--kd_mode', 'logits', \n",
        "                                          '--note', 'logits-c10-r110-r20',\n",
        "                                          '--print_freq', '30',\n",
        "                                          '--lr', '0.0001', \n",
        "                                          ])"
      ],
      "execution_count": null,
      "outputs": []
    },
    {
      "cell_type": "code",
      "metadata": {
        "id": "E8JXElI8msjO"
      },
      "source": [
        "class Logits(nn.Module):\n",
        "\t'''\n",
        "\tDo Deep Nets Really Need to be Deep?\n",
        "\thttp://papers.nips.cc/paper/5484-do-deep-nets-really-need-to-be-deep.pdf\n",
        "\t'''\n",
        "\tdef __init__(self):\n",
        "\t\tsuper(Logits, self).__init__()\n",
        "\n",
        "\tdef forward(self, out_s, out_t):\n",
        "\t\tloss = F.mse_loss(out_s, out_t)\n",
        "\n",
        "\t\treturn loss"
      ],
      "execution_count": null,
      "outputs": []
    },
    {
      "cell_type": "code",
      "metadata": {
        "colab": {
          "base_uri": "https://localhost:8080/",
          "height": 69
        },
        "id": "5K5ajkMln4rM",
        "outputId": "a5df638e-d9a2-45ba-c98e-a2edb9925187"
      },
      "source": [
        "\"\"\"\n",
        "def adjust_lr(optimizer, epoch):\n",
        "\tscale   = 0.1\n",
        "\tlr_list =  [args.lr] * 100\n",
        "\tlr_list += [args.lr*scale] * 50\n",
        "\tlr_list += [args.lr*scale*scale] * 50\n",
        "\n",
        "\tlr = lr_list[epoch-1]\n",
        "\tlogging.info('Epoch: {}  lr: {:.3f}'.format(epoch, lr))\n",
        "\tfor param_group in optimizer.param_groups:\n",
        "\t\tparam_group['lr'] = lr\n",
        "\"\"\""
      ],
      "execution_count": null,
      "outputs": [
        {
          "output_type": "execute_result",
          "data": {
            "application/vnd.google.colaboratory.intrinsic+json": {
              "type": "string"
            },
            "text/plain": [
              "\"\\ndef adjust_lr(optimizer, epoch):\\n\\tscale   = 0.1\\n\\tlr_list =  [args.lr] * 100\\n\\tlr_list += [args.lr*scale] * 50\\n\\tlr_list += [args.lr*scale*scale] * 50\\n\\n\\tlr = lr_list[epoch-1]\\n\\tlogging.info('Epoch: {}  lr: {:.3f}'.format(epoch, lr))\\n\\tfor param_group in optimizer.param_groups:\\n\\t\\tparam_group['lr'] = lr\\n\""
            ]
          },
          "metadata": {},
          "execution_count": 35
        }
      ]
    },
    {
      "cell_type": "code",
      "metadata": {
        "id": "e0VY4r_Rluej"
      },
      "source": [
        "snet = model1"
      ],
      "execution_count": null,
      "outputs": []
    },
    {
      "cell_type": "code",
      "metadata": {
        "id": "bW5xuaU1mF1r"
      },
      "source": [
        "tnet = model2"
      ],
      "execution_count": null,
      "outputs": []
    },
    {
      "cell_type": "code",
      "metadata": {
        "id": "OxiuKLr5mK6f"
      },
      "source": [
        "for param in tnet.parameters():\n",
        "  param.requires_grad = False"
      ],
      "execution_count": null,
      "outputs": []
    },
    {
      "cell_type": "code",
      "metadata": {
        "id": "SLgA1ct1mNck"
      },
      "source": [
        "logging.info('Teacher: %s', tnet)\n",
        "logging.info('-----------------------------------------------')"
      ],
      "execution_count": null,
      "outputs": []
    },
    {
      "cell_type": "code",
      "metadata": {
        "id": "AIruOautmRVF"
      },
      "source": [
        "criterionKD = Logits()"
      ],
      "execution_count": null,
      "outputs": []
    },
    {
      "cell_type": "code",
      "metadata": {
        "id": "Tk7UIeYFnbof"
      },
      "source": [
        "criterionCls = torch.nn.BCELoss()"
      ],
      "execution_count": null,
      "outputs": []
    },
    {
      "cell_type": "code",
      "metadata": {
        "id": "9Cjk86hNmugB"
      },
      "source": [
        "optimizer = torch.optim.SGD(snet.parameters(),\n",
        "              lr = args.lr, \n",
        "              momentum = args.momentum, \n",
        "              weight_decay = args.weight_decay,\n",
        "              nesterov = True)"
      ],
      "execution_count": null,
      "outputs": []
    },
    {
      "cell_type": "code",
      "metadata": {
        "id": "eMVBVwQYnAfz"
      },
      "source": [
        "mean = (0.4914, 0.4822, 0.4465)\n",
        "std  = (0.2470, 0.2435, 0.2616)"
      ],
      "execution_count": null,
      "outputs": []
    },
    {
      "cell_type": "code",
      "metadata": {
        "id": "HSbCw770nFYT"
      },
      "source": [
        "\"\"\"\n",
        "train_transform = transforms.Compose([\n",
        "    transforms.Pad(4, padding_mode='reflect'),\n",
        "    transforms.RandomCrop(224),\n",
        "    transforms.RandomHorizontalFlip(),\n",
        "    transforms.ToTensor(),\n",
        "    transforms.Normalize(mean=mean,std=std)\n",
        "  ])\n",
        "\"\"\""
      ],
      "execution_count": null,
      "outputs": []
    },
    {
      "cell_type": "code",
      "metadata": {
        "id": "R7WHMnAWyBc5"
      },
      "source": [
        "img_dim = get_model_property('img_dim')"
      ],
      "execution_count": null,
      "outputs": []
    },
    {
      "cell_type": "code",
      "metadata": {
        "id": "rffyofPlyHrE"
      },
      "source": [
        "normalize = transforms.Normalize(\n",
        "        mean=[0.485, 0.456, 0.406], std=[0.229, 0.224, 0.225])"
      ],
      "execution_count": null,
      "outputs": []
    },
    {
      "cell_type": "code",
      "metadata": {
        "id": "hfW6UtenxpK8"
      },
      "source": [
        "train_dataset = torchvision.datasets.ImageFolder(\n",
        "    os.path.join(FLAGS.datadir, 'train'),\n",
        "    transforms.Compose([\n",
        "        transforms.RandomResizedCrop(224),\n",
        "        transforms.RandomHorizontalFlip(),\n",
        "        transforms.ToTensor(),\n",
        "        normalize, \n",
        "    ]))"
      ],
      "execution_count": null,
      "outputs": []
    },
    {
      "cell_type": "code",
      "metadata": {
        "id": "kG9qSh1TnKVk"
      },
      "source": [
        "# Define data loader\n",
        "train_loader = torch.utils.data.DataLoader(\n",
        "    train_dataset,\n",
        "    batch_size=args.batch_size, \n",
        "    shuffle=True, \n",
        "    num_workers=2, \n",
        "    pin_memory=True)"
      ],
      "execution_count": null,
      "outputs": []
    },
    {
      "cell_type": "code",
      "metadata": {
        "id": "6Ka430uynfq6"
      },
      "source": [
        "# warp nets and criterions for train and test\n",
        "nets = {'snet':snet, 'tnet':tnet}\n",
        "criterions = {'criterionCls':criterionCls, 'criterionKD':criterionKD}"
      ],
      "execution_count": null,
      "outputs": []
    },
    {
      "cell_type": "code",
      "metadata": {
        "colab": {
          "base_uri": "https://localhost:8080/"
        },
        "id": "904stfiBd3Pw",
        "outputId": "3157b58f-671a-4a44-faa4-d996949888ba"
      },
      "source": [
        "cd Knowledge-Distillation-Zoo"
      ],
      "execution_count": null,
      "outputs": [
        {
          "output_type": "stream",
          "text": [
            "/content/Knowledge-Distillation-Zoo\n"
          ],
          "name": "stdout"
        }
      ]
    },
    {
      "cell_type": "code",
      "metadata": {
        "id": "KnA6CqfkbrNS"
      },
      "source": [
        "from utils import AverageMeter, accuracy, transform_time\n",
        "from utils import load_pretrained_model, save_checkpoint\n",
        "from utils import create_exp_dir, count_parameters_in_MB"
      ],
      "execution_count": null,
      "outputs": []
    },
    {
      "cell_type": "code",
      "metadata": {
        "colab": {
          "base_uri": "https://localhost:8080/"
        },
        "id": "ml-ZQRC4eCva",
        "outputId": "e793ae94-36e3-4f27-b150-577ea4a8a44f"
      },
      "source": [
        "cd .."
      ],
      "execution_count": null,
      "outputs": [
        {
          "output_type": "stream",
          "text": [
            "/content\n"
          ],
          "name": "stdout"
        }
      ]
    },
    {
      "cell_type": "code",
      "metadata": {
        "id": "CxW4saCGogUu"
      },
      "source": [
        "def train(train_loader, nets, optimizer, criterions, epoch):\n",
        "    batch_time = AverageMeter()\n",
        "    data_time  = AverageMeter()\n",
        "    cls_losses = AverageMeter()\n",
        "    kd_losses  = AverageMeter()\n",
        "    top1       = AverageMeter()\n",
        "    top5       = AverageMeter()\n",
        "\n",
        "    snet = nets['snet']\n",
        "    tnet = nets['tnet']\n",
        "\n",
        "    criterionCls = criterions['criterionCls']\n",
        "    criterionKD  = criterions['criterionKD']\n",
        "\n",
        "\n",
        "    snet.train()\n",
        "\n",
        "    if args.kd_mode in ['vid', 'ofd']:\n",
        "        for i in range(1,4):\n",
        "            criterionKD[i].train()\n",
        "\n",
        "    end = time.time()\n",
        "\n",
        "    for i, (img, target) in enumerate(train_loader, start=1):\n",
        "        data_time.update(time.time() - end)\n",
        "\n",
        "        if args.cuda:\n",
        "            img = img.cuda(non_blocking=True)\n",
        "            target = target.cuda(non_blocking=True)\n",
        "\n",
        "        if args.kd_mode in ['sobolev', 'lwm']:\n",
        "            img.requires_grad = True\n",
        "\n",
        "        out_s = snet(img)\n",
        "        out_t = tnet(img)\n",
        "\n",
        "        target = target.unsqueeze(1)\n",
        "        target = target.to(torch.float32)\n",
        "\n",
        "        cls_loss = 0 # YOOO\n",
        "        #cls_loss = criterionCls(out_s, target)\n",
        "\n",
        "        if args.kd_mode in ['logits', 'st']:\n",
        "            #kd_loss = criterionKD(out_s, out_t.detach()) * args.lambda_kd\n",
        "            kd_loss = criterionCls(out_s, out_t.detach()) # YOOOO\n",
        "\n",
        "        loss = kd_loss # YOOO\n",
        "        #loss = cls_loss + kd_loss\n",
        "\n",
        "        prec1 = accuracy(out_s, target, topk=(1,))\n",
        "\n",
        "        #cls_losses.update(cls_loss.item(), img.size(0))\n",
        "        kd_losses.update(kd_loss.item(), img.size(0))\n",
        "        top1.update(prec1[0].item(), img.size(0))\n",
        "\n",
        "        optimizer.zero_grad()\n",
        "        loss.backward()\n",
        "        optimizer.step()\n",
        "\n",
        "        batch_time.update(time.time() - end)\n",
        "        end = time.time()\n",
        "\n",
        "        if i % args.print_freq == 0:\n",
        "            log_str = ('Epoch[{0}]:[{1:03}/{2:03}] '\n",
        "                        'Time:{batch_time.val:.4f} '\n",
        "                        'Data:{data_time.val:.4f}  '\n",
        "                        'Cls:{cls_losses.val:.4f}({cls_losses.avg:.4f})  '\n",
        "                        'KD:{kd_losses.val:.4f}({kd_losses.avg:.4f})  '\n",
        "                        'prec@1:{top1.val:.2f}({top1.avg:.2f})  '.format(\n",
        "                        epoch, i, len(train_loader), batch_time=batch_time, data_time=data_time,\n",
        "                        cls_losses=cls_losses, kd_losses=kd_losses, top1=top1))\n",
        "            logging.info(log_str)\n",
        "            print(log_str)"
      ],
      "execution_count": null,
      "outputs": []
    },
    {
      "cell_type": "code",
      "metadata": {
        "colab": {
          "base_uri": "https://localhost:8080/",
          "height": 52
        },
        "id": "NRj3nQRP1RnU",
        "outputId": "30f21a84-cbec-4603-f7e8-6762427d03d5"
      },
      "source": [
        "\"\"\"\n",
        "Idea: \n",
        "  - Comparar realizando Knowledge distillation solo de LABELED 1000 \n",
        "  VS Knowledge distilattion de la UNLABELED 5000 (Solo el loss de consistency) + \n",
        "  despues un Finetuning de la Unlabeled\n",
        "\"\"\""
      ],
      "execution_count": null,
      "outputs": [
        {
          "output_type": "execute_result",
          "data": {
            "application/vnd.google.colaboratory.intrinsic+json": {
              "type": "string"
            },
            "text/plain": [
              "'\\nIdea: \\n  - Comparar realizando Knowledge distillation solo de LABELED 1000 \\n  VS Knowledge distilattion de la UNLABELED 5000 (Solo el loss de consistency) + \\n  despues un Finetuning de la Unlabeled\\n'"
            ]
          },
          "metadata": {},
          "execution_count": 54
        }
      ]
    },
    {
      "cell_type": "code",
      "metadata": {
        "colab": {
          "base_uri": "https://localhost:8080/",
          "height": 35
        },
        "id": "JN5zfqDD07MH",
        "outputId": "f8c73dfb-10ac-4ebb-da24-cd267a2b49ff"
      },
      "source": [
        "pwd"
      ],
      "execution_count": null,
      "outputs": [
        {
          "output_type": "execute_result",
          "data": {
            "application/vnd.google.colaboratory.intrinsic+json": {
              "type": "string"
            },
            "text/plain": [
              "'/content'"
            ]
          },
          "metadata": {},
          "execution_count": 55
        }
      ]
    },
    {
      "cell_type": "code",
      "metadata": {
        "colab": {
          "base_uri": "https://localhost:8080/",
          "height": 1000
        },
        "id": "bVC4kSuRnorl",
        "outputId": "7144b9bf-f7cb-4f1a-d15e-0e96a68b2a57"
      },
      "source": [
        "best_top1 = 0\n",
        "for epoch in range(1, args.epochs+1):\n",
        "  #adjust_lr(optimizer, epoch)\n",
        "\n",
        "  # train one epoch\n",
        "  epoch_start_time = time.time()\n",
        "  train(train_loader, nets, optimizer, criterions, epoch)\n",
        "\n",
        "  epoch_duration = time.time() - epoch_start_time\n",
        "  logging.info('Epoch time: {}s'.format(int(epoch_duration)))\n",
        "  print('Epoch time: {}s'.format(int(epoch_duration)))\n",
        "\n",
        "  \"\"\"\n",
        "  # save model\n",
        "  is_best = False\n",
        "  if test_top1 > best_top1:\n",
        "    best_top1 = test_top1\n",
        "    is_best = True\n",
        "  logging.info('Saving models......')\n",
        "  save_checkpoint({\n",
        "    'epoch': epoch,\n",
        "    'snet': snet.state_dict(),\n",
        "    'tnet': tnet.state_dict(),\n",
        "    'prec@1': test_top1,\n",
        "  }, is_best, args.save_root)\n",
        "  \"\"\""
      ],
      "execution_count": null,
      "outputs": [
        {
          "output_type": "stream",
          "text": [
            "Epoch[1]:[030/625] Time:0.1297 Data:0.0003  Cls:0.0000(0.0000)  KD:0.4592(0.4913)  prec@1:65.62(51.77)  \n",
            "Epoch[1]:[060/625] Time:0.1317 Data:0.0001  Cls:0.0000(0.0000)  KD:0.5920(0.4891)  prec@1:68.75(51.56)  \n",
            "Epoch[1]:[090/625] Time:0.1885 Data:0.0675  Cls:0.0000(0.0000)  KD:0.4275(0.4874)  prec@1:40.62(49.38)  \n",
            "Epoch[1]:[120/625] Time:0.1262 Data:0.0117  Cls:0.0000(0.0000)  KD:0.5303(0.4871)  prec@1:50.00(49.64)  \n",
            "Epoch[1]:[150/625] Time:0.1526 Data:0.0466  Cls:0.0000(0.0000)  KD:0.5330(0.4871)  prec@1:50.00(50.04)  \n",
            "Epoch[1]:[180/625] Time:0.1396 Data:0.0381  Cls:0.0000(0.0000)  KD:0.5140(0.4894)  prec@1:43.75(50.17)  \n",
            "Epoch[1]:[210/625] Time:0.1306 Data:0.0236  Cls:0.0000(0.0000)  KD:0.4626(0.4888)  prec@1:40.62(50.55)  \n",
            "Epoch[1]:[240/625] Time:0.1262 Data:0.0213  Cls:0.0000(0.0000)  KD:0.4719(0.4886)  prec@1:43.75(50.29)  \n",
            "Epoch[1]:[270/625] Time:0.1267 Data:0.0002  Cls:0.0000(0.0000)  KD:0.5253(0.4875)  prec@1:50.00(50.12)  \n",
            "Epoch[1]:[300/625] Time:0.1393 Data:0.0411  Cls:0.0000(0.0000)  KD:0.4829(0.4872)  prec@1:53.12(50.08)  \n",
            "Epoch[1]:[330/625] Time:0.1460 Data:0.0001  Cls:0.0000(0.0000)  KD:0.4500(0.4876)  prec@1:53.12(50.12)  \n",
            "Epoch[1]:[360/625] Time:0.1391 Data:0.0366  Cls:0.0000(0.0000)  KD:0.4462(0.4878)  prec@1:59.38(50.05)  \n",
            "Epoch[1]:[390/625] Time:0.1155 Data:0.0003  Cls:0.0000(0.0000)  KD:0.5553(0.4888)  prec@1:59.38(50.04)  \n",
            "Epoch[1]:[420/625] Time:0.1281 Data:0.0005  Cls:0.0000(0.0000)  KD:0.5052(0.4889)  prec@1:56.25(50.10)  \n",
            "Epoch[1]:[450/625] Time:0.1419 Data:0.0003  Cls:0.0000(0.0000)  KD:0.4757(0.4883)  prec@1:43.75(49.98)  \n",
            "Epoch[1]:[480/625] Time:0.1348 Data:0.0003  Cls:0.0000(0.0000)  KD:0.4684(0.4895)  prec@1:50.00(49.95)  \n",
            "Epoch[1]:[510/625] Time:0.1620 Data:0.0531  Cls:0.0000(0.0000)  KD:0.4869(0.4893)  prec@1:53.12(50.16)  \n",
            "Epoch[1]:[540/625] Time:0.1315 Data:0.0002  Cls:0.0000(0.0000)  KD:0.4758(0.4893)  prec@1:46.88(50.11)  \n",
            "Epoch[1]:[570/625] Time:0.1486 Data:0.0427  Cls:0.0000(0.0000)  KD:0.5587(0.4907)  prec@1:46.88(50.16)  \n",
            "Epoch[1]:[600/625] Time:0.1561 Data:0.0568  Cls:0.0000(0.0000)  KD:0.4904(0.4911)  prec@1:56.25(50.10)  \n",
            "Epoch time: 85s\n",
            "Epoch[2]:[030/625] Time:0.1260 Data:0.0002  Cls:0.0000(0.0000)  KD:0.6110(0.4981)  prec@1:53.12(50.52)  \n",
            "Epoch[2]:[060/625] Time:0.1322 Data:0.0003  Cls:0.0000(0.0000)  KD:0.5209(0.4989)  prec@1:53.12(49.69)  \n",
            "Epoch[2]:[090/625] Time:0.1920 Data:0.0898  Cls:0.0000(0.0000)  KD:0.5606(0.4927)  prec@1:56.25(49.65)  \n",
            "Epoch[2]:[120/625] Time:0.1624 Data:0.0532  Cls:0.0000(0.0000)  KD:0.4715(0.4919)  prec@1:46.88(49.61)  \n",
            "Epoch[2]:[150/625] Time:0.1312 Data:0.0003  Cls:0.0000(0.0000)  KD:0.4403(0.4922)  prec@1:59.38(49.71)  \n",
            "Epoch[2]:[180/625] Time:0.1250 Data:0.0070  Cls:0.0000(0.0000)  KD:0.5393(0.4936)  prec@1:53.12(49.72)  \n",
            "Epoch[2]:[210/625] Time:0.1222 Data:0.0155  Cls:0.0000(0.0000)  KD:0.5731(0.4933)  prec@1:56.25(49.88)  \n",
            "Epoch[2]:[240/625] Time:0.1406 Data:0.0053  Cls:0.0000(0.0000)  KD:0.4728(0.4917)  prec@1:43.75(49.91)  \n",
            "Epoch[2]:[270/625] Time:0.1503 Data:0.0405  Cls:0.0000(0.0000)  KD:0.5216(0.4918)  prec@1:43.75(49.94)  \n",
            "Epoch[2]:[300/625] Time:0.1314 Data:0.0067  Cls:0.0000(0.0000)  KD:0.4923(0.4908)  prec@1:53.12(49.72)  \n",
            "Epoch[2]:[330/625] Time:0.1427 Data:0.0003  Cls:0.0000(0.0000)  KD:0.4272(0.4906)  prec@1:43.75(49.64)  \n",
            "Epoch[2]:[360/625] Time:0.1193 Data:0.0003  Cls:0.0000(0.0000)  KD:0.4812(0.4897)  prec@1:40.62(49.52)  \n",
            "Epoch[2]:[390/625] Time:0.1182 Data:0.0003  Cls:0.0000(0.0000)  KD:0.4320(0.4894)  prec@1:31.25(49.54)  \n",
            "Epoch[2]:[420/625] Time:0.1282 Data:0.0002  Cls:0.0000(0.0000)  KD:0.5885(0.4902)  prec@1:56.25(49.63)  \n",
            "Epoch[2]:[450/625] Time:0.1304 Data:0.0003  Cls:0.0000(0.0000)  KD:0.5167(0.4905)  prec@1:62.50(49.65)  \n",
            "Epoch[2]:[480/625] Time:0.1362 Data:0.0397  Cls:0.0000(0.0000)  KD:0.4803(0.4903)  prec@1:37.50(49.66)  \n",
            "Epoch[2]:[510/625] Time:0.1308 Data:0.0055  Cls:0.0000(0.0000)  KD:0.5886(0.4904)  prec@1:46.88(49.83)  \n",
            "Epoch[2]:[540/625] Time:0.1219 Data:0.0058  Cls:0.0000(0.0000)  KD:0.4063(0.4900)  prec@1:50.00(49.99)  \n",
            "Epoch[2]:[570/625] Time:0.1449 Data:0.0004  Cls:0.0000(0.0000)  KD:0.5318(0.4899)  prec@1:50.00(50.03)  \n",
            "Epoch[2]:[600/625] Time:0.1767 Data:0.0723  Cls:0.0000(0.0000)  KD:0.4991(0.4897)  prec@1:46.88(50.01)  \n",
            "Epoch time: 85s\n",
            "Epoch[3]:[030/625] Time:0.1441 Data:0.0002  Cls:0.0000(0.0000)  KD:0.5192(0.4932)  prec@1:65.62(51.88)  \n",
            "Epoch[3]:[060/625] Time:0.1275 Data:0.0002  Cls:0.0000(0.0000)  KD:0.4794(0.4865)  prec@1:53.12(51.51)  \n",
            "Epoch[3]:[090/625] Time:0.1363 Data:0.0003  Cls:0.0000(0.0000)  KD:0.4913(0.4869)  prec@1:59.38(51.56)  \n",
            "Epoch[3]:[120/625] Time:0.1352 Data:0.0059  Cls:0.0000(0.0000)  KD:0.5026(0.4876)  prec@1:43.75(50.68)  \n",
            "Epoch[3]:[150/625] Time:0.1228 Data:0.0041  Cls:0.0000(0.0000)  KD:0.4639(0.4887)  prec@1:53.12(50.56)  \n",
            "Epoch[3]:[180/625] Time:0.1675 Data:0.0646  Cls:0.0000(0.0000)  KD:0.5483(0.4879)  prec@1:34.38(50.52)  \n",
            "Epoch[3]:[210/625] Time:0.1415 Data:0.0515  Cls:0.0000(0.0000)  KD:0.4729(0.4854)  prec@1:68.75(50.30)  \n",
            "Epoch[3]:[240/625] Time:0.1273 Data:0.0295  Cls:0.0000(0.0000)  KD:0.5049(0.4867)  prec@1:43.75(49.86)  \n",
            "Epoch[3]:[270/625] Time:0.1290 Data:0.0054  Cls:0.0000(0.0000)  KD:0.4651(0.4878)  prec@1:56.25(49.66)  \n",
            "Epoch[3]:[300/625] Time:0.1469 Data:0.0002  Cls:0.0000(0.0000)  KD:0.4452(0.4877)  prec@1:43.75(49.82)  \n",
            "Epoch[3]:[330/625] Time:0.1422 Data:0.0054  Cls:0.0000(0.0000)  KD:0.5658(0.4878)  prec@1:62.50(50.07)  \n",
            "Epoch[3]:[360/625] Time:0.1574 Data:0.0505  Cls:0.0000(0.0000)  KD:0.4066(0.4883)  prec@1:43.75(50.12)  \n",
            "Epoch[3]:[390/625] Time:0.1338 Data:0.0128  Cls:0.0000(0.0000)  KD:0.4884(0.4881)  prec@1:43.75(50.10)  \n",
            "Epoch[3]:[420/625] Time:0.1219 Data:0.0072  Cls:0.0000(0.0000)  KD:0.5470(0.4880)  prec@1:46.88(49.93)  \n",
            "Epoch[3]:[450/625] Time:0.1294 Data:0.0262  Cls:0.0000(0.0000)  KD:0.4710(0.4880)  prec@1:50.00(49.75)  \n",
            "Epoch[3]:[480/625] Time:0.1363 Data:0.0002  Cls:0.0000(0.0000)  KD:0.5304(0.4882)  prec@1:56.25(49.81)  \n",
            "Epoch[3]:[510/625] Time:0.1240 Data:0.0003  Cls:0.0000(0.0000)  KD:0.4563(0.4880)  prec@1:50.00(49.87)  \n",
            "Epoch[3]:[540/625] Time:0.1377 Data:0.0002  Cls:0.0000(0.0000)  KD:0.4644(0.4880)  prec@1:37.50(49.70)  \n",
            "Epoch[3]:[570/625] Time:0.1490 Data:0.0262  Cls:0.0000(0.0000)  KD:0.5062(0.4879)  prec@1:43.75(49.74)  \n",
            "Epoch[3]:[600/625] Time:0.1206 Data:0.0051  Cls:0.0000(0.0000)  KD:0.5273(0.4888)  prec@1:56.25(49.86)  \n",
            "Epoch time: 85s\n",
            "Epoch[4]:[030/625] Time:0.1105 Data:0.0057  Cls:0.0000(0.0000)  KD:0.4882(0.4816)  prec@1:50.00(50.10)  \n",
            "Epoch[4]:[060/625] Time:0.1215 Data:0.0004  Cls:0.0000(0.0000)  KD:0.4679(0.4904)  prec@1:40.62(49.06)  \n",
            "Epoch[4]:[090/625] Time:0.1350 Data:0.0053  Cls:0.0000(0.0000)  KD:0.4476(0.4927)  prec@1:50.00(49.90)  \n",
            "Epoch[4]:[120/625] Time:0.1378 Data:0.0002  Cls:0.0000(0.0000)  KD:0.5254(0.4928)  prec@1:53.12(50.99)  \n",
            "Epoch[4]:[150/625] Time:0.1546 Data:0.0035  Cls:0.0000(0.0000)  KD:0.4783(0.4932)  prec@1:56.25(50.65)  \n",
            "Epoch[4]:[180/625] Time:0.1294 Data:0.0235  Cls:0.0000(0.0000)  KD:0.4302(0.4924)  prec@1:59.38(50.43)  \n",
            "Epoch[4]:[210/625] Time:0.1601 Data:0.0543  Cls:0.0000(0.0000)  KD:0.5905(0.4921)  prec@1:37.50(50.27)  \n",
            "Epoch[4]:[240/625] Time:0.1099 Data:0.0071  Cls:0.0000(0.0000)  KD:0.4763(0.4907)  prec@1:46.88(50.38)  \n",
            "Epoch[4]:[270/625] Time:0.1241 Data:0.0276  Cls:0.0000(0.0000)  KD:0.4816(0.4896)  prec@1:53.12(50.39)  \n",
            "Epoch[4]:[300/625] Time:0.1215 Data:0.0002  Cls:0.0000(0.0000)  KD:0.4936(0.4890)  prec@1:50.00(50.26)  \n",
            "Epoch[4]:[330/625] Time:0.1184 Data:0.0161  Cls:0.0000(0.0000)  KD:0.4183(0.4889)  prec@1:43.75(50.13)  \n",
            "Epoch[4]:[360/625] Time:0.1468 Data:0.0488  Cls:0.0000(0.0000)  KD:0.5324(0.4884)  prec@1:53.12(50.18)  \n",
            "Epoch[4]:[390/625] Time:0.1270 Data:0.0033  Cls:0.0000(0.0000)  KD:0.4894(0.4886)  prec@1:34.38(50.18)  \n",
            "Epoch[4]:[420/625] Time:0.1185 Data:0.0003  Cls:0.0000(0.0000)  KD:0.4870(0.4888)  prec@1:37.50(50.05)  \n",
            "Epoch[4]:[450/625] Time:0.1155 Data:0.0003  Cls:0.0000(0.0000)  KD:0.4845(0.4885)  prec@1:46.88(49.97)  \n",
            "Epoch[4]:[480/625] Time:0.1210 Data:0.0067  Cls:0.0000(0.0000)  KD:0.4860(0.4878)  prec@1:40.62(49.97)  \n",
            "Epoch[4]:[510/625] Time:0.1154 Data:0.0003  Cls:0.0000(0.0000)  KD:0.4763(0.4882)  prec@1:37.50(49.90)  \n",
            "Epoch[4]:[540/625] Time:0.1546 Data:0.0524  Cls:0.0000(0.0000)  KD:0.4976(0.4886)  prec@1:59.38(49.90)  \n",
            "Epoch[4]:[570/625] Time:0.1115 Data:0.0003  Cls:0.0000(0.0000)  KD:0.4816(0.4883)  prec@1:59.38(50.08)  \n",
            "Epoch[4]:[600/625] Time:0.1348 Data:0.0002  Cls:0.0000(0.0000)  KD:0.4926(0.4884)  prec@1:53.12(50.06)  \n",
            "Epoch time: 86s\n",
            "Epoch[5]:[030/625] Time:0.1389 Data:0.0003  Cls:0.0000(0.0000)  KD:0.4627(0.4770)  prec@1:53.12(49.90)  \n",
            "Epoch[5]:[060/625] Time:0.1429 Data:0.0003  Cls:0.0000(0.0000)  KD:0.4001(0.4827)  prec@1:56.25(50.52)  \n",
            "Epoch[5]:[090/625] Time:0.1658 Data:0.0673  Cls:0.0000(0.0000)  KD:0.4912(0.4882)  prec@1:50.00(50.24)  \n",
            "Epoch[5]:[120/625] Time:0.1311 Data:0.0065  Cls:0.0000(0.0000)  KD:0.4794(0.4824)  prec@1:53.12(50.23)  \n",
            "Epoch[5]:[150/625] Time:0.1656 Data:0.0600  Cls:0.0000(0.0000)  KD:0.5097(0.4846)  prec@1:53.12(50.27)  \n",
            "Epoch[5]:[180/625] Time:0.1229 Data:0.0002  Cls:0.0000(0.0000)  KD:0.5714(0.4870)  prec@1:46.88(49.58)  \n",
            "Epoch[5]:[210/625] Time:0.1447 Data:0.0418  Cls:0.0000(0.0000)  KD:0.4277(0.4857)  prec@1:46.88(49.69)  \n",
            "Epoch[5]:[240/625] Time:0.1373 Data:0.0119  Cls:0.0000(0.0000)  KD:0.4298(0.4867)  prec@1:46.88(50.16)  \n",
            "Epoch[5]:[270/625] Time:0.1282 Data:0.0002  Cls:0.0000(0.0000)  KD:0.5106(0.4867)  prec@1:53.12(50.14)  \n",
            "Epoch[5]:[300/625] Time:0.1532 Data:0.0003  Cls:0.0000(0.0000)  KD:0.5073(0.4871)  prec@1:59.38(50.18)  \n",
            "Epoch[5]:[330/625] Time:0.1482 Data:0.0003  Cls:0.0000(0.0000)  KD:0.4709(0.4861)  prec@1:56.25(50.01)  \n",
            "Epoch[5]:[360/625] Time:0.1371 Data:0.0387  Cls:0.0000(0.0000)  KD:0.5137(0.4859)  prec@1:59.38(50.23)  \n",
            "Epoch[5]:[390/625] Time:0.1295 Data:0.0318  Cls:0.0000(0.0000)  KD:0.5469(0.4864)  prec@1:50.00(50.06)  \n",
            "Epoch[5]:[420/625] Time:0.1232 Data:0.0064  Cls:0.0000(0.0000)  KD:0.4887(0.4867)  prec@1:46.88(50.07)  \n",
            "Epoch[5]:[450/625] Time:0.1453 Data:0.0384  Cls:0.0000(0.0000)  KD:0.4923(0.4871)  prec@1:43.75(49.99)  \n",
            "Epoch[5]:[480/625] Time:0.1337 Data:0.0002  Cls:0.0000(0.0000)  KD:0.4619(0.4873)  prec@1:56.25(50.00)  \n",
            "Epoch[5]:[510/625] Time:0.1325 Data:0.0003  Cls:0.0000(0.0000)  KD:0.5404(0.4878)  prec@1:59.38(50.11)  \n",
            "Epoch[5]:[540/625] Time:0.1211 Data:0.0002  Cls:0.0000(0.0000)  KD:0.4541(0.4883)  prec@1:46.88(50.16)  \n",
            "Epoch[5]:[570/625] Time:0.1067 Data:0.0003  Cls:0.0000(0.0000)  KD:0.5291(0.4886)  prec@1:37.50(50.23)  \n",
            "Epoch[5]:[600/625] Time:0.1398 Data:0.0002  Cls:0.0000(0.0000)  KD:0.5098(0.4889)  prec@1:56.25(50.07)  \n",
            "Epoch time: 84s\n",
            "Epoch[6]:[030/625] Time:0.1339 Data:0.0003  Cls:0.0000(0.0000)  KD:0.4723(0.4925)  prec@1:43.75(49.58)  \n",
            "Epoch[6]:[060/625] Time:0.1254 Data:0.0003  Cls:0.0000(0.0000)  KD:0.5550(0.4841)  prec@1:37.50(49.17)  \n",
            "Epoch[6]:[090/625] Time:0.1139 Data:0.0003  Cls:0.0000(0.0000)  KD:0.5245(0.4842)  prec@1:53.12(49.62)  \n",
            "Epoch[6]:[120/625] Time:0.1335 Data:0.0045  Cls:0.0000(0.0000)  KD:0.5425(0.4885)  prec@1:37.50(49.79)  \n",
            "Epoch[6]:[150/625] Time:0.1231 Data:0.0003  Cls:0.0000(0.0000)  KD:0.4551(0.4906)  prec@1:37.50(49.25)  \n",
            "Epoch[6]:[180/625] Time:0.1350 Data:0.0003  Cls:0.0000(0.0000)  KD:0.4467(0.4876)  prec@1:53.12(49.69)  \n",
            "Epoch[6]:[210/625] Time:0.1451 Data:0.0003  Cls:0.0000(0.0000)  KD:0.5496(0.4894)  prec@1:37.50(49.33)  \n",
            "Epoch[6]:[240/625] Time:0.1216 Data:0.0061  Cls:0.0000(0.0000)  KD:0.3730(0.4897)  prec@1:53.12(49.36)  \n",
            "Epoch[6]:[270/625] Time:0.1739 Data:0.0711  Cls:0.0000(0.0000)  KD:0.4671(0.4898)  prec@1:53.12(49.79)  \n",
            "Epoch[6]:[300/625] Time:0.1203 Data:0.0019  Cls:0.0000(0.0000)  KD:0.4719(0.4899)  prec@1:50.00(49.70)  \n",
            "Epoch[6]:[330/625] Time:0.1261 Data:0.0001  Cls:0.0000(0.0000)  KD:0.4383(0.4892)  prec@1:31.25(49.66)  \n",
            "Epoch[6]:[360/625] Time:0.1547 Data:0.0001  Cls:0.0000(0.0000)  KD:0.5328(0.4901)  prec@1:56.25(49.77)  \n",
            "Epoch[6]:[390/625] Time:0.1375 Data:0.0051  Cls:0.0000(0.0000)  KD:0.4583(0.4899)  prec@1:46.88(49.82)  \n",
            "Epoch[6]:[420/625] Time:0.1123 Data:0.0003  Cls:0.0000(0.0000)  KD:0.5043(0.4897)  prec@1:40.62(49.84)  \n",
            "Epoch[6]:[450/625] Time:0.1295 Data:0.0001  Cls:0.0000(0.0000)  KD:0.5116(0.4891)  prec@1:37.50(49.90)  \n",
            "Epoch[6]:[480/625] Time:0.1266 Data:0.0003  Cls:0.0000(0.0000)  KD:0.5206(0.4886)  prec@1:43.75(49.86)  \n",
            "Epoch[6]:[510/625] Time:0.1207 Data:0.0226  Cls:0.0000(0.0000)  KD:0.5624(0.4893)  prec@1:71.88(50.00)  \n",
            "Epoch[6]:[540/625] Time:0.1062 Data:0.0003  Cls:0.0000(0.0000)  KD:0.5159(0.4908)  prec@1:53.12(50.01)  \n",
            "Epoch[6]:[570/625] Time:0.1456 Data:0.0001  Cls:0.0000(0.0000)  KD:0.3999(0.4913)  prec@1:62.50(50.10)  \n",
            "Epoch[6]:[600/625] Time:0.1298 Data:0.0069  Cls:0.0000(0.0000)  KD:0.4544(0.4910)  prec@1:34.38(50.05)  \n",
            "Epoch time: 85s\n",
            "Epoch[7]:[030/625] Time:0.1648 Data:0.0003  Cls:0.0000(0.0000)  KD:0.4343(0.4851)  prec@1:43.75(48.96)  \n",
            "Epoch[7]:[060/625] Time:0.1350 Data:0.0002  Cls:0.0000(0.0000)  KD:0.5955(0.4913)  prec@1:59.38(49.90)  \n",
            "Epoch[7]:[090/625] Time:0.1227 Data:0.0003  Cls:0.0000(0.0000)  KD:0.4994(0.4913)  prec@1:50.00(50.52)  \n",
            "Epoch[7]:[120/625] Time:0.1417 Data:0.0053  Cls:0.0000(0.0000)  KD:0.4189(0.4895)  prec@1:53.12(50.26)  \n",
            "Epoch[7]:[150/625] Time:0.1444 Data:0.0001  Cls:0.0000(0.0000)  KD:0.4552(0.4910)  prec@1:53.12(50.94)  \n",
            "Epoch[7]:[180/625] Time:0.1303 Data:0.0003  Cls:0.0000(0.0000)  KD:0.4664(0.4901)  prec@1:34.38(50.59)  \n",
            "Epoch[7]:[210/625] Time:0.1423 Data:0.0002  Cls:0.0000(0.0000)  KD:0.4231(0.4895)  prec@1:40.62(49.97)  \n",
            "Epoch[7]:[240/625] Time:0.1174 Data:0.0001  Cls:0.0000(0.0000)  KD:0.4873(0.4891)  prec@1:46.88(49.75)  \n",
            "Epoch[7]:[270/625] Time:0.1086 Data:0.0003  Cls:0.0000(0.0000)  KD:0.4385(0.4898)  prec@1:40.62(49.62)  \n",
            "Epoch[7]:[300/625] Time:0.1219 Data:0.0151  Cls:0.0000(0.0000)  KD:0.5167(0.4892)  prec@1:62.50(49.64)  \n",
            "Epoch[7]:[330/625] Time:0.1106 Data:0.0003  Cls:0.0000(0.0000)  KD:0.5320(0.4892)  prec@1:56.25(49.60)  \n",
            "Epoch[7]:[360/625] Time:0.1242 Data:0.0002  Cls:0.0000(0.0000)  KD:0.3410(0.4879)  prec@1:50.00(49.75)  \n",
            "Epoch[7]:[390/625] Time:0.1631 Data:0.0497  Cls:0.0000(0.0000)  KD:0.4908(0.4886)  prec@1:56.25(49.89)  \n",
            "Epoch[7]:[420/625] Time:0.1358 Data:0.0264  Cls:0.0000(0.0000)  KD:0.4639(0.4886)  prec@1:53.12(50.01)  \n",
            "Epoch[7]:[450/625] Time:0.1351 Data:0.0068  Cls:0.0000(0.0000)  KD:0.4893(0.4883)  prec@1:40.62(50.05)  \n",
            "Epoch[7]:[480/625] Time:0.1263 Data:0.0003  Cls:0.0000(0.0000)  KD:0.4925(0.4878)  prec@1:56.25(50.04)  \n",
            "Epoch[7]:[510/625] Time:0.1390 Data:0.0030  Cls:0.0000(0.0000)  KD:0.5399(0.4872)  prec@1:53.12(49.97)  \n",
            "Epoch[7]:[540/625] Time:0.1644 Data:0.0622  Cls:0.0000(0.0000)  KD:0.4919(0.4873)  prec@1:56.25(50.09)  \n",
            "Epoch[7]:[570/625] Time:0.1122 Data:0.0002  Cls:0.0000(0.0000)  KD:0.4218(0.4879)  prec@1:37.50(50.05)  \n",
            "Epoch[7]:[600/625] Time:0.1499 Data:0.0586  Cls:0.0000(0.0000)  KD:0.4067(0.4882)  prec@1:46.88(49.98)  \n",
            "Epoch time: 85s\n",
            "Epoch[8]:[030/625] Time:0.1523 Data:0.0580  Cls:0.0000(0.0000)  KD:0.4359(0.4815)  prec@1:46.88(48.54)  \n",
            "Epoch[8]:[060/625] Time:0.1295 Data:0.0002  Cls:0.0000(0.0000)  KD:0.4406(0.4909)  prec@1:46.88(49.53)  \n",
            "Epoch[8]:[090/625] Time:0.1134 Data:0.0002  Cls:0.0000(0.0000)  KD:0.5724(0.4936)  prec@1:43.75(50.52)  \n",
            "Epoch[8]:[120/625] Time:0.1189 Data:0.0002  Cls:0.0000(0.0000)  KD:0.5452(0.4913)  prec@1:71.88(50.81)  \n",
            "Epoch[8]:[150/625] Time:0.1182 Data:0.0002  Cls:0.0000(0.0000)  KD:0.4717(0.4898)  prec@1:53.12(50.40)  \n",
            "Epoch[8]:[180/625] Time:0.1468 Data:0.0001  Cls:0.0000(0.0000)  KD:0.4436(0.4880)  prec@1:43.75(50.23)  \n",
            "Epoch[8]:[210/625] Time:0.1363 Data:0.0031  Cls:0.0000(0.0000)  KD:0.4382(0.4876)  prec@1:25.00(50.10)  \n",
            "Epoch[8]:[240/625] Time:0.1207 Data:0.0003  Cls:0.0000(0.0000)  KD:0.5454(0.4881)  prec@1:46.88(50.01)  \n",
            "Epoch[8]:[270/625] Time:0.1833 Data:0.0785  Cls:0.0000(0.0000)  KD:0.5074(0.4888)  prec@1:59.38(50.12)  \n",
            "Epoch[8]:[300/625] Time:0.1448 Data:0.0541  Cls:0.0000(0.0000)  KD:0.5566(0.4872)  prec@1:53.12(50.04)  \n",
            "Epoch[8]:[330/625] Time:0.1029 Data:0.0003  Cls:0.0000(0.0000)  KD:0.5058(0.4892)  prec@1:65.62(50.04)  \n",
            "Epoch[8]:[360/625] Time:0.1221 Data:0.0002  Cls:0.0000(0.0000)  KD:0.4787(0.4883)  prec@1:46.88(49.93)  \n",
            "Epoch[8]:[390/625] Time:0.1163 Data:0.0003  Cls:0.0000(0.0000)  KD:0.4602(0.4879)  prec@1:31.25(49.86)  \n",
            "Epoch[8]:[420/625] Time:0.1356 Data:0.0029  Cls:0.0000(0.0000)  KD:0.4750(0.4872)  prec@1:40.62(49.77)  \n",
            "Epoch[8]:[450/625] Time:0.1304 Data:0.0028  Cls:0.0000(0.0000)  KD:0.5382(0.4869)  prec@1:50.00(49.62)  \n",
            "Epoch[8]:[480/625] Time:0.1819 Data:0.0753  Cls:0.0000(0.0000)  KD:0.4588(0.4863)  prec@1:37.50(49.57)  \n",
            "Epoch[8]:[510/625] Time:0.1694 Data:0.0759  Cls:0.0000(0.0000)  KD:0.4712(0.4867)  prec@1:50.00(49.63)  \n",
            "Epoch[8]:[540/625] Time:0.1571 Data:0.0579  Cls:0.0000(0.0000)  KD:0.4825(0.4876)  prec@1:46.88(49.79)  \n",
            "Epoch[8]:[570/625] Time:0.1504 Data:0.0579  Cls:0.0000(0.0000)  KD:0.5105(0.4878)  prec@1:43.75(49.85)  \n",
            "Epoch[8]:[600/625] Time:0.1307 Data:0.0220  Cls:0.0000(0.0000)  KD:0.4408(0.4876)  prec@1:46.88(49.92)  \n",
            "Epoch time: 85s\n",
            "Epoch[9]:[030/625] Time:0.1474 Data:0.0003  Cls:0.0000(0.0000)  KD:0.4901(0.4827)  prec@1:68.75(49.69)  \n",
            "Epoch[9]:[060/625] Time:0.1287 Data:0.0033  Cls:0.0000(0.0000)  KD:0.5365(0.4879)  prec@1:43.75(48.91)  \n",
            "Epoch[9]:[090/625] Time:0.1444 Data:0.0002  Cls:0.0000(0.0000)  KD:0.4983(0.4884)  prec@1:46.88(49.86)  \n",
            "Epoch[9]:[120/625] Time:0.1141 Data:0.0002  Cls:0.0000(0.0000)  KD:0.4895(0.4878)  prec@1:56.25(49.77)  \n",
            "Epoch[9]:[150/625] Time:0.1369 Data:0.0001  Cls:0.0000(0.0000)  KD:0.4711(0.4851)  prec@1:50.00(50.29)  \n",
            "Epoch[9]:[180/625] Time:0.1349 Data:0.0003  Cls:0.0000(0.0000)  KD:0.4429(0.4863)  prec@1:62.50(50.56)  \n",
            "Epoch[9]:[210/625] Time:0.1230 Data:0.0003  Cls:0.0000(0.0000)  KD:0.4997(0.4857)  prec@1:50.00(50.21)  \n",
            "Epoch[9]:[240/625] Time:0.1341 Data:0.0002  Cls:0.0000(0.0000)  KD:0.4807(0.4846)  prec@1:40.62(50.64)  \n",
            "Epoch[9]:[270/625] Time:0.1153 Data:0.0064  Cls:0.0000(0.0000)  KD:0.5470(0.4859)  prec@1:34.38(50.41)  \n",
            "Epoch[9]:[300/625] Time:0.1715 Data:0.0679  Cls:0.0000(0.0000)  KD:0.4685(0.4867)  prec@1:50.00(50.22)  \n",
            "Epoch[9]:[330/625] Time:0.1749 Data:0.0679  Cls:0.0000(0.0000)  KD:0.4966(0.4859)  prec@1:37.50(50.07)  \n",
            "Epoch[9]:[360/625] Time:0.1816 Data:0.0835  Cls:0.0000(0.0000)  KD:0.5287(0.4866)  prec@1:65.62(50.11)  \n",
            "Epoch[9]:[390/625] Time:0.1246 Data:0.0042  Cls:0.0000(0.0000)  KD:0.5167(0.4866)  prec@1:43.75(49.96)  \n",
            "Epoch[9]:[420/625] Time:0.1309 Data:0.0003  Cls:0.0000(0.0000)  KD:0.5249(0.4860)  prec@1:53.12(49.93)  \n",
            "Epoch[9]:[450/625] Time:0.1428 Data:0.0308  Cls:0.0000(0.0000)  KD:0.4979(0.4860)  prec@1:40.62(49.90)  \n",
            "Epoch[9]:[480/625] Time:0.1333 Data:0.0036  Cls:0.0000(0.0000)  KD:0.4942(0.4869)  prec@1:46.88(49.84)  \n",
            "Epoch[9]:[510/625] Time:0.1199 Data:0.0003  Cls:0.0000(0.0000)  KD:0.4133(0.4865)  prec@1:50.00(49.87)  \n",
            "Epoch[9]:[540/625] Time:0.1303 Data:0.0002  Cls:0.0000(0.0000)  KD:0.5224(0.4863)  prec@1:59.38(49.92)  \n",
            "Epoch[9]:[570/625] Time:0.1344 Data:0.0051  Cls:0.0000(0.0000)  KD:0.4908(0.4865)  prec@1:62.50(50.05)  \n",
            "Epoch[9]:[600/625] Time:0.1116 Data:0.0004  Cls:0.0000(0.0000)  KD:0.5054(0.4868)  prec@1:43.75(49.97)  \n",
            "Epoch time: 85s\n",
            "Epoch[10]:[030/625] Time:0.1246 Data:0.0015  Cls:0.0000(0.0000)  KD:0.4924(0.4758)  prec@1:59.38(50.62)  \n",
            "Epoch[10]:[060/625] Time:0.1535 Data:0.0483  Cls:0.0000(0.0000)  KD:0.4737(0.4782)  prec@1:40.62(49.32)  \n",
            "Epoch[10]:[090/625] Time:0.1158 Data:0.0009  Cls:0.0000(0.0000)  KD:0.5144(0.4826)  prec@1:62.50(49.31)  \n",
            "Epoch[10]:[120/625] Time:0.1390 Data:0.0003  Cls:0.0000(0.0000)  KD:0.5308(0.4848)  prec@1:34.38(49.58)  \n",
            "Epoch[10]:[150/625] Time:0.1121 Data:0.0003  Cls:0.0000(0.0000)  KD:0.4315(0.4852)  prec@1:43.75(49.73)  \n",
            "Epoch[10]:[180/625] Time:0.1087 Data:0.0002  Cls:0.0000(0.0000)  KD:0.5091(0.4856)  prec@1:53.12(49.60)  \n",
            "Epoch[10]:[210/625] Time:0.1255 Data:0.0329  Cls:0.0000(0.0000)  KD:0.4721(0.4875)  prec@1:46.88(49.61)  \n",
            "Epoch[10]:[240/625] Time:0.1322 Data:0.0034  Cls:0.0000(0.0000)  KD:0.4790(0.4861)  prec@1:59.38(50.05)  \n",
            "Epoch[10]:[270/625] Time:0.1234 Data:0.0002  Cls:0.0000(0.0000)  KD:0.4556(0.4851)  prec@1:50.00(50.16)  \n",
            "Epoch[10]:[300/625] Time:0.1168 Data:0.0003  Cls:0.0000(0.0000)  KD:0.5126(0.4851)  prec@1:59.38(49.85)  \n",
            "Epoch[10]:[330/625] Time:0.1446 Data:0.0377  Cls:0.0000(0.0000)  KD:0.4615(0.4845)  prec@1:53.12(50.15)  \n",
            "Epoch[10]:[360/625] Time:0.1222 Data:0.0003  Cls:0.0000(0.0000)  KD:0.5645(0.4851)  prec@1:68.75(50.13)  \n",
            "Epoch[10]:[390/625] Time:0.1242 Data:0.0054  Cls:0.0000(0.0000)  KD:0.4857(0.4846)  prec@1:53.12(50.51)  \n",
            "Epoch[10]:[420/625] Time:0.1254 Data:0.0120  Cls:0.0000(0.0000)  KD:0.4550(0.4837)  prec@1:53.12(50.38)  \n",
            "Epoch[10]:[450/625] Time:0.2087 Data:0.0964  Cls:0.0000(0.0000)  KD:0.4989(0.4844)  prec@1:56.25(50.46)  \n",
            "Epoch[10]:[480/625] Time:0.1740 Data:0.0735  Cls:0.0000(0.0000)  KD:0.4649(0.4842)  prec@1:40.62(50.27)  \n",
            "Epoch[10]:[510/625] Time:0.1249 Data:0.0002  Cls:0.0000(0.0000)  KD:0.5582(0.4847)  prec@1:40.62(50.24)  \n",
            "Epoch[10]:[540/625] Time:0.1558 Data:0.0562  Cls:0.0000(0.0000)  KD:0.4628(0.4861)  prec@1:46.88(50.24)  \n",
            "Epoch[10]:[570/625] Time:0.1231 Data:0.0259  Cls:0.0000(0.0000)  KD:0.4916(0.4870)  prec@1:62.50(50.12)  \n",
            "Epoch[10]:[600/625] Time:0.1183 Data:0.0034  Cls:0.0000(0.0000)  KD:0.5038(0.4865)  prec@1:50.00(50.11)  \n",
            "Epoch time: 85s\n",
            "Epoch[11]:[030/625] Time:0.1394 Data:0.0002  Cls:0.0000(0.0000)  KD:0.5167(0.4918)  prec@1:37.50(48.54)  \n",
            "Epoch[11]:[060/625] Time:0.1421 Data:0.0365  Cls:0.0000(0.0000)  KD:0.4686(0.4850)  prec@1:50.00(50.31)  \n",
            "Epoch[11]:[090/625] Time:0.1326 Data:0.0002  Cls:0.0000(0.0000)  KD:0.3854(0.4850)  prec@1:50.00(49.72)  \n",
            "Epoch[11]:[120/625] Time:0.1475 Data:0.0359  Cls:0.0000(0.0000)  KD:0.4870(0.4816)  prec@1:56.25(49.45)  \n",
            "Epoch[11]:[150/625] Time:0.1486 Data:0.0503  Cls:0.0000(0.0000)  KD:0.4010(0.4810)  prec@1:46.88(49.42)  \n",
            "Epoch[11]:[180/625] Time:0.1249 Data:0.0274  Cls:0.0000(0.0000)  KD:0.4262(0.4805)  prec@1:40.62(49.48)  \n",
            "Epoch[11]:[210/625] Time:0.1265 Data:0.0332  Cls:0.0000(0.0000)  KD:0.5091(0.4805)  prec@1:46.88(49.40)  \n",
            "Epoch[11]:[240/625] Time:0.1445 Data:0.0373  Cls:0.0000(0.0000)  KD:0.4945(0.4824)  prec@1:50.00(49.43)  \n",
            "Epoch[11]:[270/625] Time:0.1219 Data:0.0143  Cls:0.0000(0.0000)  KD:0.5169(0.4824)  prec@1:43.75(49.48)  \n",
            "Epoch[11]:[300/625] Time:0.1415 Data:0.0480  Cls:0.0000(0.0000)  KD:0.4493(0.4812)  prec@1:53.12(49.68)  \n",
            "Epoch[11]:[330/625] Time:0.1493 Data:0.0456  Cls:0.0000(0.0000)  KD:0.5260(0.4817)  prec@1:53.12(49.55)  \n",
            "Epoch[11]:[360/625] Time:0.1401 Data:0.0003  Cls:0.0000(0.0000)  KD:0.4618(0.4817)  prec@1:68.75(49.60)  \n",
            "Epoch[11]:[390/625] Time:0.1400 Data:0.0054  Cls:0.0000(0.0000)  KD:0.4017(0.4812)  prec@1:34.38(49.52)  \n",
            "Epoch[11]:[420/625] Time:0.1496 Data:0.0581  Cls:0.0000(0.0000)  KD:0.4386(0.4821)  prec@1:50.00(49.62)  \n",
            "Epoch[11]:[450/625] Time:0.1665 Data:0.0568  Cls:0.0000(0.0000)  KD:0.5150(0.4833)  prec@1:43.75(49.90)  \n",
            "Epoch[11]:[480/625] Time:0.1399 Data:0.0354  Cls:0.0000(0.0000)  KD:0.5009(0.4831)  prec@1:62.50(49.95)  \n",
            "Epoch[11]:[510/625] Time:0.1876 Data:0.0958  Cls:0.0000(0.0000)  KD:0.5060(0.4833)  prec@1:56.25(49.91)  \n",
            "Epoch[11]:[540/625] Time:0.1249 Data:0.0091  Cls:0.0000(0.0000)  KD:0.4818(0.4837)  prec@1:53.12(49.97)  \n",
            "Epoch[11]:[570/625] Time:0.1527 Data:0.0436  Cls:0.0000(0.0000)  KD:0.4551(0.4837)  prec@1:53.12(50.02)  \n",
            "Epoch[11]:[600/625] Time:0.1902 Data:0.0657  Cls:0.0000(0.0000)  KD:0.5449(0.4845)  prec@1:37.50(49.97)  \n",
            "Epoch time: 85s\n",
            "Epoch[12]:[030/625] Time:0.1271 Data:0.0022  Cls:0.0000(0.0000)  KD:0.4586(0.4798)  prec@1:59.38(52.71)  \n",
            "Epoch[12]:[060/625] Time:0.1213 Data:0.0044  Cls:0.0000(0.0000)  KD:0.4961(0.4853)  prec@1:34.38(51.51)  \n",
            "Epoch[12]:[090/625] Time:0.1382 Data:0.0008  Cls:0.0000(0.0000)  KD:0.4640(0.4898)  prec@1:53.12(50.24)  \n",
            "Epoch[12]:[120/625] Time:0.1289 Data:0.0003  Cls:0.0000(0.0000)  KD:0.4515(0.4920)  prec@1:34.38(49.82)  \n",
            "Epoch[12]:[150/625] Time:0.1359 Data:0.0002  Cls:0.0000(0.0000)  KD:0.5269(0.4913)  prec@1:53.12(49.42)  \n",
            "Epoch[12]:[180/625] Time:0.1418 Data:0.0469  Cls:0.0000(0.0000)  KD:0.4538(0.4884)  prec@1:59.38(49.57)  \n",
            "Epoch[12]:[210/625] Time:0.1541 Data:0.0617  Cls:0.0000(0.0000)  KD:0.4085(0.4884)  prec@1:46.88(50.01)  \n",
            "Epoch[12]:[240/625] Time:0.1422 Data:0.0420  Cls:0.0000(0.0000)  KD:0.4672(0.4873)  prec@1:43.75(49.83)  \n",
            "Epoch[12]:[270/625] Time:0.1508 Data:0.0514  Cls:0.0000(0.0000)  KD:0.5184(0.4875)  prec@1:53.12(49.71)  \n",
            "Epoch[12]:[300/625] Time:0.1443 Data:0.0027  Cls:0.0000(0.0000)  KD:0.5015(0.4889)  prec@1:43.75(49.53)  \n",
            "Epoch[12]:[330/625] Time:0.1230 Data:0.0003  Cls:0.0000(0.0000)  KD:0.4591(0.4866)  prec@1:56.25(49.38)  \n",
            "Epoch[12]:[360/625] Time:0.1314 Data:0.0252  Cls:0.0000(0.0000)  KD:0.4806(0.4872)  prec@1:62.50(49.44)  \n",
            "Epoch[12]:[390/625] Time:0.1401 Data:0.0385  Cls:0.0000(0.0000)  KD:0.5313(0.4880)  prec@1:50.00(49.73)  \n",
            "Epoch[12]:[420/625] Time:0.1174 Data:0.0247  Cls:0.0000(0.0000)  KD:0.4203(0.4873)  prec@1:50.00(49.65)  \n",
            "Epoch[12]:[450/625] Time:0.1505 Data:0.0503  Cls:0.0000(0.0000)  KD:0.4343(0.4869)  prec@1:62.50(49.80)  \n",
            "Epoch[12]:[480/625] Time:0.1235 Data:0.0253  Cls:0.0000(0.0000)  KD:0.4311(0.4872)  prec@1:53.12(49.92)  \n",
            "Epoch[12]:[510/625] Time:0.1364 Data:0.0001  Cls:0.0000(0.0000)  KD:0.5046(0.4874)  prec@1:46.88(50.10)  \n",
            "Epoch[12]:[540/625] Time:0.1172 Data:0.0002  Cls:0.0000(0.0000)  KD:0.4784(0.4881)  prec@1:50.00(49.90)  \n",
            "Epoch[12]:[570/625] Time:0.1513 Data:0.0325  Cls:0.0000(0.0000)  KD:0.5169(0.4874)  prec@1:62.50(49.93)  \n",
            "Epoch[12]:[600/625] Time:0.1695 Data:0.0626  Cls:0.0000(0.0000)  KD:0.5027(0.4877)  prec@1:43.75(49.99)  \n",
            "Epoch time: 84s\n",
            "Epoch[13]:[030/625] Time:0.1459 Data:0.0439  Cls:0.0000(0.0000)  KD:0.3987(0.4865)  prec@1:56.25(51.46)  \n",
            "Epoch[13]:[060/625] Time:0.1182 Data:0.0256  Cls:0.0000(0.0000)  KD:0.4791(0.4849)  prec@1:50.00(50.83)  \n",
            "Epoch[13]:[090/625] Time:0.1542 Data:0.0002  Cls:0.0000(0.0000)  KD:0.4811(0.4879)  prec@1:37.50(50.52)  \n",
            "Epoch[13]:[120/625] Time:0.1360 Data:0.0002  Cls:0.0000(0.0000)  KD:0.4998(0.4903)  prec@1:50.00(50.05)  \n",
            "Epoch[13]:[150/625] Time:0.1184 Data:0.0002  Cls:0.0000(0.0000)  KD:0.5040(0.4894)  prec@1:56.25(50.19)  \n",
            "Epoch[13]:[180/625] Time:0.1450 Data:0.0002  Cls:0.0000(0.0000)  KD:0.4747(0.4893)  prec@1:50.00(50.28)  \n",
            "Epoch[13]:[210/625] Time:0.1363 Data:0.0003  Cls:0.0000(0.0000)  KD:0.4838(0.4886)  prec@1:46.88(50.46)  \n",
            "Epoch[13]:[240/625] Time:0.1154 Data:0.0072  Cls:0.0000(0.0000)  KD:0.4048(0.4889)  prec@1:46.88(50.42)  \n",
            "Epoch[13]:[270/625] Time:0.1240 Data:0.0018  Cls:0.0000(0.0000)  KD:0.4986(0.4888)  prec@1:50.00(50.38)  \n",
            "Epoch[13]:[300/625] Time:0.1355 Data:0.0002  Cls:0.0000(0.0000)  KD:0.4443(0.4880)  prec@1:43.75(50.44)  \n",
            "Epoch[13]:[330/625] Time:0.1648 Data:0.0560  Cls:0.0000(0.0000)  KD:0.4418(0.4884)  prec@1:50.00(50.54)  \n",
            "Epoch[13]:[360/625] Time:0.1307 Data:0.0002  Cls:0.0000(0.0000)  KD:0.5123(0.4873)  prec@1:50.00(50.49)  \n",
            "Epoch[13]:[390/625] Time:0.1390 Data:0.0063  Cls:0.0000(0.0000)  KD:0.4675(0.4882)  prec@1:46.88(50.60)  \n",
            "Epoch[13]:[420/625] Time:0.1215 Data:0.0003  Cls:0.0000(0.0000)  KD:0.5393(0.4893)  prec@1:50.00(50.49)  \n",
            "Epoch[13]:[450/625] Time:0.1486 Data:0.0003  Cls:0.0000(0.0000)  KD:0.5120(0.4896)  prec@1:56.25(50.49)  \n",
            "Epoch[13]:[480/625] Time:0.1260 Data:0.0035  Cls:0.0000(0.0000)  KD:0.4575(0.4901)  prec@1:43.75(50.40)  \n",
            "Epoch[13]:[510/625] Time:0.1529 Data:0.0495  Cls:0.0000(0.0000)  KD:0.5119(0.4893)  prec@1:50.00(50.35)  \n",
            "Epoch[13]:[540/625] Time:0.1331 Data:0.0001  Cls:0.0000(0.0000)  KD:0.4456(0.4888)  prec@1:31.25(50.21)  \n",
            "Epoch[13]:[570/625] Time:0.1287 Data:0.0001  Cls:0.0000(0.0000)  KD:0.4728(0.4888)  prec@1:53.12(50.19)  \n",
            "Epoch[13]:[600/625] Time:0.1323 Data:0.0334  Cls:0.0000(0.0000)  KD:0.5623(0.4886)  prec@1:65.62(50.10)  \n",
            "Epoch time: 84s\n",
            "Epoch[14]:[030/625] Time:0.1332 Data:0.0003  Cls:0.0000(0.0000)  KD:0.5035(0.4868)  prec@1:53.12(51.67)  \n",
            "Epoch[14]:[060/625] Time:0.1319 Data:0.0001  Cls:0.0000(0.0000)  KD:0.5427(0.4894)  prec@1:43.75(50.36)  \n",
            "Epoch[14]:[090/625] Time:0.1420 Data:0.0317  Cls:0.0000(0.0000)  KD:0.4964(0.4904)  prec@1:53.12(50.24)  \n",
            "Epoch[14]:[120/625] Time:0.1296 Data:0.0068  Cls:0.0000(0.0000)  KD:0.4766(0.4908)  prec@1:53.12(50.89)  \n",
            "Epoch[14]:[150/625] Time:0.1137 Data:0.0002  Cls:0.0000(0.0000)  KD:0.4865(0.4901)  prec@1:53.12(50.58)  \n",
            "Epoch[14]:[180/625] Time:0.1159 Data:0.0003  Cls:0.0000(0.0000)  KD:0.4350(0.4885)  prec@1:34.38(50.49)  \n",
            "Epoch[14]:[210/625] Time:0.1314 Data:0.0158  Cls:0.0000(0.0000)  KD:0.4559(0.4900)  prec@1:56.25(50.13)  \n",
            "Epoch[14]:[240/625] Time:0.1569 Data:0.0514  Cls:0.0000(0.0000)  KD:0.5480(0.4914)  prec@1:31.25(50.00)  \n",
            "Epoch[14]:[270/625] Time:0.1339 Data:0.0003  Cls:0.0000(0.0000)  KD:0.4536(0.4904)  prec@1:53.12(49.93)  \n",
            "Epoch[14]:[300/625] Time:0.1213 Data:0.0001  Cls:0.0000(0.0000)  KD:0.4268(0.4895)  prec@1:53.12(50.04)  \n",
            "Epoch[14]:[330/625] Time:0.1242 Data:0.0028  Cls:0.0000(0.0000)  KD:0.4646(0.4884)  prec@1:31.25(49.85)  \n",
            "Epoch[14]:[360/625] Time:0.1488 Data:0.0054  Cls:0.0000(0.0000)  KD:0.5497(0.4877)  prec@1:50.00(50.08)  \n",
            "Epoch[14]:[390/625] Time:0.1429 Data:0.0105  Cls:0.0000(0.0000)  KD:0.4148(0.4881)  prec@1:50.00(49.84)  \n",
            "Epoch[14]:[420/625] Time:0.1414 Data:0.0503  Cls:0.0000(0.0000)  KD:0.5015(0.4888)  prec@1:40.62(49.94)  \n",
            "Epoch[14]:[450/625] Time:0.1574 Data:0.0531  Cls:0.0000(0.0000)  KD:0.4735(0.4888)  prec@1:37.50(50.03)  \n",
            "Epoch[14]:[480/625] Time:0.1200 Data:0.0001  Cls:0.0000(0.0000)  KD:0.4416(0.4890)  prec@1:40.62(49.93)  \n",
            "Epoch[14]:[510/625] Time:0.1283 Data:0.0354  Cls:0.0000(0.0000)  KD:0.4911(0.4883)  prec@1:50.00(49.93)  \n",
            "Epoch[14]:[540/625] Time:0.1226 Data:0.0002  Cls:0.0000(0.0000)  KD:0.5390(0.4887)  prec@1:59.38(49.83)  \n",
            "Epoch[14]:[570/625] Time:0.1215 Data:0.0174  Cls:0.0000(0.0000)  KD:0.4688(0.4887)  prec@1:50.00(49.87)  \n",
            "Epoch[14]:[600/625] Time:0.1326 Data:0.0288  Cls:0.0000(0.0000)  KD:0.4786(0.4881)  prec@1:50.00(50.00)  \n",
            "Epoch time: 84s\n",
            "Epoch[15]:[030/625] Time:0.1329 Data:0.0085  Cls:0.0000(0.0000)  KD:0.4238(0.4869)  prec@1:53.12(51.77)  \n",
            "Epoch[15]:[060/625] Time:0.1298 Data:0.0003  Cls:0.0000(0.0000)  KD:0.5237(0.4882)  prec@1:50.00(50.68)  \n",
            "Epoch[15]:[090/625] Time:0.1322 Data:0.0003  Cls:0.0000(0.0000)  KD:0.4745(0.4870)  prec@1:46.88(50.21)  \n",
            "Epoch[15]:[120/625] Time:0.1138 Data:0.0002  Cls:0.0000(0.0000)  KD:0.4439(0.4838)  prec@1:50.00(50.47)  \n",
            "Epoch[15]:[150/625] Time:0.1377 Data:0.0002  Cls:0.0000(0.0000)  KD:0.5367(0.4847)  prec@1:65.62(49.94)  \n",
            "Epoch[15]:[180/625] Time:0.1287 Data:0.0003  Cls:0.0000(0.0000)  KD:0.5247(0.4853)  prec@1:59.38(49.84)  \n",
            "Epoch[15]:[210/625] Time:0.1223 Data:0.0002  Cls:0.0000(0.0000)  KD:0.5651(0.4868)  prec@1:40.62(50.09)  \n",
            "Epoch[15]:[240/625] Time:0.1297 Data:0.0001  Cls:0.0000(0.0000)  KD:0.4823(0.4862)  prec@1:46.88(49.99)  \n",
            "Epoch[15]:[270/625] Time:0.1250 Data:0.0002  Cls:0.0000(0.0000)  KD:0.5383(0.4856)  prec@1:40.62(50.22)  \n",
            "Epoch[15]:[300/625] Time:0.1386 Data:0.0002  Cls:0.0000(0.0000)  KD:0.5260(0.4858)  prec@1:62.50(50.50)  \n",
            "Epoch[15]:[330/625] Time:0.1203 Data:0.0191  Cls:0.0000(0.0000)  KD:0.5151(0.4860)  prec@1:56.25(50.51)  \n",
            "Epoch[15]:[360/625] Time:0.1198 Data:0.0027  Cls:0.0000(0.0000)  KD:0.4816(0.4865)  prec@1:59.38(50.73)  \n",
            "Epoch[15]:[390/625] Time:0.1604 Data:0.0696  Cls:0.0000(0.0000)  KD:0.4609(0.4867)  prec@1:46.88(50.34)  \n",
            "Epoch[15]:[420/625] Time:0.1425 Data:0.0392  Cls:0.0000(0.0000)  KD:0.4336(0.4868)  prec@1:40.62(50.16)  \n",
            "Epoch[15]:[450/625] Time:0.1314 Data:0.0003  Cls:0.0000(0.0000)  KD:0.5252(0.4872)  prec@1:40.62(50.00)  \n",
            "Epoch[15]:[480/625] Time:0.1363 Data:0.0001  Cls:0.0000(0.0000)  KD:0.4621(0.4868)  prec@1:50.00(50.14)  \n",
            "Epoch[15]:[510/625] Time:0.1498 Data:0.0451  Cls:0.0000(0.0000)  KD:0.5001(0.4869)  prec@1:62.50(50.13)  \n",
            "Epoch[15]:[540/625] Time:0.1855 Data:0.0901  Cls:0.0000(0.0000)  KD:0.5344(0.4877)  prec@1:53.12(50.03)  \n",
            "Epoch[15]:[570/625] Time:0.1263 Data:0.0003  Cls:0.0000(0.0000)  KD:0.5336(0.4874)  prec@1:37.50(50.03)  \n",
            "Epoch[15]:[600/625] Time:0.1203 Data:0.0011  Cls:0.0000(0.0000)  KD:0.4534(0.4873)  prec@1:56.25(49.98)  \n",
            "Epoch time: 84s\n",
            "Epoch[16]:[030/625] Time:0.1427 Data:0.0037  Cls:0.0000(0.0000)  KD:0.3969(0.4745)  prec@1:65.62(50.62)  \n",
            "Epoch[16]:[060/625] Time:0.1159 Data:0.0073  Cls:0.0000(0.0000)  KD:0.4269(0.4802)  prec@1:56.25(49.58)  \n",
            "Epoch[16]:[090/625] Time:0.1432 Data:0.0003  Cls:0.0000(0.0000)  KD:0.5189(0.4806)  prec@1:62.50(49.62)  \n",
            "Epoch[16]:[120/625] Time:0.1727 Data:0.0755  Cls:0.0000(0.0000)  KD:0.4334(0.4819)  prec@1:43.75(49.24)  \n",
            "Epoch[16]:[150/625] Time:0.1476 Data:0.0572  Cls:0.0000(0.0000)  KD:0.4985(0.4865)  prec@1:40.62(49.12)  \n",
            "Epoch[16]:[180/625] Time:0.1650 Data:0.0530  Cls:0.0000(0.0000)  KD:0.4349(0.4854)  prec@1:53.12(49.22)  \n",
            "Epoch[16]:[210/625] Time:0.1428 Data:0.0054  Cls:0.0000(0.0000)  KD:0.4315(0.4854)  prec@1:46.88(49.18)  \n",
            "Epoch[16]:[240/625] Time:0.1322 Data:0.0002  Cls:0.0000(0.0000)  KD:0.4756(0.4857)  prec@1:46.88(49.26)  \n",
            "Epoch[16]:[270/625] Time:0.1338 Data:0.0002  Cls:0.0000(0.0000)  KD:0.3971(0.4844)  prec@1:46.88(49.16)  \n",
            "Epoch[16]:[300/625] Time:0.1356 Data:0.0002  Cls:0.0000(0.0000)  KD:0.4373(0.4847)  prec@1:37.50(49.26)  \n",
            "Epoch[16]:[330/625] Time:0.1240 Data:0.0002  Cls:0.0000(0.0000)  KD:0.4306(0.4858)  prec@1:50.00(49.47)  \n",
            "Epoch[16]:[360/625] Time:0.1542 Data:0.0002  Cls:0.0000(0.0000)  KD:0.5212(0.4861)  prec@1:53.12(49.56)  \n",
            "Epoch[16]:[390/625] Time:0.1482 Data:0.0382  Cls:0.0000(0.0000)  KD:0.4330(0.4874)  prec@1:65.62(49.67)  \n",
            "Epoch[16]:[420/625] Time:0.1315 Data:0.0051  Cls:0.0000(0.0000)  KD:0.5064(0.4875)  prec@1:59.38(49.70)  \n",
            "Epoch[16]:[450/625] Time:0.1313 Data:0.0053  Cls:0.0000(0.0000)  KD:0.5015(0.4869)  prec@1:43.75(49.58)  \n",
            "Epoch[16]:[480/625] Time:0.1689 Data:0.0758  Cls:0.0000(0.0000)  KD:0.5307(0.4862)  prec@1:65.62(49.80)  \n",
            "Epoch[16]:[510/625] Time:0.1366 Data:0.0373  Cls:0.0000(0.0000)  KD:0.5556(0.4856)  prec@1:50.00(49.93)  \n",
            "Epoch[16]:[540/625] Time:0.1078 Data:0.0002  Cls:0.0000(0.0000)  KD:0.5077(0.4865)  prec@1:50.00(49.94)  \n",
            "Epoch[16]:[570/625] Time:0.1303 Data:0.0002  Cls:0.0000(0.0000)  KD:0.4790(0.4865)  prec@1:43.75(49.94)  \n",
            "Epoch[16]:[600/625] Time:0.1226 Data:0.0054  Cls:0.0000(0.0000)  KD:0.4915(0.4871)  prec@1:59.38(50.09)  \n",
            "Epoch time: 85s\n",
            "Epoch[17]:[030/625] Time:0.1320 Data:0.0053  Cls:0.0000(0.0000)  KD:0.4635(0.4589)  prec@1:46.88(49.27)  \n",
            "Epoch[17]:[060/625] Time:0.1518 Data:0.0002  Cls:0.0000(0.0000)  KD:0.4728(0.4722)  prec@1:40.62(50.83)  \n",
            "Epoch[17]:[090/625] Time:0.1649 Data:0.0583  Cls:0.0000(0.0000)  KD:0.4896(0.4778)  prec@1:50.00(50.69)  \n",
            "Epoch[17]:[120/625] Time:0.1310 Data:0.0001  Cls:0.0000(0.0000)  KD:0.4885(0.4780)  prec@1:59.38(50.29)  \n",
            "Epoch[17]:[150/625] Time:0.1144 Data:0.0002  Cls:0.0000(0.0000)  KD:0.5270(0.4797)  prec@1:59.38(49.58)  \n",
            "Epoch[17]:[180/625] Time:0.1310 Data:0.0003  Cls:0.0000(0.0000)  KD:0.4235(0.4813)  prec@1:53.12(49.76)  \n",
            "Epoch[17]:[210/625] Time:0.1225 Data:0.0054  Cls:0.0000(0.0000)  KD:0.4646(0.4814)  prec@1:46.88(49.58)  \n",
            "Epoch[17]:[240/625] Time:0.1146 Data:0.0012  Cls:0.0000(0.0000)  KD:0.4981(0.4826)  prec@1:50.00(49.60)  \n",
            "Epoch[17]:[270/625] Time:0.1352 Data:0.0054  Cls:0.0000(0.0000)  KD:0.4045(0.4840)  prec@1:43.75(49.34)  \n",
            "Epoch[17]:[300/625] Time:0.1338 Data:0.0119  Cls:0.0000(0.0000)  KD:0.4545(0.4848)  prec@1:50.00(49.42)  \n",
            "Epoch[17]:[330/625] Time:0.1331 Data:0.0073  Cls:0.0000(0.0000)  KD:0.5188(0.4837)  prec@1:40.62(49.40)  \n",
            "Epoch[17]:[360/625] Time:0.1817 Data:0.0794  Cls:0.0000(0.0000)  KD:0.5213(0.4838)  prec@1:40.62(49.27)  \n",
            "Epoch[17]:[390/625] Time:0.1314 Data:0.0003  Cls:0.0000(0.0000)  KD:0.5095(0.4842)  prec@1:56.25(49.50)  \n",
            "Epoch[17]:[420/625] Time:0.1390 Data:0.0342  Cls:0.0000(0.0000)  KD:0.4613(0.4844)  prec@1:53.12(49.64)  \n",
            "Epoch[17]:[450/625] Time:0.1341 Data:0.0316  Cls:0.0000(0.0000)  KD:0.4819(0.4839)  prec@1:53.12(49.75)  \n",
            "Epoch[17]:[480/625] Time:0.1456 Data:0.0550  Cls:0.0000(0.0000)  KD:0.5143(0.4842)  prec@1:50.00(49.84)  \n",
            "Epoch[17]:[510/625] Time:0.1859 Data:0.0820  Cls:0.0000(0.0000)  KD:0.5579(0.4847)  prec@1:34.38(49.82)  \n",
            "Epoch[17]:[540/625] Time:0.1515 Data:0.0489  Cls:0.0000(0.0000)  KD:0.4233(0.4852)  prec@1:59.38(49.87)  \n",
            "Epoch[17]:[570/625] Time:0.1363 Data:0.0147  Cls:0.0000(0.0000)  KD:0.4893(0.4852)  prec@1:40.62(49.83)  \n",
            "Epoch[17]:[600/625] Time:0.1245 Data:0.0262  Cls:0.0000(0.0000)  KD:0.5952(0.4863)  prec@1:62.50(50.00)  \n",
            "Epoch time: 84s\n",
            "Epoch[18]:[030/625] Time:0.1326 Data:0.0003  Cls:0.0000(0.0000)  KD:0.4849(0.4867)  prec@1:46.88(47.60)  \n",
            "Epoch[18]:[060/625] Time:0.1370 Data:0.0003  Cls:0.0000(0.0000)  KD:0.4952(0.4861)  prec@1:65.62(49.58)  \n",
            "Epoch[18]:[090/625] Time:0.1426 Data:0.0276  Cls:0.0000(0.0000)  KD:0.5897(0.4888)  prec@1:53.12(49.31)  \n",
            "Epoch[18]:[120/625] Time:0.1528 Data:0.0091  Cls:0.0000(0.0000)  KD:0.5208(0.4898)  prec@1:53.12(49.32)  \n",
            "Epoch[18]:[150/625] Time:0.1537 Data:0.0001  Cls:0.0000(0.0000)  KD:0.4650(0.4884)  prec@1:53.12(49.31)  \n",
            "Epoch[18]:[180/625] Time:0.1144 Data:0.0003  Cls:0.0000(0.0000)  KD:0.5358(0.4891)  prec@1:53.12(49.25)  \n",
            "Epoch[18]:[210/625] Time:0.1270 Data:0.0002  Cls:0.0000(0.0000)  KD:0.4260(0.4921)  prec@1:40.62(49.49)  \n",
            "Epoch[18]:[240/625] Time:0.1373 Data:0.0002  Cls:0.0000(0.0000)  KD:0.4469(0.4894)  prec@1:40.62(49.43)  \n",
            "Epoch[18]:[270/625] Time:0.1389 Data:0.0046  Cls:0.0000(0.0000)  KD:0.5536(0.4909)  prec@1:53.12(49.53)  \n",
            "Epoch[18]:[300/625] Time:0.1318 Data:0.0019  Cls:0.0000(0.0000)  KD:0.4510(0.4910)  prec@1:68.75(49.44)  \n",
            "Epoch[18]:[330/625] Time:0.1305 Data:0.0002  Cls:0.0000(0.0000)  KD:0.4851(0.4905)  prec@1:59.38(49.73)  \n",
            "Epoch[18]:[360/625] Time:0.1400 Data:0.0024  Cls:0.0000(0.0000)  KD:0.5263(0.4912)  prec@1:43.75(49.64)  \n",
            "Epoch[18]:[390/625] Time:0.1414 Data:0.0033  Cls:0.0000(0.0000)  KD:0.5161(0.4906)  prec@1:34.38(49.78)  \n",
            "Epoch[18]:[420/625] Time:0.1325 Data:0.0026  Cls:0.0000(0.0000)  KD:0.5667(0.4913)  prec@1:46.88(50.04)  \n",
            "Epoch[18]:[450/625] Time:0.1531 Data:0.0315  Cls:0.0000(0.0000)  KD:0.5274(0.4913)  prec@1:59.38(50.06)  \n",
            "Epoch[18]:[480/625] Time:0.1313 Data:0.0003  Cls:0.0000(0.0000)  KD:0.4408(0.4906)  prec@1:62.50(49.90)  \n",
            "Epoch[18]:[510/625] Time:0.1365 Data:0.0003  Cls:0.0000(0.0000)  KD:0.4470(0.4903)  prec@1:53.12(49.86)  \n",
            "Epoch[18]:[540/625] Time:0.1396 Data:0.0054  Cls:0.0000(0.0000)  KD:0.5090(0.4896)  prec@1:59.38(49.90)  \n",
            "Epoch[18]:[570/625] Time:0.1336 Data:0.0003  Cls:0.0000(0.0000)  KD:0.4738(0.4891)  prec@1:50.00(49.98)  \n",
            "Epoch[18]:[600/625] Time:0.1023 Data:0.0003  Cls:0.0000(0.0000)  KD:0.4530(0.4887)  prec@1:40.62(49.98)  \n",
            "Epoch time: 85s\n",
            "Epoch[19]:[030/625] Time:0.1360 Data:0.0001  Cls:0.0000(0.0000)  KD:0.4474(0.4950)  prec@1:50.00(51.25)  \n",
            "Epoch[19]:[060/625] Time:0.1423 Data:0.0002  Cls:0.0000(0.0000)  KD:0.5135(0.4903)  prec@1:46.88(51.25)  \n",
            "Epoch[19]:[090/625] Time:0.1285 Data:0.0384  Cls:0.0000(0.0000)  KD:0.4701(0.4908)  prec@1:28.12(50.42)  \n",
            "Epoch[19]:[120/625] Time:0.1337 Data:0.0292  Cls:0.0000(0.0000)  KD:0.5616(0.4890)  prec@1:50.00(51.04)  \n",
            "Epoch[19]:[150/625] Time:0.1298 Data:0.0003  Cls:0.0000(0.0000)  KD:0.5166(0.4892)  prec@1:31.25(50.60)  \n",
            "Epoch[19]:[180/625] Time:0.1274 Data:0.0017  Cls:0.0000(0.0000)  KD:0.5280(0.4879)  prec@1:50.00(50.68)  \n",
            "Epoch[19]:[210/625] Time:0.1232 Data:0.0042  Cls:0.0000(0.0000)  KD:0.5107(0.4878)  prec@1:37.50(50.55)  \n",
            "Epoch[19]:[240/625] Time:0.1496 Data:0.0494  Cls:0.0000(0.0000)  KD:0.5552(0.4872)  prec@1:71.88(50.55)  \n",
            "Epoch[19]:[270/625] Time:0.1450 Data:0.0444  Cls:0.0000(0.0000)  KD:0.4816(0.4875)  prec@1:37.50(50.50)  \n",
            "Epoch[19]:[300/625] Time:0.1741 Data:0.0717  Cls:0.0000(0.0000)  KD:0.4836(0.4878)  prec@1:37.50(50.29)  \n",
            "Epoch[19]:[330/625] Time:0.1833 Data:0.0726  Cls:0.0000(0.0000)  KD:0.4257(0.4879)  prec@1:34.38(49.84)  \n",
            "Epoch[19]:[360/625] Time:0.1365 Data:0.0003  Cls:0.0000(0.0000)  KD:0.4781(0.4876)  prec@1:40.62(49.81)  \n",
            "Epoch[19]:[390/625] Time:0.1429 Data:0.0003  Cls:0.0000(0.0000)  KD:0.3929(0.4874)  prec@1:71.88(49.83)  \n",
            "Epoch[19]:[420/625] Time:0.1688 Data:0.0632  Cls:0.0000(0.0000)  KD:0.4809(0.4870)  prec@1:43.75(49.99)  \n",
            "Epoch[19]:[450/625] Time:0.1259 Data:0.0001  Cls:0.0000(0.0000)  KD:0.4355(0.4862)  prec@1:40.62(50.03)  \n",
            "Epoch[19]:[480/625] Time:0.1239 Data:0.0012  Cls:0.0000(0.0000)  KD:0.5071(0.4872)  prec@1:56.25(50.10)  \n",
            "Epoch[19]:[510/625] Time:0.1412 Data:0.0478  Cls:0.0000(0.0000)  KD:0.4259(0.4873)  prec@1:59.38(50.12)  \n",
            "Epoch[19]:[540/625] Time:0.1150 Data:0.0003  Cls:0.0000(0.0000)  KD:0.5023(0.4868)  prec@1:53.12(49.99)  \n",
            "Epoch[19]:[570/625] Time:0.1764 Data:0.0691  Cls:0.0000(0.0000)  KD:0.4375(0.4866)  prec@1:46.88(50.10)  \n",
            "Epoch[19]:[600/625] Time:0.1459 Data:0.0487  Cls:0.0000(0.0000)  KD:0.4180(0.4870)  prec@1:43.75(50.03)  \n",
            "Epoch time: 85s\n",
            "Epoch[20]:[030/625] Time:0.1143 Data:0.0002  Cls:0.0000(0.0000)  KD:0.5534(0.4800)  prec@1:28.12(45.42)  \n",
            "Epoch[20]:[060/625] Time:0.1270 Data:0.0116  Cls:0.0000(0.0000)  KD:0.5108(0.4887)  prec@1:53.12(48.54)  \n",
            "Epoch[20]:[090/625] Time:0.1540 Data:0.0507  Cls:0.0000(0.0000)  KD:0.4977(0.4885)  prec@1:50.00(50.00)  \n",
            "Epoch[20]:[120/625] Time:0.1467 Data:0.0575  Cls:0.0000(0.0000)  KD:0.5264(0.4910)  prec@1:43.75(50.10)  \n",
            "Epoch[20]:[150/625] Time:0.1647 Data:0.0741  Cls:0.0000(0.0000)  KD:0.5568(0.4929)  prec@1:56.25(50.15)  \n",
            "Epoch[20]:[180/625] Time:0.1308 Data:0.0220  Cls:0.0000(0.0000)  KD:0.4939(0.4939)  prec@1:62.50(50.07)  \n",
            "Epoch[20]:[210/625] Time:0.1290 Data:0.0003  Cls:0.0000(0.0000)  KD:0.4851(0.4942)  prec@1:62.50(50.15)  \n",
            "Epoch[20]:[240/625] Time:0.1782 Data:0.0731  Cls:0.0000(0.0000)  KD:0.4114(0.4919)  prec@1:56.25(49.80)  \n",
            "Epoch[20]:[270/625] Time:0.1378 Data:0.0336  Cls:0.0000(0.0000)  KD:0.4691(0.4887)  prec@1:53.12(49.68)  \n",
            "Epoch[20]:[300/625] Time:0.1323 Data:0.0210  Cls:0.0000(0.0000)  KD:0.4483(0.4883)  prec@1:56.25(49.68)  \n",
            "Epoch[20]:[330/625] Time:0.1296 Data:0.0003  Cls:0.0000(0.0000)  KD:0.4246(0.4873)  prec@1:43.75(49.82)  \n",
            "Epoch[20]:[360/625] Time:0.1321 Data:0.0003  Cls:0.0000(0.0000)  KD:0.4517(0.4871)  prec@1:46.88(49.96)  \n",
            "Epoch[20]:[390/625] Time:0.1460 Data:0.0030  Cls:0.0000(0.0000)  KD:0.4892(0.4864)  prec@1:43.75(49.65)  \n",
            "Epoch[20]:[420/625] Time:0.1202 Data:0.0260  Cls:0.0000(0.0000)  KD:0.4286(0.4863)  prec@1:50.00(49.64)  \n",
            "Epoch[20]:[450/625] Time:0.1299 Data:0.0325  Cls:0.0000(0.0000)  KD:0.5035(0.4854)  prec@1:53.12(49.54)  \n",
            "Epoch[20]:[480/625] Time:0.1331 Data:0.0001  Cls:0.0000(0.0000)  KD:0.4542(0.4863)  prec@1:50.00(49.84)  \n",
            "Epoch[20]:[510/625] Time:0.1484 Data:0.0350  Cls:0.0000(0.0000)  KD:0.4951(0.4866)  prec@1:53.12(50.07)  \n",
            "Epoch[20]:[540/625] Time:0.1345 Data:0.0002  Cls:0.0000(0.0000)  KD:0.5066(0.4875)  prec@1:53.12(50.08)  \n",
            "Epoch[20]:[570/625] Time:0.1653 Data:0.0449  Cls:0.0000(0.0000)  KD:0.5733(0.4880)  prec@1:50.00(50.10)  \n",
            "Epoch[20]:[600/625] Time:0.1359 Data:0.0003  Cls:0.0000(0.0000)  KD:0.4871(0.4880)  prec@1:59.38(49.96)  \n",
            "Epoch time: 84s\n",
            "Epoch[21]:[030/625] Time:0.1298 Data:0.0002  Cls:0.0000(0.0000)  KD:0.4480(0.4850)  prec@1:34.38(47.71)  \n",
            "Epoch[21]:[060/625] Time:0.1159 Data:0.0003  Cls:0.0000(0.0000)  KD:0.4576(0.4863)  prec@1:37.50(48.75)  \n",
            "Epoch[21]:[090/625] Time:0.1323 Data:0.0420  Cls:0.0000(0.0000)  KD:0.5421(0.4868)  prec@1:53.12(49.69)  \n",
            "Epoch[21]:[120/625] Time:0.1275 Data:0.0054  Cls:0.0000(0.0000)  KD:0.4499(0.4872)  prec@1:34.38(49.35)  \n",
            "Epoch[21]:[150/625] Time:0.1371 Data:0.0054  Cls:0.0000(0.0000)  KD:0.5175(0.4861)  prec@1:53.12(49.29)  \n",
            "Epoch[21]:[180/625] Time:0.1510 Data:0.0398  Cls:0.0000(0.0000)  KD:0.5075(0.4869)  prec@1:43.75(49.50)  \n",
            "Epoch[21]:[210/625] Time:0.1279 Data:0.0002  Cls:0.0000(0.0000)  KD:0.4635(0.4877)  prec@1:59.38(49.66)  \n",
            "Epoch[21]:[240/625] Time:0.1448 Data:0.0002  Cls:0.0000(0.0000)  KD:0.4316(0.4879)  prec@1:46.88(49.51)  \n",
            "Epoch[21]:[270/625] Time:0.1482 Data:0.0522  Cls:0.0000(0.0000)  KD:0.5367(0.4883)  prec@1:50.00(49.47)  \n",
            "Epoch[21]:[300/625] Time:0.1172 Data:0.0003  Cls:0.0000(0.0000)  KD:0.3802(0.4881)  prec@1:34.38(49.36)  \n",
            "Epoch[21]:[330/625] Time:0.1410 Data:0.0003  Cls:0.0000(0.0000)  KD:0.4581(0.4884)  prec@1:68.75(49.42)  \n",
            "Epoch[21]:[360/625] Time:0.1283 Data:0.0234  Cls:0.0000(0.0000)  KD:0.4946(0.4883)  prec@1:50.00(49.54)  \n",
            "Epoch[21]:[390/625] Time:0.1194 Data:0.0178  Cls:0.0000(0.0000)  KD:0.5307(0.4881)  prec@1:62.50(49.66)  \n",
            "Epoch[21]:[420/625] Time:0.1603 Data:0.0702  Cls:0.0000(0.0000)  KD:0.5151(0.4874)  prec@1:53.12(49.67)  \n",
            "Epoch[21]:[450/625] Time:0.1716 Data:0.0574  Cls:0.0000(0.0000)  KD:0.5425(0.4872)  prec@1:53.12(49.65)  \n",
            "Epoch[21]:[480/625] Time:0.1334 Data:0.0054  Cls:0.0000(0.0000)  KD:0.4374(0.4874)  prec@1:53.12(49.76)  \n",
            "Epoch[21]:[510/625] Time:0.1325 Data:0.0347  Cls:0.0000(0.0000)  KD:0.4674(0.4873)  prec@1:46.88(49.75)  \n",
            "Epoch[21]:[540/625] Time:0.1351 Data:0.0427  Cls:0.0000(0.0000)  KD:0.5217(0.4882)  prec@1:65.62(49.86)  \n",
            "Epoch[21]:[570/625] Time:0.1372 Data:0.0415  Cls:0.0000(0.0000)  KD:0.5197(0.4882)  prec@1:62.50(49.94)  \n",
            "Epoch[21]:[600/625] Time:0.1409 Data:0.0503  Cls:0.0000(0.0000)  KD:0.3804(0.4879)  prec@1:53.12(50.01)  \n",
            "Epoch time: 84s\n",
            "Epoch[22]:[030/625] Time:0.1300 Data:0.0002  Cls:0.0000(0.0000)  KD:0.4691(0.4913)  prec@1:50.00(50.62)  \n",
            "Epoch[22]:[060/625] Time:0.1370 Data:0.0302  Cls:0.0000(0.0000)  KD:0.4506(0.4902)  prec@1:53.12(50.52)  \n",
            "Epoch[22]:[090/625] Time:0.1466 Data:0.0430  Cls:0.0000(0.0000)  KD:0.5124(0.4888)  prec@1:40.62(49.86)  \n",
            "Epoch[22]:[120/625] Time:0.1252 Data:0.0181  Cls:0.0000(0.0000)  KD:0.5540(0.4899)  prec@1:65.62(49.95)  \n",
            "Epoch[22]:[150/625] Time:0.1693 Data:0.0612  Cls:0.0000(0.0000)  KD:0.4480(0.4885)  prec@1:53.12(49.96)  \n",
            "Epoch[22]:[180/625] Time:0.1640 Data:0.0592  Cls:0.0000(0.0000)  KD:0.5206(0.4887)  prec@1:62.50(50.21)  \n",
            "Epoch[22]:[210/625] Time:0.1155 Data:0.0002  Cls:0.0000(0.0000)  KD:0.5289(0.4876)  prec@1:50.00(50.18)  \n",
            "Epoch[22]:[240/625] Time:0.1272 Data:0.0054  Cls:0.0000(0.0000)  KD:0.3943(0.4869)  prec@1:59.38(50.33)  \n",
            "Epoch[22]:[270/625] Time:0.1428 Data:0.0521  Cls:0.0000(0.0000)  KD:0.4458(0.4863)  prec@1:34.38(50.25)  \n",
            "Epoch[22]:[300/625] Time:0.1186 Data:0.0069  Cls:0.0000(0.0000)  KD:0.4466(0.4871)  prec@1:56.25(50.28)  \n",
            "Epoch[22]:[330/625] Time:0.1411 Data:0.0002  Cls:0.0000(0.0000)  KD:0.5135(0.4876)  prec@1:50.00(50.04)  \n",
            "Epoch[22]:[360/625] Time:0.1574 Data:0.0523  Cls:0.0000(0.0000)  KD:0.4837(0.4893)  prec@1:40.62(50.03)  \n",
            "Epoch[22]:[390/625] Time:0.1551 Data:0.0441  Cls:0.0000(0.0000)  KD:0.5006(0.4886)  prec@1:40.62(49.89)  \n",
            "Epoch[22]:[420/625] Time:0.1340 Data:0.0003  Cls:0.0000(0.0000)  KD:0.4638(0.4886)  prec@1:56.25(50.03)  \n",
            "Epoch[22]:[450/625] Time:0.1280 Data:0.0002  Cls:0.0000(0.0000)  KD:0.4698(0.4883)  prec@1:50.00(49.90)  \n",
            "Epoch[22]:[480/625] Time:0.1489 Data:0.0492  Cls:0.0000(0.0000)  KD:0.5158(0.4885)  prec@1:50.00(49.96)  \n",
            "Epoch[22]:[510/625] Time:0.1357 Data:0.0003  Cls:0.0000(0.0000)  KD:0.4691(0.4889)  prec@1:34.38(50.03)  \n",
            "Epoch[22]:[540/625] Time:0.1306 Data:0.0001  Cls:0.0000(0.0000)  KD:0.5151(0.4892)  prec@1:56.25(49.94)  \n",
            "Epoch[22]:[570/625] Time:0.1682 Data:0.0546  Cls:0.0000(0.0000)  KD:0.4633(0.4890)  prec@1:37.50(49.97)  \n",
            "Epoch[22]:[600/625] Time:0.1350 Data:0.0003  Cls:0.0000(0.0000)  KD:0.4286(0.4889)  prec@1:59.38(50.06)  \n",
            "Epoch time: 85s\n",
            "Epoch[23]:[030/625] Time:0.1449 Data:0.0001  Cls:0.0000(0.0000)  KD:0.4435(0.4921)  prec@1:40.62(48.75)  \n",
            "Epoch[23]:[060/625] Time:0.1400 Data:0.0054  Cls:0.0000(0.0000)  KD:0.4768(0.4946)  prec@1:50.00(48.75)  \n",
            "Epoch[23]:[090/625] Time:0.1301 Data:0.0003  Cls:0.0000(0.0000)  KD:0.4947(0.4944)  prec@1:46.88(48.72)  \n",
            "Epoch[23]:[120/625] Time:0.1221 Data:0.0212  Cls:0.0000(0.0000)  KD:0.4431(0.4887)  prec@1:53.12(49.53)  \n",
            "Epoch[23]:[150/625] Time:0.1219 Data:0.0054  Cls:0.0000(0.0000)  KD:0.5625(0.4891)  prec@1:53.12(49.19)  \n",
            "Epoch[23]:[180/625] Time:0.1443 Data:0.0380  Cls:0.0000(0.0000)  KD:0.4673(0.4887)  prec@1:37.50(49.46)  \n",
            "Epoch[23]:[210/625] Time:0.1447 Data:0.0353  Cls:0.0000(0.0000)  KD:0.4706(0.4895)  prec@1:59.38(49.35)  \n",
            "Epoch[23]:[240/625] Time:0.1078 Data:0.0003  Cls:0.0000(0.0000)  KD:0.4809(0.4915)  prec@1:34.38(49.70)  \n",
            "Epoch[23]:[270/625] Time:0.1311 Data:0.0003  Cls:0.0000(0.0000)  KD:0.4214(0.4899)  prec@1:62.50(50.02)  \n",
            "Epoch[23]:[300/625] Time:0.1338 Data:0.0327  Cls:0.0000(0.0000)  KD:0.5827(0.4892)  prec@1:65.62(50.12)  \n",
            "Epoch[23]:[330/625] Time:0.1819 Data:0.0837  Cls:0.0000(0.0000)  KD:0.4571(0.4888)  prec@1:34.38(49.98)  \n",
            "Epoch[23]:[360/625] Time:0.1227 Data:0.0102  Cls:0.0000(0.0000)  KD:0.5967(0.4876)  prec@1:62.50(50.06)  \n",
            "Epoch[23]:[390/625] Time:0.1298 Data:0.0054  Cls:0.0000(0.0000)  KD:0.4521(0.4874)  prec@1:50.00(50.05)  \n",
            "Epoch[23]:[420/625] Time:0.1085 Data:0.0151  Cls:0.0000(0.0000)  KD:0.4999(0.4873)  prec@1:40.62(50.12)  \n",
            "Epoch[23]:[450/625] Time:0.1451 Data:0.0383  Cls:0.0000(0.0000)  KD:0.5864(0.4876)  prec@1:59.38(50.22)  \n",
            "Epoch[23]:[480/625] Time:0.1169 Data:0.0067  Cls:0.0000(0.0000)  KD:0.5243(0.4883)  prec@1:46.88(50.27)  \n",
            "Epoch[23]:[510/625] Time:0.1254 Data:0.0001  Cls:0.0000(0.0000)  KD:0.4566(0.4883)  prec@1:46.88(50.21)  \n",
            "Epoch[23]:[540/625] Time:0.1248 Data:0.0003  Cls:0.0000(0.0000)  KD:0.4417(0.4874)  prec@1:50.00(50.13)  \n",
            "Epoch[23]:[570/625] Time:0.1198 Data:0.0003  Cls:0.0000(0.0000)  KD:0.5117(0.4869)  prec@1:53.12(50.14)  \n",
            "Epoch[23]:[600/625] Time:0.1062 Data:0.0003  Cls:0.0000(0.0000)  KD:0.5298(0.4867)  prec@1:59.38(50.07)  \n",
            "Epoch time: 85s\n",
            "Epoch[24]:[030/625] Time:0.1235 Data:0.0001  Cls:0.0000(0.0000)  KD:0.3671(0.4789)  prec@1:62.50(53.65)  \n",
            "Epoch[24]:[060/625] Time:0.1408 Data:0.0362  Cls:0.0000(0.0000)  KD:0.4870(0.4872)  prec@1:43.75(53.12)  \n",
            "Epoch[24]:[090/625] Time:0.1454 Data:0.0055  Cls:0.0000(0.0000)  KD:0.4615(0.4912)  prec@1:50.00(53.02)  \n",
            "Epoch[24]:[120/625] Time:0.1305 Data:0.0002  Cls:0.0000(0.0000)  KD:0.3777(0.4904)  prec@1:28.12(52.37)  \n",
            "Epoch[24]:[150/625] Time:0.1240 Data:0.0003  Cls:0.0000(0.0000)  KD:0.4982(0.4888)  prec@1:62.50(52.15)  \n",
            "Epoch[24]:[180/625] Time:0.1277 Data:0.0001  Cls:0.0000(0.0000)  KD:0.4640(0.4856)  prec@1:53.12(51.81)  \n",
            "Epoch[24]:[210/625] Time:0.1360 Data:0.0002  Cls:0.0000(0.0000)  KD:0.4265(0.4857)  prec@1:46.88(51.43)  \n",
            "Epoch[24]:[240/625] Time:0.1257 Data:0.0003  Cls:0.0000(0.0000)  KD:0.5006(0.4873)  prec@1:50.00(51.30)  \n",
            "Epoch[24]:[270/625] Time:0.1391 Data:0.0288  Cls:0.0000(0.0000)  KD:0.5292(0.4886)  prec@1:43.75(51.11)  \n",
            "Epoch[24]:[300/625] Time:0.1613 Data:0.0639  Cls:0.0000(0.0000)  KD:0.4660(0.4874)  prec@1:37.50(50.75)  \n",
            "Epoch[24]:[330/625] Time:0.1417 Data:0.0002  Cls:0.0000(0.0000)  KD:0.5283(0.4857)  prec@1:40.62(50.76)  \n",
            "Epoch[24]:[360/625] Time:0.2073 Data:0.1040  Cls:0.0000(0.0000)  KD:0.4611(0.4861)  prec@1:50.00(50.30)  \n",
            "Epoch[24]:[390/625] Time:0.1482 Data:0.0363  Cls:0.0000(0.0000)  KD:0.4722(0.4859)  prec@1:43.75(50.14)  \n",
            "Epoch[24]:[420/625] Time:0.1229 Data:0.0003  Cls:0.0000(0.0000)  KD:0.4716(0.4850)  prec@1:40.62(50.04)  \n",
            "Epoch[24]:[450/625] Time:0.1440 Data:0.0537  Cls:0.0000(0.0000)  KD:0.4215(0.4846)  prec@1:46.88(49.96)  \n",
            "Epoch[24]:[480/625] Time:0.1321 Data:0.0003  Cls:0.0000(0.0000)  KD:0.4665(0.4849)  prec@1:56.25(49.99)  \n",
            "Epoch[24]:[510/625] Time:0.1370 Data:0.0054  Cls:0.0000(0.0000)  KD:0.5168(0.4852)  prec@1:37.50(49.99)  \n",
            "Epoch[24]:[540/625] Time:0.1226 Data:0.0002  Cls:0.0000(0.0000)  KD:0.5899(0.4861)  prec@1:65.62(50.08)  \n",
            "Epoch[24]:[570/625] Time:0.1357 Data:0.0003  Cls:0.0000(0.0000)  KD:0.4990(0.4863)  prec@1:68.75(50.01)  \n",
            "Epoch[24]:[600/625] Time:0.1362 Data:0.0002  Cls:0.0000(0.0000)  KD:0.4487(0.4865)  prec@1:53.12(50.05)  \n",
            "Epoch time: 85s\n",
            "Epoch[25]:[030/625] Time:0.1299 Data:0.0398  Cls:0.0000(0.0000)  KD:0.4544(0.4962)  prec@1:53.12(49.38)  \n",
            "Epoch[25]:[060/625] Time:0.1319 Data:0.0003  Cls:0.0000(0.0000)  KD:0.5267(0.4915)  prec@1:40.62(48.65)  \n",
            "Epoch[25]:[090/625] Time:0.1187 Data:0.0003  Cls:0.0000(0.0000)  KD:0.5303(0.4893)  prec@1:56.25(48.65)  \n",
            "Epoch[25]:[120/625] Time:0.1667 Data:0.0610  Cls:0.0000(0.0000)  KD:0.4326(0.4926)  prec@1:50.00(49.74)  \n",
            "Epoch[25]:[150/625] Time:0.1417 Data:0.0003  Cls:0.0000(0.0000)  KD:0.4700(0.4881)  prec@1:62.50(50.10)  \n",
            "Epoch[25]:[180/625] Time:0.1207 Data:0.0003  Cls:0.0000(0.0000)  KD:0.4559(0.4885)  prec@1:46.88(49.62)  \n",
            "Epoch[25]:[210/625] Time:0.1457 Data:0.0003  Cls:0.0000(0.0000)  KD:0.4795(0.4878)  prec@1:43.75(49.57)  \n",
            "Epoch[25]:[240/625] Time:0.1282 Data:0.0002  Cls:0.0000(0.0000)  KD:0.5319(0.4887)  prec@1:65.62(49.61)  \n",
            "Epoch[25]:[270/625] Time:0.1540 Data:0.0002  Cls:0.0000(0.0000)  KD:0.4811(0.4864)  prec@1:46.88(49.46)  \n",
            "Epoch[25]:[300/625] Time:0.1133 Data:0.0003  Cls:0.0000(0.0000)  KD:0.4888(0.4869)  prec@1:53.12(49.54)  \n",
            "Epoch[25]:[330/625] Time:0.1380 Data:0.0474  Cls:0.0000(0.0000)  KD:0.4579(0.4855)  prec@1:46.88(49.46)  \n",
            "Epoch[25]:[360/625] Time:0.1747 Data:0.0686  Cls:0.0000(0.0000)  KD:0.4197(0.4853)  prec@1:50.00(49.51)  \n",
            "Epoch[25]:[390/625] Time:0.1124 Data:0.0003  Cls:0.0000(0.0000)  KD:0.4844(0.4861)  prec@1:53.12(49.51)  \n",
            "Epoch[25]:[420/625] Time:0.1599 Data:0.0570  Cls:0.0000(0.0000)  KD:0.4450(0.4870)  prec@1:53.12(49.73)  \n",
            "Epoch[25]:[450/625] Time:0.1236 Data:0.0003  Cls:0.0000(0.0000)  KD:0.4448(0.4864)  prec@1:56.25(49.68)  \n",
            "Epoch[25]:[480/625] Time:0.1147 Data:0.0003  Cls:0.0000(0.0000)  KD:0.4748(0.4866)  prec@1:46.88(49.90)  \n",
            "Epoch[25]:[510/625] Time:0.1143 Data:0.0002  Cls:0.0000(0.0000)  KD:0.4507(0.4861)  prec@1:59.38(49.95)  \n",
            "Epoch[25]:[540/625] Time:0.1254 Data:0.0003  Cls:0.0000(0.0000)  KD:0.5746(0.4862)  prec@1:65.62(49.94)  \n",
            "Epoch[25]:[570/625] Time:0.1087 Data:0.0073  Cls:0.0000(0.0000)  KD:0.5081(0.4861)  prec@1:46.88(49.86)  \n",
            "Epoch[25]:[600/625] Time:0.1969 Data:0.0896  Cls:0.0000(0.0000)  KD:0.4445(0.4870)  prec@1:40.62(50.01)  \n",
            "Epoch time: 85s\n",
            "Epoch[26]:[030/625] Time:0.1207 Data:0.0001  Cls:0.0000(0.0000)  KD:0.3608(0.4769)  prec@1:40.62(48.33)  \n",
            "Epoch[26]:[060/625] Time:0.1710 Data:0.0632  Cls:0.0000(0.0000)  KD:0.5143(0.4856)  prec@1:31.25(48.65)  \n",
            "Epoch[26]:[090/625] Time:0.1641 Data:0.0535  Cls:0.0000(0.0000)  KD:0.5044(0.4866)  prec@1:50.00(48.72)  \n",
            "Epoch[26]:[120/625] Time:0.1351 Data:0.0295  Cls:0.0000(0.0000)  KD:0.5275(0.4850)  prec@1:53.12(48.52)  \n",
            "Epoch[26]:[150/625] Time:0.1320 Data:0.0373  Cls:0.0000(0.0000)  KD:0.4731(0.4834)  prec@1:43.75(49.33)  \n",
            "Epoch[26]:[180/625] Time:0.1176 Data:0.0003  Cls:0.0000(0.0000)  KD:0.5025(0.4833)  prec@1:56.25(49.43)  \n",
            "Epoch[26]:[210/625] Time:0.1347 Data:0.0154  Cls:0.0000(0.0000)  KD:0.4434(0.4843)  prec@1:53.12(49.54)  \n",
            "Epoch[26]:[240/625] Time:0.1301 Data:0.0003  Cls:0.0000(0.0000)  KD:0.4948(0.4842)  prec@1:50.00(49.54)  \n",
            "Epoch[26]:[270/625] Time:0.1636 Data:0.0552  Cls:0.0000(0.0000)  KD:0.4441(0.4856)  prec@1:46.88(49.75)  \n",
            "Epoch[26]:[300/625] Time:0.1359 Data:0.0441  Cls:0.0000(0.0000)  KD:0.4649(0.4850)  prec@1:40.62(49.45)  \n",
            "Epoch[26]:[330/625] Time:0.1202 Data:0.0003  Cls:0.0000(0.0000)  KD:0.4820(0.4852)  prec@1:65.62(49.47)  \n",
            "Epoch[26]:[360/625] Time:0.1372 Data:0.0072  Cls:0.0000(0.0000)  KD:0.4648(0.4855)  prec@1:56.25(49.54)  \n",
            "Epoch[26]:[390/625] Time:0.1435 Data:0.0002  Cls:0.0000(0.0000)  KD:0.4658(0.4859)  prec@1:40.62(49.38)  \n",
            "Epoch[26]:[420/625] Time:0.1367 Data:0.0001  Cls:0.0000(0.0000)  KD:0.4947(0.4867)  prec@1:62.50(49.61)  \n",
            "Epoch[26]:[450/625] Time:0.1557 Data:0.0657  Cls:0.0000(0.0000)  KD:0.4766(0.4860)  prec@1:43.75(49.56)  \n",
            "Epoch[26]:[480/625] Time:0.1355 Data:0.0068  Cls:0.0000(0.0000)  KD:0.4941(0.4856)  prec@1:46.88(49.54)  \n",
            "Epoch[26]:[510/625] Time:0.1387 Data:0.0002  Cls:0.0000(0.0000)  KD:0.4336(0.4858)  prec@1:40.62(49.52)  \n",
            "Epoch[26]:[540/625] Time:0.1314 Data:0.0053  Cls:0.0000(0.0000)  KD:0.5526(0.4858)  prec@1:50.00(49.76)  \n",
            "Epoch[26]:[570/625] Time:0.1378 Data:0.0325  Cls:0.0000(0.0000)  KD:0.3747(0.4857)  prec@1:65.62(49.94)  \n",
            "Epoch[26]:[600/625] Time:0.1229 Data:0.0304  Cls:0.0000(0.0000)  KD:0.5353(0.4859)  prec@1:62.50(49.99)  \n",
            "Epoch time: 85s\n",
            "Epoch[27]:[030/625] Time:0.1179 Data:0.0002  Cls:0.0000(0.0000)  KD:0.4327(0.4829)  prec@1:43.75(50.62)  \n",
            "Epoch[27]:[060/625] Time:0.1431 Data:0.0317  Cls:0.0000(0.0000)  KD:0.5067(0.4839)  prec@1:59.38(50.16)  \n",
            "Epoch[27]:[090/625] Time:0.1257 Data:0.0003  Cls:0.0000(0.0000)  KD:0.5202(0.4848)  prec@1:40.62(49.72)  \n",
            "Epoch[27]:[120/625] Time:0.1315 Data:0.0233  Cls:0.0000(0.0000)  KD:0.3876(0.4837)  prec@1:50.00(49.71)  \n",
            "Epoch[27]:[150/625] Time:0.1238 Data:0.0003  Cls:0.0000(0.0000)  KD:0.4511(0.4853)  prec@1:53.12(49.58)  \n",
            "Epoch[27]:[180/625] Time:0.1322 Data:0.0423  Cls:0.0000(0.0000)  KD:0.5115(0.4854)  prec@1:62.50(49.76)  \n",
            "Epoch[27]:[210/625] Time:0.1477 Data:0.0003  Cls:0.0000(0.0000)  KD:0.4797(0.4834)  prec@1:50.00(49.67)  \n",
            "Epoch[27]:[240/625] Time:0.1410 Data:0.0333  Cls:0.0000(0.0000)  KD:0.4900(0.4838)  prec@1:46.88(49.58)  \n",
            "Epoch[27]:[270/625] Time:0.1344 Data:0.0145  Cls:0.0000(0.0000)  KD:0.5199(0.4845)  prec@1:28.12(49.68)  \n",
            "Epoch[27]:[300/625] Time:0.1306 Data:0.0002  Cls:0.0000(0.0000)  KD:0.4848(0.4849)  prec@1:40.62(49.74)  \n",
            "Epoch[27]:[330/625] Time:0.1361 Data:0.0001  Cls:0.0000(0.0000)  KD:0.4855(0.4827)  prec@1:53.12(49.81)  \n",
            "Epoch[27]:[360/625] Time:0.1731 Data:0.0713  Cls:0.0000(0.0000)  KD:0.5222(0.4830)  prec@1:43.75(49.69)  \n",
            "Epoch[27]:[390/625] Time:0.1284 Data:0.0003  Cls:0.0000(0.0000)  KD:0.4515(0.4843)  prec@1:34.38(49.82)  \n",
            "Epoch[27]:[420/625] Time:0.1238 Data:0.0069  Cls:0.0000(0.0000)  KD:0.5036(0.4856)  prec@1:46.88(49.93)  \n",
            "Epoch[27]:[450/625] Time:0.1230 Data:0.0003  Cls:0.0000(0.0000)  KD:0.4382(0.4865)  prec@1:50.00(50.05)  \n",
            "Epoch[27]:[480/625] Time:0.1403 Data:0.0070  Cls:0.0000(0.0000)  KD:0.4872(0.4869)  prec@1:65.62(50.00)  \n",
            "Epoch[27]:[510/625] Time:0.1406 Data:0.0064  Cls:0.0000(0.0000)  KD:0.4764(0.4871)  prec@1:40.62(49.99)  \n",
            "Epoch[27]:[540/625] Time:0.1200 Data:0.0003  Cls:0.0000(0.0000)  KD:0.4466(0.4876)  prec@1:56.25(50.03)  \n",
            "Epoch[27]:[570/625] Time:0.1363 Data:0.0003  Cls:0.0000(0.0000)  KD:0.4716(0.4882)  prec@1:65.62(50.10)  \n",
            "Epoch[27]:[600/625] Time:0.1309 Data:0.0161  Cls:0.0000(0.0000)  KD:0.4664(0.4877)  prec@1:50.00(50.08)  \n",
            "Epoch time: 84s\n",
            "Epoch[28]:[030/625] Time:0.1167 Data:0.0002  Cls:0.0000(0.0000)  KD:0.5118(0.4851)  prec@1:46.88(49.38)  \n",
            "Epoch[28]:[060/625] Time:0.1349 Data:0.0002  Cls:0.0000(0.0000)  KD:0.5048(0.4887)  prec@1:68.75(50.83)  \n",
            "Epoch[28]:[090/625] Time:0.1319 Data:0.0002  Cls:0.0000(0.0000)  KD:0.4843(0.4884)  prec@1:53.12(51.53)  \n",
            "Epoch[28]:[120/625] Time:0.1374 Data:0.0035  Cls:0.0000(0.0000)  KD:0.5274(0.4875)  prec@1:50.00(50.96)  \n",
            "Epoch[28]:[150/625] Time:0.1309 Data:0.0003  Cls:0.0000(0.0000)  KD:0.4969(0.4863)  prec@1:59.38(50.75)  \n",
            "Epoch[28]:[180/625] Time:0.1607 Data:0.0501  Cls:0.0000(0.0000)  KD:0.4947(0.4872)  prec@1:56.25(50.76)  \n",
            "Epoch[28]:[210/625] Time:0.1497 Data:0.0001  Cls:0.0000(0.0000)  KD:0.5754(0.4885)  prec@1:53.12(50.86)  \n",
            "Epoch[28]:[240/625] Time:0.1351 Data:0.0002  Cls:0.0000(0.0000)  KD:0.5656(0.4878)  prec@1:53.12(50.64)  \n",
            "Epoch[28]:[270/625] Time:0.1491 Data:0.0447  Cls:0.0000(0.0000)  KD:0.5558(0.4888)  prec@1:43.75(50.74)  \n",
            "Epoch[28]:[300/625] Time:0.1700 Data:0.0782  Cls:0.0000(0.0000)  KD:0.4250(0.4890)  prec@1:59.38(50.59)  \n",
            "Epoch[28]:[330/625] Time:0.1151 Data:0.0004  Cls:0.0000(0.0000)  KD:0.4975(0.4894)  prec@1:50.00(50.56)  \n",
            "Epoch[28]:[360/625] Time:0.1418 Data:0.0001  Cls:0.0000(0.0000)  KD:0.5340(0.4883)  prec@1:68.75(50.46)  \n",
            "Epoch[28]:[390/625] Time:0.1281 Data:0.0003  Cls:0.0000(0.0000)  KD:0.4892(0.4881)  prec@1:53.12(50.34)  \n",
            "Epoch[28]:[420/625] Time:0.1201 Data:0.0003  Cls:0.0000(0.0000)  KD:0.5221(0.4881)  prec@1:43.75(50.25)  \n",
            "Epoch[28]:[450/625] Time:0.1395 Data:0.0084  Cls:0.0000(0.0000)  KD:0.5058(0.4876)  prec@1:53.12(50.44)  \n",
            "Epoch[28]:[480/625] Time:0.1604 Data:0.0530  Cls:0.0000(0.0000)  KD:0.5066(0.4871)  prec@1:50.00(50.33)  \n",
            "Epoch[28]:[510/625] Time:0.1477 Data:0.0318  Cls:0.0000(0.0000)  KD:0.5599(0.4871)  prec@1:43.75(50.04)  \n",
            "Epoch[28]:[540/625] Time:0.1400 Data:0.0003  Cls:0.0000(0.0000)  KD:0.4804(0.4875)  prec@1:56.25(50.01)  \n",
            "Epoch[28]:[570/625] Time:0.1237 Data:0.0058  Cls:0.0000(0.0000)  KD:0.5525(0.4874)  prec@1:46.88(49.96)  \n",
            "Epoch[28]:[600/625] Time:0.1224 Data:0.0070  Cls:0.0000(0.0000)  KD:0.4568(0.4878)  prec@1:53.12(49.96)  \n",
            "Epoch time: 85s\n",
            "Epoch[29]:[030/625] Time:0.1246 Data:0.0003  Cls:0.0000(0.0000)  KD:0.6034(0.4774)  prec@1:50.00(48.65)  \n",
            "Epoch[29]:[060/625] Time:0.1626 Data:0.0530  Cls:0.0000(0.0000)  KD:0.4828(0.4810)  prec@1:40.62(50.05)  \n",
            "Epoch[29]:[090/625] Time:0.1213 Data:0.0054  Cls:0.0000(0.0000)  KD:0.4571(0.4828)  prec@1:37.50(50.14)  \n",
            "Epoch[29]:[120/625] Time:0.1269 Data:0.0082  Cls:0.0000(0.0000)  KD:0.4916(0.4863)  prec@1:53.12(50.39)  \n",
            "Epoch[29]:[150/625] Time:0.1256 Data:0.0002  Cls:0.0000(0.0000)  KD:0.4546(0.4892)  prec@1:34.38(50.65)  \n",
            "Epoch[29]:[180/625] Time:0.1322 Data:0.0280  Cls:0.0000(0.0000)  KD:0.5120(0.4882)  prec@1:53.12(50.52)  \n",
            "Epoch[29]:[210/625] Time:0.1361 Data:0.0130  Cls:0.0000(0.0000)  KD:0.5088(0.4893)  prec@1:46.88(50.46)  \n",
            "Epoch[29]:[240/625] Time:0.1380 Data:0.0002  Cls:0.0000(0.0000)  KD:0.5394(0.4894)  prec@1:28.12(50.29)  \n",
            "Epoch[29]:[270/625] Time:0.1200 Data:0.0003  Cls:0.0000(0.0000)  KD:0.5008(0.4878)  prec@1:56.25(50.01)  \n",
            "Epoch[29]:[300/625] Time:0.1687 Data:0.0713  Cls:0.0000(0.0000)  KD:0.5459(0.4869)  prec@1:59.38(49.84)  \n",
            "Epoch[29]:[330/625] Time:0.1390 Data:0.0003  Cls:0.0000(0.0000)  KD:0.4558(0.4863)  prec@1:40.62(49.85)  \n",
            "Epoch[29]:[360/625] Time:0.1343 Data:0.0003  Cls:0.0000(0.0000)  KD:0.4615(0.4870)  prec@1:40.62(50.07)  \n",
            "Epoch[29]:[390/625] Time:0.1297 Data:0.0316  Cls:0.0000(0.0000)  KD:0.4837(0.4874)  prec@1:50.00(50.02)  \n",
            "Epoch[29]:[420/625] Time:0.1191 Data:0.0211  Cls:0.0000(0.0000)  KD:0.4994(0.4875)  prec@1:50.00(49.98)  \n",
            "Epoch[29]:[450/625] Time:0.1235 Data:0.0106  Cls:0.0000(0.0000)  KD:0.4517(0.4861)  prec@1:34.38(50.00)  \n",
            "Epoch[29]:[480/625] Time:0.1386 Data:0.0002  Cls:0.0000(0.0000)  KD:0.3973(0.4862)  prec@1:46.88(49.98)  \n",
            "Epoch[29]:[510/625] Time:0.1553 Data:0.0562  Cls:0.0000(0.0000)  KD:0.5278(0.4856)  prec@1:62.50(50.00)  \n",
            "Epoch[29]:[540/625] Time:0.1194 Data:0.0002  Cls:0.0000(0.0000)  KD:0.5373(0.4863)  prec@1:53.12(49.95)  \n",
            "Epoch[29]:[570/625] Time:0.1185 Data:0.0003  Cls:0.0000(0.0000)  KD:0.4877(0.4863)  prec@1:43.75(50.02)  \n",
            "Epoch[29]:[600/625] Time:0.1373 Data:0.0001  Cls:0.0000(0.0000)  KD:0.5471(0.4863)  prec@1:37.50(49.95)  \n",
            "Epoch time: 84s\n",
            "Epoch[30]:[030/625] Time:0.1326 Data:0.0003  Cls:0.0000(0.0000)  KD:0.5014(0.4908)  prec@1:53.12(50.83)  \n",
            "Epoch[30]:[060/625] Time:0.1190 Data:0.0053  Cls:0.0000(0.0000)  KD:0.4560(0.4906)  prec@1:53.12(50.10)  \n",
            "Epoch[30]:[090/625] Time:0.1102 Data:0.0068  Cls:0.0000(0.0000)  KD:0.4202(0.4924)  prec@1:43.75(51.70)  \n",
            "Epoch[30]:[120/625] Time:0.1401 Data:0.0053  Cls:0.0000(0.0000)  KD:0.5167(0.4906)  prec@1:46.88(50.76)  \n",
            "Epoch[30]:[150/625] Time:0.1412 Data:0.0513  Cls:0.0000(0.0000)  KD:0.4519(0.4875)  prec@1:46.88(50.27)  \n",
            "Epoch[30]:[180/625] Time:0.1375 Data:0.0002  Cls:0.0000(0.0000)  KD:0.5037(0.4856)  prec@1:53.12(50.52)  \n",
            "Epoch[30]:[210/625] Time:0.1308 Data:0.0002  Cls:0.0000(0.0000)  KD:0.4356(0.4838)  prec@1:56.25(50.10)  \n",
            "Epoch[30]:[240/625] Time:0.1715 Data:0.0764  Cls:0.0000(0.0000)  KD:0.5102(0.4830)  prec@1:43.75(49.90)  \n",
            "Epoch[30]:[270/625] Time:0.1129 Data:0.0002  Cls:0.0000(0.0000)  KD:0.4448(0.4820)  prec@1:56.25(49.66)  \n",
            "Epoch[30]:[300/625] Time:0.1275 Data:0.0003  Cls:0.0000(0.0000)  KD:0.4759(0.4833)  prec@1:46.88(49.59)  \n",
            "Epoch[30]:[330/625] Time:0.1066 Data:0.0003  Cls:0.0000(0.0000)  KD:0.5017(0.4834)  prec@1:46.88(49.64)  \n",
            "Epoch[30]:[360/625] Time:0.1220 Data:0.0054  Cls:0.0000(0.0000)  KD:0.4744(0.4840)  prec@1:40.62(49.75)  \n",
            "Epoch[30]:[390/625] Time:0.1263 Data:0.0358  Cls:0.0000(0.0000)  KD:0.4467(0.4837)  prec@1:43.75(49.84)  \n",
            "Epoch[30]:[420/625] Time:0.1290 Data:0.0152  Cls:0.0000(0.0000)  KD:0.5436(0.4839)  prec@1:62.50(49.73)  \n",
            "Epoch[30]:[450/625] Time:0.1132 Data:0.0003  Cls:0.0000(0.0000)  KD:0.4375(0.4837)  prec@1:53.12(49.83)  \n",
            "Epoch[30]:[480/625] Time:0.1221 Data:0.0055  Cls:0.0000(0.0000)  KD:0.5445(0.4841)  prec@1:46.88(49.87)  \n",
            "Epoch[30]:[510/625] Time:0.1279 Data:0.0064  Cls:0.0000(0.0000)  KD:0.4934(0.4839)  prec@1:53.12(49.90)  \n",
            "Epoch[30]:[540/625] Time:0.1178 Data:0.0070  Cls:0.0000(0.0000)  KD:0.5112(0.4851)  prec@1:56.25(49.96)  \n",
            "Epoch[30]:[570/625] Time:0.1284 Data:0.0003  Cls:0.0000(0.0000)  KD:0.4271(0.4858)  prec@1:56.25(49.99)  \n",
            "Epoch[30]:[600/625] Time:0.1101 Data:0.0002  Cls:0.0000(0.0000)  KD:0.5034(0.4859)  prec@1:50.00(50.00)  \n",
            "Epoch time: 85s\n",
            "Epoch[31]:[030/625] Time:0.1667 Data:0.0570  Cls:0.0000(0.0000)  KD:0.5031(0.4819)  prec@1:65.62(46.98)  \n",
            "Epoch[31]:[060/625] Time:0.1629 Data:0.0661  Cls:0.0000(0.0000)  KD:0.4560(0.4851)  prec@1:37.50(47.55)  \n",
            "Epoch[31]:[090/625] Time:0.1565 Data:0.0003  Cls:0.0000(0.0000)  KD:0.5411(0.4860)  prec@1:56.25(48.06)  \n",
            "Epoch[31]:[120/625] Time:0.1374 Data:0.0001  Cls:0.0000(0.0000)  KD:0.4883(0.4874)  prec@1:43.75(48.62)  \n",
            "Epoch[31]:[150/625] Time:0.1741 Data:0.0769  Cls:0.0000(0.0000)  KD:0.5044(0.4874)  prec@1:43.75(48.38)  \n",
            "Epoch[31]:[180/625] Time:0.1349 Data:0.0379  Cls:0.0000(0.0000)  KD:0.4325(0.4874)  prec@1:59.38(48.66)  \n",
            "Epoch[31]:[210/625] Time:0.1581 Data:0.0604  Cls:0.0000(0.0000)  KD:0.4941(0.4886)  prec@1:59.38(48.84)  \n",
            "Epoch[31]:[240/625] Time:0.1297 Data:0.0254  Cls:0.0000(0.0000)  KD:0.4637(0.4887)  prec@1:56.25(48.92)  \n",
            "Epoch[31]:[270/625] Time:0.1350 Data:0.0305  Cls:0.0000(0.0000)  KD:0.4355(0.4866)  prec@1:59.38(49.18)  \n",
            "Epoch[31]:[300/625] Time:0.1345 Data:0.0052  Cls:0.0000(0.0000)  KD:0.4983(0.4872)  prec@1:53.12(49.30)  \n",
            "Epoch[31]:[330/625] Time:0.1405 Data:0.0070  Cls:0.0000(0.0000)  KD:0.4972(0.4869)  prec@1:50.00(49.34)  \n",
            "Epoch[31]:[360/625] Time:0.1439 Data:0.0053  Cls:0.0000(0.0000)  KD:0.5610(0.4864)  prec@1:56.25(49.31)  \n",
            "Epoch[31]:[390/625] Time:0.1348 Data:0.0002  Cls:0.0000(0.0000)  KD:0.4960(0.4866)  prec@1:46.88(49.27)  \n",
            "Epoch[31]:[420/625] Time:0.1232 Data:0.0003  Cls:0.0000(0.0000)  KD:0.5905(0.4859)  prec@1:62.50(49.40)  \n",
            "Epoch[31]:[450/625] Time:0.1473 Data:0.0418  Cls:0.0000(0.0000)  KD:0.4535(0.4850)  prec@1:62.50(49.56)  \n",
            "Epoch[31]:[480/625] Time:0.1152 Data:0.0002  Cls:0.0000(0.0000)  KD:0.4918(0.4863)  prec@1:53.12(49.77)  \n",
            "Epoch[31]:[510/625] Time:0.1286 Data:0.0002  Cls:0.0000(0.0000)  KD:0.4618(0.4863)  prec@1:56.25(49.91)  \n",
            "Epoch[31]:[540/625] Time:0.1235 Data:0.0066  Cls:0.0000(0.0000)  KD:0.4389(0.4866)  prec@1:53.12(50.02)  \n",
            "Epoch[31]:[570/625] Time:0.1251 Data:0.0063  Cls:0.0000(0.0000)  KD:0.4365(0.4864)  prec@1:40.62(49.88)  \n",
            "Epoch[31]:[600/625] Time:0.1495 Data:0.0001  Cls:0.0000(0.0000)  KD:0.4592(0.4863)  prec@1:46.88(49.91)  \n",
            "Epoch time: 85s\n",
            "Epoch[32]:[030/625] Time:0.1296 Data:0.0002  Cls:0.0000(0.0000)  KD:0.5133(0.4848)  prec@1:37.50(48.23)  \n",
            "Epoch[32]:[060/625] Time:0.1278 Data:0.0051  Cls:0.0000(0.0000)  KD:0.5128(0.4843)  prec@1:50.00(50.10)  \n",
            "Epoch[32]:[090/625] Time:0.1251 Data:0.0072  Cls:0.0000(0.0000)  KD:0.5374(0.4836)  prec@1:43.75(49.41)  \n",
            "Epoch[32]:[120/625] Time:0.1151 Data:0.0054  Cls:0.0000(0.0000)  KD:0.4673(0.4838)  prec@1:50.00(49.40)  \n",
            "Epoch[32]:[150/625] Time:0.1314 Data:0.0003  Cls:0.0000(0.0000)  KD:0.4097(0.4854)  prec@1:50.00(49.90)  \n",
            "Epoch[32]:[180/625] Time:0.1535 Data:0.0003  Cls:0.0000(0.0000)  KD:0.5267(0.4856)  prec@1:53.12(49.67)  \n",
            "Epoch[32]:[210/625] Time:0.1293 Data:0.0356  Cls:0.0000(0.0000)  KD:0.4991(0.4872)  prec@1:46.88(49.54)  \n",
            "Epoch[32]:[240/625] Time:0.1227 Data:0.0003  Cls:0.0000(0.0000)  KD:0.4938(0.4864)  prec@1:46.88(49.22)  \n",
            "Epoch[32]:[270/625] Time:0.1263 Data:0.0305  Cls:0.0000(0.0000)  KD:0.5005(0.4876)  prec@1:40.62(49.44)  \n",
            "Epoch[32]:[300/625] Time:0.1272 Data:0.0002  Cls:0.0000(0.0000)  KD:0.5829(0.4880)  prec@1:65.62(49.70)  \n",
            "Epoch[32]:[330/625] Time:0.1703 Data:0.0538  Cls:0.0000(0.0000)  KD:0.4176(0.4882)  prec@1:53.12(50.09)  \n",
            "Epoch[32]:[360/625] Time:0.1625 Data:0.0604  Cls:0.0000(0.0000)  KD:0.5754(0.4883)  prec@1:43.75(49.97)  \n",
            "Epoch[32]:[390/625] Time:0.1197 Data:0.0069  Cls:0.0000(0.0000)  KD:0.4338(0.4878)  prec@1:46.88(49.96)  \n",
            "Epoch[32]:[420/625] Time:0.1120 Data:0.0002  Cls:0.0000(0.0000)  KD:0.5150(0.4868)  prec@1:53.12(50.07)  \n",
            "Epoch[32]:[450/625] Time:0.1472 Data:0.0054  Cls:0.0000(0.0000)  KD:0.5364(0.4870)  prec@1:46.88(49.88)  \n",
            "Epoch[32]:[480/625] Time:0.1403 Data:0.0338  Cls:0.0000(0.0000)  KD:0.5378(0.4866)  prec@1:62.50(49.87)  \n",
            "Epoch[32]:[510/625] Time:0.1217 Data:0.0011  Cls:0.0000(0.0000)  KD:0.4989(0.4856)  prec@1:59.38(50.00)  \n",
            "Epoch[32]:[540/625] Time:0.1254 Data:0.0343  Cls:0.0000(0.0000)  KD:0.5107(0.4847)  prec@1:53.12(49.94)  \n",
            "Epoch[32]:[570/625] Time:0.1135 Data:0.0003  Cls:0.0000(0.0000)  KD:0.5519(0.4851)  prec@1:50.00(50.07)  \n",
            "Epoch[32]:[600/625] Time:0.1583 Data:0.0569  Cls:0.0000(0.0000)  KD:0.4398(0.4857)  prec@1:59.38(50.03)  \n",
            "Epoch time: 85s\n",
            "Epoch[33]:[030/625] Time:0.1797 Data:0.0670  Cls:0.0000(0.0000)  KD:0.4943(0.4899)  prec@1:65.62(49.48)  \n",
            "Epoch[33]:[060/625] Time:0.1214 Data:0.0166  Cls:0.0000(0.0000)  KD:0.4813(0.4945)  prec@1:56.25(49.95)  \n",
            "Epoch[33]:[090/625] Time:0.1192 Data:0.0086  Cls:0.0000(0.0000)  KD:0.4992(0.4942)  prec@1:53.12(50.21)  \n",
            "Epoch[33]:[120/625] Time:0.1140 Data:0.0064  Cls:0.0000(0.0000)  KD:0.4959(0.4909)  prec@1:53.12(49.84)  \n",
            "Epoch[33]:[150/625] Time:0.1198 Data:0.0041  Cls:0.0000(0.0000)  KD:0.4708(0.4928)  prec@1:62.50(49.92)  \n"
          ],
          "name": "stdout"
        },
        {
          "output_type": "error",
          "ename": "KeyboardInterrupt",
          "evalue": "ignored",
          "traceback": [
            "\u001b[0;31m---------------------------------------------------------------------------\u001b[0m",
            "\u001b[0;31mKeyboardInterrupt\u001b[0m                         Traceback (most recent call last)",
            "\u001b[0;32m<ipython-input-93-7ca8575940a7>\u001b[0m in \u001b[0;36m<module>\u001b[0;34m()\u001b[0m\n\u001b[1;32m      5\u001b[0m   \u001b[0;31m# train one epoch\u001b[0m\u001b[0;34m\u001b[0m\u001b[0;34m\u001b[0m\u001b[0;34m\u001b[0m\u001b[0m\n\u001b[1;32m      6\u001b[0m   \u001b[0mepoch_start_time\u001b[0m \u001b[0;34m=\u001b[0m \u001b[0mtime\u001b[0m\u001b[0;34m.\u001b[0m\u001b[0mtime\u001b[0m\u001b[0;34m(\u001b[0m\u001b[0;34m)\u001b[0m\u001b[0;34m\u001b[0m\u001b[0;34m\u001b[0m\u001b[0m\n\u001b[0;32m----> 7\u001b[0;31m   \u001b[0mtrain\u001b[0m\u001b[0;34m(\u001b[0m\u001b[0mtrain_loader\u001b[0m\u001b[0;34m,\u001b[0m \u001b[0mnets\u001b[0m\u001b[0;34m,\u001b[0m \u001b[0moptimizer\u001b[0m\u001b[0;34m,\u001b[0m \u001b[0mcriterions\u001b[0m\u001b[0;34m,\u001b[0m \u001b[0mepoch\u001b[0m\u001b[0;34m)\u001b[0m\u001b[0;34m\u001b[0m\u001b[0;34m\u001b[0m\u001b[0m\n\u001b[0m\u001b[1;32m      8\u001b[0m \u001b[0;34m\u001b[0m\u001b[0m\n\u001b[1;32m      9\u001b[0m   \u001b[0mepoch_duration\u001b[0m \u001b[0;34m=\u001b[0m \u001b[0mtime\u001b[0m\u001b[0;34m.\u001b[0m\u001b[0mtime\u001b[0m\u001b[0;34m(\u001b[0m\u001b[0;34m)\u001b[0m \u001b[0;34m-\u001b[0m \u001b[0mepoch_start_time\u001b[0m\u001b[0;34m\u001b[0m\u001b[0;34m\u001b[0m\u001b[0m\n",
            "\u001b[0;32m<ipython-input-53-afdae137be75>\u001b[0m in \u001b[0;36mtrain\u001b[0;34m(train_loader, nets, optimizer, criterions, epoch)\u001b[0m\n\u001b[1;32m     33\u001b[0m \u001b[0;34m\u001b[0m\u001b[0m\n\u001b[1;32m     34\u001b[0m         \u001b[0mout_s\u001b[0m \u001b[0;34m=\u001b[0m \u001b[0msnet\u001b[0m\u001b[0;34m(\u001b[0m\u001b[0mimg\u001b[0m\u001b[0;34m)\u001b[0m\u001b[0;34m\u001b[0m\u001b[0;34m\u001b[0m\u001b[0m\n\u001b[0;32m---> 35\u001b[0;31m         \u001b[0mout_t\u001b[0m \u001b[0;34m=\u001b[0m \u001b[0mtnet\u001b[0m\u001b[0;34m(\u001b[0m\u001b[0mimg\u001b[0m\u001b[0;34m)\u001b[0m\u001b[0;34m\u001b[0m\u001b[0;34m\u001b[0m\u001b[0m\n\u001b[0m\u001b[1;32m     36\u001b[0m \u001b[0;34m\u001b[0m\u001b[0m\n\u001b[1;32m     37\u001b[0m         \u001b[0mtarget\u001b[0m \u001b[0;34m=\u001b[0m \u001b[0mtarget\u001b[0m\u001b[0;34m.\u001b[0m\u001b[0munsqueeze\u001b[0m\u001b[0;34m(\u001b[0m\u001b[0;36m1\u001b[0m\u001b[0;34m)\u001b[0m\u001b[0;34m\u001b[0m\u001b[0;34m\u001b[0m\u001b[0m\n",
            "\u001b[0;32m/usr/local/lib/python3.7/dist-packages/torch/nn/modules/module.py\u001b[0m in \u001b[0;36m_call_impl\u001b[0;34m(self, *input, **kwargs)\u001b[0m\n\u001b[1;32m   1049\u001b[0m         if not (self._backward_hooks or self._forward_hooks or self._forward_pre_hooks or _global_backward_hooks\n\u001b[1;32m   1050\u001b[0m                 or _global_forward_hooks or _global_forward_pre_hooks):\n\u001b[0;32m-> 1051\u001b[0;31m             \u001b[0;32mreturn\u001b[0m \u001b[0mforward_call\u001b[0m\u001b[0;34m(\u001b[0m\u001b[0;34m*\u001b[0m\u001b[0minput\u001b[0m\u001b[0;34m,\u001b[0m \u001b[0;34m**\u001b[0m\u001b[0mkwargs\u001b[0m\u001b[0;34m)\u001b[0m\u001b[0;34m\u001b[0m\u001b[0;34m\u001b[0m\u001b[0m\n\u001b[0m\u001b[1;32m   1052\u001b[0m         \u001b[0;31m# Do not call functions when jit is used\u001b[0m\u001b[0;34m\u001b[0m\u001b[0;34m\u001b[0m\u001b[0;34m\u001b[0m\u001b[0m\n\u001b[1;32m   1053\u001b[0m         \u001b[0mfull_backward_hooks\u001b[0m\u001b[0;34m,\u001b[0m \u001b[0mnon_full_backward_hooks\u001b[0m \u001b[0;34m=\u001b[0m \u001b[0;34m[\u001b[0m\u001b[0;34m]\u001b[0m\u001b[0;34m,\u001b[0m \u001b[0;34m[\u001b[0m\u001b[0;34m]\u001b[0m\u001b[0;34m\u001b[0m\u001b[0;34m\u001b[0m\u001b[0m\n",
            "\u001b[0;32m/usr/local/lib/python3.7/dist-packages/torchvision/models/resnet.py\u001b[0m in \u001b[0;36mforward\u001b[0;34m(self, x)\u001b[0m\n\u001b[1;32m    247\u001b[0m \u001b[0;34m\u001b[0m\u001b[0m\n\u001b[1;32m    248\u001b[0m     \u001b[0;32mdef\u001b[0m \u001b[0mforward\u001b[0m\u001b[0;34m(\u001b[0m\u001b[0mself\u001b[0m\u001b[0;34m,\u001b[0m \u001b[0mx\u001b[0m\u001b[0;34m:\u001b[0m \u001b[0mTensor\u001b[0m\u001b[0;34m)\u001b[0m \u001b[0;34m->\u001b[0m \u001b[0mTensor\u001b[0m\u001b[0;34m:\u001b[0m\u001b[0;34m\u001b[0m\u001b[0;34m\u001b[0m\u001b[0m\n\u001b[0;32m--> 249\u001b[0;31m         \u001b[0;32mreturn\u001b[0m \u001b[0mself\u001b[0m\u001b[0;34m.\u001b[0m\u001b[0m_forward_impl\u001b[0m\u001b[0;34m(\u001b[0m\u001b[0mx\u001b[0m\u001b[0;34m)\u001b[0m\u001b[0;34m\u001b[0m\u001b[0;34m\u001b[0m\u001b[0m\n\u001b[0m\u001b[1;32m    250\u001b[0m \u001b[0;34m\u001b[0m\u001b[0m\n\u001b[1;32m    251\u001b[0m \u001b[0;34m\u001b[0m\u001b[0m\n",
            "\u001b[0;32m/usr/local/lib/python3.7/dist-packages/torchvision/models/resnet.py\u001b[0m in \u001b[0;36m_forward_impl\u001b[0;34m(self, x)\u001b[0m\n\u001b[1;32m    237\u001b[0m         \u001b[0mx\u001b[0m \u001b[0;34m=\u001b[0m \u001b[0mself\u001b[0m\u001b[0;34m.\u001b[0m\u001b[0mlayer1\u001b[0m\u001b[0;34m(\u001b[0m\u001b[0mx\u001b[0m\u001b[0;34m)\u001b[0m\u001b[0;34m\u001b[0m\u001b[0;34m\u001b[0m\u001b[0m\n\u001b[1;32m    238\u001b[0m         \u001b[0mx\u001b[0m \u001b[0;34m=\u001b[0m \u001b[0mself\u001b[0m\u001b[0;34m.\u001b[0m\u001b[0mlayer2\u001b[0m\u001b[0;34m(\u001b[0m\u001b[0mx\u001b[0m\u001b[0;34m)\u001b[0m\u001b[0;34m\u001b[0m\u001b[0;34m\u001b[0m\u001b[0m\n\u001b[0;32m--> 239\u001b[0;31m         \u001b[0mx\u001b[0m \u001b[0;34m=\u001b[0m \u001b[0mself\u001b[0m\u001b[0;34m.\u001b[0m\u001b[0mlayer3\u001b[0m\u001b[0;34m(\u001b[0m\u001b[0mx\u001b[0m\u001b[0;34m)\u001b[0m\u001b[0;34m\u001b[0m\u001b[0;34m\u001b[0m\u001b[0m\n\u001b[0m\u001b[1;32m    240\u001b[0m         \u001b[0mx\u001b[0m \u001b[0;34m=\u001b[0m \u001b[0mself\u001b[0m\u001b[0;34m.\u001b[0m\u001b[0mlayer4\u001b[0m\u001b[0;34m(\u001b[0m\u001b[0mx\u001b[0m\u001b[0;34m)\u001b[0m\u001b[0;34m\u001b[0m\u001b[0;34m\u001b[0m\u001b[0m\n\u001b[1;32m    241\u001b[0m \u001b[0;34m\u001b[0m\u001b[0m\n",
            "\u001b[0;32m/usr/local/lib/python3.7/dist-packages/torch/nn/modules/module.py\u001b[0m in \u001b[0;36m_call_impl\u001b[0;34m(self, *input, **kwargs)\u001b[0m\n\u001b[1;32m   1049\u001b[0m         if not (self._backward_hooks or self._forward_hooks or self._forward_pre_hooks or _global_backward_hooks\n\u001b[1;32m   1050\u001b[0m                 or _global_forward_hooks or _global_forward_pre_hooks):\n\u001b[0;32m-> 1051\u001b[0;31m             \u001b[0;32mreturn\u001b[0m \u001b[0mforward_call\u001b[0m\u001b[0;34m(\u001b[0m\u001b[0;34m*\u001b[0m\u001b[0minput\u001b[0m\u001b[0;34m,\u001b[0m \u001b[0;34m**\u001b[0m\u001b[0mkwargs\u001b[0m\u001b[0;34m)\u001b[0m\u001b[0;34m\u001b[0m\u001b[0;34m\u001b[0m\u001b[0m\n\u001b[0m\u001b[1;32m   1052\u001b[0m         \u001b[0;31m# Do not call functions when jit is used\u001b[0m\u001b[0;34m\u001b[0m\u001b[0;34m\u001b[0m\u001b[0;34m\u001b[0m\u001b[0m\n\u001b[1;32m   1053\u001b[0m         \u001b[0mfull_backward_hooks\u001b[0m\u001b[0;34m,\u001b[0m \u001b[0mnon_full_backward_hooks\u001b[0m \u001b[0;34m=\u001b[0m \u001b[0;34m[\u001b[0m\u001b[0;34m]\u001b[0m\u001b[0;34m,\u001b[0m \u001b[0;34m[\u001b[0m\u001b[0;34m]\u001b[0m\u001b[0;34m\u001b[0m\u001b[0;34m\u001b[0m\u001b[0m\n",
            "\u001b[0;32m/usr/local/lib/python3.7/dist-packages/torch/nn/modules/container.py\u001b[0m in \u001b[0;36mforward\u001b[0;34m(self, input)\u001b[0m\n\u001b[1;32m    137\u001b[0m     \u001b[0;32mdef\u001b[0m \u001b[0mforward\u001b[0m\u001b[0;34m(\u001b[0m\u001b[0mself\u001b[0m\u001b[0;34m,\u001b[0m \u001b[0minput\u001b[0m\u001b[0;34m)\u001b[0m\u001b[0;34m:\u001b[0m\u001b[0;34m\u001b[0m\u001b[0;34m\u001b[0m\u001b[0m\n\u001b[1;32m    138\u001b[0m         \u001b[0;32mfor\u001b[0m \u001b[0mmodule\u001b[0m \u001b[0;32min\u001b[0m \u001b[0mself\u001b[0m\u001b[0;34m:\u001b[0m\u001b[0;34m\u001b[0m\u001b[0;34m\u001b[0m\u001b[0m\n\u001b[0;32m--> 139\u001b[0;31m             \u001b[0minput\u001b[0m \u001b[0;34m=\u001b[0m \u001b[0mmodule\u001b[0m\u001b[0;34m(\u001b[0m\u001b[0minput\u001b[0m\u001b[0;34m)\u001b[0m\u001b[0;34m\u001b[0m\u001b[0;34m\u001b[0m\u001b[0m\n\u001b[0m\u001b[1;32m    140\u001b[0m         \u001b[0;32mreturn\u001b[0m \u001b[0minput\u001b[0m\u001b[0;34m\u001b[0m\u001b[0;34m\u001b[0m\u001b[0m\n\u001b[1;32m    141\u001b[0m \u001b[0;34m\u001b[0m\u001b[0m\n",
            "\u001b[0;32m/usr/local/lib/python3.7/dist-packages/torch/nn/modules/module.py\u001b[0m in \u001b[0;36m_call_impl\u001b[0;34m(self, *input, **kwargs)\u001b[0m\n\u001b[1;32m   1049\u001b[0m         if not (self._backward_hooks or self._forward_hooks or self._forward_pre_hooks or _global_backward_hooks\n\u001b[1;32m   1050\u001b[0m                 or _global_forward_hooks or _global_forward_pre_hooks):\n\u001b[0;32m-> 1051\u001b[0;31m             \u001b[0;32mreturn\u001b[0m \u001b[0mforward_call\u001b[0m\u001b[0;34m(\u001b[0m\u001b[0;34m*\u001b[0m\u001b[0minput\u001b[0m\u001b[0;34m,\u001b[0m \u001b[0;34m**\u001b[0m\u001b[0mkwargs\u001b[0m\u001b[0;34m)\u001b[0m\u001b[0;34m\u001b[0m\u001b[0;34m\u001b[0m\u001b[0m\n\u001b[0m\u001b[1;32m   1052\u001b[0m         \u001b[0;31m# Do not call functions when jit is used\u001b[0m\u001b[0;34m\u001b[0m\u001b[0;34m\u001b[0m\u001b[0;34m\u001b[0m\u001b[0m\n\u001b[1;32m   1053\u001b[0m         \u001b[0mfull_backward_hooks\u001b[0m\u001b[0;34m,\u001b[0m \u001b[0mnon_full_backward_hooks\u001b[0m \u001b[0;34m=\u001b[0m \u001b[0;34m[\u001b[0m\u001b[0;34m]\u001b[0m\u001b[0;34m,\u001b[0m \u001b[0;34m[\u001b[0m\u001b[0;34m]\u001b[0m\u001b[0;34m\u001b[0m\u001b[0;34m\u001b[0m\u001b[0m\n",
            "\u001b[0;32m/usr/local/lib/python3.7/dist-packages/torchvision/models/resnet.py\u001b[0m in \u001b[0;36mforward\u001b[0;34m(self, x)\u001b[0m\n\u001b[1;32m    130\u001b[0m         \u001b[0mout\u001b[0m \u001b[0;34m=\u001b[0m \u001b[0mself\u001b[0m\u001b[0;34m.\u001b[0m\u001b[0mrelu\u001b[0m\u001b[0;34m(\u001b[0m\u001b[0mout\u001b[0m\u001b[0;34m)\u001b[0m\u001b[0;34m\u001b[0m\u001b[0;34m\u001b[0m\u001b[0m\n\u001b[1;32m    131\u001b[0m \u001b[0;34m\u001b[0m\u001b[0m\n\u001b[0;32m--> 132\u001b[0;31m         \u001b[0mout\u001b[0m \u001b[0;34m=\u001b[0m \u001b[0mself\u001b[0m\u001b[0;34m.\u001b[0m\u001b[0mconv3\u001b[0m\u001b[0;34m(\u001b[0m\u001b[0mout\u001b[0m\u001b[0;34m)\u001b[0m\u001b[0;34m\u001b[0m\u001b[0;34m\u001b[0m\u001b[0m\n\u001b[0m\u001b[1;32m    133\u001b[0m         \u001b[0mout\u001b[0m \u001b[0;34m=\u001b[0m \u001b[0mself\u001b[0m\u001b[0;34m.\u001b[0m\u001b[0mbn3\u001b[0m\u001b[0;34m(\u001b[0m\u001b[0mout\u001b[0m\u001b[0;34m)\u001b[0m\u001b[0;34m\u001b[0m\u001b[0;34m\u001b[0m\u001b[0m\n\u001b[1;32m    134\u001b[0m \u001b[0;34m\u001b[0m\u001b[0m\n",
            "\u001b[0;32m/usr/local/lib/python3.7/dist-packages/torch/nn/modules/module.py\u001b[0m in \u001b[0;36m_call_impl\u001b[0;34m(self, *input, **kwargs)\u001b[0m\n\u001b[1;32m   1049\u001b[0m         if not (self._backward_hooks or self._forward_hooks or self._forward_pre_hooks or _global_backward_hooks\n\u001b[1;32m   1050\u001b[0m                 or _global_forward_hooks or _global_forward_pre_hooks):\n\u001b[0;32m-> 1051\u001b[0;31m             \u001b[0;32mreturn\u001b[0m \u001b[0mforward_call\u001b[0m\u001b[0;34m(\u001b[0m\u001b[0;34m*\u001b[0m\u001b[0minput\u001b[0m\u001b[0;34m,\u001b[0m \u001b[0;34m**\u001b[0m\u001b[0mkwargs\u001b[0m\u001b[0;34m)\u001b[0m\u001b[0;34m\u001b[0m\u001b[0;34m\u001b[0m\u001b[0m\n\u001b[0m\u001b[1;32m   1052\u001b[0m         \u001b[0;31m# Do not call functions when jit is used\u001b[0m\u001b[0;34m\u001b[0m\u001b[0;34m\u001b[0m\u001b[0;34m\u001b[0m\u001b[0m\n\u001b[1;32m   1053\u001b[0m         \u001b[0mfull_backward_hooks\u001b[0m\u001b[0;34m,\u001b[0m \u001b[0mnon_full_backward_hooks\u001b[0m \u001b[0;34m=\u001b[0m \u001b[0;34m[\u001b[0m\u001b[0;34m]\u001b[0m\u001b[0;34m,\u001b[0m \u001b[0;34m[\u001b[0m\u001b[0;34m]\u001b[0m\u001b[0;34m\u001b[0m\u001b[0;34m\u001b[0m\u001b[0m\n",
            "\u001b[0;32m/usr/local/lib/python3.7/dist-packages/torch/nn/modules/conv.py\u001b[0m in \u001b[0;36mforward\u001b[0;34m(self, input)\u001b[0m\n\u001b[1;32m    441\u001b[0m \u001b[0;34m\u001b[0m\u001b[0m\n\u001b[1;32m    442\u001b[0m     \u001b[0;32mdef\u001b[0m \u001b[0mforward\u001b[0m\u001b[0;34m(\u001b[0m\u001b[0mself\u001b[0m\u001b[0;34m,\u001b[0m \u001b[0minput\u001b[0m\u001b[0;34m:\u001b[0m \u001b[0mTensor\u001b[0m\u001b[0;34m)\u001b[0m \u001b[0;34m->\u001b[0m \u001b[0mTensor\u001b[0m\u001b[0;34m:\u001b[0m\u001b[0;34m\u001b[0m\u001b[0;34m\u001b[0m\u001b[0m\n\u001b[0;32m--> 443\u001b[0;31m         \u001b[0;32mreturn\u001b[0m \u001b[0mself\u001b[0m\u001b[0;34m.\u001b[0m\u001b[0m_conv_forward\u001b[0m\u001b[0;34m(\u001b[0m\u001b[0minput\u001b[0m\u001b[0;34m,\u001b[0m \u001b[0mself\u001b[0m\u001b[0;34m.\u001b[0m\u001b[0mweight\u001b[0m\u001b[0;34m,\u001b[0m \u001b[0mself\u001b[0m\u001b[0;34m.\u001b[0m\u001b[0mbias\u001b[0m\u001b[0;34m)\u001b[0m\u001b[0;34m\u001b[0m\u001b[0;34m\u001b[0m\u001b[0m\n\u001b[0m\u001b[1;32m    444\u001b[0m \u001b[0;34m\u001b[0m\u001b[0m\n\u001b[1;32m    445\u001b[0m \u001b[0;32mclass\u001b[0m \u001b[0mConv3d\u001b[0m\u001b[0;34m(\u001b[0m\u001b[0m_ConvNd\u001b[0m\u001b[0;34m)\u001b[0m\u001b[0;34m:\u001b[0m\u001b[0;34m\u001b[0m\u001b[0;34m\u001b[0m\u001b[0m\n",
            "\u001b[0;32m/usr/local/lib/python3.7/dist-packages/torch/nn/modules/conv.py\u001b[0m in \u001b[0;36m_conv_forward\u001b[0;34m(self, input, weight, bias)\u001b[0m\n\u001b[1;32m    438\u001b[0m                             _pair(0), self.dilation, self.groups)\n\u001b[1;32m    439\u001b[0m         return F.conv2d(input, weight, bias, self.stride,\n\u001b[0;32m--> 440\u001b[0;31m                         self.padding, self.dilation, self.groups)\n\u001b[0m\u001b[1;32m    441\u001b[0m \u001b[0;34m\u001b[0m\u001b[0m\n\u001b[1;32m    442\u001b[0m     \u001b[0;32mdef\u001b[0m \u001b[0mforward\u001b[0m\u001b[0;34m(\u001b[0m\u001b[0mself\u001b[0m\u001b[0;34m,\u001b[0m \u001b[0minput\u001b[0m\u001b[0;34m:\u001b[0m \u001b[0mTensor\u001b[0m\u001b[0;34m)\u001b[0m \u001b[0;34m->\u001b[0m \u001b[0mTensor\u001b[0m\u001b[0;34m:\u001b[0m\u001b[0;34m\u001b[0m\u001b[0;34m\u001b[0m\u001b[0m\n",
            "\u001b[0;31mKeyboardInterrupt\u001b[0m: "
          ]
        }
      ]
    },
    {
      "cell_type": "markdown",
      "metadata": {
        "id": "LLw3gmmKGAzI"
      },
      "source": [
        "Epochs 130 aprox"
      ]
    },
    {
      "cell_type": "markdown",
      "metadata": {
        "id": "0aLzezLw9C-b"
      },
      "source": [
        "# Fine Tune Student "
      ]
    },
    {
      "cell_type": "code",
      "metadata": {
        "colab": {
          "base_uri": "https://localhost:8080/"
        },
        "id": "6FBDg1MP9Gny",
        "outputId": "66886b97-bbfb-4313-a05e-bfaebf378ba6"
      },
      "source": [
        "URL_LABELED = data_samples[LABELED]\n",
        "download(UNLABELED, URL_LABELED)"
      ],
      "execution_count": null,
      "outputs": [
        {
          "output_type": "stream",
          "text": [
            "Downloading...\n",
            "From: https://drive.google.com/uc?id=1DPZrHrj3Bdte5Dc6NCZ33CAqMG-Oipa2\n",
            "To: /content/sample@20000.zip\n",
            "108MB [00:01, 80.0MB/s]\n"
          ],
          "name": "stderr"
        }
      ]
    },
    {
      "cell_type": "code",
      "metadata": {
        "id": "et7U8Bj49GtP"
      },
      "source": [
        "train_dataset_ft = torchvision.datasets.ImageFolder(\n",
        "    os.path.join(LABELED, 'train'),\n",
        "    transforms.Compose([\n",
        "        #transforms.RandomResizedCrop(img_dim),\n",
        "        transforms.RandomResizedCrop(224),\n",
        "        transforms.RandomHorizontalFlip(),\n",
        "        transforms.ToTensor(),\n",
        "        normalize,\n",
        "    ]))"
      ],
      "execution_count": null,
      "outputs": []
    },
    {
      "cell_type": "code",
      "metadata": {
        "id": "LhhbLcwP9Gxs"
      },
      "source": [
        "# Define data loader\n",
        "train_loader_ft = torch.utils.data.DataLoader(\n",
        "    train_dataset_ft,\n",
        "    batch_size=args.batch_size, \n",
        "    shuffle=True, \n",
        "    num_workers=2, \n",
        "    pin_memory=True)"
      ],
      "execution_count": null,
      "outputs": []
    },
    {
      "cell_type": "code",
      "metadata": {
        "id": "Q8aaiKOAHOTa"
      },
      "source": [
        "def train_ft(train_loader, nets, optimizer, criterions, epoch):\n",
        "    batch_time = AverageMeter()\n",
        "    data_time  = AverageMeter()\n",
        "    cls_losses = AverageMeter()\n",
        "    kd_losses  = AverageMeter()\n",
        "    top1       = AverageMeter()\n",
        "\n",
        "    snet = nets['snet']\n",
        "\n",
        "    criterionCls = criterions['criterionCls']\n",
        "    criterionKD  = criterions['criterionKD']\n",
        "\n",
        "\n",
        "    snet.train()\n",
        "\n",
        "    if args.kd_mode in ['vid', 'ofd']:\n",
        "        for i in range(1,4):\n",
        "            criterionKD[i].train()\n",
        "\n",
        "    end = time.time()\n",
        "\n",
        "    for i, (img, target) in enumerate(train_loader, start=1):\n",
        "        data_time.update(time.time() - end)\n",
        "\n",
        "        if args.cuda:\n",
        "            img = img.cuda(non_blocking=True)\n",
        "            target = target.cuda(non_blocking=True)\n",
        "\n",
        "        if args.kd_mode in ['sobolev', 'lwm']:\n",
        "            img.requires_grad = True\n",
        "\n",
        "        out_s = snet(img)\n",
        "\n",
        "        target = target.unsqueeze(1)\n",
        "        target = target.to(torch.float32)\n",
        "\n",
        "        cls_loss = criterionCls(out_s, target)\n",
        "\n",
        "        loss = cls_loss # YOOO\n",
        "\n",
        "        prec1 = accuracy(out_s, target, topk=(1,))\n",
        "\n",
        "        cls_losses.update(cls_loss.item(), img.size(0))\n",
        "        top1.update(prec1[0].item(), img.size(0))\n",
        "\n",
        "        optimizer.zero_grad()\n",
        "        loss.backward()\n",
        "        optimizer.step()\n",
        "\n",
        "        batch_time.update(time.time() - end)\n",
        "        end = time.time()\n",
        "\n",
        "        if i % args.print_freq == 0:\n",
        "            log_str = ('Epoch[{0}]:[{1:03}/{2:03}] '\n",
        "                        'Time:{batch_time.val:.4f} '\n",
        "                        'Data:{data_time.val:.4f}  '\n",
        "                        'Cls:{cls_losses.val:.4f}({cls_losses.avg:.4f})  '\n",
        "                        'prec@1:{top1.val:.2f}({top1.avg:.2f})  '.format(\n",
        "                        epoch, i, len(train_loader), batch_time=batch_time, data_time=data_time,\n",
        "                        cls_losses=cls_losses, top1=top1))\n",
        "            logging.info(log_str)\n",
        "            print(log_str)"
      ],
      "execution_count": null,
      "outputs": []
    },
    {
      "cell_type": "code",
      "metadata": {
        "colab": {
          "base_uri": "https://localhost:8080/"
        },
        "id": "irnfQ5DaHOZa",
        "outputId": "0ba7335f-eea9-45db-d90f-cf601036a8d9"
      },
      "source": [
        "best_top1 = 0\n",
        "for epoch in range(1, args.epochs+1):\n",
        "  #adjust_lr(optimizer, epoch)\n",
        "\n",
        "  # train one epoch\n",
        "  epoch_start_time = time.time()\n",
        "  train_ft(train_loader_ft, nets, optimizer, criterions, epoch)\n",
        "\n",
        "  epoch_duration = time.time() - epoch_start_time\n",
        "  logging.info('Epoch time: {}s'.format(int(epoch_duration)))\n",
        "  print('Epoch time: {}s'.format(int(epoch_duration)))"
      ],
      "execution_count": null,
      "outputs": [
        {
          "output_type": "stream",
          "text": [
            "Epoch[1]:[030/032] Time:0.1043 Data:0.0564  Cls:0.1405(0.1323)  prec@1:62.50(50.10)  \n",
            "Epoch time: 4s\n",
            "Epoch[2]:[030/032] Time:0.1513 Data:0.1063  Cls:0.1138(0.1349)  prec@1:53.12(50.00)  \n",
            "Epoch time: 4s\n",
            "Epoch[3]:[030/032] Time:0.1374 Data:0.0926  Cls:0.1951(0.1583)  prec@1:53.12(50.10)  \n",
            "Epoch time: 3s\n",
            "Epoch[4]:[030/032] Time:0.1825 Data:0.1391  Cls:0.0730(0.1419)  prec@1:46.88(50.21)  \n",
            "Epoch time: 3s\n",
            "Epoch[5]:[030/032] Time:0.0740 Data:0.0001  Cls:0.2627(0.1562)  prec@1:37.50(50.10)  \n",
            "Epoch time: 4s\n",
            "Epoch[6]:[030/032] Time:0.0642 Data:0.0001  Cls:0.1511(0.1427)  prec@1:56.25(49.58)  \n",
            "Epoch time: 3s\n",
            "Epoch[7]:[030/032] Time:0.0753 Data:0.0001  Cls:0.1061(0.1402)  prec@1:43.75(50.00)  \n",
            "Epoch time: 4s\n",
            "Epoch[8]:[030/032] Time:0.0784 Data:0.0001  Cls:0.1190(0.1182)  prec@1:50.00(50.10)  \n",
            "Epoch time: 3s\n",
            "Epoch[9]:[030/032] Time:0.1430 Data:0.0952  Cls:0.1623(0.1266)  prec@1:43.75(49.69)  \n",
            "Epoch time: 4s\n",
            "Epoch[10]:[030/032] Time:0.0805 Data:0.0151  Cls:0.1284(0.1753)  prec@1:46.88(50.31)  \n",
            "Epoch time: 4s\n",
            "Epoch[11]:[030/032] Time:0.0749 Data:0.0001  Cls:0.2310(0.1279)  prec@1:53.12(49.90)  \n",
            "Epoch time: 3s\n",
            "Epoch[12]:[030/032] Time:0.1150 Data:0.0628  Cls:0.1037(0.1654)  prec@1:34.38(50.00)  \n",
            "Epoch time: 3s\n",
            "Epoch[13]:[030/032] Time:0.1303 Data:0.0867  Cls:0.2064(0.1534)  prec@1:25.00(49.48)  \n",
            "Epoch time: 3s\n",
            "Epoch[14]:[030/032] Time:0.0744 Data:0.0001  Cls:0.0597(0.1379)  prec@1:53.12(49.69)  \n",
            "Epoch time: 4s\n",
            "Epoch[15]:[030/032] Time:0.0645 Data:0.0001  Cls:0.0967(0.1503)  prec@1:46.88(49.27)  \n",
            "Epoch time: 4s\n",
            "Epoch[16]:[030/032] Time:0.0753 Data:0.0001  Cls:0.1881(0.1650)  prec@1:40.62(49.90)  \n",
            "Epoch time: 4s\n",
            "Epoch[17]:[030/032] Time:0.0627 Data:0.0001  Cls:0.1263(0.1397)  prec@1:53.12(50.52)  \n",
            "Epoch time: 4s\n",
            "Epoch[18]:[030/032] Time:0.1054 Data:0.0599  Cls:0.1604(0.1552)  prec@1:62.50(49.79)  \n",
            "Epoch time: 4s\n",
            "Epoch[19]:[030/032] Time:0.1826 Data:0.1411  Cls:0.0842(0.1299)  prec@1:43.75(50.00)  \n",
            "Epoch time: 3s\n",
            "Epoch[20]:[030/032] Time:0.0787 Data:0.0001  Cls:0.1027(0.1551)  prec@1:46.88(49.79)  \n",
            "Epoch time: 3s\n",
            "Epoch[21]:[030/032] Time:0.1376 Data:0.0956  Cls:0.0546(0.1442)  prec@1:56.25(50.00)  \n",
            "Epoch time: 3s\n",
            "Epoch[22]:[030/032] Time:0.0738 Data:0.0001  Cls:0.1235(0.1134)  prec@1:46.88(50.52)  \n",
            "Epoch time: 3s\n",
            "Epoch[23]:[030/032] Time:0.0636 Data:0.0001  Cls:0.1041(0.1411)  prec@1:50.00(50.21)  \n",
            "Epoch time: 3s\n",
            "Epoch[24]:[030/032] Time:0.1066 Data:0.0614  Cls:0.1076(0.1448)  prec@1:43.75(50.10)  \n",
            "Epoch time: 4s\n",
            "Epoch[25]:[030/032] Time:0.0759 Data:0.0001  Cls:0.1068(0.1430)  prec@1:43.75(49.79)  \n",
            "Epoch time: 4s\n",
            "Epoch[26]:[030/032] Time:0.0897 Data:0.0001  Cls:0.1288(0.1370)  prec@1:46.88(50.42)  \n",
            "Epoch time: 4s\n",
            "Epoch[27]:[030/032] Time:0.0748 Data:0.0001  Cls:0.1722(0.1524)  prec@1:59.38(50.21)  \n",
            "Epoch time: 3s\n",
            "Epoch[28]:[030/032] Time:0.0752 Data:0.0001  Cls:0.1807(0.1413)  prec@1:56.25(50.00)  \n",
            "Epoch time: 4s\n",
            "Epoch[29]:[030/032] Time:0.1378 Data:0.0941  Cls:0.1119(0.1109)  prec@1:53.12(50.73)  \n",
            "Epoch time: 3s\n",
            "Epoch[30]:[030/032] Time:0.1691 Data:0.1156  Cls:0.0887(0.1383)  prec@1:40.62(49.90)  \n",
            "Epoch time: 3s\n",
            "Epoch[31]:[030/032] Time:0.1174 Data:0.0688  Cls:0.1602(0.1586)  prec@1:50.00(49.90)  \n",
            "Epoch time: 3s\n",
            "Epoch[32]:[030/032] Time:0.1833 Data:0.1397  Cls:0.1223(0.1466)  prec@1:37.50(50.00)  \n",
            "Epoch time: 3s\n",
            "Epoch[33]:[030/032] Time:0.1089 Data:0.0567  Cls:0.2279(0.1639)  prec@1:31.25(49.38)  \n",
            "Epoch time: 4s\n",
            "Epoch[34]:[030/032] Time:0.1321 Data:0.0718  Cls:0.1024(0.1358)  prec@1:56.25(50.31)  \n",
            "Epoch time: 3s\n",
            "Epoch[35]:[030/032] Time:0.0695 Data:0.0001  Cls:0.1944(0.1293)  prec@1:56.25(50.00)  \n",
            "Epoch time: 4s\n",
            "Epoch[36]:[030/032] Time:0.0746 Data:0.0001  Cls:0.1162(0.1291)  prec@1:62.50(49.79)  \n",
            "Epoch time: 4s\n",
            "Epoch[37]:[030/032] Time:0.0753 Data:0.0001  Cls:0.0467(0.1277)  prec@1:46.88(49.79)  \n",
            "Epoch time: 3s\n",
            "Epoch[38]:[030/032] Time:0.0749 Data:0.0001  Cls:0.0597(0.1404)  prec@1:46.88(49.79)  \n",
            "Epoch time: 3s\n",
            "Epoch[39]:[030/032] Time:0.1424 Data:0.0901  Cls:0.1384(0.1486)  prec@1:40.62(49.69)  \n",
            "Epoch time: 3s\n",
            "Epoch[40]:[030/032] Time:0.1389 Data:0.0938  Cls:0.1100(0.1491)  prec@1:59.38(50.31)  \n",
            "Epoch time: 4s\n",
            "Epoch[41]:[030/032] Time:0.0666 Data:0.0001  Cls:0.1631(0.1486)  prec@1:34.38(50.21)  \n",
            "Epoch time: 4s\n",
            "Epoch[42]:[030/032] Time:0.1056 Data:0.0607  Cls:0.1150(0.1243)  prec@1:43.75(50.10)  \n",
            "Epoch time: 4s\n",
            "Epoch[43]:[030/032] Time:0.0759 Data:0.0001  Cls:0.3079(0.1421)  prec@1:68.75(50.00)  \n",
            "Epoch time: 4s\n",
            "Epoch[44]:[030/032] Time:0.0871 Data:0.0001  Cls:0.0769(0.1159)  prec@1:50.00(49.48)  \n",
            "Epoch time: 4s\n",
            "Epoch[45]:[030/032] Time:0.1709 Data:0.1212  Cls:0.3016(0.1193)  prec@1:65.62(50.10)  \n",
            "Epoch time: 4s\n",
            "Epoch[46]:[030/032] Time:0.1271 Data:0.0691  Cls:0.1235(0.1419)  prec@1:50.00(49.38)  \n",
            "Epoch time: 4s\n",
            "Epoch[47]:[030/032] Time:0.1422 Data:0.0918  Cls:0.1344(0.1433)  prec@1:40.62(50.00)  \n",
            "Epoch time: 4s\n",
            "Epoch[48]:[030/032] Time:0.1027 Data:0.0522  Cls:0.2660(0.1432)  prec@1:40.62(49.58)  \n",
            "Epoch time: 4s\n",
            "Epoch[49]:[030/032] Time:0.1138 Data:0.0656  Cls:0.0951(0.1362)  prec@1:53.12(49.79)  \n",
            "Epoch time: 4s\n",
            "Epoch[50]:[030/032] Time:0.1283 Data:0.0849  Cls:0.3234(0.1449)  prec@1:31.25(50.00)  \n",
            "Epoch time: 4s\n",
            "Epoch[51]:[030/032] Time:0.1048 Data:0.0604  Cls:0.1327(0.1484)  prec@1:43.75(49.90)  \n",
            "Epoch time: 4s\n",
            "Epoch[52]:[030/032] Time:0.1067 Data:0.0616  Cls:0.1259(0.1290)  prec@1:46.88(50.21)  \n",
            "Epoch time: 4s\n",
            "Epoch[53]:[030/032] Time:0.0731 Data:0.0001  Cls:0.1503(0.1377)  prec@1:65.62(49.79)  \n",
            "Epoch time: 4s\n",
            "Epoch[54]:[030/032] Time:0.0757 Data:0.0001  Cls:0.3249(0.1783)  prec@1:43.75(50.42)  \n",
            "Epoch time: 4s\n",
            "Epoch[55]:[030/032] Time:0.0760 Data:0.0001  Cls:0.0837(0.1480)  prec@1:43.75(49.90)  \n",
            "Epoch time: 4s\n",
            "Epoch[56]:[030/032] Time:0.1073 Data:0.0629  Cls:0.1294(0.1343)  prec@1:56.25(49.48)  \n",
            "Epoch time: 3s\n",
            "Epoch[57]:[030/032] Time:0.1627 Data:0.1190  Cls:0.0777(0.1339)  prec@1:62.50(50.10)  \n",
            "Epoch time: 3s\n",
            "Epoch[58]:[030/032] Time:0.1519 Data:0.1027  Cls:0.0569(0.1193)  prec@1:50.00(49.90)  \n",
            "Epoch time: 4s\n",
            "Epoch[59]:[030/032] Time:0.1093 Data:0.0603  Cls:0.1606(0.1217)  prec@1:43.75(50.00)  \n",
            "Epoch time: 4s\n",
            "Epoch[60]:[030/032] Time:0.0764 Data:0.0001  Cls:0.0972(0.1239)  prec@1:53.12(49.79)  \n",
            "Epoch time: 4s\n",
            "Epoch[61]:[030/032] Time:0.0790 Data:0.0358  Cls:0.2035(0.1453)  prec@1:62.50(50.52)  \n",
            "Epoch time: 4s\n",
            "Epoch[62]:[030/032] Time:0.1571 Data:0.1136  Cls:0.0838(0.1195)  prec@1:56.25(50.31)  \n",
            "Epoch time: 3s\n",
            "Epoch[63]:[030/032] Time:0.0754 Data:0.0001  Cls:0.0446(0.1228)  prec@1:46.88(49.79)  \n",
            "Epoch time: 3s\n",
            "Epoch[64]:[030/032] Time:0.0758 Data:0.0001  Cls:0.0655(0.1169)  prec@1:50.00(49.69)  \n",
            "Epoch time: 3s\n",
            "Epoch[65]:[030/032] Time:0.0844 Data:0.0410  Cls:0.0904(0.1547)  prec@1:46.88(50.31)  \n",
            "Epoch time: 4s\n",
            "Epoch[66]:[030/032] Time:0.0787 Data:0.0295  Cls:0.0722(0.1169)  prec@1:46.88(50.00)  \n",
            "Epoch time: 4s\n",
            "Epoch[67]:[030/032] Time:0.0749 Data:0.0001  Cls:0.3066(0.1423)  prec@1:37.50(50.42)  \n",
            "Epoch time: 4s\n",
            "Epoch[68]:[030/032] Time:0.1307 Data:0.0864  Cls:0.1820(0.1371)  prec@1:40.62(49.69)  \n",
            "Epoch time: 4s\n",
            "Epoch[69]:[030/032] Time:0.0749 Data:0.0001  Cls:0.1707(0.1158)  prec@1:43.75(50.31)  \n",
            "Epoch time: 3s\n",
            "Epoch[70]:[030/032] Time:0.1384 Data:0.0868  Cls:0.1276(0.1084)  prec@1:34.38(49.38)  \n",
            "Epoch time: 3s\n",
            "Epoch[71]:[030/032] Time:0.0749 Data:0.0001  Cls:0.1145(0.1236)  prec@1:50.00(50.52)  \n",
            "Epoch time: 4s\n",
            "Epoch[72]:[030/032] Time:0.1030 Data:0.0602  Cls:0.0497(0.1144)  prec@1:46.88(49.90)  \n",
            "Epoch time: 3s\n",
            "Epoch[73]:[030/032] Time:0.0883 Data:0.0435  Cls:0.0610(0.1121)  prec@1:50.00(50.21)  \n",
            "Epoch time: 4s\n",
            "Epoch[74]:[030/032] Time:0.1237 Data:0.0780  Cls:0.1186(0.1260)  prec@1:43.75(50.42)  \n",
            "Epoch time: 4s\n",
            "Epoch[75]:[030/032] Time:0.0761 Data:0.0001  Cls:0.1235(0.1153)  prec@1:46.88(49.69)  \n",
            "Epoch time: 4s\n",
            "Epoch[76]:[030/032] Time:0.1428 Data:0.0993  Cls:0.0679(0.1330)  prec@1:53.12(50.00)  \n",
            "Epoch time: 4s\n",
            "Epoch[77]:[030/032] Time:0.1749 Data:0.1353  Cls:0.0985(0.1133)  prec@1:56.25(49.79)  \n",
            "Epoch time: 4s\n",
            "Epoch[78]:[030/032] Time:0.0823 Data:0.0001  Cls:0.1987(0.1335)  prec@1:53.12(50.52)  \n",
            "Epoch time: 4s\n",
            "Epoch[79]:[030/032] Time:0.1011 Data:0.0490  Cls:0.0596(0.1339)  prec@1:43.75(50.00)  \n",
            "Epoch time: 3s\n",
            "Epoch[80]:[030/032] Time:0.0763 Data:0.0001  Cls:0.2122(0.1161)  prec@1:46.88(50.31)  \n",
            "Epoch time: 4s\n",
            "Epoch[81]:[030/032] Time:0.0774 Data:0.0240  Cls:0.1189(0.1112)  prec@1:53.12(49.58)  \n",
            "Epoch time: 4s\n",
            "Epoch[82]:[030/032] Time:0.1529 Data:0.1080  Cls:0.0432(0.1199)  prec@1:50.00(50.21)  \n",
            "Epoch time: 4s\n",
            "Epoch[83]:[030/032] Time:0.0779 Data:0.0001  Cls:0.0875(0.1240)  prec@1:59.38(50.31)  \n",
            "Epoch time: 4s\n",
            "Epoch[84]:[030/032] Time:0.0754 Data:0.0001  Cls:0.1575(0.1037)  prec@1:56.25(49.90)  \n",
            "Epoch time: 4s\n",
            "Epoch[85]:[030/032] Time:0.0733 Data:0.0001  Cls:0.2143(0.1268)  prec@1:68.75(50.00)  \n",
            "Epoch time: 4s\n",
            "Epoch[86]:[030/032] Time:0.0692 Data:0.0001  Cls:0.0911(0.1367)  prec@1:53.12(50.73)  \n",
            "Epoch time: 3s\n",
            "Epoch[87]:[030/032] Time:0.0752 Data:0.0001  Cls:0.1870(0.1194)  prec@1:59.38(50.31)  \n",
            "Epoch time: 4s\n",
            "Epoch[88]:[030/032] Time:0.0654 Data:0.0001  Cls:0.1354(0.1200)  prec@1:43.75(49.69)  \n",
            "Epoch time: 4s\n",
            "Epoch[89]:[030/032] Time:0.1258 Data:0.0781  Cls:0.2169(0.1221)  prec@1:68.75(50.00)  \n",
            "Epoch time: 4s\n",
            "Epoch[90]:[030/032] Time:0.0754 Data:0.0001  Cls:0.0725(0.1168)  prec@1:46.88(49.58)  \n",
            "Epoch time: 4s\n",
            "Epoch[91]:[030/032] Time:0.0743 Data:0.0001  Cls:0.1553(0.1246)  prec@1:59.38(49.69)  \n",
            "Epoch time: 4s\n",
            "Epoch[92]:[030/032] Time:0.0811 Data:0.0322  Cls:0.0875(0.1347)  prec@1:46.88(50.52)  \n",
            "Epoch time: 4s\n",
            "Epoch[93]:[030/032] Time:0.0896 Data:0.0470  Cls:0.0525(0.1106)  prec@1:53.12(49.69)  \n",
            "Epoch time: 4s\n",
            "Epoch[94]:[030/032] Time:0.0753 Data:0.0001  Cls:0.1034(0.1097)  prec@1:46.88(50.52)  \n",
            "Epoch time: 4s\n",
            "Epoch[95]:[030/032] Time:0.0818 Data:0.0217  Cls:0.1526(0.1177)  prec@1:34.38(50.10)  \n",
            "Epoch time: 3s\n",
            "Epoch[96]:[030/032] Time:0.0746 Data:0.0001  Cls:0.0589(0.1108)  prec@1:53.12(50.31)  \n",
            "Epoch time: 4s\n",
            "Epoch[97]:[030/032] Time:0.0749 Data:0.0001  Cls:0.2079(0.1006)  prec@1:34.38(50.00)  \n",
            "Epoch time: 3s\n",
            "Epoch[98]:[030/032] Time:0.0744 Data:0.0001  Cls:0.1831(0.1413)  prec@1:50.00(49.90)  \n",
            "Epoch time: 3s\n",
            "Epoch[99]:[030/032] Time:0.0598 Data:0.0001  Cls:0.1196(0.1182)  prec@1:59.38(49.90)  \n",
            "Epoch time: 4s\n",
            "Epoch[100]:[030/032] Time:0.1085 Data:0.0677  Cls:0.1085(0.1052)  prec@1:46.88(50.00)  \n",
            "Epoch time: 4s\n"
          ],
          "name": "stdout"
        }
      ]
    },
    {
      "cell_type": "code",
      "metadata": {
        "id": "N_v3nLc-HOfm"
      },
      "source": [
        ""
      ],
      "execution_count": null,
      "outputs": []
    },
    {
      "cell_type": "code",
      "metadata": {
        "id": "KNVVwvk0HOj-"
      },
      "source": [
        ""
      ],
      "execution_count": null,
      "outputs": []
    },
    {
      "cell_type": "markdown",
      "metadata": {
        "id": "u89ley9bHU9t"
      },
      "source": [
        "# Test"
      ]
    },
    {
      "cell_type": "code",
      "metadata": {
        "id": "CL3fGn_mHxlI"
      },
      "source": [
        "model = snet\n",
        "#model = tnet"
      ],
      "execution_count": null,
      "outputs": []
    },
    {
      "cell_type": "code",
      "metadata": {
        "id": "57WPTOTMHWOA"
      },
      "source": [
        "import zipfile\n",
        "from tqdm import tqdm\n",
        "from torchvision import datasets\n",
        "from torch.utils.data import DataLoader\n",
        "import torchvision.transforms as transforms"
      ],
      "execution_count": null,
      "outputs": []
    },
    {
      "cell_type": "code",
      "metadata": {
        "id": "LdaMUcn8Hcih"
      },
      "source": [
        "test_data = {\n",
        "    \"voets_test_images\": \"https://drive.google.com/uc?id=15S_V3B_Z3BOjCT3AbO2c887FyS5B0Lyd\",\n",
        "    \"messidor2\": \"https://drive.google.com/uc?id=1HaUAxDtN4BNj0hpH8QYGmiX39Va-Ke8p\",\n",
        "}\n",
        "\n",
        "TEST_DATASET = 'messidor2'\n",
        "URL_TEST_DATASET = test_data[TEST_DATASET]"
      ],
      "execution_count": null,
      "outputs": []
    },
    {
      "cell_type": "code",
      "metadata": {
        "id": "6qRmnRKZHfb1",
        "colab": {
          "base_uri": "https://localhost:8080/"
        },
        "outputId": "2bf81c9f-7d41-47d3-c78f-95e1d95a5187"
      },
      "source": [
        "!gdown $URL_TEST_DATASET"
      ],
      "execution_count": null,
      "outputs": [
        {
          "output_type": "stream",
          "text": [
            "Downloading...\n",
            "From: https://drive.google.com/uc?id=1HaUAxDtN4BNj0hpH8QYGmiX39Va-Ke8p\n",
            "To: /content/messidor2.zip\n",
            "106MB [00:00, 256MB/s] \n"
          ],
          "name": "stdout"
        }
      ]
    },
    {
      "cell_type": "code",
      "metadata": {
        "id": "oOACBiReHhhI"
      },
      "source": [
        "local_zip = '{}.zip'.format(TEST_DATASET)\n",
        "zip_ref = zipfile.ZipFile(local_zip, 'r')\n",
        "zip_ref.extractall('/content/')\n",
        "zip_ref.close()"
      ],
      "execution_count": null,
      "outputs": []
    },
    {
      "cell_type": "code",
      "metadata": {
        "id": "NCS8RLAtHiaE"
      },
      "source": [
        "cifar10_mean = (0.4914, 0.4822, 0.4465)\n",
        "cifar10_std = (0.2471, 0.2435, 0.2616)"
      ],
      "execution_count": null,
      "outputs": []
    },
    {
      "cell_type": "code",
      "metadata": {
        "id": "P2DPRgviHlF-"
      },
      "source": [
        "transform_val = transforms.Compose([\n",
        "    transforms.ToTensor(),\n",
        "    transforms.Normalize(mean=cifar10_mean, std=cifar10_std)  # What happens if I change This \n",
        "])"
      ],
      "execution_count": null,
      "outputs": []
    },
    {
      "cell_type": "code",
      "metadata": {
        "id": "bceiYJWiHn0W"
      },
      "source": [
        "test_dataset = datasets.ImageFolder(root=\"messidor2\", transform=transform_val) # root: test/messidor2"
      ],
      "execution_count": null,
      "outputs": []
    },
    {
      "cell_type": "code",
      "metadata": {
        "id": "ym2HrLfrHomQ"
      },
      "source": [
        "test_loader = DataLoader(\n",
        "    test_dataset,\n",
        "    batch_size=1,\n",
        "    num_workers=1,\n",
        "    shuffle=False)\n",
        "\n",
        "loader = test_loader"
      ],
      "execution_count": null,
      "outputs": []
    },
    {
      "cell_type": "code",
      "metadata": {
        "id": "KiBaYH8nHqB2",
        "colab": {
          "base_uri": "https://localhost:8080/"
        },
        "outputId": "668d2384-afee-4717-e54b-86456466e91a"
      },
      "source": [
        "y_true = []\n",
        "y_pred = []\n",
        "\n",
        "with torch.no_grad():\n",
        "    with tqdm(total=len(loader)) as pbar:\n",
        "        for batch_idx, (inputs, targets) in enumerate(loader):\n",
        "\n",
        "            model.eval()\n",
        "\n",
        "            inputs = inputs.to(device)\n",
        "            targets = targets.to(device)\n",
        "            output = model(inputs)\n",
        "\n",
        "            output = output.to(device)\n",
        "\n",
        "            # Yo le agrege esto\n",
        "            y_true.append(targets.cpu().detach().numpy()[0])\n",
        "            y_pred.append(output.cpu().detach().numpy()[0][0])\n",
        "\n",
        "            pbar.update(1)"
      ],
      "execution_count": null,
      "outputs": [
        {
          "output_type": "stream",
          "text": [
            "100%|██████████| 1748/1748 [00:16<00:00, 107.98it/s]\n"
          ],
          "name": "stderr"
        }
      ]
    },
    {
      "cell_type": "code",
      "metadata": {
        "id": "-OUrUbqIHse3",
        "colab": {
          "base_uri": "https://localhost:8080/"
        },
        "outputId": "bb168e04-a6b2-4115-e071-a0c0f40f5ac0"
      },
      "source": [
        "import numpy as np\n",
        "from sklearn import metrics\n",
        "fpr, tpr, thresholds = metrics.roc_curve(y_true, y_pred)\n",
        "metrics.auc(fpr, tpr)"
      ],
      "execution_count": null,
      "outputs": [
        {
          "output_type": "execute_result",
          "data": {
            "text/plain": [
              "0.8329889966143429"
            ]
          },
          "metadata": {},
          "execution_count": 160
        }
      ]
    },
    {
      "cell_type": "code",
      "metadata": {
        "id": "c-LbC9yoHt4b",
        "colab": {
          "base_uri": "https://localhost:8080/",
          "height": 349
        },
        "outputId": "698630c1-8fb1-4d0f-a4b2-c260c21b46e8"
      },
      "source": [
        "# Commented out IPython magic to ensure Python compatibility.\n",
        "from sklearn.metrics import accuracy_score\n",
        "import seaborn as sns\n",
        "import matplotlib.pyplot as plt\n",
        "import matplotlib.image as mpimg\n",
        "from mlxtend.plotting import plot_confusion_matrix \n",
        "# %matplotlib inline\n",
        "\n",
        "#cm=metrics.confusion_matrix(y_true, y_pred)\n",
        "auc = metrics.auc(fpr, tpr)\n",
        "#print('AUC: %.3f' % auc)\n",
        "#print('Accuracy: {}'.format(accuracy_score(y_true, y_pred)))\n",
        "\n",
        "# Plot ROC curve\n",
        "lw = 2\n",
        "sns.set_style({'axes.grid' : False})\n",
        "sns.set_style(\"darkgrid\")\n",
        "ax1 = sns.lineplot(fpr, tpr, color='darkorange',\n",
        "        lw=lw, label='AUC = %0.2f' % auc)\n",
        "plt.plot([0, 1], [0, 1], color='navy', lw=lw, linestyle='--')\n",
        "ax1.set_title('Receiver operating characteristic')\n",
        "ax1.set(xlabel='False Positive Rate', ylabel='True Positive Rate')\n",
        "plt.legend(loc=\"lower right\")\n",
        "plt.show()"
      ],
      "execution_count": null,
      "outputs": [
        {
          "output_type": "stream",
          "text": [
            "/usr/local/lib/python3.7/dist-packages/seaborn/_decorators.py:43: FutureWarning: Pass the following variables as keyword args: x, y. From version 0.12, the only valid positional argument will be `data`, and passing other arguments without an explicit keyword will result in an error or misinterpretation.\n",
            "  FutureWarning\n"
          ],
          "name": "stderr"
        },
        {
          "output_type": "display_data",
          "data": {
            "image/png": "[encoded data removed]",
            "text/plain": [
              "<Figure size 432x288 with 1 Axes>"
            ]
          },
          "metadata": {}
        }
      ]
    },
    {
      "cell_type": "code",
      "metadata": {
        "id": "_-ZsXXYWR1zR"
      },
      "source": [
        ""
      ],
      "execution_count": null,
      "outputs": []
    }
  ]
}