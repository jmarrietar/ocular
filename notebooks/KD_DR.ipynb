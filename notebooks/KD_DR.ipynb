{
  "nbformat": 4,
  "nbformat_minor": 0,
  "metadata": {
    "colab": {
      "name": "KD-DR.ipynb",
      "provenance": [],
      "collapsed_sections": [],
      "authorship_tag": "ABX9TyPFipl/bSvQBwMuyFWRslEK",
      "include_colab_link": true
    },
    "kernelspec": {
      "name": "python3",
      "display_name": "Python 3"
    },
    "language_info": {
      "name": "python"
    },
    "accelerator": "GPU"
  },
  "cells": [
    {
      "cell_type": "markdown",
      "metadata": {
        "id": "view-in-github",
        "colab_type": "text"
      },
      "source": [
        "<a href=\"https://colab.research.google.com/github/jmarrietar/ocular/blob/master/notebooks/KD_DR.ipynb\" target=\"_parent\"><img src=\"https://colab.research.google.com/assets/colab-badge.svg\" alt=\"Open In Colab\"/></a>"
      ]
    },
    {
      "cell_type": "code",
      "metadata": {
        "colab": {
          "base_uri": "https://localhost:8080/"
        },
        "id": "PgtmUMxXD-oQ",
        "outputId": "cbadc4ed-6eb2-448f-e255-25be327297a7"
      },
      "source": [
        "!nvidia-smi"
      ],
      "execution_count": 1,
      "outputs": [
        {
          "output_type": "stream",
          "text": [
            "Tue Aug 24 03:36:31 2021       \n",
            "+-----------------------------------------------------------------------------+\n",
            "| NVIDIA-SMI 470.57.02    Driver Version: 460.32.03    CUDA Version: 11.2     |\n",
            "|-------------------------------+----------------------+----------------------+\n",
            "| GPU  Name        Persistence-M| Bus-Id        Disp.A | Volatile Uncorr. ECC |\n",
            "| Fan  Temp  Perf  Pwr:Usage/Cap|         Memory-Usage | GPU-Util  Compute M. |\n",
            "|                               |                      |               MIG M. |\n",
            "|===============================+======================+======================|\n",
            "|   0  Tesla T4            Off  | 00000000:00:04.0 Off |                    0 |\n",
            "| N/A   54C    P8    10W /  70W |      0MiB / 15109MiB |      0%      Default |\n",
            "|                               |                      |                  N/A |\n",
            "+-------------------------------+----------------------+----------------------+\n",
            "                                                                               \n",
            "+-----------------------------------------------------------------------------+\n",
            "| Processes:                                                                  |\n",
            "|  GPU   GI   CI        PID   Type   Process name                  GPU Memory |\n",
            "|        ID   ID                                                   Usage      |\n",
            "|=============================================================================|\n",
            "|  No running processes found                                                 |\n",
            "+-----------------------------------------------------------------------------+\n"
          ],
          "name": "stdout"
        }
      ]
    },
    {
      "cell_type": "code",
      "metadata": {
        "colab": {
          "base_uri": "https://localhost:8080/"
        },
        "id": "im0FJRKqb11N",
        "outputId": "013394c9-0e71-49ee-ad05-b9ee588e7110"
      },
      "source": [
        "!git clone -b develop-jose https://github.com/jmarrietar/Knowledge-Distillation-Zoo.git"
      ],
      "execution_count": 2,
      "outputs": [
        {
          "output_type": "stream",
          "text": [
            "Cloning into 'Knowledge-Distillation-Zoo'...\n",
            "remote: Enumerating objects: 193, done.\u001b[K\n",
            "remote: Counting objects: 100% (140/140), done.\u001b[K\n",
            "remote: Compressing objects: 100% (124/124), done.\u001b[K\n",
            "remote: Total 193 (delta 71), reused 54 (delta 15), pack-reused 53\u001b[K\n",
            "Receiving objects: 100% (193/193), 85.34 KiB | 734.00 KiB/s, done.\n",
            "Resolving deltas: 100% (103/103), done.\n"
          ],
          "name": "stdout"
        }
      ]
    },
    {
      "cell_type": "code",
      "metadata": {
        "colab": {
          "base_uri": "https://localhost:8080/"
        },
        "id": "EwwI4Ztab5yt",
        "outputId": "96cdf592-d82c-4606-d9b8-64f978446761"
      },
      "source": [
        "cd Knowledge-Distillation-Zoo"
      ],
      "execution_count": 2,
      "outputs": [
        {
          "output_type": "stream",
          "text": [
            "/content/Knowledge-Distillation-Zoo\n"
          ],
          "name": "stdout"
        }
      ]
    },
    {
      "cell_type": "code",
      "metadata": {
        "id": "j8bM_qLtshDB"
      },
      "source": [
        "#!pip install cloud-tpu-client==0.10 torch==1.8.1 https://storage.googleapis.com/tpu-pytorch/wheels/torch_xla-1.8.1-cp37-cp37m-linux_x86_64.whl tensorboard-plugin-profile"
      ],
      "execution_count": 4,
      "outputs": []
    },
    {
      "cell_type": "code",
      "metadata": {
        "id": "CZ9mVy_5sjwP"
      },
      "source": [
        "#!pip uninstall torch -y\n",
        "#!pip install torch==1.8.1"
      ],
      "execution_count": 5,
      "outputs": []
    },
    {
      "cell_type": "code",
      "metadata": {
        "id": "S4hgVukag6x6"
      },
      "source": [
        "from __future__ import absolute_import\n",
        "from __future__ import print_function\n",
        "from __future__ import division\n",
        "import os\n",
        "import sys\n",
        "import time\n",
        "import logging\n",
        "import argparse\n",
        "import numpy as np\n",
        "from itertools import chain\n",
        "\n",
        "import torch\n",
        "import torch.nn as nn\n",
        "import torch.nn.functional as F\n",
        "import torch.backends.cudnn as cudnn\n",
        "import torchvision.transforms as transforms\n",
        "import torchvision.datasets as dst\n",
        "import torchvision\n",
        "\n",
        "from __future__ import absolute_import\n",
        "from __future__ import print_function\n",
        "from __future__ import division\n",
        "import torch\n",
        "import torch.nn as nn\n",
        "import torch.nn.functional as F"
      ],
      "execution_count": 3,
      "outputs": []
    },
    {
      "cell_type": "code",
      "metadata": {
        "id": "ZCWrbejNpV4N"
      },
      "source": [
        "import torch\n",
        "import sys\n",
        "import numpy as np\n",
        "import os\n",
        "import yaml\n",
        "import matplotlib.pyplot as plt\n",
        "import torchvision\n",
        "\n",
        "from google.colab import auth, drive\n",
        "from googleapiclient.discovery import build\n",
        "from googleapiclient.http import MediaFileUpload"
      ],
      "execution_count": 4,
      "outputs": []
    },
    {
      "cell_type": "code",
      "metadata": {
        "id": "qox2FakY0Tik"
      },
      "source": [
        "def accuracy(output, target, topk=(1,)):\n",
        "\t\"\"\"Computes the precision@k for the specified values of k\"\"\"\n",
        "\tmaxk = max(topk)\n",
        "\tbatch_size = target.size(0)\n",
        "\n",
        "\t_, pred = output.topk(maxk, 1, True, True)\n",
        "\tpred    = pred.t()\n",
        "\tcorrect = pred.eq(target.view(1, -1).expand_as(pred))\n",
        "\n",
        "\tres = []\n",
        "\tfor k in topk:\n",
        "\t\tcorrect_k = correct[:k].view(-1).float().sum(0)\n",
        "\t\tres.append(correct_k.mul_(100.0 / batch_size))\n",
        "\treturn res"
      ],
      "execution_count": 5,
      "outputs": []
    },
    {
      "cell_type": "code",
      "metadata": {
        "colab": {
          "base_uri": "https://localhost:8080/"
        },
        "id": "Qqt1pcJRpYME",
        "outputId": "34bf7d24-5315-4431-93a7-82829068149d"
      },
      "source": [
        "# Mount Drive\n",
        "drive.mount('/content/drive')\n",
        "auth.authenticate_user()"
      ],
      "execution_count": 6,
      "outputs": [
        {
          "output_type": "stream",
          "text": [
            "Drive already mounted at /content/drive; to attempt to forcibly remount, call drive.mount(\"/content/drive\", force_remount=True).\n"
          ],
          "name": "stdout"
        }
      ]
    },
    {
      "cell_type": "code",
      "metadata": {
        "colab": {
          "base_uri": "https://localhost:8080/"
        },
        "id": "5BQqv_ga1_5N",
        "outputId": "0b7337a9-40f4-46a4-dbf7-12904b2d98b2"
      },
      "source": [
        "cd .."
      ],
      "execution_count": 7,
      "outputs": [
        {
          "output_type": "stream",
          "text": [
            "/content\n"
          ],
          "name": "stdout"
        }
      ]
    },
    {
      "cell_type": "code",
      "metadata": {
        "id": "mqaMrB_IpZug"
      },
      "source": [
        "import gdown\n",
        "\n",
        "def download(data, url):\n",
        "    # Download dataset\n",
        "    import zipfile\n",
        "    url = url\n",
        "    output = \"{}.zip\".format(data)\n",
        "    gdown.download(url, output, quiet=False)\n",
        "\n",
        "    # Uncompress dataset\n",
        "    local_zip = '{}.zip'.format(data)\n",
        "    zip_ref = zipfile.ZipFile(local_zip, \"r\")\n",
        "    zip_ref.extractall()\n",
        "    zip_ref.close()"
      ],
      "execution_count": 8,
      "outputs": []
    },
    {
      "cell_type": "code",
      "metadata": {
        "id": "ly5R0jPyofA8"
      },
      "source": [
        "def get_model_property(key):\n",
        "  default_model_property = {\n",
        "      'img_dim': 224,\n",
        "      'model_fn': getattr(torchvision.models, FLAGS.model)\n",
        "  }\n",
        "  model_properties = {\n",
        "      'inception_v3': {\n",
        "          'img_dim': 299,\n",
        "          'model_fn': lambda: torchvision.models.inception_v3(aux_logits=False)\n",
        "      },\n",
        "  }\n",
        "  model_fn = model_properties.get(FLAGS.model, default_model_property)[key]\n",
        "  return model_fn"
      ],
      "execution_count": 9,
      "outputs": []
    },
    {
      "cell_type": "code",
      "metadata": {
        "colab": {
          "base_uri": "https://localhost:8080/",
          "height": 69
        },
        "id": "5sYBpSrGbgXg",
        "outputId": "10eb3e00-2885-4ebd-f1e5-cd7743140b24"
      },
      "source": [
        "\"\"\"\n",
        "def adjust_lr_init(optimizer, epoch):\n",
        "\tscale   = 0.1\n",
        "\tlr_list = [args.lr*scale] * 30\n",
        "\tlr_list += [args.lr*scale*scale] * 10\n",
        "\tlr_list += [args.lr*scale*scale*scale] * 10\n",
        "\n",
        "\tlr = lr_list[epoch-1]\n",
        "\tlogging.info('Epoch: {}  lr: {:.4f}'.format(epoch, lr))\n",
        "\tfor param_group in optimizer.param_groups:\n",
        "\t\tparam_group['lr'] = lr\n",
        "\"\"\""
      ],
      "execution_count": 13,
      "outputs": [
        {
          "output_type": "execute_result",
          "data": {
            "application/vnd.google.colaboratory.intrinsic+json": {
              "type": "string"
            },
            "text/plain": [
              "\"\\ndef adjust_lr_init(optimizer, epoch):\\n\\tscale   = 0.1\\n\\tlr_list = [args.lr*scale] * 30\\n\\tlr_list += [args.lr*scale*scale] * 10\\n\\tlr_list += [args.lr*scale*scale*scale] * 10\\n\\n\\tlr = lr_list[epoch-1]\\n\\tlogging.info('Epoch: {}  lr: {:.4f}'.format(epoch, lr))\\n\\tfor param_group in optimizer.param_groups:\\n\\t\\tparam_group['lr'] = lr\\n\""
            ]
          },
          "metadata": {},
          "execution_count": 13
        }
      ]
    },
    {
      "cell_type": "code",
      "metadata": {
        "id": "1ixlRQzbpuvS"
      },
      "source": [
        "data_samples = {\n",
        "    \"sample@200\": \"https://drive.google.com/uc?id=1FfV7YyDJvNUCDP5r3-8iQfZ2-xJp_pgb\",\n",
        "    \"sample@500\": \"https://drive.google.com/uc?id=1dHwUqpmSogEdjAB9rwDUL-OKFRUcVXte\",\n",
        "    \"sample@1000\": \"https://drive.google.com/uc?id=1DPZrHrj3Bdte5Dc6NCZ33CAqMG-Oipa2\",\n",
        "    \"sample@2000\": \"https://drive.google.com/uc?id=1PB7uGd-dUnZKnKZpZl-HvE1DVcWgX50F\",\n",
        "    \"sample@3000\": \"https://drive.google.com/uc?id=1_yre5K9YYvJgSrT4xvrI8eD_htucIywA\",\n",
        "    \"sample@4000_images\": \"https://drive.google.com/uc?id=1dqVB8EozEpwWzyuU80AauoQmsiw3Gtm2\",\n",
        "    \"sample@20000\": \"https://drive.google.com/uc?id=1MTDpLzpmhSiZq2jSdmHx2UDPn9FC8gzO\",\n",
        "    \"val-voets-tf\": \"https://drive.google.com/uc?id=1VzVgMGTkBBPG2qbzLunD9HvLzH6tcyrv\",\n",
        "    \"train_voets\": \"https://drive.google.com/uc?id=1AmcFh1MOOZ6aqKm2eO7XEdgmIEqHKTZ5\",\n",
        "    \"voets_test_images\": \"https://drive.google.com/uc?id=15S_V3B_Z3BOjCT3AbO2c887FyS5B0Lyd\"\n",
        "}"
      ],
      "execution_count": 10,
      "outputs": []
    },
    {
      "cell_type": "code",
      "metadata": {
        "id": "WbyqP5hKpxrX"
      },
      "source": [
        "LABELED = 'sample@1000'"
      ],
      "execution_count": 11,
      "outputs": []
    },
    {
      "cell_type": "code",
      "metadata": {
        "colab": {
          "base_uri": "https://localhost:8080/"
        },
        "id": "GebGRfl0py7_",
        "outputId": "e1be35c8-ee59-4719-84ce-e93899cf9222"
      },
      "source": [
        "URL_LABELED = data_samples[LABELED]\n",
        "download(LABELED, URL_LABELED)"
      ],
      "execution_count": 12,
      "outputs": [
        {
          "output_type": "stream",
          "text": [
            "Downloading...\n",
            "From: https://drive.google.com/uc?id=1DPZrHrj3Bdte5Dc6NCZ33CAqMG-Oipa2\n",
            "To: /content/sample@1000.zip\n",
            "108MB [00:01, 61.1MB/s]\n"
          ],
          "name": "stderr"
        }
      ]
    },
    {
      "cell_type": "code",
      "metadata": {
        "colab": {
          "base_uri": "https://localhost:8080/"
        },
        "id": "50M48gGVpJ7c",
        "outputId": "8b5aa96f-6106-4bac-d531-6ec71547470a"
      },
      "source": [
        "!wget \"https://raw.githubusercontent.com/pytorch/xla/master/test/args_parse.py\""
      ],
      "execution_count": 13,
      "outputs": [
        {
          "output_type": "stream",
          "text": [
            "--2021-08-24 03:37:03--  https://raw.githubusercontent.com/pytorch/xla/master/test/args_parse.py\n",
            "Resolving raw.githubusercontent.com (raw.githubusercontent.com)... 185.199.108.133, 185.199.109.133, 185.199.110.133, ...\n",
            "Connecting to raw.githubusercontent.com (raw.githubusercontent.com)|185.199.108.133|:443... connected.\n",
            "HTTP request sent, awaiting response... 200 OK\n",
            "Length: 2036 (2.0K) [text/plain]\n",
            "Saving to: ‘args_parse.py.1’\n",
            "\n",
            "\rargs_parse.py.1       0%[                    ]       0  --.-KB/s               \rargs_parse.py.1     100%[===================>]   1.99K  --.-KB/s    in 0s      \n",
            "\n",
            "2021-08-24 03:37:04 (43.2 MB/s) - ‘args_parse.py.1’ saved [2036/2036]\n",
            "\n"
          ],
          "name": "stdout"
        }
      ]
    },
    {
      "cell_type": "code",
      "metadata": {
        "id": "kqBt8ffVpME3"
      },
      "source": [
        "import args_parse\n",
        "\n",
        "SUPPORTED_MODELS = [\n",
        "    'alexnet', 'densenet121', 'densenet161', 'densenet169', 'densenet201',\n",
        "    'inception_v3', 'resnet101', 'resnet152', 'resnet18', 'resnet34',\n",
        "    'resnet50', 'squeezenet1_0', 'squeezenet1_1', 'vgg11', 'vgg11_bn', 'vgg13',\n",
        "    'vgg13_bn', 'vgg16', 'vgg16_bn', 'vgg19', 'vgg19_bn'\n",
        "]\n",
        "\n",
        "MODEL_OPTS = {\n",
        "    '--model': {\n",
        "        'choices': SUPPORTED_MODELS,\n",
        "        'default': 'resnet50',\n",
        "    },\n",
        "    '--test_set_batch_size': {\n",
        "        'type': int,\n",
        "    },\n",
        "    '--lr_scheduler_type': {\n",
        "        'type': str,\n",
        "    },\n",
        "    '--lr_scheduler_divide_every_n_epochs': {\n",
        "        'type': int,\n",
        "    },\n",
        "    '--lr_scheduler_divisor': {\n",
        "        'type': int,\n",
        "    },\n",
        "    '--test_only_at_end': {\n",
        "        'action': 'store_true',\n",
        "    },\n",
        "}"
      ],
      "execution_count": 14,
      "outputs": []
    },
    {
      "cell_type": "code",
      "metadata": {
        "id": "LMYCSQfBpN-_"
      },
      "source": [
        "FLAGS = args_parse.parse_common_options(\n",
        "    datadir=LABELED,\n",
        "    batch_size=None,\n",
        "    num_epochs=None,\n",
        "    momentum=None,\n",
        "    lr=None,\n",
        "    target_accuracy=None,\n",
        "    profiler_port=9012,\n",
        "    opts=MODEL_OPTS.items(),\n",
        ")"
      ],
      "execution_count": 15,
      "outputs": []
    },
    {
      "cell_type": "code",
      "metadata": {
        "id": "5UPvc_YQpPJU"
      },
      "source": [
        "EPOCHS = 200"
      ],
      "execution_count": 16,
      "outputs": []
    },
    {
      "cell_type": "code",
      "metadata": {
        "id": "gt7PTK0TpPRH"
      },
      "source": [
        "FLAGS.fake_data = False\n",
        "FLAGS.num_epochs = EPOCHS\n",
        "FLAGS.batch_size = 64\n",
        "FLAGS.log_steps = 100\n",
        "FLAGS.num_cores = 8"
      ],
      "execution_count": 17,
      "outputs": []
    },
    {
      "cell_type": "code",
      "metadata": {
        "id": "FrvbLMlpotGg"
      },
      "source": [
        "device = torch.device('cuda' if torch.cuda.is_available() else 'cpu')"
      ],
      "execution_count": 18,
      "outputs": []
    },
    {
      "cell_type": "code",
      "metadata": {
        "id": "Mj8X_5Jio6aR"
      },
      "source": [
        "#model1 = get_model_property('model_fn')().to(device)\n",
        "model1 = torchvision.models.mobilenet_v2(pretrained=True).to(device)\n",
        "\n",
        "model1.classifier = nn.Sequential(\n",
        "      nn.Linear(1280, 512),\n",
        "      nn.Linear(512, 1),\n",
        "      nn.Sigmoid()\n",
        "  ).to(device)"
      ],
      "execution_count": 55,
      "outputs": []
    },
    {
      "cell_type": "code",
      "metadata": {
        "id": "E7b4QzlordWY"
      },
      "source": [
        "state_dict = torch.load('/content/drive/MyDrive/Colab Notebooks/SimCLR/models/SimCLR-1-DR-pytorch/net-DR-SimCLR-Finetuned-Test-{}.pt'.format(LABELED))"
      ],
      "execution_count": 21,
      "outputs": []
    },
    {
      "cell_type": "code",
      "metadata": {
        "colab": {
          "base_uri": "https://localhost:8080/"
        },
        "id": "7tYiDxZaryue",
        "outputId": "42fb4c89-b1db-473d-99b0-136e0d7eac5f"
      },
      "source": [
        "state_dict.keys()"
      ],
      "execution_count": 22,
      "outputs": [
        {
          "output_type": "execute_result",
          "data": {
            "text/plain": [
              "dict_keys(['conv1.weight', 'bn1.weight', 'bn1.bias', 'bn1.running_mean', 'bn1.running_var', 'bn1.num_batches_tracked', 'layer1.0.conv1.weight', 'layer1.0.bn1.weight', 'layer1.0.bn1.bias', 'layer1.0.bn1.running_mean', 'layer1.0.bn1.running_var', 'layer1.0.bn1.num_batches_tracked', 'layer1.0.conv2.weight', 'layer1.0.bn2.weight', 'layer1.0.bn2.bias', 'layer1.0.bn2.running_mean', 'layer1.0.bn2.running_var', 'layer1.0.bn2.num_batches_tracked', 'layer1.0.conv3.weight', 'layer1.0.bn3.weight', 'layer1.0.bn3.bias', 'layer1.0.bn3.running_mean', 'layer1.0.bn3.running_var', 'layer1.0.bn3.num_batches_tracked', 'layer1.0.downsample.0.weight', 'layer1.0.downsample.1.weight', 'layer1.0.downsample.1.bias', 'layer1.0.downsample.1.running_mean', 'layer1.0.downsample.1.running_var', 'layer1.0.downsample.1.num_batches_tracked', 'layer1.1.conv1.weight', 'layer1.1.bn1.weight', 'layer1.1.bn1.bias', 'layer1.1.bn1.running_mean', 'layer1.1.bn1.running_var', 'layer1.1.bn1.num_batches_tracked', 'layer1.1.conv2.weight', 'layer1.1.bn2.weight', 'layer1.1.bn2.bias', 'layer1.1.bn2.running_mean', 'layer1.1.bn2.running_var', 'layer1.1.bn2.num_batches_tracked', 'layer1.1.conv3.weight', 'layer1.1.bn3.weight', 'layer1.1.bn3.bias', 'layer1.1.bn3.running_mean', 'layer1.1.bn3.running_var', 'layer1.1.bn3.num_batches_tracked', 'layer1.2.conv1.weight', 'layer1.2.bn1.weight', 'layer1.2.bn1.bias', 'layer1.2.bn1.running_mean', 'layer1.2.bn1.running_var', 'layer1.2.bn1.num_batches_tracked', 'layer1.2.conv2.weight', 'layer1.2.bn2.weight', 'layer1.2.bn2.bias', 'layer1.2.bn2.running_mean', 'layer1.2.bn2.running_var', 'layer1.2.bn2.num_batches_tracked', 'layer1.2.conv3.weight', 'layer1.2.bn3.weight', 'layer1.2.bn3.bias', 'layer1.2.bn3.running_mean', 'layer1.2.bn3.running_var', 'layer1.2.bn3.num_batches_tracked', 'layer2.0.conv1.weight', 'layer2.0.bn1.weight', 'layer2.0.bn1.bias', 'layer2.0.bn1.running_mean', 'layer2.0.bn1.running_var', 'layer2.0.bn1.num_batches_tracked', 'layer2.0.conv2.weight', 'layer2.0.bn2.weight', 'layer2.0.bn2.bias', 'layer2.0.bn2.running_mean', 'layer2.0.bn2.running_var', 'layer2.0.bn2.num_batches_tracked', 'layer2.0.conv3.weight', 'layer2.0.bn3.weight', 'layer2.0.bn3.bias', 'layer2.0.bn3.running_mean', 'layer2.0.bn3.running_var', 'layer2.0.bn3.num_batches_tracked', 'layer2.0.downsample.0.weight', 'layer2.0.downsample.1.weight', 'layer2.0.downsample.1.bias', 'layer2.0.downsample.1.running_mean', 'layer2.0.downsample.1.running_var', 'layer2.0.downsample.1.num_batches_tracked', 'layer2.1.conv1.weight', 'layer2.1.bn1.weight', 'layer2.1.bn1.bias', 'layer2.1.bn1.running_mean', 'layer2.1.bn1.running_var', 'layer2.1.bn1.num_batches_tracked', 'layer2.1.conv2.weight', 'layer2.1.bn2.weight', 'layer2.1.bn2.bias', 'layer2.1.bn2.running_mean', 'layer2.1.bn2.running_var', 'layer2.1.bn2.num_batches_tracked', 'layer2.1.conv3.weight', 'layer2.1.bn3.weight', 'layer2.1.bn3.bias', 'layer2.1.bn3.running_mean', 'layer2.1.bn3.running_var', 'layer2.1.bn3.num_batches_tracked', 'layer2.2.conv1.weight', 'layer2.2.bn1.weight', 'layer2.2.bn1.bias', 'layer2.2.bn1.running_mean', 'layer2.2.bn1.running_var', 'layer2.2.bn1.num_batches_tracked', 'layer2.2.conv2.weight', 'layer2.2.bn2.weight', 'layer2.2.bn2.bias', 'layer2.2.bn2.running_mean', 'layer2.2.bn2.running_var', 'layer2.2.bn2.num_batches_tracked', 'layer2.2.conv3.weight', 'layer2.2.bn3.weight', 'layer2.2.bn3.bias', 'layer2.2.bn3.running_mean', 'layer2.2.bn3.running_var', 'layer2.2.bn3.num_batches_tracked', 'layer2.3.conv1.weight', 'layer2.3.bn1.weight', 'layer2.3.bn1.bias', 'layer2.3.bn1.running_mean', 'layer2.3.bn1.running_var', 'layer2.3.bn1.num_batches_tracked', 'layer2.3.conv2.weight', 'layer2.3.bn2.weight', 'layer2.3.bn2.bias', 'layer2.3.bn2.running_mean', 'layer2.3.bn2.running_var', 'layer2.3.bn2.num_batches_tracked', 'layer2.3.conv3.weight', 'layer2.3.bn3.weight', 'layer2.3.bn3.bias', 'layer2.3.bn3.running_mean', 'layer2.3.bn3.running_var', 'layer2.3.bn3.num_batches_tracked', 'layer3.0.conv1.weight', 'layer3.0.bn1.weight', 'layer3.0.bn1.bias', 'layer3.0.bn1.running_mean', 'layer3.0.bn1.running_var', 'layer3.0.bn1.num_batches_tracked', 'layer3.0.conv2.weight', 'layer3.0.bn2.weight', 'layer3.0.bn2.bias', 'layer3.0.bn2.running_mean', 'layer3.0.bn2.running_var', 'layer3.0.bn2.num_batches_tracked', 'layer3.0.conv3.weight', 'layer3.0.bn3.weight', 'layer3.0.bn3.bias', 'layer3.0.bn3.running_mean', 'layer3.0.bn3.running_var', 'layer3.0.bn3.num_batches_tracked', 'layer3.0.downsample.0.weight', 'layer3.0.downsample.1.weight', 'layer3.0.downsample.1.bias', 'layer3.0.downsample.1.running_mean', 'layer3.0.downsample.1.running_var', 'layer3.0.downsample.1.num_batches_tracked', 'layer3.1.conv1.weight', 'layer3.1.bn1.weight', 'layer3.1.bn1.bias', 'layer3.1.bn1.running_mean', 'layer3.1.bn1.running_var', 'layer3.1.bn1.num_batches_tracked', 'layer3.1.conv2.weight', 'layer3.1.bn2.weight', 'layer3.1.bn2.bias', 'layer3.1.bn2.running_mean', 'layer3.1.bn2.running_var', 'layer3.1.bn2.num_batches_tracked', 'layer3.1.conv3.weight', 'layer3.1.bn3.weight', 'layer3.1.bn3.bias', 'layer3.1.bn3.running_mean', 'layer3.1.bn3.running_var', 'layer3.1.bn3.num_batches_tracked', 'layer3.2.conv1.weight', 'layer3.2.bn1.weight', 'layer3.2.bn1.bias', 'layer3.2.bn1.running_mean', 'layer3.2.bn1.running_var', 'layer3.2.bn1.num_batches_tracked', 'layer3.2.conv2.weight', 'layer3.2.bn2.weight', 'layer3.2.bn2.bias', 'layer3.2.bn2.running_mean', 'layer3.2.bn2.running_var', 'layer3.2.bn2.num_batches_tracked', 'layer3.2.conv3.weight', 'layer3.2.bn3.weight', 'layer3.2.bn3.bias', 'layer3.2.bn3.running_mean', 'layer3.2.bn3.running_var', 'layer3.2.bn3.num_batches_tracked', 'layer3.3.conv1.weight', 'layer3.3.bn1.weight', 'layer3.3.bn1.bias', 'layer3.3.bn1.running_mean', 'layer3.3.bn1.running_var', 'layer3.3.bn1.num_batches_tracked', 'layer3.3.conv2.weight', 'layer3.3.bn2.weight', 'layer3.3.bn2.bias', 'layer3.3.bn2.running_mean', 'layer3.3.bn2.running_var', 'layer3.3.bn2.num_batches_tracked', 'layer3.3.conv3.weight', 'layer3.3.bn3.weight', 'layer3.3.bn3.bias', 'layer3.3.bn3.running_mean', 'layer3.3.bn3.running_var', 'layer3.3.bn3.num_batches_tracked', 'layer3.4.conv1.weight', 'layer3.4.bn1.weight', 'layer3.4.bn1.bias', 'layer3.4.bn1.running_mean', 'layer3.4.bn1.running_var', 'layer3.4.bn1.num_batches_tracked', 'layer3.4.conv2.weight', 'layer3.4.bn2.weight', 'layer3.4.bn2.bias', 'layer3.4.bn2.running_mean', 'layer3.4.bn2.running_var', 'layer3.4.bn2.num_batches_tracked', 'layer3.4.conv3.weight', 'layer3.4.bn3.weight', 'layer3.4.bn3.bias', 'layer3.4.bn3.running_mean', 'layer3.4.bn3.running_var', 'layer3.4.bn3.num_batches_tracked', 'layer3.5.conv1.weight', 'layer3.5.bn1.weight', 'layer3.5.bn1.bias', 'layer3.5.bn1.running_mean', 'layer3.5.bn1.running_var', 'layer3.5.bn1.num_batches_tracked', 'layer3.5.conv2.weight', 'layer3.5.bn2.weight', 'layer3.5.bn2.bias', 'layer3.5.bn2.running_mean', 'layer3.5.bn2.running_var', 'layer3.5.bn2.num_batches_tracked', 'layer3.5.conv3.weight', 'layer3.5.bn3.weight', 'layer3.5.bn3.bias', 'layer3.5.bn3.running_mean', 'layer3.5.bn3.running_var', 'layer3.5.bn3.num_batches_tracked', 'layer4.0.conv1.weight', 'layer4.0.bn1.weight', 'layer4.0.bn1.bias', 'layer4.0.bn1.running_mean', 'layer4.0.bn1.running_var', 'layer4.0.bn1.num_batches_tracked', 'layer4.0.conv2.weight', 'layer4.0.bn2.weight', 'layer4.0.bn2.bias', 'layer4.0.bn2.running_mean', 'layer4.0.bn2.running_var', 'layer4.0.bn2.num_batches_tracked', 'layer4.0.conv3.weight', 'layer4.0.bn3.weight', 'layer4.0.bn3.bias', 'layer4.0.bn3.running_mean', 'layer4.0.bn3.running_var', 'layer4.0.bn3.num_batches_tracked', 'layer4.0.downsample.0.weight', 'layer4.0.downsample.1.weight', 'layer4.0.downsample.1.bias', 'layer4.0.downsample.1.running_mean', 'layer4.0.downsample.1.running_var', 'layer4.0.downsample.1.num_batches_tracked', 'layer4.1.conv1.weight', 'layer4.1.bn1.weight', 'layer4.1.bn1.bias', 'layer4.1.bn1.running_mean', 'layer4.1.bn1.running_var', 'layer4.1.bn1.num_batches_tracked', 'layer4.1.conv2.weight', 'layer4.1.bn2.weight', 'layer4.1.bn2.bias', 'layer4.1.bn2.running_mean', 'layer4.1.bn2.running_var', 'layer4.1.bn2.num_batches_tracked', 'layer4.1.conv3.weight', 'layer4.1.bn3.weight', 'layer4.1.bn3.bias', 'layer4.1.bn3.running_mean', 'layer4.1.bn3.running_var', 'layer4.1.bn3.num_batches_tracked', 'layer4.2.conv1.weight', 'layer4.2.bn1.weight', 'layer4.2.bn1.bias', 'layer4.2.bn1.running_mean', 'layer4.2.bn1.running_var', 'layer4.2.bn1.num_batches_tracked', 'layer4.2.conv2.weight', 'layer4.2.bn2.weight', 'layer4.2.bn2.bias', 'layer4.2.bn2.running_mean', 'layer4.2.bn2.running_var', 'layer4.2.bn2.num_batches_tracked', 'layer4.2.conv3.weight', 'layer4.2.bn3.weight', 'layer4.2.bn3.bias', 'layer4.2.bn3.running_mean', 'layer4.2.bn3.running_var', 'layer4.2.bn3.num_batches_tracked', 'fc.0.weight', 'fc.0.bias', 'fc.1.weight', 'fc.1.bias'])"
            ]
          },
          "metadata": {},
          "execution_count": 22
        }
      ]
    },
    {
      "cell_type": "code",
      "metadata": {
        "id": "yDHrWMZarasC"
      },
      "source": [
        "#log = model1.load_state_dict(state_dict, strict=False)\n",
        "#print(log)"
      ],
      "execution_count": 71,
      "outputs": []
    },
    {
      "cell_type": "code",
      "metadata": {
        "id": "BTIGHmNYp4Xm"
      },
      "source": [
        "model2 = get_model_property('model_fn')().to(device)\n",
        "\n",
        "model2.fc = nn.Sequential(\n",
        "      nn.Linear(2048, 512),\n",
        "      nn.Linear(512, 1),\n",
        "      nn.Sigmoid()\n",
        "  ).to(device)"
      ],
      "execution_count": 23,
      "outputs": []
    },
    {
      "cell_type": "code",
      "metadata": {
        "colab": {
          "base_uri": "https://localhost:8080/"
        },
        "id": "ffA2kqYBuccS",
        "outputId": "bf2e5da0-d0b0-436f-d92e-4eb5eccc24f8"
      },
      "source": [
        "log = model2.load_state_dict(state_dict, strict=False)\n",
        "print(log)"
      ],
      "execution_count": 24,
      "outputs": [
        {
          "output_type": "stream",
          "text": [
            "<All keys matched successfully>\n"
          ],
          "name": "stdout"
        }
      ]
    },
    {
      "cell_type": "code",
      "metadata": {
        "colab": {
          "base_uri": "https://localhost:8080/"
        },
        "id": "YBq_qgdQviOz",
        "outputId": "2e8d8368-43b5-48cf-91d6-b2a94793bf96"
      },
      "source": [
        "parser = argparse.ArgumentParser(description='train kd')\n",
        "\n",
        "# various path\n",
        "parser.add_argument('--save_root', type=str, default='./results', help='models and logs are saved here')\n",
        "parser.add_argument('--img_root', type=str, default='./datasets', help='path name of image dataset')\n",
        "parser.add_argument('--s_init', type=str, required=True, help='initial parameters of student model')\n",
        "parser.add_argument('--t_model', type=str, required=True, help='path name of teacher model')\n",
        "\n",
        "# training hyper parameters\n",
        "parser.add_argument('--print_freq', type=int, default=50, help='frequency of showing training results on console')\n",
        "parser.add_argument('--epochs', type=int, default=200, help='number of total epochs to run')\n",
        "parser.add_argument('--batch_size', type=int, default=128, help='The size of batch')\n",
        "parser.add_argument('--lr', type=float, default=0.1, help='initial learning rate')\n",
        "parser.add_argument('--momentum', type=float, default=0.9, help='momentum')\n",
        "parser.add_argument('--weight_decay', type=float, default=1e-4, help='weight decay')\n",
        "parser.add_argument('--num_class', type=int, default=10, help='number of classes')\n",
        "parser.add_argument('--cuda', type=int, default=1)\n",
        "\n",
        "# others\n",
        "parser.add_argument('--seed', type=int, default=2, help='random seed')\n",
        "parser.add_argument('--note', type=str, default='try', help='note for this run')\n",
        "\n",
        "# net and dataset choosen\n",
        "parser.add_argument('--data_name', type=str, required=True, help='name of dataset') # cifar10/cifar100\n",
        "parser.add_argument('--t_name', type=str, required=True, help='name of teacher')    # resnet20/resnet110\n",
        "parser.add_argument('--s_name', type=str, required=True, help='name of student')    # resnet20/resnet110\n",
        "\n",
        "# hyperparameter\n",
        "parser.add_argument('--kd_mode', type=str, required=True, help='mode of kd, which can be:'\n",
        "\t\t\t\t\t\t\t\t\t\t\t\t\t\t\t   'logits/st/at/fitnet/nst/pkt/fsp/rkd/ab/'\n",
        "\t\t\t\t\t\t\t\t\t\t\t\t\t\t\t   'sp/sobolev/cc/lwm/irg/vid/ofd/afd')\n",
        "parser.add_argument('--lambda_kd', type=float, default=1.0, help='trade-off parameter for kd loss')\n",
        "parser.add_argument('--T', type=float, default=4.0, help='temperature for ST')\n",
        "parser.add_argument('--p', type=float, default=2.0, help='power for AT')\n",
        "parser.add_argument('--w_dist', type=float, default=25.0, help='weight for RKD distance')\n",
        "parser.add_argument('--w_angle', type=float, default=50.0, help='weight for RKD angle')\n",
        "parser.add_argument('--m', type=float, default=2.0, help='margin for AB')\n",
        "parser.add_argument('--gamma', type=float, default=0.4, help='gamma in Gaussian RBF for CC')\n",
        "parser.add_argument('--P_order', type=int, default=2, help='P-order Taylor series of Gaussian RBF for CC')\n",
        "parser.add_argument('--w_irg_vert', type=float, default=0.1, help='weight for IRG vertex')\n",
        "parser.add_argument('--w_irg_edge', type=float, default=5.0, help='weight for IRG edge')\n",
        "parser.add_argument('--w_irg_tran', type=float, default=5.0, help='weight for IRG transformation')\n",
        "parser.add_argument('--sf', type=float, default=1.0, help='scale factor for VID, i.e. mid_channels = sf * out_channels')\n",
        "parser.add_argument('--init_var', type=float, default=5.0, help='initial variance for VID')\n",
        "parser.add_argument('--att_f', type=float, default=1.0, help='attention factor of mid_channels for AFD')\n"
      ],
      "execution_count": 25,
      "outputs": [
        {
          "output_type": "execute_result",
          "data": {
            "text/plain": [
              "_StoreAction(option_strings=['--att_f'], dest='att_f', nargs=None, const=None, default=1.0, type=<class 'float'>, choices=None, help='attention factor of mid_channels for AFD', metavar=None)"
            ]
          },
          "metadata": {},
          "execution_count": 25
        }
      ]
    },
    {
      "cell_type": "code",
      "metadata": {
        "id": "k4EABSlDvrgu"
      },
      "source": [
        "args, unparsed = parser.parse_known_args(['--save_root', './results/logits/',\n",
        "                                          '--t_model', './results/base/base-c10-r110/model_best.pth.tar',\n",
        "                                          '--s_init', './results/base/base-c10-r20/initial_r20.pth.tar',\n",
        "                                          '--data_name', 'DR',\n",
        "                                          '--batch_size', '32',\n",
        "                                          '--t_name', 'resnet110', \n",
        "                                          '--s_name', 'resnet20',\n",
        "                                          '--num_class', '2',\n",
        "                                          '--kd_mode', 'logits', \n",
        "                                          '--lambda_kd', '0.1',\n",
        "                                          '--note', 'logits-c10-r110-r20',\n",
        "                                          '--print_freq', '30',\n",
        "                                          '--lr', '0.0001', \n",
        "                                          ])"
      ],
      "execution_count": 92,
      "outputs": []
    },
    {
      "cell_type": "code",
      "metadata": {
        "id": "E8JXElI8msjO"
      },
      "source": [
        "class Logits(nn.Module):\n",
        "\t'''\n",
        "\tDo Deep Nets Really Need to be Deep?\n",
        "\thttp://papers.nips.cc/paper/5484-do-deep-nets-really-need-to-be-deep.pdf\n",
        "\t'''\n",
        "\tdef __init__(self):\n",
        "\t\tsuper(Logits, self).__init__()\n",
        "\n",
        "\tdef forward(self, out_s, out_t):\n",
        "\t\tloss = F.mse_loss(out_s, out_t)\n",
        "\n",
        "\t\treturn loss"
      ],
      "execution_count": 27,
      "outputs": []
    },
    {
      "cell_type": "code",
      "metadata": {
        "colab": {
          "base_uri": "https://localhost:8080/",
          "height": 52
        },
        "id": "5K5ajkMln4rM",
        "outputId": "8267591c-0e18-4051-8e7d-c712a0aca5d4"
      },
      "source": [
        "\"\"\"\n",
        "def adjust_lr(optimizer, epoch):\n",
        "\tscale   = 0.1\n",
        "\tlr_list =  [args.lr] * 100\n",
        "\tlr_list += [args.lr*scale] * 50\n",
        "\tlr_list += [args.lr*scale*scale] * 50\n",
        "\n",
        "\tlr = lr_list[epoch-1]\n",
        "\tlogging.info('Epoch: {}  lr: {:.3f}'.format(epoch, lr))\n",
        "\tfor param_group in optimizer.param_groups:\n",
        "\t\tparam_group['lr'] = lr\n",
        "\"\"\""
      ],
      "execution_count": 28,
      "outputs": [
        {
          "output_type": "execute_result",
          "data": {
            "application/vnd.google.colaboratory.intrinsic+json": {
              "type": "string"
            },
            "text/plain": [
              "\"\\ndef adjust_lr(optimizer, epoch):\\n\\tscale   = 0.1\\n\\tlr_list =  [args.lr] * 100\\n\\tlr_list += [args.lr*scale] * 50\\n\\tlr_list += [args.lr*scale*scale] * 50\\n\\n\\tlr = lr_list[epoch-1]\\n\\tlogging.info('Epoch: {}  lr: {:.3f}'.format(epoch, lr))\\n\\tfor param_group in optimizer.param_groups:\\n\\t\\tparam_group['lr'] = lr\\n\""
            ]
          },
          "metadata": {},
          "execution_count": 28
        }
      ]
    },
    {
      "cell_type": "code",
      "metadata": {
        "id": "e0VY4r_Rluej"
      },
      "source": [
        "snet = model1"
      ],
      "execution_count": 56,
      "outputs": []
    },
    {
      "cell_type": "code",
      "metadata": {
        "id": "bW5xuaU1mF1r"
      },
      "source": [
        "tnet = model2"
      ],
      "execution_count": 57,
      "outputs": []
    },
    {
      "cell_type": "code",
      "metadata": {
        "id": "OxiuKLr5mK6f"
      },
      "source": [
        "for param in tnet.parameters():\n",
        "  param.requires_grad = False"
      ],
      "execution_count": 58,
      "outputs": []
    },
    {
      "cell_type": "code",
      "metadata": {
        "id": "SLgA1ct1mNck"
      },
      "source": [
        "logging.info('Teacher: %s', tnet)\n",
        "logging.info('-----------------------------------------------')"
      ],
      "execution_count": 59,
      "outputs": []
    },
    {
      "cell_type": "code",
      "metadata": {
        "id": "AIruOautmRVF"
      },
      "source": [
        "criterionKD = Logits()"
      ],
      "execution_count": 60,
      "outputs": []
    },
    {
      "cell_type": "code",
      "metadata": {
        "id": "Tk7UIeYFnbof"
      },
      "source": [
        "criterionCls = torch.nn.BCELoss()"
      ],
      "execution_count": 61,
      "outputs": []
    },
    {
      "cell_type": "code",
      "metadata": {
        "id": "9Cjk86hNmugB"
      },
      "source": [
        "optimizer = torch.optim.SGD(snet.parameters(),\n",
        "              lr = args.lr, \n",
        "              momentum = args.momentum, \n",
        "              weight_decay = args.weight_decay,\n",
        "              nesterov = True)"
      ],
      "execution_count": 62,
      "outputs": []
    },
    {
      "cell_type": "code",
      "metadata": {
        "id": "eMVBVwQYnAfz"
      },
      "source": [
        "mean = (0.4914, 0.4822, 0.4465)\n",
        "std  = (0.2470, 0.2435, 0.2616)"
      ],
      "execution_count": 63,
      "outputs": []
    },
    {
      "cell_type": "code",
      "metadata": {
        "id": "HSbCw770nFYT"
      },
      "source": [
        "train_transform = transforms.Compose([\n",
        "    transforms.Pad(4, padding_mode='reflect'),\n",
        "    transforms.RandomCrop(224),\n",
        "    transforms.RandomHorizontalFlip(),\n",
        "    transforms.ToTensor(),\n",
        "    transforms.Normalize(mean=mean,std=std)\n",
        "  ])"
      ],
      "execution_count": 64,
      "outputs": []
    },
    {
      "cell_type": "code",
      "metadata": {
        "id": "R7WHMnAWyBc5"
      },
      "source": [
        "img_dim = get_model_property('img_dim')"
      ],
      "execution_count": 65,
      "outputs": []
    },
    {
      "cell_type": "code",
      "metadata": {
        "id": "rffyofPlyHrE"
      },
      "source": [
        "normalize = transforms.Normalize(\n",
        "        mean=[0.485, 0.456, 0.406], std=[0.229, 0.224, 0.225])"
      ],
      "execution_count": 66,
      "outputs": []
    },
    {
      "cell_type": "code",
      "metadata": {
        "id": "hfW6UtenxpK8"
      },
      "source": [
        "train_dataset = torchvision.datasets.ImageFolder(\n",
        "    os.path.join(FLAGS.datadir, 'train'),\n",
        "    transforms.Compose([\n",
        "        #transforms.RandomResizedCrop(img_dim),\n",
        "        transforms.RandomResizedCrop(224),\n",
        "        transforms.RandomHorizontalFlip(),\n",
        "        transforms.ToTensor(),\n",
        "        normalize,\n",
        "    ]))"
      ],
      "execution_count": 67,
      "outputs": []
    },
    {
      "cell_type": "code",
      "metadata": {
        "id": "kG9qSh1TnKVk"
      },
      "source": [
        "# Define data loader\n",
        "train_loader = torch.utils.data.DataLoader(\n",
        "    train_dataset,\n",
        "    batch_size=args.batch_size, \n",
        "    shuffle=True, \n",
        "    num_workers=2, \n",
        "    pin_memory=True)"
      ],
      "execution_count": 68,
      "outputs": []
    },
    {
      "cell_type": "code",
      "metadata": {
        "id": "6Ka430uynfq6"
      },
      "source": [
        "# warp nets and criterions for train and test\n",
        "nets = {'snet':snet, 'tnet':tnet}\n",
        "criterions = {'criterionCls':criterionCls, 'criterionKD':criterionKD}"
      ],
      "execution_count": 69,
      "outputs": []
    },
    {
      "cell_type": "code",
      "metadata": {
        "colab": {
          "base_uri": "https://localhost:8080/"
        },
        "id": "904stfiBd3Pw",
        "outputId": "8f0d9950-c7d9-4e7a-d97b-c91cb89d5b4c"
      },
      "source": [
        "cd Knowledge-Distillation-Zoo"
      ],
      "execution_count": 70,
      "outputs": [
        {
          "output_type": "stream",
          "text": [
            "/content/Knowledge-Distillation-Zoo\n"
          ],
          "name": "stdout"
        }
      ]
    },
    {
      "cell_type": "code",
      "metadata": {
        "id": "KnA6CqfkbrNS"
      },
      "source": [
        "from utils import AverageMeter, accuracy, transform_time\n",
        "from utils import load_pretrained_model, save_checkpoint\n",
        "from utils import create_exp_dir, count_parameters_in_MB"
      ],
      "execution_count": 71,
      "outputs": []
    },
    {
      "cell_type": "code",
      "metadata": {
        "colab": {
          "base_uri": "https://localhost:8080/"
        },
        "id": "ml-ZQRC4eCva",
        "outputId": "802b2ba5-c9c5-4113-ec58-a02b734aad21"
      },
      "source": [
        "cd .."
      ],
      "execution_count": 72,
      "outputs": [
        {
          "output_type": "stream",
          "text": [
            "/content\n"
          ],
          "name": "stdout"
        }
      ]
    },
    {
      "cell_type": "code",
      "metadata": {
        "id": "CxW4saCGogUu"
      },
      "source": [
        "def train(train_loader, nets, optimizer, criterions, epoch):\n",
        "    batch_time = AverageMeter()\n",
        "    data_time  = AverageMeter()\n",
        "    cls_losses = AverageMeter()\n",
        "    kd_losses  = AverageMeter()\n",
        "    top1       = AverageMeter()\n",
        "    top5       = AverageMeter()\n",
        "\n",
        "    snet = nets['snet']\n",
        "    tnet = nets['tnet']\n",
        "\n",
        "    criterionCls = criterions['criterionCls']\n",
        "    criterionKD  = criterions['criterionKD']\n",
        "\n",
        "\n",
        "    snet.train()\n",
        "\n",
        "    if args.kd_mode in ['vid', 'ofd']:\n",
        "        for i in range(1,4):\n",
        "            criterionKD[i].train()\n",
        "\n",
        "    end = time.time()\n",
        "\n",
        "    for i, (img, target) in enumerate(train_loader, start=1):\n",
        "        data_time.update(time.time() - end)\n",
        "\n",
        "        if args.cuda:\n",
        "            img = img.cuda(non_blocking=True)\n",
        "            target = target.cuda(non_blocking=True)\n",
        "\n",
        "        if args.kd_mode in ['sobolev', 'lwm']:\n",
        "            img.requires_grad = True\n",
        "\n",
        "        out_s = snet(img)\n",
        "        out_t = tnet(img)\n",
        "\n",
        "        target = target.unsqueeze(1)\n",
        "        target = target.to(torch.float32)\n",
        "\n",
        "        cls_loss = criterionCls(out_s, target)\n",
        "\n",
        "        if args.kd_mode in ['logits', 'st']:\n",
        "            #kd_loss = criterionKD(out_s, out_t.detach()) * args.lambda_kd\n",
        "            kd_loss = criterionCls(out_s, out_t.detach()) # YOOOO\n",
        "\n",
        "        loss = cls_loss + kd_loss\n",
        "\n",
        "        prec1 = accuracy(out_s, target, topk=(1,))\n",
        "\n",
        "        cls_losses.update(cls_loss.item(), img.size(0))\n",
        "        kd_losses.update(kd_loss.item(), img.size(0))\n",
        "        top1.update(prec1[0].item(), img.size(0))\n",
        "\n",
        "        optimizer.zero_grad()\n",
        "        loss.backward()\n",
        "        optimizer.step()\n",
        "\n",
        "        batch_time.update(time.time() - end)\n",
        "        end = time.time()\n",
        "\n",
        "        if i % args.print_freq == 0:\n",
        "            log_str = ('Epoch[{0}]:[{1:03}/{2:03}] '\n",
        "                        'Time:{batch_time.val:.4f} '\n",
        "                        'Data:{data_time.val:.4f}  '\n",
        "                        'Cls:{cls_losses.val:.4f}({cls_losses.avg:.4f})  '\n",
        "                        'KD:{kd_losses.val:.4f}({kd_losses.avg:.4f})  '\n",
        "                        'prec@1:{top1.val:.2f}({top1.avg:.2f})  '.format(\n",
        "                        epoch, i, len(train_loader), batch_time=batch_time, data_time=data_time,\n",
        "                        cls_losses=cls_losses, kd_losses=kd_losses, top1=top1))\n",
        "            logging.info(log_str)\n",
        "            print(log_str)"
      ],
      "execution_count": 93,
      "outputs": []
    },
    {
      "cell_type": "code",
      "metadata": {
        "colab": {
          "base_uri": "https://localhost:8080/",
          "height": 52
        },
        "id": "NRj3nQRP1RnU",
        "outputId": "5e2287a3-4906-455f-8956-2e9f7c42d3fe"
      },
      "source": [
        "\"\"\"\n",
        "Idea: \n",
        "  - Comparar realizando Knowledge distillation solo de LABELED 1000 \n",
        "  VS Knowledge distilattion de la UNLABELED 5000 (Solo el loss de consistency) + \n",
        "  despues un Finetuning de la Unlabeled\n",
        "\"\"\""
      ],
      "execution_count": 74,
      "outputs": [
        {
          "output_type": "execute_result",
          "data": {
            "application/vnd.google.colaboratory.intrinsic+json": {
              "type": "string"
            },
            "text/plain": [
              "'\\nIdea: \\n  - Comparar realizando Knowledge distillation solo de LABELED 1000 \\n  VS Knowledge distilattion de la UNLABELED 5000 (Solo el loss de consistency) + \\n  despues un Finetuning de la Unlabeled\\n'"
            ]
          },
          "metadata": {},
          "execution_count": 74
        }
      ]
    },
    {
      "cell_type": "code",
      "metadata": {
        "colab": {
          "base_uri": "https://localhost:8080/",
          "height": 35
        },
        "id": "JN5zfqDD07MH",
        "outputId": "efbbd554-9641-41e3-f25f-5b61b7863ebb"
      },
      "source": [
        "pwd"
      ],
      "execution_count": 90,
      "outputs": [
        {
          "output_type": "execute_result",
          "data": {
            "application/vnd.google.colaboratory.intrinsic+json": {
              "type": "string"
            },
            "text/plain": [
              "'/content'"
            ]
          },
          "metadata": {},
          "execution_count": 90
        }
      ]
    },
    {
      "cell_type": "code",
      "metadata": {
        "colab": {
          "base_uri": "https://localhost:8080/"
        },
        "id": "bVC4kSuRnorl",
        "outputId": "2324a4a5-5805-409f-c3be-aba2b93b3455"
      },
      "source": [
        "best_top1 = 0\n",
        "for epoch in range(1, args.epochs+1):\n",
        "  #adjust_lr(optimizer, epoch)\n",
        "\n",
        "  # train one epoch\n",
        "  epoch_start_time = time.time()\n",
        "  train(train_loader, nets, optimizer, criterions, epoch)\n",
        "\n",
        "  epoch_duration = time.time() - epoch_start_time\n",
        "  logging.info('Epoch time: {}s'.format(int(epoch_duration)))\n",
        "  print('Epoch time: {}s'.format(int(epoch_duration)))\n",
        "\n",
        "  \"\"\"\n",
        "  # save model\n",
        "  is_best = False\n",
        "  if test_top1 > best_top1:\n",
        "    best_top1 = test_top1\n",
        "    is_best = True\n",
        "  logging.info('Saving models......')\n",
        "  save_checkpoint({\n",
        "    'epoch': epoch,\n",
        "    'snet': snet.state_dict(),\n",
        "    'tnet': tnet.state_dict(),\n",
        "    'prec@1': test_top1,\n",
        "  }, is_best, args.save_root)\n",
        "  \"\"\""
      ],
      "execution_count": null,
      "outputs": [
        {
          "output_type": "stream",
          "text": [
            "Epoch[1]:[030/032] Time:0.2159 Data:0.0001  Cls:0.5394(0.6114)  KD:0.5834(0.6052)  prec@1:53.12(50.31)  \n",
            "Epoch time: 7s\n",
            "Epoch[2]:[030/032] Time:0.2146 Data:0.0001  Cls:0.6247(0.6151)  KD:0.5972(0.6091)  prec@1:40.62(49.58)  \n",
            "Epoch time: 7s\n",
            "Epoch[3]:[030/032] Time:0.2147 Data:0.0001  Cls:0.6102(0.6200)  KD:0.5707(0.6103)  prec@1:46.88(49.69)  \n",
            "Epoch time: 7s\n",
            "Epoch[4]:[030/032] Time:0.2143 Data:0.0001  Cls:0.6476(0.6158)  KD:0.6531(0.6089)  prec@1:65.62(50.10)  \n",
            "Epoch time: 7s\n",
            "Epoch[5]:[030/032] Time:0.2169 Data:0.0001  Cls:0.6379(0.6123)  KD:0.5752(0.6046)  prec@1:40.62(49.90)  \n",
            "Epoch time: 7s\n",
            "Epoch[6]:[030/032] Time:0.2119 Data:0.0001  Cls:0.6875(0.6109)  KD:0.6589(0.6052)  prec@1:56.25(50.21)  \n",
            "Epoch time: 7s\n",
            "Epoch[7]:[030/032] Time:0.2163 Data:0.0001  Cls:0.5803(0.6135)  KD:0.5853(0.6045)  prec@1:40.62(50.00)  \n",
            "Epoch time: 7s\n",
            "Epoch[8]:[030/032] Time:0.2154 Data:0.0001  Cls:0.6193(0.6102)  KD:0.6452(0.6040)  prec@1:50.00(49.90)  \n",
            "Epoch time: 7s\n"
          ],
          "name": "stdout"
        }
      ]
    },
    {
      "cell_type": "markdown",
      "metadata": {
        "id": "u89ley9bHU9t"
      },
      "source": [
        "# Test"
      ]
    },
    {
      "cell_type": "code",
      "metadata": {
        "id": "CL3fGn_mHxlI"
      },
      "source": [
        "model = snet"
      ],
      "execution_count": null,
      "outputs": []
    },
    {
      "cell_type": "code",
      "metadata": {
        "id": "57WPTOTMHWOA"
      },
      "source": [
        "import zipfile\n",
        "from tqdm import tqdm\n",
        "from torchvision import datasets\n",
        "from torch.utils.data import DataLoader\n",
        "import torchvision.transforms as transforms"
      ],
      "execution_count": null,
      "outputs": []
    },
    {
      "cell_type": "code",
      "metadata": {
        "id": "LdaMUcn8Hcih"
      },
      "source": [
        "test_data = {\n",
        "    \"voets_test_images\": \"https://drive.google.com/uc?id=15S_V3B_Z3BOjCT3AbO2c887FyS5B0Lyd\",\n",
        "    \"messidor2\": \"https://drive.google.com/uc?id=1HaUAxDtN4BNj0hpH8QYGmiX39Va-Ke8p\",\n",
        "}\n",
        "\n",
        "TEST_DATASET = 'messidor2'\n",
        "URL_TEST_DATASET = test_data[TEST_DATASET]"
      ],
      "execution_count": null,
      "outputs": []
    },
    {
      "cell_type": "code",
      "metadata": {
        "id": "6qRmnRKZHfb1"
      },
      "source": [
        "!gdown $URL_TEST_DATASET"
      ],
      "execution_count": null,
      "outputs": []
    },
    {
      "cell_type": "code",
      "metadata": {
        "id": "oOACBiReHhhI"
      },
      "source": [
        "local_zip = '{}.zip'.format(TEST_DATASET)\n",
        "zip_ref = zipfile.ZipFile(local_zip, 'r')\n",
        "zip_ref.extractall('/content/')\n",
        "zip_ref.close()"
      ],
      "execution_count": null,
      "outputs": []
    },
    {
      "cell_type": "code",
      "metadata": {
        "id": "NCS8RLAtHiaE"
      },
      "source": [
        "cifar10_mean = (0.4914, 0.4822, 0.4465)\n",
        "cifar10_std = (0.2471, 0.2435, 0.2616)"
      ],
      "execution_count": null,
      "outputs": []
    },
    {
      "cell_type": "code",
      "metadata": {
        "id": "P2DPRgviHlF-"
      },
      "source": [
        "transform_val = transforms.Compose([\n",
        "    transforms.ToTensor(),\n",
        "    transforms.Normalize(mean=cifar10_mean, std=cifar10_std)  # What happens if I change This \n",
        "])"
      ],
      "execution_count": null,
      "outputs": []
    },
    {
      "cell_type": "code",
      "metadata": {
        "id": "bceiYJWiHn0W"
      },
      "source": [
        "test_dataset = datasets.ImageFolder(root=\"messidor2\", transform=transform_val) # root: test/messidor2"
      ],
      "execution_count": null,
      "outputs": []
    },
    {
      "cell_type": "code",
      "metadata": {
        "id": "ym2HrLfrHomQ"
      },
      "source": [
        "test_loader = DataLoader(\n",
        "    test_dataset,\n",
        "    batch_size=1,\n",
        "    num_workers=1,\n",
        "    shuffle=False)\n",
        "\n",
        "loader = test_loader"
      ],
      "execution_count": null,
      "outputs": []
    },
    {
      "cell_type": "code",
      "metadata": {
        "id": "KiBaYH8nHqB2"
      },
      "source": [
        "y_true = []\n",
        "y_pred = []\n",
        "\n",
        "with torch.no_grad():\n",
        "    with tqdm(total=len(loader)) as pbar:\n",
        "        for batch_idx, (inputs, targets) in enumerate(loader):\n",
        "\n",
        "            model.eval()\n",
        "\n",
        "            inputs = inputs.to(device)\n",
        "            targets = targets.to(device)\n",
        "            output = model(inputs)\n",
        "\n",
        "            output = output.to(device)\n",
        "\n",
        "            # Yo le agrege esto\n",
        "            y_true.append(targets.cpu().detach().numpy()[0])\n",
        "            y_pred.append(output.cpu().detach().numpy()[0][0])\n",
        "\n",
        "            pbar.update(1)"
      ],
      "execution_count": null,
      "outputs": []
    },
    {
      "cell_type": "code",
      "metadata": {
        "id": "-OUrUbqIHse3"
      },
      "source": [
        "import numpy as np\n",
        "from sklearn import metrics\n",
        "fpr, tpr, thresholds = metrics.roc_curve(y_true, y_pred)\n",
        "metrics.auc(fpr, tpr)"
      ],
      "execution_count": null,
      "outputs": []
    },
    {
      "cell_type": "code",
      "metadata": {
        "id": "c-LbC9yoHt4b"
      },
      "source": [
        "# Commented out IPython magic to ensure Python compatibility.\n",
        "from sklearn.metrics import accuracy_score\n",
        "import seaborn as sns\n",
        "import matplotlib.pyplot as plt\n",
        "import matplotlib.image as mpimg\n",
        "from mlxtend.plotting import plot_confusion_matrix \n",
        "# %matplotlib inline\n",
        "\n",
        "#cm=metrics.confusion_matrix(y_true, y_pred)\n",
        "auc = metrics.auc(fpr, tpr)\n",
        "#print('AUC: %.3f' % auc)\n",
        "#print('Accuracy: {}'.format(accuracy_score(y_true, y_pred)))\n",
        "\n",
        "# Plot ROC curve\n",
        "lw = 2\n",
        "sns.set_style({'axes.grid' : False})\n",
        "sns.set_style(\"darkgrid\")\n",
        "ax1 = sns.lineplot(fpr, tpr, color='darkorange',\n",
        "        lw=lw, label='AUC = %0.2f' % auc)\n",
        "plt.plot([0, 1], [0, 1], color='navy', lw=lw, linestyle='--')\n",
        "ax1.set_title('Receiver operating characteristic')\n",
        "ax1.set(xlabel='False Positive Rate', ylabel='True Positive Rate')\n",
        "plt.legend(loc=\"lower right\")\n",
        "plt.show()"
      ],
      "execution_count": null,
      "outputs": []
    },
    {
      "cell_type": "code",
      "metadata": {
        "id": "_-ZsXXYWR1zR"
      },
      "source": [
        ""
      ],
      "execution_count": null,
      "outputs": []
    }
  ]
}