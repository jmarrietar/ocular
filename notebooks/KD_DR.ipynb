{
  "nbformat": 4,
  "nbformat_minor": 0,
  "metadata": {
    "colab": {
      "name": "KD-DR.ipynb",
      "provenance": [],
      "collapsed_sections": [],
      "authorship_tag": "ABX9TyM7tnU89sTmRWtZs4s54XXJ",
      "include_colab_link": true
    },
    "kernelspec": {
      "name": "python3",
      "display_name": "Python 3"
    },
    "language_info": {
      "name": "python"
    },
    "accelerator": "GPU",
    "widgets": {
      "application/vnd.jupyter.widget-state+json": {
        "196b1fa11b6446cebd2f4b27e7e37450": {
          "model_module": "@jupyter-widgets/controls",
          "model_name": "HBoxModel",
          "model_module_version": "1.5.0",
          "state": {
            "_view_name": "HBoxView",
            "_dom_classes": [],
            "_model_name": "HBoxModel",
            "_view_module": "@jupyter-widgets/controls",
            "_model_module_version": "1.5.0",
            "_view_count": null,
            "_view_module_version": "1.5.0",
            "box_style": "",
            "layout": "IPY_MODEL_443d1d24a24f494687af220333e9463f",
            "_model_module": "@jupyter-widgets/controls",
            "children": [
              "IPY_MODEL_6b3adfc3f14245a98c34b36f9192fefd",
              "IPY_MODEL_0345584f9e0641438b5e19a2982868f6",
              "IPY_MODEL_299a40baa1154927b880f09d8ddf4c20"
            ]
          }
        },
        "443d1d24a24f494687af220333e9463f": {
          "model_module": "@jupyter-widgets/base",
          "model_name": "LayoutModel",
          "model_module_version": "1.2.0",
          "state": {
            "_view_name": "LayoutView",
            "grid_template_rows": null,
            "right": null,
            "justify_content": null,
            "_view_module": "@jupyter-widgets/base",
            "overflow": null,
            "_model_module_version": "1.2.0",
            "_view_count": null,
            "flex_flow": null,
            "width": null,
            "min_width": null,
            "border": null,
            "align_items": null,
            "bottom": null,
            "_model_module": "@jupyter-widgets/base",
            "top": null,
            "grid_column": null,
            "overflow_y": null,
            "overflow_x": null,
            "grid_auto_flow": null,
            "grid_area": null,
            "grid_template_columns": null,
            "flex": null,
            "_model_name": "LayoutModel",
            "justify_items": null,
            "grid_row": null,
            "max_height": null,
            "align_content": null,
            "visibility": null,
            "align_self": null,
            "height": null,
            "min_height": null,
            "padding": null,
            "grid_auto_rows": null,
            "grid_gap": null,
            "max_width": null,
            "order": null,
            "_view_module_version": "1.2.0",
            "grid_template_areas": null,
            "object_position": null,
            "object_fit": null,
            "grid_auto_columns": null,
            "margin": null,
            "display": null,
            "left": null
          }
        },
        "6b3adfc3f14245a98c34b36f9192fefd": {
          "model_module": "@jupyter-widgets/controls",
          "model_name": "HTMLModel",
          "model_module_version": "1.5.0",
          "state": {
            "_view_name": "HTMLView",
            "style": "IPY_MODEL_3ccfab36cbb74843aa8c84a2a7151318",
            "_dom_classes": [],
            "description": "",
            "_model_name": "HTMLModel",
            "placeholder": "​",
            "_view_module": "@jupyter-widgets/controls",
            "_model_module_version": "1.5.0",
            "value": "100%",
            "_view_count": null,
            "_view_module_version": "1.5.0",
            "description_tooltip": null,
            "_model_module": "@jupyter-widgets/controls",
            "layout": "IPY_MODEL_80a1e81fd45c4c2e80cc47590c5d7a82"
          }
        },
        "0345584f9e0641438b5e19a2982868f6": {
          "model_module": "@jupyter-widgets/controls",
          "model_name": "FloatProgressModel",
          "model_module_version": "1.5.0",
          "state": {
            "_view_name": "ProgressView",
            "style": "IPY_MODEL_9ebc44696ee049fd9ef2b21aef107131",
            "_dom_classes": [],
            "description": "",
            "_model_name": "FloatProgressModel",
            "bar_style": "success",
            "max": 115730790,
            "_view_module": "@jupyter-widgets/controls",
            "_model_module_version": "1.5.0",
            "value": 115730790,
            "_view_count": null,
            "_view_module_version": "1.5.0",
            "orientation": "horizontal",
            "min": 0,
            "description_tooltip": null,
            "_model_module": "@jupyter-widgets/controls",
            "layout": "IPY_MODEL_03288fb3e3d74a17b915311dbb371d5c"
          }
        },
        "299a40baa1154927b880f09d8ddf4c20": {
          "model_module": "@jupyter-widgets/controls",
          "model_name": "HTMLModel",
          "model_module_version": "1.5.0",
          "state": {
            "_view_name": "HTMLView",
            "style": "IPY_MODEL_942b577fb5744ebca4168fc840ce21c1",
            "_dom_classes": [],
            "description": "",
            "_model_name": "HTMLModel",
            "placeholder": "​",
            "_view_module": "@jupyter-widgets/controls",
            "_model_module_version": "1.5.0",
            "value": " 110M/110M [00:01&lt;00:00, 75.1MB/s]",
            "_view_count": null,
            "_view_module_version": "1.5.0",
            "description_tooltip": null,
            "_model_module": "@jupyter-widgets/controls",
            "layout": "IPY_MODEL_bbb75c94ffac44268bbda257eb4f0b82"
          }
        },
        "3ccfab36cbb74843aa8c84a2a7151318": {
          "model_module": "@jupyter-widgets/controls",
          "model_name": "DescriptionStyleModel",
          "model_module_version": "1.5.0",
          "state": {
            "_view_name": "StyleView",
            "_model_name": "DescriptionStyleModel",
            "description_width": "",
            "_view_module": "@jupyter-widgets/base",
            "_model_module_version": "1.5.0",
            "_view_count": null,
            "_view_module_version": "1.2.0",
            "_model_module": "@jupyter-widgets/controls"
          }
        },
        "80a1e81fd45c4c2e80cc47590c5d7a82": {
          "model_module": "@jupyter-widgets/base",
          "model_name": "LayoutModel",
          "model_module_version": "1.2.0",
          "state": {
            "_view_name": "LayoutView",
            "grid_template_rows": null,
            "right": null,
            "justify_content": null,
            "_view_module": "@jupyter-widgets/base",
            "overflow": null,
            "_model_module_version": "1.2.0",
            "_view_count": null,
            "flex_flow": null,
            "width": null,
            "min_width": null,
            "border": null,
            "align_items": null,
            "bottom": null,
            "_model_module": "@jupyter-widgets/base",
            "top": null,
            "grid_column": null,
            "overflow_y": null,
            "overflow_x": null,
            "grid_auto_flow": null,
            "grid_area": null,
            "grid_template_columns": null,
            "flex": null,
            "_model_name": "LayoutModel",
            "justify_items": null,
            "grid_row": null,
            "max_height": null,
            "align_content": null,
            "visibility": null,
            "align_self": null,
            "height": null,
            "min_height": null,
            "padding": null,
            "grid_auto_rows": null,
            "grid_gap": null,
            "max_width": null,
            "order": null,
            "_view_module_version": "1.2.0",
            "grid_template_areas": null,
            "object_position": null,
            "object_fit": null,
            "grid_auto_columns": null,
            "margin": null,
            "display": null,
            "left": null
          }
        },
        "9ebc44696ee049fd9ef2b21aef107131": {
          "model_module": "@jupyter-widgets/controls",
          "model_name": "ProgressStyleModel",
          "model_module_version": "1.5.0",
          "state": {
            "_view_name": "StyleView",
            "_model_name": "ProgressStyleModel",
            "description_width": "",
            "_view_module": "@jupyter-widgets/base",
            "_model_module_version": "1.5.0",
            "_view_count": null,
            "_view_module_version": "1.2.0",
            "bar_color": null,
            "_model_module": "@jupyter-widgets/controls"
          }
        },
        "03288fb3e3d74a17b915311dbb371d5c": {
          "model_module": "@jupyter-widgets/base",
          "model_name": "LayoutModel",
          "model_module_version": "1.2.0",
          "state": {
            "_view_name": "LayoutView",
            "grid_template_rows": null,
            "right": null,
            "justify_content": null,
            "_view_module": "@jupyter-widgets/base",
            "overflow": null,
            "_model_module_version": "1.2.0",
            "_view_count": null,
            "flex_flow": null,
            "width": null,
            "min_width": null,
            "border": null,
            "align_items": null,
            "bottom": null,
            "_model_module": "@jupyter-widgets/base",
            "top": null,
            "grid_column": null,
            "overflow_y": null,
            "overflow_x": null,
            "grid_auto_flow": null,
            "grid_area": null,
            "grid_template_columns": null,
            "flex": null,
            "_model_name": "LayoutModel",
            "justify_items": null,
            "grid_row": null,
            "max_height": null,
            "align_content": null,
            "visibility": null,
            "align_self": null,
            "height": null,
            "min_height": null,
            "padding": null,
            "grid_auto_rows": null,
            "grid_gap": null,
            "max_width": null,
            "order": null,
            "_view_module_version": "1.2.0",
            "grid_template_areas": null,
            "object_position": null,
            "object_fit": null,
            "grid_auto_columns": null,
            "margin": null,
            "display": null,
            "left": null
          }
        },
        "942b577fb5744ebca4168fc840ce21c1": {
          "model_module": "@jupyter-widgets/controls",
          "model_name": "DescriptionStyleModel",
          "model_module_version": "1.5.0",
          "state": {
            "_view_name": "StyleView",
            "_model_name": "DescriptionStyleModel",
            "description_width": "",
            "_view_module": "@jupyter-widgets/base",
            "_model_module_version": "1.5.0",
            "_view_count": null,
            "_view_module_version": "1.2.0",
            "_model_module": "@jupyter-widgets/controls"
          }
        },
        "bbb75c94ffac44268bbda257eb4f0b82": {
          "model_module": "@jupyter-widgets/base",
          "model_name": "LayoutModel",
          "model_module_version": "1.2.0",
          "state": {
            "_view_name": "LayoutView",
            "grid_template_rows": null,
            "right": null,
            "justify_content": null,
            "_view_module": "@jupyter-widgets/base",
            "overflow": null,
            "_model_module_version": "1.2.0",
            "_view_count": null,
            "flex_flow": null,
            "width": null,
            "min_width": null,
            "border": null,
            "align_items": null,
            "bottom": null,
            "_model_module": "@jupyter-widgets/base",
            "top": null,
            "grid_column": null,
            "overflow_y": null,
            "overflow_x": null,
            "grid_auto_flow": null,
            "grid_area": null,
            "grid_template_columns": null,
            "flex": null,
            "_model_name": "LayoutModel",
            "justify_items": null,
            "grid_row": null,
            "max_height": null,
            "align_content": null,
            "visibility": null,
            "align_self": null,
            "height": null,
            "min_height": null,
            "padding": null,
            "grid_auto_rows": null,
            "grid_gap": null,
            "max_width": null,
            "order": null,
            "_view_module_version": "1.2.0",
            "grid_template_areas": null,
            "object_position": null,
            "object_fit": null,
            "grid_auto_columns": null,
            "margin": null,
            "display": null,
            "left": null
          }
        }
      }
    }
  },
  "cells": [
    {
      "cell_type": "markdown",
      "metadata": {
        "id": "view-in-github",
        "colab_type": "text"
      },
      "source": [
        "<a href=\"https://colab.research.google.com/github/jmarrietar/ocular/blob/master/notebooks/KD_DR.ipynb\" target=\"_parent\"><img src=\"https://colab.research.google.com/assets/colab-badge.svg\" alt=\"Open In Colab\"/></a>"
      ]
    },
    {
      "cell_type": "code",
      "metadata": {
        "colab": {
          "base_uri": "https://localhost:8080/"
        },
        "id": "PgtmUMxXD-oQ",
        "outputId": "754a0e90-6830-4893-fea1-f3291770e375"
      },
      "source": [
        "!nvidia-smi"
      ],
      "execution_count": 1,
      "outputs": [
        {
          "output_type": "stream",
          "text": [
            "Mon Aug 30 15:52:23 2021       \n",
            "+-----------------------------------------------------------------------------+\n",
            "| NVIDIA-SMI 470.57.02    Driver Version: 460.32.03    CUDA Version: 11.2     |\n",
            "|-------------------------------+----------------------+----------------------+\n",
            "| GPU  Name        Persistence-M| Bus-Id        Disp.A | Volatile Uncorr. ECC |\n",
            "| Fan  Temp  Perf  Pwr:Usage/Cap|         Memory-Usage | GPU-Util  Compute M. |\n",
            "|                               |                      |               MIG M. |\n",
            "|===============================+======================+======================|\n",
            "|   0  Tesla T4            Off  | 00000000:00:04.0 Off |                    0 |\n",
            "| N/A   64C    P8    11W /  70W |      0MiB / 15109MiB |      0%      Default |\n",
            "|                               |                      |                  N/A |\n",
            "+-------------------------------+----------------------+----------------------+\n",
            "                                                                               \n",
            "+-----------------------------------------------------------------------------+\n",
            "| Processes:                                                                  |\n",
            "|  GPU   GI   CI        PID   Type   Process name                  GPU Memory |\n",
            "|        ID   ID                                                   Usage      |\n",
            "|=============================================================================|\n",
            "|  No running processes found                                                 |\n",
            "+-----------------------------------------------------------------------------+\n"
          ],
          "name": "stdout"
        }
      ]
    },
    {
      "cell_type": "code",
      "metadata": {
        "colab": {
          "base_uri": "https://localhost:8080/"
        },
        "id": "im0FJRKqb11N",
        "outputId": "423f5927-8f0e-44d8-8e8c-10d7a8fa3844"
      },
      "source": [
        "!git clone -b develop-jose https://github.com/jmarrietar/Knowledge-Distillation-Zoo.git"
      ],
      "execution_count": 2,
      "outputs": [
        {
          "output_type": "stream",
          "text": [
            "Cloning into 'Knowledge-Distillation-Zoo'...\n",
            "remote: Enumerating objects: 193, done.\u001b[K\n",
            "remote: Counting objects: 100% (140/140), done.\u001b[K\n",
            "remote: Compressing objects: 100% (124/124), done.\u001b[K\n",
            "remote: Total 193 (delta 71), reused 54 (delta 15), pack-reused 53\u001b[K\n",
            "Receiving objects: 100% (193/193), 85.34 KiB | 14.22 MiB/s, done.\n",
            "Resolving deltas: 100% (103/103), done.\n"
          ],
          "name": "stdout"
        }
      ]
    },
    {
      "cell_type": "code",
      "metadata": {
        "colab": {
          "base_uri": "https://localhost:8080/"
        },
        "id": "EwwI4Ztab5yt",
        "outputId": "8bd54e0a-e8e4-4a7a-9678-b02e9dd46d5e"
      },
      "source": [
        "cd Knowledge-Distillation-Zoo"
      ],
      "execution_count": 3,
      "outputs": [
        {
          "output_type": "stream",
          "text": [
            "/content/Knowledge-Distillation-Zoo\n"
          ],
          "name": "stdout"
        }
      ]
    },
    {
      "cell_type": "code",
      "metadata": {
        "id": "j8bM_qLtshDB"
      },
      "source": [
        "#!pip install cloud-tpu-client==0.10 torch==1.8.1 https://storage.googleapis.com/tpu-pytorch/wheels/torch_xla-1.8.1-cp37-cp37m-linux_x86_64.whl tensorboard-plugin-profile"
      ],
      "execution_count": 4,
      "outputs": []
    },
    {
      "cell_type": "code",
      "metadata": {
        "id": "CZ9mVy_5sjwP"
      },
      "source": [
        "#!pip uninstall torch -y\n",
        "#!pip install torch==1.8.1"
      ],
      "execution_count": 5,
      "outputs": []
    },
    {
      "cell_type": "code",
      "metadata": {
        "id": "S4hgVukag6x6"
      },
      "source": [
        "from __future__ import absolute_import\n",
        "from __future__ import print_function\n",
        "from __future__ import division\n",
        "import os\n",
        "import sys\n",
        "import time\n",
        "import logging\n",
        "import argparse\n",
        "import numpy as np\n",
        "from itertools import chain\n",
        "\n",
        "import torch\n",
        "import torch.nn as nn\n",
        "import torch.nn.functional as F\n",
        "import torch.backends.cudnn as cudnn\n",
        "import torchvision.transforms as transforms\n",
        "import torchvision.datasets as dst\n",
        "import torchvision\n",
        "\n",
        "from __future__ import absolute_import\n",
        "from __future__ import print_function\n",
        "from __future__ import division\n",
        "import torch\n",
        "import torch.nn as nn\n",
        "import torch.nn.functional as F"
      ],
      "execution_count": 4,
      "outputs": []
    },
    {
      "cell_type": "code",
      "metadata": {
        "id": "ZCWrbejNpV4N"
      },
      "source": [
        "import torch\n",
        "import sys\n",
        "import numpy as np\n",
        "import os\n",
        "import yaml\n",
        "import matplotlib.pyplot as plt\n",
        "import torchvision\n",
        "\n",
        "from google.colab import auth, drive\n",
        "from googleapiclient.discovery import build\n",
        "from googleapiclient.http import MediaFileUpload"
      ],
      "execution_count": 5,
      "outputs": []
    },
    {
      "cell_type": "code",
      "metadata": {
        "id": "qox2FakY0Tik"
      },
      "source": [
        "def accuracy(output, target, topk=(1,)):\n",
        "\t\"\"\"Computes the precision@k for the specified values of k\"\"\"\n",
        "\tmaxk = max(topk)\n",
        "\tbatch_size = target.size(0)\n",
        "\n",
        "\t_, pred = output.topk(maxk, 1, True, True)\n",
        "\tpred    = pred.t()\n",
        "\tcorrect = pred.eq(target.view(1, -1).expand_as(pred))\n",
        "\n",
        "\tres = []\n",
        "\tfor k in topk:\n",
        "\t\tcorrect_k = correct[:k].view(-1).float().sum(0)\n",
        "\t\tres.append(correct_k.mul_(100.0 / batch_size))\n",
        "\treturn res"
      ],
      "execution_count": 6,
      "outputs": []
    },
    {
      "cell_type": "code",
      "metadata": {
        "id": "hmb43HBkq4_i"
      },
      "source": [
        "from torchvision.transforms import transforms"
      ],
      "execution_count": 7,
      "outputs": []
    },
    {
      "cell_type": "code",
      "metadata": {
        "id": "UDERtYUuqoN4"
      },
      "source": [
        "class GaussianBlur(object):\n",
        "    def __init__(self, p=0.5, radius_min=0.1, radius_max=2.0):\n",
        "        self.prob = p\n",
        "        self.radius_min = radius_min\n",
        "        self.radius_max = radius_max\n",
        "\n",
        "    def __call__(self, img):\n",
        "        if torch.bernoulli(torch.tensor(self.prob)) == 0:\n",
        "            return img\n",
        "\n",
        "        radius = self.radius_min + torch.rand(1) * (self.radius_max - self.radius_min)\n",
        "        return img.filter(ImageFilter.GaussianBlur(radius=radius))"
      ],
      "execution_count": 8,
      "outputs": []
    },
    {
      "cell_type": "code",
      "metadata": {
        "colab": {
          "base_uri": "https://localhost:8080/"
        },
        "id": "Qqt1pcJRpYME",
        "outputId": "a4268149-8758-47a3-f70b-836c6bb40ca6"
      },
      "source": [
        "# Mount Drive\n",
        "drive.mount('/content/drive')\n",
        "auth.authenticate_user()"
      ],
      "execution_count": 9,
      "outputs": [
        {
          "output_type": "stream",
          "text": [
            "Mounted at /content/drive\n"
          ],
          "name": "stdout"
        }
      ]
    },
    {
      "cell_type": "code",
      "metadata": {
        "colab": {
          "base_uri": "https://localhost:8080/"
        },
        "id": "5BQqv_ga1_5N",
        "outputId": "f5ee6ca7-409a-4db0-f1c2-ff9cd7142b4c"
      },
      "source": [
        "cd .."
      ],
      "execution_count": 10,
      "outputs": [
        {
          "output_type": "stream",
          "text": [
            "/content\n"
          ],
          "name": "stdout"
        }
      ]
    },
    {
      "cell_type": "code",
      "metadata": {
        "id": "mqaMrB_IpZug"
      },
      "source": [
        "import gdown\n",
        "\n",
        "def download(data, url):\n",
        "    # Download dataset\n",
        "    import zipfile\n",
        "    url = url\n",
        "    output = \"{}.zip\".format(data)\n",
        "    gdown.download(url, output, quiet=False)\n",
        "\n",
        "    # Uncompress dataset\n",
        "    local_zip = '{}.zip'.format(data)\n",
        "    zip_ref = zipfile.ZipFile(local_zip, \"r\")\n",
        "    zip_ref.extractall()\n",
        "    zip_ref.close()"
      ],
      "execution_count": 11,
      "outputs": []
    },
    {
      "cell_type": "code",
      "metadata": {
        "id": "ly5R0jPyofA8"
      },
      "source": [
        "def get_model_property(key):\n",
        "  default_model_property = {\n",
        "      'img_dim': 224,\n",
        "      'model_fn': getattr(torchvision.models, FLAGS.model)\n",
        "  }\n",
        "  model_properties = {\n",
        "      'inception_v3': {\n",
        "          'img_dim': 299,\n",
        "          'model_fn': lambda: torchvision.models.inception_v3(aux_logits=False)\n",
        "      },\n",
        "  }\n",
        "  model_fn = model_properties.get(FLAGS.model, default_model_property)[key]\n",
        "  return model_fn"
      ],
      "execution_count": 12,
      "outputs": []
    },
    {
      "cell_type": "code",
      "metadata": {
        "colab": {
          "base_uri": "https://localhost:8080/",
          "height": 52
        },
        "id": "5sYBpSrGbgXg",
        "outputId": "1fdf3489-cbed-4eca-ac18-77a29dda67a0"
      },
      "source": [
        "\"\"\"\n",
        "def adjust_lr_init(optimizer, epoch):\n",
        "\tscale   = 0.1\n",
        "\tlr_list = [args.lr*scale] * 30\n",
        "\tlr_list += [args.lr*scale*scale] * 10\n",
        "\tlr_list += [args.lr*scale*scale*scale] * 10\n",
        "\n",
        "\tlr = lr_list[epoch-1]\n",
        "\tlogging.info('Epoch: {}  lr: {:.4f}'.format(epoch, lr))\n",
        "\tfor param_group in optimizer.param_groups:\n",
        "\t\tparam_group['lr'] = lr\n",
        "\"\"\""
      ],
      "execution_count": 15,
      "outputs": [
        {
          "output_type": "execute_result",
          "data": {
            "application/vnd.google.colaboratory.intrinsic+json": {
              "type": "string"
            },
            "text/plain": [
              "\"\\ndef adjust_lr_init(optimizer, epoch):\\n\\tscale   = 0.1\\n\\tlr_list = [args.lr*scale] * 30\\n\\tlr_list += [args.lr*scale*scale] * 10\\n\\tlr_list += [args.lr*scale*scale*scale] * 10\\n\\n\\tlr = lr_list[epoch-1]\\n\\tlogging.info('Epoch: {}  lr: {:.4f}'.format(epoch, lr))\\n\\tfor param_group in optimizer.param_groups:\\n\\t\\tparam_group['lr'] = lr\\n\""
            ]
          },
          "metadata": {},
          "execution_count": 15
        }
      ]
    },
    {
      "cell_type": "code",
      "metadata": {
        "id": "1ixlRQzbpuvS"
      },
      "source": [
        "data_samples = {\n",
        "    \"sample@200\": \"https://drive.google.com/uc?id=1FfV7YyDJvNUCDP5r3-8iQfZ2-xJp_pgb\",\n",
        "    \"sample@500\": \"https://drive.google.com/uc?id=1dHwUqpmSogEdjAB9rwDUL-OKFRUcVXte\",\n",
        "    \"sample@1000\": \"https://drive.google.com/uc?id=1DPZrHrj3Bdte5Dc6NCZ33CAqMG-Oipa2\",\n",
        "    \"sample@2000\": \"https://drive.google.com/uc?id=1PB7uGd-dUnZKnKZpZl-HvE1DVcWgX50F\",\n",
        "    \"sample@3000\": \"https://drive.google.com/uc?id=1_yre5K9YYvJgSrT4xvrI8eD_htucIywA\",\n",
        "    \"sample@4000_images\": \"https://drive.google.com/uc?id=1dqVB8EozEpwWzyuU80AauoQmsiw3Gtm2\",\n",
        "    \"sample@20000\": \"https://drive.google.com/uc?id=1MTDpLzpmhSiZq2jSdmHx2UDPn9FC8gzO\",\n",
        "    \"val-voets-tf\": \"https://drive.google.com/uc?id=1VzVgMGTkBBPG2qbzLunD9HvLzH6tcyrv\",\n",
        "    \"train_voets\": \"https://drive.google.com/uc?id=1AmcFh1MOOZ6aqKm2eO7XEdgmIEqHKTZ5\",\n",
        "    \"voets_test_images\": \"https://drive.google.com/uc?id=15S_V3B_Z3BOjCT3AbO2c887FyS5B0Lyd\"\n",
        "}"
      ],
      "execution_count": 13,
      "outputs": []
    },
    {
      "cell_type": "code",
      "metadata": {
        "id": "WbyqP5hKpxrX"
      },
      "source": [
        "LABELED = 'sample@1000'"
      ],
      "execution_count": 14,
      "outputs": []
    },
    {
      "cell_type": "code",
      "metadata": {
        "id": "fjiev4tuX2S8"
      },
      "source": [
        "UNLABELED = 'train_voets'"
      ],
      "execution_count": 15,
      "outputs": []
    },
    {
      "cell_type": "code",
      "metadata": {
        "colab": {
          "base_uri": "https://localhost:8080/"
        },
        "id": "GebGRfl0py7_",
        "outputId": "98dca026-1278-4741-f743-5da7da66cf09"
      },
      "source": [
        "URL_UNLABELED = data_samples[UNLABELED]\n",
        "download(UNLABELED, URL_UNLABELED)"
      ],
      "execution_count": 16,
      "outputs": [
        {
          "output_type": "stream",
          "text": [
            "Downloading...\n",
            "From: https://drive.google.com/uc?id=1AmcFh1MOOZ6aqKm2eO7XEdgmIEqHKTZ5\n",
            "To: /content/train_voets.zip\n",
            "3.09GB [00:35, 87.0MB/s]\n"
          ],
          "name": "stderr"
        }
      ]
    },
    {
      "cell_type": "code",
      "metadata": {
        "colab": {
          "base_uri": "https://localhost:8080/"
        },
        "id": "50M48gGVpJ7c",
        "outputId": "c54398c2-6c36-491b-a558-bb67ff99cfeb"
      },
      "source": [
        "!wget \"https://raw.githubusercontent.com/pytorch/xla/master/test/args_parse.py\""
      ],
      "execution_count": 17,
      "outputs": [
        {
          "output_type": "stream",
          "text": [
            "--2021-08-30 15:55:22--  https://raw.githubusercontent.com/pytorch/xla/master/test/args_parse.py\n",
            "Resolving raw.githubusercontent.com (raw.githubusercontent.com)... 185.199.108.133, 185.199.109.133, 185.199.110.133, ...\n",
            "Connecting to raw.githubusercontent.com (raw.githubusercontent.com)|185.199.108.133|:443... connected.\n",
            "HTTP request sent, awaiting response... 200 OK\n",
            "Length: 2036 (2.0K) [text/plain]\n",
            "Saving to: ‘args_parse.py’\n",
            "\n",
            "args_parse.py       100%[===================>]   1.99K  --.-KB/s    in 0s      \n",
            "\n",
            "2021-08-30 15:55:22 (42.8 MB/s) - ‘args_parse.py’ saved [2036/2036]\n",
            "\n"
          ],
          "name": "stdout"
        }
      ]
    },
    {
      "cell_type": "code",
      "metadata": {
        "id": "kqBt8ffVpME3"
      },
      "source": [
        "import args_parse\n",
        "\n",
        "SUPPORTED_MODELS = [\n",
        "    'alexnet', 'densenet121', 'densenet161', 'densenet169', 'densenet201',\n",
        "    'inception_v3', 'resnet101', 'resnet152', 'resnet18', 'resnet34',\n",
        "    'resnet50', 'squeezenet1_0', 'squeezenet1_1', 'vgg11', 'vgg11_bn', 'vgg13',\n",
        "    'vgg13_bn', 'vgg16', 'vgg16_bn', 'vgg19', 'vgg19_bn'\n",
        "]\n",
        "\n",
        "MODEL_OPTS = {\n",
        "    '--model': {\n",
        "        'choices': SUPPORTED_MODELS,\n",
        "        'default': 'resnet50',\n",
        "    },\n",
        "    '--test_set_batch_size': {\n",
        "        'type': int,\n",
        "    },\n",
        "    '--lr_scheduler_type': {\n",
        "        'type': str,\n",
        "    },\n",
        "    '--lr_scheduler_divide_every_n_epochs': {\n",
        "        'type': int,\n",
        "    },\n",
        "    '--lr_scheduler_divisor': {\n",
        "        'type': int,\n",
        "    },\n",
        "    '--test_only_at_end': {\n",
        "        'action': 'store_true',\n",
        "    },\n",
        "}"
      ],
      "execution_count": 18,
      "outputs": []
    },
    {
      "cell_type": "code",
      "metadata": {
        "id": "LMYCSQfBpN-_"
      },
      "source": [
        "FLAGS = args_parse.parse_common_options(\n",
        "    datadir=UNLABELED,\n",
        "    batch_size=None,\n",
        "    num_epochs=None,\n",
        "    momentum=None,\n",
        "    lr=None,\n",
        "    target_accuracy=None,\n",
        "    profiler_port=9012,\n",
        "    opts=MODEL_OPTS.items(),\n",
        ")"
      ],
      "execution_count": 19,
      "outputs": []
    },
    {
      "cell_type": "code",
      "metadata": {
        "id": "5UPvc_YQpPJU"
      },
      "source": [
        "EPOCHS = 200"
      ],
      "execution_count": 20,
      "outputs": []
    },
    {
      "cell_type": "code",
      "metadata": {
        "id": "gt7PTK0TpPRH"
      },
      "source": [
        "FLAGS.fake_data = False\n",
        "FLAGS.num_epochs = EPOCHS\n",
        "FLAGS.batch_size = 64\n",
        "FLAGS.log_steps = 100\n",
        "FLAGS.num_cores = 8"
      ],
      "execution_count": 21,
      "outputs": []
    },
    {
      "cell_type": "code",
      "metadata": {
        "id": "FrvbLMlpotGg"
      },
      "source": [
        "device = torch.device('cuda' if torch.cuda.is_available() else 'cpu')"
      ],
      "execution_count": 22,
      "outputs": []
    },
    {
      "cell_type": "code",
      "metadata": {
        "id": "Mj8X_5Jio6aR",
        "colab": {
          "base_uri": "https://localhost:8080/",
          "height": 66,
          "referenced_widgets": [
            "196b1fa11b6446cebd2f4b27e7e37450",
            "443d1d24a24f494687af220333e9463f",
            "6b3adfc3f14245a98c34b36f9192fefd",
            "0345584f9e0641438b5e19a2982868f6",
            "299a40baa1154927b880f09d8ddf4c20",
            "3ccfab36cbb74843aa8c84a2a7151318",
            "80a1e81fd45c4c2e80cc47590c5d7a82",
            "9ebc44696ee049fd9ef2b21aef107131",
            "03288fb3e3d74a17b915311dbb371d5c",
            "942b577fb5744ebca4168fc840ce21c1",
            "bbb75c94ffac44268bbda257eb4f0b82"
          ]
        },
        "outputId": "2f786a99-2f5f-4b1c-cb43-d8a5a8642f11"
      },
      "source": [
        "model1 = torchvision.models.densenet161(pretrained=True).to(device)\n",
        "\n",
        "model1.classifier = nn.Sequential(\n",
        "      nn.Linear(2208, 512),\n",
        "      nn.Linear(512, 1),\n",
        "      nn.Sigmoid()\n",
        "  ).to(device)"
      ],
      "execution_count": 23,
      "outputs": [
        {
          "output_type": "stream",
          "text": [
            "Downloading: \"https://download.pytorch.org/models/densenet161-8d451a50.pth\" to /root/.cache/torch/hub/checkpoints/densenet161-8d451a50.pth\n"
          ],
          "name": "stderr"
        },
        {
          "output_type": "display_data",
          "data": {
            "application/vnd.jupyter.widget-view+json": {
              "model_id": "196b1fa11b6446cebd2f4b27e7e37450",
              "version_minor": 0,
              "version_major": 2
            },
            "text/plain": [
              "  0%|          | 0.00/110M [00:00<?, ?B/s]"
            ]
          },
          "metadata": {}
        }
      ]
    },
    {
      "cell_type": "code",
      "metadata": {
        "id": "E7b4QzlordWY"
      },
      "source": [
        "state_dict = torch.load('/content/drive/MyDrive/Colab Notebooks/SimCLR/models/SimCLR-1-DR-pytorch/net-DR-SimCLR-Finetuned-Test-{}.pt'.format(LABELED))"
      ],
      "execution_count": 24,
      "outputs": []
    },
    {
      "cell_type": "code",
      "metadata": {
        "colab": {
          "base_uri": "https://localhost:8080/"
        },
        "id": "7tYiDxZaryue",
        "outputId": "5188bc10-8085-4f4b-b0d9-90d53fe12bc6"
      },
      "source": [
        "state_dict.keys()"
      ],
      "execution_count": 25,
      "outputs": [
        {
          "output_type": "execute_result",
          "data": {
            "text/plain": [
              "dict_keys(['conv1.weight', 'bn1.weight', 'bn1.bias', 'bn1.running_mean', 'bn1.running_var', 'bn1.num_batches_tracked', 'layer1.0.conv1.weight', 'layer1.0.bn1.weight', 'layer1.0.bn1.bias', 'layer1.0.bn1.running_mean', 'layer1.0.bn1.running_var', 'layer1.0.bn1.num_batches_tracked', 'layer1.0.conv2.weight', 'layer1.0.bn2.weight', 'layer1.0.bn2.bias', 'layer1.0.bn2.running_mean', 'layer1.0.bn2.running_var', 'layer1.0.bn2.num_batches_tracked', 'layer1.0.conv3.weight', 'layer1.0.bn3.weight', 'layer1.0.bn3.bias', 'layer1.0.bn3.running_mean', 'layer1.0.bn3.running_var', 'layer1.0.bn3.num_batches_tracked', 'layer1.0.downsample.0.weight', 'layer1.0.downsample.1.weight', 'layer1.0.downsample.1.bias', 'layer1.0.downsample.1.running_mean', 'layer1.0.downsample.1.running_var', 'layer1.0.downsample.1.num_batches_tracked', 'layer1.1.conv1.weight', 'layer1.1.bn1.weight', 'layer1.1.bn1.bias', 'layer1.1.bn1.running_mean', 'layer1.1.bn1.running_var', 'layer1.1.bn1.num_batches_tracked', 'layer1.1.conv2.weight', 'layer1.1.bn2.weight', 'layer1.1.bn2.bias', 'layer1.1.bn2.running_mean', 'layer1.1.bn2.running_var', 'layer1.1.bn2.num_batches_tracked', 'layer1.1.conv3.weight', 'layer1.1.bn3.weight', 'layer1.1.bn3.bias', 'layer1.1.bn3.running_mean', 'layer1.1.bn3.running_var', 'layer1.1.bn3.num_batches_tracked', 'layer1.2.conv1.weight', 'layer1.2.bn1.weight', 'layer1.2.bn1.bias', 'layer1.2.bn1.running_mean', 'layer1.2.bn1.running_var', 'layer1.2.bn1.num_batches_tracked', 'layer1.2.conv2.weight', 'layer1.2.bn2.weight', 'layer1.2.bn2.bias', 'layer1.2.bn2.running_mean', 'layer1.2.bn2.running_var', 'layer1.2.bn2.num_batches_tracked', 'layer1.2.conv3.weight', 'layer1.2.bn3.weight', 'layer1.2.bn3.bias', 'layer1.2.bn3.running_mean', 'layer1.2.bn3.running_var', 'layer1.2.bn3.num_batches_tracked', 'layer2.0.conv1.weight', 'layer2.0.bn1.weight', 'layer2.0.bn1.bias', 'layer2.0.bn1.running_mean', 'layer2.0.bn1.running_var', 'layer2.0.bn1.num_batches_tracked', 'layer2.0.conv2.weight', 'layer2.0.bn2.weight', 'layer2.0.bn2.bias', 'layer2.0.bn2.running_mean', 'layer2.0.bn2.running_var', 'layer2.0.bn2.num_batches_tracked', 'layer2.0.conv3.weight', 'layer2.0.bn3.weight', 'layer2.0.bn3.bias', 'layer2.0.bn3.running_mean', 'layer2.0.bn3.running_var', 'layer2.0.bn3.num_batches_tracked', 'layer2.0.downsample.0.weight', 'layer2.0.downsample.1.weight', 'layer2.0.downsample.1.bias', 'layer2.0.downsample.1.running_mean', 'layer2.0.downsample.1.running_var', 'layer2.0.downsample.1.num_batches_tracked', 'layer2.1.conv1.weight', 'layer2.1.bn1.weight', 'layer2.1.bn1.bias', 'layer2.1.bn1.running_mean', 'layer2.1.bn1.running_var', 'layer2.1.bn1.num_batches_tracked', 'layer2.1.conv2.weight', 'layer2.1.bn2.weight', 'layer2.1.bn2.bias', 'layer2.1.bn2.running_mean', 'layer2.1.bn2.running_var', 'layer2.1.bn2.num_batches_tracked', 'layer2.1.conv3.weight', 'layer2.1.bn3.weight', 'layer2.1.bn3.bias', 'layer2.1.bn3.running_mean', 'layer2.1.bn3.running_var', 'layer2.1.bn3.num_batches_tracked', 'layer2.2.conv1.weight', 'layer2.2.bn1.weight', 'layer2.2.bn1.bias', 'layer2.2.bn1.running_mean', 'layer2.2.bn1.running_var', 'layer2.2.bn1.num_batches_tracked', 'layer2.2.conv2.weight', 'layer2.2.bn2.weight', 'layer2.2.bn2.bias', 'layer2.2.bn2.running_mean', 'layer2.2.bn2.running_var', 'layer2.2.bn2.num_batches_tracked', 'layer2.2.conv3.weight', 'layer2.2.bn3.weight', 'layer2.2.bn3.bias', 'layer2.2.bn3.running_mean', 'layer2.2.bn3.running_var', 'layer2.2.bn3.num_batches_tracked', 'layer2.3.conv1.weight', 'layer2.3.bn1.weight', 'layer2.3.bn1.bias', 'layer2.3.bn1.running_mean', 'layer2.3.bn1.running_var', 'layer2.3.bn1.num_batches_tracked', 'layer2.3.conv2.weight', 'layer2.3.bn2.weight', 'layer2.3.bn2.bias', 'layer2.3.bn2.running_mean', 'layer2.3.bn2.running_var', 'layer2.3.bn2.num_batches_tracked', 'layer2.3.conv3.weight', 'layer2.3.bn3.weight', 'layer2.3.bn3.bias', 'layer2.3.bn3.running_mean', 'layer2.3.bn3.running_var', 'layer2.3.bn3.num_batches_tracked', 'layer3.0.conv1.weight', 'layer3.0.bn1.weight', 'layer3.0.bn1.bias', 'layer3.0.bn1.running_mean', 'layer3.0.bn1.running_var', 'layer3.0.bn1.num_batches_tracked', 'layer3.0.conv2.weight', 'layer3.0.bn2.weight', 'layer3.0.bn2.bias', 'layer3.0.bn2.running_mean', 'layer3.0.bn2.running_var', 'layer3.0.bn2.num_batches_tracked', 'layer3.0.conv3.weight', 'layer3.0.bn3.weight', 'layer3.0.bn3.bias', 'layer3.0.bn3.running_mean', 'layer3.0.bn3.running_var', 'layer3.0.bn3.num_batches_tracked', 'layer3.0.downsample.0.weight', 'layer3.0.downsample.1.weight', 'layer3.0.downsample.1.bias', 'layer3.0.downsample.1.running_mean', 'layer3.0.downsample.1.running_var', 'layer3.0.downsample.1.num_batches_tracked', 'layer3.1.conv1.weight', 'layer3.1.bn1.weight', 'layer3.1.bn1.bias', 'layer3.1.bn1.running_mean', 'layer3.1.bn1.running_var', 'layer3.1.bn1.num_batches_tracked', 'layer3.1.conv2.weight', 'layer3.1.bn2.weight', 'layer3.1.bn2.bias', 'layer3.1.bn2.running_mean', 'layer3.1.bn2.running_var', 'layer3.1.bn2.num_batches_tracked', 'layer3.1.conv3.weight', 'layer3.1.bn3.weight', 'layer3.1.bn3.bias', 'layer3.1.bn3.running_mean', 'layer3.1.bn3.running_var', 'layer3.1.bn3.num_batches_tracked', 'layer3.2.conv1.weight', 'layer3.2.bn1.weight', 'layer3.2.bn1.bias', 'layer3.2.bn1.running_mean', 'layer3.2.bn1.running_var', 'layer3.2.bn1.num_batches_tracked', 'layer3.2.conv2.weight', 'layer3.2.bn2.weight', 'layer3.2.bn2.bias', 'layer3.2.bn2.running_mean', 'layer3.2.bn2.running_var', 'layer3.2.bn2.num_batches_tracked', 'layer3.2.conv3.weight', 'layer3.2.bn3.weight', 'layer3.2.bn3.bias', 'layer3.2.bn3.running_mean', 'layer3.2.bn3.running_var', 'layer3.2.bn3.num_batches_tracked', 'layer3.3.conv1.weight', 'layer3.3.bn1.weight', 'layer3.3.bn1.bias', 'layer3.3.bn1.running_mean', 'layer3.3.bn1.running_var', 'layer3.3.bn1.num_batches_tracked', 'layer3.3.conv2.weight', 'layer3.3.bn2.weight', 'layer3.3.bn2.bias', 'layer3.3.bn2.running_mean', 'layer3.3.bn2.running_var', 'layer3.3.bn2.num_batches_tracked', 'layer3.3.conv3.weight', 'layer3.3.bn3.weight', 'layer3.3.bn3.bias', 'layer3.3.bn3.running_mean', 'layer3.3.bn3.running_var', 'layer3.3.bn3.num_batches_tracked', 'layer3.4.conv1.weight', 'layer3.4.bn1.weight', 'layer3.4.bn1.bias', 'layer3.4.bn1.running_mean', 'layer3.4.bn1.running_var', 'layer3.4.bn1.num_batches_tracked', 'layer3.4.conv2.weight', 'layer3.4.bn2.weight', 'layer3.4.bn2.bias', 'layer3.4.bn2.running_mean', 'layer3.4.bn2.running_var', 'layer3.4.bn2.num_batches_tracked', 'layer3.4.conv3.weight', 'layer3.4.bn3.weight', 'layer3.4.bn3.bias', 'layer3.4.bn3.running_mean', 'layer3.4.bn3.running_var', 'layer3.4.bn3.num_batches_tracked', 'layer3.5.conv1.weight', 'layer3.5.bn1.weight', 'layer3.5.bn1.bias', 'layer3.5.bn1.running_mean', 'layer3.5.bn1.running_var', 'layer3.5.bn1.num_batches_tracked', 'layer3.5.conv2.weight', 'layer3.5.bn2.weight', 'layer3.5.bn2.bias', 'layer3.5.bn2.running_mean', 'layer3.5.bn2.running_var', 'layer3.5.bn2.num_batches_tracked', 'layer3.5.conv3.weight', 'layer3.5.bn3.weight', 'layer3.5.bn3.bias', 'layer3.5.bn3.running_mean', 'layer3.5.bn3.running_var', 'layer3.5.bn3.num_batches_tracked', 'layer4.0.conv1.weight', 'layer4.0.bn1.weight', 'layer4.0.bn1.bias', 'layer4.0.bn1.running_mean', 'layer4.0.bn1.running_var', 'layer4.0.bn1.num_batches_tracked', 'layer4.0.conv2.weight', 'layer4.0.bn2.weight', 'layer4.0.bn2.bias', 'layer4.0.bn2.running_mean', 'layer4.0.bn2.running_var', 'layer4.0.bn2.num_batches_tracked', 'layer4.0.conv3.weight', 'layer4.0.bn3.weight', 'layer4.0.bn3.bias', 'layer4.0.bn3.running_mean', 'layer4.0.bn3.running_var', 'layer4.0.bn3.num_batches_tracked', 'layer4.0.downsample.0.weight', 'layer4.0.downsample.1.weight', 'layer4.0.downsample.1.bias', 'layer4.0.downsample.1.running_mean', 'layer4.0.downsample.1.running_var', 'layer4.0.downsample.1.num_batches_tracked', 'layer4.1.conv1.weight', 'layer4.1.bn1.weight', 'layer4.1.bn1.bias', 'layer4.1.bn1.running_mean', 'layer4.1.bn1.running_var', 'layer4.1.bn1.num_batches_tracked', 'layer4.1.conv2.weight', 'layer4.1.bn2.weight', 'layer4.1.bn2.bias', 'layer4.1.bn2.running_mean', 'layer4.1.bn2.running_var', 'layer4.1.bn2.num_batches_tracked', 'layer4.1.conv3.weight', 'layer4.1.bn3.weight', 'layer4.1.bn3.bias', 'layer4.1.bn3.running_mean', 'layer4.1.bn3.running_var', 'layer4.1.bn3.num_batches_tracked', 'layer4.2.conv1.weight', 'layer4.2.bn1.weight', 'layer4.2.bn1.bias', 'layer4.2.bn1.running_mean', 'layer4.2.bn1.running_var', 'layer4.2.bn1.num_batches_tracked', 'layer4.2.conv2.weight', 'layer4.2.bn2.weight', 'layer4.2.bn2.bias', 'layer4.2.bn2.running_mean', 'layer4.2.bn2.running_var', 'layer4.2.bn2.num_batches_tracked', 'layer4.2.conv3.weight', 'layer4.2.bn3.weight', 'layer4.2.bn3.bias', 'layer4.2.bn3.running_mean', 'layer4.2.bn3.running_var', 'layer4.2.bn3.num_batches_tracked', 'fc.0.weight', 'fc.0.bias', 'fc.1.weight', 'fc.1.bias'])"
            ]
          },
          "metadata": {},
          "execution_count": 25
        }
      ]
    },
    {
      "cell_type": "code",
      "metadata": {
        "id": "yDHrWMZarasC"
      },
      "source": [
        "#log = model1.load_state_dict(state_dict, strict=False)\n",
        "#print(log)"
      ],
      "execution_count": 26,
      "outputs": []
    },
    {
      "cell_type": "code",
      "metadata": {
        "id": "BTIGHmNYp4Xm"
      },
      "source": [
        "model2 = get_model_property('model_fn')().to(device)\n",
        "\n",
        "model2.fc = nn.Sequential(\n",
        "      nn.Linear(2048, 512),\n",
        "      nn.Linear(512, 1),\n",
        "      nn.Sigmoid()\n",
        "  ).to(device)"
      ],
      "execution_count": 27,
      "outputs": []
    },
    {
      "cell_type": "code",
      "metadata": {
        "colab": {
          "base_uri": "https://localhost:8080/"
        },
        "id": "ffA2kqYBuccS",
        "outputId": "491ff959-4ab1-46f8-db9b-5fc1fdccc6b8"
      },
      "source": [
        "log = model2.load_state_dict(state_dict, strict=False)\n",
        "print(log)"
      ],
      "execution_count": 28,
      "outputs": [
        {
          "output_type": "stream",
          "text": [
            "<All keys matched successfully>\n"
          ],
          "name": "stdout"
        }
      ]
    },
    {
      "cell_type": "code",
      "metadata": {
        "id": "hrAX_DbgwX1f"
      },
      "source": [
        "# Freeze Layers for Teacher \n",
        "for param in model2.parameters():\n",
        "    param.requires_grad = False"
      ],
      "execution_count": 29,
      "outputs": []
    },
    {
      "cell_type": "code",
      "metadata": {
        "colab": {
          "base_uri": "https://localhost:8080/"
        },
        "id": "YBq_qgdQviOz",
        "outputId": "9cf27ca4-efbf-43a6-e008-7b185fa34929"
      },
      "source": [
        "parser = argparse.ArgumentParser(description='train kd')\n",
        "\n",
        "# various path\n",
        "parser.add_argument('--save_root', type=str, default='./results', help='models and logs are saved here')\n",
        "parser.add_argument('--img_root', type=str, default='./datasets', help='path name of image dataset')\n",
        "parser.add_argument('--s_init', type=str, required=True, help='initial parameters of student model')\n",
        "parser.add_argument('--t_model', type=str, required=True, help='path name of teacher model')\n",
        "\n",
        "# training hyper parameters\n",
        "parser.add_argument('--print_freq', type=int, default=50, help='frequency of showing training results on console')\n",
        "parser.add_argument('--epochs', type=int, default=200, help='number of total epochs to run')\n",
        "parser.add_argument('--batch_size', type=int, default=128, help='The size of batch')\n",
        "parser.add_argument('--lr', type=float, default=0.1, help='initial learning rate')\n",
        "parser.add_argument('--momentum', type=float, default=0.9, help='momentum')\n",
        "parser.add_argument('--weight_decay', type=float, default=1e-4, help='weight decay')\n",
        "parser.add_argument('--num_class', type=int, default=10, help='number of classes')\n",
        "parser.add_argument('--cuda', type=int, default=1)\n",
        "\n",
        "# others\n",
        "parser.add_argument('--seed', type=int, default=2, help='random seed')\n",
        "parser.add_argument('--note', type=str, default='try', help='note for this run')\n",
        "\n",
        "# net and dataset choosen\n",
        "parser.add_argument('--data_name', type=str, required=True, help='name of dataset') # cifar10/cifar100\n",
        "parser.add_argument('--t_name', type=str, required=True, help='name of teacher')    # resnet20/resnet110\n",
        "parser.add_argument('--s_name', type=str, required=True, help='name of student')    # resnet20/resnet110\n",
        "\n",
        "# hyperparameter\n",
        "parser.add_argument('--kd_mode', type=str, required=True, help='mode of kd, which can be:'\n",
        "\t\t\t\t\t\t\t\t\t\t\t\t\t\t\t   'logits/st/at/fitnet/nst/pkt/fsp/rkd/ab/'\n",
        "\t\t\t\t\t\t\t\t\t\t\t\t\t\t\t   'sp/sobolev/cc/lwm/irg/vid/ofd/afd')\n",
        "parser.add_argument('--lambda_kd', type=float, default=1.0, help='trade-off parameter for kd loss')\n",
        "parser.add_argument('--T', type=float, default=4.0, help='temperature for ST')\n",
        "parser.add_argument('--p', type=float, default=2.0, help='power for AT')\n",
        "parser.add_argument('--w_dist', type=float, default=25.0, help='weight for RKD distance')\n",
        "parser.add_argument('--w_angle', type=float, default=50.0, help='weight for RKD angle')\n",
        "parser.add_argument('--m', type=float, default=2.0, help='margin for AB')\n",
        "parser.add_argument('--gamma', type=float, default=0.4, help='gamma in Gaussian RBF for CC')\n",
        "parser.add_argument('--P_order', type=int, default=2, help='P-order Taylor series of Gaussian RBF for CC')\n",
        "parser.add_argument('--w_irg_vert', type=float, default=0.1, help='weight for IRG vertex')\n",
        "parser.add_argument('--w_irg_edge', type=float, default=5.0, help='weight for IRG edge')\n",
        "parser.add_argument('--w_irg_tran', type=float, default=5.0, help='weight for IRG transformation')\n",
        "parser.add_argument('--sf', type=float, default=1.0, help='scale factor for VID, i.e. mid_channels = sf * out_channels')\n",
        "parser.add_argument('--init_var', type=float, default=5.0, help='initial variance for VID')\n",
        "parser.add_argument('--att_f', type=float, default=1.0, help='attention factor of mid_channels for AFD')\n"
      ],
      "execution_count": 30,
      "outputs": [
        {
          "output_type": "execute_result",
          "data": {
            "text/plain": [
              "_StoreAction(option_strings=['--att_f'], dest='att_f', nargs=None, const=None, default=1.0, type=<class 'float'>, choices=None, help='attention factor of mid_channels for AFD', metavar=None)"
            ]
          },
          "metadata": {},
          "execution_count": 30
        }
      ]
    },
    {
      "cell_type": "code",
      "metadata": {
        "id": "k4EABSlDvrgu"
      },
      "source": [
        "args, unparsed = parser.parse_known_args(['--save_root', './results/logits/',\n",
        "                                          '--t_model', './results/base/base-c10-r110/model_best.pth.tar',\n",
        "                                          '--s_init', './results/base/base-c10-r20/initial_r20.pth.tar',\n",
        "                                          '--data_name', 'DR',\n",
        "                                          '--batch_size', '32',\n",
        "                                          '--epochs', '100',\n",
        "                                          '--t_name', 'resnet110', \n",
        "                                          '--s_name', 'resnet20',\n",
        "                                          '--num_class', '2',\n",
        "                                          '--kd_mode', 'logits', \n",
        "                                          '--note', 'logits-c10-r110-r20',\n",
        "                                          '--print_freq', '30',\n",
        "                                          '--lr', '0.0001', \n",
        "                                          ])"
      ],
      "execution_count": 31,
      "outputs": []
    },
    {
      "cell_type": "code",
      "metadata": {
        "id": "E8JXElI8msjO"
      },
      "source": [
        "class Logits(nn.Module):\n",
        "\t'''\n",
        "\tDo Deep Nets Really Need to be Deep?\n",
        "\thttp://papers.nips.cc/paper/5484-do-deep-nets-really-need-to-be-deep.pdf\n",
        "\t'''\n",
        "\tdef __init__(self):\n",
        "\t\tsuper(Logits, self).__init__()\n",
        "\n",
        "\tdef forward(self, out_s, out_t):\n",
        "\t\tloss = F.mse_loss(out_s, out_t)\n",
        "\n",
        "\t\treturn loss"
      ],
      "execution_count": 32,
      "outputs": []
    },
    {
      "cell_type": "code",
      "metadata": {
        "colab": {
          "base_uri": "https://localhost:8080/",
          "height": 52
        },
        "id": "5K5ajkMln4rM",
        "outputId": "5b04190c-0014-4fdd-df58-86ae28fe31fa"
      },
      "source": [
        "\"\"\"\n",
        "def adjust_lr(optimizer, epoch):\n",
        "\tscale   = 0.1\n",
        "\tlr_list =  [args.lr] * 100\n",
        "\tlr_list += [args.lr*scale] * 50\n",
        "\tlr_list += [args.lr*scale*scale] * 50\n",
        "\n",
        "\tlr = lr_list[epoch-1]\n",
        "\tlogging.info('Epoch: {}  lr: {:.3f}'.format(epoch, lr))\n",
        "\tfor param_group in optimizer.param_groups:\n",
        "\t\tparam_group['lr'] = lr\n",
        "\"\"\""
      ],
      "execution_count": 35,
      "outputs": [
        {
          "output_type": "execute_result",
          "data": {
            "application/vnd.google.colaboratory.intrinsic+json": {
              "type": "string"
            },
            "text/plain": [
              "\"\\ndef adjust_lr(optimizer, epoch):\\n\\tscale   = 0.1\\n\\tlr_list =  [args.lr] * 100\\n\\tlr_list += [args.lr*scale] * 50\\n\\tlr_list += [args.lr*scale*scale] * 50\\n\\n\\tlr = lr_list[epoch-1]\\n\\tlogging.info('Epoch: {}  lr: {:.3f}'.format(epoch, lr))\\n\\tfor param_group in optimizer.param_groups:\\n\\t\\tparam_group['lr'] = lr\\n\""
            ]
          },
          "metadata": {},
          "execution_count": 35
        }
      ]
    },
    {
      "cell_type": "code",
      "metadata": {
        "id": "e0VY4r_Rluej"
      },
      "source": [
        "snet = model1"
      ],
      "execution_count": 33,
      "outputs": []
    },
    {
      "cell_type": "code",
      "metadata": {
        "id": "bW5xuaU1mF1r"
      },
      "source": [
        "tnet = model2"
      ],
      "execution_count": 34,
      "outputs": []
    },
    {
      "cell_type": "code",
      "metadata": {
        "id": "OxiuKLr5mK6f"
      },
      "source": [
        "for param in tnet.parameters():\n",
        "  param.requires_grad = False"
      ],
      "execution_count": 35,
      "outputs": []
    },
    {
      "cell_type": "code",
      "metadata": {
        "id": "SLgA1ct1mNck"
      },
      "source": [
        "logging.info('Teacher: %s', tnet)\n",
        "logging.info('-----------------------------------------------')"
      ],
      "execution_count": 36,
      "outputs": []
    },
    {
      "cell_type": "code",
      "metadata": {
        "id": "AIruOautmRVF"
      },
      "source": [
        "criterionKD = Logits()"
      ],
      "execution_count": 37,
      "outputs": []
    },
    {
      "cell_type": "code",
      "metadata": {
        "id": "Tk7UIeYFnbof"
      },
      "source": [
        "criterionCls = torch.nn.BCELoss()"
      ],
      "execution_count": 38,
      "outputs": []
    },
    {
      "cell_type": "code",
      "metadata": {
        "id": "9Cjk86hNmugB"
      },
      "source": [
        "optimizer = torch.optim.SGD(snet.parameters(),\n",
        "              lr = args.lr, \n",
        "              momentum = args.momentum, \n",
        "              weight_decay = args.weight_decay,\n",
        "              nesterov = True)"
      ],
      "execution_count": 39,
      "outputs": []
    },
    {
      "cell_type": "code",
      "metadata": {
        "id": "eMVBVwQYnAfz"
      },
      "source": [
        "mean = (0.4914, 0.4822, 0.4465)\n",
        "std  = (0.2470, 0.2435, 0.2616)"
      ],
      "execution_count": 40,
      "outputs": []
    },
    {
      "cell_type": "code",
      "metadata": {
        "id": "HSbCw770nFYT",
        "colab": {
          "base_uri": "https://localhost:8080/",
          "height": 52
        },
        "outputId": "f6b2b501-b383-4178-d80e-52920442b571"
      },
      "source": [
        "\"\"\"\n",
        "train_transform = transforms.Compose([\n",
        "    transforms.Pad(4, padding_mode='reflect'),\n",
        "    transforms.RandomCrop(224),\n",
        "    transforms.RandomHorizontalFlip(),\n",
        "    transforms.ToTensor(),\n",
        "    transforms.Normalize(mean=mean,std=std)\n",
        "  ])\n",
        "\"\"\""
      ],
      "execution_count": 44,
      "outputs": [
        {
          "output_type": "execute_result",
          "data": {
            "application/vnd.google.colaboratory.intrinsic+json": {
              "type": "string"
            },
            "text/plain": [
              "\"\\ntrain_transform = transforms.Compose([\\n    transforms.Pad(4, padding_mode='reflect'),\\n    transforms.RandomCrop(224),\\n    transforms.RandomHorizontalFlip(),\\n    transforms.ToTensor(),\\n    transforms.Normalize(mean=mean,std=std)\\n  ])\\n\""
            ]
          },
          "metadata": {},
          "execution_count": 44
        }
      ]
    },
    {
      "cell_type": "code",
      "metadata": {
        "id": "R7WHMnAWyBc5"
      },
      "source": [
        "img_dim = get_model_property('img_dim')"
      ],
      "execution_count": 41,
      "outputs": []
    },
    {
      "cell_type": "code",
      "metadata": {
        "id": "rffyofPlyHrE"
      },
      "source": [
        "normalize = transforms.Normalize(\n",
        "        mean=[0.485, 0.456, 0.406], std=[0.229, 0.224, 0.225])"
      ],
      "execution_count": 42,
      "outputs": []
    },
    {
      "cell_type": "code",
      "metadata": {
        "id": "hfW6UtenxpK8"
      },
      "source": [
        "s = 1\n",
        "color_jitter = transforms.ColorJitter(0.8 * s, 0.8 * s, 0.8 * s, 0.2 * s) # YO\n",
        "train_dataset = torchvision.datasets.ImageFolder(\n",
        "    #os.path.join(FLAGS.datadir, 'train'),\n",
        "    os.path.join(FLAGS.datadir),\n",
        "    transforms.Compose([\n",
        "        transforms.RandomResizedCrop(224),\n",
        "        transforms.RandomHorizontalFlip(),\n",
        "        transforms.RandomApply([color_jitter], p=0.8), # YO\n",
        "        transforms.RandomGrayscale(p=0.2),             # YO\n",
        "        #GaussianBlur(),     # No me esta sirviendo + tengo dos versiones en el code base\n",
        "        transforms.ToTensor(),\n",
        "        #normalize, \n",
        "    ]))"
      ],
      "execution_count": 43,
      "outputs": []
    },
    {
      "cell_type": "code",
      "metadata": {
        "id": "kG9qSh1TnKVk"
      },
      "source": [
        "# Define data loader\n",
        "train_loader = torch.utils.data.DataLoader(\n",
        "    train_dataset,\n",
        "    batch_size=args.batch_size, \n",
        "    shuffle=True, \n",
        "    num_workers=2, \n",
        "    pin_memory=True)"
      ],
      "execution_count": 44,
      "outputs": []
    },
    {
      "cell_type": "code",
      "metadata": {
        "id": "6Ka430uynfq6"
      },
      "source": [
        "# warp nets and criterions for train and test\n",
        "nets = {'snet':snet, 'tnet':tnet}\n",
        "criterions = {'criterionCls':criterionCls, 'criterionKD':criterionKD}"
      ],
      "execution_count": 45,
      "outputs": []
    },
    {
      "cell_type": "code",
      "metadata": {
        "colab": {
          "base_uri": "https://localhost:8080/"
        },
        "id": "904stfiBd3Pw",
        "outputId": "d20327f9-2390-436a-debe-8c366d0f9487"
      },
      "source": [
        "cd Knowledge-Distillation-Zoo"
      ],
      "execution_count": 46,
      "outputs": [
        {
          "output_type": "stream",
          "text": [
            "/content/Knowledge-Distillation-Zoo\n"
          ],
          "name": "stdout"
        }
      ]
    },
    {
      "cell_type": "code",
      "metadata": {
        "id": "KnA6CqfkbrNS"
      },
      "source": [
        "from utils import AverageMeter, accuracy, transform_time\n",
        "from utils import load_pretrained_model, save_checkpoint\n",
        "from utils import create_exp_dir, count_parameters_in_MB"
      ],
      "execution_count": 47,
      "outputs": []
    },
    {
      "cell_type": "code",
      "metadata": {
        "colab": {
          "base_uri": "https://localhost:8080/"
        },
        "id": "ml-ZQRC4eCva",
        "outputId": "d2bf0d51-22f4-4ec5-da2a-0c435d1a452d"
      },
      "source": [
        "cd .."
      ],
      "execution_count": 48,
      "outputs": [
        {
          "output_type": "stream",
          "text": [
            "/content\n"
          ],
          "name": "stdout"
        }
      ]
    },
    {
      "cell_type": "code",
      "metadata": {
        "id": "CxW4saCGogUu"
      },
      "source": [
        "def train(train_loader, nets, optimizer, criterions, epoch):\n",
        "    batch_time = AverageMeter()\n",
        "    data_time  = AverageMeter()\n",
        "    cls_losses = AverageMeter()\n",
        "    kd_losses  = AverageMeter()\n",
        "    top1       = AverageMeter()\n",
        "    top5       = AverageMeter()\n",
        "\n",
        "    snet = nets['snet']\n",
        "    tnet = nets['tnet']\n",
        "\n",
        "    criterionCls = criterions['criterionCls']\n",
        "    criterionKD  = criterions['criterionKD']\n",
        "\n",
        "\n",
        "    snet.train()\n",
        "\n",
        "    if args.kd_mode in ['vid', 'ofd']:\n",
        "        for i in range(1,4):\n",
        "            criterionKD[i].train()\n",
        "\n",
        "    end = time.time()\n",
        "\n",
        "    for i, (img, target) in enumerate(train_loader, start=1):\n",
        "        data_time.update(time.time() - end)\n",
        "\n",
        "        if args.cuda:\n",
        "            img = img.cuda(non_blocking=True)\n",
        "            target = target.cuda(non_blocking=True)\n",
        "\n",
        "        if args.kd_mode in ['sobolev', 'lwm']:\n",
        "            img.requires_grad = True\n",
        "\n",
        "        out_s = snet(img)\n",
        "        out_t = tnet(img)\n",
        "        \n",
        "        # probs to 0 - 1 YOOO\n",
        "        out_t = (out_t>0.5).float()\n",
        "\n",
        "        #target = target.unsqueeze(1)\n",
        "        #target = target.to(torch.float32)\n",
        "\n",
        "        cls_loss = 0 # YOOO\n",
        "        #cls_loss = criterionCls(out_s, target)\n",
        "\n",
        "        if args.kd_mode in ['logits', 'st']:\n",
        "            #kd_loss = criterionKD(out_s, out_t.detach()) * args.lambda_kd\n",
        "            kd_loss = criterionCls(out_s, out_t.detach()) # YOOOO\n",
        "\n",
        "        loss = kd_loss # YOOO\n",
        "        #loss = cls_loss + kd_loss\n",
        "\n",
        "        prec1 = accuracy(out_s, target, topk=(1,))\n",
        "\n",
        "        #cls_losses.update(cls_loss.item(), img.size(0))\n",
        "        kd_losses.update(kd_loss.item(), img.size(0))\n",
        "        top1.update(prec1[0].item(), img.size(0))\n",
        "\n",
        "        optimizer.zero_grad()\n",
        "        loss.backward()\n",
        "        optimizer.step()\n",
        "\n",
        "        batch_time.update(time.time() - end)\n",
        "        end = time.time()\n",
        "\n",
        "        if i % args.print_freq == 0:\n",
        "            log_str = ('Epoch[{0}]:[{1:03}/{2:03}] '\n",
        "                        'Time:{batch_time.val:.4f} '\n",
        "                        'Data:{data_time.val:.4f}  '\n",
        "                        'Cls:{cls_losses.val:.4f}({cls_losses.avg:.4f})  '\n",
        "                        'KD:{kd_losses.val:.4f}({kd_losses.avg:.4f})  '\n",
        "                        'prec@1:{top1.val:.2f}({top1.avg:.2f})  '.format(\n",
        "                        epoch, i, len(train_loader), batch_time=batch_time, data_time=data_time,\n",
        "                        cls_losses=cls_losses, kd_losses=kd_losses, top1=top1))\n",
        "            logging.info(log_str)\n",
        "            print(log_str)"
      ],
      "execution_count": 49,
      "outputs": []
    },
    {
      "cell_type": "code",
      "metadata": {
        "colab": {
          "base_uri": "https://localhost:8080/",
          "height": 35
        },
        "id": "NRj3nQRP1RnU",
        "outputId": "85c4a65d-1229-4cda-b69f-1b6ee61ce619"
      },
      "source": [
        "\"\"\"\n",
        "Idea: \n",
        "  - Comparar realizando Knowledge distillation solo de LABELED 1000 \n",
        "  VS Knowledge distilattion de la UNLABELED 5000 (Solo el loss de consistency) + \n",
        "  despues un Finetuning de la Unlabeled\n",
        "\"\"\""
      ],
      "execution_count": 50,
      "outputs": [
        {
          "output_type": "execute_result",
          "data": {
            "application/vnd.google.colaboratory.intrinsic+json": {
              "type": "string"
            },
            "text/plain": [
              "'\\nIdea: \\n  - Comparar realizando Knowledge distillation solo de LABELED 1000 \\n  VS Knowledge distilattion de la UNLABELED 5000 (Solo el loss de consistency) + \\n  despues un Finetuning de la Unlabeled\\n'"
            ]
          },
          "metadata": {},
          "execution_count": 50
        }
      ]
    },
    {
      "cell_type": "code",
      "metadata": {
        "colab": {
          "base_uri": "https://localhost:8080/",
          "height": 1000
        },
        "id": "bVC4kSuRnorl",
        "outputId": "7b4f9600-ad1f-4f8a-c87a-e932aa5f1aad"
      },
      "source": [
        "best_top1 = 0\n",
        "for epoch in range(1, args.epochs+1):\n",
        "  #adjust_lr(optimizer, epoch)\n",
        "\n",
        "  # train one epoch\n",
        "  epoch_start_time = time.time()\n",
        "  train(train_loader, nets, optimizer, criterions, epoch)\n",
        "\n",
        "  epoch_duration = time.time() - epoch_start_time\n",
        "  logging.info('Epoch time: {}s'.format(int(epoch_duration)))\n",
        "  print('Epoch time: {}s'.format(int(epoch_duration)))\n",
        "\n",
        "  \"\"\"\n",
        "  # save model\n",
        "  is_best = False\n",
        "  if test_top1 > best_top1:\n",
        "    best_top1 = test_top1\n",
        "    is_best = True\n",
        "  logging.info('Saving models......')\n",
        "  save_checkpoint({\n",
        "    'epoch': epoch,\n",
        "    'snet': snet.state_dict(),\n",
        "    'tnet': tnet.state_dict(),\n",
        "    'prec@1': test_top1,\n",
        "  }, is_best, args.save_root)\n",
        "  \"\"\""
      ],
      "execution_count": 51,
      "outputs": [
        {
          "output_type": "stream",
          "text": [
            "/usr/local/lib/python3.7/dist-packages/torch/nn/functional.py:718: UserWarning: Named tensors and all their associated APIs are an experimental feature and subject to change. Please do not use them for anything important until they are released as stable. (Triggered internally at  /pytorch/c10/core/TensorImpl.h:1156.)\n",
            "  return torch.max_pool2d(input, kernel_size, stride, padding, dilation, ceil_mode)\n"
          ],
          "name": "stderr"
        },
        {
          "output_type": "stream",
          "text": [
            "Epoch[1]:[030/1776] Time:0.8008 Data:0.0002  Cls:0.0000(0.0000)  KD:0.6857(0.6904)  prec@1:75.00(72.29)  \n",
            "Epoch[1]:[060/1776] Time:0.8314 Data:0.0002  Cls:0.0000(0.0000)  KD:0.6685(0.6887)  prec@1:65.62(71.93)  \n",
            "Epoch[1]:[090/1776] Time:0.8765 Data:0.0002  Cls:0.0000(0.0000)  KD:0.6689(0.6878)  prec@1:75.00(72.88)  \n",
            "Epoch[1]:[120/1776] Time:0.8579 Data:0.0002  Cls:0.0000(0.0000)  KD:0.6914(0.6855)  prec@1:68.75(72.01)  \n",
            "Epoch[1]:[150/1776] Time:0.8435 Data:0.0002  Cls:0.0000(0.0000)  KD:0.6836(0.6830)  prec@1:62.50(72.21)  \n",
            "Epoch[1]:[180/1776] Time:0.8509 Data:0.0002  Cls:0.0000(0.0000)  KD:0.6652(0.6804)  prec@1:75.00(71.72)  \n",
            "Epoch[1]:[210/1776] Time:0.8559 Data:0.0002  Cls:0.0000(0.0000)  KD:0.6599(0.6776)  prec@1:62.50(71.73)  \n",
            "Epoch[1]:[240/1776] Time:0.8538 Data:0.0002  Cls:0.0000(0.0000)  KD:0.6366(0.6749)  prec@1:78.12(71.85)  \n",
            "Epoch[1]:[270/1776] Time:0.8448 Data:0.0002  Cls:0.0000(0.0000)  KD:0.7258(0.6732)  prec@1:75.00(71.71)  \n",
            "Epoch[1]:[300/1776] Time:0.8534 Data:0.0002  Cls:0.0000(0.0000)  KD:0.5828(0.6709)  prec@1:56.25(71.62)  \n",
            "Epoch[1]:[330/1776] Time:0.8527 Data:0.0002  Cls:0.0000(0.0000)  KD:0.6839(0.6687)  prec@1:75.00(71.67)  \n",
            "Epoch[1]:[360/1776] Time:0.8536 Data:0.0002  Cls:0.0000(0.0000)  KD:0.6339(0.6663)  prec@1:65.62(71.71)  \n",
            "Epoch[1]:[390/1776] Time:0.8568 Data:0.0002  Cls:0.0000(0.0000)  KD:0.6663(0.6634)  prec@1:65.62(71.83)  \n",
            "Epoch[1]:[420/1776] Time:0.8628 Data:0.0002  Cls:0.0000(0.0000)  KD:0.6195(0.6607)  prec@1:65.62(71.62)  \n",
            "Epoch[1]:[450/1776] Time:0.8542 Data:0.0002  Cls:0.0000(0.0000)  KD:0.5821(0.6581)  prec@1:65.62(71.53)  \n",
            "Epoch[1]:[480/1776] Time:0.8540 Data:0.0002  Cls:0.0000(0.0000)  KD:0.6259(0.6565)  prec@1:78.12(71.43)  \n",
            "Epoch[1]:[510/1776] Time:0.8561 Data:0.0002  Cls:0.0000(0.0000)  KD:0.6656(0.6545)  prec@1:59.38(71.43)  \n",
            "Epoch[1]:[540/1776] Time:0.8580 Data:0.0002  Cls:0.0000(0.0000)  KD:0.5326(0.6523)  prec@1:65.62(71.67)  \n",
            "Epoch[1]:[570/1776] Time:0.8518 Data:0.0002  Cls:0.0000(0.0000)  KD:0.6054(0.6503)  prec@1:78.12(71.63)  \n",
            "Epoch[1]:[600/1776] Time:0.8525 Data:0.0002  Cls:0.0000(0.0000)  KD:0.6069(0.6483)  prec@1:71.88(71.66)  \n",
            "Epoch[1]:[630/1776] Time:0.8538 Data:0.0002  Cls:0.0000(0.0000)  KD:0.5958(0.6462)  prec@1:59.38(71.62)  \n",
            "Epoch[1]:[660/1776] Time:0.8508 Data:0.0002  Cls:0.0000(0.0000)  KD:0.6472(0.6443)  prec@1:68.75(71.58)  \n",
            "Epoch[1]:[690/1776] Time:0.8510 Data:0.0002  Cls:0.0000(0.0000)  KD:0.5996(0.6422)  prec@1:71.88(71.60)  \n",
            "Epoch[1]:[720/1776] Time:0.8443 Data:0.0002  Cls:0.0000(0.0000)  KD:0.5256(0.6399)  prec@1:75.00(71.49)  \n",
            "Epoch[1]:[750/1776] Time:0.8530 Data:0.0002  Cls:0.0000(0.0000)  KD:0.5034(0.6379)  prec@1:81.25(71.59)  \n",
            "Epoch[1]:[780/1776] Time:0.8535 Data:0.0002  Cls:0.0000(0.0000)  KD:0.5651(0.6355)  prec@1:71.88(71.67)  \n",
            "Epoch[1]:[810/1776] Time:0.8519 Data:0.0002  Cls:0.0000(0.0000)  KD:0.5880(0.6331)  prec@1:65.62(71.56)  \n",
            "Epoch[1]:[840/1776] Time:0.8538 Data:0.0002  Cls:0.0000(0.0000)  KD:0.5699(0.6305)  prec@1:75.00(71.61)  \n",
            "Epoch[1]:[870/1776] Time:0.8541 Data:0.0002  Cls:0.0000(0.0000)  KD:0.5815(0.6286)  prec@1:75.00(71.63)  \n",
            "Epoch[1]:[900/1776] Time:0.8518 Data:0.0002  Cls:0.0000(0.0000)  KD:0.6792(0.6265)  prec@1:75.00(71.60)  \n",
            "Epoch[1]:[930/1776] Time:0.8531 Data:0.0002  Cls:0.0000(0.0000)  KD:0.5750(0.6246)  prec@1:62.50(71.60)  \n",
            "Epoch[1]:[960/1776] Time:0.8476 Data:0.0002  Cls:0.0000(0.0000)  KD:0.4706(0.6225)  prec@1:68.75(71.64)  \n",
            "Epoch[1]:[990/1776] Time:0.8547 Data:0.0002  Cls:0.0000(0.0000)  KD:0.5784(0.6202)  prec@1:84.38(71.67)  \n",
            "Epoch[1]:[1020/1776] Time:0.8517 Data:0.0002  Cls:0.0000(0.0000)  KD:0.6420(0.6182)  prec@1:65.62(71.62)  \n",
            "Epoch[1]:[1050/1776] Time:0.8491 Data:0.0002  Cls:0.0000(0.0000)  KD:0.5782(0.6161)  prec@1:62.50(71.65)  \n",
            "Epoch[1]:[1080/1776] Time:0.8508 Data:0.0002  Cls:0.0000(0.0000)  KD:0.3983(0.6134)  prec@1:68.75(71.69)  \n",
            "Epoch[1]:[1110/1776] Time:0.8534 Data:0.0002  Cls:0.0000(0.0000)  KD:0.5276(0.6117)  prec@1:78.12(71.66)  \n",
            "Epoch[1]:[1140/1776] Time:0.8555 Data:0.0002  Cls:0.0000(0.0000)  KD:0.5506(0.6100)  prec@1:71.88(71.63)  \n",
            "Epoch[1]:[1170/1776] Time:0.8501 Data:0.0002  Cls:0.0000(0.0000)  KD:0.4906(0.6077)  prec@1:65.62(71.61)  \n",
            "Epoch[1]:[1200/1776] Time:0.8515 Data:0.0002  Cls:0.0000(0.0000)  KD:0.5570(0.6061)  prec@1:75.00(71.64)  \n",
            "Epoch[1]:[1230/1776] Time:0.8520 Data:0.0002  Cls:0.0000(0.0000)  KD:0.4895(0.6043)  prec@1:81.25(71.64)  \n",
            "Epoch[1]:[1260/1776] Time:0.8520 Data:0.0002  Cls:0.0000(0.0000)  KD:0.5462(0.6026)  prec@1:65.62(71.69)  \n",
            "Epoch[1]:[1290/1776] Time:0.8535 Data:0.0002  Cls:0.0000(0.0000)  KD:0.5967(0.6010)  prec@1:81.25(71.73)  \n",
            "Epoch[1]:[1320/1776] Time:0.8515 Data:0.0002  Cls:0.0000(0.0000)  KD:0.5084(0.5992)  prec@1:59.38(71.72)  \n",
            "Epoch[1]:[1350/1776] Time:0.8518 Data:0.0002  Cls:0.0000(0.0000)  KD:0.4337(0.5976)  prec@1:78.12(71.63)  \n",
            "Epoch[1]:[1380/1776] Time:0.8522 Data:0.0002  Cls:0.0000(0.0000)  KD:0.6409(0.5955)  prec@1:78.12(71.60)  \n",
            "Epoch[1]:[1410/1776] Time:0.8522 Data:0.0002  Cls:0.0000(0.0000)  KD:0.5208(0.5937)  prec@1:59.38(71.60)  \n",
            "Epoch[1]:[1440/1776] Time:0.8504 Data:0.0002  Cls:0.0000(0.0000)  KD:0.5314(0.5917)  prec@1:78.12(71.58)  \n",
            "Epoch[1]:[1470/1776] Time:0.8489 Data:0.0002  Cls:0.0000(0.0000)  KD:0.5673(0.5899)  prec@1:78.12(71.59)  \n",
            "Epoch[1]:[1500/1776] Time:0.8519 Data:0.0002  Cls:0.0000(0.0000)  KD:0.5526(0.5884)  prec@1:78.12(71.61)  \n",
            "Epoch[1]:[1530/1776] Time:0.8492 Data:0.0002  Cls:0.0000(0.0000)  KD:0.5564(0.5869)  prec@1:62.50(71.63)  \n",
            "Epoch[1]:[1560/1776] Time:0.8522 Data:0.0002  Cls:0.0000(0.0000)  KD:0.5494(0.5853)  prec@1:78.12(71.67)  \n",
            "Epoch[1]:[1590/1776] Time:0.8539 Data:0.0002  Cls:0.0000(0.0000)  KD:0.4832(0.5844)  prec@1:62.50(71.68)  \n",
            "Epoch[1]:[1620/1776] Time:0.8506 Data:0.0002  Cls:0.0000(0.0000)  KD:0.5512(0.5831)  prec@1:62.50(71.63)  \n",
            "Epoch[1]:[1650/1776] Time:0.8508 Data:0.0002  Cls:0.0000(0.0000)  KD:0.6891(0.5821)  prec@1:65.62(71.60)  \n",
            "Epoch[1]:[1680/1776] Time:0.8500 Data:0.0002  Cls:0.0000(0.0000)  KD:0.6206(0.5805)  prec@1:53.12(71.59)  \n",
            "Epoch[1]:[1710/1776] Time:0.8549 Data:0.0002  Cls:0.0000(0.0000)  KD:0.6528(0.5791)  prec@1:78.12(71.55)  \n",
            "Epoch[1]:[1740/1776] Time:0.8518 Data:0.0002  Cls:0.0000(0.0000)  KD:0.6225(0.5780)  prec@1:56.25(71.57)  \n",
            "Epoch[1]:[1770/1776] Time:0.8522 Data:0.0002  Cls:0.0000(0.0000)  KD:0.4483(0.5769)  prec@1:84.38(71.62)  \n",
            "Epoch time: 1512s\n",
            "Epoch[2]:[030/1776] Time:0.8508 Data:0.0001  Cls:0.0000(0.0000)  KD:0.4504(0.4943)  prec@1:68.75(71.56)  \n",
            "Epoch[2]:[060/1776] Time:0.8549 Data:0.0002  Cls:0.0000(0.0000)  KD:0.4404(0.4806)  prec@1:78.12(71.04)  \n",
            "Epoch[2]:[090/1776] Time:0.8493 Data:0.0002  Cls:0.0000(0.0000)  KD:0.4309(0.4847)  prec@1:78.12(71.18)  \n",
            "Epoch[2]:[120/1776] Time:0.8508 Data:0.0002  Cls:0.0000(0.0000)  KD:0.5156(0.4801)  prec@1:62.50(70.76)  \n",
            "Epoch[2]:[150/1776] Time:0.8520 Data:0.0002  Cls:0.0000(0.0000)  KD:0.3948(0.4807)  prec@1:62.50(70.83)  \n",
            "Epoch[2]:[180/1776] Time:0.8519 Data:0.0002  Cls:0.0000(0.0000)  KD:0.5881(0.4818)  prec@1:71.88(70.83)  \n",
            "Epoch[2]:[210/1776] Time:0.8531 Data:0.0001  Cls:0.0000(0.0000)  KD:0.4330(0.4837)  prec@1:68.75(70.71)  \n",
            "Epoch[2]:[240/1776] Time:0.8525 Data:0.0002  Cls:0.0000(0.0000)  KD:0.3660(0.4821)  prec@1:62.50(70.62)  \n",
            "Epoch[2]:[270/1776] Time:0.8501 Data:0.0001  Cls:0.0000(0.0000)  KD:0.4661(0.4781)  prec@1:71.88(70.59)  \n",
            "Epoch[2]:[300/1776] Time:0.8510 Data:0.0002  Cls:0.0000(0.0000)  KD:0.4522(0.4785)  prec@1:84.38(70.70)  \n",
            "Epoch[2]:[330/1776] Time:0.8515 Data:0.0002  Cls:0.0000(0.0000)  KD:0.4385(0.4797)  prec@1:84.38(70.87)  \n",
            "Epoch[2]:[360/1776] Time:0.8538 Data:0.0002  Cls:0.0000(0.0000)  KD:0.4244(0.4785)  prec@1:68.75(70.89)  \n",
            "Epoch[2]:[390/1776] Time:0.8515 Data:0.0001  Cls:0.0000(0.0000)  KD:0.6763(0.4768)  prec@1:65.62(70.97)  \n",
            "Epoch[2]:[420/1776] Time:0.8507 Data:0.0002  Cls:0.0000(0.0000)  KD:0.5699(0.4771)  prec@1:68.75(71.21)  \n",
            "Epoch[2]:[450/1776] Time:0.8503 Data:0.0002  Cls:0.0000(0.0000)  KD:0.5105(0.4762)  prec@1:71.88(71.19)  \n",
            "Epoch[2]:[480/1776] Time:0.8520 Data:0.0002  Cls:0.0000(0.0000)  KD:0.5275(0.4760)  prec@1:81.25(71.23)  \n",
            "Epoch[2]:[510/1776] Time:0.8531 Data:0.0002  Cls:0.0000(0.0000)  KD:0.5408(0.4759)  prec@1:84.38(71.31)  \n",
            "Epoch[2]:[540/1776] Time:0.8506 Data:0.0001  Cls:0.0000(0.0000)  KD:0.5356(0.4752)  prec@1:87.50(71.30)  \n",
            "Epoch[2]:[570/1776] Time:0.8527 Data:0.0002  Cls:0.0000(0.0000)  KD:0.6160(0.4746)  prec@1:75.00(71.33)  \n",
            "Epoch[2]:[600/1776] Time:0.8532 Data:0.0002  Cls:0.0000(0.0000)  KD:0.4784(0.4736)  prec@1:78.12(71.33)  \n",
            "Epoch[2]:[630/1776] Time:0.8511 Data:0.0002  Cls:0.0000(0.0000)  KD:0.3857(0.4718)  prec@1:65.62(71.34)  \n",
            "Epoch[2]:[660/1776] Time:0.8563 Data:0.0001  Cls:0.0000(0.0000)  KD:0.4124(0.4715)  prec@1:62.50(71.31)  \n",
            "Epoch[2]:[690/1776] Time:0.8528 Data:0.0002  Cls:0.0000(0.0000)  KD:0.3823(0.4712)  prec@1:62.50(71.34)  \n",
            "Epoch[2]:[720/1776] Time:0.8502 Data:0.0003  Cls:0.0000(0.0000)  KD:0.4831(0.4696)  prec@1:78.12(71.38)  \n",
            "Epoch[2]:[750/1776] Time:0.8513 Data:0.0002  Cls:0.0000(0.0000)  KD:0.4050(0.4690)  prec@1:65.62(71.35)  \n",
            "Epoch[2]:[780/1776] Time:0.8537 Data:0.0002  Cls:0.0000(0.0000)  KD:0.3089(0.4679)  prec@1:75.00(71.37)  \n",
            "Epoch[2]:[810/1776] Time:0.8519 Data:0.0002  Cls:0.0000(0.0000)  KD:0.5016(0.4679)  prec@1:78.12(71.33)  \n",
            "Epoch[2]:[840/1776] Time:0.8479 Data:0.0002  Cls:0.0000(0.0000)  KD:0.5549(0.4665)  prec@1:78.12(71.36)  \n",
            "Epoch[2]:[870/1776] Time:0.8511 Data:0.0002  Cls:0.0000(0.0000)  KD:0.3485(0.4667)  prec@1:78.12(71.35)  \n",
            "Epoch[2]:[900/1776] Time:0.8527 Data:0.0002  Cls:0.0000(0.0000)  KD:0.4666(0.4658)  prec@1:81.25(71.40)  \n",
            "Epoch[2]:[930/1776] Time:0.8509 Data:0.0002  Cls:0.0000(0.0000)  KD:0.3785(0.4650)  prec@1:62.50(71.40)  \n",
            "Epoch[2]:[960/1776] Time:0.8508 Data:0.0002  Cls:0.0000(0.0000)  KD:0.5769(0.4634)  prec@1:75.00(71.42)  \n",
            "Epoch[2]:[990/1776] Time:0.8536 Data:0.0002  Cls:0.0000(0.0000)  KD:0.3747(0.4633)  prec@1:56.25(71.36)  \n",
            "Epoch[2]:[1020/1776] Time:0.8530 Data:0.0002  Cls:0.0000(0.0000)  KD:0.5717(0.4637)  prec@1:81.25(71.42)  \n",
            "Epoch[2]:[1050/1776] Time:0.8531 Data:0.0002  Cls:0.0000(0.0000)  KD:0.4311(0.4630)  prec@1:84.38(71.43)  \n",
            "Epoch[2]:[1080/1776] Time:0.8517 Data:0.0001  Cls:0.0000(0.0000)  KD:0.3784(0.4621)  prec@1:62.50(71.39)  \n",
            "Epoch[2]:[1110/1776] Time:0.8505 Data:0.0002  Cls:0.0000(0.0000)  KD:0.4474(0.4613)  prec@1:65.62(71.39)  \n",
            "Epoch[2]:[1140/1776] Time:0.8517 Data:0.0002  Cls:0.0000(0.0000)  KD:0.4659(0.4602)  prec@1:62.50(71.36)  \n",
            "Epoch[2]:[1170/1776] Time:0.8536 Data:0.0002  Cls:0.0000(0.0000)  KD:0.4778(0.4598)  prec@1:65.62(71.39)  \n",
            "Epoch[2]:[1200/1776] Time:0.8518 Data:0.0002  Cls:0.0000(0.0000)  KD:0.3661(0.4592)  prec@1:65.62(71.38)  \n",
            "Epoch[2]:[1230/1776] Time:0.8574 Data:0.0002  Cls:0.0000(0.0000)  KD:0.5691(0.4583)  prec@1:75.00(71.38)  \n",
            "Epoch[2]:[1260/1776] Time:0.8505 Data:0.0012  Cls:0.0000(0.0000)  KD:0.4031(0.4582)  prec@1:68.75(71.41)  \n",
            "Epoch[2]:[1290/1776] Time:0.8567 Data:0.0002  Cls:0.0000(0.0000)  KD:0.3813(0.4572)  prec@1:78.12(71.39)  \n",
            "Epoch[2]:[1320/1776] Time:0.8577 Data:0.0002  Cls:0.0000(0.0000)  KD:0.4744(0.4563)  prec@1:65.62(71.38)  \n",
            "Epoch[2]:[1350/1776] Time:0.8517 Data:0.0004  Cls:0.0000(0.0000)  KD:0.4637(0.4556)  prec@1:65.62(71.44)  \n",
            "Epoch[2]:[1380/1776] Time:0.8520 Data:0.0002  Cls:0.0000(0.0000)  KD:0.6187(0.4554)  prec@1:75.00(71.44)  \n",
            "Epoch[2]:[1410/1776] Time:0.8503 Data:0.0002  Cls:0.0000(0.0000)  KD:0.3318(0.4547)  prec@1:87.50(71.46)  \n",
            "Epoch[2]:[1440/1776] Time:0.8522 Data:0.0002  Cls:0.0000(0.0000)  KD:0.3612(0.4544)  prec@1:71.88(71.49)  \n",
            "Epoch[2]:[1470/1776] Time:0.8529 Data:0.0002  Cls:0.0000(0.0000)  KD:0.3539(0.4535)  prec@1:71.88(71.55)  \n",
            "Epoch[2]:[1500/1776] Time:0.8522 Data:0.0002  Cls:0.0000(0.0000)  KD:0.4272(0.4528)  prec@1:78.12(71.58)  \n",
            "Epoch[2]:[1530/1776] Time:0.8525 Data:0.0001  Cls:0.0000(0.0000)  KD:0.5764(0.4526)  prec@1:78.12(71.56)  \n",
            "Epoch[2]:[1560/1776] Time:0.8560 Data:0.0002  Cls:0.0000(0.0000)  KD:0.4548(0.4520)  prec@1:84.38(71.55)  \n",
            "Epoch[2]:[1590/1776] Time:0.8578 Data:0.0002  Cls:0.0000(0.0000)  KD:0.4536(0.4513)  prec@1:81.25(71.59)  \n",
            "Epoch[2]:[1620/1776] Time:0.8557 Data:0.0002  Cls:0.0000(0.0000)  KD:0.3813(0.4507)  prec@1:56.25(71.59)  \n",
            "Epoch[2]:[1650/1776] Time:0.8529 Data:0.0002  Cls:0.0000(0.0000)  KD:0.4075(0.4503)  prec@1:75.00(71.60)  \n",
            "Epoch[2]:[1680/1776] Time:0.8513 Data:0.0002  Cls:0.0000(0.0000)  KD:0.5302(0.4501)  prec@1:84.38(71.60)  \n",
            "Epoch[2]:[1710/1776] Time:0.8525 Data:0.0002  Cls:0.0000(0.0000)  KD:0.4879(0.4496)  prec@1:68.75(71.59)  \n",
            "Epoch[2]:[1740/1776] Time:0.8527 Data:0.0001  Cls:0.0000(0.0000)  KD:0.2695(0.4490)  prec@1:53.12(71.59)  \n",
            "Epoch[2]:[1770/1776] Time:0.8574 Data:0.0001  Cls:0.0000(0.0000)  KD:0.3720(0.4483)  prec@1:50.00(71.59)  \n",
            "Epoch time: 1514s\n",
            "Epoch[3]:[030/1776] Time:0.8600 Data:0.0001  Cls:0.0000(0.0000)  KD:0.4487(0.3988)  prec@1:71.88(70.31)  \n",
            "Epoch[3]:[060/1776] Time:0.8530 Data:0.0002  Cls:0.0000(0.0000)  KD:0.3789(0.4113)  prec@1:75.00(70.36)  \n",
            "Epoch[3]:[090/1776] Time:0.8533 Data:0.0002  Cls:0.0000(0.0000)  KD:0.4472(0.4033)  prec@1:75.00(71.32)  \n",
            "Epoch[3]:[120/1776] Time:0.8522 Data:0.0003  Cls:0.0000(0.0000)  KD:0.3841(0.4090)  prec@1:65.62(71.74)  \n",
            "Epoch[3]:[150/1776] Time:0.8496 Data:0.0002  Cls:0.0000(0.0000)  KD:0.6851(0.4075)  prec@1:68.75(71.71)  \n",
            "Epoch[3]:[180/1776] Time:0.8507 Data:0.0002  Cls:0.0000(0.0000)  KD:0.3532(0.4095)  prec@1:78.12(71.58)  \n",
            "Epoch[3]:[210/1776] Time:0.8512 Data:0.0002  Cls:0.0000(0.0000)  KD:0.2873(0.4059)  prec@1:71.88(71.44)  \n",
            "Epoch[3]:[240/1776] Time:0.8519 Data:0.0002  Cls:0.0000(0.0000)  KD:0.3794(0.4088)  prec@1:78.12(71.28)  \n",
            "Epoch[3]:[270/1776] Time:0.8527 Data:0.0002  Cls:0.0000(0.0000)  KD:0.5956(0.4117)  prec@1:71.88(71.39)  \n",
            "Epoch[3]:[300/1776] Time:0.8505 Data:0.0002  Cls:0.0000(0.0000)  KD:0.4718(0.4131)  prec@1:46.88(71.28)  \n",
            "Epoch[3]:[330/1776] Time:0.8541 Data:0.0002  Cls:0.0000(0.0000)  KD:0.5227(0.4131)  prec@1:81.25(71.20)  \n",
            "Epoch[3]:[360/1776] Time:0.8568 Data:0.0002  Cls:0.0000(0.0000)  KD:0.4505(0.4131)  prec@1:75.00(71.33)  \n",
            "Epoch[3]:[390/1776] Time:0.8572 Data:0.0002  Cls:0.0000(0.0000)  KD:0.3521(0.4134)  prec@1:68.75(71.37)  \n",
            "Epoch[3]:[420/1776] Time:0.8514 Data:0.0002  Cls:0.0000(0.0000)  KD:0.4199(0.4124)  prec@1:78.12(71.40)  \n",
            "Epoch[3]:[450/1776] Time:0.8504 Data:0.0002  Cls:0.0000(0.0000)  KD:0.3944(0.4119)  prec@1:75.00(71.33)  \n",
            "Epoch[3]:[480/1776] Time:0.8529 Data:0.0002  Cls:0.0000(0.0000)  KD:0.3737(0.4128)  prec@1:65.62(71.22)  \n",
            "Epoch[3]:[510/1776] Time:0.8522 Data:0.0002  Cls:0.0000(0.0000)  KD:0.5555(0.4123)  prec@1:78.12(71.24)  \n",
            "Epoch[3]:[540/1776] Time:0.8567 Data:0.0004  Cls:0.0000(0.0000)  KD:0.3039(0.4125)  prec@1:75.00(71.24)  \n",
            "Epoch[3]:[570/1776] Time:0.8550 Data:0.0002  Cls:0.0000(0.0000)  KD:0.4924(0.4123)  prec@1:68.75(71.27)  \n",
            "Epoch[3]:[600/1776] Time:0.8583 Data:0.0001  Cls:0.0000(0.0000)  KD:0.3247(0.4108)  prec@1:68.75(71.29)  \n",
            "Epoch[3]:[630/1776] Time:0.8515 Data:0.0002  Cls:0.0000(0.0000)  KD:0.4455(0.4111)  prec@1:71.88(71.31)  \n",
            "Epoch[3]:[660/1776] Time:0.8522 Data:0.0002  Cls:0.0000(0.0000)  KD:0.5232(0.4128)  prec@1:78.12(71.37)  \n",
            "Epoch[3]:[690/1776] Time:0.8501 Data:0.0002  Cls:0.0000(0.0000)  KD:0.2120(0.4131)  prec@1:81.25(71.36)  \n",
            "Epoch[3]:[720/1776] Time:0.8513 Data:0.0002  Cls:0.0000(0.0000)  KD:0.4782(0.4134)  prec@1:68.75(71.42)  \n",
            "Epoch[3]:[750/1776] Time:0.8518 Data:0.0002  Cls:0.0000(0.0000)  KD:0.4200(0.4120)  prec@1:75.00(71.35)  \n",
            "Epoch[3]:[780/1776] Time:0.8509 Data:0.0002  Cls:0.0000(0.0000)  KD:0.2792(0.4120)  prec@1:71.88(71.41)  \n",
            "Epoch[3]:[810/1776] Time:0.8539 Data:0.0002  Cls:0.0000(0.0000)  KD:0.2542(0.4102)  prec@1:81.25(71.52)  \n",
            "Epoch[3]:[840/1776] Time:0.8516 Data:0.0002  Cls:0.0000(0.0000)  KD:0.5323(0.4118)  prec@1:81.25(71.56)  \n",
            "Epoch[3]:[870/1776] Time:0.8500 Data:0.0002  Cls:0.0000(0.0000)  KD:0.3911(0.4116)  prec@1:62.50(71.63)  \n",
            "Epoch[3]:[900/1776] Time:0.8532 Data:0.0002  Cls:0.0000(0.0000)  KD:0.3231(0.4109)  prec@1:68.75(71.59)  \n",
            "Epoch[3]:[930/1776] Time:0.8572 Data:0.0002  Cls:0.0000(0.0000)  KD:0.3582(0.4097)  prec@1:71.88(71.58)  \n",
            "Epoch[3]:[960/1776] Time:0.8615 Data:0.0002  Cls:0.0000(0.0000)  KD:0.2830(0.4100)  prec@1:65.62(71.62)  \n",
            "Epoch[3]:[990/1776] Time:0.8522 Data:0.0001  Cls:0.0000(0.0000)  KD:0.4283(0.4099)  prec@1:75.00(71.59)  \n",
            "Epoch[3]:[1020/1776] Time:0.8526 Data:0.0002  Cls:0.0000(0.0000)  KD:0.4248(0.4095)  prec@1:84.38(71.63)  \n",
            "Epoch[3]:[1050/1776] Time:0.8530 Data:0.0002  Cls:0.0000(0.0000)  KD:0.2986(0.4090)  prec@1:56.25(71.64)  \n",
            "Epoch[3]:[1080/1776] Time:0.8465 Data:0.0001  Cls:0.0000(0.0000)  KD:0.5304(0.4094)  prec@1:71.88(71.70)  \n",
            "Epoch[3]:[1110/1776] Time:0.8518 Data:0.0001  Cls:0.0000(0.0000)  KD:0.5067(0.4091)  prec@1:68.75(71.66)  \n",
            "Epoch[3]:[1140/1776] Time:0.8521 Data:0.0002  Cls:0.0000(0.0000)  KD:0.4473(0.4088)  prec@1:78.12(71.68)  \n",
            "Epoch[3]:[1170/1776] Time:0.8504 Data:0.0002  Cls:0.0000(0.0000)  KD:0.2210(0.4085)  prec@1:81.25(71.64)  \n",
            "Epoch[3]:[1200/1776] Time:0.8524 Data:0.0002  Cls:0.0000(0.0000)  KD:0.3882(0.4080)  prec@1:78.12(71.62)  \n",
            "Epoch[3]:[1230/1776] Time:0.8524 Data:0.0002  Cls:0.0000(0.0000)  KD:0.3339(0.4079)  prec@1:71.88(71.63)  \n",
            "Epoch[3]:[1260/1776] Time:0.8607 Data:0.0002  Cls:0.0000(0.0000)  KD:0.4081(0.4083)  prec@1:65.62(71.69)  \n",
            "Epoch[3]:[1290/1776] Time:0.8522 Data:0.0002  Cls:0.0000(0.0000)  KD:0.4654(0.4080)  prec@1:65.62(71.67)  \n",
            "Epoch[3]:[1320/1776] Time:0.8510 Data:0.0002  Cls:0.0000(0.0000)  KD:0.5013(0.4075)  prec@1:71.88(71.66)  \n",
            "Epoch[3]:[1350/1776] Time:0.8548 Data:0.0002  Cls:0.0000(0.0000)  KD:0.3741(0.4071)  prec@1:59.38(71.64)  \n",
            "Epoch[3]:[1380/1776] Time:0.8589 Data:0.0002  Cls:0.0000(0.0000)  KD:0.3647(0.4068)  prec@1:84.38(71.62)  \n",
            "Epoch[3]:[1410/1776] Time:0.8515 Data:0.0001  Cls:0.0000(0.0000)  KD:0.4160(0.4065)  prec@1:90.62(71.65)  \n",
            "Epoch[3]:[1440/1776] Time:0.8510 Data:0.0002  Cls:0.0000(0.0000)  KD:0.5403(0.4067)  prec@1:65.62(71.67)  \n",
            "Epoch[3]:[1470/1776] Time:0.8538 Data:0.0002  Cls:0.0000(0.0000)  KD:0.2769(0.4066)  prec@1:81.25(71.65)  \n",
            "Epoch[3]:[1500/1776] Time:0.8503 Data:0.0001  Cls:0.0000(0.0000)  KD:0.4358(0.4067)  prec@1:65.62(71.66)  \n",
            "Epoch[3]:[1530/1776] Time:0.8508 Data:0.0001  Cls:0.0000(0.0000)  KD:0.5179(0.4069)  prec@1:75.00(71.61)  \n",
            "Epoch[3]:[1560/1776] Time:0.8540 Data:0.0002  Cls:0.0000(0.0000)  KD:0.3429(0.4068)  prec@1:75.00(71.64)  \n",
            "Epoch[3]:[1590/1776] Time:0.8507 Data:0.0001  Cls:0.0000(0.0000)  KD:0.3275(0.4067)  prec@1:62.50(71.62)  \n",
            "Epoch[3]:[1620/1776] Time:0.8532 Data:0.0002  Cls:0.0000(0.0000)  KD:0.3511(0.4063)  prec@1:75.00(71.58)  \n",
            "Epoch[3]:[1650/1776] Time:0.8613 Data:0.0002  Cls:0.0000(0.0000)  KD:0.4438(0.4062)  prec@1:81.25(71.59)  \n",
            "Epoch[3]:[1680/1776] Time:0.8543 Data:0.0002  Cls:0.0000(0.0000)  KD:0.4101(0.4057)  prec@1:71.88(71.56)  \n",
            "Epoch[3]:[1710/1776] Time:0.8517 Data:0.0002  Cls:0.0000(0.0000)  KD:0.3468(0.4051)  prec@1:84.38(71.57)  \n",
            "Epoch[3]:[1740/1776] Time:0.8517 Data:0.0002  Cls:0.0000(0.0000)  KD:0.3251(0.4052)  prec@1:75.00(71.60)  \n",
            "Epoch[3]:[1770/1776] Time:0.8626 Data:0.0001  Cls:0.0000(0.0000)  KD:0.3324(0.4049)  prec@1:71.88(71.62)  \n",
            "Epoch time: 1514s\n",
            "Epoch[4]:[030/1776] Time:0.8563 Data:0.0064  Cls:0.0000(0.0000)  KD:0.3740(0.4063)  prec@1:68.75(70.21)  \n",
            "Epoch[4]:[060/1776] Time:0.8492 Data:0.0002  Cls:0.0000(0.0000)  KD:0.2227(0.4046)  prec@1:81.25(70.47)  \n",
            "Epoch[4]:[090/1776] Time:0.8516 Data:0.0002  Cls:0.0000(0.0000)  KD:0.4436(0.3965)  prec@1:71.88(71.35)  \n",
            "Epoch[4]:[120/1776] Time:0.8520 Data:0.0002  Cls:0.0000(0.0000)  KD:0.6132(0.3968)  prec@1:62.50(71.69)  \n",
            "Epoch[4]:[150/1776] Time:0.8486 Data:0.0002  Cls:0.0000(0.0000)  KD:0.3911(0.3885)  prec@1:65.62(71.69)  \n",
            "Epoch[4]:[180/1776] Time:0.8527 Data:0.0002  Cls:0.0000(0.0000)  KD:0.2994(0.3855)  prec@1:78.12(71.58)  \n",
            "Epoch[4]:[210/1776] Time:0.8563 Data:0.0002  Cls:0.0000(0.0000)  KD:0.3268(0.3883)  prec@1:65.62(71.55)  \n",
            "Epoch[4]:[240/1776] Time:0.8580 Data:0.0002  Cls:0.0000(0.0000)  KD:0.4082(0.3898)  prec@1:68.75(71.45)  \n",
            "Epoch[4]:[270/1776] Time:0.8538 Data:0.0001  Cls:0.0000(0.0000)  KD:0.3163(0.3875)  prec@1:78.12(71.39)  \n",
            "Epoch[4]:[300/1776] Time:0.8534 Data:0.0001  Cls:0.0000(0.0000)  KD:0.3812(0.3858)  prec@1:84.38(71.50)  \n",
            "Epoch[4]:[330/1776] Time:0.8525 Data:0.0001  Cls:0.0000(0.0000)  KD:0.4145(0.3864)  prec@1:75.00(71.52)  \n",
            "Epoch[4]:[360/1776] Time:0.8529 Data:0.0001  Cls:0.0000(0.0000)  KD:0.3651(0.3876)  prec@1:81.25(71.62)  \n",
            "Epoch[4]:[390/1776] Time:0.8538 Data:0.0001  Cls:0.0000(0.0000)  KD:0.3032(0.3879)  prec@1:71.88(71.55)  \n",
            "Epoch[4]:[420/1776] Time:0.8555 Data:0.0003  Cls:0.0000(0.0000)  KD:0.4245(0.3905)  prec@1:56.25(71.61)  \n",
            "Epoch[4]:[450/1776] Time:0.8536 Data:0.0002  Cls:0.0000(0.0000)  KD:0.3228(0.3896)  prec@1:65.62(71.69)  \n",
            "Epoch[4]:[480/1776] Time:0.8531 Data:0.0002  Cls:0.0000(0.0000)  KD:0.5589(0.3880)  prec@1:75.00(71.78)  \n",
            "Epoch[4]:[510/1776] Time:0.8490 Data:0.0001  Cls:0.0000(0.0000)  KD:0.3495(0.3863)  prec@1:65.62(71.72)  \n",
            "Epoch[4]:[540/1776] Time:0.8545 Data:0.0001  Cls:0.0000(0.0000)  KD:0.3122(0.3870)  prec@1:81.25(71.77)  \n",
            "Epoch[4]:[570/1776] Time:0.8524 Data:0.0002  Cls:0.0000(0.0000)  KD:0.5090(0.3881)  prec@1:62.50(71.70)  \n",
            "Epoch[4]:[600/1776] Time:0.8521 Data:0.0002  Cls:0.0000(0.0000)  KD:0.3372(0.3874)  prec@1:75.00(71.67)  \n",
            "Epoch[4]:[630/1776] Time:0.8564 Data:0.0002  Cls:0.0000(0.0000)  KD:0.2577(0.3863)  prec@1:65.62(71.62)  \n",
            "Epoch[4]:[660/1776] Time:0.8505 Data:0.0001  Cls:0.0000(0.0000)  KD:0.3891(0.3859)  prec@1:81.25(71.68)  \n",
            "Epoch[4]:[690/1776] Time:0.8540 Data:0.0002  Cls:0.0000(0.0000)  KD:0.2446(0.3856)  prec@1:53.12(71.59)  \n",
            "Epoch[4]:[720/1776] Time:0.8556 Data:0.0002  Cls:0.0000(0.0000)  KD:0.3560(0.3853)  prec@1:59.38(71.53)  \n",
            "Epoch[4]:[750/1776] Time:0.8522 Data:0.0002  Cls:0.0000(0.0000)  KD:0.3747(0.3863)  prec@1:81.25(71.46)  \n",
            "Epoch[4]:[780/1776] Time:0.8533 Data:0.0001  Cls:0.0000(0.0000)  KD:0.3615(0.3859)  prec@1:68.75(71.40)  \n",
            "Epoch[4]:[810/1776] Time:0.8461 Data:0.0002  Cls:0.0000(0.0000)  KD:0.3266(0.3857)  prec@1:71.88(71.43)  \n",
            "Epoch[4]:[840/1776] Time:0.8530 Data:0.0001  Cls:0.0000(0.0000)  KD:0.3865(0.3848)  prec@1:62.50(71.47)  \n",
            "Epoch[4]:[870/1776] Time:0.8522 Data:0.0001  Cls:0.0000(0.0000)  KD:0.5143(0.3852)  prec@1:75.00(71.48)  \n",
            "Epoch[4]:[900/1776] Time:0.8521 Data:0.0001  Cls:0.0000(0.0000)  KD:0.4270(0.3851)  prec@1:78.12(71.45)  \n",
            "Epoch[4]:[930/1776] Time:0.8613 Data:0.0002  Cls:0.0000(0.0000)  KD:0.4213(0.3850)  prec@1:62.50(71.52)  \n",
            "Epoch[4]:[960/1776] Time:0.8518 Data:0.0001  Cls:0.0000(0.0000)  KD:0.5231(0.3853)  prec@1:65.62(71.49)  \n",
            "Epoch[4]:[990/1776] Time:0.8540 Data:0.0002  Cls:0.0000(0.0000)  KD:0.3090(0.3848)  prec@1:71.88(71.46)  \n",
            "Epoch[4]:[1020/1776] Time:0.8550 Data:0.0002  Cls:0.0000(0.0000)  KD:0.2460(0.3843)  prec@1:81.25(71.53)  \n",
            "Epoch[4]:[1050/1776] Time:0.8553 Data:0.0002  Cls:0.0000(0.0000)  KD:0.3750(0.3843)  prec@1:68.75(71.59)  \n",
            "Epoch[4]:[1080/1776] Time:0.8541 Data:0.0001  Cls:0.0000(0.0000)  KD:0.3459(0.3839)  prec@1:68.75(71.57)  \n",
            "Epoch[4]:[1110/1776] Time:0.8517 Data:0.0002  Cls:0.0000(0.0000)  KD:0.2071(0.3834)  prec@1:65.62(71.57)  \n",
            "Epoch[4]:[1140/1776] Time:0.8520 Data:0.0002  Cls:0.0000(0.0000)  KD:0.4467(0.3837)  prec@1:75.00(71.61)  \n",
            "Epoch[4]:[1170/1776] Time:0.8520 Data:0.0002  Cls:0.0000(0.0000)  KD:0.3734(0.3839)  prec@1:43.75(71.57)  \n",
            "Epoch[4]:[1200/1776] Time:0.8497 Data:0.0002  Cls:0.0000(0.0000)  KD:0.1823(0.3837)  prec@1:62.50(71.55)  \n",
            "Epoch[4]:[1230/1776] Time:0.8542 Data:0.0002  Cls:0.0000(0.0000)  KD:0.1837(0.3825)  prec@1:68.75(71.57)  \n",
            "Epoch[4]:[1260/1776] Time:0.8548 Data:0.0002  Cls:0.0000(0.0000)  KD:0.3438(0.3829)  prec@1:78.12(71.60)  \n",
            "Epoch[4]:[1290/1776] Time:0.8531 Data:0.0001  Cls:0.0000(0.0000)  KD:0.3693(0.3825)  prec@1:75.00(71.56)  \n",
            "Epoch[4]:[1320/1776] Time:0.8523 Data:0.0002  Cls:0.0000(0.0000)  KD:0.3547(0.3821)  prec@1:84.38(71.55)  \n",
            "Epoch[4]:[1350/1776] Time:0.8521 Data:0.0002  Cls:0.0000(0.0000)  KD:0.3140(0.3821)  prec@1:65.62(71.52)  \n",
            "Epoch[4]:[1380/1776] Time:0.8526 Data:0.0001  Cls:0.0000(0.0000)  KD:0.3734(0.3816)  prec@1:53.12(71.52)  \n",
            "Epoch[4]:[1410/1776] Time:0.8542 Data:0.0002  Cls:0.0000(0.0000)  KD:0.2251(0.3810)  prec@1:75.00(71.53)  \n",
            "Epoch[4]:[1440/1776] Time:0.8508 Data:0.0002  Cls:0.0000(0.0000)  KD:0.2715(0.3808)  prec@1:71.88(71.54)  \n",
            "Epoch[4]:[1470/1776] Time:0.8542 Data:0.0002  Cls:0.0000(0.0000)  KD:0.2983(0.3801)  prec@1:87.50(71.56)  \n",
            "Epoch[4]:[1500/1776] Time:0.8529 Data:0.0002  Cls:0.0000(0.0000)  KD:0.3033(0.3801)  prec@1:78.12(71.60)  \n",
            "Epoch[4]:[1530/1776] Time:0.8505 Data:0.0001  Cls:0.0000(0.0000)  KD:0.4087(0.3792)  prec@1:75.00(71.60)  \n",
            "Epoch[4]:[1560/1776] Time:0.8523 Data:0.0002  Cls:0.0000(0.0000)  KD:0.2605(0.3789)  prec@1:68.75(71.61)  \n",
            "Epoch[4]:[1590/1776] Time:0.8537 Data:0.0002  Cls:0.0000(0.0000)  KD:0.4290(0.3789)  prec@1:75.00(71.62)  \n",
            "Epoch[4]:[1620/1776] Time:0.8478 Data:0.0001  Cls:0.0000(0.0000)  KD:0.4204(0.3788)  prec@1:71.88(71.62)  \n",
            "Epoch[4]:[1650/1776] Time:0.8551 Data:0.0002  Cls:0.0000(0.0000)  KD:0.4043(0.3789)  prec@1:65.62(71.62)  \n",
            "Epoch[4]:[1680/1776] Time:0.8502 Data:0.0002  Cls:0.0000(0.0000)  KD:0.3406(0.3786)  prec@1:59.38(71.63)  \n",
            "Epoch[4]:[1710/1776] Time:0.8504 Data:0.0002  Cls:0.0000(0.0000)  KD:0.3208(0.3786)  prec@1:68.75(71.62)  \n",
            "Epoch[4]:[1740/1776] Time:0.8517 Data:0.0001  Cls:0.0000(0.0000)  KD:0.4078(0.3785)  prec@1:65.62(71.59)  \n",
            "Epoch[4]:[1770/1776] Time:0.8519 Data:0.0002  Cls:0.0000(0.0000)  KD:0.3767(0.3784)  prec@1:68.75(71.62)  \n",
            "Epoch time: 1514s\n",
            "Epoch[5]:[030/1776] Time:0.8512 Data:0.0002  Cls:0.0000(0.0000)  KD:0.2708(0.3638)  prec@1:75.00(71.25)  \n",
            "Epoch[5]:[060/1776] Time:0.8530 Data:0.0002  Cls:0.0000(0.0000)  KD:0.2979(0.3630)  prec@1:53.12(70.78)  \n",
            "Epoch[5]:[090/1776] Time:0.8583 Data:0.0002  Cls:0.0000(0.0000)  KD:0.4153(0.3645)  prec@1:71.88(71.49)  \n",
            "Epoch[5]:[120/1776] Time:0.8527 Data:0.0001  Cls:0.0000(0.0000)  KD:0.6054(0.3729)  prec@1:81.25(72.32)  \n",
            "Epoch[5]:[150/1776] Time:0.8537 Data:0.0002  Cls:0.0000(0.0000)  KD:0.3172(0.3727)  prec@1:71.88(72.31)  \n",
            "Epoch[5]:[180/1776] Time:0.8516 Data:0.0003  Cls:0.0000(0.0000)  KD:0.3072(0.3682)  prec@1:81.25(72.47)  \n",
            "Epoch[5]:[210/1776] Time:0.8564 Data:0.0002  Cls:0.0000(0.0000)  KD:0.3946(0.3705)  prec@1:71.88(72.19)  \n",
            "Epoch[5]:[240/1776] Time:0.8542 Data:0.0002  Cls:0.0000(0.0000)  KD:0.3171(0.3677)  prec@1:62.50(71.91)  \n",
            "Epoch[5]:[270/1776] Time:0.8505 Data:0.0002  Cls:0.0000(0.0000)  KD:0.4395(0.3714)  prec@1:78.12(71.94)  \n",
            "Epoch[5]:[300/1776] Time:0.8572 Data:0.0003  Cls:0.0000(0.0000)  KD:0.2924(0.3712)  prec@1:65.62(71.67)  \n",
            "Epoch[5]:[330/1776] Time:0.8560 Data:0.0002  Cls:0.0000(0.0000)  KD:0.4334(0.3715)  prec@1:71.88(71.69)  \n",
            "Epoch[5]:[360/1776] Time:0.8543 Data:0.0002  Cls:0.0000(0.0000)  KD:0.2815(0.3732)  prec@1:68.75(71.53)  \n",
            "Epoch[5]:[390/1776] Time:0.8547 Data:0.0002  Cls:0.0000(0.0000)  KD:0.4185(0.3736)  prec@1:68.75(71.48)  \n",
            "Epoch[5]:[420/1776] Time:0.8552 Data:0.0002  Cls:0.0000(0.0000)  KD:0.4026(0.3753)  prec@1:59.38(71.38)  \n",
            "Epoch[5]:[450/1776] Time:0.8498 Data:0.0002  Cls:0.0000(0.0000)  KD:0.4366(0.3744)  prec@1:87.50(71.40)  \n",
            "Epoch[5]:[480/1776] Time:0.8525 Data:0.0002  Cls:0.0000(0.0000)  KD:0.3575(0.3746)  prec@1:75.00(71.45)  \n",
            "Epoch[5]:[510/1776] Time:0.8543 Data:0.0002  Cls:0.0000(0.0000)  KD:0.4235(0.3750)  prec@1:68.75(71.40)  \n",
            "Epoch[5]:[540/1776] Time:0.8528 Data:0.0002  Cls:0.0000(0.0000)  KD:0.2570(0.3742)  prec@1:68.75(71.40)  \n",
            "Epoch[5]:[570/1776] Time:0.8536 Data:0.0002  Cls:0.0000(0.0000)  KD:0.3942(0.3729)  prec@1:62.50(71.37)  \n",
            "Epoch[5]:[600/1776] Time:0.8458 Data:0.0002  Cls:0.0000(0.0000)  KD:0.4492(0.3738)  prec@1:65.62(71.47)  \n",
            "Epoch[5]:[630/1776] Time:0.8507 Data:0.0002  Cls:0.0000(0.0000)  KD:0.3263(0.3722)  prec@1:81.25(71.44)  \n",
            "Epoch[5]:[660/1776] Time:0.8577 Data:0.0002  Cls:0.0000(0.0000)  KD:0.3169(0.3713)  prec@1:68.75(71.41)  \n",
            "Epoch[5]:[690/1776] Time:0.8507 Data:0.0002  Cls:0.0000(0.0000)  KD:0.4306(0.3713)  prec@1:75.00(71.36)  \n",
            "Epoch[5]:[720/1776] Time:0.8506 Data:0.0002  Cls:0.0000(0.0000)  KD:0.4159(0.3705)  prec@1:59.38(71.36)  \n",
            "Epoch[5]:[750/1776] Time:0.8521 Data:0.0002  Cls:0.0000(0.0000)  KD:0.3993(0.3702)  prec@1:75.00(71.52)  \n",
            "Epoch[5]:[780/1776] Time:0.8534 Data:0.0002  Cls:0.0000(0.0000)  KD:0.5043(0.3705)  prec@1:84.38(71.49)  \n",
            "Epoch[5]:[810/1776] Time:0.8524 Data:0.0002  Cls:0.0000(0.0000)  KD:0.3431(0.3701)  prec@1:81.25(71.53)  \n",
            "Epoch[5]:[840/1776] Time:0.8504 Data:0.0002  Cls:0.0000(0.0000)  KD:0.3813(0.3693)  prec@1:78.12(71.61)  \n",
            "Epoch[5]:[870/1776] Time:0.8598 Data:0.0002  Cls:0.0000(0.0000)  KD:0.2352(0.3695)  prec@1:75.00(71.57)  \n",
            "Epoch[5]:[900/1776] Time:0.8541 Data:0.0002  Cls:0.0000(0.0000)  KD:0.4476(0.3695)  prec@1:78.12(71.57)  \n",
            "Epoch[5]:[930/1776] Time:0.8550 Data:0.0002  Cls:0.0000(0.0000)  KD:0.3546(0.3690)  prec@1:59.38(71.55)  \n",
            "Epoch[5]:[960/1776] Time:0.8516 Data:0.0002  Cls:0.0000(0.0000)  KD:0.3178(0.3691)  prec@1:78.12(71.53)  \n",
            "Epoch[5]:[990/1776] Time:0.8579 Data:0.0002  Cls:0.0000(0.0000)  KD:0.5686(0.3691)  prec@1:78.12(71.54)  \n",
            "Epoch[5]:[1020/1776] Time:0.8619 Data:0.0002  Cls:0.0000(0.0000)  KD:0.4217(0.3697)  prec@1:65.62(71.51)  \n",
            "Epoch[5]:[1050/1776] Time:0.8595 Data:0.0002  Cls:0.0000(0.0000)  KD:0.6345(0.3697)  prec@1:71.88(71.51)  \n",
            "Epoch[5]:[1080/1776] Time:0.8526 Data:0.0002  Cls:0.0000(0.0000)  KD:0.3896(0.3697)  prec@1:78.12(71.58)  \n",
            "Epoch[5]:[1110/1776] Time:0.8491 Data:0.0002  Cls:0.0000(0.0000)  KD:0.2235(0.3688)  prec@1:65.62(71.66)  \n",
            "Epoch[5]:[1140/1776] Time:0.8533 Data:0.0002  Cls:0.0000(0.0000)  KD:0.5904(0.3683)  prec@1:71.88(71.62)  \n",
            "Epoch[5]:[1170/1776] Time:0.8500 Data:0.0002  Cls:0.0000(0.0000)  KD:0.2979(0.3679)  prec@1:75.00(71.66)  \n",
            "Epoch[5]:[1200/1776] Time:0.8532 Data:0.0002  Cls:0.0000(0.0000)  KD:0.2751(0.3673)  prec@1:71.88(71.70)  \n",
            "Epoch[5]:[1230/1776] Time:0.8519 Data:0.0002  Cls:0.0000(0.0000)  KD:0.3566(0.3672)  prec@1:78.12(71.72)  \n",
            "Epoch[5]:[1260/1776] Time:0.8491 Data:0.0002  Cls:0.0000(0.0000)  KD:0.4093(0.3671)  prec@1:78.12(71.71)  \n",
            "Epoch[5]:[1290/1776] Time:0.8571 Data:0.0002  Cls:0.0000(0.0000)  KD:0.3490(0.3665)  prec@1:68.75(71.63)  \n",
            "Epoch[5]:[1320/1776] Time:0.8546 Data:0.0001  Cls:0.0000(0.0000)  KD:0.4174(0.3661)  prec@1:78.12(71.62)  \n",
            "Epoch[5]:[1350/1776] Time:0.8519 Data:0.0002  Cls:0.0000(0.0000)  KD:0.3452(0.3655)  prec@1:75.00(71.65)  \n",
            "Epoch[5]:[1380/1776] Time:0.8520 Data:0.0002  Cls:0.0000(0.0000)  KD:0.2645(0.3657)  prec@1:84.38(71.63)  \n",
            "Epoch[5]:[1410/1776] Time:0.8535 Data:0.0002  Cls:0.0000(0.0000)  KD:0.2338(0.3651)  prec@1:68.75(71.65)  \n",
            "Epoch[5]:[1440/1776] Time:0.8542 Data:0.0002  Cls:0.0000(0.0000)  KD:0.5494(0.3652)  prec@1:87.50(71.60)  \n",
            "Epoch[5]:[1470/1776] Time:0.8512 Data:0.0002  Cls:0.0000(0.0000)  KD:0.1934(0.3647)  prec@1:75.00(71.55)  \n",
            "Epoch[5]:[1500/1776] Time:0.8509 Data:0.0002  Cls:0.0000(0.0000)  KD:0.3928(0.3646)  prec@1:71.88(71.54)  \n",
            "Epoch[5]:[1530/1776] Time:0.8510 Data:0.0002  Cls:0.0000(0.0000)  KD:0.3817(0.3649)  prec@1:71.88(71.54)  \n",
            "Epoch[5]:[1560/1776] Time:0.8529 Data:0.0001  Cls:0.0000(0.0000)  KD:0.2810(0.3649)  prec@1:62.50(71.52)  \n",
            "Epoch[5]:[1590/1776] Time:0.8513 Data:0.0002  Cls:0.0000(0.0000)  KD:0.2429(0.3645)  prec@1:87.50(71.54)  \n",
            "Epoch[5]:[1620/1776] Time:0.8493 Data:0.0002  Cls:0.0000(0.0000)  KD:0.3456(0.3644)  prec@1:71.88(71.60)  \n",
            "Epoch[5]:[1650/1776] Time:0.8538 Data:0.0002  Cls:0.0000(0.0000)  KD:0.3969(0.3636)  prec@1:78.12(71.55)  \n",
            "Epoch[5]:[1680/1776] Time:0.8518 Data:0.0002  Cls:0.0000(0.0000)  KD:0.4149(0.3635)  prec@1:65.62(71.53)  \n",
            "Epoch[5]:[1710/1776] Time:0.8520 Data:0.0001  Cls:0.0000(0.0000)  KD:0.1995(0.3634)  prec@1:65.62(71.55)  \n",
            "Epoch[5]:[1740/1776] Time:0.8523 Data:0.0002  Cls:0.0000(0.0000)  KD:0.3618(0.3635)  prec@1:56.25(71.60)  \n",
            "Epoch[5]:[1770/1776] Time:0.8550 Data:0.0001  Cls:0.0000(0.0000)  KD:0.2261(0.3631)  prec@1:68.75(71.59)  \n",
            "Epoch time: 1515s\n",
            "Epoch[6]:[030/1776] Time:0.8529 Data:0.0002  Cls:0.0000(0.0000)  KD:0.1950(0.3434)  prec@1:75.00(72.71)  \n",
            "Epoch[6]:[060/1776] Time:0.8500 Data:0.0002  Cls:0.0000(0.0000)  KD:0.4085(0.3590)  prec@1:75.00(71.56)  \n",
            "Epoch[6]:[090/1776] Time:0.8514 Data:0.0002  Cls:0.0000(0.0000)  KD:0.5071(0.3530)  prec@1:78.12(71.11)  \n",
            "Epoch[6]:[120/1776] Time:0.8504 Data:0.0002  Cls:0.0000(0.0000)  KD:0.2844(0.3469)  prec@1:75.00(70.55)  \n",
            "Epoch[6]:[150/1776] Time:0.8510 Data:0.0002  Cls:0.0000(0.0000)  KD:0.2694(0.3446)  prec@1:75.00(70.79)  \n",
            "Epoch[6]:[180/1776] Time:0.8499 Data:0.0001  Cls:0.0000(0.0000)  KD:0.4357(0.3444)  prec@1:75.00(71.39)  \n",
            "Epoch[6]:[210/1776] Time:0.8508 Data:0.0002  Cls:0.0000(0.0000)  KD:0.2708(0.3439)  prec@1:68.75(71.21)  \n",
            "Epoch[6]:[240/1776] Time:0.8513 Data:0.0002  Cls:0.0000(0.0000)  KD:0.3899(0.3497)  prec@1:78.12(71.68)  \n",
            "Epoch[6]:[270/1776] Time:0.8517 Data:0.0002  Cls:0.0000(0.0000)  KD:0.3262(0.3502)  prec@1:87.50(71.72)  \n",
            "Epoch[6]:[300/1776] Time:0.8496 Data:0.0002  Cls:0.0000(0.0000)  KD:0.3609(0.3543)  prec@1:56.25(71.66)  \n",
            "Epoch[6]:[330/1776] Time:0.8507 Data:0.0002  Cls:0.0000(0.0000)  KD:0.4551(0.3538)  prec@1:75.00(71.74)  \n",
            "Epoch[6]:[360/1776] Time:0.8615 Data:0.0002  Cls:0.0000(0.0000)  KD:0.3955(0.3541)  prec@1:65.62(71.79)  \n",
            "Epoch[6]:[390/1776] Time:0.8529 Data:0.0002  Cls:0.0000(0.0000)  KD:0.3973(0.3563)  prec@1:71.88(71.95)  \n",
            "Epoch[6]:[420/1776] Time:0.8477 Data:0.0002  Cls:0.0000(0.0000)  KD:0.3080(0.3567)  prec@1:87.50(71.95)  \n",
            "Epoch[6]:[450/1776] Time:0.8511 Data:0.0002  Cls:0.0000(0.0000)  KD:0.2920(0.3565)  prec@1:75.00(71.90)  \n",
            "Epoch[6]:[480/1776] Time:0.8517 Data:0.0002  Cls:0.0000(0.0000)  KD:0.2578(0.3584)  prec@1:65.62(71.82)  \n",
            "Epoch[6]:[510/1776] Time:0.8519 Data:0.0002  Cls:0.0000(0.0000)  KD:0.2697(0.3580)  prec@1:62.50(71.91)  \n",
            "Epoch[6]:[540/1776] Time:0.8515 Data:0.0002  Cls:0.0000(0.0000)  KD:0.2327(0.3569)  prec@1:71.88(71.90)  \n",
            "Epoch[6]:[570/1776] Time:0.8513 Data:0.0002  Cls:0.0000(0.0000)  KD:0.1997(0.3576)  prec@1:81.25(72.01)  \n",
            "Epoch[6]:[600/1776] Time:0.8506 Data:0.0002  Cls:0.0000(0.0000)  KD:0.4027(0.3571)  prec@1:62.50(71.87)  \n",
            "Epoch[6]:[630/1776] Time:0.8438 Data:0.0003  Cls:0.0000(0.0000)  KD:0.2991(0.3557)  prec@1:62.50(71.81)  \n",
            "Epoch[6]:[660/1776] Time:0.8582 Data:0.0002  Cls:0.0000(0.0000)  KD:0.3689(0.3556)  prec@1:65.62(71.81)  \n",
            "Epoch[6]:[690/1776] Time:0.8507 Data:0.0002  Cls:0.0000(0.0000)  KD:0.5380(0.3546)  prec@1:62.50(71.81)  \n",
            "Epoch[6]:[720/1776] Time:0.8475 Data:0.0002  Cls:0.0000(0.0000)  KD:0.4537(0.3544)  prec@1:75.00(71.78)  \n",
            "Epoch[6]:[750/1776] Time:0.8520 Data:0.0002  Cls:0.0000(0.0000)  KD:0.6737(0.3546)  prec@1:71.88(71.65)  \n",
            "Epoch[6]:[780/1776] Time:0.8501 Data:0.0002  Cls:0.0000(0.0000)  KD:0.4978(0.3553)  prec@1:81.25(71.53)  \n",
            "Epoch[6]:[810/1776] Time:0.8523 Data:0.0002  Cls:0.0000(0.0000)  KD:0.3656(0.3546)  prec@1:78.12(71.56)  \n",
            "Epoch[6]:[840/1776] Time:0.8548 Data:0.0002  Cls:0.0000(0.0000)  KD:0.4082(0.3541)  prec@1:68.75(71.63)  \n",
            "Epoch[6]:[870/1776] Time:0.8523 Data:0.0002  Cls:0.0000(0.0000)  KD:0.3070(0.3528)  prec@1:68.75(71.56)  \n",
            "Epoch[6]:[900/1776] Time:0.8568 Data:0.0002  Cls:0.0000(0.0000)  KD:0.2555(0.3535)  prec@1:68.75(71.53)  \n",
            "Epoch[6]:[930/1776] Time:0.8499 Data:0.0002  Cls:0.0000(0.0000)  KD:0.2986(0.3543)  prec@1:75.00(71.53)  \n",
            "Epoch[6]:[960/1776] Time:0.8530 Data:0.0002  Cls:0.0000(0.0000)  KD:0.4335(0.3549)  prec@1:81.25(71.55)  \n",
            "Epoch[6]:[990/1776] Time:0.8524 Data:0.0002  Cls:0.0000(0.0000)  KD:0.2720(0.3536)  prec@1:75.00(71.50)  \n",
            "Epoch[6]:[1020/1776] Time:0.8534 Data:0.0002  Cls:0.0000(0.0000)  KD:0.3740(0.3530)  prec@1:81.25(71.49)  \n",
            "Epoch[6]:[1050/1776] Time:0.8507 Data:0.0002  Cls:0.0000(0.0000)  KD:0.3486(0.3535)  prec@1:62.50(71.47)  \n",
            "Epoch[6]:[1080/1776] Time:0.8503 Data:0.0002  Cls:0.0000(0.0000)  KD:0.3425(0.3539)  prec@1:78.12(71.53)  \n",
            "Epoch[6]:[1110/1776] Time:0.8543 Data:0.0002  Cls:0.0000(0.0000)  KD:0.3674(0.3536)  prec@1:62.50(71.56)  \n",
            "Epoch[6]:[1140/1776] Time:0.8561 Data:0.0002  Cls:0.0000(0.0000)  KD:0.2748(0.3534)  prec@1:68.75(71.56)  \n",
            "Epoch[6]:[1170/1776] Time:0.8484 Data:0.0002  Cls:0.0000(0.0000)  KD:0.2540(0.3535)  prec@1:71.88(71.57)  \n",
            "Epoch[6]:[1200/1776] Time:0.8511 Data:0.0002  Cls:0.0000(0.0000)  KD:0.3411(0.3526)  prec@1:59.38(71.58)  \n",
            "Epoch[6]:[1230/1776] Time:0.8513 Data:0.0002  Cls:0.0000(0.0000)  KD:0.1679(0.3531)  prec@1:68.75(71.60)  \n",
            "Epoch[6]:[1260/1776] Time:0.8545 Data:0.0002  Cls:0.0000(0.0000)  KD:0.4673(0.3531)  prec@1:84.38(71.66)  \n",
            "Epoch[6]:[1290/1776] Time:0.8512 Data:0.0002  Cls:0.0000(0.0000)  KD:0.4170(0.3533)  prec@1:71.88(71.68)  \n",
            "Epoch[6]:[1320/1776] Time:0.8507 Data:0.0004  Cls:0.0000(0.0000)  KD:0.4271(0.3537)  prec@1:59.38(71.70)  \n",
            "Epoch[6]:[1350/1776] Time:0.8467 Data:0.0002  Cls:0.0000(0.0000)  KD:0.3069(0.3531)  prec@1:81.25(71.68)  \n",
            "Epoch[6]:[1380/1776] Time:0.8528 Data:0.0002  Cls:0.0000(0.0000)  KD:0.2147(0.3530)  prec@1:75.00(71.72)  \n",
            "Epoch[6]:[1410/1776] Time:0.8527 Data:0.0002  Cls:0.0000(0.0000)  KD:0.3351(0.3527)  prec@1:65.62(71.70)  \n",
            "Epoch[6]:[1440/1776] Time:0.8549 Data:0.0002  Cls:0.0000(0.0000)  KD:0.5275(0.3524)  prec@1:71.88(71.71)  \n",
            "Epoch[6]:[1470/1776] Time:0.8531 Data:0.0002  Cls:0.0000(0.0000)  KD:0.3389(0.3517)  prec@1:84.38(71.68)  \n",
            "Epoch[6]:[1500/1776] Time:0.8515 Data:0.0002  Cls:0.0000(0.0000)  KD:0.4450(0.3513)  prec@1:78.12(71.64)  \n",
            "Epoch[6]:[1530/1776] Time:0.8531 Data:0.0001  Cls:0.0000(0.0000)  KD:0.4743(0.3513)  prec@1:87.50(71.65)  \n",
            "Epoch[6]:[1560/1776] Time:0.8527 Data:0.0001  Cls:0.0000(0.0000)  KD:0.2310(0.3509)  prec@1:71.88(71.66)  \n",
            "Epoch[6]:[1590/1776] Time:0.8518 Data:0.0002  Cls:0.0000(0.0000)  KD:0.3219(0.3503)  prec@1:78.12(71.67)  \n",
            "Epoch[6]:[1620/1776] Time:0.8561 Data:0.0001  Cls:0.0000(0.0000)  KD:0.2453(0.3499)  prec@1:75.00(71.67)  \n",
            "Epoch[6]:[1650/1776] Time:0.8494 Data:0.0002  Cls:0.0000(0.0000)  KD:0.9844(0.3502)  prec@1:65.62(71.69)  \n",
            "Epoch[6]:[1680/1776] Time:0.8519 Data:0.0002  Cls:0.0000(0.0000)  KD:0.2702(0.3506)  prec@1:75.00(71.64)  \n",
            "Epoch[6]:[1710/1776] Time:0.8511 Data:0.0002  Cls:0.0000(0.0000)  KD:0.3309(0.3505)  prec@1:59.38(71.58)  \n",
            "Epoch[6]:[1740/1776] Time:0.8528 Data:0.0001  Cls:0.0000(0.0000)  KD:0.3292(0.3509)  prec@1:68.75(71.61)  \n",
            "Epoch[6]:[1770/1776] Time:0.8504 Data:0.0002  Cls:0.0000(0.0000)  KD:0.3069(0.3503)  prec@1:62.50(71.61)  \n",
            "Epoch time: 1513s\n",
            "Epoch[7]:[030/1776] Time:0.8525 Data:0.0002  Cls:0.0000(0.0000)  KD:0.3064(0.3227)  prec@1:75.00(70.83)  \n",
            "Epoch[7]:[060/1776] Time:0.8511 Data:0.0002  Cls:0.0000(0.0000)  KD:0.2309(0.3346)  prec@1:62.50(72.34)  \n",
            "Epoch[7]:[090/1776] Time:0.8519 Data:0.0002  Cls:0.0000(0.0000)  KD:0.4620(0.3319)  prec@1:78.12(71.91)  \n",
            "Epoch[7]:[120/1776] Time:0.8524 Data:0.0002  Cls:0.0000(0.0000)  KD:0.2017(0.3360)  prec@1:84.38(71.61)  \n",
            "Epoch[7]:[150/1776] Time:0.8471 Data:0.0002  Cls:0.0000(0.0000)  KD:0.2314(0.3402)  prec@1:56.25(71.38)  \n",
            "Epoch[7]:[180/1776] Time:0.8519 Data:0.0002  Cls:0.0000(0.0000)  KD:0.2304(0.3460)  prec@1:65.62(71.30)  \n",
            "Epoch[7]:[210/1776] Time:0.8523 Data:0.0002  Cls:0.0000(0.0000)  KD:0.3202(0.3446)  prec@1:65.62(71.34)  \n",
            "Epoch[7]:[240/1776] Time:0.8500 Data:0.0001  Cls:0.0000(0.0000)  KD:0.2016(0.3427)  prec@1:75.00(71.32)  \n",
            "Epoch[7]:[270/1776] Time:0.8485 Data:0.0002  Cls:0.0000(0.0000)  KD:0.3762(0.3414)  prec@1:75.00(71.26)  \n",
            "Epoch[7]:[300/1776] Time:0.8520 Data:0.0002  Cls:0.0000(0.0000)  KD:0.3664(0.3387)  prec@1:68.75(71.05)  \n",
            "Epoch[7]:[330/1776] Time:0.8518 Data:0.0002  Cls:0.0000(0.0000)  KD:0.5122(0.3393)  prec@1:84.38(71.25)  \n",
            "Epoch[7]:[360/1776] Time:0.8550 Data:0.0002  Cls:0.0000(0.0000)  KD:0.3750(0.3401)  prec@1:81.25(71.18)  \n",
            "Epoch[7]:[390/1776] Time:0.8575 Data:0.0002  Cls:0.0000(0.0000)  KD:0.4529(0.3395)  prec@1:84.38(71.26)  \n",
            "Epoch[7]:[420/1776] Time:0.8524 Data:0.0002  Cls:0.0000(0.0000)  KD:0.4936(0.3413)  prec@1:68.75(71.40)  \n",
            "Epoch[7]:[450/1776] Time:0.8549 Data:0.0002  Cls:0.0000(0.0000)  KD:0.3637(0.3412)  prec@1:71.88(71.45)  \n",
            "Epoch[7]:[480/1776] Time:0.8512 Data:0.0002  Cls:0.0000(0.0000)  KD:0.3048(0.3419)  prec@1:59.38(71.43)  \n",
            "Epoch[7]:[510/1776] Time:0.8507 Data:0.0002  Cls:0.0000(0.0000)  KD:0.5846(0.3433)  prec@1:71.88(71.38)  \n",
            "Epoch[7]:[540/1776] Time:0.8509 Data:0.0001  Cls:0.0000(0.0000)  KD:0.2870(0.3429)  prec@1:78.12(71.36)  \n",
            "Epoch[7]:[570/1776] Time:0.8526 Data:0.0002  Cls:0.0000(0.0000)  KD:0.2520(0.3431)  prec@1:78.12(71.36)  \n",
            "Epoch[7]:[600/1776] Time:0.8511 Data:0.0001  Cls:0.0000(0.0000)  KD:0.3190(0.3434)  prec@1:53.12(71.24)  \n",
            "Epoch[7]:[630/1776] Time:0.8520 Data:0.0002  Cls:0.0000(0.0000)  KD:0.2508(0.3431)  prec@1:75.00(71.30)  \n",
            "Epoch[7]:[660/1776] Time:0.8511 Data:0.0002  Cls:0.0000(0.0000)  KD:0.2390(0.3423)  prec@1:75.00(71.27)  \n",
            "Epoch[7]:[690/1776] Time:0.8500 Data:0.0002  Cls:0.0000(0.0000)  KD:0.4025(0.3430)  prec@1:56.25(71.34)  \n",
            "Epoch[7]:[720/1776] Time:0.8529 Data:0.0002  Cls:0.0000(0.0000)  KD:0.4078(0.3425)  prec@1:87.50(71.33)  \n",
            "Epoch[7]:[750/1776] Time:0.8571 Data:0.0002  Cls:0.0000(0.0000)  KD:0.2245(0.3430)  prec@1:65.62(71.31)  \n",
            "Epoch[7]:[780/1776] Time:0.8517 Data:0.0001  Cls:0.0000(0.0000)  KD:0.3865(0.3435)  prec@1:71.88(71.43)  \n",
            "Epoch[7]:[810/1776] Time:0.8527 Data:0.0002  Cls:0.0000(0.0000)  KD:0.4115(0.3435)  prec@1:75.00(71.41)  \n",
            "Epoch[7]:[840/1776] Time:0.8528 Data:0.0002  Cls:0.0000(0.0000)  KD:0.4841(0.3432)  prec@1:71.88(71.55)  \n",
            "Epoch[7]:[870/1776] Time:0.8550 Data:0.0002  Cls:0.0000(0.0000)  KD:0.3106(0.3439)  prec@1:59.38(71.43)  \n",
            "Epoch[7]:[900/1776] Time:0.8539 Data:0.0002  Cls:0.0000(0.0000)  KD:0.4245(0.3433)  prec@1:75.00(71.48)  \n",
            "Epoch[7]:[930/1776] Time:0.8468 Data:0.0002  Cls:0.0000(0.0000)  KD:0.2393(0.3434)  prec@1:59.38(71.46)  \n",
            "Epoch[7]:[960/1776] Time:0.8513 Data:0.0002  Cls:0.0000(0.0000)  KD:0.4461(0.3435)  prec@1:59.38(71.44)  \n",
            "Epoch[7]:[990/1776] Time:0.8527 Data:0.0002  Cls:0.0000(0.0000)  KD:0.3634(0.3440)  prec@1:84.38(71.49)  \n",
            "Epoch[7]:[1020/1776] Time:0.8528 Data:0.0002  Cls:0.0000(0.0000)  KD:0.4516(0.3441)  prec@1:59.38(71.50)  \n",
            "Epoch[7]:[1050/1776] Time:0.8534 Data:0.0002  Cls:0.0000(0.0000)  KD:0.5077(0.3445)  prec@1:75.00(71.49)  \n",
            "Epoch[7]:[1080/1776] Time:0.8552 Data:0.0001  Cls:0.0000(0.0000)  KD:0.4606(0.3450)  prec@1:65.62(71.54)  \n",
            "Epoch[7]:[1110/1776] Time:0.8476 Data:0.0002  Cls:0.0000(0.0000)  KD:0.3211(0.3440)  prec@1:71.88(71.60)  \n",
            "Epoch[7]:[1140/1776] Time:0.8538 Data:0.0002  Cls:0.0000(0.0000)  KD:0.2577(0.3436)  prec@1:68.75(71.54)  \n",
            "Epoch[7]:[1170/1776] Time:0.8534 Data:0.0002  Cls:0.0000(0.0000)  KD:0.3064(0.3435)  prec@1:68.75(71.54)  \n",
            "Epoch[7]:[1200/1776] Time:0.8542 Data:0.0002  Cls:0.0000(0.0000)  KD:0.3273(0.3434)  prec@1:65.62(71.56)  \n",
            "Epoch[7]:[1230/1776] Time:0.8520 Data:0.0002  Cls:0.0000(0.0000)  KD:0.3080(0.3428)  prec@1:71.88(71.60)  \n",
            "Epoch[7]:[1260/1776] Time:0.8522 Data:0.0001  Cls:0.0000(0.0000)  KD:0.3558(0.3425)  prec@1:81.25(71.59)  \n",
            "Epoch[7]:[1290/1776] Time:0.8525 Data:0.0002  Cls:0.0000(0.0000)  KD:0.3168(0.3423)  prec@1:65.62(71.61)  \n",
            "Epoch[7]:[1320/1776] Time:0.8532 Data:0.0002  Cls:0.0000(0.0000)  KD:0.4906(0.3424)  prec@1:78.12(71.60)  \n",
            "Epoch[7]:[1350/1776] Time:0.8561 Data:0.0002  Cls:0.0000(0.0000)  KD:0.2850(0.3427)  prec@1:65.62(71.56)  \n",
            "Epoch[7]:[1380/1776] Time:0.8608 Data:0.0002  Cls:0.0000(0.0000)  KD:0.3500(0.3427)  prec@1:78.12(71.57)  \n",
            "Epoch[7]:[1410/1776] Time:0.8531 Data:0.0064  Cls:0.0000(0.0000)  KD:0.3722(0.3435)  prec@1:71.88(71.61)  \n",
            "Epoch[7]:[1440/1776] Time:0.8540 Data:0.0001  Cls:0.0000(0.0000)  KD:0.3624(0.3435)  prec@1:68.75(71.61)  \n",
            "Epoch[7]:[1470/1776] Time:0.8522 Data:0.0005  Cls:0.0000(0.0000)  KD:0.4627(0.3438)  prec@1:81.25(71.60)  \n",
            "Epoch[7]:[1500/1776] Time:0.8545 Data:0.0001  Cls:0.0000(0.0000)  KD:0.3278(0.3437)  prec@1:56.25(71.58)  \n",
            "Epoch[7]:[1530/1776] Time:0.8530 Data:0.0001  Cls:0.0000(0.0000)  KD:0.3547(0.3438)  prec@1:68.75(71.57)  \n",
            "Epoch[7]:[1560/1776] Time:0.8464 Data:0.0002  Cls:0.0000(0.0000)  KD:0.1504(0.3438)  prec@1:59.38(71.55)  \n",
            "Epoch[7]:[1590/1776] Time:0.8540 Data:0.0001  Cls:0.0000(0.0000)  KD:0.3620(0.3437)  prec@1:68.75(71.55)  \n",
            "Epoch[7]:[1620/1776] Time:0.8527 Data:0.0002  Cls:0.0000(0.0000)  KD:0.2344(0.3438)  prec@1:65.62(71.56)  \n",
            "Epoch[7]:[1650/1776] Time:0.8574 Data:0.0001  Cls:0.0000(0.0000)  KD:0.4480(0.3433)  prec@1:56.25(71.57)  \n",
            "Epoch[7]:[1680/1776] Time:0.8532 Data:0.0002  Cls:0.0000(0.0000)  KD:0.2487(0.3427)  prec@1:65.62(71.60)  \n",
            "Epoch[7]:[1710/1776] Time:0.8468 Data:0.0002  Cls:0.0000(0.0000)  KD:0.4197(0.3430)  prec@1:84.38(71.63)  \n",
            "Epoch[7]:[1740/1776] Time:0.8488 Data:0.0001  Cls:0.0000(0.0000)  KD:0.2607(0.3426)  prec@1:71.88(71.59)  \n",
            "Epoch[7]:[1770/1776] Time:0.8502 Data:0.0002  Cls:0.0000(0.0000)  KD:0.2494(0.3422)  prec@1:71.88(71.59)  \n",
            "Epoch time: 1513s\n",
            "Epoch[8]:[030/1776] Time:0.8517 Data:0.0001  Cls:0.0000(0.0000)  KD:0.2599(0.3391)  prec@1:78.12(69.69)  \n",
            "Epoch[8]:[060/1776] Time:0.8515 Data:0.0002  Cls:0.0000(0.0000)  KD:0.5659(0.3450)  prec@1:62.50(71.61)  \n",
            "Epoch[8]:[090/1776] Time:0.8530 Data:0.0002  Cls:0.0000(0.0000)  KD:0.3903(0.3466)  prec@1:78.12(72.22)  \n",
            "Epoch[8]:[120/1776] Time:0.8557 Data:0.0001  Cls:0.0000(0.0000)  KD:0.4266(0.3483)  prec@1:81.25(72.03)  \n",
            "Epoch[8]:[150/1776] Time:0.8550 Data:0.0004  Cls:0.0000(0.0000)  KD:0.3058(0.3415)  prec@1:81.25(72.02)  \n",
            "Epoch[8]:[180/1776] Time:0.8527 Data:0.0002  Cls:0.0000(0.0000)  KD:0.2357(0.3369)  prec@1:75.00(72.00)  \n",
            "Epoch[8]:[210/1776] Time:0.8511 Data:0.0001  Cls:0.0000(0.0000)  KD:0.3348(0.3418)  prec@1:78.12(72.32)  \n",
            "Epoch[8]:[240/1776] Time:0.8522 Data:0.0001  Cls:0.0000(0.0000)  KD:0.2344(0.3409)  prec@1:78.12(72.42)  \n",
            "Epoch[8]:[270/1776] Time:0.8633 Data:0.0002  Cls:0.0000(0.0000)  KD:0.4537(0.3424)  prec@1:78.12(72.23)  \n",
            "Epoch[8]:[300/1776] Time:0.8532 Data:0.0002  Cls:0.0000(0.0000)  KD:0.5384(0.3452)  prec@1:81.25(72.30)  \n",
            "Epoch[8]:[330/1776] Time:0.8529 Data:0.0001  Cls:0.0000(0.0000)  KD:0.3701(0.3443)  prec@1:75.00(72.23)  \n",
            "Epoch[8]:[360/1776] Time:0.8516 Data:0.0002  Cls:0.0000(0.0000)  KD:0.3975(0.3439)  prec@1:53.12(72.27)  \n",
            "Epoch[8]:[390/1776] Time:0.8531 Data:0.0002  Cls:0.0000(0.0000)  KD:0.6098(0.3415)  prec@1:62.50(72.32)  \n",
            "Epoch[8]:[420/1776] Time:0.8504 Data:0.0002  Cls:0.0000(0.0000)  KD:0.2380(0.3416)  prec@1:78.12(72.29)  \n",
            "Epoch[8]:[450/1776] Time:0.8510 Data:0.0001  Cls:0.0000(0.0000)  KD:0.2716(0.3417)  prec@1:68.75(72.24)  \n",
            "Epoch[8]:[480/1776] Time:0.8521 Data:0.0002  Cls:0.0000(0.0000)  KD:0.4877(0.3422)  prec@1:65.62(72.09)  \n",
            "Epoch[8]:[510/1776] Time:0.8536 Data:0.0001  Cls:0.0000(0.0000)  KD:0.4675(0.3415)  prec@1:65.62(71.95)  \n",
            "Epoch[8]:[540/1776] Time:0.8533 Data:0.0002  Cls:0.0000(0.0000)  KD:0.4594(0.3414)  prec@1:65.62(71.86)  \n",
            "Epoch[8]:[570/1776] Time:0.8452 Data:0.0002  Cls:0.0000(0.0000)  KD:0.2190(0.3386)  prec@1:68.75(71.75)  \n",
            "Epoch[8]:[600/1776] Time:0.8509 Data:0.0002  Cls:0.0000(0.0000)  KD:0.4502(0.3380)  prec@1:78.12(71.74)  \n",
            "Epoch[8]:[630/1776] Time:0.8543 Data:0.0002  Cls:0.0000(0.0000)  KD:0.1572(0.3387)  prec@1:65.62(71.67)  \n",
            "Epoch[8]:[660/1776] Time:0.8497 Data:0.0002  Cls:0.0000(0.0000)  KD:0.3117(0.3388)  prec@1:68.75(71.66)  \n",
            "Epoch[8]:[690/1776] Time:0.8523 Data:0.0002  Cls:0.0000(0.0000)  KD:0.3947(0.3387)  prec@1:68.75(71.58)  \n",
            "Epoch[8]:[720/1776] Time:0.8503 Data:0.0002  Cls:0.0000(0.0000)  KD:0.2646(0.3385)  prec@1:71.88(71.61)  \n",
            "Epoch[8]:[750/1776] Time:0.8533 Data:0.0002  Cls:0.0000(0.0000)  KD:0.3407(0.3388)  prec@1:56.25(71.52)  \n",
            "Epoch[8]:[780/1776] Time:0.8537 Data:0.0002  Cls:0.0000(0.0000)  KD:0.3433(0.3384)  prec@1:84.38(71.45)  \n",
            "Epoch[8]:[810/1776] Time:0.8533 Data:0.0002  Cls:0.0000(0.0000)  KD:0.3151(0.3385)  prec@1:62.50(71.55)  \n",
            "Epoch[8]:[840/1776] Time:0.8495 Data:0.0002  Cls:0.0000(0.0000)  KD:0.4056(0.3379)  prec@1:75.00(71.56)  \n",
            "Epoch[8]:[870/1776] Time:0.8518 Data:0.0002  Cls:0.0000(0.0000)  KD:0.3050(0.3385)  prec@1:62.50(71.53)  \n",
            "Epoch[8]:[900/1776] Time:0.8525 Data:0.0002  Cls:0.0000(0.0000)  KD:0.3415(0.3376)  prec@1:78.12(71.57)  \n",
            "Epoch[8]:[930/1776] Time:0.8536 Data:0.0002  Cls:0.0000(0.0000)  KD:0.3610(0.3379)  prec@1:71.88(71.63)  \n",
            "Epoch[8]:[960/1776] Time:0.8506 Data:0.0002  Cls:0.0000(0.0000)  KD:0.2768(0.3373)  prec@1:81.25(71.58)  \n",
            "Epoch[8]:[990/1776] Time:0.8441 Data:0.0002  Cls:0.0000(0.0000)  KD:0.3992(0.3370)  prec@1:68.75(71.59)  \n",
            "Epoch[8]:[1020/1776] Time:0.8537 Data:0.0002  Cls:0.0000(0.0000)  KD:0.2228(0.3363)  prec@1:59.38(71.61)  \n",
            "Epoch[8]:[1050/1776] Time:0.8541 Data:0.0002  Cls:0.0000(0.0000)  KD:0.5148(0.3357)  prec@1:59.38(71.64)  \n",
            "Epoch[8]:[1080/1776] Time:0.8486 Data:0.0001  Cls:0.0000(0.0000)  KD:0.5759(0.3359)  prec@1:68.75(71.63)  \n",
            "Epoch[8]:[1110/1776] Time:0.8499 Data:0.0002  Cls:0.0000(0.0000)  KD:0.1842(0.3370)  prec@1:81.25(71.68)  \n",
            "Epoch[8]:[1140/1776] Time:0.8601 Data:0.0001  Cls:0.0000(0.0000)  KD:0.3549(0.3371)  prec@1:78.12(71.64)  \n",
            "Epoch[8]:[1170/1776] Time:0.8514 Data:0.0001  Cls:0.0000(0.0000)  KD:0.4395(0.3372)  prec@1:71.88(71.67)  \n",
            "Epoch[8]:[1200/1776] Time:0.8508 Data:0.0002  Cls:0.0000(0.0000)  KD:0.4151(0.3366)  prec@1:62.50(71.65)  \n",
            "Epoch[8]:[1230/1776] Time:0.8530 Data:0.0002  Cls:0.0000(0.0000)  KD:0.1893(0.3362)  prec@1:65.62(71.62)  \n",
            "Epoch[8]:[1260/1776] Time:0.8487 Data:0.0002  Cls:0.0000(0.0000)  KD:0.4314(0.3356)  prec@1:78.12(71.60)  \n",
            "Epoch[8]:[1290/1776] Time:0.8481 Data:0.0001  Cls:0.0000(0.0000)  KD:0.3263(0.3352)  prec@1:71.88(71.64)  \n",
            "Epoch[8]:[1320/1776] Time:0.8502 Data:0.0001  Cls:0.0000(0.0000)  KD:0.4016(0.3352)  prec@1:75.00(71.61)  \n",
            "Epoch[8]:[1350/1776] Time:0.8521 Data:0.0001  Cls:0.0000(0.0000)  KD:0.2553(0.3353)  prec@1:62.50(71.59)  \n",
            "Epoch[8]:[1380/1776] Time:0.8564 Data:0.0001  Cls:0.0000(0.0000)  KD:0.1894(0.3351)  prec@1:68.75(71.61)  \n",
            "Epoch[8]:[1410/1776] Time:0.8530 Data:0.0002  Cls:0.0000(0.0000)  KD:0.2873(0.3352)  prec@1:68.75(71.54)  \n",
            "Epoch[8]:[1440/1776] Time:0.8545 Data:0.0001  Cls:0.0000(0.0000)  KD:0.3962(0.3348)  prec@1:62.50(71.60)  \n",
            "Epoch[8]:[1470/1776] Time:0.8513 Data:0.0001  Cls:0.0000(0.0000)  KD:0.2380(0.3349)  prec@1:71.88(71.65)  \n",
            "Epoch[8]:[1500/1776] Time:0.8513 Data:0.0002  Cls:0.0000(0.0000)  KD:0.4781(0.3353)  prec@1:78.12(71.69)  \n",
            "Epoch[8]:[1530/1776] Time:0.8527 Data:0.0002  Cls:0.0000(0.0000)  KD:0.3554(0.3355)  prec@1:68.75(71.67)  \n",
            "Epoch[8]:[1560/1776] Time:0.8496 Data:0.0001  Cls:0.0000(0.0000)  KD:0.3485(0.3348)  prec@1:62.50(71.65)  \n",
            "Epoch[8]:[1590/1776] Time:0.8511 Data:0.0002  Cls:0.0000(0.0000)  KD:0.2453(0.3345)  prec@1:78.12(71.66)  \n",
            "Epoch[8]:[1620/1776] Time:0.8516 Data:0.0001  Cls:0.0000(0.0000)  KD:0.2620(0.3345)  prec@1:62.50(71.65)  \n",
            "Epoch[8]:[1650/1776] Time:0.8519 Data:0.0001  Cls:0.0000(0.0000)  KD:0.3520(0.3343)  prec@1:68.75(71.66)  \n",
            "Epoch[8]:[1680/1776] Time:0.8530 Data:0.0001  Cls:0.0000(0.0000)  KD:0.4375(0.3342)  prec@1:81.25(71.63)  \n",
            "Epoch[8]:[1710/1776] Time:0.8526 Data:0.0002  Cls:0.0000(0.0000)  KD:0.4234(0.3339)  prec@1:62.50(71.61)  \n",
            "Epoch[8]:[1740/1776] Time:0.8544 Data:0.0001  Cls:0.0000(0.0000)  KD:0.2466(0.3342)  prec@1:71.88(71.61)  \n",
            "Epoch[8]:[1770/1776] Time:0.8532 Data:0.0001  Cls:0.0000(0.0000)  KD:0.2005(0.3341)  prec@1:65.62(71.59)  \n",
            "Epoch time: 1514s\n",
            "Epoch[9]:[030/1776] Time:0.8546 Data:0.0002  Cls:0.0000(0.0000)  KD:0.4750(0.3163)  prec@1:65.62(70.21)  \n",
            "Epoch[9]:[060/1776] Time:0.8514 Data:0.0002  Cls:0.0000(0.0000)  KD:0.2328(0.3061)  prec@1:65.62(70.42)  \n",
            "Epoch[9]:[090/1776] Time:0.8505 Data:0.0002  Cls:0.0000(0.0000)  KD:0.2595(0.3185)  prec@1:87.50(70.87)  \n",
            "Epoch[9]:[120/1776] Time:0.8425 Data:0.0002  Cls:0.0000(0.0000)  KD:0.2124(0.3204)  prec@1:84.38(70.99)  \n",
            "Epoch[9]:[150/1776] Time:0.8408 Data:0.0006  Cls:0.0000(0.0000)  KD:0.1926(0.3160)  prec@1:62.50(71.52)  \n",
            "Epoch[9]:[180/1776] Time:0.8535 Data:0.0002  Cls:0.0000(0.0000)  KD:0.4478(0.3182)  prec@1:65.62(71.20)  \n",
            "Epoch[9]:[210/1776] Time:0.8530 Data:0.0002  Cls:0.0000(0.0000)  KD:0.4085(0.3216)  prec@1:78.12(71.26)  \n",
            "Epoch[9]:[240/1776] Time:0.8511 Data:0.0002  Cls:0.0000(0.0000)  KD:0.2388(0.3225)  prec@1:65.62(71.17)  \n",
            "Epoch[9]:[270/1776] Time:0.8510 Data:0.0002  Cls:0.0000(0.0000)  KD:0.4209(0.3228)  prec@1:62.50(71.47)  \n",
            "Epoch[9]:[300/1776] Time:0.8539 Data:0.0002  Cls:0.0000(0.0000)  KD:0.2860(0.3225)  prec@1:87.50(71.42)  \n",
            "Epoch[9]:[330/1776] Time:0.8515 Data:0.0002  Cls:0.0000(0.0000)  KD:0.4401(0.3247)  prec@1:62.50(71.47)  \n",
            "Epoch[9]:[360/1776] Time:0.8555 Data:0.0002  Cls:0.0000(0.0000)  KD:0.3759(0.3239)  prec@1:71.88(71.71)  \n",
            "Epoch[9]:[390/1776] Time:0.8507 Data:0.0002  Cls:0.0000(0.0000)  KD:0.5048(0.3239)  prec@1:87.50(71.73)  \n",
            "Epoch[9]:[420/1776] Time:0.8514 Data:0.0002  Cls:0.0000(0.0000)  KD:0.4126(0.3233)  prec@1:87.50(71.74)  \n",
            "Epoch[9]:[450/1776] Time:0.8394 Data:0.0002  Cls:0.0000(0.0000)  KD:0.4042(0.3249)  prec@1:68.75(71.85)  \n",
            "Epoch[9]:[480/1776] Time:0.8512 Data:0.0002  Cls:0.0000(0.0000)  KD:0.3158(0.3244)  prec@1:81.25(71.71)  \n",
            "Epoch[9]:[510/1776] Time:0.8572 Data:0.0030  Cls:0.0000(0.0000)  KD:0.4425(0.3264)  prec@1:78.12(71.78)  \n",
            "Epoch[9]:[540/1776] Time:0.8564 Data:0.0002  Cls:0.0000(0.0000)  KD:0.4124(0.3259)  prec@1:78.12(71.78)  \n",
            "Epoch[9]:[570/1776] Time:0.8559 Data:0.0003  Cls:0.0000(0.0000)  KD:0.3178(0.3251)  prec@1:71.88(71.74)  \n",
            "Epoch[9]:[600/1776] Time:0.8524 Data:0.0002  Cls:0.0000(0.0000)  KD:0.3733(0.3249)  prec@1:68.75(71.71)  \n",
            "Epoch[9]:[630/1776] Time:0.8520 Data:0.0002  Cls:0.0000(0.0000)  KD:0.2541(0.3249)  prec@1:90.62(71.69)  \n",
            "Epoch[9]:[660/1776] Time:0.8519 Data:0.0002  Cls:0.0000(0.0000)  KD:0.3372(0.3247)  prec@1:71.88(71.72)  \n",
            "Epoch[9]:[690/1776] Time:0.8518 Data:0.0002  Cls:0.0000(0.0000)  KD:0.3441(0.3251)  prec@1:59.38(71.66)  \n",
            "Epoch[9]:[720/1776] Time:0.8523 Data:0.0002  Cls:0.0000(0.0000)  KD:0.4017(0.3246)  prec@1:78.12(71.63)  \n",
            "Epoch[9]:[750/1776] Time:0.8524 Data:0.0002  Cls:0.0000(0.0000)  KD:0.3719(0.3247)  prec@1:84.38(71.63)  \n",
            "Epoch[9]:[780/1776] Time:0.8566 Data:0.0002  Cls:0.0000(0.0000)  KD:0.2523(0.3258)  prec@1:68.75(71.57)  \n",
            "Epoch[9]:[810/1776] Time:0.8558 Data:0.0002  Cls:0.0000(0.0000)  KD:0.2673(0.3267)  prec@1:90.62(71.64)  \n",
            "Epoch[9]:[840/1776] Time:0.8512 Data:0.0002  Cls:0.0000(0.0000)  KD:0.4983(0.3263)  prec@1:71.88(71.61)  \n",
            "Epoch[9]:[870/1776] Time:0.8551 Data:0.0002  Cls:0.0000(0.0000)  KD:0.3208(0.3259)  prec@1:65.62(71.60)  \n",
            "Epoch[9]:[900/1776] Time:0.8512 Data:0.0002  Cls:0.0000(0.0000)  KD:0.2707(0.3253)  prec@1:71.88(71.56)  \n",
            "Epoch[9]:[930/1776] Time:0.8522 Data:0.0002  Cls:0.0000(0.0000)  KD:0.3308(0.3253)  prec@1:84.38(71.52)  \n",
            "Epoch[9]:[960/1776] Time:0.8488 Data:0.0002  Cls:0.0000(0.0000)  KD:0.3723(0.3252)  prec@1:75.00(71.58)  \n",
            "Epoch[9]:[990/1776] Time:0.8528 Data:0.0002  Cls:0.0000(0.0000)  KD:0.4223(0.3245)  prec@1:65.62(71.57)  \n",
            "Epoch[9]:[1020/1776] Time:0.8537 Data:0.0002  Cls:0.0000(0.0000)  KD:0.2872(0.3242)  prec@1:59.38(71.53)  \n",
            "Epoch[9]:[1050/1776] Time:0.8516 Data:0.0002  Cls:0.0000(0.0000)  KD:0.3665(0.3241)  prec@1:68.75(71.57)  \n",
            "Epoch[9]:[1080/1776] Time:0.8541 Data:0.0001  Cls:0.0000(0.0000)  KD:0.1634(0.3251)  prec@1:71.88(71.68)  \n",
            "Epoch[9]:[1110/1776] Time:0.8517 Data:0.0002  Cls:0.0000(0.0000)  KD:0.2246(0.3245)  prec@1:59.38(71.66)  \n",
            "Epoch[9]:[1140/1776] Time:0.8506 Data:0.0002  Cls:0.0000(0.0000)  KD:0.5085(0.3251)  prec@1:65.62(71.67)  \n",
            "Epoch[9]:[1170/1776] Time:0.8539 Data:0.0002  Cls:0.0000(0.0000)  KD:0.2311(0.3253)  prec@1:71.88(71.70)  \n",
            "Epoch[9]:[1200/1776] Time:0.8509 Data:0.0002  Cls:0.0000(0.0000)  KD:0.3765(0.3246)  prec@1:56.25(71.71)  \n",
            "Epoch[9]:[1230/1776] Time:0.8509 Data:0.0002  Cls:0.0000(0.0000)  KD:0.2612(0.3246)  prec@1:68.75(71.69)  \n",
            "Epoch[9]:[1260/1776] Time:0.8505 Data:0.0002  Cls:0.0000(0.0000)  KD:0.3541(0.3251)  prec@1:62.50(71.71)  \n",
            "Epoch[9]:[1290/1776] Time:0.8524 Data:0.0002  Cls:0.0000(0.0000)  KD:0.3303(0.3248)  prec@1:62.50(71.62)  \n",
            "Epoch[9]:[1320/1776] Time:0.8526 Data:0.0002  Cls:0.0000(0.0000)  KD:0.1677(0.3242)  prec@1:75.00(71.66)  \n",
            "Epoch[9]:[1350/1776] Time:0.8508 Data:0.0002  Cls:0.0000(0.0000)  KD:0.1807(0.3244)  prec@1:59.38(71.56)  \n",
            "Epoch[9]:[1380/1776] Time:0.8521 Data:0.0002  Cls:0.0000(0.0000)  KD:0.3757(0.3243)  prec@1:56.25(71.54)  \n",
            "Epoch[9]:[1410/1776] Time:0.8521 Data:0.0002  Cls:0.0000(0.0000)  KD:0.4102(0.3238)  prec@1:81.25(71.54)  \n",
            "Epoch[9]:[1440/1776] Time:0.8523 Data:0.0002  Cls:0.0000(0.0000)  KD:0.3786(0.3235)  prec@1:78.12(71.53)  \n",
            "Epoch[9]:[1470/1776] Time:0.8503 Data:0.0002  Cls:0.0000(0.0000)  KD:0.1604(0.3230)  prec@1:90.62(71.54)  \n",
            "Epoch[9]:[1500/1776] Time:0.8487 Data:0.0001  Cls:0.0000(0.0000)  KD:0.2653(0.3231)  prec@1:71.88(71.59)  \n",
            "Epoch[9]:[1530/1776] Time:0.8479 Data:0.0002  Cls:0.0000(0.0000)  KD:0.1983(0.3230)  prec@1:65.62(71.60)  \n",
            "Epoch[9]:[1560/1776] Time:0.8552 Data:0.0002  Cls:0.0000(0.0000)  KD:0.2700(0.3228)  prec@1:78.12(71.61)  \n",
            "Epoch[9]:[1590/1776] Time:0.8510 Data:0.0002  Cls:0.0000(0.0000)  KD:0.3251(0.3225)  prec@1:78.12(71.61)  \n",
            "Epoch[9]:[1620/1776] Time:0.8511 Data:0.0002  Cls:0.0000(0.0000)  KD:0.3101(0.3224)  prec@1:68.75(71.58)  \n",
            "Epoch[9]:[1650/1776] Time:0.8535 Data:0.0002  Cls:0.0000(0.0000)  KD:0.3135(0.3224)  prec@1:65.62(71.58)  \n",
            "Epoch[9]:[1680/1776] Time:0.8519 Data:0.0002  Cls:0.0000(0.0000)  KD:0.3585(0.3224)  prec@1:81.25(71.58)  \n",
            "Epoch[9]:[1710/1776] Time:0.8520 Data:0.0002  Cls:0.0000(0.0000)  KD:0.3165(0.3226)  prec@1:71.88(71.58)  \n",
            "Epoch[9]:[1740/1776] Time:0.8524 Data:0.0002  Cls:0.0000(0.0000)  KD:0.3293(0.3224)  prec@1:75.00(71.62)  \n",
            "Epoch[9]:[1770/1776] Time:0.8525 Data:0.0002  Cls:0.0000(0.0000)  KD:0.2833(0.3223)  prec@1:78.12(71.60)  \n",
            "Epoch time: 1514s\n",
            "Epoch[10]:[030/1776] Time:0.8552 Data:0.0001  Cls:0.0000(0.0000)  KD:0.3833(0.3353)  prec@1:75.00(74.69)  \n",
            "Epoch[10]:[060/1776] Time:0.8553 Data:0.0002  Cls:0.0000(0.0000)  KD:0.3563(0.3225)  prec@1:71.88(72.92)  \n",
            "Epoch[10]:[090/1776] Time:0.8525 Data:0.0002  Cls:0.0000(0.0000)  KD:0.6006(0.3074)  prec@1:78.12(71.67)  \n",
            "Epoch[10]:[120/1776] Time:0.8517 Data:0.0002  Cls:0.0000(0.0000)  KD:0.2563(0.3078)  prec@1:62.50(71.35)  \n",
            "Epoch[10]:[150/1776] Time:0.8476 Data:0.0001  Cls:0.0000(0.0000)  KD:0.2145(0.3094)  prec@1:68.75(71.58)  \n",
            "Epoch[10]:[180/1776] Time:0.8520 Data:0.0002  Cls:0.0000(0.0000)  KD:0.3383(0.3104)  prec@1:65.62(71.23)  \n",
            "Epoch[10]:[210/1776] Time:0.8525 Data:0.0002  Cls:0.0000(0.0000)  KD:0.4404(0.3116)  prec@1:65.62(71.37)  \n",
            "Epoch[10]:[240/1776] Time:0.8508 Data:0.0002  Cls:0.0000(0.0000)  KD:0.3310(0.3113)  prec@1:90.62(71.35)  \n",
            "Epoch[10]:[270/1776] Time:0.8522 Data:0.0002  Cls:0.0000(0.0000)  KD:0.4843(0.3099)  prec@1:81.25(71.45)  \n",
            "Epoch[10]:[300/1776] Time:0.8538 Data:0.0002  Cls:0.0000(0.0000)  KD:0.4386(0.3117)  prec@1:68.75(71.42)  \n",
            "Epoch[10]:[330/1776] Time:0.8516 Data:0.0001  Cls:0.0000(0.0000)  KD:0.4763(0.3132)  prec@1:68.75(71.47)  \n",
            "Epoch[10]:[360/1776] Time:0.8508 Data:0.0002  Cls:0.0000(0.0000)  KD:0.4148(0.3135)  prec@1:81.25(71.47)  \n",
            "Epoch[10]:[390/1776] Time:0.8526 Data:0.0002  Cls:0.0000(0.0000)  KD:0.4251(0.3131)  prec@1:71.88(71.64)  \n",
            "Epoch[10]:[420/1776] Time:0.8513 Data:0.0001  Cls:0.0000(0.0000)  KD:0.3695(0.3133)  prec@1:81.25(71.68)  \n",
            "Epoch[10]:[450/1776] Time:0.8521 Data:0.0001  Cls:0.0000(0.0000)  KD:0.2902(0.3140)  prec@1:68.75(71.88)  \n",
            "Epoch[10]:[480/1776] Time:0.8567 Data:0.0002  Cls:0.0000(0.0000)  KD:0.2728(0.3163)  prec@1:78.12(71.84)  \n",
            "Epoch[10]:[510/1776] Time:0.8549 Data:0.0002  Cls:0.0000(0.0000)  KD:0.3898(0.3181)  prec@1:56.25(71.78)  \n",
            "Epoch[10]:[540/1776] Time:0.8505 Data:0.0002  Cls:0.0000(0.0000)  KD:0.4087(0.3182)  prec@1:59.38(71.68)  \n",
            "Epoch[10]:[570/1776] Time:0.8526 Data:0.0002  Cls:0.0000(0.0000)  KD:0.2065(0.3177)  prec@1:75.00(71.64)  \n",
            "Epoch[10]:[600/1776] Time:0.8532 Data:0.0002  Cls:0.0000(0.0000)  KD:0.2104(0.3162)  prec@1:78.12(71.61)  \n",
            "Epoch[10]:[630/1776] Time:0.8530 Data:0.0002  Cls:0.0000(0.0000)  KD:0.4698(0.3162)  prec@1:68.75(71.38)  \n",
            "Epoch[10]:[660/1776] Time:0.8524 Data:0.0002  Cls:0.0000(0.0000)  KD:0.3661(0.3163)  prec@1:75.00(71.47)  \n",
            "Epoch[10]:[690/1776] Time:0.8527 Data:0.0002  Cls:0.0000(0.0000)  KD:0.2399(0.3153)  prec@1:71.88(71.41)  \n",
            "Epoch[10]:[720/1776] Time:0.8493 Data:0.0002  Cls:0.0000(0.0000)  KD:0.3754(0.3159)  prec@1:68.75(71.45)  \n",
            "Epoch[10]:[750/1776] Time:0.8516 Data:0.0002  Cls:0.0000(0.0000)  KD:0.4463(0.3145)  prec@1:65.62(71.56)  \n",
            "Epoch[10]:[780/1776] Time:0.8521 Data:0.0002  Cls:0.0000(0.0000)  KD:0.1105(0.3151)  prec@1:75.00(71.69)  \n",
            "Epoch[10]:[810/1776] Time:0.8492 Data:0.0001  Cls:0.0000(0.0000)  KD:0.2561(0.3137)  prec@1:75.00(71.62)  \n",
            "Epoch[10]:[840/1776] Time:0.8527 Data:0.0002  Cls:0.0000(0.0000)  KD:0.2221(0.3138)  prec@1:65.62(71.53)  \n",
            "Epoch[10]:[870/1776] Time:0.8503 Data:0.0002  Cls:0.0000(0.0000)  KD:0.2598(0.3134)  prec@1:65.62(71.49)  \n",
            "Epoch[10]:[900/1776] Time:0.8586 Data:0.0002  Cls:0.0000(0.0000)  KD:0.2492(0.3136)  prec@1:71.88(71.41)  \n",
            "Epoch[10]:[930/1776] Time:0.8509 Data:0.0002  Cls:0.0000(0.0000)  KD:0.2492(0.3139)  prec@1:75.00(71.48)  \n",
            "Epoch[10]:[960/1776] Time:0.8509 Data:0.0001  Cls:0.0000(0.0000)  KD:0.2931(0.3142)  prec@1:75.00(71.56)  \n",
            "Epoch[10]:[990/1776] Time:0.8517 Data:0.0002  Cls:0.0000(0.0000)  KD:0.1528(0.3146)  prec@1:78.12(71.61)  \n",
            "Epoch[10]:[1020/1776] Time:0.8519 Data:0.0002  Cls:0.0000(0.0000)  KD:0.1810(0.3140)  prec@1:59.38(71.50)  \n",
            "Epoch[10]:[1050/1776] Time:0.8528 Data:0.0002  Cls:0.0000(0.0000)  KD:0.4216(0.3135)  prec@1:71.88(71.57)  \n",
            "Epoch[10]:[1080/1776] Time:0.8518 Data:0.0002  Cls:0.0000(0.0000)  KD:0.3548(0.3136)  prec@1:59.38(71.63)  \n",
            "Epoch[10]:[1110/1776] Time:0.8541 Data:0.0002  Cls:0.0000(0.0000)  KD:0.3625(0.3131)  prec@1:71.88(71.60)  \n",
            "Epoch[10]:[1140/1776] Time:0.8543 Data:0.0002  Cls:0.0000(0.0000)  KD:0.3329(0.3125)  prec@1:81.25(71.60)  \n",
            "Epoch[10]:[1170/1776] Time:0.8511 Data:0.0002  Cls:0.0000(0.0000)  KD:0.3745(0.3129)  prec@1:62.50(71.60)  \n",
            "Epoch[10]:[1200/1776] Time:0.8511 Data:0.0008  Cls:0.0000(0.0000)  KD:0.3557(0.3135)  prec@1:71.88(71.61)  \n",
            "Epoch[10]:[1230/1776] Time:0.8548 Data:0.0002  Cls:0.0000(0.0000)  KD:0.4364(0.3142)  prec@1:84.38(71.65)  \n",
            "Epoch[10]:[1260/1776] Time:0.8533 Data:0.0002  Cls:0.0000(0.0000)  KD:0.2775(0.3147)  prec@1:75.00(71.65)  \n",
            "Epoch[10]:[1290/1776] Time:0.8508 Data:0.0002  Cls:0.0000(0.0000)  KD:0.2013(0.3143)  prec@1:68.75(71.69)  \n",
            "Epoch[10]:[1320/1776] Time:0.8519 Data:0.0002  Cls:0.0000(0.0000)  KD:0.1979(0.3141)  prec@1:78.12(71.70)  \n",
            "Epoch[10]:[1350/1776] Time:0.8504 Data:0.0002  Cls:0.0000(0.0000)  KD:0.3520(0.3149)  prec@1:65.62(71.69)  \n",
            "Epoch[10]:[1380/1776] Time:0.8522 Data:0.0002  Cls:0.0000(0.0000)  KD:0.5201(0.3159)  prec@1:84.38(71.65)  \n",
            "Epoch[10]:[1410/1776] Time:0.8523 Data:0.0002  Cls:0.0000(0.0000)  KD:0.2856(0.3154)  prec@1:68.75(71.63)  \n",
            "Epoch[10]:[1440/1776] Time:0.8531 Data:0.0002  Cls:0.0000(0.0000)  KD:0.2999(0.3153)  prec@1:62.50(71.58)  \n",
            "Epoch[10]:[1470/1776] Time:0.8504 Data:0.0002  Cls:0.0000(0.0000)  KD:0.3769(0.3155)  prec@1:65.62(71.57)  \n",
            "Epoch[10]:[1500/1776] Time:0.8502 Data:0.0002  Cls:0.0000(0.0000)  KD:0.4680(0.3158)  prec@1:53.12(71.52)  \n",
            "Epoch[10]:[1530/1776] Time:0.8503 Data:0.0002  Cls:0.0000(0.0000)  KD:0.4151(0.3160)  prec@1:81.25(71.56)  \n",
            "Epoch[10]:[1560/1776] Time:0.8514 Data:0.0002  Cls:0.0000(0.0000)  KD:0.4447(0.3160)  prec@1:87.50(71.59)  \n",
            "Epoch[10]:[1590/1776] Time:0.8505 Data:0.0002  Cls:0.0000(0.0000)  KD:0.2472(0.3167)  prec@1:75.00(71.55)  \n",
            "Epoch[10]:[1620/1776] Time:0.8543 Data:0.0002  Cls:0.0000(0.0000)  KD:0.2727(0.3165)  prec@1:75.00(71.56)  \n",
            "Epoch[10]:[1650/1776] Time:0.8474 Data:0.0012  Cls:0.0000(0.0000)  KD:0.2772(0.3162)  prec@1:59.38(71.58)  \n",
            "Epoch[10]:[1680/1776] Time:0.8553 Data:0.0002  Cls:0.0000(0.0000)  KD:0.2122(0.3162)  prec@1:87.50(71.59)  \n",
            "Epoch[10]:[1710/1776] Time:0.8535 Data:0.0001  Cls:0.0000(0.0000)  KD:0.4181(0.3170)  prec@1:78.12(71.61)  \n",
            "Epoch[10]:[1740/1776] Time:0.8510 Data:0.0002  Cls:0.0000(0.0000)  KD:0.2418(0.3169)  prec@1:75.00(71.61)  \n",
            "Epoch[10]:[1770/1776] Time:0.8535 Data:0.0002  Cls:0.0000(0.0000)  KD:0.3213(0.3166)  prec@1:81.25(71.62)  \n",
            "Epoch time: 1514s\n",
            "Epoch[11]:[030/1776] Time:0.8512 Data:0.0002  Cls:0.0000(0.0000)  KD:0.2342(0.3254)  prec@1:65.62(69.17)  \n",
            "Epoch[11]:[060/1776] Time:0.8572 Data:0.0002  Cls:0.0000(0.0000)  KD:0.4559(0.3210)  prec@1:65.62(70.68)  \n",
            "Epoch[11]:[090/1776] Time:0.8529 Data:0.0002  Cls:0.0000(0.0000)  KD:0.2197(0.3221)  prec@1:71.88(71.18)  \n",
            "Epoch[11]:[120/1776] Time:0.8549 Data:0.0002  Cls:0.0000(0.0000)  KD:0.3619(0.3284)  prec@1:75.00(71.59)  \n",
            "Epoch[11]:[150/1776] Time:0.8567 Data:0.0002  Cls:0.0000(0.0000)  KD:0.2681(0.3285)  prec@1:71.88(71.52)  \n",
            "Epoch[11]:[180/1776] Time:0.8561 Data:0.0002  Cls:0.0000(0.0000)  KD:0.2857(0.3234)  prec@1:75.00(71.61)  \n",
            "Epoch[11]:[210/1776] Time:0.8594 Data:0.0002  Cls:0.0000(0.0000)  KD:0.4920(0.3240)  prec@1:62.50(71.68)  \n",
            "Epoch[11]:[240/1776] Time:0.8562 Data:0.0002  Cls:0.0000(0.0000)  KD:0.3734(0.3176)  prec@1:71.88(71.64)  \n",
            "Epoch[11]:[270/1776] Time:0.8573 Data:0.0002  Cls:0.0000(0.0000)  KD:0.4483(0.3184)  prec@1:62.50(71.48)  \n",
            "Epoch[11]:[300/1776] Time:0.8530 Data:0.0001  Cls:0.0000(0.0000)  KD:0.1855(0.3202)  prec@1:65.62(71.41)  \n",
            "Epoch[11]:[330/1776] Time:0.8528 Data:0.0002  Cls:0.0000(0.0000)  KD:0.3652(0.3217)  prec@1:75.00(71.60)  \n",
            "Epoch[11]:[360/1776] Time:0.8529 Data:0.0002  Cls:0.0000(0.0000)  KD:0.2661(0.3193)  prec@1:71.88(71.49)  \n",
            "Epoch[11]:[390/1776] Time:0.8503 Data:0.0002  Cls:0.0000(0.0000)  KD:0.1873(0.3212)  prec@1:59.38(71.59)  \n",
            "Epoch[11]:[420/1776] Time:0.8516 Data:0.0002  Cls:0.0000(0.0000)  KD:0.2930(0.3215)  prec@1:78.12(71.55)  \n",
            "Epoch[11]:[450/1776] Time:0.8506 Data:0.0002  Cls:0.0000(0.0000)  KD:0.3062(0.3225)  prec@1:75.00(71.66)  \n",
            "Epoch[11]:[480/1776] Time:0.8538 Data:0.0002  Cls:0.0000(0.0000)  KD:0.3563(0.3219)  prec@1:71.88(71.41)  \n",
            "Epoch[11]:[510/1776] Time:0.8527 Data:0.0002  Cls:0.0000(0.0000)  KD:0.3813(0.3217)  prec@1:81.25(71.42)  \n",
            "Epoch[11]:[540/1776] Time:0.8526 Data:0.0001  Cls:0.0000(0.0000)  KD:0.3543(0.3198)  prec@1:71.88(71.53)  \n",
            "Epoch[11]:[570/1776] Time:0.8485 Data:0.0002  Cls:0.0000(0.0000)  KD:0.2753(0.3194)  prec@1:84.38(71.47)  \n",
            "Epoch[11]:[600/1776] Time:0.8509 Data:0.0002  Cls:0.0000(0.0000)  KD:0.1741(0.3189)  prec@1:78.12(71.46)  \n",
            "Epoch[11]:[630/1776] Time:0.8521 Data:0.0002  Cls:0.0000(0.0000)  KD:0.3575(0.3182)  prec@1:78.12(71.51)  \n",
            "Epoch[11]:[660/1776] Time:0.8550 Data:0.0002  Cls:0.0000(0.0000)  KD:0.1912(0.3189)  prec@1:59.38(71.56)  \n",
            "Epoch[11]:[690/1776] Time:0.8530 Data:0.0002  Cls:0.0000(0.0000)  KD:0.4876(0.3200)  prec@1:87.50(71.50)  \n",
            "Epoch[11]:[720/1776] Time:0.8516 Data:0.0002  Cls:0.0000(0.0000)  KD:0.2999(0.3202)  prec@1:71.88(71.55)  \n",
            "Epoch[11]:[750/1776] Time:0.8553 Data:0.0002  Cls:0.0000(0.0000)  KD:0.4313(0.3198)  prec@1:81.25(71.48)  \n",
            "Epoch[11]:[780/1776] Time:0.8508 Data:0.0002  Cls:0.0000(0.0000)  KD:0.3237(0.3189)  prec@1:78.12(71.48)  \n",
            "Epoch[11]:[810/1776] Time:0.8552 Data:0.0002  Cls:0.0000(0.0000)  KD:0.4029(0.3193)  prec@1:56.25(71.51)  \n",
            "Epoch[11]:[840/1776] Time:0.8535 Data:0.0002  Cls:0.0000(0.0000)  KD:0.3104(0.3182)  prec@1:84.38(71.57)  \n",
            "Epoch[11]:[870/1776] Time:0.8507 Data:0.0002  Cls:0.0000(0.0000)  KD:0.2835(0.3183)  prec@1:75.00(71.61)  \n",
            "Epoch[11]:[900/1776] Time:0.8532 Data:0.0002  Cls:0.0000(0.0000)  KD:0.5471(0.3182)  prec@1:62.50(71.64)  \n",
            "Epoch[11]:[930/1776] Time:0.8523 Data:0.0002  Cls:0.0000(0.0000)  KD:0.4472(0.3173)  prec@1:71.88(71.59)  \n",
            "Epoch[11]:[960/1776] Time:0.8529 Data:0.0002  Cls:0.0000(0.0000)  KD:0.2871(0.3157)  prec@1:71.88(71.64)  \n",
            "Epoch[11]:[990/1776] Time:0.8526 Data:0.0002  Cls:0.0000(0.0000)  KD:0.2193(0.3160)  prec@1:78.12(71.64)  \n",
            "Epoch[11]:[1020/1776] Time:0.8520 Data:0.0002  Cls:0.0000(0.0000)  KD:0.2946(0.3168)  prec@1:87.50(71.65)  \n",
            "Epoch[11]:[1050/1776] Time:0.8519 Data:0.0002  Cls:0.0000(0.0000)  KD:0.2402(0.3160)  prec@1:65.62(71.63)  \n",
            "Epoch[11]:[1080/1776] Time:0.8500 Data:0.0002  Cls:0.0000(0.0000)  KD:0.2520(0.3165)  prec@1:65.62(71.63)  \n",
            "Epoch[11]:[1110/1776] Time:0.8515 Data:0.0002  Cls:0.0000(0.0000)  KD:0.4158(0.3169)  prec@1:65.62(71.60)  \n",
            "Epoch[11]:[1140/1776] Time:0.8516 Data:0.0002  Cls:0.0000(0.0000)  KD:0.1689(0.3176)  prec@1:68.75(71.56)  \n",
            "Epoch[11]:[1170/1776] Time:0.8526 Data:0.0002  Cls:0.0000(0.0000)  KD:0.3871(0.3168)  prec@1:78.12(71.54)  \n",
            "Epoch[11]:[1200/1776] Time:0.8546 Data:0.0002  Cls:0.0000(0.0000)  KD:0.3196(0.3180)  prec@1:75.00(71.51)  \n",
            "Epoch[11]:[1230/1776] Time:0.8514 Data:0.0002  Cls:0.0000(0.0000)  KD:0.2311(0.3174)  prec@1:68.75(71.50)  \n",
            "Epoch[11]:[1260/1776] Time:0.8566 Data:0.0002  Cls:0.0000(0.0000)  KD:0.1766(0.3168)  prec@1:68.75(71.54)  \n",
            "Epoch[11]:[1290/1776] Time:0.8538 Data:0.0002  Cls:0.0000(0.0000)  KD:0.2779(0.3167)  prec@1:78.12(71.57)  \n",
            "Epoch[11]:[1320/1776] Time:0.8505 Data:0.0002  Cls:0.0000(0.0000)  KD:0.3282(0.3166)  prec@1:75.00(71.61)  \n",
            "Epoch[11]:[1350/1776] Time:0.8536 Data:0.0002  Cls:0.0000(0.0000)  KD:0.1804(0.3163)  prec@1:71.88(71.59)  \n",
            "Epoch[11]:[1380/1776] Time:0.8507 Data:0.0002  Cls:0.0000(0.0000)  KD:0.3861(0.3164)  prec@1:68.75(71.63)  \n",
            "Epoch[11]:[1410/1776] Time:0.8664 Data:0.0002  Cls:0.0000(0.0000)  KD:0.4161(0.3163)  prec@1:68.75(71.63)  \n",
            "Epoch[11]:[1440/1776] Time:0.8527 Data:0.0002  Cls:0.0000(0.0000)  KD:0.1509(0.3161)  prec@1:78.12(71.68)  \n",
            "Epoch[11]:[1470/1776] Time:0.8561 Data:0.0002  Cls:0.0000(0.0000)  KD:0.4003(0.3166)  prec@1:71.88(71.65)  \n",
            "Epoch[11]:[1500/1776] Time:0.8507 Data:0.0002  Cls:0.0000(0.0000)  KD:0.4760(0.3166)  prec@1:65.62(71.66)  \n",
            "Epoch[11]:[1530/1776] Time:0.8525 Data:0.0002  Cls:0.0000(0.0000)  KD:0.3715(0.3166)  prec@1:62.50(71.64)  \n",
            "Epoch[11]:[1560/1776] Time:0.8508 Data:0.0002  Cls:0.0000(0.0000)  KD:0.3255(0.3171)  prec@1:75.00(71.64)  \n",
            "Epoch[11]:[1590/1776] Time:0.8525 Data:0.0002  Cls:0.0000(0.0000)  KD:0.3853(0.3170)  prec@1:78.12(71.65)  \n",
            "Epoch[11]:[1620/1776] Time:0.8499 Data:0.0002  Cls:0.0000(0.0000)  KD:0.3122(0.3176)  prec@1:75.00(71.63)  \n",
            "Epoch[11]:[1650/1776] Time:0.8538 Data:0.0001  Cls:0.0000(0.0000)  KD:0.4489(0.3173)  prec@1:81.25(71.62)  \n",
            "Epoch[11]:[1680/1776] Time:0.8507 Data:0.0002  Cls:0.0000(0.0000)  KD:0.2730(0.3168)  prec@1:71.88(71.59)  \n",
            "Epoch[11]:[1710/1776] Time:0.8506 Data:0.0002  Cls:0.0000(0.0000)  KD:0.3711(0.3167)  prec@1:68.75(71.56)  \n",
            "Epoch[11]:[1740/1776] Time:0.8524 Data:0.0002  Cls:0.0000(0.0000)  KD:0.2417(0.3168)  prec@1:78.12(71.57)  \n",
            "Epoch[11]:[1770/1776] Time:0.8510 Data:0.0001  Cls:0.0000(0.0000)  KD:0.2368(0.3164)  prec@1:65.62(71.61)  \n",
            "Epoch time: 1514s\n",
            "Epoch[12]:[030/1776] Time:0.8535 Data:0.0002  Cls:0.0000(0.0000)  KD:0.2425(0.3037)  prec@1:62.50(71.56)  \n",
            "Epoch[12]:[060/1776] Time:0.8533 Data:0.0002  Cls:0.0000(0.0000)  KD:0.5766(0.3014)  prec@1:78.12(72.76)  \n",
            "Epoch[12]:[090/1776] Time:0.8516 Data:0.0002  Cls:0.0000(0.0000)  KD:0.2329(0.3087)  prec@1:71.88(72.36)  \n",
            "Epoch[12]:[120/1776] Time:0.8509 Data:0.0002  Cls:0.0000(0.0000)  KD:0.2982(0.3101)  prec@1:71.88(72.08)  \n",
            "Epoch[12]:[150/1776] Time:0.8516 Data:0.0002  Cls:0.0000(0.0000)  KD:0.3289(0.3140)  prec@1:65.62(71.88)  \n",
            "Epoch[12]:[180/1776] Time:0.8518 Data:0.0002  Cls:0.0000(0.0000)  KD:0.4234(0.3152)  prec@1:81.25(71.91)  \n",
            "Epoch[12]:[210/1776] Time:0.8521 Data:0.0002  Cls:0.0000(0.0000)  KD:0.3915(0.3169)  prec@1:68.75(71.90)  \n",
            "Epoch[12]:[240/1776] Time:0.8508 Data:0.0002  Cls:0.0000(0.0000)  KD:0.5237(0.3157)  prec@1:75.00(71.81)  \n",
            "Epoch[12]:[270/1776] Time:0.8522 Data:0.0002  Cls:0.0000(0.0000)  KD:0.4836(0.3146)  prec@1:71.88(72.04)  \n",
            "Epoch[12]:[300/1776] Time:0.8519 Data:0.0002  Cls:0.0000(0.0000)  KD:0.3185(0.3148)  prec@1:75.00(71.98)  \n",
            "Epoch[12]:[330/1776] Time:0.8504 Data:0.0002  Cls:0.0000(0.0000)  KD:0.2939(0.3125)  prec@1:75.00(71.79)  \n",
            "Epoch[12]:[360/1776] Time:0.8512 Data:0.0001  Cls:0.0000(0.0000)  KD:0.2972(0.3113)  prec@1:62.50(71.95)  \n",
            "Epoch[12]:[390/1776] Time:0.8630 Data:0.0002  Cls:0.0000(0.0000)  KD:0.4259(0.3103)  prec@1:75.00(71.94)  \n",
            "Epoch[12]:[420/1776] Time:0.8577 Data:0.0002  Cls:0.0000(0.0000)  KD:0.4527(0.3111)  prec@1:81.25(71.66)  \n",
            "Epoch[12]:[450/1776] Time:0.8536 Data:0.0002  Cls:0.0000(0.0000)  KD:0.2340(0.3113)  prec@1:71.88(71.69)  \n",
            "Epoch[12]:[480/1776] Time:0.8555 Data:0.0002  Cls:0.0000(0.0000)  KD:0.1703(0.3107)  prec@1:71.88(71.78)  \n",
            "Epoch[12]:[510/1776] Time:0.8525 Data:0.0001  Cls:0.0000(0.0000)  KD:0.1318(0.3108)  prec@1:71.88(71.83)  \n",
            "Epoch[12]:[540/1776] Time:0.8527 Data:0.0002  Cls:0.0000(0.0000)  KD:0.4593(0.3119)  prec@1:71.88(71.85)  \n",
            "Epoch[12]:[570/1776] Time:0.8523 Data:0.0002  Cls:0.0000(0.0000)  KD:0.1890(0.3117)  prec@1:62.50(71.85)  \n",
            "Epoch[12]:[600/1776] Time:0.8498 Data:0.0002  Cls:0.0000(0.0000)  KD:0.3194(0.3111)  prec@1:65.62(71.79)  \n",
            "Epoch[12]:[630/1776] Time:0.8515 Data:0.0002  Cls:0.0000(0.0000)  KD:0.2218(0.3133)  prec@1:81.25(71.76)  \n",
            "Epoch[12]:[660/1776] Time:0.8562 Data:0.0002  Cls:0.0000(0.0000)  KD:0.3389(0.3125)  prec@1:71.88(71.54)  \n",
            "Epoch[12]:[690/1776] Time:0.8513 Data:0.0002  Cls:0.0000(0.0000)  KD:0.3712(0.3125)  prec@1:71.88(71.35)  \n",
            "Epoch[12]:[720/1776] Time:0.8546 Data:0.0001  Cls:0.0000(0.0000)  KD:0.2809(0.3132)  prec@1:78.12(71.38)  \n",
            "Epoch[12]:[750/1776] Time:0.8516 Data:0.0002  Cls:0.0000(0.0000)  KD:0.3456(0.3130)  prec@1:84.38(71.37)  \n",
            "Epoch[12]:[780/1776] Time:0.8566 Data:0.0001  Cls:0.0000(0.0000)  KD:0.4374(0.3139)  prec@1:68.75(71.33)  \n",
            "Epoch[12]:[810/1776] Time:0.8559 Data:0.0002  Cls:0.0000(0.0000)  KD:0.3431(0.3124)  prec@1:81.25(71.30)  \n",
            "Epoch[12]:[840/1776] Time:0.8539 Data:0.0002  Cls:0.0000(0.0000)  KD:0.3007(0.3120)  prec@1:62.50(71.25)  \n",
            "Epoch[12]:[870/1776] Time:0.8517 Data:0.0002  Cls:0.0000(0.0000)  KD:0.2969(0.3123)  prec@1:65.62(71.30)  \n",
            "Epoch[12]:[900/1776] Time:0.8493 Data:0.0002  Cls:0.0000(0.0000)  KD:0.2201(0.3119)  prec@1:65.62(71.26)  \n",
            "Epoch[12]:[930/1776] Time:0.8499 Data:0.0002  Cls:0.0000(0.0000)  KD:0.3327(0.3115)  prec@1:84.38(71.28)  \n",
            "Epoch[12]:[960/1776] Time:0.8490 Data:0.0002  Cls:0.0000(0.0000)  KD:0.3457(0.3109)  prec@1:78.12(71.29)  \n",
            "Epoch[12]:[990/1776] Time:0.8586 Data:0.0002  Cls:0.0000(0.0000)  KD:0.3872(0.3112)  prec@1:71.88(71.35)  \n",
            "Epoch[12]:[1020/1776] Time:0.8582 Data:0.0002  Cls:0.0000(0.0000)  KD:0.3786(0.3105)  prec@1:53.12(71.37)  \n",
            "Epoch[12]:[1050/1776] Time:0.8501 Data:0.0002  Cls:0.0000(0.0000)  KD:0.3801(0.3100)  prec@1:71.88(71.45)  \n",
            "Epoch[12]:[1080/1776] Time:0.8488 Data:0.0002  Cls:0.0000(0.0000)  KD:0.3946(0.3093)  prec@1:68.75(71.42)  \n",
            "Epoch[12]:[1110/1776] Time:0.8475 Data:0.0002  Cls:0.0000(0.0000)  KD:0.2186(0.3100)  prec@1:84.38(71.41)  \n",
            "Epoch[12]:[1140/1776] Time:0.8531 Data:0.0002  Cls:0.0000(0.0000)  KD:0.2702(0.3100)  prec@1:71.88(71.42)  \n",
            "Epoch[12]:[1170/1776] Time:0.8509 Data:0.0002  Cls:0.0000(0.0000)  KD:0.1654(0.3104)  prec@1:81.25(71.43)  \n",
            "Epoch[12]:[1200/1776] Time:0.8596 Data:0.0002  Cls:0.0000(0.0000)  KD:0.2413(0.3095)  prec@1:68.75(71.45)  \n",
            "Epoch[12]:[1230/1776] Time:0.8502 Data:0.0002  Cls:0.0000(0.0000)  KD:0.2866(0.3096)  prec@1:75.00(71.41)  \n",
            "Epoch[12]:[1260/1776] Time:0.8534 Data:0.0002  Cls:0.0000(0.0000)  KD:0.1459(0.3094)  prec@1:50.00(71.37)  \n",
            "Epoch[12]:[1290/1776] Time:0.8543 Data:0.0002  Cls:0.0000(0.0000)  KD:0.2902(0.3094)  prec@1:81.25(71.34)  \n",
            "Epoch[12]:[1320/1776] Time:0.8511 Data:0.0003  Cls:0.0000(0.0000)  KD:0.1905(0.3090)  prec@1:81.25(71.36)  \n",
            "Epoch[12]:[1350/1776] Time:0.8532 Data:0.0001  Cls:0.0000(0.0000)  KD:0.3904(0.3089)  prec@1:78.12(71.39)  \n",
            "Epoch[12]:[1380/1776] Time:0.8491 Data:0.0002  Cls:0.0000(0.0000)  KD:0.2031(0.3088)  prec@1:68.75(71.37)  \n",
            "Epoch[12]:[1410/1776] Time:0.8522 Data:0.0002  Cls:0.0000(0.0000)  KD:0.1394(0.3085)  prec@1:71.88(71.37)  \n",
            "Epoch[12]:[1440/1776] Time:0.8524 Data:0.0002  Cls:0.0000(0.0000)  KD:0.3455(0.3085)  prec@1:75.00(71.38)  \n",
            "Epoch[12]:[1470/1776] Time:0.8553 Data:0.0002  Cls:0.0000(0.0000)  KD:0.1801(0.3086)  prec@1:68.75(71.40)  \n",
            "Epoch[12]:[1500/1776] Time:0.8543 Data:0.0001  Cls:0.0000(0.0000)  KD:0.2627(0.3087)  prec@1:62.50(71.37)  \n",
            "Epoch[12]:[1530/1776] Time:0.8526 Data:0.0002  Cls:0.0000(0.0000)  KD:0.4261(0.3086)  prec@1:84.38(71.38)  \n",
            "Epoch[12]:[1560/1776] Time:0.8489 Data:0.0002  Cls:0.0000(0.0000)  KD:0.2438(0.3084)  prec@1:78.12(71.35)  \n",
            "Epoch[12]:[1590/1776] Time:0.8539 Data:0.0002  Cls:0.0000(0.0000)  KD:0.2410(0.3082)  prec@1:81.25(71.40)  \n",
            "Epoch[12]:[1620/1776] Time:0.8500 Data:0.0002  Cls:0.0000(0.0000)  KD:0.1403(0.3081)  prec@1:84.38(71.43)  \n",
            "Epoch[12]:[1650/1776] Time:0.8534 Data:0.0002  Cls:0.0000(0.0000)  KD:0.3409(0.3081)  prec@1:75.00(71.48)  \n",
            "Epoch[12]:[1680/1776] Time:0.8555 Data:0.0003  Cls:0.0000(0.0000)  KD:0.3998(0.3079)  prec@1:78.12(71.50)  \n",
            "Epoch[12]:[1710/1776] Time:0.8558 Data:0.0002  Cls:0.0000(0.0000)  KD:0.3073(0.3077)  prec@1:68.75(71.55)  \n",
            "Epoch[12]:[1740/1776] Time:0.8507 Data:0.0002  Cls:0.0000(0.0000)  KD:0.2375(0.3079)  prec@1:75.00(71.58)  \n",
            "Epoch[12]:[1770/1776] Time:0.8597 Data:0.0002  Cls:0.0000(0.0000)  KD:0.2257(0.3081)  prec@1:62.50(71.59)  \n",
            "Epoch time: 1515s\n",
            "Epoch[13]:[030/1776] Time:0.8461 Data:0.0002  Cls:0.0000(0.0000)  KD:0.2193(0.3094)  prec@1:84.38(71.56)  \n",
            "Epoch[13]:[060/1776] Time:0.8500 Data:0.0001  Cls:0.0000(0.0000)  KD:0.4374(0.3304)  prec@1:68.75(72.55)  \n",
            "Epoch[13]:[090/1776] Time:0.8521 Data:0.0002  Cls:0.0000(0.0000)  KD:0.3638(0.3204)  prec@1:75.00(72.50)  \n",
            "Epoch[13]:[120/1776] Time:0.8592 Data:0.0002  Cls:0.0000(0.0000)  KD:0.1446(0.3118)  prec@1:68.75(72.32)  \n",
            "Epoch[13]:[150/1776] Time:0.8503 Data:0.0002  Cls:0.0000(0.0000)  KD:0.3576(0.3096)  prec@1:62.50(72.02)  \n",
            "Epoch[13]:[180/1776] Time:0.8572 Data:0.0002  Cls:0.0000(0.0000)  KD:0.2992(0.3091)  prec@1:75.00(72.24)  \n",
            "Epoch[13]:[210/1776] Time:0.8515 Data:0.0001  Cls:0.0000(0.0000)  KD:0.3056(0.3076)  prec@1:62.50(72.28)  \n",
            "Epoch[13]:[240/1776] Time:0.8521 Data:0.0002  Cls:0.0000(0.0000)  KD:0.3281(0.3088)  prec@1:78.12(72.02)  \n",
            "Epoch[13]:[270/1776] Time:0.8476 Data:0.0002  Cls:0.0000(0.0000)  KD:0.2148(0.3079)  prec@1:71.88(72.28)  \n",
            "Epoch[13]:[300/1776] Time:0.8539 Data:0.0002  Cls:0.0000(0.0000)  KD:0.3117(0.3066)  prec@1:65.62(72.15)  \n",
            "Epoch[13]:[330/1776] Time:0.8520 Data:0.0002  Cls:0.0000(0.0000)  KD:0.3342(0.3077)  prec@1:81.25(72.18)  \n",
            "Epoch[13]:[360/1776] Time:0.8585 Data:0.0002  Cls:0.0000(0.0000)  KD:0.4211(0.3058)  prec@1:71.88(71.97)  \n",
            "Epoch[13]:[390/1776] Time:0.8536 Data:0.0002  Cls:0.0000(0.0000)  KD:0.1791(0.3053)  prec@1:68.75(72.00)  \n",
            "Epoch[13]:[420/1776] Time:0.8554 Data:0.0002  Cls:0.0000(0.0000)  KD:0.3312(0.3059)  prec@1:65.62(72.04)  \n",
            "Epoch[13]:[450/1776] Time:0.8585 Data:0.0002  Cls:0.0000(0.0000)  KD:0.2573(0.3060)  prec@1:71.88(72.03)  \n",
            "Epoch[13]:[480/1776] Time:0.8604 Data:0.0002  Cls:0.0000(0.0000)  KD:0.3279(0.3068)  prec@1:65.62(71.91)  \n",
            "Epoch[13]:[510/1776] Time:0.8527 Data:0.0002  Cls:0.0000(0.0000)  KD:0.3212(0.3074)  prec@1:65.62(71.86)  \n",
            "Epoch[13]:[540/1776] Time:0.8524 Data:0.0002  Cls:0.0000(0.0000)  KD:0.2693(0.3068)  prec@1:75.00(71.78)  \n",
            "Epoch[13]:[570/1776] Time:0.8483 Data:0.0002  Cls:0.0000(0.0000)  KD:0.1501(0.3064)  prec@1:71.88(71.85)  \n",
            "Epoch[13]:[600/1776] Time:0.8527 Data:0.0002  Cls:0.0000(0.0000)  KD:0.3181(0.3073)  prec@1:71.88(71.90)  \n",
            "Epoch[13]:[630/1776] Time:0.8652 Data:0.0002  Cls:0.0000(0.0000)  KD:0.2911(0.3074)  prec@1:81.25(71.92)  \n",
            "Epoch[13]:[660/1776] Time:0.8514 Data:0.0002  Cls:0.0000(0.0000)  KD:0.2811(0.3083)  prec@1:68.75(71.81)  \n",
            "Epoch[13]:[690/1776] Time:0.8501 Data:0.0002  Cls:0.0000(0.0000)  KD:0.4766(0.3088)  prec@1:62.50(71.88)  \n",
            "Epoch[13]:[720/1776] Time:0.8534 Data:0.0002  Cls:0.0000(0.0000)  KD:0.4005(0.3085)  prec@1:71.88(71.82)  \n",
            "Epoch[13]:[750/1776] Time:0.8470 Data:0.0002  Cls:0.0000(0.0000)  KD:0.4357(0.3088)  prec@1:75.00(71.76)  \n",
            "Epoch[13]:[780/1776] Time:0.8524 Data:0.0002  Cls:0.0000(0.0000)  KD:0.2581(0.3070)  prec@1:68.75(71.69)  \n",
            "Epoch[13]:[810/1776] Time:0.8571 Data:0.0002  Cls:0.0000(0.0000)  KD:0.2399(0.3082)  prec@1:65.62(71.77)  \n",
            "Epoch[13]:[840/1776] Time:0.8609 Data:0.0002  Cls:0.0000(0.0000)  KD:0.2193(0.3074)  prec@1:78.12(71.66)  \n",
            "Epoch[13]:[870/1776] Time:0.8520 Data:0.0002  Cls:0.0000(0.0000)  KD:0.4481(0.3069)  prec@1:56.25(71.63)  \n",
            "Epoch[13]:[900/1776] Time:0.8543 Data:0.0002  Cls:0.0000(0.0000)  KD:0.3033(0.3065)  prec@1:78.12(71.63)  \n",
            "Epoch[13]:[930/1776] Time:0.8540 Data:0.0002  Cls:0.0000(0.0000)  KD:0.2840(0.3070)  prec@1:71.88(71.59)  \n",
            "Epoch[13]:[960/1776] Time:0.8524 Data:0.0002  Cls:0.0000(0.0000)  KD:0.2623(0.3065)  prec@1:53.12(71.56)  \n",
            "Epoch[13]:[990/1776] Time:0.8527 Data:0.0002  Cls:0.0000(0.0000)  KD:0.5696(0.3065)  prec@1:71.88(71.50)  \n",
            "Epoch[13]:[1020/1776] Time:0.8523 Data:0.0001  Cls:0.0000(0.0000)  KD:0.3542(0.3062)  prec@1:75.00(71.49)  \n",
            "Epoch[13]:[1050/1776] Time:0.8531 Data:0.0002  Cls:0.0000(0.0000)  KD:0.2540(0.3054)  prec@1:78.12(71.48)  \n",
            "Epoch[13]:[1080/1776] Time:0.8563 Data:0.0002  Cls:0.0000(0.0000)  KD:0.3266(0.3067)  prec@1:56.25(71.44)  \n",
            "Epoch[13]:[1110/1776] Time:0.8522 Data:0.0002  Cls:0.0000(0.0000)  KD:0.3162(0.3064)  prec@1:71.88(71.44)  \n",
            "Epoch[13]:[1140/1776] Time:0.8540 Data:0.0002  Cls:0.0000(0.0000)  KD:0.1606(0.3051)  prec@1:68.75(71.48)  \n",
            "Epoch[13]:[1170/1776] Time:0.8507 Data:0.0002  Cls:0.0000(0.0000)  KD:0.3302(0.3051)  prec@1:56.25(71.40)  \n",
            "Epoch[13]:[1200/1776] Time:0.8518 Data:0.0002  Cls:0.0000(0.0000)  KD:0.1455(0.3052)  prec@1:78.12(71.45)  \n",
            "Epoch[13]:[1230/1776] Time:0.8521 Data:0.0001  Cls:0.0000(0.0000)  KD:0.1806(0.3053)  prec@1:62.50(71.48)  \n",
            "Epoch[13]:[1260/1776] Time:0.8514 Data:0.0001  Cls:0.0000(0.0000)  KD:0.3924(0.3054)  prec@1:78.12(71.49)  \n",
            "Epoch[13]:[1290/1776] Time:0.8526 Data:0.0002  Cls:0.0000(0.0000)  KD:0.3595(0.3058)  prec@1:62.50(71.51)  \n",
            "Epoch[13]:[1320/1776] Time:0.8511 Data:0.0002  Cls:0.0000(0.0000)  KD:0.2567(0.3066)  prec@1:84.38(71.54)  \n",
            "Epoch[13]:[1350/1776] Time:0.8598 Data:0.0002  Cls:0.0000(0.0000)  KD:0.3291(0.3067)  prec@1:53.12(71.53)  \n",
            "Epoch[13]:[1380/1776] Time:0.8550 Data:0.0001  Cls:0.0000(0.0000)  KD:0.2399(0.3067)  prec@1:87.50(71.57)  \n",
            "Epoch[13]:[1410/1776] Time:0.8528 Data:0.0002  Cls:0.0000(0.0000)  KD:0.3200(0.3069)  prec@1:65.62(71.61)  \n",
            "Epoch[13]:[1440/1776] Time:0.8524 Data:0.0002  Cls:0.0000(0.0000)  KD:0.3169(0.3065)  prec@1:75.00(71.61)  \n",
            "Epoch[13]:[1470/1776] Time:0.8557 Data:0.0003  Cls:0.0000(0.0000)  KD:0.5868(0.3068)  prec@1:65.62(71.60)  \n",
            "Epoch[13]:[1500/1776] Time:0.8530 Data:0.0002  Cls:0.0000(0.0000)  KD:0.3780(0.3069)  prec@1:75.00(71.60)  \n",
            "Epoch[13]:[1530/1776] Time:0.8517 Data:0.0002  Cls:0.0000(0.0000)  KD:0.4569(0.3068)  prec@1:68.75(71.62)  \n",
            "Epoch[13]:[1560/1776] Time:0.8546 Data:0.0002  Cls:0.0000(0.0000)  KD:0.1721(0.3072)  prec@1:78.12(71.60)  \n",
            "Epoch[13]:[1590/1776] Time:0.8562 Data:0.0002  Cls:0.0000(0.0000)  KD:0.1969(0.3071)  prec@1:84.38(71.62)  \n",
            "Epoch[13]:[1620/1776] Time:0.8516 Data:0.0002  Cls:0.0000(0.0000)  KD:0.2682(0.3068)  prec@1:62.50(71.60)  \n",
            "Epoch[13]:[1650/1776] Time:0.8530 Data:0.0002  Cls:0.0000(0.0000)  KD:0.4893(0.3067)  prec@1:68.75(71.57)  \n",
            "Epoch[13]:[1680/1776] Time:0.8567 Data:0.0002  Cls:0.0000(0.0000)  KD:0.2271(0.3067)  prec@1:65.62(71.58)  \n",
            "Epoch[13]:[1710/1776] Time:0.8493 Data:0.0002  Cls:0.0000(0.0000)  KD:0.3518(0.3063)  prec@1:81.25(71.58)  \n",
            "Epoch[13]:[1740/1776] Time:0.8496 Data:0.0002  Cls:0.0000(0.0000)  KD:0.1590(0.3063)  prec@1:87.50(71.57)  \n",
            "Epoch[13]:[1770/1776] Time:0.8526 Data:0.0001  Cls:0.0000(0.0000)  KD:0.4872(0.3063)  prec@1:71.88(71.58)  \n",
            "Epoch time: 1515s\n",
            "Epoch[14]:[030/1776] Time:0.8550 Data:0.0002  Cls:0.0000(0.0000)  KD:0.4325(0.2870)  prec@1:71.88(72.29)  \n",
            "Epoch[14]:[060/1776] Time:0.8517 Data:0.0002  Cls:0.0000(0.0000)  KD:0.2414(0.2790)  prec@1:56.25(72.08)  \n",
            "Epoch[14]:[090/1776] Time:0.8569 Data:0.0002  Cls:0.0000(0.0000)  KD:0.1881(0.2851)  prec@1:75.00(72.64)  \n",
            "Epoch[14]:[120/1776] Time:0.8599 Data:0.0002  Cls:0.0000(0.0000)  KD:0.5168(0.2947)  prec@1:81.25(71.54)  \n",
            "Epoch[14]:[150/1776] Time:0.8518 Data:0.0002  Cls:0.0000(0.0000)  KD:0.2244(0.3043)  prec@1:75.00(71.81)  \n",
            "Epoch[14]:[180/1776] Time:0.8535 Data:0.0002  Cls:0.0000(0.0000)  KD:0.4931(0.3095)  prec@1:75.00(71.37)  \n",
            "Epoch[14]:[210/1776] Time:0.8534 Data:0.0002  Cls:0.0000(0.0000)  KD:0.3239(0.3069)  prec@1:71.88(71.10)  \n",
            "Epoch[14]:[240/1776] Time:0.8485 Data:0.0002  Cls:0.0000(0.0000)  KD:0.2732(0.3055)  prec@1:75.00(71.30)  \n",
            "Epoch[14]:[270/1776] Time:0.8498 Data:0.0002  Cls:0.0000(0.0000)  KD:0.2631(0.3064)  prec@1:71.88(71.42)  \n",
            "Epoch[14]:[300/1776] Time:0.8556 Data:0.0002  Cls:0.0000(0.0000)  KD:0.2531(0.3062)  prec@1:78.12(71.27)  \n",
            "Epoch[14]:[330/1776] Time:0.8524 Data:0.0001  Cls:0.0000(0.0000)  KD:0.2200(0.3039)  prec@1:75.00(71.31)  \n",
            "Epoch[14]:[360/1776] Time:0.8588 Data:0.0002  Cls:0.0000(0.0000)  KD:0.4087(0.3039)  prec@1:84.38(71.20)  \n",
            "Epoch[14]:[390/1776] Time:0.8530 Data:0.0002  Cls:0.0000(0.0000)  KD:0.3328(0.3031)  prec@1:68.75(71.12)  \n",
            "Epoch[14]:[420/1776] Time:0.8528 Data:0.0001  Cls:0.0000(0.0000)  KD:0.2423(0.3039)  prec@1:68.75(71.35)  \n",
            "Epoch[14]:[450/1776] Time:0.8518 Data:0.0002  Cls:0.0000(0.0000)  KD:0.2471(0.3034)  prec@1:68.75(71.56)  \n",
            "Epoch[14]:[480/1776] Time:0.8516 Data:0.0002  Cls:0.0000(0.0000)  KD:0.1999(0.3026)  prec@1:75.00(71.60)  \n",
            "Epoch[14]:[510/1776] Time:0.8521 Data:0.0002  Cls:0.0000(0.0000)  KD:0.5172(0.3017)  prec@1:65.62(71.60)  \n",
            "Epoch[14]:[540/1776] Time:0.8527 Data:0.0002  Cls:0.0000(0.0000)  KD:0.4188(0.3012)  prec@1:65.62(71.55)  \n",
            "Epoch[14]:[570/1776] Time:0.8495 Data:0.0002  Cls:0.0000(0.0000)  KD:0.2389(0.3013)  prec@1:75.00(71.55)  \n",
            "Epoch[14]:[600/1776] Time:0.8534 Data:0.0002  Cls:0.0000(0.0000)  KD:0.2676(0.3021)  prec@1:59.38(71.54)  \n",
            "Epoch[14]:[630/1776] Time:0.8515 Data:0.0002  Cls:0.0000(0.0000)  KD:0.2647(0.3018)  prec@1:84.38(71.47)  \n",
            "Epoch[14]:[660/1776] Time:0.8505 Data:0.0002  Cls:0.0000(0.0000)  KD:0.3910(0.3024)  prec@1:78.12(71.56)  \n",
            "Epoch[14]:[690/1776] Time:0.8543 Data:0.0002  Cls:0.0000(0.0000)  KD:0.2409(0.3018)  prec@1:65.62(71.54)  \n",
            "Epoch[14]:[720/1776] Time:0.8524 Data:0.0002  Cls:0.0000(0.0000)  KD:0.3749(0.3013)  prec@1:87.50(71.60)  \n",
            "Epoch[14]:[750/1776] Time:0.8508 Data:0.0001  Cls:0.0000(0.0000)  KD:0.3071(0.3006)  prec@1:68.75(71.61)  \n",
            "Epoch[14]:[780/1776] Time:0.8536 Data:0.0002  Cls:0.0000(0.0000)  KD:0.2042(0.3010)  prec@1:62.50(71.69)  \n",
            "Epoch[14]:[810/1776] Time:0.8510 Data:0.0002  Cls:0.0000(0.0000)  KD:0.1844(0.3006)  prec@1:75.00(71.66)  \n",
            "Epoch[14]:[840/1776] Time:0.8480 Data:0.0002  Cls:0.0000(0.0000)  KD:0.3157(0.3006)  prec@1:59.38(71.60)  \n",
            "Epoch[14]:[870/1776] Time:0.8512 Data:0.0002  Cls:0.0000(0.0000)  KD:0.3216(0.3020)  prec@1:81.25(71.68)  \n",
            "Epoch[14]:[900/1776] Time:0.8512 Data:0.0002  Cls:0.0000(0.0000)  KD:0.1350(0.3028)  prec@1:53.12(71.74)  \n",
            "Epoch[14]:[930/1776] Time:0.8525 Data:0.0002  Cls:0.0000(0.0000)  KD:0.2359(0.3028)  prec@1:68.75(71.65)  \n",
            "Epoch[14]:[960/1776] Time:0.8517 Data:0.0002  Cls:0.0000(0.0000)  KD:0.2683(0.3020)  prec@1:68.75(71.62)  \n",
            "Epoch[14]:[990/1776] Time:0.8499 Data:0.0002  Cls:0.0000(0.0000)  KD:0.3012(0.3015)  prec@1:78.12(71.61)  \n",
            "Epoch[14]:[1020/1776] Time:0.8546 Data:0.0002  Cls:0.0000(0.0000)  KD:0.2907(0.3026)  prec@1:75.00(71.63)  \n",
            "Epoch[14]:[1050/1776] Time:0.8518 Data:0.0002  Cls:0.0000(0.0000)  KD:0.2742(0.3025)  prec@1:68.75(71.61)  \n",
            "Epoch[14]:[1080/1776] Time:0.8513 Data:0.0002  Cls:0.0000(0.0000)  KD:0.2491(0.3027)  prec@1:71.88(71.59)  \n",
            "Epoch[14]:[1110/1776] Time:0.8523 Data:0.0002  Cls:0.0000(0.0000)  KD:0.2288(0.3033)  prec@1:90.62(71.66)  \n",
            "Epoch[14]:[1140/1776] Time:0.8512 Data:0.0002  Cls:0.0000(0.0000)  KD:0.4346(0.3035)  prec@1:87.50(71.72)  \n",
            "Epoch[14]:[1170/1776] Time:0.8554 Data:0.0002  Cls:0.0000(0.0000)  KD:0.4571(0.3042)  prec@1:75.00(71.69)  \n",
            "Epoch[14]:[1200/1776] Time:0.8506 Data:0.0002  Cls:0.0000(0.0000)  KD:0.2018(0.3039)  prec@1:65.62(71.61)  \n",
            "Epoch[14]:[1230/1776] Time:0.8523 Data:0.0002  Cls:0.0000(0.0000)  KD:0.1581(0.3035)  prec@1:75.00(71.67)  \n",
            "Epoch[14]:[1260/1776] Time:0.8526 Data:0.0001  Cls:0.0000(0.0000)  KD:0.2361(0.3028)  prec@1:81.25(71.64)  \n",
            "Epoch[14]:[1290/1776] Time:0.8488 Data:0.0002  Cls:0.0000(0.0000)  KD:0.1349(0.3024)  prec@1:75.00(71.62)  \n",
            "Epoch[14]:[1320/1776] Time:0.8550 Data:0.0002  Cls:0.0000(0.0000)  KD:0.2325(0.3022)  prec@1:71.88(71.58)  \n",
            "Epoch[14]:[1350/1776] Time:0.8530 Data:0.0002  Cls:0.0000(0.0000)  KD:0.2444(0.3022)  prec@1:68.75(71.54)  \n",
            "Epoch[14]:[1380/1776] Time:0.8503 Data:0.0002  Cls:0.0000(0.0000)  KD:0.3179(0.3018)  prec@1:71.88(71.54)  \n",
            "Epoch[14]:[1410/1776] Time:0.8549 Data:0.0002  Cls:0.0000(0.0000)  KD:0.3583(0.3019)  prec@1:62.50(71.55)  \n",
            "Epoch[14]:[1440/1776] Time:0.8516 Data:0.0002  Cls:0.0000(0.0000)  KD:0.2727(0.3017)  prec@1:65.62(71.53)  \n",
            "Epoch[14]:[1470/1776] Time:0.8548 Data:0.0004  Cls:0.0000(0.0000)  KD:0.2424(0.3017)  prec@1:68.75(71.60)  \n",
            "Epoch[14]:[1500/1776] Time:0.8556 Data:0.0002  Cls:0.0000(0.0000)  KD:0.4322(0.3016)  prec@1:59.38(71.61)  \n",
            "Epoch[14]:[1530/1776] Time:0.8524 Data:0.0002  Cls:0.0000(0.0000)  KD:0.2727(0.3025)  prec@1:62.50(71.60)  \n",
            "Epoch[14]:[1560/1776] Time:0.8520 Data:0.0001  Cls:0.0000(0.0000)  KD:0.1839(0.3029)  prec@1:75.00(71.66)  \n",
            "Epoch[14]:[1590/1776] Time:0.8510 Data:0.0002  Cls:0.0000(0.0000)  KD:0.1508(0.3032)  prec@1:71.88(71.67)  \n",
            "Epoch[14]:[1620/1776] Time:0.8500 Data:0.0002  Cls:0.0000(0.0000)  KD:0.3117(0.3032)  prec@1:68.75(71.71)  \n",
            "Epoch[14]:[1650/1776] Time:0.8477 Data:0.0002  Cls:0.0000(0.0000)  KD:0.2148(0.3029)  prec@1:62.50(71.71)  \n",
            "Epoch[14]:[1680/1776] Time:0.8557 Data:0.0001  Cls:0.0000(0.0000)  KD:0.3956(0.3027)  prec@1:71.88(71.67)  \n",
            "Epoch[14]:[1710/1776] Time:0.8565 Data:0.0002  Cls:0.0000(0.0000)  KD:0.3331(0.3025)  prec@1:71.88(71.63)  \n",
            "Epoch[14]:[1740/1776] Time:0.8510 Data:0.0002  Cls:0.0000(0.0000)  KD:0.2319(0.3024)  prec@1:62.50(71.61)  \n",
            "Epoch[14]:[1770/1776] Time:0.8526 Data:0.0002  Cls:0.0000(0.0000)  KD:0.3641(0.3020)  prec@1:71.88(71.59)  \n",
            "Epoch time: 1515s\n",
            "Epoch[15]:[030/1776] Time:0.8579 Data:0.0002  Cls:0.0000(0.0000)  KD:0.3359(0.3052)  prec@1:81.25(71.67)  \n",
            "Epoch[15]:[060/1776] Time:0.8563 Data:0.0002  Cls:0.0000(0.0000)  KD:0.2734(0.3081)  prec@1:71.88(72.50)  \n",
            "Epoch[15]:[090/1776] Time:0.8593 Data:0.0002  Cls:0.0000(0.0000)  KD:0.2605(0.3023)  prec@1:65.62(72.22)  \n",
            "Epoch[15]:[120/1776] Time:0.8528 Data:0.0002  Cls:0.0000(0.0000)  KD:0.2589(0.3030)  prec@1:62.50(72.08)  \n",
            "Epoch[15]:[150/1776] Time:0.8516 Data:0.0002  Cls:0.0000(0.0000)  KD:0.2754(0.3043)  prec@1:68.75(71.79)  \n",
            "Epoch[15]:[180/1776] Time:0.8529 Data:0.0002  Cls:0.0000(0.0000)  KD:0.1970(0.3025)  prec@1:81.25(71.60)  \n",
            "Epoch[15]:[210/1776] Time:0.8512 Data:0.0002  Cls:0.0000(0.0000)  KD:0.1883(0.3001)  prec@1:71.88(71.64)  \n",
            "Epoch[15]:[240/1776] Time:0.8534 Data:0.0002  Cls:0.0000(0.0000)  KD:0.3793(0.2993)  prec@1:78.12(71.56)  \n",
            "Epoch[15]:[270/1776] Time:0.8461 Data:0.0002  Cls:0.0000(0.0000)  KD:0.3570(0.2993)  prec@1:65.62(71.26)  \n",
            "Epoch[15]:[300/1776] Time:0.8521 Data:0.0002  Cls:0.0000(0.0000)  KD:0.3526(0.2971)  prec@1:78.12(71.35)  \n",
            "Epoch[15]:[330/1776] Time:0.8520 Data:0.0002  Cls:0.0000(0.0000)  KD:0.2110(0.2957)  prec@1:78.12(71.35)  \n",
            "Epoch[15]:[360/1776] Time:0.8517 Data:0.0002  Cls:0.0000(0.0000)  KD:0.3112(0.2974)  prec@1:59.38(71.29)  \n",
            "Epoch[15]:[390/1776] Time:0.8531 Data:0.0002  Cls:0.0000(0.0000)  KD:0.3657(0.2970)  prec@1:81.25(71.14)  \n",
            "Epoch[15]:[420/1776] Time:0.8513 Data:0.0001  Cls:0.0000(0.0000)  KD:0.2959(0.2975)  prec@1:62.50(71.06)  \n",
            "Epoch[15]:[450/1776] Time:0.8548 Data:0.0002  Cls:0.0000(0.0000)  KD:0.2614(0.2982)  prec@1:68.75(71.10)  \n",
            "Epoch[15]:[480/1776] Time:0.8519 Data:0.0002  Cls:0.0000(0.0000)  KD:0.3501(0.2989)  prec@1:71.88(71.18)  \n",
            "Epoch[15]:[510/1776] Time:0.8520 Data:0.0002  Cls:0.0000(0.0000)  KD:0.2241(0.2995)  prec@1:62.50(71.15)  \n",
            "Epoch[15]:[540/1776] Time:0.8511 Data:0.0001  Cls:0.0000(0.0000)  KD:0.4553(0.2992)  prec@1:78.12(71.15)  \n",
            "Epoch[15]:[570/1776] Time:0.8464 Data:0.0002  Cls:0.0000(0.0000)  KD:0.2311(0.2989)  prec@1:71.88(71.24)  \n",
            "Epoch[15]:[600/1776] Time:0.8555 Data:0.0002  Cls:0.0000(0.0000)  KD:0.3669(0.2997)  prec@1:78.12(71.22)  \n",
            "Epoch[15]:[630/1776] Time:0.8517 Data:0.0002  Cls:0.0000(0.0000)  KD:0.4011(0.2992)  prec@1:68.75(71.20)  \n",
            "Epoch[15]:[660/1776] Time:0.8590 Data:0.0002  Cls:0.0000(0.0000)  KD:0.1752(0.2995)  prec@1:68.75(71.27)  \n",
            "Epoch[15]:[690/1776] Time:0.8484 Data:0.0002  Cls:0.0000(0.0000)  KD:0.3742(0.3008)  prec@1:65.62(71.35)  \n",
            "Epoch[15]:[720/1776] Time:0.8538 Data:0.0001  Cls:0.0000(0.0000)  KD:0.2284(0.2988)  prec@1:68.75(71.29)  \n",
            "Epoch[15]:[750/1776] Time:0.8535 Data:0.0002  Cls:0.0000(0.0000)  KD:0.3800(0.2989)  prec@1:65.62(71.19)  \n",
            "Epoch[15]:[780/1776] Time:0.8521 Data:0.0002  Cls:0.0000(0.0000)  KD:0.2084(0.2982)  prec@1:71.88(71.20)  \n",
            "Epoch[15]:[810/1776] Time:0.8541 Data:0.0002  Cls:0.0000(0.0000)  KD:0.3862(0.3006)  prec@1:71.88(71.25)  \n",
            "Epoch[15]:[840/1776] Time:0.8534 Data:0.0002  Cls:0.0000(0.0000)  KD:0.1931(0.3007)  prec@1:62.50(71.23)  \n",
            "Epoch[15]:[870/1776] Time:0.8502 Data:0.0002  Cls:0.0000(0.0000)  KD:0.2327(0.3014)  prec@1:71.88(71.29)  \n",
            "Epoch[15]:[900/1776] Time:0.8503 Data:0.0002  Cls:0.0000(0.0000)  KD:0.2583(0.3020)  prec@1:75.00(71.28)  \n",
            "Epoch[15]:[930/1776] Time:0.8538 Data:0.0002  Cls:0.0000(0.0000)  KD:0.2561(0.3025)  prec@1:71.88(71.33)  \n",
            "Epoch[15]:[960/1776] Time:0.8511 Data:0.0002  Cls:0.0000(0.0000)  KD:0.1612(0.3024)  prec@1:75.00(71.27)  \n",
            "Epoch[15]:[990/1776] Time:0.8549 Data:0.0001  Cls:0.0000(0.0000)  KD:0.3210(0.3018)  prec@1:50.00(71.27)  \n",
            "Epoch[15]:[1020/1776] Time:0.8520 Data:0.0002  Cls:0.0000(0.0000)  KD:0.3445(0.3017)  prec@1:68.75(71.30)  \n",
            "Epoch[15]:[1050/1776] Time:0.8521 Data:0.0002  Cls:0.0000(0.0000)  KD:0.3165(0.3026)  prec@1:81.25(71.39)  \n",
            "Epoch[15]:[1080/1776] Time:0.8526 Data:0.0002  Cls:0.0000(0.0000)  KD:0.3156(0.3027)  prec@1:78.12(71.41)  \n",
            "Epoch[15]:[1110/1776] Time:0.8516 Data:0.0002  Cls:0.0000(0.0000)  KD:0.1368(0.3019)  prec@1:71.88(71.48)  \n",
            "Epoch[15]:[1140/1776] Time:0.8533 Data:0.0002  Cls:0.0000(0.0000)  KD:0.3531(0.3012)  prec@1:78.12(71.49)  \n",
            "Epoch[15]:[1170/1776] Time:0.8507 Data:0.0002  Cls:0.0000(0.0000)  KD:0.1522(0.3011)  prec@1:65.62(71.44)  \n",
            "Epoch[15]:[1200/1776] Time:0.8549 Data:0.0002  Cls:0.0000(0.0000)  KD:0.2241(0.3013)  prec@1:62.50(71.43)  \n",
            "Epoch[15]:[1230/1776] Time:0.8537 Data:0.0002  Cls:0.0000(0.0000)  KD:0.3143(0.3016)  prec@1:75.00(71.42)  \n",
            "Epoch[15]:[1260/1776] Time:0.8535 Data:0.0002  Cls:0.0000(0.0000)  KD:0.3686(0.3016)  prec@1:71.88(71.47)  \n",
            "Epoch[15]:[1290/1776] Time:0.8498 Data:0.0002  Cls:0.0000(0.0000)  KD:0.1947(0.3012)  prec@1:78.12(71.42)  \n",
            "Epoch[15]:[1320/1776] Time:0.8535 Data:0.0031  Cls:0.0000(0.0000)  KD:0.2343(0.3015)  prec@1:75.00(71.42)  \n",
            "Epoch[15]:[1350/1776] Time:0.8554 Data:0.0002  Cls:0.0000(0.0000)  KD:0.3252(0.3013)  prec@1:65.62(71.45)  \n",
            "Epoch[15]:[1380/1776] Time:0.8498 Data:0.0002  Cls:0.0000(0.0000)  KD:0.2309(0.3015)  prec@1:75.00(71.49)  \n",
            "Epoch[15]:[1410/1776] Time:0.8519 Data:0.0002  Cls:0.0000(0.0000)  KD:0.2449(0.3015)  prec@1:75.00(71.46)  \n",
            "Epoch[15]:[1440/1776] Time:0.8447 Data:0.0003  Cls:0.0000(0.0000)  KD:0.3051(0.3010)  prec@1:75.00(71.51)  \n",
            "Epoch[15]:[1470/1776] Time:0.8531 Data:0.0002  Cls:0.0000(0.0000)  KD:0.2400(0.3013)  prec@1:78.12(71.51)  \n",
            "Epoch[15]:[1500/1776] Time:0.8515 Data:0.0002  Cls:0.0000(0.0000)  KD:0.2420(0.3007)  prec@1:53.12(71.51)  \n",
            "Epoch[15]:[1530/1776] Time:0.8524 Data:0.0002  Cls:0.0000(0.0000)  KD:0.2036(0.3000)  prec@1:71.88(71.52)  \n",
            "Epoch[15]:[1560/1776] Time:0.8567 Data:0.0002  Cls:0.0000(0.0000)  KD:0.4265(0.2998)  prec@1:75.00(71.56)  \n",
            "Epoch[15]:[1590/1776] Time:0.8525 Data:0.0002  Cls:0.0000(0.0000)  KD:0.3063(0.2990)  prec@1:65.62(71.54)  \n",
            "Epoch[15]:[1620/1776] Time:0.8550 Data:0.0002  Cls:0.0000(0.0000)  KD:0.3250(0.2986)  prec@1:78.12(71.54)  \n",
            "Epoch[15]:[1650/1776] Time:0.8514 Data:0.0002  Cls:0.0000(0.0000)  KD:0.2546(0.2988)  prec@1:78.12(71.59)  \n",
            "Epoch[15]:[1680/1776] Time:0.8474 Data:0.0002  Cls:0.0000(0.0000)  KD:0.2562(0.2993)  prec@1:78.12(71.59)  \n",
            "Epoch[15]:[1710/1776] Time:0.8549 Data:0.0035  Cls:0.0000(0.0000)  KD:0.2559(0.2991)  prec@1:68.75(71.61)  \n",
            "Epoch[15]:[1740/1776] Time:0.8541 Data:0.0002  Cls:0.0000(0.0000)  KD:0.7683(0.2996)  prec@1:71.88(71.61)  \n",
            "Epoch[15]:[1770/1776] Time:0.8493 Data:0.0002  Cls:0.0000(0.0000)  KD:0.5064(0.2999)  prec@1:81.25(71.61)  \n",
            "Epoch time: 1514s\n",
            "Epoch[16]:[030/1776] Time:0.8581 Data:0.0002  Cls:0.0000(0.0000)  KD:0.2751(0.2988)  prec@1:81.25(71.25)  \n",
            "Epoch[16]:[060/1776] Time:0.8540 Data:0.0002  Cls:0.0000(0.0000)  KD:0.1527(0.2924)  prec@1:90.62(71.35)  \n",
            "Epoch[16]:[090/1776] Time:0.8565 Data:0.0002  Cls:0.0000(0.0000)  KD:0.2856(0.2903)  prec@1:75.00(70.94)  \n",
            "Epoch[16]:[120/1776] Time:0.8528 Data:0.0002  Cls:0.0000(0.0000)  KD:0.5330(0.2935)  prec@1:75.00(71.90)  \n",
            "Epoch[16]:[150/1776] Time:0.8512 Data:0.0002  Cls:0.0000(0.0000)  KD:0.2765(0.2971)  prec@1:59.38(71.44)  \n",
            "Epoch[16]:[180/1776] Time:0.8516 Data:0.0002  Cls:0.0000(0.0000)  KD:0.2181(0.2957)  prec@1:78.12(71.61)  \n",
            "Epoch[16]:[210/1776] Time:0.8536 Data:0.0001  Cls:0.0000(0.0000)  KD:0.2336(0.2927)  prec@1:75.00(71.82)  \n",
            "Epoch[16]:[240/1776] Time:0.8472 Data:0.0002  Cls:0.0000(0.0000)  KD:0.4060(0.2920)  prec@1:71.88(71.99)  \n",
            "Epoch[16]:[270/1776] Time:0.8502 Data:0.0002  Cls:0.0000(0.0000)  KD:0.3122(0.2932)  prec@1:75.00(71.91)  \n",
            "Epoch[16]:[300/1776] Time:0.8535 Data:0.0001  Cls:0.0000(0.0000)  KD:0.2483(0.2945)  prec@1:81.25(71.69)  \n",
            "Epoch[16]:[330/1776] Time:0.8564 Data:0.0002  Cls:0.0000(0.0000)  KD:0.3155(0.2919)  prec@1:75.00(71.54)  \n",
            "Epoch[16]:[360/1776] Time:0.8526 Data:0.0002  Cls:0.0000(0.0000)  KD:0.3057(0.2920)  prec@1:65.62(71.59)  \n",
            "Epoch[16]:[390/1776] Time:0.8524 Data:0.0002  Cls:0.0000(0.0000)  KD:0.2526(0.2915)  prec@1:75.00(71.76)  \n",
            "Epoch[16]:[420/1776] Time:0.8552 Data:0.0002  Cls:0.0000(0.0000)  KD:0.3110(0.2937)  prec@1:53.12(71.72)  \n",
            "Epoch[16]:[450/1776] Time:0.8572 Data:0.0002  Cls:0.0000(0.0000)  KD:0.2216(0.2925)  prec@1:53.12(71.73)  \n",
            "Epoch[16]:[480/1776] Time:0.8547 Data:0.0001  Cls:0.0000(0.0000)  KD:0.2604(0.2921)  prec@1:65.62(71.76)  \n",
            "Epoch[16]:[510/1776] Time:0.8525 Data:0.0002  Cls:0.0000(0.0000)  KD:0.2316(0.2914)  prec@1:56.25(71.65)  \n",
            "Epoch[16]:[540/1776] Time:0.8528 Data:0.0002  Cls:0.0000(0.0000)  KD:0.2130(0.2895)  prec@1:62.50(71.66)  \n",
            "Epoch[16]:[570/1776] Time:0.8516 Data:0.0002  Cls:0.0000(0.0000)  KD:0.1962(0.2893)  prec@1:62.50(71.67)  \n",
            "Epoch[16]:[600/1776] Time:0.8443 Data:0.0002  Cls:0.0000(0.0000)  KD:0.2223(0.2886)  prec@1:75.00(71.75)  \n",
            "Epoch[16]:[630/1776] Time:0.8524 Data:0.0002  Cls:0.0000(0.0000)  KD:0.2577(0.2888)  prec@1:65.62(71.70)  \n",
            "Epoch[16]:[660/1776] Time:0.8528 Data:0.0002  Cls:0.0000(0.0000)  KD:0.1688(0.2896)  prec@1:62.50(71.65)  \n",
            "Epoch[16]:[690/1776] Time:0.8529 Data:0.0001  Cls:0.0000(0.0000)  KD:0.3891(0.2895)  prec@1:78.12(71.69)  \n",
            "Epoch[16]:[720/1776] Time:0.8522 Data:0.0002  Cls:0.0000(0.0000)  KD:0.1998(0.2895)  prec@1:50.00(71.71)  \n",
            "Epoch[16]:[750/1776] Time:0.8614 Data:0.0002  Cls:0.0000(0.0000)  KD:0.3041(0.2904)  prec@1:65.62(71.65)  \n",
            "Epoch[16]:[780/1776] Time:0.8574 Data:0.0002  Cls:0.0000(0.0000)  KD:0.4113(0.2897)  prec@1:84.38(71.63)  \n",
            "Epoch[16]:[810/1776] Time:0.8518 Data:0.0002  Cls:0.0000(0.0000)  KD:0.3222(0.2888)  prec@1:68.75(71.61)  \n",
            "Epoch[16]:[840/1776] Time:0.8527 Data:0.0001  Cls:0.0000(0.0000)  KD:0.1735(0.2895)  prec@1:75.00(71.55)  \n",
            "Epoch[16]:[870/1776] Time:0.8575 Data:0.0002  Cls:0.0000(0.0000)  KD:0.2648(0.2895)  prec@1:71.88(71.51)  \n",
            "Epoch[16]:[900/1776] Time:0.8537 Data:0.0001  Cls:0.0000(0.0000)  KD:0.1749(0.2896)  prec@1:71.88(71.51)  \n",
            "Epoch[16]:[930/1776] Time:0.8499 Data:0.0002  Cls:0.0000(0.0000)  KD:0.4019(0.2902)  prec@1:71.88(71.52)  \n",
            "Epoch[16]:[960/1776] Time:0.8528 Data:0.0002  Cls:0.0000(0.0000)  KD:0.3551(0.2906)  prec@1:81.25(71.56)  \n",
            "Epoch[16]:[990/1776] Time:0.8520 Data:0.0002  Cls:0.0000(0.0000)  KD:0.3303(0.2911)  prec@1:71.88(71.55)  \n",
            "Epoch[16]:[1020/1776] Time:0.8479 Data:0.0002  Cls:0.0000(0.0000)  KD:0.4074(0.2919)  prec@1:59.38(71.59)  \n",
            "Epoch[16]:[1050/1776] Time:0.8448 Data:0.0002  Cls:0.0000(0.0000)  KD:0.3225(0.2919)  prec@1:62.50(71.61)  \n",
            "Epoch[16]:[1080/1776] Time:0.8533 Data:0.0001  Cls:0.0000(0.0000)  KD:0.3613(0.2927)  prec@1:62.50(71.64)  \n",
            "Epoch[16]:[1110/1776] Time:0.8499 Data:0.0002  Cls:0.0000(0.0000)  KD:0.3768(0.2925)  prec@1:59.38(71.64)  \n",
            "Epoch[16]:[1140/1776] Time:0.8542 Data:0.0002  Cls:0.0000(0.0000)  KD:0.3249(0.2926)  prec@1:68.75(71.62)  \n",
            "Epoch[16]:[1170/1776] Time:0.8509 Data:0.0002  Cls:0.0000(0.0000)  KD:0.3071(0.2924)  prec@1:65.62(71.58)  \n",
            "Epoch[16]:[1200/1776] Time:0.8532 Data:0.0002  Cls:0.0000(0.0000)  KD:0.3231(0.2926)  prec@1:65.62(71.55)  \n",
            "Epoch[16]:[1230/1776] Time:0.8514 Data:0.0002  Cls:0.0000(0.0000)  KD:0.2408(0.2920)  prec@1:71.88(71.51)  \n",
            "Epoch[16]:[1260/1776] Time:0.8515 Data:0.0002  Cls:0.0000(0.0000)  KD:0.3851(0.2920)  prec@1:81.25(71.51)  \n",
            "Epoch[16]:[1290/1776] Time:0.8512 Data:0.0002  Cls:0.0000(0.0000)  KD:0.2780(0.2920)  prec@1:71.88(71.54)  \n",
            "Epoch[16]:[1320/1776] Time:0.8503 Data:0.0002  Cls:0.0000(0.0000)  KD:0.2536(0.2916)  prec@1:59.38(71.51)  \n",
            "Epoch[16]:[1350/1776] Time:0.8510 Data:0.0003  Cls:0.0000(0.0000)  KD:0.1825(0.2909)  prec@1:65.62(71.52)  \n",
            "Epoch[16]:[1380/1776] Time:0.8531 Data:0.0002  Cls:0.0000(0.0000)  KD:0.3237(0.2906)  prec@1:75.00(71.51)  \n",
            "Epoch[16]:[1410/1776] Time:0.8584 Data:0.0001  Cls:0.0000(0.0000)  KD:0.3683(0.2910)  prec@1:68.75(71.51)  \n",
            "Epoch[16]:[1440/1776] Time:0.8497 Data:0.0002  Cls:0.0000(0.0000)  KD:0.3630(0.2908)  prec@1:84.38(71.58)  \n",
            "Epoch[16]:[1470/1776] Time:0.8540 Data:0.0002  Cls:0.0000(0.0000)  KD:0.2856(0.2909)  prec@1:65.62(71.57)  \n",
            "Epoch[16]:[1500/1776] Time:0.8536 Data:0.0001  Cls:0.0000(0.0000)  KD:0.2433(0.2907)  prec@1:68.75(71.57)  \n",
            "Epoch[16]:[1530/1776] Time:0.8506 Data:0.0002  Cls:0.0000(0.0000)  KD:0.2076(0.2905)  prec@1:75.00(71.56)  \n",
            "Epoch[16]:[1560/1776] Time:0.8524 Data:0.0002  Cls:0.0000(0.0000)  KD:0.3414(0.2903)  prec@1:78.12(71.54)  \n",
            "Epoch[16]:[1590/1776] Time:0.8575 Data:0.0002  Cls:0.0000(0.0000)  KD:0.4630(0.2911)  prec@1:87.50(71.53)  \n",
            "Epoch[16]:[1620/1776] Time:0.8500 Data:0.0002  Cls:0.0000(0.0000)  KD:0.4285(0.2910)  prec@1:84.38(71.55)  \n",
            "Epoch[16]:[1650/1776] Time:0.8559 Data:0.0001  Cls:0.0000(0.0000)  KD:0.1237(0.2909)  prec@1:59.38(71.58)  \n",
            "Epoch[16]:[1680/1776] Time:0.8525 Data:0.0001  Cls:0.0000(0.0000)  KD:0.2962(0.2912)  prec@1:65.62(71.53)  \n",
            "Epoch[16]:[1710/1776] Time:0.8500 Data:0.0002  Cls:0.0000(0.0000)  KD:0.4501(0.2911)  prec@1:71.88(71.55)  \n",
            "Epoch[16]:[1740/1776] Time:0.8488 Data:0.0002  Cls:0.0000(0.0000)  KD:0.3765(0.2911)  prec@1:75.00(71.57)  \n",
            "Epoch[16]:[1770/1776] Time:0.8587 Data:0.0002  Cls:0.0000(0.0000)  KD:0.2855(0.2915)  prec@1:84.38(71.60)  \n",
            "Epoch time: 1514s\n",
            "Epoch[17]:[030/1776] Time:0.8515 Data:0.0001  Cls:0.0000(0.0000)  KD:0.2312(0.2977)  prec@1:68.75(70.00)  \n",
            "Epoch[17]:[060/1776] Time:0.8498 Data:0.0002  Cls:0.0000(0.0000)  KD:0.2004(0.2989)  prec@1:81.25(70.36)  \n",
            "Epoch[17]:[090/1776] Time:0.8513 Data:0.0002  Cls:0.0000(0.0000)  KD:0.3493(0.2986)  prec@1:65.62(70.21)  \n",
            "Epoch[17]:[120/1776] Time:0.8569 Data:0.0001  Cls:0.0000(0.0000)  KD:0.3604(0.3012)  prec@1:65.62(70.42)  \n",
            "Epoch[17]:[150/1776] Time:0.8574 Data:0.0002  Cls:0.0000(0.0000)  KD:0.1901(0.2971)  prec@1:75.00(70.77)  \n",
            "Epoch[17]:[180/1776] Time:0.8531 Data:0.0002  Cls:0.0000(0.0000)  KD:0.3186(0.2941)  prec@1:78.12(71.28)  \n",
            "Epoch[17]:[210/1776] Time:0.8520 Data:0.0002  Cls:0.0000(0.0000)  KD:0.4037(0.2946)  prec@1:62.50(71.50)  \n",
            "Epoch[17]:[240/1776] Time:0.8570 Data:0.0001  Cls:0.0000(0.0000)  KD:0.3930(0.2956)  prec@1:62.50(71.42)  \n",
            "Epoch[17]:[270/1776] Time:0.8509 Data:0.0002  Cls:0.0000(0.0000)  KD:0.1678(0.2993)  prec@1:65.62(71.49)  \n",
            "Epoch[17]:[300/1776] Time:0.8521 Data:0.0002  Cls:0.0000(0.0000)  KD:0.4074(0.2972)  prec@1:78.12(71.56)  \n",
            "Epoch[17]:[330/1776] Time:0.8592 Data:0.0001  Cls:0.0000(0.0000)  KD:0.4143(0.2959)  prec@1:71.88(71.51)  \n",
            "Epoch[17]:[360/1776] Time:0.8554 Data:0.0002  Cls:0.0000(0.0000)  KD:0.3479(0.2961)  prec@1:68.75(71.76)  \n",
            "Epoch[17]:[390/1776] Time:0.8461 Data:0.0002  Cls:0.0000(0.0000)  KD:0.4277(0.2979)  prec@1:65.62(71.67)  \n",
            "Epoch[17]:[420/1776] Time:0.8529 Data:0.0002  Cls:0.0000(0.0000)  KD:0.2364(0.2989)  prec@1:75.00(71.83)  \n",
            "Epoch[17]:[450/1776] Time:0.8540 Data:0.0002  Cls:0.0000(0.0000)  KD:0.2758(0.3014)  prec@1:75.00(71.81)  \n",
            "Epoch[17]:[480/1776] Time:0.8522 Data:0.0002  Cls:0.0000(0.0000)  KD:0.2535(0.3036)  prec@1:75.00(71.71)  \n",
            "Epoch[17]:[510/1776] Time:0.8516 Data:0.0002  Cls:0.0000(0.0000)  KD:0.3894(0.3040)  prec@1:81.25(71.76)  \n",
            "Epoch[17]:[540/1776] Time:0.8585 Data:0.0002  Cls:0.0000(0.0000)  KD:0.1894(0.3030)  prec@1:59.38(71.65)  \n",
            "Epoch[17]:[570/1776] Time:0.8517 Data:0.0002  Cls:0.0000(0.0000)  KD:0.3508(0.3017)  prec@1:87.50(71.69)  \n",
            "Epoch[17]:[600/1776] Time:0.8519 Data:0.0002  Cls:0.0000(0.0000)  KD:0.3233(0.3012)  prec@1:78.12(71.71)  \n",
            "Epoch[17]:[630/1776] Time:0.8517 Data:0.0002  Cls:0.0000(0.0000)  KD:0.1105(0.3010)  prec@1:68.75(71.61)  \n",
            "Epoch[17]:[660/1776] Time:0.8518 Data:0.0002  Cls:0.0000(0.0000)  KD:0.2725(0.3001)  prec@1:65.62(71.66)  \n",
            "Epoch[17]:[690/1776] Time:0.8521 Data:0.0002  Cls:0.0000(0.0000)  KD:0.2433(0.2992)  prec@1:78.12(71.67)  \n",
            "Epoch[17]:[720/1776] Time:0.8519 Data:0.0002  Cls:0.0000(0.0000)  KD:0.3190(0.2989)  prec@1:78.12(71.66)  \n",
            "Epoch[17]:[750/1776] Time:0.8533 Data:0.0002  Cls:0.0000(0.0000)  KD:0.3460(0.2986)  prec@1:68.75(71.60)  \n",
            "Epoch[17]:[780/1776] Time:0.8541 Data:0.0002  Cls:0.0000(0.0000)  KD:0.3275(0.2988)  prec@1:75.00(71.61)  \n",
            "Epoch[17]:[810/1776] Time:0.8507 Data:0.0002  Cls:0.0000(0.0000)  KD:0.3559(0.2994)  prec@1:75.00(71.72)  \n",
            "Epoch[17]:[840/1776] Time:0.8505 Data:0.0002  Cls:0.0000(0.0000)  KD:0.3594(0.2984)  prec@1:81.25(71.70)  \n",
            "Epoch[17]:[870/1776] Time:0.8502 Data:0.0002  Cls:0.0000(0.0000)  KD:0.2900(0.2983)  prec@1:50.00(71.60)  \n",
            "Epoch[17]:[900/1776] Time:0.8499 Data:0.0002  Cls:0.0000(0.0000)  KD:0.3136(0.2977)  prec@1:71.88(71.62)  \n",
            "Epoch[17]:[930/1776] Time:0.8543 Data:0.0001  Cls:0.0000(0.0000)  KD:0.3505(0.2979)  prec@1:75.00(71.62)  \n",
            "Epoch[17]:[960/1776] Time:0.8599 Data:0.0002  Cls:0.0000(0.0000)  KD:0.1770(0.2971)  prec@1:75.00(71.65)  \n",
            "Epoch[17]:[990/1776] Time:0.8541 Data:0.0002  Cls:0.0000(0.0000)  KD:0.2555(0.2970)  prec@1:87.50(71.59)  \n",
            "Epoch[17]:[1020/1776] Time:0.8505 Data:0.0002  Cls:0.0000(0.0000)  KD:0.3625(0.2968)  prec@1:71.88(71.61)  \n",
            "Epoch[17]:[1050/1776] Time:0.8538 Data:0.0001  Cls:0.0000(0.0000)  KD:0.2079(0.2962)  prec@1:81.25(71.69)  \n",
            "Epoch[17]:[1080/1776] Time:0.8577 Data:0.0002  Cls:0.0000(0.0000)  KD:0.3999(0.2961)  prec@1:71.88(71.65)  \n",
            "Epoch[17]:[1110/1776] Time:0.8541 Data:0.0002  Cls:0.0000(0.0000)  KD:0.1937(0.2958)  prec@1:65.62(71.73)  \n",
            "Epoch[17]:[1140/1776] Time:0.8532 Data:0.0002  Cls:0.0000(0.0000)  KD:0.3793(0.2955)  prec@1:71.88(71.74)  \n",
            "Epoch[17]:[1170/1776] Time:0.8506 Data:0.0002  Cls:0.0000(0.0000)  KD:0.4690(0.2953)  prec@1:87.50(71.71)  \n",
            "Epoch[17]:[1200/1776] Time:0.8506 Data:0.0002  Cls:0.0000(0.0000)  KD:0.2932(0.2949)  prec@1:71.88(71.77)  \n",
            "Epoch[17]:[1230/1776] Time:0.8542 Data:0.0001  Cls:0.0000(0.0000)  KD:0.2588(0.2948)  prec@1:75.00(71.76)  \n",
            "Epoch[17]:[1260/1776] Time:0.8566 Data:0.0002  Cls:0.0000(0.0000)  KD:0.4299(0.2946)  prec@1:78.12(71.77)  \n",
            "Epoch[17]:[1290/1776] Time:0.8507 Data:0.0002  Cls:0.0000(0.0000)  KD:0.3427(0.2942)  prec@1:59.38(71.73)  \n",
            "Epoch[17]:[1320/1776] Time:0.8530 Data:0.0002  Cls:0.0000(0.0000)  KD:0.1728(0.2931)  prec@1:65.62(71.72)  \n",
            "Epoch[17]:[1350/1776] Time:0.8550 Data:0.0002  Cls:0.0000(0.0000)  KD:0.3468(0.2926)  prec@1:81.25(71.68)  \n",
            "Epoch[17]:[1380/1776] Time:0.8513 Data:0.0002  Cls:0.0000(0.0000)  KD:0.2183(0.2933)  prec@1:62.50(71.69)  \n",
            "Epoch[17]:[1410/1776] Time:0.8526 Data:0.0002  Cls:0.0000(0.0000)  KD:0.3896(0.2930)  prec@1:68.75(71.66)  \n",
            "Epoch[17]:[1440/1776] Time:0.8487 Data:0.0002  Cls:0.0000(0.0000)  KD:0.2873(0.2932)  prec@1:62.50(71.66)  \n",
            "Epoch[17]:[1470/1776] Time:0.8506 Data:0.0001  Cls:0.0000(0.0000)  KD:0.1734(0.2933)  prec@1:59.38(71.64)  \n",
            "Epoch[17]:[1500/1776] Time:0.8520 Data:0.0002  Cls:0.0000(0.0000)  KD:0.1695(0.2936)  prec@1:75.00(71.72)  \n",
            "Epoch[17]:[1530/1776] Time:0.8515 Data:0.0002  Cls:0.0000(0.0000)  KD:0.1463(0.2936)  prec@1:71.88(71.72)  \n",
            "Epoch[17]:[1560/1776] Time:0.8548 Data:0.0002  Cls:0.0000(0.0000)  KD:0.2745(0.2937)  prec@1:68.75(71.71)  \n",
            "Epoch[17]:[1590/1776] Time:0.8507 Data:0.0002  Cls:0.0000(0.0000)  KD:0.1532(0.2938)  prec@1:68.75(71.67)  \n",
            "Epoch[17]:[1620/1776] Time:0.8576 Data:0.0002  Cls:0.0000(0.0000)  KD:0.2495(0.2935)  prec@1:75.00(71.65)  \n",
            "Epoch[17]:[1650/1776] Time:0.8530 Data:0.0002  Cls:0.0000(0.0000)  KD:0.2045(0.2935)  prec@1:50.00(71.63)  \n",
            "Epoch[17]:[1680/1776] Time:0.8532 Data:0.0002  Cls:0.0000(0.0000)  KD:0.2715(0.2937)  prec@1:71.88(71.63)  \n",
            "Epoch[17]:[1710/1776] Time:0.8488 Data:0.0002  Cls:0.0000(0.0000)  KD:0.3531(0.2937)  prec@1:90.62(71.65)  \n",
            "Epoch[17]:[1740/1776] Time:0.8513 Data:0.0001  Cls:0.0000(0.0000)  KD:0.4190(0.2939)  prec@1:71.88(71.62)  \n",
            "Epoch[17]:[1770/1776] Time:0.8491 Data:0.0002  Cls:0.0000(0.0000)  KD:0.2096(0.2935)  prec@1:71.88(71.59)  \n",
            "Epoch time: 1514s\n",
            "Epoch[18]:[030/1776] Time:0.8528 Data:0.0002  Cls:0.0000(0.0000)  KD:0.4014(0.2983)  prec@1:68.75(70.52)  \n",
            "Epoch[18]:[060/1776] Time:0.8517 Data:0.0001  Cls:0.0000(0.0000)  KD:0.5031(0.3011)  prec@1:68.75(70.62)  \n",
            "Epoch[18]:[090/1776] Time:0.8599 Data:0.0001  Cls:0.0000(0.0000)  KD:0.2459(0.2943)  prec@1:68.75(71.53)  \n",
            "Epoch[18]:[120/1776] Time:0.8552 Data:0.0001  Cls:0.0000(0.0000)  KD:0.2337(0.2916)  prec@1:81.25(72.01)  \n",
            "Epoch[18]:[150/1776] Time:0.8507 Data:0.0002  Cls:0.0000(0.0000)  KD:0.4093(0.2913)  prec@1:62.50(72.29)  \n",
            "Epoch[18]:[180/1776] Time:0.8566 Data:0.0002  Cls:0.0000(0.0000)  KD:0.2624(0.2877)  prec@1:68.75(72.27)  \n",
            "Epoch[18]:[210/1776] Time:0.8553 Data:0.0002  Cls:0.0000(0.0000)  KD:0.2567(0.2825)  prec@1:68.75(72.37)  \n",
            "Epoch[18]:[240/1776] Time:0.8517 Data:0.0002  Cls:0.0000(0.0000)  KD:0.2944(0.2859)  prec@1:71.88(72.10)  \n",
            "Epoch[18]:[270/1776] Time:0.8510 Data:0.0002  Cls:0.0000(0.0000)  KD:0.2175(0.2843)  prec@1:78.12(71.99)  \n",
            "Epoch[18]:[300/1776] Time:0.8500 Data:0.0008  Cls:0.0000(0.0000)  KD:0.4474(0.2876)  prec@1:68.75(72.07)  \n",
            "Epoch[18]:[330/1776] Time:0.8529 Data:0.0001  Cls:0.0000(0.0000)  KD:0.2460(0.2858)  prec@1:59.38(71.83)  \n",
            "Epoch[18]:[360/1776] Time:0.8529 Data:0.0002  Cls:0.0000(0.0000)  KD:0.4340(0.2887)  prec@1:62.50(71.85)  \n",
            "Epoch[18]:[390/1776] Time:0.8501 Data:0.0002  Cls:0.0000(0.0000)  KD:0.5044(0.2905)  prec@1:68.75(71.70)  \n",
            "Epoch[18]:[420/1776] Time:0.8554 Data:0.0002  Cls:0.0000(0.0000)  KD:0.1913(0.2910)  prec@1:71.88(71.78)  \n",
            "Epoch[18]:[450/1776] Time:0.8453 Data:0.0002  Cls:0.0000(0.0000)  KD:0.4064(0.2911)  prec@1:71.88(71.91)  \n",
            "Epoch[18]:[480/1776] Time:0.8529 Data:0.0001  Cls:0.0000(0.0000)  KD:0.1963(0.2887)  prec@1:71.88(72.02)  \n",
            "Epoch[18]:[510/1776] Time:0.8515 Data:0.0002  Cls:0.0000(0.0000)  KD:0.1837(0.2874)  prec@1:65.62(71.84)  \n",
            "Epoch[18]:[540/1776] Time:0.8528 Data:0.0002  Cls:0.0000(0.0000)  KD:0.2613(0.2875)  prec@1:71.88(71.80)  \n",
            "Epoch[18]:[570/1776] Time:0.8516 Data:0.0002  Cls:0.0000(0.0000)  KD:0.3646(0.2875)  prec@1:81.25(71.80)  \n",
            "Epoch[18]:[600/1776] Time:0.8489 Data:0.0002  Cls:0.0000(0.0000)  KD:0.3215(0.2871)  prec@1:68.75(71.78)  \n",
            "Epoch[18]:[630/1776] Time:0.8553 Data:0.0002  Cls:0.0000(0.0000)  KD:0.3479(0.2878)  prec@1:71.88(71.84)  \n",
            "Epoch[18]:[660/1776] Time:0.8512 Data:0.0002  Cls:0.0000(0.0000)  KD:0.4530(0.2885)  prec@1:71.88(71.80)  \n",
            "Epoch[18]:[690/1776] Time:0.8518 Data:0.0002  Cls:0.0000(0.0000)  KD:0.2189(0.2885)  prec@1:71.88(71.68)  \n",
            "Epoch[18]:[720/1776] Time:0.8521 Data:0.0002  Cls:0.0000(0.0000)  KD:0.2639(0.2886)  prec@1:71.88(71.64)  \n",
            "Epoch[18]:[750/1776] Time:0.8530 Data:0.0002  Cls:0.0000(0.0000)  KD:0.3644(0.2896)  prec@1:84.38(71.69)  \n",
            "Epoch[18]:[780/1776] Time:0.8522 Data:0.0002  Cls:0.0000(0.0000)  KD:0.2588(0.2906)  prec@1:75.00(71.69)  \n",
            "Epoch[18]:[810/1776] Time:0.8517 Data:0.0002  Cls:0.0000(0.0000)  KD:0.2621(0.2902)  prec@1:71.88(71.68)  \n",
            "Epoch[18]:[840/1776] Time:0.8488 Data:0.0002  Cls:0.0000(0.0000)  KD:0.3542(0.2902)  prec@1:68.75(71.65)  \n",
            "Epoch[18]:[870/1776] Time:0.8527 Data:0.0002  Cls:0.0000(0.0000)  KD:0.2120(0.2897)  prec@1:59.38(71.61)  \n",
            "Epoch[18]:[900/1776] Time:0.8542 Data:0.0002  Cls:0.0000(0.0000)  KD:0.2172(0.2897)  prec@1:62.50(71.64)  \n",
            "Epoch[18]:[930/1776] Time:0.8586 Data:0.0001  Cls:0.0000(0.0000)  KD:0.3026(0.2891)  prec@1:75.00(71.60)  \n",
            "Epoch[18]:[960/1776] Time:0.8523 Data:0.0002  Cls:0.0000(0.0000)  KD:0.2661(0.2886)  prec@1:78.12(71.58)  \n",
            "Epoch[18]:[990/1776] Time:0.8508 Data:0.0002  Cls:0.0000(0.0000)  KD:0.1401(0.2880)  prec@1:84.38(71.61)  \n",
            "Epoch[18]:[1020/1776] Time:0.8505 Data:0.0002  Cls:0.0000(0.0000)  KD:0.4089(0.2876)  prec@1:62.50(71.56)  \n",
            "Epoch[18]:[1050/1776] Time:0.8527 Data:0.0001  Cls:0.0000(0.0000)  KD:0.3481(0.2879)  prec@1:81.25(71.62)  \n",
            "Epoch[18]:[1080/1776] Time:0.8515 Data:0.0002  Cls:0.0000(0.0000)  KD:0.1497(0.2888)  prec@1:68.75(71.59)  \n",
            "Epoch[18]:[1110/1776] Time:0.8523 Data:0.0002  Cls:0.0000(0.0000)  KD:0.3746(0.2890)  prec@1:78.12(71.58)  \n",
            "Epoch[18]:[1140/1776] Time:0.8531 Data:0.0002  Cls:0.0000(0.0000)  KD:0.1984(0.2885)  prec@1:68.75(71.57)  \n",
            "Epoch[18]:[1170/1776] Time:0.8519 Data:0.0001  Cls:0.0000(0.0000)  KD:0.3140(0.2882)  prec@1:71.88(71.49)  \n",
            "Epoch[18]:[1200/1776] Time:0.8535 Data:0.0002  Cls:0.0000(0.0000)  KD:0.3039(0.2874)  prec@1:71.88(71.49)  \n",
            "Epoch[18]:[1230/1776] Time:0.8499 Data:0.0002  Cls:0.0000(0.0000)  KD:0.2269(0.2874)  prec@1:75.00(71.49)  \n",
            "Epoch[18]:[1260/1776] Time:0.8527 Data:0.0001  Cls:0.0000(0.0000)  KD:0.4215(0.2877)  prec@1:65.62(71.43)  \n",
            "Epoch[18]:[1290/1776] Time:0.8495 Data:0.0001  Cls:0.0000(0.0000)  KD:0.2936(0.2883)  prec@1:62.50(71.42)  \n",
            "Epoch[18]:[1320/1776] Time:0.8510 Data:0.0002  Cls:0.0000(0.0000)  KD:0.2740(0.2882)  prec@1:75.00(71.41)  \n",
            "Epoch[18]:[1350/1776] Time:0.8525 Data:0.0002  Cls:0.0000(0.0000)  KD:0.2000(0.2882)  prec@1:62.50(71.44)  \n",
            "Epoch[18]:[1380/1776] Time:0.8546 Data:0.0002  Cls:0.0000(0.0000)  KD:0.3142(0.2889)  prec@1:75.00(71.46)  \n",
            "Epoch[18]:[1410/1776] Time:0.8530 Data:0.0001  Cls:0.0000(0.0000)  KD:0.2122(0.2887)  prec@1:81.25(71.46)  \n",
            "Epoch[18]:[1440/1776] Time:0.8515 Data:0.0002  Cls:0.0000(0.0000)  KD:0.2579(0.2883)  prec@1:75.00(71.48)  \n",
            "Epoch[18]:[1470/1776] Time:0.8518 Data:0.0002  Cls:0.0000(0.0000)  KD:0.3030(0.2884)  prec@1:71.88(71.50)  \n",
            "Epoch[18]:[1500/1776] Time:0.8499 Data:0.0002  Cls:0.0000(0.0000)  KD:0.3133(0.2881)  prec@1:62.50(71.48)  \n",
            "Epoch[18]:[1530/1776] Time:0.8526 Data:0.0001  Cls:0.0000(0.0000)  KD:0.3020(0.2883)  prec@1:84.38(71.47)  \n",
            "Epoch[18]:[1560/1776] Time:0.8495 Data:0.0002  Cls:0.0000(0.0000)  KD:0.2437(0.2885)  prec@1:75.00(71.51)  \n",
            "Epoch[18]:[1590/1776] Time:0.8524 Data:0.0002  Cls:0.0000(0.0000)  KD:0.1464(0.2882)  prec@1:78.12(71.54)  \n",
            "Epoch[18]:[1620/1776] Time:0.8452 Data:0.0002  Cls:0.0000(0.0000)  KD:0.2485(0.2881)  prec@1:56.25(71.55)  \n",
            "Epoch[18]:[1650/1776] Time:0.8530 Data:0.0002  Cls:0.0000(0.0000)  KD:0.2174(0.2878)  prec@1:62.50(71.59)  \n",
            "Epoch[18]:[1680/1776] Time:0.8521 Data:0.0002  Cls:0.0000(0.0000)  KD:0.2896(0.2880)  prec@1:65.62(71.60)  \n",
            "Epoch[18]:[1710/1776] Time:0.8520 Data:0.0002  Cls:0.0000(0.0000)  KD:0.4795(0.2880)  prec@1:81.25(71.61)  \n",
            "Epoch[18]:[1740/1776] Time:0.8502 Data:0.0002  Cls:0.0000(0.0000)  KD:0.2533(0.2879)  prec@1:78.12(71.62)  \n",
            "Epoch[18]:[1770/1776] Time:0.8523 Data:0.0001  Cls:0.0000(0.0000)  KD:0.3211(0.2882)  prec@1:68.75(71.61)  \n",
            "Epoch time: 1514s\n",
            "Epoch[19]:[030/1776] Time:0.8515 Data:0.0002  Cls:0.0000(0.0000)  KD:0.3551(0.2831)  prec@1:62.50(70.42)  \n",
            "Epoch[19]:[060/1776] Time:0.8546 Data:0.0002  Cls:0.0000(0.0000)  KD:0.4334(0.2880)  prec@1:90.62(71.15)  \n",
            "Epoch[19]:[090/1776] Time:0.8507 Data:0.0002  Cls:0.0000(0.0000)  KD:0.2397(0.2980)  prec@1:53.12(71.18)  \n",
            "Epoch[19]:[120/1776] Time:0.8520 Data:0.0001  Cls:0.0000(0.0000)  KD:0.2884(0.3083)  prec@1:68.75(71.09)  \n",
            "Epoch[19]:[150/1776] Time:0.8551 Data:0.0002  Cls:0.0000(0.0000)  KD:0.2482(0.3037)  prec@1:62.50(70.83)  \n",
            "Epoch[19]:[180/1776] Time:0.8517 Data:0.0002  Cls:0.0000(0.0000)  KD:0.2884(0.3003)  prec@1:62.50(70.64)  \n",
            "Epoch[19]:[210/1776] Time:0.8517 Data:0.0002  Cls:0.0000(0.0000)  KD:0.3492(0.2955)  prec@1:75.00(70.62)  \n",
            "Epoch[19]:[240/1776] Time:0.8543 Data:0.0001  Cls:0.0000(0.0000)  KD:0.0911(0.2940)  prec@1:68.75(70.62)  \n",
            "Epoch[19]:[270/1776] Time:0.8551 Data:0.0001  Cls:0.0000(0.0000)  KD:0.1371(0.2919)  prec@1:68.75(70.78)  \n",
            "Epoch[19]:[300/1776] Time:0.8535 Data:0.0002  Cls:0.0000(0.0000)  KD:0.5439(0.2900)  prec@1:68.75(70.68)  \n",
            "Epoch[19]:[330/1776] Time:0.8494 Data:0.0002  Cls:0.0000(0.0000)  KD:0.1894(0.2921)  prec@1:71.88(70.60)  \n",
            "Epoch[19]:[360/1776] Time:0.8524 Data:0.0002  Cls:0.0000(0.0000)  KD:0.3177(0.2934)  prec@1:75.00(70.77)  \n",
            "Epoch[19]:[390/1776] Time:0.8525 Data:0.0001  Cls:0.0000(0.0000)  KD:0.3463(0.2929)  prec@1:71.88(70.91)  \n",
            "Epoch[19]:[420/1776] Time:0.8534 Data:0.0002  Cls:0.0000(0.0000)  KD:0.2811(0.2914)  prec@1:65.62(70.91)  \n",
            "Epoch[19]:[450/1776] Time:0.8412 Data:0.0002  Cls:0.0000(0.0000)  KD:0.3805(0.2917)  prec@1:71.88(70.97)  \n",
            "Epoch[19]:[480/1776] Time:0.8534 Data:0.0002  Cls:0.0000(0.0000)  KD:0.4131(0.2921)  prec@1:75.00(71.01)  \n",
            "Epoch[19]:[510/1776] Time:0.8546 Data:0.0001  Cls:0.0000(0.0000)  KD:0.2517(0.2920)  prec@1:71.88(70.95)  \n",
            "Epoch[19]:[540/1776] Time:0.8536 Data:0.0002  Cls:0.0000(0.0000)  KD:0.2520(0.2921)  prec@1:56.25(70.84)  \n",
            "Epoch[19]:[570/1776] Time:0.8518 Data:0.0002  Cls:0.0000(0.0000)  KD:0.6040(0.2940)  prec@1:81.25(70.87)  \n",
            "Epoch[19]:[600/1776] Time:0.8539 Data:0.0002  Cls:0.0000(0.0000)  KD:0.4326(0.2953)  prec@1:75.00(70.99)  \n",
            "Epoch[19]:[630/1776] Time:0.8502 Data:0.0001  Cls:0.0000(0.0000)  KD:0.1519(0.2936)  prec@1:59.38(70.99)  \n",
            "Epoch[19]:[660/1776] Time:0.8460 Data:0.0002  Cls:0.0000(0.0000)  KD:0.3267(0.2920)  prec@1:78.12(71.11)  \n",
            "Epoch[19]:[690/1776] Time:0.8486 Data:0.0002  Cls:0.0000(0.0000)  KD:0.1768(0.2923)  prec@1:75.00(71.16)  \n",
            "Epoch[19]:[720/1776] Time:0.8520 Data:0.0002  Cls:0.0000(0.0000)  KD:0.1990(0.2918)  prec@1:68.75(71.16)  \n",
            "Epoch[19]:[750/1776] Time:0.8514 Data:0.0002  Cls:0.0000(0.0000)  KD:0.3191(0.2914)  prec@1:75.00(71.15)  \n",
            "Epoch[19]:[780/1776] Time:0.8534 Data:0.0002  Cls:0.0000(0.0000)  KD:0.2181(0.2913)  prec@1:71.88(71.19)  \n",
            "Epoch[19]:[810/1776] Time:0.8515 Data:0.0002  Cls:0.0000(0.0000)  KD:0.2860(0.2916)  prec@1:71.88(71.20)  \n",
            "Epoch[19]:[840/1776] Time:0.8514 Data:0.0002  Cls:0.0000(0.0000)  KD:0.3270(0.2909)  prec@1:71.88(71.17)  \n",
            "Epoch[19]:[870/1776] Time:0.8470 Data:0.0002  Cls:0.0000(0.0000)  KD:0.2315(0.2914)  prec@1:75.00(71.28)  \n",
            "Epoch[19]:[900/1776] Time:0.8504 Data:0.0002  Cls:0.0000(0.0000)  KD:0.2824(0.2920)  prec@1:75.00(71.27)  \n",
            "Epoch[19]:[930/1776] Time:0.8525 Data:0.0002  Cls:0.0000(0.0000)  KD:0.3443(0.2914)  prec@1:71.88(71.33)  \n",
            "Epoch[19]:[960/1776] Time:0.8514 Data:0.0002  Cls:0.0000(0.0000)  KD:0.3892(0.2917)  prec@1:62.50(71.37)  \n",
            "Epoch[19]:[990/1776] Time:0.8499 Data:0.0001  Cls:0.0000(0.0000)  KD:0.2510(0.2920)  prec@1:71.88(71.43)  \n",
            "Epoch[19]:[1020/1776] Time:0.8528 Data:0.0002  Cls:0.0000(0.0000)  KD:0.3985(0.2918)  prec@1:68.75(71.41)  \n",
            "Epoch[19]:[1050/1776] Time:0.8528 Data:0.0002  Cls:0.0000(0.0000)  KD:0.2394(0.2918)  prec@1:75.00(71.36)  \n",
            "Epoch[19]:[1080/1776] Time:0.8600 Data:0.0002  Cls:0.0000(0.0000)  KD:0.3681(0.2911)  prec@1:68.75(71.33)  \n",
            "Epoch[19]:[1110/1776] Time:0.8510 Data:0.0002  Cls:0.0000(0.0000)  KD:0.2128(0.2906)  prec@1:81.25(71.30)  \n",
            "Epoch[19]:[1140/1776] Time:0.8511 Data:0.0002  Cls:0.0000(0.0000)  KD:0.6328(0.2908)  prec@1:78.12(71.28)  \n",
            "Epoch[19]:[1170/1776] Time:0.8518 Data:0.0002  Cls:0.0000(0.0000)  KD:0.3430(0.2910)  prec@1:68.75(71.31)  \n",
            "Epoch[19]:[1200/1776] Time:0.8525 Data:0.0002  Cls:0.0000(0.0000)  KD:0.2520(0.2911)  prec@1:71.88(71.40)  \n",
            "Epoch[19]:[1230/1776] Time:0.8526 Data:0.0002  Cls:0.0000(0.0000)  KD:0.2888(0.2902)  prec@1:65.62(71.38)  \n",
            "Epoch[19]:[1260/1776] Time:0.8517 Data:0.0002  Cls:0.0000(0.0000)  KD:0.2376(0.2899)  prec@1:81.25(71.38)  \n",
            "Epoch[19]:[1290/1776] Time:0.8483 Data:0.0001  Cls:0.0000(0.0000)  KD:0.4094(0.2903)  prec@1:81.25(71.41)  \n",
            "Epoch[19]:[1320/1776] Time:0.8543 Data:0.0002  Cls:0.0000(0.0000)  KD:0.3253(0.2901)  prec@1:78.12(71.47)  \n",
            "Epoch[19]:[1350/1776] Time:0.8575 Data:0.0002  Cls:0.0000(0.0000)  KD:0.2445(0.2897)  prec@1:78.12(71.46)  \n",
            "Epoch[19]:[1380/1776] Time:0.8501 Data:0.0002  Cls:0.0000(0.0000)  KD:0.1826(0.2896)  prec@1:56.25(71.49)  \n",
            "Epoch[19]:[1410/1776] Time:0.8617 Data:0.0002  Cls:0.0000(0.0000)  KD:0.2566(0.2898)  prec@1:71.88(71.52)  \n",
            "Epoch[19]:[1440/1776] Time:0.8507 Data:0.0002  Cls:0.0000(0.0000)  KD:0.1150(0.2897)  prec@1:65.62(71.50)  \n",
            "Epoch[19]:[1470/1776] Time:0.8498 Data:0.0002  Cls:0.0000(0.0000)  KD:0.2144(0.2896)  prec@1:78.12(71.51)  \n",
            "Epoch[19]:[1500/1776] Time:0.8553 Data:0.0002  Cls:0.0000(0.0000)  KD:0.2813(0.2897)  prec@1:65.62(71.51)  \n",
            "Epoch[19]:[1530/1776] Time:0.8509 Data:0.0002  Cls:0.0000(0.0000)  KD:0.2328(0.2896)  prec@1:59.38(71.53)  \n",
            "Epoch[19]:[1560/1776] Time:0.8523 Data:0.0002  Cls:0.0000(0.0000)  KD:0.4728(0.2894)  prec@1:75.00(71.52)  \n",
            "Epoch[19]:[1590/1776] Time:0.8534 Data:0.0002  Cls:0.0000(0.0000)  KD:0.1712(0.2888)  prec@1:75.00(71.59)  \n",
            "Epoch[19]:[1620/1776] Time:0.8489 Data:0.0002  Cls:0.0000(0.0000)  KD:0.2963(0.2888)  prec@1:75.00(71.63)  \n",
            "Epoch[19]:[1650/1776] Time:0.8529 Data:0.0002  Cls:0.0000(0.0000)  KD:0.4617(0.2887)  prec@1:71.88(71.64)  \n",
            "Epoch[19]:[1680/1776] Time:0.8517 Data:0.0002  Cls:0.0000(0.0000)  KD:0.3192(0.2887)  prec@1:71.88(71.64)  \n",
            "Epoch[19]:[1710/1776] Time:0.8501 Data:0.0002  Cls:0.0000(0.0000)  KD:0.3545(0.2887)  prec@1:78.12(71.60)  \n",
            "Epoch[19]:[1740/1776] Time:0.8537 Data:0.0002  Cls:0.0000(0.0000)  KD:0.2763(0.2890)  prec@1:75.00(71.60)  \n",
            "Epoch[19]:[1770/1776] Time:0.8518 Data:0.0002  Cls:0.0000(0.0000)  KD:0.3514(0.2890)  prec@1:71.88(71.61)  \n",
            "Epoch time: 1514s\n",
            "Epoch[20]:[030/1776] Time:0.8528 Data:0.0002  Cls:0.0000(0.0000)  KD:0.2849(0.2981)  prec@1:71.88(71.88)  \n",
            "Epoch[20]:[060/1776] Time:0.8622 Data:0.0002  Cls:0.0000(0.0000)  KD:0.2925(0.2872)  prec@1:56.25(71.67)  \n",
            "Epoch[20]:[090/1776] Time:0.8511 Data:0.0002  Cls:0.0000(0.0000)  KD:0.2812(0.2925)  prec@1:65.62(71.22)  \n",
            "Epoch[20]:[120/1776] Time:0.8527 Data:0.0002  Cls:0.0000(0.0000)  KD:0.3748(0.2856)  prec@1:90.62(71.69)  \n",
            "Epoch[20]:[150/1776] Time:0.8506 Data:0.0002  Cls:0.0000(0.0000)  KD:0.3976(0.2829)  prec@1:81.25(71.94)  \n",
            "Epoch[20]:[180/1776] Time:0.8520 Data:0.0002  Cls:0.0000(0.0000)  KD:0.2617(0.2832)  prec@1:71.88(71.68)  \n",
            "Epoch[20]:[210/1776] Time:0.8558 Data:0.0002  Cls:0.0000(0.0000)  KD:0.2902(0.2847)  prec@1:59.38(72.07)  \n",
            "Epoch[20]:[240/1776] Time:0.8516 Data:0.0002  Cls:0.0000(0.0000)  KD:0.3777(0.2860)  prec@1:65.62(72.03)  \n",
            "Epoch[20]:[270/1776] Time:0.8539 Data:0.0001  Cls:0.0000(0.0000)  KD:0.2108(0.2851)  prec@1:62.50(71.91)  \n",
            "Epoch[20]:[300/1776] Time:0.8516 Data:0.0002  Cls:0.0000(0.0000)  KD:0.3421(0.2853)  prec@1:78.12(72.05)  \n",
            "Epoch[20]:[330/1776] Time:0.8521 Data:0.0002  Cls:0.0000(0.0000)  KD:0.2495(0.2835)  prec@1:81.25(71.74)  \n",
            "Epoch[20]:[360/1776] Time:0.8534 Data:0.0002  Cls:0.0000(0.0000)  KD:0.2624(0.2828)  prec@1:78.12(71.63)  \n",
            "Epoch[20]:[390/1776] Time:0.8510 Data:0.0002  Cls:0.0000(0.0000)  KD:0.3487(0.2824)  prec@1:71.88(71.70)  \n",
            "Epoch[20]:[420/1776] Time:0.8549 Data:0.0002  Cls:0.0000(0.0000)  KD:0.2787(0.2831)  prec@1:71.88(71.61)  \n",
            "Epoch[20]:[450/1776] Time:0.8492 Data:0.0002  Cls:0.0000(0.0000)  KD:0.4423(0.2843)  prec@1:75.00(71.73)  \n",
            "Epoch[20]:[480/1776] Time:0.8580 Data:0.0002  Cls:0.0000(0.0000)  KD:0.4301(0.2834)  prec@1:68.75(71.77)  \n",
            "Epoch[20]:[510/1776] Time:0.8507 Data:0.0002  Cls:0.0000(0.0000)  KD:0.2551(0.2830)  prec@1:56.25(71.76)  \n",
            "Epoch[20]:[540/1776] Time:0.8523 Data:0.0002  Cls:0.0000(0.0000)  KD:0.3665(0.2844)  prec@1:78.12(71.75)  \n",
            "Epoch[20]:[570/1776] Time:0.8504 Data:0.0002  Cls:0.0000(0.0000)  KD:0.2615(0.2848)  prec@1:68.75(71.67)  \n",
            "Epoch[20]:[600/1776] Time:0.8524 Data:0.0002  Cls:0.0000(0.0000)  KD:0.3483(0.2855)  prec@1:84.38(71.67)  \n",
            "Epoch[20]:[630/1776] Time:0.8523 Data:0.0002  Cls:0.0000(0.0000)  KD:0.1506(0.2853)  prec@1:75.00(71.75)  \n",
            "Epoch[20]:[660/1776] Time:0.8536 Data:0.0002  Cls:0.0000(0.0000)  KD:0.2334(0.2842)  prec@1:68.75(71.74)  \n",
            "Epoch[20]:[690/1776] Time:0.8515 Data:0.0002  Cls:0.0000(0.0000)  KD:0.3837(0.2853)  prec@1:75.00(71.76)  \n",
            "Epoch[20]:[720/1776] Time:0.8517 Data:0.0002  Cls:0.0000(0.0000)  KD:0.1920(0.2857)  prec@1:65.62(71.79)  \n",
            "Epoch[20]:[750/1776] Time:0.8517 Data:0.0002  Cls:0.0000(0.0000)  KD:0.1973(0.2841)  prec@1:75.00(71.82)  \n",
            "Epoch[20]:[780/1776] Time:0.8536 Data:0.0003  Cls:0.0000(0.0000)  KD:0.2859(0.2845)  prec@1:68.75(71.78)  \n",
            "Epoch[20]:[810/1776] Time:0.8509 Data:0.0002  Cls:0.0000(0.0000)  KD:0.2045(0.2840)  prec@1:84.38(71.82)  \n",
            "Epoch[20]:[840/1776] Time:0.8558 Data:0.0002  Cls:0.0000(0.0000)  KD:0.1918(0.2837)  prec@1:68.75(71.80)  \n",
            "Epoch[20]:[870/1776] Time:0.8515 Data:0.0002  Cls:0.0000(0.0000)  KD:0.3382(0.2843)  prec@1:59.38(71.76)  \n",
            "Epoch[20]:[900/1776] Time:0.8514 Data:0.0002  Cls:0.0000(0.0000)  KD:0.1036(0.2832)  prec@1:71.88(71.78)  \n",
            "Epoch[20]:[930/1776] Time:0.8521 Data:0.0002  Cls:0.0000(0.0000)  KD:0.2754(0.2844)  prec@1:71.88(71.80)  \n",
            "Epoch[20]:[960/1776] Time:0.8509 Data:0.0002  Cls:0.0000(0.0000)  KD:0.3123(0.2834)  prec@1:75.00(71.78)  \n",
            "Epoch[20]:[990/1776] Time:0.8548 Data:0.0002  Cls:0.0000(0.0000)  KD:0.2622(0.2833)  prec@1:53.12(71.74)  \n",
            "Epoch[20]:[1020/1776] Time:0.8500 Data:0.0002  Cls:0.0000(0.0000)  KD:0.1949(0.2827)  prec@1:78.12(71.73)  \n",
            "Epoch[20]:[1050/1776] Time:0.8530 Data:0.0002  Cls:0.0000(0.0000)  KD:0.2067(0.2823)  prec@1:71.88(71.66)  \n",
            "Epoch[20]:[1080/1776] Time:0.8543 Data:0.0002  Cls:0.0000(0.0000)  KD:0.2634(0.2822)  prec@1:68.75(71.67)  \n",
            "Epoch[20]:[1110/1776] Time:0.8506 Data:0.0002  Cls:0.0000(0.0000)  KD:0.2476(0.2825)  prec@1:53.12(71.63)  \n",
            "Epoch[20]:[1140/1776] Time:0.8510 Data:0.0002  Cls:0.0000(0.0000)  KD:0.1880(0.2824)  prec@1:81.25(71.68)  \n",
            "Epoch[20]:[1170/1776] Time:0.8523 Data:0.0002  Cls:0.0000(0.0000)  KD:0.2547(0.2819)  prec@1:71.88(71.61)  \n",
            "Epoch[20]:[1200/1776] Time:0.8509 Data:0.0002  Cls:0.0000(0.0000)  KD:0.2317(0.2816)  prec@1:81.25(71.65)  \n",
            "Epoch[20]:[1230/1776] Time:0.8505 Data:0.0002  Cls:0.0000(0.0000)  KD:0.3293(0.2814)  prec@1:78.12(71.62)  \n",
            "Epoch[20]:[1260/1776] Time:0.8537 Data:0.0002  Cls:0.0000(0.0000)  KD:0.2929(0.2812)  prec@1:68.75(71.64)  \n",
            "Epoch[20]:[1290/1776] Time:0.8508 Data:0.0002  Cls:0.0000(0.0000)  KD:0.1796(0.2800)  prec@1:78.12(71.63)  \n",
            "Epoch[20]:[1320/1776] Time:0.8510 Data:0.0001  Cls:0.0000(0.0000)  KD:0.2323(0.2802)  prec@1:68.75(71.61)  \n",
            "Epoch[20]:[1350/1776] Time:0.8528 Data:0.0002  Cls:0.0000(0.0000)  KD:0.3309(0.2804)  prec@1:68.75(71.58)  \n",
            "Epoch[20]:[1380/1776] Time:0.8548 Data:0.0002  Cls:0.0000(0.0000)  KD:0.1404(0.2794)  prec@1:65.62(71.63)  \n",
            "Epoch[20]:[1410/1776] Time:0.8557 Data:0.0002  Cls:0.0000(0.0000)  KD:0.1707(0.2795)  prec@1:71.88(71.66)  \n",
            "Epoch[20]:[1440/1776] Time:0.8518 Data:0.0002  Cls:0.0000(0.0000)  KD:0.2849(0.2791)  prec@1:65.62(71.66)  \n",
            "Epoch[20]:[1470/1776] Time:0.8570 Data:0.0002  Cls:0.0000(0.0000)  KD:0.4096(0.2795)  prec@1:71.88(71.68)  \n",
            "Epoch[20]:[1500/1776] Time:0.8549 Data:0.0002  Cls:0.0000(0.0000)  KD:0.2516(0.2804)  prec@1:81.25(71.65)  \n",
            "Epoch[20]:[1530/1776] Time:0.8536 Data:0.0002  Cls:0.0000(0.0000)  KD:0.1777(0.2805)  prec@1:81.25(71.66)  \n",
            "Epoch[20]:[1560/1776] Time:0.8536 Data:0.0002  Cls:0.0000(0.0000)  KD:0.3838(0.2802)  prec@1:71.88(71.64)  \n",
            "Epoch[20]:[1590/1776] Time:0.8508 Data:0.0002  Cls:0.0000(0.0000)  KD:0.1780(0.2806)  prec@1:62.50(71.65)  \n",
            "Epoch[20]:[1620/1776] Time:0.8518 Data:0.0002  Cls:0.0000(0.0000)  KD:0.2477(0.2811)  prec@1:59.38(71.67)  \n",
            "Epoch[20]:[1650/1776] Time:0.8553 Data:0.0002  Cls:0.0000(0.0000)  KD:0.1431(0.2815)  prec@1:75.00(71.68)  \n",
            "Epoch[20]:[1680/1776] Time:0.8504 Data:0.0002  Cls:0.0000(0.0000)  KD:0.2297(0.2818)  prec@1:62.50(71.66)  \n",
            "Epoch[20]:[1710/1776] Time:0.8523 Data:0.0002  Cls:0.0000(0.0000)  KD:0.3582(0.2817)  prec@1:62.50(71.61)  \n",
            "Epoch[20]:[1740/1776] Time:0.8574 Data:0.0002  Cls:0.0000(0.0000)  KD:0.4382(0.2816)  prec@1:78.12(71.59)  \n",
            "Epoch[20]:[1770/1776] Time:0.8480 Data:0.0002  Cls:0.0000(0.0000)  KD:0.3348(0.2814)  prec@1:81.25(71.57)  \n",
            "Epoch time: 1514s\n",
            "Epoch[21]:[030/1776] Time:0.8519 Data:0.0002  Cls:0.0000(0.0000)  KD:0.2681(0.2942)  prec@1:75.00(71.04)  \n",
            "Epoch[21]:[060/1776] Time:0.8526 Data:0.0002  Cls:0.0000(0.0000)  KD:0.2801(0.2923)  prec@1:65.62(71.51)  \n",
            "Epoch[21]:[090/1776] Time:0.8522 Data:0.0002  Cls:0.0000(0.0000)  KD:0.3301(0.2929)  prec@1:75.00(71.46)  \n",
            "Epoch[21]:[120/1776] Time:0.8531 Data:0.0002  Cls:0.0000(0.0000)  KD:0.3045(0.2967)  prec@1:62.50(71.54)  \n",
            "Epoch[21]:[150/1776] Time:0.8508 Data:0.0002  Cls:0.0000(0.0000)  KD:0.2623(0.2944)  prec@1:81.25(71.48)  \n",
            "Epoch[21]:[180/1776] Time:0.8542 Data:0.0002  Cls:0.0000(0.0000)  KD:0.3819(0.2965)  prec@1:78.12(71.49)  \n",
            "Epoch[21]:[210/1776] Time:0.8512 Data:0.0002  Cls:0.0000(0.0000)  KD:0.3321(0.2951)  prec@1:71.88(71.71)  \n",
            "Epoch[21]:[240/1776] Time:0.8513 Data:0.0002  Cls:0.0000(0.0000)  KD:0.3705(0.2958)  prec@1:68.75(71.48)  \n",
            "Epoch[21]:[270/1776] Time:0.8578 Data:0.0002  Cls:0.0000(0.0000)  KD:0.1863(0.2952)  prec@1:81.25(71.61)  \n",
            "Epoch[21]:[300/1776] Time:0.8531 Data:0.0002  Cls:0.0000(0.0000)  KD:0.2221(0.2942)  prec@1:75.00(71.42)  \n",
            "Epoch[21]:[330/1776] Time:0.8527 Data:0.0002  Cls:0.0000(0.0000)  KD:0.1696(0.2928)  prec@1:68.75(71.51)  \n",
            "Epoch[21]:[360/1776] Time:0.8517 Data:0.0002  Cls:0.0000(0.0000)  KD:0.2006(0.2932)  prec@1:68.75(71.57)  \n",
            "Epoch[21]:[390/1776] Time:0.8569 Data:0.0002  Cls:0.0000(0.0000)  KD:0.1773(0.2939)  prec@1:71.88(71.46)  \n",
            "Epoch[21]:[420/1776] Time:0.8510 Data:0.0002  Cls:0.0000(0.0000)  KD:0.3552(0.2932)  prec@1:71.88(71.44)  \n",
            "Epoch[21]:[450/1776] Time:0.8597 Data:0.0002  Cls:0.0000(0.0000)  KD:0.2011(0.2911)  prec@1:62.50(71.33)  \n",
            "Epoch[21]:[480/1776] Time:0.8536 Data:0.0002  Cls:0.0000(0.0000)  KD:0.3011(0.2913)  prec@1:71.88(71.52)  \n",
            "Epoch[21]:[510/1776] Time:0.8542 Data:0.0002  Cls:0.0000(0.0000)  KD:0.2702(0.2915)  prec@1:75.00(71.58)  \n",
            "Epoch[21]:[540/1776] Time:0.8521 Data:0.0002  Cls:0.0000(0.0000)  KD:0.2142(0.2896)  prec@1:59.38(71.45)  \n",
            "Epoch[21]:[570/1776] Time:0.8517 Data:0.0002  Cls:0.0000(0.0000)  KD:0.2686(0.2894)  prec@1:78.12(71.45)  \n",
            "Epoch[21]:[600/1776] Time:0.8507 Data:0.0002  Cls:0.0000(0.0000)  KD:0.2004(0.2879)  prec@1:71.88(71.46)  \n",
            "Epoch[21]:[630/1776] Time:0.8546 Data:0.0002  Cls:0.0000(0.0000)  KD:0.2827(0.2881)  prec@1:65.62(71.50)  \n"
          ],
          "name": "stdout"
        },
        {
          "output_type": "error",
          "ename": "KeyboardInterrupt",
          "evalue": "ignored",
          "traceback": [
            "\u001b[0;31m---------------------------------------------------------------------------\u001b[0m",
            "\u001b[0;31mKeyboardInterrupt\u001b[0m                         Traceback (most recent call last)",
            "\u001b[0;32m<ipython-input-51-7ca8575940a7>\u001b[0m in \u001b[0;36m<module>\u001b[0;34m()\u001b[0m\n\u001b[1;32m      5\u001b[0m   \u001b[0;31m# train one epoch\u001b[0m\u001b[0;34m\u001b[0m\u001b[0;34m\u001b[0m\u001b[0;34m\u001b[0m\u001b[0m\n\u001b[1;32m      6\u001b[0m   \u001b[0mepoch_start_time\u001b[0m \u001b[0;34m=\u001b[0m \u001b[0mtime\u001b[0m\u001b[0;34m.\u001b[0m\u001b[0mtime\u001b[0m\u001b[0;34m(\u001b[0m\u001b[0;34m)\u001b[0m\u001b[0;34m\u001b[0m\u001b[0;34m\u001b[0m\u001b[0m\n\u001b[0;32m----> 7\u001b[0;31m   \u001b[0mtrain\u001b[0m\u001b[0;34m(\u001b[0m\u001b[0mtrain_loader\u001b[0m\u001b[0;34m,\u001b[0m \u001b[0mnets\u001b[0m\u001b[0;34m,\u001b[0m \u001b[0moptimizer\u001b[0m\u001b[0;34m,\u001b[0m \u001b[0mcriterions\u001b[0m\u001b[0;34m,\u001b[0m \u001b[0mepoch\u001b[0m\u001b[0;34m)\u001b[0m\u001b[0;34m\u001b[0m\u001b[0;34m\u001b[0m\u001b[0m\n\u001b[0m\u001b[1;32m      8\u001b[0m \u001b[0;34m\u001b[0m\u001b[0m\n\u001b[1;32m      9\u001b[0m   \u001b[0mepoch_duration\u001b[0m \u001b[0;34m=\u001b[0m \u001b[0mtime\u001b[0m\u001b[0;34m.\u001b[0m\u001b[0mtime\u001b[0m\u001b[0;34m(\u001b[0m\u001b[0;34m)\u001b[0m \u001b[0;34m-\u001b[0m \u001b[0mepoch_start_time\u001b[0m\u001b[0;34m\u001b[0m\u001b[0;34m\u001b[0m\u001b[0m\n",
            "\u001b[0;32m<ipython-input-49-7ec065d13e8b>\u001b[0m in \u001b[0;36mtrain\u001b[0;34m(train_loader, nets, optimizer, criterions, epoch)\u001b[0m\n\u001b[1;32m     58\u001b[0m \u001b[0;34m\u001b[0m\u001b[0m\n\u001b[1;32m     59\u001b[0m         \u001b[0moptimizer\u001b[0m\u001b[0;34m.\u001b[0m\u001b[0mzero_grad\u001b[0m\u001b[0;34m(\u001b[0m\u001b[0;34m)\u001b[0m\u001b[0;34m\u001b[0m\u001b[0;34m\u001b[0m\u001b[0m\n\u001b[0;32m---> 60\u001b[0;31m         \u001b[0mloss\u001b[0m\u001b[0;34m.\u001b[0m\u001b[0mbackward\u001b[0m\u001b[0;34m(\u001b[0m\u001b[0;34m)\u001b[0m\u001b[0;34m\u001b[0m\u001b[0;34m\u001b[0m\u001b[0m\n\u001b[0m\u001b[1;32m     61\u001b[0m         \u001b[0moptimizer\u001b[0m\u001b[0;34m.\u001b[0m\u001b[0mstep\u001b[0m\u001b[0;34m(\u001b[0m\u001b[0;34m)\u001b[0m\u001b[0;34m\u001b[0m\u001b[0;34m\u001b[0m\u001b[0m\n\u001b[1;32m     62\u001b[0m \u001b[0;34m\u001b[0m\u001b[0m\n",
            "\u001b[0;32m/usr/local/lib/python3.7/dist-packages/torch/_tensor.py\u001b[0m in \u001b[0;36mbackward\u001b[0;34m(self, gradient, retain_graph, create_graph, inputs)\u001b[0m\n\u001b[1;32m    253\u001b[0m                 \u001b[0mcreate_graph\u001b[0m\u001b[0;34m=\u001b[0m\u001b[0mcreate_graph\u001b[0m\u001b[0;34m,\u001b[0m\u001b[0;34m\u001b[0m\u001b[0;34m\u001b[0m\u001b[0m\n\u001b[1;32m    254\u001b[0m                 inputs=inputs)\n\u001b[0;32m--> 255\u001b[0;31m         \u001b[0mtorch\u001b[0m\u001b[0;34m.\u001b[0m\u001b[0mautograd\u001b[0m\u001b[0;34m.\u001b[0m\u001b[0mbackward\u001b[0m\u001b[0;34m(\u001b[0m\u001b[0mself\u001b[0m\u001b[0;34m,\u001b[0m \u001b[0mgradient\u001b[0m\u001b[0;34m,\u001b[0m \u001b[0mretain_graph\u001b[0m\u001b[0;34m,\u001b[0m \u001b[0mcreate_graph\u001b[0m\u001b[0;34m,\u001b[0m \u001b[0minputs\u001b[0m\u001b[0;34m=\u001b[0m\u001b[0minputs\u001b[0m\u001b[0;34m)\u001b[0m\u001b[0;34m\u001b[0m\u001b[0;34m\u001b[0m\u001b[0m\n\u001b[0m\u001b[1;32m    256\u001b[0m \u001b[0;34m\u001b[0m\u001b[0m\n\u001b[1;32m    257\u001b[0m     \u001b[0;32mdef\u001b[0m \u001b[0mregister_hook\u001b[0m\u001b[0;34m(\u001b[0m\u001b[0mself\u001b[0m\u001b[0;34m,\u001b[0m \u001b[0mhook\u001b[0m\u001b[0;34m)\u001b[0m\u001b[0;34m:\u001b[0m\u001b[0;34m\u001b[0m\u001b[0;34m\u001b[0m\u001b[0m\n",
            "\u001b[0;32m/usr/local/lib/python3.7/dist-packages/torch/autograd/__init__.py\u001b[0m in \u001b[0;36mbackward\u001b[0;34m(tensors, grad_tensors, retain_graph, create_graph, grad_variables, inputs)\u001b[0m\n\u001b[1;32m    147\u001b[0m     Variable._execution_engine.run_backward(\n\u001b[1;32m    148\u001b[0m         \u001b[0mtensors\u001b[0m\u001b[0;34m,\u001b[0m \u001b[0mgrad_tensors_\u001b[0m\u001b[0;34m,\u001b[0m \u001b[0mretain_graph\u001b[0m\u001b[0;34m,\u001b[0m \u001b[0mcreate_graph\u001b[0m\u001b[0;34m,\u001b[0m \u001b[0minputs\u001b[0m\u001b[0;34m,\u001b[0m\u001b[0;34m\u001b[0m\u001b[0;34m\u001b[0m\u001b[0m\n\u001b[0;32m--> 149\u001b[0;31m         allow_unreachable=True, accumulate_grad=True)  # allow_unreachable flag\n\u001b[0m\u001b[1;32m    150\u001b[0m \u001b[0;34m\u001b[0m\u001b[0m\n\u001b[1;32m    151\u001b[0m \u001b[0;34m\u001b[0m\u001b[0m\n",
            "\u001b[0;31mKeyboardInterrupt\u001b[0m: "
          ]
        }
      ]
    },
    {
      "cell_type": "code",
      "metadata": {
        "id": "10E9t_JDjjBq"
      },
      "source": [
        ""
      ],
      "execution_count": null,
      "outputs": []
    },
    {
      "cell_type": "markdown",
      "metadata": {
        "id": "0aLzezLw9C-b"
      },
      "source": [
        "# Fine Tune Student "
      ]
    },
    {
      "cell_type": "code",
      "metadata": {
        "colab": {
          "base_uri": "https://localhost:8080/"
        },
        "id": "6FBDg1MP9Gny",
        "outputId": "72d7bf70-4177-4de2-f136-328146697089"
      },
      "source": [
        "URL_LABELED = data_samples[LABELED]\n",
        "download(LABELED, URL_LABELED)"
      ],
      "execution_count": 52,
      "outputs": [
        {
          "output_type": "stream",
          "text": [
            "Downloading...\n",
            "From: https://drive.google.com/uc?id=1DPZrHrj3Bdte5Dc6NCZ33CAqMG-Oipa2\n",
            "To: /content/sample@1000.zip\n",
            "108MB [00:01, 83.2MB/s]\n"
          ],
          "name": "stderr"
        }
      ]
    },
    {
      "cell_type": "code",
      "metadata": {
        "id": "et7U8Bj49GtP"
      },
      "source": [
        "train_dataset_ft = torchvision.datasets.ImageFolder(\n",
        "    os.path.join(LABELED, 'train'),\n",
        "    transforms.Compose([\n",
        "        transforms.RandomResizedCrop(224),\n",
        "        transforms.RandomHorizontalFlip(),\n",
        "        transforms.ToTensor(),\n",
        "        normalize,\n",
        "    ]))"
      ],
      "execution_count": 53,
      "outputs": []
    },
    {
      "cell_type": "code",
      "metadata": {
        "id": "LhhbLcwP9Gxs"
      },
      "source": [
        "# Define data loader\n",
        "train_loader_ft = torch.utils.data.DataLoader(\n",
        "    train_dataset_ft,\n",
        "    batch_size=args.batch_size, \n",
        "    shuffle=True, \n",
        "    num_workers=2, \n",
        "    pin_memory=True)"
      ],
      "execution_count": 54,
      "outputs": []
    },
    {
      "cell_type": "code",
      "metadata": {
        "id": "Q8aaiKOAHOTa"
      },
      "source": [
        "def train_ft(train_loader, nets, optimizer, criterions, epoch):\n",
        "    batch_time = AverageMeter()\n",
        "    data_time  = AverageMeter()\n",
        "    cls_losses = AverageMeter()\n",
        "    kd_losses  = AverageMeter()\n",
        "    top1       = AverageMeter()\n",
        "\n",
        "    snet = nets['snet']\n",
        "\n",
        "    criterionCls = criterions['criterionCls']\n",
        "    criterionKD  = criterions['criterionKD']\n",
        "\n",
        "\n",
        "    snet.train()\n",
        "\n",
        "    if args.kd_mode in ['vid', 'ofd']:\n",
        "        for i in range(1,4):\n",
        "            criterionKD[i].train()\n",
        "\n",
        "    end = time.time()\n",
        "\n",
        "    for i, (img, target) in enumerate(train_loader, start=1):\n",
        "        data_time.update(time.time() - end)\n",
        "\n",
        "        if args.cuda:\n",
        "            img = img.cuda(non_blocking=True)\n",
        "            target = target.cuda(non_blocking=True)\n",
        "\n",
        "        if args.kd_mode in ['sobolev', 'lwm']:\n",
        "            img.requires_grad = True\n",
        "\n",
        "        out_s = snet(img)\n",
        "\n",
        "        target = target.unsqueeze(1)\n",
        "        target = target.to(torch.float32)\n",
        "\n",
        "        cls_loss = criterionCls(out_s, target)\n",
        "\n",
        "        loss = cls_loss # YOOO\n",
        "\n",
        "        prec1 = accuracy(out_s, target, topk=(1,))\n",
        "\n",
        "        cls_losses.update(cls_loss.item(), img.size(0))\n",
        "        top1.update(prec1[0].item(), img.size(0))\n",
        "\n",
        "        optimizer.zero_grad()\n",
        "        loss.backward()\n",
        "        optimizer.step()\n",
        "\n",
        "        batch_time.update(time.time() - end)\n",
        "        end = time.time()\n",
        "\n",
        "        if i % args.print_freq == 0:\n",
        "            log_str = ('Epoch[{0}]:[{1:03}/{2:03}] '\n",
        "                        'Time:{batch_time.val:.4f} '\n",
        "                        'Data:{data_time.val:.4f}  '\n",
        "                        'Cls:{cls_losses.val:.4f}({cls_losses.avg:.4f})  '\n",
        "                        'prec@1:{top1.val:.2f}({top1.avg:.2f})  '.format(\n",
        "                        epoch, i, len(train_loader), batch_time=batch_time, data_time=data_time,\n",
        "                        cls_losses=cls_losses, top1=top1))\n",
        "            logging.info(log_str)\n",
        "            print(log_str)"
      ],
      "execution_count": 55,
      "outputs": []
    },
    {
      "cell_type": "code",
      "metadata": {
        "colab": {
          "base_uri": "https://localhost:8080/"
        },
        "id": "irnfQ5DaHOZa",
        "outputId": "3c388ce4-d295-4946-8722-7711213a4da3"
      },
      "source": [
        "best_top1 = 0\n",
        "for epoch in range(1, args.epochs+1):\n",
        "  #adjust_lr(optimizer, epoch)\n",
        "\n",
        "  # train one epoch\n",
        "  epoch_start_time = time.time()\n",
        "  train_ft(train_loader_ft, nets, optimizer, criterions, epoch)\n",
        "\n",
        "  epoch_duration = time.time() - epoch_start_time\n",
        "  logging.info('Epoch time: {}s'.format(int(epoch_duration)))\n",
        "  print('Epoch time: {}s'.format(int(epoch_duration)))"
      ],
      "execution_count": 56,
      "outputs": [
        {
          "output_type": "stream",
          "text": [
            "Epoch[1]:[030/032] Time:0.7310 Data:0.0001  Cls:0.7464(0.5773)  prec@1:34.38(49.79)  \n",
            "Epoch time: 23s\n",
            "Epoch[2]:[030/032] Time:0.7378 Data:0.0001  Cls:0.5561(0.5505)  prec@1:59.38(49.38)  \n",
            "Epoch time: 23s\n",
            "Epoch[3]:[030/032] Time:0.7402 Data:0.0001  Cls:0.4033(0.5122)  prec@1:46.88(49.58)  \n",
            "Epoch time: 23s\n",
            "Epoch[4]:[030/032] Time:0.7451 Data:0.0001  Cls:0.4181(0.4723)  prec@1:56.25(49.06)  \n",
            "Epoch time: 23s\n",
            "Epoch[5]:[030/032] Time:0.7508 Data:0.0001  Cls:0.3718(0.4548)  prec@1:53.12(50.00)  \n",
            "Epoch time: 23s\n",
            "Epoch[6]:[030/032] Time:0.7517 Data:0.0001  Cls:0.3280(0.4742)  prec@1:43.75(50.31)  \n",
            "Epoch time: 24s\n",
            "Epoch[7]:[030/032] Time:0.7524 Data:0.0001  Cls:0.4996(0.4604)  prec@1:40.62(49.79)  \n",
            "Epoch time: 23s\n",
            "Epoch[8]:[030/032] Time:0.7459 Data:0.0001  Cls:0.4584(0.4526)  prec@1:50.00(49.79)  \n",
            "Epoch time: 23s\n",
            "Epoch[9]:[030/032] Time:0.7508 Data:0.0001  Cls:0.5047(0.4362)  prec@1:50.00(50.31)  \n",
            "Epoch time: 23s\n",
            "Epoch[10]:[030/032] Time:0.7511 Data:0.0001  Cls:0.4445(0.4279)  prec@1:37.50(50.31)  \n",
            "Epoch time: 23s\n",
            "Epoch[11]:[030/032] Time:0.7509 Data:0.0002  Cls:0.6407(0.4366)  prec@1:43.75(49.58)  \n",
            "Epoch time: 24s\n",
            "Epoch[12]:[030/032] Time:0.7479 Data:0.0001  Cls:0.3690(0.4559)  prec@1:37.50(49.58)  \n",
            "Epoch time: 23s\n",
            "Epoch[13]:[030/032] Time:0.7409 Data:0.0001  Cls:0.3931(0.4510)  prec@1:43.75(49.48)  \n",
            "Epoch time: 23s\n",
            "Epoch[14]:[030/032] Time:0.7498 Data:0.0001  Cls:0.3764(0.4518)  prec@1:62.50(49.48)  \n",
            "Epoch time: 23s\n",
            "Epoch[15]:[030/032] Time:0.7526 Data:0.0001  Cls:0.4848(0.4419)  prec@1:40.62(49.90)  \n",
            "Epoch time: 24s\n",
            "Epoch[16]:[030/032] Time:0.7515 Data:0.0001  Cls:0.1904(0.4135)  prec@1:43.75(50.21)  \n",
            "Epoch time: 24s\n",
            "Epoch[17]:[030/032] Time:0.7432 Data:0.0001  Cls:0.3317(0.4166)  prec@1:50.00(49.90)  \n",
            "Epoch time: 23s\n",
            "Epoch[18]:[030/032] Time:0.7499 Data:0.0001  Cls:0.3930(0.4079)  prec@1:46.88(50.00)  \n",
            "Epoch time: 23s\n",
            "Epoch[19]:[030/032] Time:0.7522 Data:0.0001  Cls:0.2758(0.4235)  prec@1:40.62(50.00)  \n",
            "Epoch time: 23s\n",
            "Epoch[20]:[030/032] Time:0.7516 Data:0.0001  Cls:0.5973(0.4283)  prec@1:53.12(49.79)  \n",
            "Epoch time: 24s\n",
            "Epoch[21]:[030/032] Time:0.7404 Data:0.0001  Cls:0.3971(0.3963)  prec@1:59.38(50.10)  \n",
            "Epoch time: 23s\n",
            "Epoch[22]:[030/032] Time:0.7518 Data:0.0001  Cls:0.3846(0.4018)  prec@1:40.62(50.00)  \n",
            "Epoch time: 23s\n",
            "Epoch[23]:[030/032] Time:0.7507 Data:0.0001  Cls:0.3089(0.4100)  prec@1:43.75(49.38)  \n",
            "Epoch time: 23s\n",
            "Epoch[24]:[030/032] Time:0.7525 Data:0.0001  Cls:0.3574(0.4010)  prec@1:46.88(49.58)  \n",
            "Epoch time: 23s\n",
            "Epoch[25]:[030/032] Time:0.7470 Data:0.0001  Cls:0.4352(0.3884)  prec@1:31.25(49.90)  \n",
            "Epoch time: 23s\n",
            "Epoch[26]:[030/032] Time:0.7510 Data:0.0001  Cls:0.3350(0.3911)  prec@1:34.38(50.00)  \n",
            "Epoch time: 24s\n",
            "Epoch[27]:[030/032] Time:0.7498 Data:0.0001  Cls:0.4080(0.4289)  prec@1:53.12(50.00)  \n",
            "Epoch time: 24s\n",
            "Epoch[28]:[030/032] Time:0.7461 Data:0.0001  Cls:0.2927(0.4053)  prec@1:59.38(50.21)  \n",
            "Epoch time: 23s\n",
            "Epoch[29]:[030/032] Time:0.7478 Data:0.0001  Cls:0.5313(0.4062)  prec@1:18.75(50.21)  \n",
            "Epoch time: 23s\n",
            "Epoch[30]:[030/032] Time:0.7441 Data:0.0001  Cls:0.4152(0.3840)  prec@1:40.62(50.31)  \n",
            "Epoch time: 23s\n",
            "Epoch[31]:[030/032] Time:0.7454 Data:0.0001  Cls:0.3152(0.3877)  prec@1:59.38(49.90)  \n",
            "Epoch time: 23s\n",
            "Epoch[32]:[030/032] Time:0.7508 Data:0.0001  Cls:0.3293(0.3759)  prec@1:46.88(50.00)  \n",
            "Epoch time: 23s\n",
            "Epoch[33]:[030/032] Time:0.7466 Data:0.0001  Cls:0.3134(0.3897)  prec@1:46.88(49.69)  \n",
            "Epoch time: 23s\n",
            "Epoch[34]:[030/032] Time:0.7444 Data:0.0001  Cls:0.3594(0.3782)  prec@1:50.00(49.79)  \n",
            "Epoch time: 23s\n",
            "Epoch[35]:[030/032] Time:0.7518 Data:0.0002  Cls:0.3457(0.3805)  prec@1:53.12(50.10)  \n",
            "Epoch time: 23s\n",
            "Epoch[36]:[030/032] Time:0.7535 Data:0.0001  Cls:0.3865(0.3755)  prec@1:56.25(49.69)  \n",
            "Epoch time: 24s\n",
            "Epoch[37]:[030/032] Time:0.7481 Data:0.0004  Cls:0.2741(0.3764)  prec@1:59.38(50.00)  \n",
            "Epoch time: 23s\n",
            "Epoch[38]:[030/032] Time:0.7483 Data:0.0001  Cls:0.3795(0.3669)  prec@1:34.38(49.90)  \n",
            "Epoch time: 23s\n",
            "Epoch[39]:[030/032] Time:0.7505 Data:0.0001  Cls:0.3385(0.3535)  prec@1:56.25(50.21)  \n",
            "Epoch time: 23s\n",
            "Epoch[40]:[030/032] Time:0.7516 Data:0.0001  Cls:0.4389(0.3564)  prec@1:34.38(50.31)  \n",
            "Epoch time: 23s\n",
            "Epoch[41]:[030/032] Time:0.7532 Data:0.0001  Cls:0.2991(0.3581)  prec@1:56.25(49.90)  \n",
            "Epoch time: 24s\n",
            "Epoch[42]:[030/032] Time:0.7451 Data:0.0002  Cls:0.2949(0.3440)  prec@1:50.00(50.00)  \n",
            "Epoch time: 23s\n",
            "Epoch[43]:[030/032] Time:0.7465 Data:0.0001  Cls:0.2268(0.3506)  prec@1:46.88(49.48)  \n",
            "Epoch time: 23s\n",
            "Epoch[44]:[030/032] Time:0.7535 Data:0.0001  Cls:0.3905(0.3502)  prec@1:43.75(50.21)  \n",
            "Epoch time: 23s\n",
            "Epoch[45]:[030/032] Time:0.7439 Data:0.0001  Cls:0.3022(0.3609)  prec@1:68.75(50.10)  \n",
            "Epoch time: 23s\n",
            "Epoch[46]:[030/032] Time:0.7521 Data:0.0002  Cls:0.3858(0.3608)  prec@1:46.88(50.10)  \n",
            "Epoch time: 23s\n",
            "Epoch[47]:[030/032] Time:0.7502 Data:0.0001  Cls:0.4270(0.3412)  prec@1:43.75(50.21)  \n",
            "Epoch time: 23s\n",
            "Epoch[48]:[030/032] Time:0.7509 Data:0.0001  Cls:0.3119(0.3188)  prec@1:56.25(50.21)  \n",
            "Epoch time: 24s\n",
            "Epoch[49]:[030/032] Time:0.7519 Data:0.0001  Cls:0.4257(0.3401)  prec@1:46.88(50.00)  \n",
            "Epoch time: 24s\n",
            "Epoch[50]:[030/032] Time:0.7482 Data:0.0001  Cls:0.2916(0.3136)  prec@1:34.38(49.90)  \n",
            "Epoch time: 23s\n",
            "Epoch[51]:[030/032] Time:0.7446 Data:0.0001  Cls:0.3184(0.3195)  prec@1:46.88(50.10)  \n",
            "Epoch time: 23s\n",
            "Epoch[52]:[030/032] Time:0.7495 Data:0.0002  Cls:0.3029(0.3381)  prec@1:50.00(50.10)  \n",
            "Epoch time: 23s\n",
            "Epoch[53]:[030/032] Time:0.7475 Data:0.0001  Cls:0.2886(0.3204)  prec@1:62.50(49.38)  \n",
            "Epoch time: 24s\n",
            "Epoch[54]:[030/032] Time:0.7442 Data:0.0002  Cls:0.3382(0.3283)  prec@1:50.00(49.38)  \n",
            "Epoch time: 23s\n",
            "Epoch[55]:[030/032] Time:0.7506 Data:0.0001  Cls:0.2166(0.3272)  prec@1:37.50(50.21)  \n",
            "Epoch time: 23s\n",
            "Epoch[56]:[030/032] Time:0.7512 Data:0.0001  Cls:0.3908(0.3165)  prec@1:46.88(49.90)  \n",
            "Epoch time: 24s\n",
            "Epoch[57]:[030/032] Time:0.7492 Data:0.0001  Cls:0.1931(0.2962)  prec@1:56.25(49.90)  \n",
            "Epoch time: 23s\n",
            "Epoch[58]:[030/032] Time:0.7452 Data:0.0001  Cls:0.1840(0.2950)  prec@1:46.88(50.62)  \n",
            "Epoch time: 23s\n",
            "Epoch[59]:[030/032] Time:0.7524 Data:0.0001  Cls:0.2694(0.2922)  prec@1:43.75(49.90)  \n",
            "Epoch time: 23s\n",
            "Epoch[60]:[030/032] Time:0.7519 Data:0.0001  Cls:0.2117(0.3058)  prec@1:40.62(50.21)  \n",
            "Epoch time: 23s\n",
            "Epoch[61]:[030/032] Time:0.7461 Data:0.0001  Cls:0.3060(0.3043)  prec@1:53.12(49.79)  \n",
            "Epoch time: 23s\n",
            "Epoch[62]:[030/032] Time:0.7452 Data:0.0001  Cls:0.2027(0.3306)  prec@1:50.00(50.31)  \n",
            "Epoch time: 23s\n",
            "Epoch[63]:[030/032] Time:0.7461 Data:0.0001  Cls:0.2346(0.3052)  prec@1:37.50(49.90)  \n",
            "Epoch time: 23s\n",
            "Epoch[64]:[030/032] Time:0.7504 Data:0.0001  Cls:0.2529(0.3092)  prec@1:46.88(49.58)  \n",
            "Epoch time: 23s\n",
            "Epoch[65]:[030/032] Time:0.7577 Data:0.0001  Cls:0.2198(0.3083)  prec@1:40.62(50.21)  \n",
            "Epoch time: 23s\n",
            "Epoch[66]:[030/032] Time:0.7507 Data:0.0001  Cls:0.2526(0.2964)  prec@1:40.62(50.73)  \n",
            "Epoch time: 24s\n",
            "Epoch[67]:[030/032] Time:0.7513 Data:0.0001  Cls:0.2429(0.3081)  prec@1:43.75(50.00)  \n",
            "Epoch time: 24s\n",
            "Epoch[68]:[030/032] Time:0.7584 Data:0.0001  Cls:0.3543(0.3066)  prec@1:65.62(50.00)  \n",
            "Epoch time: 23s\n",
            "Epoch[69]:[030/032] Time:0.7462 Data:0.0001  Cls:0.2299(0.2764)  prec@1:56.25(49.90)  \n",
            "Epoch time: 24s\n",
            "Epoch[70]:[030/032] Time:0.7420 Data:0.0001  Cls:0.4134(0.2910)  prec@1:28.12(50.52)  \n",
            "Epoch time: 23s\n",
            "Epoch[71]:[030/032] Time:0.7433 Data:0.0001  Cls:0.5248(0.2776)  prec@1:43.75(49.90)  \n",
            "Epoch time: 23s\n",
            "Epoch[72]:[030/032] Time:0.7519 Data:0.0002  Cls:0.2841(0.2591)  prec@1:53.12(50.52)  \n",
            "Epoch time: 23s\n",
            "Epoch[73]:[030/032] Time:0.7519 Data:0.0001  Cls:0.2101(0.2573)  prec@1:46.88(50.42)  \n",
            "Epoch time: 23s\n",
            "Epoch[74]:[030/032] Time:0.7507 Data:0.0001  Cls:0.2801(0.2731)  prec@1:62.50(49.79)  \n",
            "Epoch time: 23s\n",
            "Epoch[75]:[030/032] Time:0.7510 Data:0.0001  Cls:0.3478(0.2517)  prec@1:56.25(49.58)  \n",
            "Epoch time: 23s\n",
            "Epoch[76]:[030/032] Time:0.7522 Data:0.0001  Cls:0.1943(0.2975)  prec@1:50.00(50.42)  \n",
            "Epoch time: 23s\n",
            "Epoch[77]:[030/032] Time:0.7525 Data:0.0001  Cls:0.2929(0.2749)  prec@1:46.88(50.21)  \n",
            "Epoch time: 23s\n",
            "Epoch[78]:[030/032] Time:0.7503 Data:0.0001  Cls:0.3161(0.2581)  prec@1:56.25(50.21)  \n",
            "Epoch time: 23s\n",
            "Epoch[79]:[030/032] Time:0.7473 Data:0.0001  Cls:0.1529(0.2692)  prec@1:59.38(49.79)  \n",
            "Epoch time: 23s\n",
            "Epoch[80]:[030/032] Time:0.7487 Data:0.0001  Cls:0.2775(0.2584)  prec@1:53.12(49.58)  \n",
            "Epoch time: 23s\n",
            "Epoch[81]:[030/032] Time:0.7511 Data:0.0001  Cls:0.1256(0.2208)  prec@1:53.12(50.52)  \n",
            "Epoch time: 23s\n",
            "Epoch[82]:[030/032] Time:0.7509 Data:0.0001  Cls:0.2142(0.2410)  prec@1:43.75(49.27)  \n",
            "Epoch time: 23s\n",
            "Epoch[83]:[030/032] Time:0.7517 Data:0.0001  Cls:0.1844(0.2630)  prec@1:50.00(49.48)  \n",
            "Epoch time: 23s\n",
            "Epoch[84]:[030/032] Time:0.7505 Data:0.0001  Cls:0.3296(0.2714)  prec@1:56.25(50.00)  \n",
            "Epoch time: 23s\n",
            "Epoch[85]:[030/032] Time:0.7508 Data:0.0001  Cls:0.3580(0.2748)  prec@1:56.25(50.10)  \n",
            "Epoch time: 24s\n",
            "Epoch[86]:[030/032] Time:0.7446 Data:0.0001  Cls:0.1891(0.2468)  prec@1:43.75(49.69)  \n",
            "Epoch time: 23s\n",
            "Epoch[87]:[030/032] Time:0.7449 Data:0.0002  Cls:0.2174(0.2358)  prec@1:37.50(50.10)  \n",
            "Epoch time: 23s\n",
            "Epoch[88]:[030/032] Time:0.7467 Data:0.0001  Cls:0.3127(0.2426)  prec@1:53.12(50.00)  \n",
            "Epoch time: 23s\n",
            "Epoch[89]:[030/032] Time:0.7523 Data:0.0001  Cls:0.1338(0.2433)  prec@1:53.12(50.10)  \n",
            "Epoch time: 24s\n",
            "Epoch[90]:[030/032] Time:0.7502 Data:0.0001  Cls:0.2301(0.2062)  prec@1:43.75(50.00)  \n",
            "Epoch time: 23s\n",
            "Epoch[91]:[030/032] Time:0.7522 Data:0.0001  Cls:0.2608(0.2326)  prec@1:40.62(50.00)  \n",
            "Epoch time: 23s\n",
            "Epoch[92]:[030/032] Time:0.7392 Data:0.0001  Cls:0.2765(0.2204)  prec@1:50.00(50.00)  \n",
            "Epoch time: 23s\n",
            "Epoch[93]:[030/032] Time:0.7490 Data:0.0002  Cls:0.1958(0.2478)  prec@1:53.12(49.69)  \n",
            "Epoch time: 23s\n",
            "Epoch[94]:[030/032] Time:0.7477 Data:0.0001  Cls:0.2088(0.2345)  prec@1:56.25(50.31)  \n",
            "Epoch time: 24s\n",
            "Epoch[95]:[030/032] Time:0.7441 Data:0.0001  Cls:0.1600(0.2237)  prec@1:56.25(50.21)  \n",
            "Epoch time: 23s\n",
            "Epoch[96]:[030/032] Time:0.7501 Data:0.0002  Cls:0.1889(0.2040)  prec@1:50.00(50.21)  \n",
            "Epoch time: 23s\n",
            "Epoch[97]:[030/032] Time:0.7563 Data:0.0002  Cls:0.2589(0.2383)  prec@1:65.62(49.58)  \n",
            "Epoch time: 24s\n",
            "Epoch[98]:[030/032] Time:0.7467 Data:0.0001  Cls:0.1337(0.2225)  prec@1:53.12(50.42)  \n",
            "Epoch time: 23s\n",
            "Epoch[99]:[030/032] Time:0.7362 Data:0.0001  Cls:0.2837(0.2276)  prec@1:31.25(50.10)  \n",
            "Epoch time: 23s\n",
            "Epoch[100]:[030/032] Time:0.7528 Data:0.0002  Cls:0.1284(0.2145)  prec@1:46.88(49.90)  \n",
            "Epoch time: 23s\n"
          ],
          "name": "stdout"
        }
      ]
    },
    {
      "cell_type": "markdown",
      "metadata": {
        "id": "u89ley9bHU9t"
      },
      "source": [
        "# Test"
      ]
    },
    {
      "cell_type": "code",
      "metadata": {
        "id": "CL3fGn_mHxlI"
      },
      "source": [
        "model = snet\n",
        "#model = tnet"
      ],
      "execution_count": 57,
      "outputs": []
    },
    {
      "cell_type": "code",
      "metadata": {
        "id": "57WPTOTMHWOA"
      },
      "source": [
        "import zipfile\n",
        "from tqdm import tqdm\n",
        "from torchvision import datasets\n",
        "from torch.utils.data import DataLoader\n",
        "import torchvision.transforms as transforms"
      ],
      "execution_count": 58,
      "outputs": []
    },
    {
      "cell_type": "code",
      "metadata": {
        "id": "LdaMUcn8Hcih"
      },
      "source": [
        "test_data = {\n",
        "    \"voets_test_images\": \"https://drive.google.com/uc?id=15S_V3B_Z3BOjCT3AbO2c887FyS5B0Lyd\",\n",
        "    \"messidor2\": \"https://drive.google.com/uc?id=1HaUAxDtN4BNj0hpH8QYGmiX39Va-Ke8p\",\n",
        "}\n",
        "\n",
        "TEST_DATASET = 'messidor2'\n",
        "URL_TEST_DATASET = test_data[TEST_DATASET]"
      ],
      "execution_count": 69,
      "outputs": []
    },
    {
      "cell_type": "code",
      "metadata": {
        "id": "6qRmnRKZHfb1",
        "colab": {
          "base_uri": "https://localhost:8080/"
        },
        "outputId": "d09dd47f-915a-44d5-c790-f46a479def92"
      },
      "source": [
        "!gdown $URL_TEST_DATASET"
      ],
      "execution_count": 70,
      "outputs": [
        {
          "output_type": "stream",
          "text": [
            "Downloading...\n",
            "From: https://drive.google.com/uc?id=15S_V3B_Z3BOjCT3AbO2c887FyS5B0Lyd\n",
            "To: /content/voets_test_images.zip\n",
            "475MB [00:12, 38.1MB/s]\n"
          ],
          "name": "stdout"
        }
      ]
    },
    {
      "cell_type": "code",
      "metadata": {
        "id": "oOACBiReHhhI"
      },
      "source": [
        "local_zip = '{}.zip'.format(TEST_DATASET)\n",
        "zip_ref = zipfile.ZipFile(local_zip, 'r')\n",
        "zip_ref.extractall('/content/')\n",
        "zip_ref.close()"
      ],
      "execution_count": 71,
      "outputs": []
    },
    {
      "cell_type": "code",
      "metadata": {
        "id": "NCS8RLAtHiaE"
      },
      "source": [
        "cifar10_mean = (0.4914, 0.4822, 0.4465)\n",
        "cifar10_std = (0.2471, 0.2435, 0.2616)"
      ],
      "execution_count": 85,
      "outputs": []
    },
    {
      "cell_type": "code",
      "metadata": {
        "id": "P2DPRgviHlF-"
      },
      "source": [
        "transform_val = transforms.Compose([\n",
        "    transforms.ToTensor(),\n",
        "    transforms.Normalize(mean=cifar10_mean, std=cifar10_std)  # What happens if I change This \n",
        "])"
      ],
      "execution_count": 86,
      "outputs": []
    },
    {
      "cell_type": "code",
      "metadata": {
        "id": "bceiYJWiHn0W"
      },
      "source": [
        "test_dataset = datasets.ImageFolder(root=\"messidor2\", transform=transform_val) # root: test/messidor2"
      ],
      "execution_count": 87,
      "outputs": []
    },
    {
      "cell_type": "code",
      "metadata": {
        "id": "ym2HrLfrHomQ"
      },
      "source": [
        "test_loader = DataLoader(\n",
        "    test_dataset,\n",
        "    batch_size=1,\n",
        "    num_workers=1,\n",
        "    shuffle=False)\n",
        "\n",
        "loader = test_loader"
      ],
      "execution_count": 88,
      "outputs": []
    },
    {
      "cell_type": "code",
      "metadata": {
        "id": "KiBaYH8nHqB2",
        "colab": {
          "base_uri": "https://localhost:8080/"
        },
        "outputId": "3c3ce364-36b0-4477-af7a-37990f4fca6d"
      },
      "source": [
        "y_true = []\n",
        "y_pred = []\n",
        "\n",
        "with torch.no_grad():\n",
        "    with tqdm(total=len(loader)) as pbar:\n",
        "        for batch_idx, (inputs, targets) in enumerate(loader):\n",
        "\n",
        "            model.eval()\n",
        "\n",
        "            inputs = inputs.to(device)\n",
        "            targets = targets.to(device)\n",
        "            output = model(inputs)\n",
        "\n",
        "            output = output.to(device)\n",
        "\n",
        "            # Yo le agrege esto\n",
        "            y_true.append(targets.cpu().detach().numpy()[0])\n",
        "            y_pred.append(output.cpu().detach().numpy()[0][0])\n",
        "\n",
        "            pbar.update(1)"
      ],
      "execution_count": 89,
      "outputs": [
        {
          "output_type": "stream",
          "text": [
            "100%|██████████| 1748/1748 [00:43<00:00, 39.76it/s]\n"
          ],
          "name": "stderr"
        }
      ]
    },
    {
      "cell_type": "code",
      "metadata": {
        "id": "-OUrUbqIHse3",
        "colab": {
          "base_uri": "https://localhost:8080/"
        },
        "outputId": "99645c3a-aba9-4451-ce10-c63661a47c27"
      },
      "source": [
        "import numpy as np\n",
        "from sklearn import metrics\n",
        "fpr, tpr, thresholds = metrics.roc_curve(y_true, y_pred)\n",
        "metrics.auc(fpr, tpr)"
      ],
      "execution_count": 90,
      "outputs": [
        {
          "output_type": "execute_result",
          "data": {
            "text/plain": [
              "0.8928131732840874"
            ]
          },
          "metadata": {},
          "execution_count": 90
        }
      ]
    },
    {
      "cell_type": "code",
      "metadata": {
        "id": "c-LbC9yoHt4b",
        "colab": {
          "base_uri": "https://localhost:8080/",
          "height": 349
        },
        "outputId": "41e2173a-36ab-424b-addd-4688b30a25ca"
      },
      "source": [
        "# Commented out IPython magic to ensure Python compatibility.\n",
        "from sklearn.metrics import accuracy_score\n",
        "import seaborn as sns\n",
        "import matplotlib.pyplot as plt\n",
        "import matplotlib.image as mpimg\n",
        "from mlxtend.plotting import plot_confusion_matrix \n",
        "# %matplotlib inline\n",
        "\n",
        "#cm=metrics.confusion_matrix(y_true, y_pred)\n",
        "auc = metrics.auc(fpr, tpr)\n",
        "#print('AUC: %.3f' % auc)\n",
        "#print('Accuracy: {}'.format(accuracy_score(y_true, y_pred)))\n",
        "\n",
        "# Plot ROC curve\n",
        "lw = 2\n",
        "sns.set_style({'axes.grid' : False})\n",
        "sns.set_style(\"darkgrid\")\n",
        "ax1 = sns.lineplot(fpr, tpr, color='darkorange',\n",
        "        lw=lw, label='AUC = %0.2f' % auc)\n",
        "plt.plot([0, 1], [0, 1], color='navy', lw=lw, linestyle='--')\n",
        "ax1.set_title('Receiver operating characteristic')\n",
        "ax1.set(xlabel='False Positive Rate', ylabel='True Positive Rate')\n",
        "plt.legend(loc=\"lower right\")\n",
        "plt.show()"
      ],
      "execution_count": 91,
      "outputs": [
        {
          "output_type": "stream",
          "text": [
            "/usr/local/lib/python3.7/dist-packages/seaborn/_decorators.py:43: FutureWarning: Pass the following variables as keyword args: x, y. From version 0.12, the only valid positional argument will be `data`, and passing other arguments without an explicit keyword will result in an error or misinterpretation.\n",
            "  FutureWarning\n"
          ],
          "name": "stderr"
        },
        {
          "output_type": "display_data",
          "data": {
            "image/png": "[encoded data removed]",
            "text/plain": [
              "<Figure size 432x288 with 1 Axes>"
            ]
          },
          "metadata": {}
        }
      ]
    },
    {
      "cell_type": "code",
      "metadata": {
        "id": "_-ZsXXYWR1zR"
      },
      "source": [
        ""
      ],
      "execution_count": null,
      "outputs": []
    }
  ]
}