{
  "nbformat": 4,
  "nbformat_minor": 0,
  "metadata": {
    "colab": {
      "name": "PAWS_DR_fine_tune_V3.ipynb",
      "provenance": [],
      "collapsed_sections": [],
      "include_colab_link": true
    },
    "kernelspec": {
      "name": "python3",
      "display_name": "Python 3"
    },
    "language_info": {
      "name": "python"
    },
    "accelerator": "GPU"
  },
  "cells": [
    {
      "cell_type": "markdown",
      "metadata": {
        "id": "view-in-github",
        "colab_type": "text"
      },
      "source": [
        "<a href=\"https://colab.research.google.com/github/jmarrietar/ocular/blob/master/notebooks/PAWS_DR_fine_tune_V3.ipynb\" target=\"_parent\"><img src=\"https://colab.research.google.com/assets/colab-badge.svg\" alt=\"Open In Colab\"/></a>"
      ]
    },
    {
      "cell_type": "code",
      "metadata": {
        "colab": {
          "base_uri": "https://localhost:8080/"
        },
        "id": "q5hlD-M-AULJ",
        "outputId": "851c2f0b-7566-4ea8-ef24-b2f43766f836"
      },
      "source": [
        "!git clone https://github.com/NVIDIA/apex\n",
        "%cd apex\n",
        "!pip install --quiet -v --no-cache-dir ./"
      ],
      "execution_count": 1,
      "outputs": [
        {
          "output_type": "stream",
          "text": [
            "Cloning into 'apex'...\n",
            "remote: Enumerating objects: 8054, done.\u001b[K\n",
            "remote: Counting objects: 100% (141/141), done.\u001b[K\n",
            "remote: Compressing objects: 100% (92/92), done.\u001b[K\n",
            "remote: Total 8054 (delta 68), reused 97 (delta 44), pack-reused 7913\u001b[K\n",
            "Receiving objects: 100% (8054/8054), 14.11 MiB | 14.33 MiB/s, done.\n",
            "Resolving deltas: 100% (5469/5469), done.\n",
            "/content/apex\n",
            "Processing /content/apex\n",
            "Building wheels for collected packages: apex\n",
            "  Building wheel for apex (setup.py) ... \u001b[?25l\u001b[?25hdone\n",
            "  Created wheel for apex: filename=apex-0.1-cp37-none-any.whl size=204709 sha256=1aabc2f0690f96663e2377c664beb2e92078c7f03b651325769e9e5ed16bd010\n",
            "  Stored in directory: /tmp/pip-ephem-wheel-cache-40wyyrjx/wheels/b1/3a/aa/d84906eaab780ae580c7a5686a33bf2820d8590ac3b60d5967\n",
            "Successfully built apex\n",
            "Installing collected packages: apex\n",
            "Successfully installed apex-0.1\n"
          ],
          "name": "stdout"
        }
      ]
    },
    {
      "cell_type": "code",
      "metadata": {
        "colab": {
          "base_uri": "https://localhost:8080/"
        },
        "id": "VCL0T19BAhwZ",
        "outputId": "c8dcae49-3e89-4c9b-ace4-7ac78c2ca3cb"
      },
      "source": [
        "cd .."
      ],
      "execution_count": 2,
      "outputs": [
        {
          "output_type": "stream",
          "text": [
            "/content\n"
          ],
          "name": "stdout"
        }
      ]
    },
    {
      "cell_type": "code",
      "metadata": {
        "id": "YmQET3rEAknO",
        "colab": {
          "base_uri": "https://localhost:8080/"
        },
        "outputId": "36d20c02-0751-4765-ad6f-5823e4e9fefa"
      },
      "source": [
        "!pip install --quiet -U PyYAML"
      ],
      "execution_count": 3,
      "outputs": [
        {
          "output_type": "stream",
          "text": [
            "\u001b[?25l\r\u001b[K     |▌                               | 10kB 29.8MB/s eta 0:00:01\r\u001b[K     |█                               | 20kB 34.9MB/s eta 0:00:01\r\u001b[K     |█▌                              | 30kB 37.3MB/s eta 0:00:01\r\u001b[K     |██                              | 40kB 22.7MB/s eta 0:00:01\r\u001b[K     |██▋                             | 51kB 15.3MB/s eta 0:00:01\r\u001b[K     |███                             | 61kB 12.9MB/s eta 0:00:01\r\u001b[K     |███▋                            | 71kB 14.3MB/s eta 0:00:01\r\u001b[K     |████▏                           | 81kB 13.9MB/s eta 0:00:01\r\u001b[K     |████▋                           | 92kB 15.1MB/s eta 0:00:01\r\u001b[K     |█████▏                          | 102kB 14.1MB/s eta 0:00:01\r\u001b[K     |█████▋                          | 112kB 14.1MB/s eta 0:00:01\r\u001b[K     |██████▏                         | 122kB 14.1MB/s eta 0:00:01\r\u001b[K     |██████▊                         | 133kB 14.1MB/s eta 0:00:01\r\u001b[K     |███████▏                        | 143kB 14.1MB/s eta 0:00:01\r\u001b[K     |███████▊                        | 153kB 14.1MB/s eta 0:00:01\r\u001b[K     |████████▎                       | 163kB 14.1MB/s eta 0:00:01\r\u001b[K     |████████▊                       | 174kB 14.1MB/s eta 0:00:01\r\u001b[K     |█████████▎                      | 184kB 14.1MB/s eta 0:00:01\r\u001b[K     |█████████▉                      | 194kB 14.1MB/s eta 0:00:01\r\u001b[K     |██████████▎                     | 204kB 14.1MB/s eta 0:00:01\r\u001b[K     |██████████▉                     | 215kB 14.1MB/s eta 0:00:01\r\u001b[K     |███████████▎                    | 225kB 14.1MB/s eta 0:00:01\r\u001b[K     |███████████▉                    | 235kB 14.1MB/s eta 0:00:01\r\u001b[K     |████████████▍                   | 245kB 14.1MB/s eta 0:00:01\r\u001b[K     |████████████▉                   | 256kB 14.1MB/s eta 0:00:01\r\u001b[K     |█████████████▍                  | 266kB 14.1MB/s eta 0:00:01\r\u001b[K     |██████████████                  | 276kB 14.1MB/s eta 0:00:01\r\u001b[K     |██████████████▍                 | 286kB 14.1MB/s eta 0:00:01\r\u001b[K     |███████████████                 | 296kB 14.1MB/s eta 0:00:01\r\u001b[K     |███████████████▍                | 307kB 14.1MB/s eta 0:00:01\r\u001b[K     |████████████████                | 317kB 14.1MB/s eta 0:00:01\r\u001b[K     |████████████████▌               | 327kB 14.1MB/s eta 0:00:01\r\u001b[K     |█████████████████               | 337kB 14.1MB/s eta 0:00:01\r\u001b[K     |█████████████████▌              | 348kB 14.1MB/s eta 0:00:01\r\u001b[K     |██████████████████              | 358kB 14.1MB/s eta 0:00:01\r\u001b[K     |██████████████████▌             | 368kB 14.1MB/s eta 0:00:01\r\u001b[K     |███████████████████             | 378kB 14.1MB/s eta 0:00:01\r\u001b[K     |███████████████████▋            | 389kB 14.1MB/s eta 0:00:01\r\u001b[K     |████████████████████            | 399kB 14.1MB/s eta 0:00:01\r\u001b[K     |████████████████████▋           | 409kB 14.1MB/s eta 0:00:01\r\u001b[K     |█████████████████████           | 419kB 14.1MB/s eta 0:00:01\r\u001b[K     |█████████████████████▋          | 430kB 14.1MB/s eta 0:00:01\r\u001b[K     |██████████████████████▏         | 440kB 14.1MB/s eta 0:00:01\r\u001b[K     |██████████████████████▋         | 450kB 14.1MB/s eta 0:00:01\r\u001b[K     |███████████████████████▏        | 460kB 14.1MB/s eta 0:00:01\r\u001b[K     |███████████████████████▊        | 471kB 14.1MB/s eta 0:00:01\r\u001b[K     |████████████████████████▏       | 481kB 14.1MB/s eta 0:00:01\r\u001b[K     |████████████████████████▊       | 491kB 14.1MB/s eta 0:00:01\r\u001b[K     |█████████████████████████▏      | 501kB 14.1MB/s eta 0:00:01\r\u001b[K     |█████████████████████████▊      | 512kB 14.1MB/s eta 0:00:01\r\u001b[K     |██████████████████████████▎     | 522kB 14.1MB/s eta 0:00:01\r\u001b[K     |██████████████████████████▊     | 532kB 14.1MB/s eta 0:00:01\r\u001b[K     |███████████████████████████▎    | 542kB 14.1MB/s eta 0:00:01\r\u001b[K     |███████████████████████████▉    | 552kB 14.1MB/s eta 0:00:01\r\u001b[K     |████████████████████████████▎   | 563kB 14.1MB/s eta 0:00:01\r\u001b[K     |████████████████████████████▉   | 573kB 14.1MB/s eta 0:00:01\r\u001b[K     |█████████████████████████████▍  | 583kB 14.1MB/s eta 0:00:01\r\u001b[K     |█████████████████████████████▉  | 593kB 14.1MB/s eta 0:00:01\r\u001b[K     |██████████████████████████████▍ | 604kB 14.1MB/s eta 0:00:01\r\u001b[K     |██████████████████████████████▉ | 614kB 14.1MB/s eta 0:00:01\r\u001b[K     |███████████████████████████████▍| 624kB 14.1MB/s eta 0:00:01\r\u001b[K     |████████████████████████████████| 634kB 14.1MB/s eta 0:00:01\r\u001b[K     |████████████████████████████████| 645kB 14.1MB/s \n",
            "\u001b[?25h"
          ],
          "name": "stdout"
        }
      ]
    },
    {
      "cell_type": "code",
      "metadata": {
        "colab": {
          "base_uri": "https://localhost:8080/"
        },
        "id": "SxKLx9eqAndQ",
        "outputId": "0e541f51-61f6-4667-bca9-ef9803a66303"
      },
      "source": [
        "!git clone -b feature/DR-images-v2 https://github.com/jmarrietar/suncet.git"
      ],
      "execution_count": 4,
      "outputs": [
        {
          "output_type": "stream",
          "text": [
            "Cloning into 'suncet'...\n",
            "remote: Enumerating objects: 336, done.\u001b[K\n",
            "remote: Counting objects: 100% (336/336), done.\u001b[K\n",
            "remote: Compressing objects: 100% (214/214), done.\u001b[K\n",
            "remote: Total 336 (delta 199), reused 250 (delta 119), pack-reused 0\u001b[K\n",
            "Receiving objects: 100% (336/336), 1.11 MiB | 4.24 MiB/s, done.\n",
            "Resolving deltas: 100% (199/199), done.\n"
          ],
          "name": "stdout"
        }
      ]
    },
    {
      "cell_type": "code",
      "metadata": {
        "colab": {
          "base_uri": "https://localhost:8080/"
        },
        "id": "9c0W3iBTApIP",
        "outputId": "dcc49fee-a4c9-4759-c8b5-a43f1f69385b"
      },
      "source": [
        "cd suncet"
      ],
      "execution_count": 5,
      "outputs": [
        {
          "output_type": "stream",
          "text": [
            "/content/suncet\n"
          ],
          "name": "stdout"
        }
      ]
    },
    {
      "cell_type": "code",
      "metadata": {
        "colab": {
          "base_uri": "https://localhost:8080/",
          "height": 35
        },
        "id": "U4gvRnhMAqWJ",
        "outputId": "45306b25-5717-46fb-8296-df4418954241"
      },
      "source": [
        "pwd"
      ],
      "execution_count": 6,
      "outputs": [
        {
          "output_type": "execute_result",
          "data": {
            "application/vnd.google.colaboratory.intrinsic+json": {
              "type": "string"
            },
            "text/plain": [
              "'/content/suncet'"
            ]
          },
          "metadata": {
            "tags": []
          },
          "execution_count": 6
        }
      ]
    },
    {
      "cell_type": "code",
      "metadata": {
        "id": "4On1j-ZxAr2v"
      },
      "source": [
        "import subprocess\n",
        "import os\n",
        "import gdown\n",
        "\n",
        "# Check whether the file is already in the desired path or if it needs to be downloaded\n",
        "# File downloaded from source : https://archive.ics.uci.edu/ml/machine-learning-databases/spambase/spambase.data\n",
        "\n",
        "base_path = '/content/suncet/datasets/dr/'\n",
        "file_path = 'sample@1000.zip'\n",
        "\n",
        "if not os.path.isfile(base_path + file_path):\n",
        "    subprocess.run(['mkdir', '-p', base_path])\n",
        "    subprocess.run(['mkdir', '-p', 'logs'])\n",
        "    subprocess.call(['python', 'download.py', '-d', file_path.split('.')[0]])\n",
        "else:\n",
        "    print('File already downloaded!')"
      ],
      "execution_count": 7,
      "outputs": []
    },
    {
      "cell_type": "code",
      "metadata": {
        "id": "088y7D-BB0ni"
      },
      "source": [
        "output = \"logs/paws-ep100.pth.tar\" # CHANGE NAME\n",
        "model_url = \"https://drive.google.com/uc?id=1SAYDN1w8jG4XuqTq0j_5areDvAerCTFA\""
      ],
      "execution_count": 9,
      "outputs": []
    },
    {
      "cell_type": "code",
      "metadata": {
        "id": "gq0Kx50UKtyX"
      },
      "source": [
        "#output = \"logs/paws-best.pth.tar\"\n",
        "#model_url = \"https://drive.google.com/uc?id=1qHNVcg0q9v4VFGi6mvpB7k484Ivupp00\""
      ],
      "execution_count": 38,
      "outputs": []
    },
    {
      "cell_type": "code",
      "metadata": {
        "id": "vYeSWds5Uohh"
      },
      "source": [
        "#output = \"logs/paws-latest.pth.tar\"\n",
        "#model_url = \"https://drive.google.com/uc?id=1vne4U9Z31-9V2_SVOHdVqYyZpJaRXH6f\""
      ],
      "execution_count": null,
      "outputs": []
    },
    {
      "cell_type": "code",
      "metadata": {
        "colab": {
          "base_uri": "https://localhost:8080/",
          "height": 103
        },
        "id": "Dl4xMk5J2Cgz",
        "outputId": "8c4bc5bd-5c40-489e-b63e-7ca1931dad5a"
      },
      "source": [
        "gdown.download(model_url, output, quiet=False)"
      ],
      "execution_count": 10,
      "outputs": [
        {
          "output_type": "stream",
          "text": [
            "Downloading...\n",
            "From: https://drive.google.com/uc?id=1SAYDN1w8jG4XuqTq0j_5areDvAerCTFA\n",
            "To: /content/suncet/logs/paws-ep100.pth.tar\n",
            "306MB [00:02, 116MB/s] \n"
          ],
          "name": "stderr"
        },
        {
          "output_type": "execute_result",
          "data": {
            "application/vnd.google.colaboratory.intrinsic+json": {
              "type": "string"
            },
            "text/plain": [
              "'logs/paws-ep100.pth.tar'"
            ]
          },
          "metadata": {
            "tags": []
          },
          "execution_count": 10
        }
      ]
    },
    {
      "cell_type": "markdown",
      "metadata": {
        "id": "ln-Ge4v-A_yP"
      },
      "source": [
        "`main.py`"
      ]
    },
    {
      "cell_type": "code",
      "metadata": {
        "colab": {
          "base_uri": "https://localhost:8080/"
        },
        "id": "hZjEepEFBCQF",
        "outputId": "9ac748cc-c1c3-49aa-b726-506dc1ae088f"
      },
      "source": [
        "# Copyright (c) Facebook, Inc. and its affiliates.\n",
        "# All rights reserved.\n",
        "#\n",
        "# This source code is licensed under the license found in the\n",
        "# LICENSE file in the root directory of this source tree.\n",
        "#\n",
        "\n",
        "import argparse\n",
        "\n",
        "import torch.multiprocessing as mp\n",
        "\n",
        "import pprint\n",
        "import yaml\n",
        "\n",
        "from src.paws_train import main as paws\n",
        "from src.suncet_train import main as suncet\n",
        "from src.fine_tune import main as fine_tune\n",
        "from src.snn_fine_tune import main as snn_fine_tune\n",
        "\n",
        "from src.utils import init_distributed\n",
        "\n",
        "parser = argparse.ArgumentParser()\n",
        "parser.add_argument(\n",
        "    \"--fname\", type=str, help=\"name of config file to load\", default=\"configs.yaml\"\n",
        ")\n",
        "parser.add_argument(\n",
        "    \"--devices\",\n",
        "    type=str,\n",
        "    nargs=\"+\",\n",
        "    default=[\"cuda:0\"],\n",
        "    help=\"which devices to use on local machine\",\n",
        ")\n",
        "parser.add_argument(\n",
        "    \"--sel\",\n",
        "    type=str,\n",
        "    help=\"which script to run\",\n",
        "    choices=[\"paws_train\", \"suncet_train\", \"fine_tune\", \"snn_fine_tune\"],\n",
        ")\n"
      ],
      "execution_count": 11,
      "outputs": [
        {
          "output_type": "execute_result",
          "data": {
            "text/plain": [
              "_StoreAction(option_strings=['--sel'], dest='sel', nargs=None, const=None, default=None, type=<class 'str'>, choices=['paws_train', 'suncet_train', 'fine_tune', 'snn_fine_tune'], help='which script to run', metavar=None)"
            ]
          },
          "metadata": {
            "tags": []
          },
          "execution_count": 11
        }
      ]
    },
    {
      "cell_type": "code",
      "metadata": {
        "id": "jS_6NXCIBFzI"
      },
      "source": [
        "args = parser.parse_args(['--sel', 'fine_tune',\n",
        "                          '--fname', 'configs/paws/dr_fine_tune.yaml'\n",
        "])"
      ],
      "execution_count": 12,
      "outputs": []
    },
    {
      "cell_type": "code",
      "metadata": {
        "id": "m0G_CvPcBrD9"
      },
      "source": [
        "fname = args.fname\n",
        "sel = args.sel"
      ],
      "execution_count": 13,
      "outputs": []
    },
    {
      "cell_type": "code",
      "metadata": {
        "colab": {
          "base_uri": "https://localhost:8080/"
        },
        "id": "6YHQTaIUBrGw",
        "outputId": "8bfde35e-1df9-47ca-8c6e-019e101c132e"
      },
      "source": [
        "import logging\n",
        "logging.basicConfig()\n",
        "logger = logging.getLogger()\n",
        "\n",
        "logger.info(f'called-params {sel} {fname}')"
      ],
      "execution_count": 14,
      "outputs": [
        {
          "output_type": "stream",
          "text": [
            "INFO:root:called-params fine_tune configs/paws/dr_fine_tune.yaml\n"
          ],
          "name": "stdout"
        }
      ]
    },
    {
      "cell_type": "code",
      "metadata": {
        "id": "guYIscowBrJs"
      },
      "source": [
        "rank = 0"
      ],
      "execution_count": 15,
      "outputs": []
    },
    {
      "cell_type": "code",
      "metadata": {
        "colab": {
          "base_uri": "https://localhost:8080/"
        },
        "id": "vyCicIMIBrMx",
        "outputId": "c4dd95f3-9c08-4f99-8085-1378867d04f6"
      },
      "source": [
        "# -- load script params\n",
        "params = None\n",
        "with open(fname, 'r') as y_file:\n",
        "    params = yaml.load(y_file, Loader=yaml.FullLoader)\n",
        "    logger.info('loaded params...')\n",
        "    if rank == 0:\n",
        "        pp = pprint.PrettyPrinter(indent=4)\n",
        "        pp.pprint(params)\n",
        "\n",
        "if rank == 0:\n",
        "    dump = os.path.join(params['logging']['folder'], f'params-{sel}.yaml')\n",
        "    with open(dump, 'w') as f:\n",
        "        yaml.dump(params, f)"
      ],
      "execution_count": 16,
      "outputs": [
        {
          "output_type": "stream",
          "text": [
            "INFO:root:loaded params...\n",
            "{   'data': {   'data_seed': 152,\n",
            "                'dataset': 'dr_fine_tune',\n",
            "                'image_folder': 'dr/sample@1000/',\n",
            "                'normalize': True,\n",
            "                'num_classes': 2,\n",
            "                'root_path': 'datasets/',\n",
            "                'subset_path': 'dr_subsets/',\n",
            "                'unlabeled_frac': 0.9},\n",
            "    'logging': {   'folder': 'logs/',\n",
            "                   'pretrain_path': 'paws-ep100.pth.tar',\n",
            "                   'write_tag': 'paws-latest-SNN'},\n",
            "    'meta': {   'copy_data': True,\n",
            "                'device': 'cuda:0',\n",
            "                'load_checkpoint': False,\n",
            "                'master_port': 4029,\n",
            "                'model_name': 'resnet50',\n",
            "                'training': True,\n",
            "                'use_fp16': True},\n",
            "    'optimization': {   'epochs': 50,\n",
            "                        'lr': 1e-05,\n",
            "                        'use_lars': False,\n",
            "                        'weight_decay': 0.0,\n",
            "                        'zero_init': True}}\n"
          ],
          "name": "stdout"
        }
      ]
    },
    {
      "cell_type": "code",
      "metadata": {
        "id": "HBZ_cA-KBrO3"
      },
      "source": [
        "args = params"
      ],
      "execution_count": 17,
      "outputs": []
    },
    {
      "cell_type": "code",
      "metadata": {
        "colab": {
          "base_uri": "https://localhost:8080/"
        },
        "id": "HqU77odjG_82",
        "outputId": "0639df57-358d-481d-c7be-bd718163fb8d"
      },
      "source": [
        "args"
      ],
      "execution_count": 18,
      "outputs": [
        {
          "output_type": "execute_result",
          "data": {
            "text/plain": [
              "{'data': {'data_seed': 152,\n",
              "  'dataset': 'dr_fine_tune',\n",
              "  'image_folder': 'dr/sample@1000/',\n",
              "  'normalize': True,\n",
              "  'num_classes': 2,\n",
              "  'root_path': 'datasets/',\n",
              "  'subset_path': 'dr_subsets/',\n",
              "  'unlabeled_frac': 0.9},\n",
              " 'logging': {'folder': 'logs/',\n",
              "  'pretrain_path': 'paws-ep100.pth.tar',\n",
              "  'write_tag': 'paws-latest-SNN'},\n",
              " 'meta': {'copy_data': True,\n",
              "  'device': 'cuda:0',\n",
              "  'load_checkpoint': False,\n",
              "  'master_port': 4029,\n",
              "  'model_name': 'resnet50',\n",
              "  'training': True,\n",
              "  'use_fp16': True},\n",
              " 'optimization': {'epochs': 50,\n",
              "  'lr': 1e-05,\n",
              "  'use_lars': False,\n",
              "  'weight_decay': 0.0,\n",
              "  'zero_init': True}}"
            ]
          },
          "metadata": {
            "tags": []
          },
          "execution_count": 18
        }
      ]
    },
    {
      "cell_type": "markdown",
      "metadata": {
        "id": "91a9EGKyBzEG"
      },
      "source": [
        "## FINE TUNE TRAIN"
      ]
    },
    {
      "cell_type": "code",
      "metadata": {
        "id": "2mQKJg0ABrSi"
      },
      "source": [
        "# Copyright (c) Facebook, Inc. and its affiliates.\n",
        "# All rights reserved.\n",
        "#\n",
        "# This source code is licensed under the license found in the\n",
        "# LICENSE file in the root directory of this source tree.\n",
        "#\n",
        "\n",
        "import os\n",
        "\n",
        "# -- FOR DISTRIBUTED TRAINING ENSURE ONLY 1 DEVICE VISIBLE PER PROCESS\n",
        "try:\n",
        "    # -- WARNING: IF DOING DISTRIBUTED TRAINING ON A NON-SLURM CLUSTER, MAKE\n",
        "    # --          SURE TO UPDATE THIS TO GET LOCAL-RANK ON NODE, OR ENSURE\n",
        "    # --          THAT YOUR JOBS ARE LAUNCHED WITH ONLY 1 DEVICE VISIBLE\n",
        "    # --          TO EACH PROCESS\n",
        "    os.environ['CUDA_VISIBLE_DEVICES'] = os.environ['SLURM_LOCALID']\n",
        "except Exception:\n",
        "    pass\n",
        "\n",
        "import logging\n",
        "import sys\n",
        "import copy\n",
        "\n",
        "from collections import OrderedDict\n",
        "\n",
        "import numpy as np\n",
        "\n",
        "import torch\n",
        "\n",
        "import src.resnet as resnet\n",
        "import src.wide_resnet as wide_resnet\n",
        "from src.utils import (\n",
        "    init_distributed,\n",
        "    WarmupCosineSchedule\n",
        ")\n",
        "from src.data_manager import (\n",
        "    init_data,\n",
        "    make_transforms\n",
        ")\n",
        "from src.sgd import SGD\n",
        "from torch.nn.parallel import DistributedDataParallel\n",
        "from src.lars import LARS\n",
        "\n",
        "# --\n",
        "log_timings = True\n",
        "log_freq = 10\n",
        "checkpoint_freq = 50\n",
        "# --\n",
        "\n",
        "_GLOBAL_SEED = 0\n",
        "np.random.seed(_GLOBAL_SEED)\n",
        "torch.manual_seed(_GLOBAL_SEED)\n",
        "torch.backends.cudnn.benchmark = True\n",
        "\n",
        "logging.basicConfig(stream=sys.stdout, level=logging.INFO)\n",
        "logger = logging.getLogger()"
      ],
      "execution_count": 19,
      "outputs": []
    },
    {
      "cell_type": "code",
      "metadata": {
        "id": "Nh8OlmleBrXj"
      },
      "source": [
        "def load_pretrained(\n",
        "    r_path,\n",
        "    encoder,\n",
        "    device_str\n",
        "):\n",
        "    checkpoint = torch.load(r_path, map_location='cpu')\n",
        "    pretrained_dict = {k.replace('module.', ''): v for k, v in checkpoint['encoder'].items()}\n",
        "    for k, v in encoder.state_dict().items():\n",
        "        if k not in pretrained_dict:\n",
        "            logger.info(f'key \"{k}\" could not be found in loaded state dict')\n",
        "        elif pretrained_dict[k].shape != v.shape:\n",
        "            logger.info(f'key \"{k}\" is of different shape in model and loaded state dict')\n",
        "            pretrained_dict[k] = v\n",
        "    msg = encoder.load_state_dict(pretrained_dict, strict=False)\n",
        "    logger.info(f'loaded pretrained model with msg: {msg}')\n",
        "    logger.info(f'loaded pretrained encoder from epoch: {checkpoint[\"epoch\"]} '\n",
        "                f'path: {r_path}')\n",
        "    del checkpoint\n",
        "    return encoder"
      ],
      "execution_count": 20,
      "outputs": []
    },
    {
      "cell_type": "code",
      "metadata": {
        "id": "MZkNsaIrBrbD"
      },
      "source": [
        "def load_from_path(\n",
        "    r_path,\n",
        "    encoder,\n",
        "    opt,\n",
        "    sched,\n",
        "    scaler,\n",
        "    device_str,\n",
        "    use_fp16=False\n",
        "):\n",
        "    encoder = load_pretrained(r_path, encoder, device_str)\n",
        "    checkpoint = torch.load(r_path, map_location=device_str)\n",
        "\n",
        "    best_acc = None\n",
        "    if 'best_top1_acc' in checkpoint:\n",
        "        best_acc = checkpoint['best_top1_acc']\n",
        "\n",
        "    epoch = checkpoint['epoch']\n",
        "    if opt is not None:\n",
        "        if use_fp16:\n",
        "            scaler.load_state_dict(checkpoint['amp'])\n",
        "        opt.load_state_dict(checkpoint['opt'])\n",
        "        sched.load_state_dict(checkpoint['sched'])\n",
        "        logger.info(f'loaded optimizers from epoch {epoch}')\n",
        "    logger.info(f'read-path: {r_path}')\n",
        "    del checkpoint\n",
        "    return encoder, opt, sched, epoch, best_acc"
      ],
      "execution_count": 21,
      "outputs": []
    },
    {
      "cell_type": "code",
      "metadata": {
        "id": "NfV-VdVHBrdQ"
      },
      "source": [
        "def init_model(\n",
        "    device,\n",
        "    device_str,\n",
        "    num_classes,\n",
        "    training,\n",
        "    use_fp16,\n",
        "    r_enc_path,\n",
        "    iterations_per_epoch,\n",
        "    world_size,\n",
        "    ref_lr,\n",
        "    num_epochs,\n",
        "    use_lars=False,\n",
        "    zero_init=True,\n",
        "    model_name='resnet50',\n",
        "    warmup_epochs=0,\n",
        "    weight_decay=0\n",
        "):\n",
        "    # -- init model\n",
        "    if 'wide_resnet' in model_name:\n",
        "        encoder = wide_resnet.__dict__[model_name](dropout_rate=0.0)\n",
        "        hidden_dim = 128\n",
        "    else:\n",
        "        encoder = resnet.__dict__[model_name]()\n",
        "        hidden_dim = 2048\n",
        "        if 'w2' in model_name:\n",
        "            hidden_dim *= 2\n",
        "        elif 'w4' in model_name:\n",
        "            hidden_dim *= 4\n",
        "\n",
        "    # -- projection head\n",
        "    encoder.fc = torch.nn.Sequential(OrderedDict([\n",
        "        ('fc1', torch.nn.Linear(hidden_dim, hidden_dim)),\n",
        "        ('bn1', torch.nn.BatchNorm1d(hidden_dim)),\n",
        "        ('relu1', torch.nn.ReLU(inplace=True)),\n",
        "        ('fc2', torch.nn.Linear(hidden_dim, 1)), # YO changed\n",
        "        ('sg', torch.nn.Sigmoid())  # YO \n",
        "    ]))\n",
        "\n",
        "    encoder.to(device)\n",
        "    encoder = load_pretrained(\n",
        "        r_path=r_enc_path,\n",
        "        encoder=encoder,\n",
        "        device_str=device_str)\n",
        "\n",
        "    if zero_init:\n",
        "        for p in encoder.fc.fc2.parameters():\n",
        "            torch.nn.init.zeros_(p)\n",
        "\n",
        "    # -- init optimizer\n",
        "    optimizer, scheduler = None, None\n",
        "    if training:\n",
        "        param_groups = [\n",
        "            {'params': (p for n, p in encoder.named_parameters()\n",
        "                        if ('bias' not in n) and ('bn' not in n))},\n",
        "            {'params': (p for n, p in encoder.named_parameters()\n",
        "                        if ('bias' in n) or ('bn' in n)),\n",
        "             'LARS_exclude': True,\n",
        "             'weight_decay': 0}\n",
        "        ]\n",
        "        optimizer = SGD(\n",
        "            param_groups,\n",
        "            nesterov=True,\n",
        "            weight_decay=weight_decay,\n",
        "            momentum=0.9,\n",
        "            lr=ref_lr)\n",
        "        scheduler = WarmupCosineSchedule(\n",
        "            optimizer,\n",
        "            warmup_steps=warmup_epochs*iterations_per_epoch,\n",
        "            start_lr=ref_lr,\n",
        "            ref_lr=ref_lr,\n",
        "            T_max=num_epochs*iterations_per_epoch)\n",
        "        if use_lars:\n",
        "            optimizer = LARS(optimizer, trust_coefficient=0.001)\n",
        "    if world_size > 1:\n",
        "        encoder = DistributedDataParallel(encoder, broadcast_buffers=False)\n",
        "\n",
        "    return encoder, optimizer, scheduler"
      ],
      "execution_count": 22,
      "outputs": []
    },
    {
      "cell_type": "code",
      "metadata": {
        "id": "Uq3v7zFLBrgG"
      },
      "source": [
        "# -- META\n",
        "model_name = args['meta']['model_name']\n",
        "port = args['meta']['master_port']\n",
        "load_checkpoint = args['meta']['load_checkpoint']\n",
        "training = args['meta']['training']\n",
        "copy_data = args['meta']['copy_data']\n",
        "use_fp16 = args['meta']['use_fp16']\n",
        "device = torch.device(args['meta']['device'])\n",
        "torch.cuda.set_device(device)"
      ],
      "execution_count": 23,
      "outputs": []
    },
    {
      "cell_type": "code",
      "metadata": {
        "id": "os4hgZObBrrP"
      },
      "source": [
        "# -- DATA\n",
        "unlabeled_frac = args['data']['unlabeled_frac']\n",
        "normalize = args['data']['normalize']\n",
        "root_path = args['data']['root_path']\n",
        "image_folder = args['data']['image_folder']\n",
        "dataset_name = args['data']['dataset']\n",
        "subset_path = args['data']['subset_path']\n",
        "num_classes = args['data']['num_classes']\n",
        "data_seed = None\n",
        "if 'cifar10' in dataset_name:\n",
        "    data_seed = args['data']['data_seed']\n",
        "crop_scale = (0.5, 1.0) if 'cifar10' in dataset_name else (0.08, 1.0)"
      ],
      "execution_count": 24,
      "outputs": []
    },
    {
      "cell_type": "code",
      "metadata": {
        "id": "q1zEZGGQBrw3"
      },
      "source": [
        "# -- OPTIMIZATION\n",
        "wd = float(args['optimization']['weight_decay'])\n",
        "ref_lr = args['optimization']['lr']\n",
        "use_lars = args['optimization']['use_lars']\n",
        "zero_init = args['optimization']['zero_init']\n",
        "num_epochs = args['optimization']['epochs']"
      ],
      "execution_count": 25,
      "outputs": []
    },
    {
      "cell_type": "code",
      "metadata": {
        "id": "uT9t_7siDEiA"
      },
      "source": [
        "# -- LOGGING\n",
        "folder = args['logging']['folder']\n",
        "tag = args['logging']['write_tag']\n",
        "r_file_enc = args['logging']['pretrain_path']"
      ],
      "execution_count": 26,
      "outputs": []
    },
    {
      "cell_type": "code",
      "metadata": {
        "id": "12zIU-oxDEqO"
      },
      "source": [
        "# -- log/checkpointing paths\n",
        "r_enc_path = os.path.join(folder, r_file_enc)\n",
        "w_enc_path = os.path.join(folder, f'{tag}-fine-tune.pth.tar')"
      ],
      "execution_count": 27,
      "outputs": []
    },
    {
      "cell_type": "code",
      "metadata": {
        "colab": {
          "base_uri": "https://localhost:8080/"
        },
        "id": "sQX97cCGDEtl",
        "outputId": "564b7f4e-bf4b-4f40-9a5f-ead9e5aef033"
      },
      "source": [
        "# -- init distributed\n",
        "world_size, rank = init_distributed(port)\n",
        "logger.info(f'initialized rank/world-size: {rank}/{world_size}')"
      ],
      "execution_count": 28,
      "outputs": [
        {
          "output_type": "stream",
          "text": [
            "INFO:root:distributed training not available\n",
            "INFO:root:initialized rank/world-size: 0/1\n"
          ],
          "name": "stdout"
        }
      ]
    },
    {
      "cell_type": "code",
      "metadata": {
        "id": "tgKbHSR2DEwa"
      },
      "source": [
        "# -- optimization/evaluation params\n",
        "if training:\n",
        "    batch_size = 32\n",
        "else:\n",
        "    batch_size = 16\n",
        "    unlabeled_frac = 0.0\n",
        "    load_checkpoint = True\n",
        "    num_epochs = 1"
      ],
      "execution_count": 29,
      "outputs": []
    },
    {
      "cell_type": "code",
      "metadata": {
        "id": "QRpDSN1zDEz8"
      },
      "source": [
        "# -- init loss\n",
        "#criterion = torch.nn.CrossEntropyLoss() \n",
        "criterion = torch.nn.BCELoss() # YO CHANGED HERE\n",
        "#criterion = torch.nn.BCEWithLogitsLoss()"
      ],
      "execution_count": 30,
      "outputs": []
    },
    {
      "cell_type": "code",
      "metadata": {
        "colab": {
          "base_uri": "https://localhost:8080/"
        },
        "id": "ROxh1sWHDE3L",
        "outputId": "50b03d8b-b13e-490c-ace3-45df8c73bc96"
      },
      "source": [
        "# -- make train data transforms and data loaders/samples\n",
        "transform, init_transform = make_transforms(\n",
        "    dataset_name=dataset_name,\n",
        "    subset_path=subset_path,\n",
        "    unlabeled_frac=unlabeled_frac,\n",
        "    training=training,\n",
        "    crop_scale=crop_scale,\n",
        "    split_seed=data_seed,\n",
        "    basic_augmentations=True,\n",
        "    normalize=normalize)"
      ],
      "execution_count": 31,
      "outputs": [
        {
          "output_type": "stream",
          "text": [
            "INFO:root:making imagenet data transforms\n",
            "INFO:root:keep file: dr_subsets/90percent.txt\n"
          ],
          "name": "stdout"
        }
      ]
    },
    {
      "cell_type": "code",
      "metadata": {
        "colab": {
          "base_uri": "https://localhost:8080/"
        },
        "id": "-WZOnPx7DE-P",
        "outputId": "98e98054-d54b-47c8-c31b-6854375b7e8f"
      },
      "source": [
        "(data_loader,\n",
        "    dist_sampler) = init_data(\n",
        "        dataset_name=dataset_name,\n",
        "        transform=transform,\n",
        "        init_transform=init_transform,\n",
        "        u_batch_size=None,\n",
        "        s_batch_size=batch_size,\n",
        "        classes_per_batch=2,\n",
        "        world_size=world_size,\n",
        "        rank=rank,\n",
        "        root_path=root_path,\n",
        "        image_folder=image_folder,\n",
        "        training=training,\n",
        "        copy_data=copy_data)"
      ],
      "execution_count": 32,
      "outputs": [
        {
          "output_type": "stream",
          "text": [
            "INFO:root:copying data locally\n",
            "INFO:root:No job-id, will load directly from network file\n",
            "INFO:root:data-path datasets/dr/sample@1000/train/\n",
            "INFO:root:Initialized ImageDR\n",
            "INFO:root:ImageNet fine-tune dataset created\n",
            "self.multicrop_transform (0, None)\n",
            "INFO:root:flipping coin to keep labels\n"
          ],
          "name": "stdout"
        },
        {
          "output_type": "stream",
          "text": [
            "/usr/local/lib/python3.7/dist-packages/torch/utils/data/dataloader.py:481: UserWarning: This DataLoader will create 8 worker processes in total. Our suggested max number of worker in current system is 2, which is smaller than what this DataLoader is going to create. Please be aware that excessive worker creation might get DataLoader running slow or even freeze, lower the worker number to avoid potential slowness/freeze if necessary.\n",
            "  cpuset_checked))\n"
          ],
          "name": "stderr"
        }
      ]
    },
    {
      "cell_type": "code",
      "metadata": {
        "colab": {
          "base_uri": "https://localhost:8080/"
        },
        "id": "i1ZaEXJ0DFCc",
        "outputId": "f5879594-55ad-4d50-96ce-dff793cdd532"
      },
      "source": [
        "ipe = len(data_loader)\n",
        "logger.info(f'initialized data-loader (ipe {ipe})')"
      ],
      "execution_count": 33,
      "outputs": [
        {
          "output_type": "stream",
          "text": [
            "INFO:root:initialized data-loader (ipe 3)\n"
          ],
          "name": "stdout"
        }
      ]
    },
    {
      "cell_type": "code",
      "metadata": {
        "colab": {
          "base_uri": "https://localhost:8080/"
        },
        "id": "vr3kuterDFL7",
        "outputId": "db197022-acf3-4da9-dca8-7760237e6665"
      },
      "source": [
        "# -- init model and optimizer\n",
        "scaler = torch.cuda.amp.GradScaler(enabled=use_fp16)\n",
        "encoder, optimizer, scheduler = init_model(\n",
        "    device=device,\n",
        "    device_str=args['meta']['device'],\n",
        "    num_classes=num_classes,\n",
        "    training=training,\n",
        "    use_fp16=use_fp16,\n",
        "    r_enc_path=r_enc_path,\n",
        "    iterations_per_epoch=ipe,\n",
        "    world_size=world_size,\n",
        "    ref_lr=ref_lr,\n",
        "    weight_decay=wd,\n",
        "    use_lars=use_lars,\n",
        "    zero_init=zero_init,\n",
        "    num_epochs=num_epochs,\n",
        "    model_name=model_name)"
      ],
      "execution_count": 34,
      "outputs": [
        {
          "output_type": "stream",
          "text": [
            "INFO:root:key \"fc.fc2.weight\" is of different shape in model and loaded state dict\n",
            "INFO:root:key \"fc.fc2.bias\" is of different shape in model and loaded state dict\n",
            "INFO:root:loaded pretrained model with msg: _IncompatibleKeys(missing_keys=[], unexpected_keys=['pred.bn1.weight', 'pred.bn1.bias', 'pred.bn1.running_mean', 'pred.bn1.running_var', 'pred.bn1.num_batches_tracked', 'pred.fc1.weight', 'pred.fc1.bias', 'pred.bn2.weight', 'pred.bn2.bias', 'pred.bn2.running_mean', 'pred.bn2.running_var', 'pred.bn2.num_batches_tracked', 'pred.fc2.weight', 'pred.fc2.bias', 'fc.bn2.weight', 'fc.bn2.bias', 'fc.bn2.running_mean', 'fc.bn2.running_var', 'fc.bn2.num_batches_tracked', 'fc.fc3.weight', 'fc.fc3.bias'])\n",
            "INFO:root:loaded pretrained encoder from epoch: 100 path: logs/paws-ep100.pth.tar\n"
          ],
          "name": "stdout"
        }
      ]
    },
    {
      "cell_type": "code",
      "metadata": {
        "colab": {
          "base_uri": "https://localhost:8080/"
        },
        "id": "vO78XesVOKdA",
        "outputId": "bf3b85a0-d36a-41ac-a00f-247eef6fa271"
      },
      "source": [
        "encoder"
      ],
      "execution_count": 35,
      "outputs": [
        {
          "output_type": "execute_result",
          "data": {
            "text/plain": [
              "ResNet(\n",
              "  (conv1): Conv2d(3, 64, kernel_size=(7, 7), stride=(2, 2), padding=(3, 3), bias=False)\n",
              "  (bn1): BatchNorm2d(64, eps=1e-05, momentum=0.1, affine=True, track_running_stats=True)\n",
              "  (relu): ReLU(inplace=True)\n",
              "  (maxpool): MaxPool2d(kernel_size=3, stride=2, padding=1, dilation=1, ceil_mode=False)\n",
              "  (layer1): Sequential(\n",
              "    (0): Bottleneck(\n",
              "      (conv1): Conv2d(64, 64, kernel_size=(1, 1), stride=(1, 1), bias=False)\n",
              "      (bn1): BatchNorm2d(64, eps=1e-05, momentum=0.1, affine=True, track_running_stats=True)\n",
              "      (conv2): Conv2d(64, 64, kernel_size=(3, 3), stride=(1, 1), padding=(1, 1), bias=False)\n",
              "      (bn2): BatchNorm2d(64, eps=1e-05, momentum=0.1, affine=True, track_running_stats=True)\n",
              "      (conv3): Conv2d(64, 256, kernel_size=(1, 1), stride=(1, 1), bias=False)\n",
              "      (bn3): BatchNorm2d(256, eps=1e-05, momentum=0.1, affine=True, track_running_stats=True)\n",
              "      (relu): ReLU(inplace=True)\n",
              "      (downsample): Sequential(\n",
              "        (0): Conv2d(64, 256, kernel_size=(1, 1), stride=(1, 1), bias=False)\n",
              "        (1): BatchNorm2d(256, eps=1e-05, momentum=0.1, affine=True, track_running_stats=True)\n",
              "      )\n",
              "    )\n",
              "    (1): Bottleneck(\n",
              "      (conv1): Conv2d(256, 64, kernel_size=(1, 1), stride=(1, 1), bias=False)\n",
              "      (bn1): BatchNorm2d(64, eps=1e-05, momentum=0.1, affine=True, track_running_stats=True)\n",
              "      (conv2): Conv2d(64, 64, kernel_size=(3, 3), stride=(1, 1), padding=(1, 1), bias=False)\n",
              "      (bn2): BatchNorm2d(64, eps=1e-05, momentum=0.1, affine=True, track_running_stats=True)\n",
              "      (conv3): Conv2d(64, 256, kernel_size=(1, 1), stride=(1, 1), bias=False)\n",
              "      (bn3): BatchNorm2d(256, eps=1e-05, momentum=0.1, affine=True, track_running_stats=True)\n",
              "      (relu): ReLU(inplace=True)\n",
              "    )\n",
              "    (2): Bottleneck(\n",
              "      (conv1): Conv2d(256, 64, kernel_size=(1, 1), stride=(1, 1), bias=False)\n",
              "      (bn1): BatchNorm2d(64, eps=1e-05, momentum=0.1, affine=True, track_running_stats=True)\n",
              "      (conv2): Conv2d(64, 64, kernel_size=(3, 3), stride=(1, 1), padding=(1, 1), bias=False)\n",
              "      (bn2): BatchNorm2d(64, eps=1e-05, momentum=0.1, affine=True, track_running_stats=True)\n",
              "      (conv3): Conv2d(64, 256, kernel_size=(1, 1), stride=(1, 1), bias=False)\n",
              "      (bn3): BatchNorm2d(256, eps=1e-05, momentum=0.1, affine=True, track_running_stats=True)\n",
              "      (relu): ReLU(inplace=True)\n",
              "    )\n",
              "  )\n",
              "  (layer2): Sequential(\n",
              "    (0): Bottleneck(\n",
              "      (conv1): Conv2d(256, 128, kernel_size=(1, 1), stride=(1, 1), bias=False)\n",
              "      (bn1): BatchNorm2d(128, eps=1e-05, momentum=0.1, affine=True, track_running_stats=True)\n",
              "      (conv2): Conv2d(128, 128, kernel_size=(3, 3), stride=(2, 2), padding=(1, 1), bias=False)\n",
              "      (bn2): BatchNorm2d(128, eps=1e-05, momentum=0.1, affine=True, track_running_stats=True)\n",
              "      (conv3): Conv2d(128, 512, kernel_size=(1, 1), stride=(1, 1), bias=False)\n",
              "      (bn3): BatchNorm2d(512, eps=1e-05, momentum=0.1, affine=True, track_running_stats=True)\n",
              "      (relu): ReLU(inplace=True)\n",
              "      (downsample): Sequential(\n",
              "        (0): Conv2d(256, 512, kernel_size=(1, 1), stride=(2, 2), bias=False)\n",
              "        (1): BatchNorm2d(512, eps=1e-05, momentum=0.1, affine=True, track_running_stats=True)\n",
              "      )\n",
              "    )\n",
              "    (1): Bottleneck(\n",
              "      (conv1): Conv2d(512, 128, kernel_size=(1, 1), stride=(1, 1), bias=False)\n",
              "      (bn1): BatchNorm2d(128, eps=1e-05, momentum=0.1, affine=True, track_running_stats=True)\n",
              "      (conv2): Conv2d(128, 128, kernel_size=(3, 3), stride=(1, 1), padding=(1, 1), bias=False)\n",
              "      (bn2): BatchNorm2d(128, eps=1e-05, momentum=0.1, affine=True, track_running_stats=True)\n",
              "      (conv3): Conv2d(128, 512, kernel_size=(1, 1), stride=(1, 1), bias=False)\n",
              "      (bn3): BatchNorm2d(512, eps=1e-05, momentum=0.1, affine=True, track_running_stats=True)\n",
              "      (relu): ReLU(inplace=True)\n",
              "    )\n",
              "    (2): Bottleneck(\n",
              "      (conv1): Conv2d(512, 128, kernel_size=(1, 1), stride=(1, 1), bias=False)\n",
              "      (bn1): BatchNorm2d(128, eps=1e-05, momentum=0.1, affine=True, track_running_stats=True)\n",
              "      (conv2): Conv2d(128, 128, kernel_size=(3, 3), stride=(1, 1), padding=(1, 1), bias=False)\n",
              "      (bn2): BatchNorm2d(128, eps=1e-05, momentum=0.1, affine=True, track_running_stats=True)\n",
              "      (conv3): Conv2d(128, 512, kernel_size=(1, 1), stride=(1, 1), bias=False)\n",
              "      (bn3): BatchNorm2d(512, eps=1e-05, momentum=0.1, affine=True, track_running_stats=True)\n",
              "      (relu): ReLU(inplace=True)\n",
              "    )\n",
              "    (3): Bottleneck(\n",
              "      (conv1): Conv2d(512, 128, kernel_size=(1, 1), stride=(1, 1), bias=False)\n",
              "      (bn1): BatchNorm2d(128, eps=1e-05, momentum=0.1, affine=True, track_running_stats=True)\n",
              "      (conv2): Conv2d(128, 128, kernel_size=(3, 3), stride=(1, 1), padding=(1, 1), bias=False)\n",
              "      (bn2): BatchNorm2d(128, eps=1e-05, momentum=0.1, affine=True, track_running_stats=True)\n",
              "      (conv3): Conv2d(128, 512, kernel_size=(1, 1), stride=(1, 1), bias=False)\n",
              "      (bn3): BatchNorm2d(512, eps=1e-05, momentum=0.1, affine=True, track_running_stats=True)\n",
              "      (relu): ReLU(inplace=True)\n",
              "    )\n",
              "  )\n",
              "  (layer3): Sequential(\n",
              "    (0): Bottleneck(\n",
              "      (conv1): Conv2d(512, 256, kernel_size=(1, 1), stride=(1, 1), bias=False)\n",
              "      (bn1): BatchNorm2d(256, eps=1e-05, momentum=0.1, affine=True, track_running_stats=True)\n",
              "      (conv2): Conv2d(256, 256, kernel_size=(3, 3), stride=(2, 2), padding=(1, 1), bias=False)\n",
              "      (bn2): BatchNorm2d(256, eps=1e-05, momentum=0.1, affine=True, track_running_stats=True)\n",
              "      (conv3): Conv2d(256, 1024, kernel_size=(1, 1), stride=(1, 1), bias=False)\n",
              "      (bn3): BatchNorm2d(1024, eps=1e-05, momentum=0.1, affine=True, track_running_stats=True)\n",
              "      (relu): ReLU(inplace=True)\n",
              "      (downsample): Sequential(\n",
              "        (0): Conv2d(512, 1024, kernel_size=(1, 1), stride=(2, 2), bias=False)\n",
              "        (1): BatchNorm2d(1024, eps=1e-05, momentum=0.1, affine=True, track_running_stats=True)\n",
              "      )\n",
              "    )\n",
              "    (1): Bottleneck(\n",
              "      (conv1): Conv2d(1024, 256, kernel_size=(1, 1), stride=(1, 1), bias=False)\n",
              "      (bn1): BatchNorm2d(256, eps=1e-05, momentum=0.1, affine=True, track_running_stats=True)\n",
              "      (conv2): Conv2d(256, 256, kernel_size=(3, 3), stride=(1, 1), padding=(1, 1), bias=False)\n",
              "      (bn2): BatchNorm2d(256, eps=1e-05, momentum=0.1, affine=True, track_running_stats=True)\n",
              "      (conv3): Conv2d(256, 1024, kernel_size=(1, 1), stride=(1, 1), bias=False)\n",
              "      (bn3): BatchNorm2d(1024, eps=1e-05, momentum=0.1, affine=True, track_running_stats=True)\n",
              "      (relu): ReLU(inplace=True)\n",
              "    )\n",
              "    (2): Bottleneck(\n",
              "      (conv1): Conv2d(1024, 256, kernel_size=(1, 1), stride=(1, 1), bias=False)\n",
              "      (bn1): BatchNorm2d(256, eps=1e-05, momentum=0.1, affine=True, track_running_stats=True)\n",
              "      (conv2): Conv2d(256, 256, kernel_size=(3, 3), stride=(1, 1), padding=(1, 1), bias=False)\n",
              "      (bn2): BatchNorm2d(256, eps=1e-05, momentum=0.1, affine=True, track_running_stats=True)\n",
              "      (conv3): Conv2d(256, 1024, kernel_size=(1, 1), stride=(1, 1), bias=False)\n",
              "      (bn3): BatchNorm2d(1024, eps=1e-05, momentum=0.1, affine=True, track_running_stats=True)\n",
              "      (relu): ReLU(inplace=True)\n",
              "    )\n",
              "    (3): Bottleneck(\n",
              "      (conv1): Conv2d(1024, 256, kernel_size=(1, 1), stride=(1, 1), bias=False)\n",
              "      (bn1): BatchNorm2d(256, eps=1e-05, momentum=0.1, affine=True, track_running_stats=True)\n",
              "      (conv2): Conv2d(256, 256, kernel_size=(3, 3), stride=(1, 1), padding=(1, 1), bias=False)\n",
              "      (bn2): BatchNorm2d(256, eps=1e-05, momentum=0.1, affine=True, track_running_stats=True)\n",
              "      (conv3): Conv2d(256, 1024, kernel_size=(1, 1), stride=(1, 1), bias=False)\n",
              "      (bn3): BatchNorm2d(1024, eps=1e-05, momentum=0.1, affine=True, track_running_stats=True)\n",
              "      (relu): ReLU(inplace=True)\n",
              "    )\n",
              "    (4): Bottleneck(\n",
              "      (conv1): Conv2d(1024, 256, kernel_size=(1, 1), stride=(1, 1), bias=False)\n",
              "      (bn1): BatchNorm2d(256, eps=1e-05, momentum=0.1, affine=True, track_running_stats=True)\n",
              "      (conv2): Conv2d(256, 256, kernel_size=(3, 3), stride=(1, 1), padding=(1, 1), bias=False)\n",
              "      (bn2): BatchNorm2d(256, eps=1e-05, momentum=0.1, affine=True, track_running_stats=True)\n",
              "      (conv3): Conv2d(256, 1024, kernel_size=(1, 1), stride=(1, 1), bias=False)\n",
              "      (bn3): BatchNorm2d(1024, eps=1e-05, momentum=0.1, affine=True, track_running_stats=True)\n",
              "      (relu): ReLU(inplace=True)\n",
              "    )\n",
              "    (5): Bottleneck(\n",
              "      (conv1): Conv2d(1024, 256, kernel_size=(1, 1), stride=(1, 1), bias=False)\n",
              "      (bn1): BatchNorm2d(256, eps=1e-05, momentum=0.1, affine=True, track_running_stats=True)\n",
              "      (conv2): Conv2d(256, 256, kernel_size=(3, 3), stride=(1, 1), padding=(1, 1), bias=False)\n",
              "      (bn2): BatchNorm2d(256, eps=1e-05, momentum=0.1, affine=True, track_running_stats=True)\n",
              "      (conv3): Conv2d(256, 1024, kernel_size=(1, 1), stride=(1, 1), bias=False)\n",
              "      (bn3): BatchNorm2d(1024, eps=1e-05, momentum=0.1, affine=True, track_running_stats=True)\n",
              "      (relu): ReLU(inplace=True)\n",
              "    )\n",
              "  )\n",
              "  (layer4): Sequential(\n",
              "    (0): Bottleneck(\n",
              "      (conv1): Conv2d(1024, 512, kernel_size=(1, 1), stride=(1, 1), bias=False)\n",
              "      (bn1): BatchNorm2d(512, eps=1e-05, momentum=0.1, affine=True, track_running_stats=True)\n",
              "      (conv2): Conv2d(512, 512, kernel_size=(3, 3), stride=(2, 2), padding=(1, 1), bias=False)\n",
              "      (bn2): BatchNorm2d(512, eps=1e-05, momentum=0.1, affine=True, track_running_stats=True)\n",
              "      (conv3): Conv2d(512, 2048, kernel_size=(1, 1), stride=(1, 1), bias=False)\n",
              "      (bn3): BatchNorm2d(2048, eps=1e-05, momentum=0.1, affine=True, track_running_stats=True)\n",
              "      (relu): ReLU(inplace=True)\n",
              "      (downsample): Sequential(\n",
              "        (0): Conv2d(1024, 2048, kernel_size=(1, 1), stride=(2, 2), bias=False)\n",
              "        (1): BatchNorm2d(2048, eps=1e-05, momentum=0.1, affine=True, track_running_stats=True)\n",
              "      )\n",
              "    )\n",
              "    (1): Bottleneck(\n",
              "      (conv1): Conv2d(2048, 512, kernel_size=(1, 1), stride=(1, 1), bias=False)\n",
              "      (bn1): BatchNorm2d(512, eps=1e-05, momentum=0.1, affine=True, track_running_stats=True)\n",
              "      (conv2): Conv2d(512, 512, kernel_size=(3, 3), stride=(1, 1), padding=(1, 1), bias=False)\n",
              "      (bn2): BatchNorm2d(512, eps=1e-05, momentum=0.1, affine=True, track_running_stats=True)\n",
              "      (conv3): Conv2d(512, 2048, kernel_size=(1, 1), stride=(1, 1), bias=False)\n",
              "      (bn3): BatchNorm2d(2048, eps=1e-05, momentum=0.1, affine=True, track_running_stats=True)\n",
              "      (relu): ReLU(inplace=True)\n",
              "    )\n",
              "    (2): Bottleneck(\n",
              "      (conv1): Conv2d(2048, 512, kernel_size=(1, 1), stride=(1, 1), bias=False)\n",
              "      (bn1): BatchNorm2d(512, eps=1e-05, momentum=0.1, affine=True, track_running_stats=True)\n",
              "      (conv2): Conv2d(512, 512, kernel_size=(3, 3), stride=(1, 1), padding=(1, 1), bias=False)\n",
              "      (bn2): BatchNorm2d(512, eps=1e-05, momentum=0.1, affine=True, track_running_stats=True)\n",
              "      (conv3): Conv2d(512, 2048, kernel_size=(1, 1), stride=(1, 1), bias=False)\n",
              "      (bn3): BatchNorm2d(2048, eps=1e-05, momentum=0.1, affine=True, track_running_stats=True)\n",
              "      (relu): ReLU(inplace=True)\n",
              "    )\n",
              "  )\n",
              "  (avgpool): AdaptiveAvgPool2d(output_size=(1, 1))\n",
              "  (fc): Sequential(\n",
              "    (fc1): Linear(in_features=2048, out_features=2048, bias=True)\n",
              "    (bn1): BatchNorm1d(2048, eps=1e-05, momentum=0.1, affine=True, track_running_stats=True)\n",
              "    (relu1): ReLU(inplace=True)\n",
              "    (fc2): Linear(in_features=2048, out_features=1, bias=True)\n",
              "    (sg): Sigmoid()\n",
              "  )\n",
              ")"
            ]
          },
          "metadata": {
            "tags": []
          },
          "execution_count": 35
        }
      ]
    },
    {
      "cell_type": "code",
      "metadata": {
        "id": "CG0qD6-iDFTW"
      },
      "source": [
        "best_acc = None\n",
        "start_epoch = 0\n",
        "# -- load checkpoint\n",
        "if not training or load_checkpoint:\n",
        "    encoder, optimizer, scheduler, start_epoch, best_acc = load_from_path(\n",
        "        r_path=w_enc_path,\n",
        "        encoder=encoder,\n",
        "        opt=optimizer,\n",
        "        sched=scheduler,\n",
        "        scaler=scaler,\n",
        "        device_str=args['meta']['device'],\n",
        "        use_fp16=use_fp16)\n",
        "if not training:\n",
        "    logger.info('putting model in eval mode')\n",
        "    encoder.eval()\n",
        "    logger.info(sum(p.numel() for n, p in encoder.named_parameters()\n",
        "                    if p.requires_grad and ('fc' not in n)))\n",
        "    start_epoch = 0"
      ],
      "execution_count": 36,
      "outputs": []
    },
    {
      "cell_type": "code",
      "metadata": {
        "id": "-y4gAC5mOQ7s"
      },
      "source": [
        "num_epochs = 200 # CHANGE HERE"
      ],
      "execution_count": 37,
      "outputs": []
    },
    {
      "cell_type": "code",
      "metadata": {
        "colab": {
          "base_uri": "https://localhost:8080/"
        },
        "id": "ZYRdk6r0DFVk",
        "outputId": "03fe0a71-8e35-44a0-95ea-9767621ce2b1"
      },
      "source": [
        "for epoch in range(start_epoch, num_epochs):\n",
        "\n",
        "    def train_step():\n",
        "        # -- update distributed-data-loader epoch\n",
        "        top1_correct, total = 0, 0\n",
        "        for i, data in enumerate(data_loader):\n",
        "            with torch.cuda.amp.autocast(enabled=False): # Yo\n",
        "                inputs, labels = data[0].to(device), data[1].to(device)\n",
        "\n",
        "                labels = labels.unsqueeze(1) ## YO\n",
        "                labels = labels.float() ## YO\n",
        "\n",
        "                outputs = encoder(inputs)\n",
        "                loss = criterion(outputs, labels)\n",
        "            total += inputs.shape[0]\n",
        "            top1_correct += float(sum(((outputs>0.5)*1 == labels)*1))\n",
        "            top1_acc = 100. * (top1_correct / total)\n",
        "            \n",
        "            scaler.scale(loss).backward()\n",
        "            scaler.step(optimizer)\n",
        "            scaler.update()\n",
        "            scheduler.step()\n",
        "            optimizer.zero_grad()\n",
        "            if i % log_freq == 0:\n",
        "                logger.info('[%d, %5d] %.3f%% (loss: %.3f)'\n",
        "                            % (epoch + 1, i, top1_acc, loss))\n",
        "        return 100. * (top1_correct / total)\n",
        "\n",
        "    train_top1 = 0.\n",
        "    train_top1 = train_step()\n",
        "\n",
        "    log_str = 'train:'\n",
        "    logger.info('[%d] (%s: %.3f%%) '\n",
        "                % (epoch + 1, log_str, train_top1))\n",
        "\n",
        "    # -- logging/checkpointing\n",
        "    if rank == 0:\n",
        "\n",
        "        save_dict = {\n",
        "            'encoder': encoder.state_dict(),\n",
        "            'opt': optimizer.state_dict(),\n",
        "            'sched': scheduler.state_dict(),\n",
        "            'epoch': epoch + 1,\n",
        "            'unlabel_prob': unlabeled_frac,\n",
        "            'world_size': world_size,\n",
        "            'batch_size': batch_size,\n",
        "            'lr': ref_lr,\n",
        "            'amp': scaler.state_dict()\n",
        "        }\n",
        "        torch.save(save_dict, w_enc_path)"
      ],
      "execution_count": 38,
      "outputs": [
        {
          "output_type": "stream",
          "text": [
            "/usr/local/lib/python3.7/dist-packages/torch/utils/data/dataloader.py:481: UserWarning: This DataLoader will create 8 worker processes in total. Our suggested max number of worker in current system is 2, which is smaller than what this DataLoader is going to create. Please be aware that excessive worker creation might get DataLoader running slow or even freeze, lower the worker number to avoid potential slowness/freeze if necessary.\n",
            "  cpuset_checked))\n",
            "/usr/local/lib/python3.7/dist-packages/torch/nn/functional.py:718: UserWarning: Named tensors and all their associated APIs are an experimental feature and subject to change. Please do not use them for anything important until they are released as stable. (Triggered internally at  /pytorch/c10/core/TensorImpl.h:1156.)\n",
            "  return torch.max_pool2d(input, kernel_size, stride, padding, dilation, ceil_mode)\n"
          ],
          "name": "stderr"
        },
        {
          "output_type": "stream",
          "text": [
            "INFO:root:[1,     0] 50.000% (loss: 0.693)\n",
            "INFO:root:[1] (train:: 64.583%) \n",
            "INFO:root:[2,     0] 75.000% (loss: 0.693)\n",
            "INFO:root:[2] (train:: 75.000%) \n",
            "INFO:root:[3,     0] 68.750% (loss: 0.691)\n",
            "INFO:root:[3] (train:: 71.875%) \n",
            "INFO:root:[4,     0] 68.750% (loss: 0.690)\n",
            "INFO:root:[4] (train:: 73.958%) \n",
            "INFO:root:[5,     0] 71.875% (loss: 0.689)\n",
            "INFO:root:[5] (train:: 73.958%) \n",
            "INFO:root:[6,     0] 71.875% (loss: 0.687)\n",
            "INFO:root:[6] (train:: 68.750%) \n",
            "INFO:root:[7,     0] 71.875% (loss: 0.683)\n",
            "INFO:root:[7] (train:: 71.875%) \n",
            "INFO:root:[8,     0] 71.875% (loss: 0.683)\n",
            "INFO:root:[8] (train:: 73.958%) \n",
            "INFO:root:[9,     0] 68.750% (loss: 0.679)\n",
            "INFO:root:[9] (train:: 70.833%) \n",
            "INFO:root:[10,     0] 71.875% (loss: 0.678)\n",
            "INFO:root:[10] (train:: 69.792%) \n",
            "INFO:root:[11,     0] 71.875% (loss: 0.677)\n",
            "INFO:root:[11] (train:: 73.958%) \n",
            "INFO:root:[12,     0] 71.875% (loss: 0.675)\n",
            "INFO:root:[12] (train:: 70.833%) \n",
            "INFO:root:[13,     0] 68.750% (loss: 0.672)\n",
            "INFO:root:[13] (train:: 72.917%) \n",
            "INFO:root:[14,     0] 68.750% (loss: 0.668)\n",
            "INFO:root:[14] (train:: 68.750%) \n",
            "INFO:root:[15,     0] 68.750% (loss: 0.674)\n",
            "INFO:root:[15] (train:: 66.667%) \n",
            "INFO:root:[16,     0] 68.750% (loss: 0.666)\n",
            "INFO:root:[16] (train:: 70.833%) \n",
            "INFO:root:[17,     0] 71.875% (loss: 0.664)\n",
            "INFO:root:[17] (train:: 71.875%) \n",
            "INFO:root:[18,     0] 68.750% (loss: 0.667)\n",
            "INFO:root:[18] (train:: 72.917%) \n",
            "INFO:root:[19,     0] 68.750% (loss: 0.668)\n",
            "INFO:root:[19] (train:: 69.792%) \n",
            "INFO:root:[20,     0] 78.125% (loss: 0.662)\n",
            "INFO:root:[20] (train:: 75.000%) \n",
            "INFO:root:[21,     0] 71.875% (loss: 0.661)\n",
            "INFO:root:[21] (train:: 72.917%) \n",
            "INFO:root:[22,     0] 75.000% (loss: 0.656)\n",
            "INFO:root:[22] (train:: 76.042%) \n",
            "INFO:root:[23,     0] 68.750% (loss: 0.667)\n",
            "INFO:root:[23] (train:: 67.708%) \n",
            "INFO:root:[24,     0] 68.750% (loss: 0.653)\n",
            "INFO:root:[24] (train:: 72.917%) \n",
            "INFO:root:[25,     0] 75.000% (loss: 0.659)\n",
            "INFO:root:[25] (train:: 69.792%) \n",
            "INFO:root:[26,     0] 71.875% (loss: 0.652)\n",
            "INFO:root:[26] (train:: 75.000%) \n",
            "INFO:root:[27,     0] 68.750% (loss: 0.651)\n",
            "INFO:root:[27] (train:: 69.792%) \n",
            "INFO:root:[28,     0] 71.875% (loss: 0.657)\n",
            "INFO:root:[28] (train:: 71.875%) \n",
            "INFO:root:[29,     0] 71.875% (loss: 0.660)\n",
            "INFO:root:[29] (train:: 73.958%) \n",
            "INFO:root:[30,     0] 68.750% (loss: 0.650)\n",
            "INFO:root:[30] (train:: 73.958%) \n",
            "INFO:root:[31,     0] 71.875% (loss: 0.655)\n",
            "INFO:root:[31] (train:: 70.833%) \n",
            "INFO:root:[32,     0] 65.625% (loss: 0.660)\n",
            "INFO:root:[32] (train:: 69.792%) \n",
            "INFO:root:[33,     0] 71.875% (loss: 0.641)\n",
            "INFO:root:[33] (train:: 72.917%) \n",
            "INFO:root:[34,     0] 68.750% (loss: 0.649)\n",
            "INFO:root:[34] (train:: 73.958%) \n",
            "INFO:root:[35,     0] 71.875% (loss: 0.647)\n",
            "INFO:root:[35] (train:: 71.875%) \n",
            "INFO:root:[36,     0] 71.875% (loss: 0.656)\n",
            "INFO:root:[36] (train:: 68.750%) \n",
            "INFO:root:[37,     0] 75.000% (loss: 0.649)\n",
            "INFO:root:[37] (train:: 73.958%) \n",
            "INFO:root:[38,     0] 68.750% (loss: 0.654)\n",
            "INFO:root:[38] (train:: 69.792%) \n",
            "INFO:root:[39,     0] 71.875% (loss: 0.648)\n",
            "INFO:root:[39] (train:: 72.917%) \n",
            "INFO:root:[40,     0] 75.000% (loss: 0.650)\n",
            "INFO:root:[40] (train:: 72.917%) \n",
            "INFO:root:[41,     0] 71.875% (loss: 0.656)\n",
            "INFO:root:[41] (train:: 70.833%) \n",
            "INFO:root:[42,     0] 71.875% (loss: 0.644)\n",
            "INFO:root:[42] (train:: 71.875%) \n",
            "INFO:root:[43,     0] 75.000% (loss: 0.645)\n",
            "INFO:root:[43] (train:: 69.792%) \n",
            "INFO:root:[44,     0] 71.875% (loss: 0.645)\n",
            "INFO:root:[44] (train:: 73.958%) \n",
            "INFO:root:[45,     0] 75.000% (loss: 0.648)\n",
            "INFO:root:[45] (train:: 75.000%) \n",
            "INFO:root:[46,     0] 71.875% (loss: 0.651)\n",
            "INFO:root:[46] (train:: 70.833%) \n",
            "INFO:root:[47,     0] 75.000% (loss: 0.648)\n",
            "INFO:root:[47] (train:: 75.000%) \n",
            "INFO:root:[48,     0] 71.875% (loss: 0.653)\n",
            "INFO:root:[48] (train:: 71.875%) \n",
            "INFO:root:[49,     0] 71.875% (loss: 0.641)\n",
            "INFO:root:[49] (train:: 70.833%) \n",
            "INFO:root:[50,     0] 71.875% (loss: 0.652)\n",
            "INFO:root:[50] (train:: 73.958%) \n",
            "INFO:root:[51,     0] 68.750% (loss: 0.649)\n",
            "INFO:root:[51] (train:: 72.917%) \n",
            "INFO:root:[52,     0] 65.625% (loss: 0.657)\n",
            "INFO:root:[52] (train:: 69.792%) \n",
            "INFO:root:[53,     0] 68.750% (loss: 0.646)\n",
            "INFO:root:[53] (train:: 70.833%) \n",
            "INFO:root:[54,     0] 71.875% (loss: 0.650)\n",
            "INFO:root:[54] (train:: 73.958%) \n",
            "INFO:root:[55,     0] 71.875% (loss: 0.645)\n",
            "INFO:root:[55] (train:: 73.958%) \n",
            "INFO:root:[56,     0] 75.000% (loss: 0.645)\n",
            "INFO:root:[56] (train:: 75.000%) \n",
            "INFO:root:[57,     0] 75.000% (loss: 0.647)\n",
            "INFO:root:[57] (train:: 76.042%) \n",
            "INFO:root:[58,     0] 71.875% (loss: 0.653)\n",
            "INFO:root:[58] (train:: 69.792%) \n",
            "INFO:root:[59,     0] 75.000% (loss: 0.648)\n",
            "INFO:root:[59] (train:: 71.875%) \n",
            "INFO:root:[60,     0] 68.750% (loss: 0.660)\n",
            "INFO:root:[60] (train:: 71.875%) \n",
            "INFO:root:[61,     0] 71.875% (loss: 0.638)\n",
            "INFO:root:[61] (train:: 68.750%) \n",
            "INFO:root:[62,     0] 75.000% (loss: 0.652)\n",
            "INFO:root:[62] (train:: 71.875%) \n",
            "INFO:root:[63,     0] 71.875% (loss: 0.646)\n",
            "INFO:root:[63] (train:: 70.833%) \n",
            "INFO:root:[64,     0] 71.875% (loss: 0.648)\n",
            "INFO:root:[64] (train:: 72.917%) \n",
            "INFO:root:[65,     0] 65.625% (loss: 0.647)\n",
            "INFO:root:[65] (train:: 69.792%) \n",
            "INFO:root:[66,     0] 68.750% (loss: 0.659)\n",
            "INFO:root:[66] (train:: 70.833%) \n",
            "INFO:root:[67,     0] 78.125% (loss: 0.645)\n",
            "INFO:root:[67] (train:: 77.083%) \n",
            "INFO:root:[68,     0] 68.750% (loss: 0.646)\n",
            "INFO:root:[68] (train:: 70.833%) \n",
            "INFO:root:[69,     0] 68.750% (loss: 0.651)\n",
            "INFO:root:[69] (train:: 73.958%) \n",
            "INFO:root:[70,     0] 68.750% (loss: 0.649)\n",
            "INFO:root:[70] (train:: 73.958%) \n",
            "INFO:root:[71,     0] 75.000% (loss: 0.642)\n",
            "INFO:root:[71] (train:: 75.000%) \n",
            "INFO:root:[72,     0] 62.500% (loss: 0.653)\n",
            "INFO:root:[72] (train:: 68.750%) \n",
            "INFO:root:[73,     0] 75.000% (loss: 0.658)\n",
            "INFO:root:[73] (train:: 72.917%) \n",
            "INFO:root:[74,     0] 68.750% (loss: 0.653)\n",
            "INFO:root:[74] (train:: 70.833%) \n",
            "INFO:root:[75,     0] 75.000% (loss: 0.639)\n",
            "INFO:root:[75] (train:: 70.833%) \n",
            "INFO:root:[76,     0] 75.000% (loss: 0.651)\n",
            "INFO:root:[76] (train:: 76.042%) \n",
            "INFO:root:[77,     0] 71.875% (loss: 0.644)\n",
            "INFO:root:[77] (train:: 70.833%) \n",
            "INFO:root:[78,     0] 68.750% (loss: 0.633)\n",
            "INFO:root:[78] (train:: 70.833%) \n",
            "INFO:root:[79,     0] 75.000% (loss: 0.632)\n",
            "INFO:root:[79] (train:: 73.958%) \n",
            "INFO:root:[80,     0] 71.875% (loss: 0.643)\n",
            "INFO:root:[80] (train:: 70.833%) \n",
            "INFO:root:[81,     0] 75.000% (loss: 0.635)\n",
            "INFO:root:[81] (train:: 77.083%) \n",
            "INFO:root:[82,     0] 71.875% (loss: 0.639)\n",
            "INFO:root:[82] (train:: 72.917%) \n",
            "INFO:root:[83,     0] 71.875% (loss: 0.641)\n",
            "INFO:root:[83] (train:: 73.958%) \n",
            "INFO:root:[84,     0] 78.125% (loss: 0.625)\n",
            "INFO:root:[84] (train:: 72.917%) \n",
            "INFO:root:[85,     0] 71.875% (loss: 0.643)\n",
            "INFO:root:[85] (train:: 75.000%) \n",
            "INFO:root:[86,     0] 71.875% (loss: 0.650)\n",
            "INFO:root:[86] (train:: 72.917%) \n",
            "INFO:root:[87,     0] 65.625% (loss: 0.634)\n",
            "INFO:root:[87] (train:: 67.708%) \n",
            "INFO:root:[88,     0] 75.000% (loss: 0.640)\n",
            "INFO:root:[88] (train:: 72.917%) \n",
            "INFO:root:[89,     0] 75.000% (loss: 0.628)\n",
            "INFO:root:[89] (train:: 73.958%) \n",
            "INFO:root:[90,     0] 71.875% (loss: 0.640)\n",
            "INFO:root:[90] (train:: 73.958%) \n",
            "INFO:root:[91,     0] 75.000% (loss: 0.626)\n",
            "INFO:root:[91] (train:: 75.000%) \n",
            "INFO:root:[92,     0] 71.875% (loss: 0.623)\n",
            "INFO:root:[92] (train:: 71.875%) \n",
            "INFO:root:[93,     0] 75.000% (loss: 0.635)\n",
            "INFO:root:[93] (train:: 70.833%) \n",
            "INFO:root:[94,     0] 71.875% (loss: 0.633)\n",
            "INFO:root:[94] (train:: 70.833%) \n",
            "INFO:root:[95,     0] 75.000% (loss: 0.639)\n",
            "INFO:root:[95] (train:: 72.917%) \n",
            "INFO:root:[96,     0] 75.000% (loss: 0.616)\n",
            "INFO:root:[96] (train:: 72.917%) \n",
            "INFO:root:[97,     0] 75.000% (loss: 0.618)\n",
            "INFO:root:[97] (train:: 70.833%) \n",
            "INFO:root:[98,     0] 75.000% (loss: 0.617)\n",
            "INFO:root:[98] (train:: 73.958%) \n",
            "INFO:root:[99,     0] 75.000% (loss: 0.622)\n",
            "INFO:root:[99] (train:: 72.917%) \n",
            "INFO:root:[100,     0] 75.000% (loss: 0.628)\n",
            "INFO:root:[100] (train:: 76.042%) \n",
            "INFO:root:[101,     0] 75.000% (loss: 0.617)\n",
            "INFO:root:[101] (train:: 72.917%) \n",
            "INFO:root:[102,     0] 71.875% (loss: 0.624)\n",
            "INFO:root:[102] (train:: 75.000%) \n",
            "INFO:root:[103,     0] 75.000% (loss: 0.617)\n",
            "INFO:root:[103] (train:: 75.000%) \n",
            "INFO:root:[104,     0] 75.000% (loss: 0.609)\n",
            "INFO:root:[104] (train:: 72.917%) \n",
            "INFO:root:[105,     0] 78.125% (loss: 0.600)\n",
            "INFO:root:[105] (train:: 77.083%) \n",
            "INFO:root:[106,     0] 75.000% (loss: 0.599)\n",
            "INFO:root:[106] (train:: 72.917%) \n",
            "INFO:root:[107,     0] 75.000% (loss: 0.630)\n",
            "INFO:root:[107] (train:: 75.000%) \n",
            "INFO:root:[108,     0] 75.000% (loss: 0.616)\n",
            "INFO:root:[108] (train:: 76.042%) \n",
            "INFO:root:[109,     0] 78.125% (loss: 0.588)\n",
            "INFO:root:[109] (train:: 72.917%) \n",
            "INFO:root:[110,     0] 71.875% (loss: 0.600)\n",
            "INFO:root:[110] (train:: 69.792%) \n",
            "INFO:root:[111,     0] 78.125% (loss: 0.619)\n",
            "INFO:root:[111] (train:: 73.958%) \n",
            "INFO:root:[112,     0] 75.000% (loss: 0.606)\n",
            "INFO:root:[112] (train:: 76.042%) \n",
            "INFO:root:[113,     0] 78.125% (loss: 0.610)\n",
            "INFO:root:[113] (train:: 73.958%) \n",
            "INFO:root:[114,     0] 75.000% (loss: 0.622)\n",
            "INFO:root:[114] (train:: 71.875%) \n",
            "INFO:root:[115,     0] 78.125% (loss: 0.602)\n",
            "INFO:root:[115] (train:: 73.958%) \n",
            "INFO:root:[116,     0] 75.000% (loss: 0.610)\n",
            "INFO:root:[116] (train:: 72.917%) \n",
            "INFO:root:[117,     0] 78.125% (loss: 0.588)\n",
            "INFO:root:[117] (train:: 78.125%) \n",
            "INFO:root:[118,     0] 75.000% (loss: 0.606)\n",
            "INFO:root:[118] (train:: 73.958%) \n",
            "INFO:root:[119,     0] 71.875% (loss: 0.622)\n",
            "INFO:root:[119] (train:: 75.000%) \n",
            "INFO:root:[120,     0] 71.875% (loss: 0.593)\n",
            "INFO:root:[120] (train:: 71.875%) \n",
            "INFO:root:[121,     0] 75.000% (loss: 0.593)\n",
            "INFO:root:[121] (train:: 71.875%) \n",
            "INFO:root:[122,     0] 75.000% (loss: 0.575)\n",
            "INFO:root:[122] (train:: 73.958%) \n",
            "INFO:root:[123,     0] 71.875% (loss: 0.596)\n",
            "INFO:root:[123] (train:: 73.958%) \n",
            "INFO:root:[124,     0] 71.875% (loss: 0.594)\n",
            "INFO:root:[124] (train:: 72.917%) \n",
            "INFO:root:[125,     0] 71.875% (loss: 0.617)\n",
            "INFO:root:[125] (train:: 68.750%) \n",
            "INFO:root:[126,     0] 75.000% (loss: 0.591)\n",
            "INFO:root:[126] (train:: 71.875%) \n",
            "INFO:root:[127,     0] 71.875% (loss: 0.637)\n",
            "INFO:root:[127] (train:: 72.917%) \n",
            "INFO:root:[128,     0] 71.875% (loss: 0.601)\n",
            "INFO:root:[128] (train:: 73.958%) \n",
            "INFO:root:[129,     0] 68.750% (loss: 0.615)\n",
            "INFO:root:[129] (train:: 70.833%) \n",
            "INFO:root:[130,     0] 75.000% (loss: 0.600)\n",
            "INFO:root:[130] (train:: 71.875%) \n",
            "INFO:root:[131,     0] 75.000% (loss: 0.598)\n",
            "INFO:root:[131] (train:: 70.833%) \n",
            "INFO:root:[132,     0] 75.000% (loss: 0.579)\n",
            "INFO:root:[132] (train:: 73.958%) \n",
            "INFO:root:[133,     0] 75.000% (loss: 0.600)\n",
            "INFO:root:[133] (train:: 73.958%) \n",
            "INFO:root:[134,     0] 75.000% (loss: 0.596)\n",
            "INFO:root:[134] (train:: 75.000%) \n",
            "INFO:root:[135,     0] 75.000% (loss: 0.594)\n",
            "INFO:root:[135] (train:: 73.958%) \n",
            "INFO:root:[136,     0] 75.000% (loss: 0.584)\n",
            "INFO:root:[136] (train:: 76.042%) \n",
            "INFO:root:[137,     0] 75.000% (loss: 0.612)\n",
            "INFO:root:[137] (train:: 73.958%) \n",
            "INFO:root:[138,     0] 75.000% (loss: 0.592)\n",
            "INFO:root:[138] (train:: 71.875%) \n",
            "INFO:root:[139,     0] 78.125% (loss: 0.600)\n",
            "INFO:root:[139] (train:: 70.833%) \n",
            "INFO:root:[140,     0] 75.000% (loss: 0.608)\n",
            "INFO:root:[140] (train:: 75.000%) \n",
            "INFO:root:[141,     0] 75.000% (loss: 0.581)\n",
            "INFO:root:[141] (train:: 71.875%) \n",
            "INFO:root:[142,     0] 68.750% (loss: 0.615)\n",
            "INFO:root:[142] (train:: 67.708%) \n",
            "INFO:root:[143,     0] 71.875% (loss: 0.597)\n",
            "INFO:root:[143] (train:: 75.000%) \n",
            "INFO:root:[144,     0] 75.000% (loss: 0.589)\n",
            "INFO:root:[144] (train:: 76.042%) \n",
            "INFO:root:[145,     0] 71.875% (loss: 0.596)\n",
            "INFO:root:[145] (train:: 71.875%) \n",
            "INFO:root:[146,     0] 78.125% (loss: 0.593)\n",
            "INFO:root:[146] (train:: 79.167%) \n",
            "INFO:root:[147,     0] 75.000% (loss: 0.579)\n",
            "INFO:root:[147] (train:: 73.958%) \n",
            "INFO:root:[148,     0] 75.000% (loss: 0.605)\n",
            "INFO:root:[148] (train:: 75.000%) \n",
            "INFO:root:[149,     0] 78.125% (loss: 0.575)\n",
            "INFO:root:[149] (train:: 72.917%) \n",
            "INFO:root:[150,     0] 78.125% (loss: 0.594)\n",
            "INFO:root:[150] (train:: 75.000%) \n",
            "INFO:root:[151,     0] 78.125% (loss: 0.592)\n",
            "INFO:root:[151] (train:: 76.042%) \n",
            "INFO:root:[152,     0] 78.125% (loss: 0.565)\n",
            "INFO:root:[152] (train:: 76.042%) \n",
            "INFO:root:[153,     0] 75.000% (loss: 0.588)\n",
            "INFO:root:[153] (train:: 73.958%) \n",
            "INFO:root:[154,     0] 75.000% (loss: 0.606)\n",
            "INFO:root:[154] (train:: 76.042%) \n",
            "INFO:root:[155,     0] 71.875% (loss: 0.594)\n",
            "INFO:root:[155] (train:: 72.917%) \n",
            "INFO:root:[156,     0] 75.000% (loss: 0.586)\n",
            "INFO:root:[156] (train:: 77.083%) \n",
            "INFO:root:[157,     0] 78.125% (loss: 0.592)\n",
            "INFO:root:[157] (train:: 72.917%) \n",
            "INFO:root:[158,     0] 78.125% (loss: 0.577)\n",
            "INFO:root:[158] (train:: 77.083%) \n",
            "INFO:root:[159,     0] 78.125% (loss: 0.595)\n",
            "INFO:root:[159] (train:: 75.000%) \n",
            "INFO:root:[160,     0] 75.000% (loss: 0.602)\n",
            "INFO:root:[160] (train:: 77.083%) \n",
            "INFO:root:[161,     0] 75.000% (loss: 0.589)\n",
            "INFO:root:[161] (train:: 72.917%) \n",
            "INFO:root:[162,     0] 81.250% (loss: 0.597)\n",
            "INFO:root:[162] (train:: 78.125%) \n",
            "INFO:root:[163,     0] 71.875% (loss: 0.590)\n",
            "INFO:root:[163] (train:: 70.833%) \n",
            "INFO:root:[164,     0] 75.000% (loss: 0.582)\n",
            "INFO:root:[164] (train:: 73.958%) \n",
            "INFO:root:[165,     0] 75.000% (loss: 0.593)\n",
            "INFO:root:[165] (train:: 75.000%) \n",
            "INFO:root:[166,     0] 78.125% (loss: 0.589)\n",
            "INFO:root:[166] (train:: 78.125%) \n",
            "INFO:root:[167,     0] 75.000% (loss: 0.597)\n",
            "INFO:root:[167] (train:: 72.917%) \n",
            "INFO:root:[168,     0] 78.125% (loss: 0.579)\n",
            "INFO:root:[168] (train:: 71.875%) \n",
            "INFO:root:[169,     0] 71.875% (loss: 0.607)\n",
            "INFO:root:[169] (train:: 73.958%) \n",
            "INFO:root:[170,     0] 75.000% (loss: 0.593)\n",
            "INFO:root:[170] (train:: 73.958%) \n",
            "INFO:root:[171,     0] 71.875% (loss: 0.600)\n",
            "INFO:root:[171] (train:: 76.042%) \n",
            "INFO:root:[172,     0] 75.000% (loss: 0.578)\n",
            "INFO:root:[172] (train:: 73.958%) \n",
            "INFO:root:[173,     0] 75.000% (loss: 0.589)\n",
            "INFO:root:[173] (train:: 73.958%) \n",
            "INFO:root:[174,     0] 78.125% (loss: 0.590)\n",
            "INFO:root:[174] (train:: 72.917%) \n",
            "INFO:root:[175,     0] 75.000% (loss: 0.569)\n",
            "INFO:root:[175] (train:: 71.875%) \n",
            "INFO:root:[176,     0] 71.875% (loss: 0.591)\n",
            "INFO:root:[176] (train:: 73.958%) \n",
            "INFO:root:[177,     0] 78.125% (loss: 0.582)\n",
            "INFO:root:[177] (train:: 73.958%) \n",
            "INFO:root:[178,     0] 68.750% (loss: 0.582)\n",
            "INFO:root:[178] (train:: 72.917%) \n",
            "INFO:root:[179,     0] 78.125% (loss: 0.579)\n",
            "INFO:root:[179] (train:: 76.042%) \n",
            "INFO:root:[180,     0] 68.750% (loss: 0.616)\n",
            "INFO:root:[180] (train:: 70.833%) \n",
            "INFO:root:[181,     0] 75.000% (loss: 0.570)\n",
            "INFO:root:[181] (train:: 73.958%) \n",
            "INFO:root:[182,     0] 71.875% (loss: 0.589)\n",
            "INFO:root:[182] (train:: 72.917%) \n",
            "INFO:root:[183,     0] 71.875% (loss: 0.579)\n",
            "INFO:root:[183] (train:: 72.917%) \n",
            "INFO:root:[184,     0] 71.875% (loss: 0.578)\n",
            "INFO:root:[184] (train:: 71.875%) \n",
            "INFO:root:[185,     0] 75.000% (loss: 0.589)\n",
            "INFO:root:[185] (train:: 71.875%) \n",
            "INFO:root:[186,     0] 71.875% (loss: 0.600)\n",
            "INFO:root:[186] (train:: 71.875%) \n",
            "INFO:root:[187,     0] 75.000% (loss: 0.573)\n",
            "INFO:root:[187] (train:: 75.000%) \n",
            "INFO:root:[188,     0] 78.125% (loss: 0.572)\n",
            "INFO:root:[188] (train:: 73.958%) \n",
            "INFO:root:[189,     0] 78.125% (loss: 0.569)\n",
            "INFO:root:[189] (train:: 75.000%) \n",
            "INFO:root:[190,     0] 78.125% (loss: 0.576)\n",
            "INFO:root:[190] (train:: 73.958%) \n",
            "INFO:root:[191,     0] 78.125% (loss: 0.574)\n",
            "INFO:root:[191] (train:: 76.042%) \n",
            "INFO:root:[192,     0] 75.000% (loss: 0.568)\n",
            "INFO:root:[192] (train:: 73.958%) \n",
            "INFO:root:[193,     0] 78.125% (loss: 0.551)\n",
            "INFO:root:[193] (train:: 76.042%) \n",
            "INFO:root:[194,     0] 71.875% (loss: 0.583)\n",
            "INFO:root:[194] (train:: 71.875%) \n",
            "INFO:root:[195,     0] 78.125% (loss: 0.587)\n",
            "INFO:root:[195] (train:: 73.958%) \n",
            "INFO:root:[196,     0] 75.000% (loss: 0.573)\n",
            "INFO:root:[196] (train:: 77.083%) \n",
            "INFO:root:[197,     0] 78.125% (loss: 0.579)\n",
            "INFO:root:[197] (train:: 72.917%) \n",
            "INFO:root:[198,     0] 71.875% (loss: 0.573)\n",
            "INFO:root:[198] (train:: 76.042%) \n",
            "INFO:root:[199,     0] 75.000% (loss: 0.589)\n",
            "INFO:root:[199] (train:: 75.000%) \n",
            "INFO:root:[200,     0] 75.000% (loss: 0.582)\n",
            "INFO:root:[200] (train:: 76.042%) \n"
          ],
          "name": "stdout"
        }
      ]
    },
    {
      "cell_type": "markdown",
      "metadata": {
        "id": "q3H-iYM4MTnD"
      },
      "source": [
        "## Script\n",
        "Didnt use it"
      ]
    },
    {
      "cell_type": "code",
      "metadata": {
        "id": "P5UUGnrhTkf2"
      },
      "source": [
        "#pwd"
      ],
      "execution_count": 59,
      "outputs": []
    },
    {
      "cell_type": "code",
      "metadata": {
        "id": "CjNgGdzpM5Ei"
      },
      "source": [
        "#cd suncet"
      ],
      "execution_count": 60,
      "outputs": []
    },
    {
      "cell_type": "code",
      "metadata": {
        "id": "dnzF3XuAMXFW"
      },
      "source": [
        "#!python main.py --sel fine_tune --fname configs/paws/dr_fine_tune.yaml"
      ],
      "execution_count": 61,
      "outputs": []
    },
    {
      "cell_type": "code",
      "metadata": {
        "colab": {
          "base_uri": "https://localhost:8080/",
          "height": 103
        },
        "id": "B5kQkbiz6nRs",
        "outputId": "6f48da40-cb49-46a8-c471-54413a9abdf1"
      },
      "source": [
        "# Didnt work using this I would need to fix it in order to use it. \n",
        "\"\"\"\n",
        "import src.resnet as resnet\n",
        "\n",
        "device = \"cuda:0\"\n",
        "device_str = \"cuda:0\"\n",
        "\n",
        "folder = \"suncet/logs/\"\n",
        "r_file_enc = \"paws-ep30.pth.tar\" # CHANGE\n",
        "\n",
        "# -- log/checkpointing paths\n",
        "r_enc_path = os.path.join(folder, r_file_enc)\n",
        "w_enc_path = os.path.join(folder, f'{tag}-fine-tune.pth.tar')\n",
        "\n",
        "encoder = resnet.__dict__[\"resnet50\"]()\n",
        "\n",
        "hidden_dim = 2048\n",
        "if 'w2' in model_name:\n",
        "    hidden_dim *= 2\n",
        "elif 'w4' in model_name:\n",
        "    hidden_dim *= 4\n",
        "\n",
        "# -- projection head\n",
        "encoder.fc = torch.nn.Sequential(OrderedDict([\n",
        "    ('fc1', torch.nn.Linear(hidden_dim, hidden_dim)),\n",
        "    ('bn1', torch.nn.BatchNorm1d(hidden_dim)),\n",
        "    ('relu1', torch.nn.ReLU(inplace=True)),\n",
        "    ('fc2', torch.nn.Linear(hidden_dim, 1)), # YO changed\n",
        "    ('sg', torch.nn.Sigmoid())  # YO \n",
        "]))\n",
        "\n",
        "encoder = load_pretrained(\n",
        "    r_path=r_enc_path,\n",
        "    encoder=encoder,\n",
        "    device_str=device_str)\n",
        "\"\"\""
      ],
      "execution_count": 62,
      "outputs": [
        {
          "output_type": "execute_result",
          "data": {
            "application/vnd.google.colaboratory.intrinsic+json": {
              "type": "string"
            },
            "text/plain": [
              "'\\nimport src.resnet as resnet\\n\\ndevice = \"cuda:0\"\\ndevice_str = \"cuda:0\"\\n\\nfolder = \"suncet/logs/\"\\nr_file_enc = \"paws-ep30.pth.tar\" # CHANGE\\n\\n# -- log/checkpointing paths\\nr_enc_path = os.path.join(folder, r_file_enc)\\nw_enc_path = os.path.join(folder, f\\'{tag}-fine-tune.pth.tar\\')\\n\\nencoder = resnet.__dict__[\"resnet50\"]()\\n\\nhidden_dim = 2048\\nif \\'w2\\' in model_name:\\n    hidden_dim *= 2\\nelif \\'w4\\' in model_name:\\n    hidden_dim *= 4\\n\\n# -- projection head\\nencoder.fc = torch.nn.Sequential(OrderedDict([\\n    (\\'fc1\\', torch.nn.Linear(hidden_dim, hidden_dim)),\\n    (\\'bn1\\', torch.nn.BatchNorm1d(hidden_dim)),\\n    (\\'relu1\\', torch.nn.ReLU(inplace=True)),\\n    (\\'fc2\\', torch.nn.Linear(hidden_dim, 1)), # YO changed\\n    (\\'sg\\', torch.nn.Sigmoid())  # YO \\n]))\\n\\nencoder = load_pretrained(\\n    r_path=r_enc_path,\\n    encoder=encoder,\\n    device_str=device_str)\\n'"
            ]
          },
          "metadata": {
            "tags": []
          },
          "execution_count": 62
        }
      ]
    },
    {
      "cell_type": "markdown",
      "metadata": {
        "id": "DYMJuCkw6lmp"
      },
      "source": [
        "## Test PAWS"
      ]
    },
    {
      "cell_type": "code",
      "metadata": {
        "colab": {
          "base_uri": "https://localhost:8080/"
        },
        "id": "UGl9tX0j86w7",
        "outputId": "948778e0-c52a-4c2a-c5e1-87f9bfef6457"
      },
      "source": [
        "encoder"
      ],
      "execution_count": 39,
      "outputs": [
        {
          "output_type": "execute_result",
          "data": {
            "text/plain": [
              "ResNet(\n",
              "  (conv1): Conv2d(3, 64, kernel_size=(7, 7), stride=(2, 2), padding=(3, 3), bias=False)\n",
              "  (bn1): BatchNorm2d(64, eps=1e-05, momentum=0.1, affine=True, track_running_stats=True)\n",
              "  (relu): ReLU(inplace=True)\n",
              "  (maxpool): MaxPool2d(kernel_size=3, stride=2, padding=1, dilation=1, ceil_mode=False)\n",
              "  (layer1): Sequential(\n",
              "    (0): Bottleneck(\n",
              "      (conv1): Conv2d(64, 64, kernel_size=(1, 1), stride=(1, 1), bias=False)\n",
              "      (bn1): BatchNorm2d(64, eps=1e-05, momentum=0.1, affine=True, track_running_stats=True)\n",
              "      (conv2): Conv2d(64, 64, kernel_size=(3, 3), stride=(1, 1), padding=(1, 1), bias=False)\n",
              "      (bn2): BatchNorm2d(64, eps=1e-05, momentum=0.1, affine=True, track_running_stats=True)\n",
              "      (conv3): Conv2d(64, 256, kernel_size=(1, 1), stride=(1, 1), bias=False)\n",
              "      (bn3): BatchNorm2d(256, eps=1e-05, momentum=0.1, affine=True, track_running_stats=True)\n",
              "      (relu): ReLU(inplace=True)\n",
              "      (downsample): Sequential(\n",
              "        (0): Conv2d(64, 256, kernel_size=(1, 1), stride=(1, 1), bias=False)\n",
              "        (1): BatchNorm2d(256, eps=1e-05, momentum=0.1, affine=True, track_running_stats=True)\n",
              "      )\n",
              "    )\n",
              "    (1): Bottleneck(\n",
              "      (conv1): Conv2d(256, 64, kernel_size=(1, 1), stride=(1, 1), bias=False)\n",
              "      (bn1): BatchNorm2d(64, eps=1e-05, momentum=0.1, affine=True, track_running_stats=True)\n",
              "      (conv2): Conv2d(64, 64, kernel_size=(3, 3), stride=(1, 1), padding=(1, 1), bias=False)\n",
              "      (bn2): BatchNorm2d(64, eps=1e-05, momentum=0.1, affine=True, track_running_stats=True)\n",
              "      (conv3): Conv2d(64, 256, kernel_size=(1, 1), stride=(1, 1), bias=False)\n",
              "      (bn3): BatchNorm2d(256, eps=1e-05, momentum=0.1, affine=True, track_running_stats=True)\n",
              "      (relu): ReLU(inplace=True)\n",
              "    )\n",
              "    (2): Bottleneck(\n",
              "      (conv1): Conv2d(256, 64, kernel_size=(1, 1), stride=(1, 1), bias=False)\n",
              "      (bn1): BatchNorm2d(64, eps=1e-05, momentum=0.1, affine=True, track_running_stats=True)\n",
              "      (conv2): Conv2d(64, 64, kernel_size=(3, 3), stride=(1, 1), padding=(1, 1), bias=False)\n",
              "      (bn2): BatchNorm2d(64, eps=1e-05, momentum=0.1, affine=True, track_running_stats=True)\n",
              "      (conv3): Conv2d(64, 256, kernel_size=(1, 1), stride=(1, 1), bias=False)\n",
              "      (bn3): BatchNorm2d(256, eps=1e-05, momentum=0.1, affine=True, track_running_stats=True)\n",
              "      (relu): ReLU(inplace=True)\n",
              "    )\n",
              "  )\n",
              "  (layer2): Sequential(\n",
              "    (0): Bottleneck(\n",
              "      (conv1): Conv2d(256, 128, kernel_size=(1, 1), stride=(1, 1), bias=False)\n",
              "      (bn1): BatchNorm2d(128, eps=1e-05, momentum=0.1, affine=True, track_running_stats=True)\n",
              "      (conv2): Conv2d(128, 128, kernel_size=(3, 3), stride=(2, 2), padding=(1, 1), bias=False)\n",
              "      (bn2): BatchNorm2d(128, eps=1e-05, momentum=0.1, affine=True, track_running_stats=True)\n",
              "      (conv3): Conv2d(128, 512, kernel_size=(1, 1), stride=(1, 1), bias=False)\n",
              "      (bn3): BatchNorm2d(512, eps=1e-05, momentum=0.1, affine=True, track_running_stats=True)\n",
              "      (relu): ReLU(inplace=True)\n",
              "      (downsample): Sequential(\n",
              "        (0): Conv2d(256, 512, kernel_size=(1, 1), stride=(2, 2), bias=False)\n",
              "        (1): BatchNorm2d(512, eps=1e-05, momentum=0.1, affine=True, track_running_stats=True)\n",
              "      )\n",
              "    )\n",
              "    (1): Bottleneck(\n",
              "      (conv1): Conv2d(512, 128, kernel_size=(1, 1), stride=(1, 1), bias=False)\n",
              "      (bn1): BatchNorm2d(128, eps=1e-05, momentum=0.1, affine=True, track_running_stats=True)\n",
              "      (conv2): Conv2d(128, 128, kernel_size=(3, 3), stride=(1, 1), padding=(1, 1), bias=False)\n",
              "      (bn2): BatchNorm2d(128, eps=1e-05, momentum=0.1, affine=True, track_running_stats=True)\n",
              "      (conv3): Conv2d(128, 512, kernel_size=(1, 1), stride=(1, 1), bias=False)\n",
              "      (bn3): BatchNorm2d(512, eps=1e-05, momentum=0.1, affine=True, track_running_stats=True)\n",
              "      (relu): ReLU(inplace=True)\n",
              "    )\n",
              "    (2): Bottleneck(\n",
              "      (conv1): Conv2d(512, 128, kernel_size=(1, 1), stride=(1, 1), bias=False)\n",
              "      (bn1): BatchNorm2d(128, eps=1e-05, momentum=0.1, affine=True, track_running_stats=True)\n",
              "      (conv2): Conv2d(128, 128, kernel_size=(3, 3), stride=(1, 1), padding=(1, 1), bias=False)\n",
              "      (bn2): BatchNorm2d(128, eps=1e-05, momentum=0.1, affine=True, track_running_stats=True)\n",
              "      (conv3): Conv2d(128, 512, kernel_size=(1, 1), stride=(1, 1), bias=False)\n",
              "      (bn3): BatchNorm2d(512, eps=1e-05, momentum=0.1, affine=True, track_running_stats=True)\n",
              "      (relu): ReLU(inplace=True)\n",
              "    )\n",
              "    (3): Bottleneck(\n",
              "      (conv1): Conv2d(512, 128, kernel_size=(1, 1), stride=(1, 1), bias=False)\n",
              "      (bn1): BatchNorm2d(128, eps=1e-05, momentum=0.1, affine=True, track_running_stats=True)\n",
              "      (conv2): Conv2d(128, 128, kernel_size=(3, 3), stride=(1, 1), padding=(1, 1), bias=False)\n",
              "      (bn2): BatchNorm2d(128, eps=1e-05, momentum=0.1, affine=True, track_running_stats=True)\n",
              "      (conv3): Conv2d(128, 512, kernel_size=(1, 1), stride=(1, 1), bias=False)\n",
              "      (bn3): BatchNorm2d(512, eps=1e-05, momentum=0.1, affine=True, track_running_stats=True)\n",
              "      (relu): ReLU(inplace=True)\n",
              "    )\n",
              "  )\n",
              "  (layer3): Sequential(\n",
              "    (0): Bottleneck(\n",
              "      (conv1): Conv2d(512, 256, kernel_size=(1, 1), stride=(1, 1), bias=False)\n",
              "      (bn1): BatchNorm2d(256, eps=1e-05, momentum=0.1, affine=True, track_running_stats=True)\n",
              "      (conv2): Conv2d(256, 256, kernel_size=(3, 3), stride=(2, 2), padding=(1, 1), bias=False)\n",
              "      (bn2): BatchNorm2d(256, eps=1e-05, momentum=0.1, affine=True, track_running_stats=True)\n",
              "      (conv3): Conv2d(256, 1024, kernel_size=(1, 1), stride=(1, 1), bias=False)\n",
              "      (bn3): BatchNorm2d(1024, eps=1e-05, momentum=0.1, affine=True, track_running_stats=True)\n",
              "      (relu): ReLU(inplace=True)\n",
              "      (downsample): Sequential(\n",
              "        (0): Conv2d(512, 1024, kernel_size=(1, 1), stride=(2, 2), bias=False)\n",
              "        (1): BatchNorm2d(1024, eps=1e-05, momentum=0.1, affine=True, track_running_stats=True)\n",
              "      )\n",
              "    )\n",
              "    (1): Bottleneck(\n",
              "      (conv1): Conv2d(1024, 256, kernel_size=(1, 1), stride=(1, 1), bias=False)\n",
              "      (bn1): BatchNorm2d(256, eps=1e-05, momentum=0.1, affine=True, track_running_stats=True)\n",
              "      (conv2): Conv2d(256, 256, kernel_size=(3, 3), stride=(1, 1), padding=(1, 1), bias=False)\n",
              "      (bn2): BatchNorm2d(256, eps=1e-05, momentum=0.1, affine=True, track_running_stats=True)\n",
              "      (conv3): Conv2d(256, 1024, kernel_size=(1, 1), stride=(1, 1), bias=False)\n",
              "      (bn3): BatchNorm2d(1024, eps=1e-05, momentum=0.1, affine=True, track_running_stats=True)\n",
              "      (relu): ReLU(inplace=True)\n",
              "    )\n",
              "    (2): Bottleneck(\n",
              "      (conv1): Conv2d(1024, 256, kernel_size=(1, 1), stride=(1, 1), bias=False)\n",
              "      (bn1): BatchNorm2d(256, eps=1e-05, momentum=0.1, affine=True, track_running_stats=True)\n",
              "      (conv2): Conv2d(256, 256, kernel_size=(3, 3), stride=(1, 1), padding=(1, 1), bias=False)\n",
              "      (bn2): BatchNorm2d(256, eps=1e-05, momentum=0.1, affine=True, track_running_stats=True)\n",
              "      (conv3): Conv2d(256, 1024, kernel_size=(1, 1), stride=(1, 1), bias=False)\n",
              "      (bn3): BatchNorm2d(1024, eps=1e-05, momentum=0.1, affine=True, track_running_stats=True)\n",
              "      (relu): ReLU(inplace=True)\n",
              "    )\n",
              "    (3): Bottleneck(\n",
              "      (conv1): Conv2d(1024, 256, kernel_size=(1, 1), stride=(1, 1), bias=False)\n",
              "      (bn1): BatchNorm2d(256, eps=1e-05, momentum=0.1, affine=True, track_running_stats=True)\n",
              "      (conv2): Conv2d(256, 256, kernel_size=(3, 3), stride=(1, 1), padding=(1, 1), bias=False)\n",
              "      (bn2): BatchNorm2d(256, eps=1e-05, momentum=0.1, affine=True, track_running_stats=True)\n",
              "      (conv3): Conv2d(256, 1024, kernel_size=(1, 1), stride=(1, 1), bias=False)\n",
              "      (bn3): BatchNorm2d(1024, eps=1e-05, momentum=0.1, affine=True, track_running_stats=True)\n",
              "      (relu): ReLU(inplace=True)\n",
              "    )\n",
              "    (4): Bottleneck(\n",
              "      (conv1): Conv2d(1024, 256, kernel_size=(1, 1), stride=(1, 1), bias=False)\n",
              "      (bn1): BatchNorm2d(256, eps=1e-05, momentum=0.1, affine=True, track_running_stats=True)\n",
              "      (conv2): Conv2d(256, 256, kernel_size=(3, 3), stride=(1, 1), padding=(1, 1), bias=False)\n",
              "      (bn2): BatchNorm2d(256, eps=1e-05, momentum=0.1, affine=True, track_running_stats=True)\n",
              "      (conv3): Conv2d(256, 1024, kernel_size=(1, 1), stride=(1, 1), bias=False)\n",
              "      (bn3): BatchNorm2d(1024, eps=1e-05, momentum=0.1, affine=True, track_running_stats=True)\n",
              "      (relu): ReLU(inplace=True)\n",
              "    )\n",
              "    (5): Bottleneck(\n",
              "      (conv1): Conv2d(1024, 256, kernel_size=(1, 1), stride=(1, 1), bias=False)\n",
              "      (bn1): BatchNorm2d(256, eps=1e-05, momentum=0.1, affine=True, track_running_stats=True)\n",
              "      (conv2): Conv2d(256, 256, kernel_size=(3, 3), stride=(1, 1), padding=(1, 1), bias=False)\n",
              "      (bn2): BatchNorm2d(256, eps=1e-05, momentum=0.1, affine=True, track_running_stats=True)\n",
              "      (conv3): Conv2d(256, 1024, kernel_size=(1, 1), stride=(1, 1), bias=False)\n",
              "      (bn3): BatchNorm2d(1024, eps=1e-05, momentum=0.1, affine=True, track_running_stats=True)\n",
              "      (relu): ReLU(inplace=True)\n",
              "    )\n",
              "  )\n",
              "  (layer4): Sequential(\n",
              "    (0): Bottleneck(\n",
              "      (conv1): Conv2d(1024, 512, kernel_size=(1, 1), stride=(1, 1), bias=False)\n",
              "      (bn1): BatchNorm2d(512, eps=1e-05, momentum=0.1, affine=True, track_running_stats=True)\n",
              "      (conv2): Conv2d(512, 512, kernel_size=(3, 3), stride=(2, 2), padding=(1, 1), bias=False)\n",
              "      (bn2): BatchNorm2d(512, eps=1e-05, momentum=0.1, affine=True, track_running_stats=True)\n",
              "      (conv3): Conv2d(512, 2048, kernel_size=(1, 1), stride=(1, 1), bias=False)\n",
              "      (bn3): BatchNorm2d(2048, eps=1e-05, momentum=0.1, affine=True, track_running_stats=True)\n",
              "      (relu): ReLU(inplace=True)\n",
              "      (downsample): Sequential(\n",
              "        (0): Conv2d(1024, 2048, kernel_size=(1, 1), stride=(2, 2), bias=False)\n",
              "        (1): BatchNorm2d(2048, eps=1e-05, momentum=0.1, affine=True, track_running_stats=True)\n",
              "      )\n",
              "    )\n",
              "    (1): Bottleneck(\n",
              "      (conv1): Conv2d(2048, 512, kernel_size=(1, 1), stride=(1, 1), bias=False)\n",
              "      (bn1): BatchNorm2d(512, eps=1e-05, momentum=0.1, affine=True, track_running_stats=True)\n",
              "      (conv2): Conv2d(512, 512, kernel_size=(3, 3), stride=(1, 1), padding=(1, 1), bias=False)\n",
              "      (bn2): BatchNorm2d(512, eps=1e-05, momentum=0.1, affine=True, track_running_stats=True)\n",
              "      (conv3): Conv2d(512, 2048, kernel_size=(1, 1), stride=(1, 1), bias=False)\n",
              "      (bn3): BatchNorm2d(2048, eps=1e-05, momentum=0.1, affine=True, track_running_stats=True)\n",
              "      (relu): ReLU(inplace=True)\n",
              "    )\n",
              "    (2): Bottleneck(\n",
              "      (conv1): Conv2d(2048, 512, kernel_size=(1, 1), stride=(1, 1), bias=False)\n",
              "      (bn1): BatchNorm2d(512, eps=1e-05, momentum=0.1, affine=True, track_running_stats=True)\n",
              "      (conv2): Conv2d(512, 512, kernel_size=(3, 3), stride=(1, 1), padding=(1, 1), bias=False)\n",
              "      (bn2): BatchNorm2d(512, eps=1e-05, momentum=0.1, affine=True, track_running_stats=True)\n",
              "      (conv3): Conv2d(512, 2048, kernel_size=(1, 1), stride=(1, 1), bias=False)\n",
              "      (bn3): BatchNorm2d(2048, eps=1e-05, momentum=0.1, affine=True, track_running_stats=True)\n",
              "      (relu): ReLU(inplace=True)\n",
              "    )\n",
              "  )\n",
              "  (avgpool): AdaptiveAvgPool2d(output_size=(1, 1))\n",
              "  (fc): Sequential(\n",
              "    (fc1): Linear(in_features=2048, out_features=2048, bias=True)\n",
              "    (bn1): BatchNorm1d(2048, eps=1e-05, momentum=0.1, affine=True, track_running_stats=True)\n",
              "    (relu1): ReLU(inplace=True)\n",
              "    (fc2): Linear(in_features=2048, out_features=1, bias=True)\n",
              "    (sg): Sigmoid()\n",
              "  )\n",
              ")"
            ]
          },
          "metadata": {
            "tags": []
          },
          "execution_count": 39
        }
      ]
    },
    {
      "cell_type": "code",
      "metadata": {
        "id": "liTWKXSk8p2t"
      },
      "source": [
        "test_data = {\n",
        "    \"voets_test_images\": \"https://drive.google.com/uc?id=15S_V3B_Z3BOjCT3AbO2c887FyS5B0Lyd\",\n",
        "    \"messidor2\": \"https://drive.google.com/uc?id=1HaUAxDtN4BNj0hpH8QYGmiX39Va-Ke8p\",\n",
        "}\n",
        "\n",
        "TEST_DATASET = 'voets_test_images'\n",
        "URL_TEST_DATASET = test_data[TEST_DATASET]"
      ],
      "execution_count": 54,
      "outputs": []
    },
    {
      "cell_type": "code",
      "metadata": {
        "colab": {
          "base_uri": "https://localhost:8080/"
        },
        "id": "EFTyY-3S9-ZJ",
        "outputId": "cea6045d-63b7-4945-b83e-5556c8d6098e"
      },
      "source": [
        "!gdown $URL_TEST_DATASET"
      ],
      "execution_count": 55,
      "outputs": [
        {
          "output_type": "stream",
          "text": [
            "Downloading...\n",
            "From: https://drive.google.com/uc?id=15S_V3B_Z3BOjCT3AbO2c887FyS5B0Lyd\n",
            "To: /content/voets_test_images.zip\n",
            "475MB [00:04, 100MB/s]\n"
          ],
          "name": "stdout"
        }
      ]
    },
    {
      "cell_type": "code",
      "metadata": {
        "colab": {
          "base_uri": "https://localhost:8080/",
          "height": 35
        },
        "id": "09MLSbAoIJOh",
        "outputId": "b2750f93-ed6f-4b12-8e49-df12ac79d666"
      },
      "source": [
        "pwd"
      ],
      "execution_count": 56,
      "outputs": [
        {
          "output_type": "execute_result",
          "data": {
            "application/vnd.google.colaboratory.intrinsic+json": {
              "type": "string"
            },
            "text/plain": [
              "'/content'"
            ]
          },
          "metadata": {
            "tags": []
          },
          "execution_count": 56
        }
      ]
    },
    {
      "cell_type": "code",
      "metadata": {
        "id": "hoekpReH-KTu"
      },
      "source": [
        "import zipfile\n",
        "import torchvision.transforms as transforms\n",
        "from torchvision import datasets\n",
        "from torch.utils.data import DataLoader\n",
        "from tqdm import tqdm"
      ],
      "execution_count": 57,
      "outputs": []
    },
    {
      "cell_type": "code",
      "metadata": {
        "id": "KH2Wn-Ss-BZv"
      },
      "source": [
        "local_zip = '{}.zip'.format(TEST_DATASET)\n",
        "zip_ref = zipfile.ZipFile(local_zip, 'r')\n",
        "zip_ref.extractall('/content/')\n",
        "zip_ref.close()"
      ],
      "execution_count": 58,
      "outputs": []
    },
    {
      "cell_type": "code",
      "metadata": {
        "id": "xPWFz71B-TTf"
      },
      "source": [
        "cifar10_mean = (0.4914, 0.4822, 0.4465)\n",
        "cifar10_std = (0.2471, 0.2435, 0.2616)"
      ],
      "execution_count": 59,
      "outputs": []
    },
    {
      "cell_type": "code",
      "metadata": {
        "id": "GRkfHgyU-VUO"
      },
      "source": [
        "transform_val = transforms.Compose([\n",
        "    transforms.ToTensor(),\n",
        "    transforms.Normalize(mean=cifar10_mean, std=cifar10_std)  # What happens if I change This \n",
        "])"
      ],
      "execution_count": 60,
      "outputs": []
    },
    {
      "cell_type": "code",
      "metadata": {
        "colab": {
          "base_uri": "https://localhost:8080/"
        },
        "id": "k7yq-EIQ-ubL",
        "outputId": "83de5bac-b880-47cc-fa5e-cdb44da75282"
      },
      "source": [
        "cd .."
      ],
      "execution_count": 63,
      "outputs": [
        {
          "output_type": "stream",
          "text": [
            "/content\n"
          ],
          "name": "stdout"
        }
      ]
    },
    {
      "cell_type": "code",
      "metadata": {
        "id": "6RE5t5oz-fLR"
      },
      "source": [
        "test_dataset = datasets.ImageFolder(root=\"test\", transform=transform_val) # root: test/messidor2"
      ],
      "execution_count": 68,
      "outputs": []
    },
    {
      "cell_type": "code",
      "metadata": {
        "id": "4wrp0_Y1-gIq"
      },
      "source": [
        "test_loader = DataLoader(\n",
        "    test_dataset,\n",
        "    batch_size=1,\n",
        "    num_workers=1,\n",
        "    shuffle=False)\n",
        "\n",
        "loader = test_loader"
      ],
      "execution_count": 69,
      "outputs": []
    },
    {
      "cell_type": "code",
      "metadata": {
        "id": "fj8Ay-IF_ICN"
      },
      "source": [
        "model = encoder"
      ],
      "execution_count": 70,
      "outputs": []
    },
    {
      "cell_type": "code",
      "metadata": {
        "colab": {
          "base_uri": "https://localhost:8080/"
        },
        "id": "Ar8BjCT6-_uz",
        "outputId": "c88a701d-4bfc-4587-e6d3-3e3faf56023d"
      },
      "source": [
        "y_true = []\n",
        "y_pred = []\n",
        "\n",
        "with torch.no_grad():\n",
        "    with tqdm(total=len(loader)) as pbar:\n",
        "        for batch_idx, (inputs, targets) in enumerate(loader):\n",
        "\n",
        "            model.eval()\n",
        "\n",
        "            inputs = inputs.to(device)\n",
        "            targets = targets.to(device)\n",
        "            output = model(inputs)\n",
        "\n",
        "            output = output.to(device)\n",
        "\n",
        "            # Yo le agrege esto\n",
        "            y_true.append(targets.cpu().detach().numpy()[0])\n",
        "            y_pred.append(output.cpu().detach().numpy()[0][0])\n",
        "\n",
        "            pbar.update(1)"
      ],
      "execution_count": 71,
      "outputs": [
        {
          "output_type": "stream",
          "text": [
            "100%|██████████| 8790/8790 [01:35<00:00, 91.62it/s]\n"
          ],
          "name": "stderr"
        }
      ]
    },
    {
      "cell_type": "code",
      "metadata": {
        "colab": {
          "base_uri": "https://localhost:8080/"
        },
        "id": "cMBrm01w_o-G",
        "outputId": "769cc0fc-c04a-45ef-be80-68d77ed1b47d"
      },
      "source": [
        "import numpy as np\n",
        "from sklearn import metrics\n",
        "fpr, tpr, thresholds = metrics.roc_curve(y_true, y_pred)\n",
        "metrics.auc(fpr, tpr)"
      ],
      "execution_count": 72,
      "outputs": [
        {
          "output_type": "execute_result",
          "data": {
            "text/plain": [
              "0.8072923192582384"
            ]
          },
          "metadata": {
            "tags": []
          },
          "execution_count": 72
        }
      ]
    },
    {
      "cell_type": "code",
      "metadata": {
        "colab": {
          "base_uri": "https://localhost:8080/",
          "height": 349
        },
        "id": "xtZ_ms7s_t6o",
        "outputId": "c3ab5e82-9de4-496d-8687-eef0d133f193"
      },
      "source": [
        "# Commented out IPython magic to ensure Python compatibility.\n",
        "from sklearn.metrics import accuracy_score\n",
        "import seaborn as sns\n",
        "import matplotlib.pyplot as plt\n",
        "import matplotlib.image as mpimg\n",
        "from mlxtend.plotting import plot_confusion_matrix \n",
        "# %matplotlib inline\n",
        "\n",
        "#cm=metrics.confusion_matrix(y_true, y_pred)\n",
        "auc = metrics.auc(fpr, tpr)\n",
        "#print('AUC: %.3f' % auc)\n",
        "#print('Accuracy: {}'.format(accuracy_score(y_true, y_pred)))\n",
        "\n",
        "# Plot ROC curve\n",
        "lw = 2\n",
        "sns.set_style({'axes.grid' : False})\n",
        "sns.set_style(\"darkgrid\")\n",
        "ax1 = sns.lineplot(fpr, tpr, color='darkorange',\n",
        "        lw=lw, label='AUC = %0.2f' % auc)\n",
        "plt.plot([0, 1], [0, 1], color='navy', lw=lw, linestyle='--')\n",
        "ax1.set_title('Receiver operating characteristic')\n",
        "ax1.set(xlabel='False Positive Rate', ylabel='True Positive Rate')\n",
        "plt.legend(loc=\"lower right\")\n",
        "plt.show()"
      ],
      "execution_count": 73,
      "outputs": [
        {
          "output_type": "stream",
          "text": [
            "/usr/local/lib/python3.7/dist-packages/seaborn/_decorators.py:43: FutureWarning: Pass the following variables as keyword args: x, y. From version 0.12, the only valid positional argument will be `data`, and passing other arguments without an explicit keyword will result in an error or misinterpretation.\n",
            "  FutureWarning\n"
          ],
          "name": "stderr"
        },
        {
          "output_type": "display_data",
          "data": {
            "image/png": "[encoded data removed]",
            "text/plain": [
              "<Figure size 432x288 with 1 Axes>"
            ]
          },
          "metadata": {
            "tags": []
          }
        }
      ]
    },
    {
      "cell_type": "code",
      "metadata": {
        "id": "q0GT7rfFLiis"
      },
      "source": [
        ""
      ],
      "execution_count": null,
      "outputs": []
    }
  ]
}