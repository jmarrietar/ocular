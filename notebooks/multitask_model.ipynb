{
  "nbformat": 4,
  "nbformat_minor": 0,
  "metadata": {
    "kernelspec": {
      "display_name": "Python 3",
      "language": "python",
      "name": "python3"
    },
    "language_info": {
      "codemirror_mode": {
        "name": "ipython",
        "version": 3
      },
      "file_extension": ".py",
      "mimetype": "text/x-python",
      "name": "python",
      "nbconvert_exporter": "python",
      "pygments_lexer": "ipython3",
      "version": "3.7.6"
    },
    "colab": {
      "name": "multitask_model.ipynb",
      "provenance": [],
      "include_colab_link": true
    },
    "accelerator": "GPU"
  },
  "cells": [
    {
      "cell_type": "markdown",
      "metadata": {
        "id": "view-in-github",
        "colab_type": "text"
      },
      "source": [
        "<a href=\"https://colab.research.google.com/github/jmarrietar/ocular/blob/master/notebooks/multitask_model.ipynb\" target=\"_parent\"><img src=\"https://colab.research.google.com/assets/colab-badge.svg\" alt=\"Open In Colab\"/></a>"
      ]
    },
    {
      "cell_type": "code",
      "metadata": {
        "id": "7wT7ZcpR8GQl"
      },
      "source": [
        "#pip install sklearn"
      ],
      "execution_count": 1,
      "outputs": []
    },
    {
      "cell_type": "code",
      "metadata": {
        "colab": {
          "base_uri": "https://localhost:8080/"
        },
        "id": "tjgIBYRf8GQn",
        "outputId": "052d5b50-aa8a-4e70-c711-32ecfec408eb"
      },
      "source": [
        "pip install scikit-multilearn"
      ],
      "execution_count": 1,
      "outputs": [
        {
          "output_type": "stream",
          "name": "stdout",
          "text": [
            "Requirement already satisfied: scikit-multilearn in /usr/local/lib/python3.7/dist-packages (0.2.0)\n"
          ]
        }
      ]
    },
    {
      "cell_type": "code",
      "metadata": {
        "id": "DvzgRpcq8GQn"
      },
      "source": [
        "#pip install pandas"
      ],
      "execution_count": 3,
      "outputs": []
    },
    {
      "cell_type": "code",
      "metadata": {
        "id": "pt3qpJVO8GQo"
      },
      "source": [
        "#pip install seaborn"
      ],
      "execution_count": 4,
      "outputs": []
    },
    {
      "cell_type": "code",
      "metadata": {
        "id": "t35_MTJTkYdG"
      },
      "source": [
        "from google.colab import auth, drive\n",
        "from googleapiclient.discovery import build\n",
        "from googleapiclient.http import MediaFileUpload"
      ],
      "execution_count": 2,
      "outputs": []
    },
    {
      "cell_type": "code",
      "metadata": {
        "colab": {
          "base_uri": "https://localhost:8080/"
        },
        "id": "eWC64n0_9f0q",
        "outputId": "2197b403-8ffb-4e66-9af5-a99b5a42919c"
      },
      "source": [
        "# Mount Drive\n",
        "drive.mount('/content/drive')\n",
        "auth.authenticate_user()"
      ],
      "execution_count": 3,
      "outputs": [
        {
          "output_type": "stream",
          "name": "stdout",
          "text": [
            "Drive already mounted at /content/drive; to attempt to forcibly remount, call drive.mount(\"/content/drive\", force_remount=True).\n"
          ]
        }
      ]
    },
    {
      "cell_type": "code",
      "metadata": {
        "id": "GDtUiYO78GQo"
      },
      "source": [
        "import numpy as np\n",
        "import matplotlib.pyplot as plt\n",
        "import seaborn as sns\n",
        "%matplotlib inline\n",
        "import h5py\n",
        "import tensorflow as tf\n",
        "from tensorflow.keras.utils import to_categorical\n",
        "import sys\n",
        "import pandas as pd\n",
        "#sys.path.append(\"/tf/home/\")\n",
        "#from keras_kfold import kfoldcv\n",
        "from skmultilearn.model_selection import iterative_train_test_split\n",
        "from sklearn.metrics import accuracy_score, cohen_kappa_score, f1_score, recall_score\n",
        "from sklearn.utils import compute_class_weight\n",
        "from tensorflow.keras.callbacks import Callback, ModelCheckpoint\n",
        "from sklearn.model_selection import train_test_split\n"
      ],
      "execution_count": 4,
      "outputs": []
    },
    {
      "cell_type": "code",
      "metadata": {
        "id": "atLMiNnQ8GQq"
      },
      "source": [
        "def build_model(n_layers, n_units, activation, lr):\n",
        "    # Define the model architecture\n",
        "    model=tf.keras.models.Sequential()\n",
        "    for layer in range(n_layers):\n",
        "        if layer == 0:\n",
        "            model.add(tf.keras.layers.Dense(n_units,activation=activation, input_shape=(1024,)))\n",
        "            model.add(tf.keras.layers.Dropout(0.2))\n",
        "        else:\n",
        "            model.add(tf.keras.layers.Dense(n_units,activation=activation))\n",
        "        model.add(tf.keras.layers.Dropout(0.2))\n",
        "    model.add(tf.keras.layers.Dense(Y_train.shape[1],activation=\"sigmoid\"))\n",
        "    #model.add(tf.keras.layers.Dense(1,activation=\"sigmoid\"))\n",
        "    model.compile(loss=lambda y_true,y_pred:weighted_loss(y_true,y_pred,cweights),optimizer=tf.keras.optimizers.Adam(lr=lr))\n",
        "    #model.compile(loss=\"binary_crossentropy\", optimizer=tf.keras.optimizers.Adam(lr=lr))\n",
        "    return model\n",
        "\n",
        "params={\"n_layers\":[1,2,3],\"n_units\":[128,512,1024], \"activation\": [\"relu\", \"elu\"], \"lr\":[1e-4,1e-5,1e-6]}\n"
      ],
      "execution_count": 5,
      "outputs": []
    },
    {
      "cell_type": "code",
      "metadata": {
        "colab": {
          "base_uri": "https://localhost:8080/"
        },
        "id": "uIT_Y5Sj8Vtk",
        "outputId": "582a347a-69f9-4a5b-fac9-faad0d50cc41"
      },
      "source": [
        "cnn_model_name = \"densenet121_CAB_EyePACS\"\n",
        "\n",
        "hdf5_features_kaggle = '/content/drive/MyDrive/Colab Notebooks/Multitask/features/' + '{}_kaggle.hdf5'.format(cnn_model_name)\n",
        "    \n",
        "with h5py.File(hdf5_features_kaggle, \"r\") as f:  \n",
        "  print(f.keys())\n",
        "  X_f_train = f[\"features\"][:]\n",
        "  a_train = f['A'][:].astype('float32')\n",
        "  h_train = f['H'][:].astype('float32')\n",
        "  cws_train = f['CWS'][:].astype('float32')\n",
        "  vb_train = f['VB'][:].astype('float32')\n",
        "  nv_train = f['NV'][:].astype('float32')\n",
        "  dr_train = f['Retinopathy'][:].astype('float32')\n",
        "\n",
        "hdf5_features_messidor = '/content/drive/MyDrive/Colab Notebooks/Multitask/features/' + '{}_messidor2.hdf5'.format(cnn_model_name)\n",
        "\n",
        "with h5py.File(hdf5_features_messidor, \"r\") as f:  \n",
        "  X_test = f[\"features\"][:]\n",
        "  a_test = f['A'][:].astype('float32')\n",
        "  h_test = f['H'][:].astype('float32')\n",
        "  cws_test = f['CWS'][:].astype('float32')\n",
        "  vb_test = f['VB'][:].astype('float32')\n",
        "  nv_test = f['NV'][:].astype('float32')\n",
        "  dr_test = f['Retinopathy'][:].astype('float32')"
      ],
      "execution_count": 6,
      "outputs": [
        {
          "output_type": "stream",
          "name": "stdout",
          "text": [
            "<KeysViewHDF5 ['A', 'CWS', 'DME', 'H', 'ID', 'NV', 'Referable', 'Retinopathy', 'VB', 'features']>\n"
          ]
        }
      ]
    },
    {
      "cell_type": "code",
      "metadata": {
        "colab": {
          "base_uri": "https://localhost:8080/"
        },
        "id": "MLrOiVVslT8D",
        "outputId": "9ac69864-dc31-4021-8708-2cc1f69a88a0"
      },
      "source": [
        "a_train.shape"
      ],
      "execution_count": 10,
      "outputs": [
        {
          "output_type": "execute_result",
          "data": {
            "text/plain": [
              "(3210,)"
            ]
          },
          "metadata": {},
          "execution_count": 10
        }
      ]
    },
    {
      "cell_type": "code",
      "metadata": {
        "colab": {
          "base_uri": "https://localhost:8080/"
        },
        "id": "0BALjnRRqSCu",
        "outputId": "1017723d-1daa-4c88-e518-978bb71575b5"
      },
      "source": [
        "dr_train[dr_train>1]"
      ],
      "execution_count": 12,
      "outputs": [
        {
          "output_type": "execute_result",
          "data": {
            "text/plain": [
              "array([2., 2., 2., ..., 3., 4., 3.], dtype=float32)"
            ]
          },
          "metadata": {},
          "execution_count": 12
        }
      ]
    },
    {
      "cell_type": "code",
      "metadata": {
        "id": "sEq-2FVj-zvh"
      },
      "source": [
        "# DR Referible/ No referible\n",
        "dr_train[dr_train==1]=0\n",
        "dr_train[dr_train>1]=1"
      ],
      "execution_count": 13,
      "outputs": []
    },
    {
      "cell_type": "code",
      "metadata": {
        "id": "PRuWVwTD8mW8"
      },
      "source": [
        "y_train = np.vstack((a_train, h_train, cws_train, vb_train, nv_train, dr_train)).T\n",
        "y_test = np.vstack((a_test, h_test, cws_test, vb_test, nv_test, dr_test)).T"
      ],
      "execution_count": 14,
      "outputs": []
    },
    {
      "cell_type": "code",
      "metadata": {
        "id": "DfXWuLAvnfxo"
      },
      "source": [
        "#X_train, X_val, Y_train, Y_val=train_test_split(X_f_train, y_train, test_size = 0.3)\n",
        "X_train, Y_train,  X_val, Y_val= iterative_train_test_split(X_f_train, y_train, test_size = 0.3)"
      ],
      "execution_count": 15,
      "outputs": []
    },
    {
      "cell_type": "code",
      "metadata": {
        "colab": {
          "base_uri": "https://localhost:8080/"
        },
        "id": "49jSQ8IJpzXJ",
        "outputId": "55aff440-89ba-491f-9033-d6c42708b694"
      },
      "source": [
        "Y_train.shape"
      ],
      "execution_count": 16,
      "outputs": [
        {
          "output_type": "execute_result",
          "data": {
            "text/plain": [
              "(2247, 6)"
            ]
          },
          "metadata": {},
          "execution_count": 16
        }
      ]
    },
    {
      "cell_type": "code",
      "metadata": {
        "colab": {
          "base_uri": "https://localhost:8080/"
        },
        "id": "j4aLnM0_r6zk",
        "outputId": "98496705-5e31-4e9a-cf2f-413a95e6b632"
      },
      "source": [
        "X_train.shape"
      ],
      "execution_count": 19,
      "outputs": [
        {
          "output_type": "execute_result",
          "data": {
            "text/plain": [
              "(2247, 1024)"
            ]
          },
          "metadata": {},
          "execution_count": 19
        }
      ]
    },
    {
      "cell_type": "code",
      "metadata": {
        "colab": {
          "base_uri": "https://localhost:8080/"
        },
        "id": "r_4Wowcvori0",
        "outputId": "d35fbfa4-c171-42bb-e234-02f9d2cea147"
      },
      "source": [
        "X_f_train.shape, dr_train.shape, Y_train.shape, X_train.shape"
      ],
      "execution_count": 20,
      "outputs": [
        {
          "output_type": "execute_result",
          "data": {
            "text/plain": [
              "((3210, 1024), (3210,), (2247, 6), (2247, 1024))"
            ]
          },
          "metadata": {},
          "execution_count": 20
        }
      ]
    },
    {
      "cell_type": "code",
      "metadata": {
        "id": "4f3Pr7DR8GQr"
      },
      "source": [
        "#X_train, Y_train, X_val, Y_val=iterative_train_test_split(X_train, y_train, test_size = 0.3)"
      ],
      "execution_count": null,
      "outputs": []
    },
    {
      "cell_type": "markdown",
      "metadata": {
        "id": "DsSNZkdI8GQs"
      },
      "source": [
        "**Build model**"
      ]
    },
    {
      "cell_type": "code",
      "metadata": {
        "id": "2s04QGDp8GQt"
      },
      "source": [
        "import tensorflow as tf\n",
        "import numpy as np\n",
        "from sklearn.utils.class_weight import compute_class_weight\n",
        "\n",
        "def class_weights(y_true):\n",
        "    weights = np.empty([y_true.shape[1], 2])\n",
        "    for i in range(y_true.shape[1]):\n",
        "        weights[i]=compute_class_weight('balanced', [0.,1.], y_true[:, i])\n",
        "    return weights\n",
        "def weighted_loss(y_true, y_pred, weights=None):\n",
        "    return tf.reduce_mean((weights[:,0]**(1-y_true))*(weights[:,1]**(y_true))*tf.keras.backend.binary_crossentropy(y_true, y_pred), axis=-1)"
      ],
      "execution_count": 21,
      "outputs": []
    },
    {
      "cell_type": "code",
      "metadata": {
        "id": "QYU8SZo28GQt"
      },
      "source": [
        "cweights=class_weights(Y_train)"
      ],
      "execution_count": 22,
      "outputs": []
    },
    {
      "cell_type": "code",
      "metadata": {
        "colab": {
          "base_uri": "https://localhost:8080/"
        },
        "id": "nt9Z2ra48GQt",
        "outputId": "a0041e8c-3fc0-4eec-fa19-aabae2f2cc8c"
      },
      "source": [
        "model=build_model(2, 512, 'elu', 1e-6)"
      ],
      "execution_count": 23,
      "outputs": [
        {
          "output_type": "stream",
          "name": "stderr",
          "text": [
            "/usr/local/lib/python3.7/dist-packages/keras/optimizer_v2/optimizer_v2.py:356: UserWarning: The `lr` argument is deprecated, use `learning_rate` instead.\n",
            "  \"The `lr` argument is deprecated, use `learning_rate` instead.\")\n"
          ]
        }
      ]
    },
    {
      "cell_type": "code",
      "metadata": {
        "id": "nKPkufET8GQu"
      },
      "source": [
        "class f1_callback(Callback):\n",
        "    def __init__(self,X_val,Y_val,model_path):\n",
        "        self.__X_val=X_val\n",
        "        self.__Y_val=Y_val\n",
        "        self.__best_auc=0\n",
        "        self.__model_path=model_path\n",
        "        \n",
        "    def on_epoch_end(self, epoch, logs={}):\n",
        "        pred=np.round(self.model.predict(self.__X_val))\n",
        "\n",
        "        f1a =f1_score(self.__Y_val[:,0], pred[:,0],average=\"binary\")\n",
        "        f1h =f1_score(self.__Y_val[:,1], pred[:,1],average=\"binary\")\n",
        "        f1cw=f1_score(self.__Y_val[:,2], pred[:,2],average=\"binary\")\n",
        "        f1vb=f1_score(self.__Y_val[:,3], pred[:,3],average=\"binary\")\n",
        "        f1nv=f1_score(self.__Y_val[:,4], pred[:,4],average=\"binary\")\n",
        "        f1r =f1_score(self.__Y_val[:,4], pred[:,5],average=\"binary\")\n",
        "        \n",
        "        cur_auc=np.mean([f1a,f1h,f1cw,f1vb,f1nv,f1r])\n",
        "        if cur_auc>=self.__best_auc:\n",
        "            self.model.save_weights(self.__model_path)\n",
        "            print(\"f1_binary improved from {} to {}\".format(self.__best_auc,cur_auc))\n",
        "            self.__best_auc=cur_auc"
      ],
      "execution_count": 24,
      "outputs": []
    },
    {
      "cell_type": "code",
      "metadata": {
        "id": "-gkCiplI8GQu"
      },
      "source": [
        "path=\"multitask.hdf5\"\n",
        "#checkpoint=ModelCheckpoint(path, monitor='val_loss', verbose=1, save_best_only=True, mode='min')\n",
        "callbacks=[f1_callback(X_val,Y_val,path)]\n"
      ],
      "execution_count": 25,
      "outputs": []
    },
    {
      "cell_type": "code",
      "metadata": {
        "colab": {
          "base_uri": "https://localhost:8080/",
          "height": 35
        },
        "id": "lxKK67vvsSl4",
        "outputId": "94e96fd9-5c5e-47c5-ea16-678f953d520f"
      },
      "source": [
        "pwd"
      ],
      "execution_count": 26,
      "outputs": [
        {
          "output_type": "execute_result",
          "data": {
            "application/vnd.google.colaboratory.intrinsic+json": {
              "type": "string"
            },
            "text/plain": [
              "'/content'"
            ]
          },
          "metadata": {},
          "execution_count": 26
        }
      ]
    },
    {
      "cell_type": "code",
      "metadata": {
        "id": "Fhw5IKYu_fow"
      },
      "source": [
        "#class_weights = compute_class_weight('balanced',np.unique(Y_train), Y_train)\n",
        "#d_class_weights={i:val for i,val in enumerate(class_weights)}"
      ],
      "execution_count": null,
      "outputs": []
    },
    {
      "cell_type": "code",
      "metadata": {
        "colab": {
          "base_uri": "https://localhost:8080/"
        },
        "id": "7sc6mMTE8GQv",
        "outputId": "af6a62d1-7d70-4215-b184-3cc39ee37657"
      },
      "source": [
        "#hist=model.fit(X_train, Y_train, validation_data=(X_val,Y_val), epochs=400, batch_size=1024, verbose=True, class_weight=d_class_weights)\n",
        "hist=model.fit(X_train, Y_train, validation_data=(X_val,Y_val), epochs=400, batch_size=1024, verbose=True)"
      ],
      "execution_count": 27,
      "outputs": [
        {
          "output_type": "stream",
          "name": "stdout",
          "text": [
            "Epoch 1/400\n",
            "3/3 [==============================] - 3s 164ms/step - loss: 0.7024 - val_loss: 0.6467\n",
            "Epoch 2/400\n",
            "3/3 [==============================] - 0s 20ms/step - loss: 0.7101 - val_loss: 0.6447\n",
            "Epoch 3/400\n",
            "3/3 [==============================] - 0s 19ms/step - loss: 0.7037 - val_loss: 0.6428\n",
            "Epoch 4/400\n",
            "3/3 [==============================] - 0s 19ms/step - loss: 0.7036 - val_loss: 0.6410\n",
            "Epoch 5/400\n",
            "3/3 [==============================] - 0s 18ms/step - loss: 0.7016 - val_loss: 0.6391\n",
            "Epoch 6/400\n",
            "3/3 [==============================] - 0s 17ms/step - loss: 0.6896 - val_loss: 0.6373\n",
            "Epoch 7/400\n",
            "3/3 [==============================] - 0s 16ms/step - loss: 0.6986 - val_loss: 0.6356\n",
            "Epoch 8/400\n",
            "3/3 [==============================] - 0s 17ms/step - loss: 0.6880 - val_loss: 0.6339\n",
            "Epoch 9/400\n",
            "3/3 [==============================] - 0s 18ms/step - loss: 0.6870 - val_loss: 0.6322\n",
            "Epoch 10/400\n",
            "3/3 [==============================] - 0s 18ms/step - loss: 0.6886 - val_loss: 0.6306\n",
            "Epoch 11/400\n",
            "3/3 [==============================] - 0s 18ms/step - loss: 0.6793 - val_loss: 0.6290\n",
            "Epoch 12/400\n",
            "3/3 [==============================] - 0s 18ms/step - loss: 0.6771 - val_loss: 0.6274\n",
            "Epoch 13/400\n",
            "3/3 [==============================] - 0s 24ms/step - loss: 0.6779 - val_loss: 0.6258\n",
            "Epoch 14/400\n",
            "3/3 [==============================] - 0s 19ms/step - loss: 0.6816 - val_loss: 0.6243\n",
            "Epoch 15/400\n",
            "3/3 [==============================] - 0s 18ms/step - loss: 0.6657 - val_loss: 0.6228\n",
            "Epoch 16/400\n",
            "3/3 [==============================] - 0s 18ms/step - loss: 0.6746 - val_loss: 0.6214\n",
            "Epoch 17/400\n",
            "3/3 [==============================] - 0s 18ms/step - loss: 0.6774 - val_loss: 0.6200\n",
            "Epoch 18/400\n",
            "3/3 [==============================] - 0s 18ms/step - loss: 0.6762 - val_loss: 0.6185\n",
            "Epoch 19/400\n",
            "3/3 [==============================] - 0s 19ms/step - loss: 0.6739 - val_loss: 0.6171\n",
            "Epoch 20/400\n",
            "3/3 [==============================] - 0s 17ms/step - loss: 0.6605 - val_loss: 0.6158\n",
            "Epoch 21/400\n",
            "3/3 [==============================] - 0s 18ms/step - loss: 0.6706 - val_loss: 0.6144\n",
            "Epoch 22/400\n",
            "3/3 [==============================] - 0s 23ms/step - loss: 0.6661 - val_loss: 0.6131\n",
            "Epoch 23/400\n",
            "3/3 [==============================] - 0s 20ms/step - loss: 0.6657 - val_loss: 0.6118\n",
            "Epoch 24/400\n",
            "3/3 [==============================] - 0s 20ms/step - loss: 0.6609 - val_loss: 0.6105\n",
            "Epoch 25/400\n",
            "3/3 [==============================] - 0s 17ms/step - loss: 0.6606 - val_loss: 0.6092\n",
            "Epoch 26/400\n",
            "3/3 [==============================] - 0s 19ms/step - loss: 0.6544 - val_loss: 0.6080\n",
            "Epoch 27/400\n",
            "3/3 [==============================] - 0s 18ms/step - loss: 0.6546 - val_loss: 0.6068\n",
            "Epoch 28/400\n",
            "3/3 [==============================] - 0s 18ms/step - loss: 0.6571 - val_loss: 0.6056\n",
            "Epoch 29/400\n",
            "3/3 [==============================] - 0s 19ms/step - loss: 0.6454 - val_loss: 0.6044\n",
            "Epoch 30/400\n",
            "3/3 [==============================] - 0s 18ms/step - loss: 0.6526 - val_loss: 0.6032\n",
            "Epoch 31/400\n",
            "3/3 [==============================] - 0s 26ms/step - loss: 0.6511 - val_loss: 0.6020\n",
            "Epoch 32/400\n",
            "3/3 [==============================] - 0s 18ms/step - loss: 0.6398 - val_loss: 0.6009\n",
            "Epoch 33/400\n",
            "3/3 [==============================] - 0s 20ms/step - loss: 0.6438 - val_loss: 0.5997\n",
            "Epoch 34/400\n",
            "3/3 [==============================] - 0s 18ms/step - loss: 0.6411 - val_loss: 0.5986\n",
            "Epoch 35/400\n",
            "3/3 [==============================] - 0s 19ms/step - loss: 0.6450 - val_loss: 0.5975\n",
            "Epoch 36/400\n",
            "3/3 [==============================] - 0s 18ms/step - loss: 0.6388 - val_loss: 0.5964\n",
            "Epoch 37/400\n",
            "3/3 [==============================] - 0s 18ms/step - loss: 0.6422 - val_loss: 0.5953\n",
            "Epoch 38/400\n",
            "3/3 [==============================] - 0s 18ms/step - loss: 0.6370 - val_loss: 0.5942\n",
            "Epoch 39/400\n",
            "3/3 [==============================] - 0s 19ms/step - loss: 0.6339 - val_loss: 0.5931\n",
            "Epoch 40/400\n",
            "3/3 [==============================] - 0s 18ms/step - loss: 0.6389 - val_loss: 0.5920\n",
            "Epoch 41/400\n",
            "3/3 [==============================] - 0s 21ms/step - loss: 0.6383 - val_loss: 0.5909\n",
            "Epoch 42/400\n",
            "3/3 [==============================] - 0s 17ms/step - loss: 0.6319 - val_loss: 0.5898\n",
            "Epoch 43/400\n",
            "3/3 [==============================] - 0s 17ms/step - loss: 0.6400 - val_loss: 0.5888\n",
            "Epoch 44/400\n",
            "3/3 [==============================] - 0s 19ms/step - loss: 0.6333 - val_loss: 0.5878\n",
            "Epoch 45/400\n",
            "3/3 [==============================] - 0s 17ms/step - loss: 0.6211 - val_loss: 0.5868\n",
            "Epoch 46/400\n",
            "3/3 [==============================] - 0s 17ms/step - loss: 0.6239 - val_loss: 0.5858\n",
            "Epoch 47/400\n",
            "3/3 [==============================] - 0s 19ms/step - loss: 0.6333 - val_loss: 0.5848\n",
            "Epoch 48/400\n",
            "3/3 [==============================] - 0s 18ms/step - loss: 0.6274 - val_loss: 0.5838\n",
            "Epoch 49/400\n",
            "3/3 [==============================] - 0s 18ms/step - loss: 0.6333 - val_loss: 0.5828\n",
            "Epoch 50/400\n",
            "3/3 [==============================] - 0s 18ms/step - loss: 0.6241 - val_loss: 0.5818\n",
            "Epoch 51/400\n",
            "3/3 [==============================] - 0s 18ms/step - loss: 0.6258 - val_loss: 0.5809\n",
            "Epoch 52/400\n",
            "3/3 [==============================] - 0s 17ms/step - loss: 0.6150 - val_loss: 0.5799\n",
            "Epoch 53/400\n",
            "3/3 [==============================] - 0s 18ms/step - loss: 0.6159 - val_loss: 0.5789\n",
            "Epoch 54/400\n",
            "3/3 [==============================] - 0s 18ms/step - loss: 0.6234 - val_loss: 0.5780\n",
            "Epoch 55/400\n",
            "3/3 [==============================] - 0s 19ms/step - loss: 0.6171 - val_loss: 0.5771\n",
            "Epoch 56/400\n",
            "3/3 [==============================] - 0s 18ms/step - loss: 0.6237 - val_loss: 0.5761\n",
            "Epoch 57/400\n",
            "3/3 [==============================] - 0s 16ms/step - loss: 0.6060 - val_loss: 0.5752\n",
            "Epoch 58/400\n",
            "3/3 [==============================] - 0s 17ms/step - loss: 0.6114 - val_loss: 0.5743\n",
            "Epoch 59/400\n",
            "3/3 [==============================] - 0s 19ms/step - loss: 0.6099 - val_loss: 0.5734\n",
            "Epoch 60/400\n",
            "3/3 [==============================] - 0s 17ms/step - loss: 0.6098 - val_loss: 0.5725\n",
            "Epoch 61/400\n",
            "3/3 [==============================] - 0s 23ms/step - loss: 0.6085 - val_loss: 0.5717\n",
            "Epoch 62/400\n",
            "3/3 [==============================] - 0s 18ms/step - loss: 0.6047 - val_loss: 0.5708\n",
            "Epoch 63/400\n",
            "3/3 [==============================] - 0s 17ms/step - loss: 0.6015 - val_loss: 0.5699\n",
            "Epoch 64/400\n",
            "3/3 [==============================] - 0s 17ms/step - loss: 0.6054 - val_loss: 0.5691\n",
            "Epoch 65/400\n",
            "3/3 [==============================] - 0s 20ms/step - loss: 0.5994 - val_loss: 0.5682\n",
            "Epoch 66/400\n",
            "3/3 [==============================] - 0s 19ms/step - loss: 0.6064 - val_loss: 0.5674\n",
            "Epoch 67/400\n",
            "3/3 [==============================] - 0s 19ms/step - loss: 0.6014 - val_loss: 0.5665\n",
            "Epoch 68/400\n",
            "3/3 [==============================] - 0s 19ms/step - loss: 0.6030 - val_loss: 0.5657\n",
            "Epoch 69/400\n",
            "3/3 [==============================] - 0s 20ms/step - loss: 0.5942 - val_loss: 0.5649\n",
            "Epoch 70/400\n",
            "3/3 [==============================] - 0s 18ms/step - loss: 0.5957 - val_loss: 0.5641\n",
            "Epoch 71/400\n",
            "3/3 [==============================] - 0s 19ms/step - loss: 0.5973 - val_loss: 0.5633\n",
            "Epoch 72/400\n",
            "3/3 [==============================] - 0s 18ms/step - loss: 0.5975 - val_loss: 0.5625\n",
            "Epoch 73/400\n",
            "3/3 [==============================] - 0s 17ms/step - loss: 0.5972 - val_loss: 0.5617\n",
            "Epoch 74/400\n",
            "3/3 [==============================] - 0s 18ms/step - loss: 0.5979 - val_loss: 0.5609\n",
            "Epoch 75/400\n",
            "3/3 [==============================] - 0s 20ms/step - loss: 0.5993 - val_loss: 0.5601\n",
            "Epoch 76/400\n",
            "3/3 [==============================] - 0s 21ms/step - loss: 0.5905 - val_loss: 0.5594\n",
            "Epoch 77/400\n",
            "3/3 [==============================] - 0s 18ms/step - loss: 0.5954 - val_loss: 0.5586\n",
            "Epoch 78/400\n",
            "3/3 [==============================] - 0s 19ms/step - loss: 0.5869 - val_loss: 0.5578\n",
            "Epoch 79/400\n",
            "3/3 [==============================] - 0s 17ms/step - loss: 0.6007 - val_loss: 0.5571\n",
            "Epoch 80/400\n",
            "3/3 [==============================] - 0s 22ms/step - loss: 0.5836 - val_loss: 0.5564\n",
            "Epoch 81/400\n",
            "3/3 [==============================] - 0s 18ms/step - loss: 0.5895 - val_loss: 0.5556\n",
            "Epoch 82/400\n",
            "3/3 [==============================] - 0s 18ms/step - loss: 0.5886 - val_loss: 0.5549\n",
            "Epoch 83/400\n",
            "3/3 [==============================] - 0s 19ms/step - loss: 0.5946 - val_loss: 0.5542\n",
            "Epoch 84/400\n",
            "3/3 [==============================] - 0s 19ms/step - loss: 0.5813 - val_loss: 0.5535\n",
            "Epoch 85/400\n",
            "3/3 [==============================] - 0s 20ms/step - loss: 0.5755 - val_loss: 0.5529\n",
            "Epoch 86/400\n",
            "3/3 [==============================] - 0s 18ms/step - loss: 0.5883 - val_loss: 0.5522\n",
            "Epoch 87/400\n",
            "3/3 [==============================] - 0s 17ms/step - loss: 0.5761 - val_loss: 0.5515\n",
            "Epoch 88/400\n",
            "3/3 [==============================] - 0s 18ms/step - loss: 0.5795 - val_loss: 0.5508\n",
            "Epoch 89/400\n",
            "3/3 [==============================] - 0s 18ms/step - loss: 0.5828 - val_loss: 0.5501\n",
            "Epoch 90/400\n",
            "3/3 [==============================] - 0s 17ms/step - loss: 0.5837 - val_loss: 0.5494\n",
            "Epoch 91/400\n",
            "3/3 [==============================] - 0s 18ms/step - loss: 0.5764 - val_loss: 0.5487\n",
            "Epoch 92/400\n",
            "3/3 [==============================] - 0s 19ms/step - loss: 0.5826 - val_loss: 0.5480\n",
            "Epoch 93/400\n",
            "3/3 [==============================] - 0s 19ms/step - loss: 0.5802 - val_loss: 0.5473\n",
            "Epoch 94/400\n",
            "3/3 [==============================] - 0s 19ms/step - loss: 0.5696 - val_loss: 0.5466\n",
            "Epoch 95/400\n",
            "3/3 [==============================] - 0s 18ms/step - loss: 0.5778 - val_loss: 0.5460\n",
            "Epoch 96/400\n",
            "3/3 [==============================] - 0s 19ms/step - loss: 0.5749 - val_loss: 0.5453\n",
            "Epoch 97/400\n",
            "3/3 [==============================] - 0s 18ms/step - loss: 0.5683 - val_loss: 0.5447\n",
            "Epoch 98/400\n",
            "3/3 [==============================] - 0s 18ms/step - loss: 0.5736 - val_loss: 0.5440\n",
            "Epoch 99/400\n",
            "3/3 [==============================] - 0s 20ms/step - loss: 0.5722 - val_loss: 0.5434\n",
            "Epoch 100/400\n",
            "3/3 [==============================] - 0s 20ms/step - loss: 0.5695 - val_loss: 0.5428\n",
            "Epoch 101/400\n",
            "3/3 [==============================] - 0s 18ms/step - loss: 0.5626 - val_loss: 0.5421\n",
            "Epoch 102/400\n",
            "3/3 [==============================] - 0s 19ms/step - loss: 0.5694 - val_loss: 0.5415\n",
            "Epoch 103/400\n",
            "3/3 [==============================] - 0s 17ms/step - loss: 0.5675 - val_loss: 0.5410\n",
            "Epoch 104/400\n",
            "3/3 [==============================] - 0s 18ms/step - loss: 0.5680 - val_loss: 0.5404\n",
            "Epoch 105/400\n",
            "3/3 [==============================] - 0s 16ms/step - loss: 0.5618 - val_loss: 0.5398\n",
            "Epoch 106/400\n",
            "3/3 [==============================] - 0s 19ms/step - loss: 0.5644 - val_loss: 0.5392\n",
            "Epoch 107/400\n",
            "3/3 [==============================] - 0s 18ms/step - loss: 0.5614 - val_loss: 0.5386\n",
            "Epoch 108/400\n",
            "3/3 [==============================] - 0s 19ms/step - loss: 0.5603 - val_loss: 0.5379\n",
            "Epoch 109/400\n",
            "3/3 [==============================] - 0s 17ms/step - loss: 0.5657 - val_loss: 0.5373\n",
            "Epoch 110/400\n",
            "3/3 [==============================] - 0s 16ms/step - loss: 0.5595 - val_loss: 0.5367\n",
            "Epoch 111/400\n",
            "3/3 [==============================] - 0s 19ms/step - loss: 0.5602 - val_loss: 0.5361\n",
            "Epoch 112/400\n",
            "3/3 [==============================] - 0s 20ms/step - loss: 0.5554 - val_loss: 0.5355\n",
            "Epoch 113/400\n",
            "3/3 [==============================] - 0s 19ms/step - loss: 0.5601 - val_loss: 0.5350\n",
            "Epoch 114/400\n",
            "3/3 [==============================] - 0s 20ms/step - loss: 0.5581 - val_loss: 0.5344\n",
            "Epoch 115/400\n",
            "3/3 [==============================] - 0s 17ms/step - loss: 0.5497 - val_loss: 0.5338\n",
            "Epoch 116/400\n",
            "3/3 [==============================] - 0s 20ms/step - loss: 0.5623 - val_loss: 0.5332\n",
            "Epoch 117/400\n",
            "3/3 [==============================] - 0s 19ms/step - loss: 0.5583 - val_loss: 0.5326\n",
            "Epoch 118/400\n",
            "3/3 [==============================] - 0s 18ms/step - loss: 0.5541 - val_loss: 0.5321\n",
            "Epoch 119/400\n",
            "3/3 [==============================] - 0s 22ms/step - loss: 0.5530 - val_loss: 0.5315\n",
            "Epoch 120/400\n",
            "3/3 [==============================] - 0s 17ms/step - loss: 0.5534 - val_loss: 0.5310\n",
            "Epoch 121/400\n",
            "3/3 [==============================] - 0s 18ms/step - loss: 0.5510 - val_loss: 0.5305\n",
            "Epoch 122/400\n",
            "3/3 [==============================] - 0s 20ms/step - loss: 0.5548 - val_loss: 0.5300\n",
            "Epoch 123/400\n",
            "3/3 [==============================] - 0s 17ms/step - loss: 0.5517 - val_loss: 0.5295\n",
            "Epoch 124/400\n",
            "3/3 [==============================] - 0s 19ms/step - loss: 0.5452 - val_loss: 0.5290\n",
            "Epoch 125/400\n",
            "3/3 [==============================] - 0s 18ms/step - loss: 0.5490 - val_loss: 0.5285\n",
            "Epoch 126/400\n",
            "3/3 [==============================] - 0s 18ms/step - loss: 0.5458 - val_loss: 0.5279\n",
            "Epoch 127/400\n",
            "3/3 [==============================] - 0s 19ms/step - loss: 0.5472 - val_loss: 0.5274\n",
            "Epoch 128/400\n",
            "3/3 [==============================] - 0s 17ms/step - loss: 0.5445 - val_loss: 0.5270\n",
            "Epoch 129/400\n",
            "3/3 [==============================] - 0s 16ms/step - loss: 0.5427 - val_loss: 0.5265\n",
            "Epoch 130/400\n",
            "3/3 [==============================] - 0s 17ms/step - loss: 0.5465 - val_loss: 0.5260\n",
            "Epoch 131/400\n",
            "3/3 [==============================] - 0s 18ms/step - loss: 0.5419 - val_loss: 0.5256\n",
            "Epoch 132/400\n",
            "3/3 [==============================] - 0s 18ms/step - loss: 0.5386 - val_loss: 0.5251\n",
            "Epoch 133/400\n",
            "3/3 [==============================] - 0s 21ms/step - loss: 0.5379 - val_loss: 0.5247\n",
            "Epoch 134/400\n",
            "3/3 [==============================] - 0s 19ms/step - loss: 0.5396 - val_loss: 0.5242\n",
            "Epoch 135/400\n",
            "3/3 [==============================] - 0s 19ms/step - loss: 0.5354 - val_loss: 0.5238\n",
            "Epoch 136/400\n",
            "3/3 [==============================] - 0s 25ms/step - loss: 0.5450 - val_loss: 0.5233\n",
            "Epoch 137/400\n",
            "3/3 [==============================] - 0s 21ms/step - loss: 0.5355 - val_loss: 0.5229\n",
            "Epoch 138/400\n",
            "3/3 [==============================] - 0s 20ms/step - loss: 0.5341 - val_loss: 0.5224\n",
            "Epoch 139/400\n",
            "3/3 [==============================] - 0s 20ms/step - loss: 0.5374 - val_loss: 0.5220\n",
            "Epoch 140/400\n",
            "3/3 [==============================] - 0s 20ms/step - loss: 0.5366 - val_loss: 0.5216\n",
            "Epoch 141/400\n",
            "3/3 [==============================] - 0s 18ms/step - loss: 0.5359 - val_loss: 0.5212\n",
            "Epoch 142/400\n",
            "3/3 [==============================] - 0s 16ms/step - loss: 0.5357 - val_loss: 0.5207\n",
            "Epoch 143/400\n",
            "3/3 [==============================] - 0s 21ms/step - loss: 0.5371 - val_loss: 0.5203\n",
            "Epoch 144/400\n",
            "3/3 [==============================] - 0s 18ms/step - loss: 0.5382 - val_loss: 0.5199\n",
            "Epoch 145/400\n",
            "3/3 [==============================] - 0s 19ms/step - loss: 0.5297 - val_loss: 0.5194\n",
            "Epoch 146/400\n",
            "3/3 [==============================] - 0s 19ms/step - loss: 0.5318 - val_loss: 0.5190\n",
            "Epoch 147/400\n",
            "3/3 [==============================] - 0s 18ms/step - loss: 0.5308 - val_loss: 0.5185\n",
            "Epoch 148/400\n",
            "3/3 [==============================] - 0s 17ms/step - loss: 0.5294 - val_loss: 0.5181\n",
            "Epoch 149/400\n",
            "3/3 [==============================] - 0s 20ms/step - loss: 0.5256 - val_loss: 0.5177\n",
            "Epoch 150/400\n",
            "3/3 [==============================] - 0s 18ms/step - loss: 0.5359 - val_loss: 0.5173\n",
            "Epoch 151/400\n",
            "3/3 [==============================] - 0s 20ms/step - loss: 0.5252 - val_loss: 0.5169\n",
            "Epoch 152/400\n",
            "3/3 [==============================] - 0s 18ms/step - loss: 0.5195 - val_loss: 0.5165\n",
            "Epoch 153/400\n",
            "3/3 [==============================] - 0s 18ms/step - loss: 0.5332 - val_loss: 0.5162\n",
            "Epoch 154/400\n",
            "3/3 [==============================] - 0s 19ms/step - loss: 0.5259 - val_loss: 0.5158\n",
            "Epoch 155/400\n",
            "3/3 [==============================] - 0s 19ms/step - loss: 0.5247 - val_loss: 0.5154\n",
            "Epoch 156/400\n",
            "3/3 [==============================] - 0s 23ms/step - loss: 0.5246 - val_loss: 0.5151\n",
            "Epoch 157/400\n",
            "3/3 [==============================] - 0s 19ms/step - loss: 0.5289 - val_loss: 0.5147\n",
            "Epoch 158/400\n",
            "3/3 [==============================] - 0s 19ms/step - loss: 0.5243 - val_loss: 0.5144\n",
            "Epoch 159/400\n",
            "3/3 [==============================] - 0s 18ms/step - loss: 0.5251 - val_loss: 0.5140\n",
            "Epoch 160/400\n",
            "3/3 [==============================] - 0s 18ms/step - loss: 0.5323 - val_loss: 0.5136\n",
            "Epoch 161/400\n",
            "3/3 [==============================] - 0s 21ms/step - loss: 0.5228 - val_loss: 0.5133\n",
            "Epoch 162/400\n",
            "3/3 [==============================] - 0s 19ms/step - loss: 0.5209 - val_loss: 0.5129\n",
            "Epoch 163/400\n",
            "3/3 [==============================] - 0s 19ms/step - loss: 0.5252 - val_loss: 0.5126\n",
            "Epoch 164/400\n",
            "3/3 [==============================] - 0s 20ms/step - loss: 0.5231 - val_loss: 0.5122\n",
            "Epoch 165/400\n",
            "3/3 [==============================] - 0s 23ms/step - loss: 0.5255 - val_loss: 0.5119\n",
            "Epoch 166/400\n",
            "3/3 [==============================] - 0s 19ms/step - loss: 0.5303 - val_loss: 0.5115\n",
            "Epoch 167/400\n",
            "3/3 [==============================] - 0s 19ms/step - loss: 0.5231 - val_loss: 0.5112\n",
            "Epoch 168/400\n",
            "3/3 [==============================] - 0s 18ms/step - loss: 0.5161 - val_loss: 0.5109\n",
            "Epoch 169/400\n",
            "3/3 [==============================] - 0s 21ms/step - loss: 0.5202 - val_loss: 0.5105\n",
            "Epoch 170/400\n",
            "3/3 [==============================] - 0s 18ms/step - loss: 0.5144 - val_loss: 0.5102\n",
            "Epoch 171/400\n",
            "3/3 [==============================] - 0s 20ms/step - loss: 0.5174 - val_loss: 0.5098\n",
            "Epoch 172/400\n",
            "3/3 [==============================] - 0s 24ms/step - loss: 0.5204 - val_loss: 0.5095\n",
            "Epoch 173/400\n",
            "3/3 [==============================] - 0s 18ms/step - loss: 0.5205 - val_loss: 0.5092\n",
            "Epoch 174/400\n",
            "3/3 [==============================] - 0s 20ms/step - loss: 0.5161 - val_loss: 0.5088\n",
            "Epoch 175/400\n",
            "3/3 [==============================] - 0s 17ms/step - loss: 0.5295 - val_loss: 0.5085\n",
            "Epoch 176/400\n",
            "3/3 [==============================] - 0s 21ms/step - loss: 0.5204 - val_loss: 0.5081\n",
            "Epoch 177/400\n",
            "3/3 [==============================] - 0s 18ms/step - loss: 0.5155 - val_loss: 0.5078\n",
            "Epoch 178/400\n",
            "3/3 [==============================] - 0s 19ms/step - loss: 0.5258 - val_loss: 0.5075\n",
            "Epoch 179/400\n",
            "3/3 [==============================] - 0s 18ms/step - loss: 0.5090 - val_loss: 0.5072\n",
            "Epoch 180/400\n",
            "3/3 [==============================] - 0s 18ms/step - loss: 0.5121 - val_loss: 0.5069\n",
            "Epoch 181/400\n",
            "3/3 [==============================] - 0s 19ms/step - loss: 0.5060 - val_loss: 0.5066\n",
            "Epoch 182/400\n",
            "3/3 [==============================] - 0s 18ms/step - loss: 0.5126 - val_loss: 0.5063\n",
            "Epoch 183/400\n",
            "3/3 [==============================] - 0s 18ms/step - loss: 0.5178 - val_loss: 0.5060\n",
            "Epoch 184/400\n",
            "3/3 [==============================] - 0s 18ms/step - loss: 0.5115 - val_loss: 0.5057\n",
            "Epoch 185/400\n",
            "3/3 [==============================] - 0s 18ms/step - loss: 0.5135 - val_loss: 0.5054\n",
            "Epoch 186/400\n",
            "3/3 [==============================] - 0s 19ms/step - loss: 0.5095 - val_loss: 0.5051\n",
            "Epoch 187/400\n",
            "3/3 [==============================] - 0s 18ms/step - loss: 0.5140 - val_loss: 0.5048\n",
            "Epoch 188/400\n",
            "3/3 [==============================] - 0s 19ms/step - loss: 0.5026 - val_loss: 0.5045\n",
            "Epoch 189/400\n",
            "3/3 [==============================] - 0s 19ms/step - loss: 0.5103 - val_loss: 0.5042\n",
            "Epoch 190/400\n",
            "3/3 [==============================] - 0s 18ms/step - loss: 0.5030 - val_loss: 0.5039\n",
            "Epoch 191/400\n",
            "3/3 [==============================] - 0s 18ms/step - loss: 0.5162 - val_loss: 0.5037\n",
            "Epoch 192/400\n",
            "3/3 [==============================] - 0s 21ms/step - loss: 0.5063 - val_loss: 0.5034\n",
            "Epoch 193/400\n",
            "3/3 [==============================] - 0s 17ms/step - loss: 0.5031 - val_loss: 0.5031\n",
            "Epoch 194/400\n",
            "3/3 [==============================] - 0s 21ms/step - loss: 0.5067 - val_loss: 0.5029\n",
            "Epoch 195/400\n",
            "3/3 [==============================] - 0s 23ms/step - loss: 0.5062 - val_loss: 0.5026\n",
            "Epoch 196/400\n",
            "3/3 [==============================] - 0s 17ms/step - loss: 0.5082 - val_loss: 0.5023\n",
            "Epoch 197/400\n",
            "3/3 [==============================] - 0s 18ms/step - loss: 0.5110 - val_loss: 0.5021\n",
            "Epoch 198/400\n",
            "3/3 [==============================] - 0s 20ms/step - loss: 0.5025 - val_loss: 0.5018\n",
            "Epoch 199/400\n",
            "3/3 [==============================] - 0s 18ms/step - loss: 0.5021 - val_loss: 0.5016\n",
            "Epoch 200/400\n",
            "3/3 [==============================] - 0s 21ms/step - loss: 0.5103 - val_loss: 0.5013\n",
            "Epoch 201/400\n",
            "3/3 [==============================] - 0s 19ms/step - loss: 0.5024 - val_loss: 0.5011\n",
            "Epoch 202/400\n",
            "3/3 [==============================] - 0s 20ms/step - loss: 0.5027 - val_loss: 0.5008\n",
            "Epoch 203/400\n",
            "3/3 [==============================] - 0s 18ms/step - loss: 0.5027 - val_loss: 0.5006\n",
            "Epoch 204/400\n",
            "3/3 [==============================] - 0s 18ms/step - loss: 0.5041 - val_loss: 0.5003\n",
            "Epoch 205/400\n",
            "3/3 [==============================] - 0s 18ms/step - loss: 0.4965 - val_loss: 0.5001\n",
            "Epoch 206/400\n",
            "3/3 [==============================] - 0s 21ms/step - loss: 0.4998 - val_loss: 0.4998\n",
            "Epoch 207/400\n",
            "3/3 [==============================] - 0s 20ms/step - loss: 0.4998 - val_loss: 0.4996\n",
            "Epoch 208/400\n",
            "3/3 [==============================] - 0s 18ms/step - loss: 0.4995 - val_loss: 0.4994\n",
            "Epoch 209/400\n",
            "3/3 [==============================] - 0s 19ms/step - loss: 0.4945 - val_loss: 0.4992\n",
            "Epoch 210/400\n",
            "3/3 [==============================] - 0s 18ms/step - loss: 0.4921 - val_loss: 0.4989\n",
            "Epoch 211/400\n",
            "3/3 [==============================] - 0s 20ms/step - loss: 0.5071 - val_loss: 0.4987\n",
            "Epoch 212/400\n",
            "3/3 [==============================] - 0s 19ms/step - loss: 0.4952 - val_loss: 0.4985\n",
            "Epoch 213/400\n",
            "3/3 [==============================] - 0s 18ms/step - loss: 0.5000 - val_loss: 0.4983\n",
            "Epoch 214/400\n",
            "3/3 [==============================] - 0s 20ms/step - loss: 0.4921 - val_loss: 0.4981\n",
            "Epoch 215/400\n",
            "3/3 [==============================] - 0s 21ms/step - loss: 0.5035 - val_loss: 0.4978\n",
            "Epoch 216/400\n",
            "3/3 [==============================] - 0s 22ms/step - loss: 0.4932 - val_loss: 0.4976\n",
            "Epoch 217/400\n",
            "3/3 [==============================] - 0s 18ms/step - loss: 0.5012 - val_loss: 0.4974\n",
            "Epoch 218/400\n",
            "3/3 [==============================] - 0s 19ms/step - loss: 0.4902 - val_loss: 0.4972\n",
            "Epoch 219/400\n",
            "3/3 [==============================] - 0s 19ms/step - loss: 0.4983 - val_loss: 0.4969\n",
            "Epoch 220/400\n",
            "3/3 [==============================] - 0s 18ms/step - loss: 0.4959 - val_loss: 0.4967\n",
            "Epoch 221/400\n",
            "3/3 [==============================] - 0s 18ms/step - loss: 0.4918 - val_loss: 0.4965\n",
            "Epoch 222/400\n",
            "3/3 [==============================] - 0s 19ms/step - loss: 0.4967 - val_loss: 0.4963\n",
            "Epoch 223/400\n",
            "3/3 [==============================] - 0s 19ms/step - loss: 0.4945 - val_loss: 0.4961\n",
            "Epoch 224/400\n",
            "3/3 [==============================] - 0s 19ms/step - loss: 0.4954 - val_loss: 0.4959\n",
            "Epoch 225/400\n",
            "3/3 [==============================] - 0s 20ms/step - loss: 0.4908 - val_loss: 0.4957\n",
            "Epoch 226/400\n",
            "3/3 [==============================] - 0s 19ms/step - loss: 0.4983 - val_loss: 0.4955\n",
            "Epoch 227/400\n",
            "3/3 [==============================] - 0s 18ms/step - loss: 0.4957 - val_loss: 0.4953\n",
            "Epoch 228/400\n",
            "3/3 [==============================] - 0s 22ms/step - loss: 0.4911 - val_loss: 0.4951\n",
            "Epoch 229/400\n",
            "3/3 [==============================] - 0s 19ms/step - loss: 0.4905 - val_loss: 0.4949\n",
            "Epoch 230/400\n",
            "3/3 [==============================] - 0s 20ms/step - loss: 0.4968 - val_loss: 0.4947\n",
            "Epoch 231/400\n",
            "3/3 [==============================] - 0s 18ms/step - loss: 0.4925 - val_loss: 0.4945\n",
            "Epoch 232/400\n",
            "3/3 [==============================] - 0s 19ms/step - loss: 0.4975 - val_loss: 0.4944\n",
            "Epoch 233/400\n",
            "3/3 [==============================] - 0s 19ms/step - loss: 0.4858 - val_loss: 0.4942\n",
            "Epoch 234/400\n",
            "3/3 [==============================] - 0s 18ms/step - loss: 0.4942 - val_loss: 0.4940\n",
            "Epoch 235/400\n",
            "3/3 [==============================] - 0s 19ms/step - loss: 0.4869 - val_loss: 0.4938\n",
            "Epoch 236/400\n",
            "3/3 [==============================] - 0s 21ms/step - loss: 0.4888 - val_loss: 0.4936\n",
            "Epoch 237/400\n",
            "3/3 [==============================] - 0s 19ms/step - loss: 0.4831 - val_loss: 0.4933\n",
            "Epoch 238/400\n",
            "3/3 [==============================] - 0s 18ms/step - loss: 0.4835 - val_loss: 0.4931\n",
            "Epoch 239/400\n",
            "3/3 [==============================] - 0s 19ms/step - loss: 0.4833 - val_loss: 0.4929\n",
            "Epoch 240/400\n",
            "3/3 [==============================] - 0s 20ms/step - loss: 0.4893 - val_loss: 0.4927\n",
            "Epoch 241/400\n",
            "3/3 [==============================] - 0s 19ms/step - loss: 0.4876 - val_loss: 0.4926\n",
            "Epoch 242/400\n",
            "3/3 [==============================] - 0s 19ms/step - loss: 0.4817 - val_loss: 0.4924\n",
            "Epoch 243/400\n",
            "3/3 [==============================] - 0s 16ms/step - loss: 0.4917 - val_loss: 0.4922\n",
            "Epoch 244/400\n",
            "3/3 [==============================] - 0s 20ms/step - loss: 0.4887 - val_loss: 0.4921\n",
            "Epoch 245/400\n",
            "3/3 [==============================] - 0s 20ms/step - loss: 0.4852 - val_loss: 0.4919\n",
            "Epoch 246/400\n",
            "3/3 [==============================] - 0s 17ms/step - loss: 0.4784 - val_loss: 0.4918\n",
            "Epoch 247/400\n",
            "3/3 [==============================] - 0s 17ms/step - loss: 0.4876 - val_loss: 0.4917\n",
            "Epoch 248/400\n",
            "3/3 [==============================] - 0s 18ms/step - loss: 0.4866 - val_loss: 0.4916\n",
            "Epoch 249/400\n",
            "3/3 [==============================] - 0s 18ms/step - loss: 0.4860 - val_loss: 0.4914\n",
            "Epoch 250/400\n",
            "3/3 [==============================] - 0s 19ms/step - loss: 0.4892 - val_loss: 0.4913\n",
            "Epoch 251/400\n",
            "3/3 [==============================] - 0s 22ms/step - loss: 0.4839 - val_loss: 0.4911\n",
            "Epoch 252/400\n",
            "3/3 [==============================] - 0s 19ms/step - loss: 0.4851 - val_loss: 0.4910\n",
            "Epoch 253/400\n",
            "3/3 [==============================] - 0s 18ms/step - loss: 0.4898 - val_loss: 0.4909\n",
            "Epoch 254/400\n",
            "3/3 [==============================] - 0s 19ms/step - loss: 0.4853 - val_loss: 0.4907\n",
            "Epoch 255/400\n",
            "3/3 [==============================] - 0s 17ms/step - loss: 0.4820 - val_loss: 0.4906\n",
            "Epoch 256/400\n",
            "3/3 [==============================] - 0s 17ms/step - loss: 0.4819 - val_loss: 0.4905\n",
            "Epoch 257/400\n",
            "3/3 [==============================] - 0s 19ms/step - loss: 0.4822 - val_loss: 0.4903\n",
            "Epoch 258/400\n",
            "3/3 [==============================] - 0s 19ms/step - loss: 0.4807 - val_loss: 0.4902\n",
            "Epoch 259/400\n",
            "3/3 [==============================] - 0s 18ms/step - loss: 0.4835 - val_loss: 0.4900\n",
            "Epoch 260/400\n",
            "3/3 [==============================] - 0s 18ms/step - loss: 0.4811 - val_loss: 0.4898\n",
            "Epoch 261/400\n",
            "3/3 [==============================] - 0s 23ms/step - loss: 0.4760 - val_loss: 0.4897\n",
            "Epoch 262/400\n",
            "3/3 [==============================] - 0s 22ms/step - loss: 0.4789 - val_loss: 0.4895\n",
            "Epoch 263/400\n",
            "3/3 [==============================] - 0s 28ms/step - loss: 0.4756 - val_loss: 0.4894\n",
            "Epoch 264/400\n",
            "3/3 [==============================] - 0s 21ms/step - loss: 0.4841 - val_loss: 0.4892\n",
            "Epoch 265/400\n",
            "3/3 [==============================] - 0s 21ms/step - loss: 0.4740 - val_loss: 0.4891\n",
            "Epoch 266/400\n",
            "3/3 [==============================] - 0s 19ms/step - loss: 0.4810 - val_loss: 0.4890\n",
            "Epoch 267/400\n",
            "3/3 [==============================] - 0s 21ms/step - loss: 0.4809 - val_loss: 0.4888\n",
            "Epoch 268/400\n",
            "3/3 [==============================] - 0s 22ms/step - loss: 0.4842 - val_loss: 0.4887\n",
            "Epoch 269/400\n",
            "3/3 [==============================] - 0s 22ms/step - loss: 0.4781 - val_loss: 0.4885\n",
            "Epoch 270/400\n",
            "3/3 [==============================] - 0s 20ms/step - loss: 0.4832 - val_loss: 0.4884\n",
            "Epoch 271/400\n",
            "3/3 [==============================] - 0s 18ms/step - loss: 0.4788 - val_loss: 0.4882\n",
            "Epoch 272/400\n",
            "3/3 [==============================] - 0s 20ms/step - loss: 0.4778 - val_loss: 0.4881\n",
            "Epoch 273/400\n",
            "3/3 [==============================] - 0s 21ms/step - loss: 0.4777 - val_loss: 0.4880\n",
            "Epoch 274/400\n",
            "3/3 [==============================] - 0s 19ms/step - loss: 0.4760 - val_loss: 0.4879\n",
            "Epoch 275/400\n",
            "3/3 [==============================] - 0s 20ms/step - loss: 0.4785 - val_loss: 0.4878\n",
            "Epoch 276/400\n",
            "3/3 [==============================] - 0s 19ms/step - loss: 0.4780 - val_loss: 0.4877\n",
            "Epoch 277/400\n",
            "3/3 [==============================] - 0s 20ms/step - loss: 0.4693 - val_loss: 0.4876\n",
            "Epoch 278/400\n",
            "3/3 [==============================] - 0s 20ms/step - loss: 0.4776 - val_loss: 0.4875\n",
            "Epoch 279/400\n",
            "3/3 [==============================] - 0s 20ms/step - loss: 0.4747 - val_loss: 0.4874\n",
            "Epoch 280/400\n",
            "3/3 [==============================] - 0s 20ms/step - loss: 0.4758 - val_loss: 0.4873\n",
            "Epoch 281/400\n",
            "3/3 [==============================] - 0s 23ms/step - loss: 0.4787 - val_loss: 0.4872\n",
            "Epoch 282/400\n",
            "3/3 [==============================] - 0s 19ms/step - loss: 0.4782 - val_loss: 0.4871\n",
            "Epoch 283/400\n",
            "3/3 [==============================] - 0s 21ms/step - loss: 0.4751 - val_loss: 0.4870\n",
            "Epoch 284/400\n",
            "3/3 [==============================] - 0s 20ms/step - loss: 0.4774 - val_loss: 0.4869\n",
            "Epoch 285/400\n",
            "3/3 [==============================] - 0s 18ms/step - loss: 0.4736 - val_loss: 0.4868\n",
            "Epoch 286/400\n",
            "3/3 [==============================] - 0s 20ms/step - loss: 0.4776 - val_loss: 0.4867\n",
            "Epoch 287/400\n",
            "3/3 [==============================] - 0s 19ms/step - loss: 0.4802 - val_loss: 0.4866\n",
            "Epoch 288/400\n",
            "3/3 [==============================] - 0s 20ms/step - loss: 0.4741 - val_loss: 0.4864\n",
            "Epoch 289/400\n",
            "3/3 [==============================] - 0s 20ms/step - loss: 0.4698 - val_loss: 0.4863\n",
            "Epoch 290/400\n",
            "3/3 [==============================] - 0s 21ms/step - loss: 0.4722 - val_loss: 0.4862\n",
            "Epoch 291/400\n",
            "3/3 [==============================] - 0s 19ms/step - loss: 0.4697 - val_loss: 0.4861\n",
            "Epoch 292/400\n",
            "3/3 [==============================] - 0s 21ms/step - loss: 0.4740 - val_loss: 0.4859\n",
            "Epoch 293/400\n",
            "3/3 [==============================] - 0s 19ms/step - loss: 0.4696 - val_loss: 0.4858\n",
            "Epoch 294/400\n",
            "3/3 [==============================] - 0s 19ms/step - loss: 0.4685 - val_loss: 0.4857\n",
            "Epoch 295/400\n",
            "3/3 [==============================] - 0s 19ms/step - loss: 0.4772 - val_loss: 0.4856\n",
            "Epoch 296/400\n",
            "3/3 [==============================] - 0s 19ms/step - loss: 0.4685 - val_loss: 0.4855\n",
            "Epoch 297/400\n",
            "3/3 [==============================] - 0s 21ms/step - loss: 0.4794 - val_loss: 0.4854\n",
            "Epoch 298/400\n",
            "3/3 [==============================] - 0s 21ms/step - loss: 0.4761 - val_loss: 0.4853\n",
            "Epoch 299/400\n",
            "3/3 [==============================] - 0s 21ms/step - loss: 0.4725 - val_loss: 0.4852\n",
            "Epoch 300/400\n",
            "3/3 [==============================] - 0s 21ms/step - loss: 0.4730 - val_loss: 0.4851\n",
            "Epoch 301/400\n",
            "3/3 [==============================] - 0s 21ms/step - loss: 0.4703 - val_loss: 0.4850\n",
            "Epoch 302/400\n",
            "3/3 [==============================] - 0s 19ms/step - loss: 0.4712 - val_loss: 0.4849\n",
            "Epoch 303/400\n",
            "3/3 [==============================] - 0s 20ms/step - loss: 0.4639 - val_loss: 0.4848\n",
            "Epoch 304/400\n",
            "3/3 [==============================] - 0s 21ms/step - loss: 0.4690 - val_loss: 0.4847\n",
            "Epoch 305/400\n",
            "3/3 [==============================] - 0s 19ms/step - loss: 0.4653 - val_loss: 0.4846\n",
            "Epoch 306/400\n",
            "3/3 [==============================] - 0s 20ms/step - loss: 0.4684 - val_loss: 0.4845\n",
            "Epoch 307/400\n",
            "3/3 [==============================] - 0s 21ms/step - loss: 0.4663 - val_loss: 0.4844\n",
            "Epoch 308/400\n",
            "3/3 [==============================] - 0s 24ms/step - loss: 0.4674 - val_loss: 0.4842\n",
            "Epoch 309/400\n",
            "3/3 [==============================] - 0s 19ms/step - loss: 0.4697 - val_loss: 0.4841\n",
            "Epoch 310/400\n",
            "3/3 [==============================] - 0s 19ms/step - loss: 0.4774 - val_loss: 0.4840\n",
            "Epoch 311/400\n",
            "3/3 [==============================] - 0s 19ms/step - loss: 0.4641 - val_loss: 0.4839\n",
            "Epoch 312/400\n",
            "3/3 [==============================] - 0s 21ms/step - loss: 0.4679 - val_loss: 0.4838\n",
            "Epoch 313/400\n",
            "3/3 [==============================] - 0s 20ms/step - loss: 0.4678 - val_loss: 0.4837\n",
            "Epoch 314/400\n",
            "3/3 [==============================] - 0s 20ms/step - loss: 0.4734 - val_loss: 0.4836\n",
            "Epoch 315/400\n",
            "3/3 [==============================] - 0s 19ms/step - loss: 0.4652 - val_loss: 0.4835\n",
            "Epoch 316/400\n",
            "3/3 [==============================] - 0s 21ms/step - loss: 0.4662 - val_loss: 0.4834\n",
            "Epoch 317/400\n",
            "3/3 [==============================] - 0s 20ms/step - loss: 0.4677 - val_loss: 0.4833\n",
            "Epoch 318/400\n",
            "3/3 [==============================] - 0s 20ms/step - loss: 0.4664 - val_loss: 0.4832\n",
            "Epoch 319/400\n",
            "3/3 [==============================] - 0s 21ms/step - loss: 0.4648 - val_loss: 0.4831\n",
            "Epoch 320/400\n",
            "3/3 [==============================] - 0s 21ms/step - loss: 0.4627 - val_loss: 0.4831\n",
            "Epoch 321/400\n",
            "3/3 [==============================] - 0s 19ms/step - loss: 0.4629 - val_loss: 0.4830\n",
            "Epoch 322/400\n",
            "3/3 [==============================] - 0s 17ms/step - loss: 0.4670 - val_loss: 0.4830\n",
            "Epoch 323/400\n",
            "3/3 [==============================] - 0s 22ms/step - loss: 0.4654 - val_loss: 0.4829\n",
            "Epoch 324/400\n",
            "3/3 [==============================] - 0s 20ms/step - loss: 0.4639 - val_loss: 0.4829\n",
            "Epoch 325/400\n",
            "3/3 [==============================] - 0s 23ms/step - loss: 0.4635 - val_loss: 0.4828\n",
            "Epoch 326/400\n",
            "3/3 [==============================] - 0s 24ms/step - loss: 0.4667 - val_loss: 0.4827\n",
            "Epoch 327/400\n",
            "3/3 [==============================] - 0s 20ms/step - loss: 0.4600 - val_loss: 0.4827\n",
            "Epoch 328/400\n",
            "3/3 [==============================] - 0s 22ms/step - loss: 0.4612 - val_loss: 0.4826\n",
            "Epoch 329/400\n",
            "3/3 [==============================] - 0s 27ms/step - loss: 0.4637 - val_loss: 0.4825\n",
            "Epoch 330/400\n",
            "3/3 [==============================] - 0s 21ms/step - loss: 0.4659 - val_loss: 0.4824\n",
            "Epoch 331/400\n",
            "3/3 [==============================] - 0s 20ms/step - loss: 0.4660 - val_loss: 0.4823\n",
            "Epoch 332/400\n",
            "3/3 [==============================] - 0s 19ms/step - loss: 0.4634 - val_loss: 0.4823\n",
            "Epoch 333/400\n",
            "3/3 [==============================] - 0s 23ms/step - loss: 0.4597 - val_loss: 0.4822\n",
            "Epoch 334/400\n",
            "3/3 [==============================] - 0s 20ms/step - loss: 0.4663 - val_loss: 0.4821\n",
            "Epoch 335/400\n",
            "3/3 [==============================] - 0s 19ms/step - loss: 0.4637 - val_loss: 0.4821\n",
            "Epoch 336/400\n",
            "3/3 [==============================] - 0s 22ms/step - loss: 0.4630 - val_loss: 0.4820\n",
            "Epoch 337/400\n",
            "3/3 [==============================] - 0s 19ms/step - loss: 0.4625 - val_loss: 0.4819\n",
            "Epoch 338/400\n",
            "3/3 [==============================] - 0s 21ms/step - loss: 0.4651 - val_loss: 0.4818\n",
            "Epoch 339/400\n",
            "3/3 [==============================] - 0s 20ms/step - loss: 0.4657 - val_loss: 0.4818\n",
            "Epoch 340/400\n",
            "3/3 [==============================] - 0s 18ms/step - loss: 0.4619 - val_loss: 0.4817\n",
            "Epoch 341/400\n",
            "3/3 [==============================] - 0s 21ms/step - loss: 0.4598 - val_loss: 0.4816\n",
            "Epoch 342/400\n",
            "3/3 [==============================] - 0s 22ms/step - loss: 0.4663 - val_loss: 0.4816\n",
            "Epoch 343/400\n",
            "3/3 [==============================] - 0s 19ms/step - loss: 0.4639 - val_loss: 0.4815\n",
            "Epoch 344/400\n",
            "3/3 [==============================] - 0s 21ms/step - loss: 0.4640 - val_loss: 0.4815\n",
            "Epoch 345/400\n",
            "3/3 [==============================] - 0s 20ms/step - loss: 0.4615 - val_loss: 0.4814\n",
            "Epoch 346/400\n",
            "3/3 [==============================] - 0s 20ms/step - loss: 0.4557 - val_loss: 0.4813\n",
            "Epoch 347/400\n",
            "3/3 [==============================] - 0s 18ms/step - loss: 0.4586 - val_loss: 0.4812\n",
            "Epoch 348/400\n",
            "3/3 [==============================] - 0s 20ms/step - loss: 0.4543 - val_loss: 0.4812\n",
            "Epoch 349/400\n",
            "3/3 [==============================] - 0s 19ms/step - loss: 0.4610 - val_loss: 0.4811\n",
            "Epoch 350/400\n",
            "3/3 [==============================] - 0s 21ms/step - loss: 0.4584 - val_loss: 0.4811\n",
            "Epoch 351/400\n",
            "3/3 [==============================] - 0s 20ms/step - loss: 0.4523 - val_loss: 0.4810\n",
            "Epoch 352/400\n",
            "3/3 [==============================] - 0s 20ms/step - loss: 0.4648 - val_loss: 0.4809\n",
            "Epoch 353/400\n",
            "3/3 [==============================] - 0s 20ms/step - loss: 0.4564 - val_loss: 0.4808\n",
            "Epoch 354/400\n",
            "3/3 [==============================] - 0s 19ms/step - loss: 0.4553 - val_loss: 0.4808\n",
            "Epoch 355/400\n",
            "3/3 [==============================] - 0s 17ms/step - loss: 0.4606 - val_loss: 0.4807\n",
            "Epoch 356/400\n",
            "3/3 [==============================] - 0s 20ms/step - loss: 0.4556 - val_loss: 0.4806\n",
            "Epoch 357/400\n",
            "3/3 [==============================] - 0s 20ms/step - loss: 0.4510 - val_loss: 0.4805\n",
            "Epoch 358/400\n",
            "3/3 [==============================] - 0s 18ms/step - loss: 0.4510 - val_loss: 0.4804\n",
            "Epoch 359/400\n",
            "3/3 [==============================] - 0s 22ms/step - loss: 0.4586 - val_loss: 0.4803\n",
            "Epoch 360/400\n",
            "3/3 [==============================] - 0s 22ms/step - loss: 0.4562 - val_loss: 0.4803\n",
            "Epoch 361/400\n",
            "3/3 [==============================] - 0s 20ms/step - loss: 0.4559 - val_loss: 0.4802\n",
            "Epoch 362/400\n",
            "3/3 [==============================] - 0s 20ms/step - loss: 0.4570 - val_loss: 0.4802\n",
            "Epoch 363/400\n",
            "3/3 [==============================] - 0s 21ms/step - loss: 0.4590 - val_loss: 0.4801\n",
            "Epoch 364/400\n",
            "3/3 [==============================] - 0s 18ms/step - loss: 0.4535 - val_loss: 0.4801\n",
            "Epoch 365/400\n",
            "3/3 [==============================] - 0s 19ms/step - loss: 0.4576 - val_loss: 0.4800\n",
            "Epoch 366/400\n",
            "3/3 [==============================] - 0s 22ms/step - loss: 0.4569 - val_loss: 0.4800\n",
            "Epoch 367/400\n",
            "3/3 [==============================] - 0s 19ms/step - loss: 0.4536 - val_loss: 0.4800\n",
            "Epoch 368/400\n",
            "3/3 [==============================] - 0s 19ms/step - loss: 0.4552 - val_loss: 0.4799\n",
            "Epoch 369/400\n",
            "3/3 [==============================] - 0s 17ms/step - loss: 0.4593 - val_loss: 0.4798\n",
            "Epoch 370/400\n",
            "3/3 [==============================] - 0s 19ms/step - loss: 0.4558 - val_loss: 0.4798\n",
            "Epoch 371/400\n",
            "3/3 [==============================] - 0s 19ms/step - loss: 0.4563 - val_loss: 0.4798\n",
            "Epoch 372/400\n",
            "3/3 [==============================] - 0s 19ms/step - loss: 0.4579 - val_loss: 0.4797\n",
            "Epoch 373/400\n",
            "3/3 [==============================] - 0s 27ms/step - loss: 0.4549 - val_loss: 0.4797\n",
            "Epoch 374/400\n",
            "3/3 [==============================] - 0s 21ms/step - loss: 0.4533 - val_loss: 0.4796\n",
            "Epoch 375/400\n",
            "3/3 [==============================] - 0s 20ms/step - loss: 0.4595 - val_loss: 0.4795\n",
            "Epoch 376/400\n",
            "3/3 [==============================] - 0s 25ms/step - loss: 0.4543 - val_loss: 0.4794\n",
            "Epoch 377/400\n",
            "3/3 [==============================] - 0s 20ms/step - loss: 0.4514 - val_loss: 0.4794\n",
            "Epoch 378/400\n",
            "3/3 [==============================] - 0s 19ms/step - loss: 0.4576 - val_loss: 0.4793\n",
            "Epoch 379/400\n",
            "3/3 [==============================] - 0s 22ms/step - loss: 0.4520 - val_loss: 0.4792\n",
            "Epoch 380/400\n",
            "3/3 [==============================] - 0s 18ms/step - loss: 0.4575 - val_loss: 0.4792\n",
            "Epoch 381/400\n",
            "3/3 [==============================] - 0s 20ms/step - loss: 0.4499 - val_loss: 0.4792\n",
            "Epoch 382/400\n",
            "3/3 [==============================] - 0s 21ms/step - loss: 0.4492 - val_loss: 0.4791\n",
            "Epoch 383/400\n",
            "3/3 [==============================] - 0s 20ms/step - loss: 0.4551 - val_loss: 0.4791\n",
            "Epoch 384/400\n",
            "3/3 [==============================] - 0s 22ms/step - loss: 0.4541 - val_loss: 0.4791\n",
            "Epoch 385/400\n",
            "3/3 [==============================] - 0s 19ms/step - loss: 0.4528 - val_loss: 0.4790\n",
            "Epoch 386/400\n",
            "3/3 [==============================] - 0s 19ms/step - loss: 0.4516 - val_loss: 0.4789\n",
            "Epoch 387/400\n",
            "3/3 [==============================] - 0s 21ms/step - loss: 0.4523 - val_loss: 0.4789\n",
            "Epoch 388/400\n",
            "3/3 [==============================] - 0s 23ms/step - loss: 0.4596 - val_loss: 0.4788\n",
            "Epoch 389/400\n",
            "3/3 [==============================] - 0s 24ms/step - loss: 0.4506 - val_loss: 0.4788\n",
            "Epoch 390/400\n",
            "3/3 [==============================] - 0s 24ms/step - loss: 0.4554 - val_loss: 0.4788\n",
            "Epoch 391/400\n",
            "3/3 [==============================] - 0s 20ms/step - loss: 0.4499 - val_loss: 0.4788\n",
            "Epoch 392/400\n",
            "3/3 [==============================] - 0s 20ms/step - loss: 0.4529 - val_loss: 0.4787\n",
            "Epoch 393/400\n",
            "3/3 [==============================] - 0s 25ms/step - loss: 0.4505 - val_loss: 0.4787\n",
            "Epoch 394/400\n",
            "3/3 [==============================] - 0s 18ms/step - loss: 0.4463 - val_loss: 0.4787\n",
            "Epoch 395/400\n",
            "3/3 [==============================] - 0s 20ms/step - loss: 0.4553 - val_loss: 0.4786\n",
            "Epoch 396/400\n",
            "3/3 [==============================] - 0s 20ms/step - loss: 0.4544 - val_loss: 0.4786\n",
            "Epoch 397/400\n",
            "3/3 [==============================] - 0s 18ms/step - loss: 0.4501 - val_loss: 0.4786\n",
            "Epoch 398/400\n",
            "3/3 [==============================] - 0s 20ms/step - loss: 0.4539 - val_loss: 0.4786\n",
            "Epoch 399/400\n",
            "3/3 [==============================] - 0s 20ms/step - loss: 0.4532 - val_loss: 0.4786\n",
            "Epoch 400/400\n",
            "3/3 [==============================] - 0s 19ms/step - loss: 0.4537 - val_loss: 0.4785\n"
          ]
        }
      ]
    },
    {
      "cell_type": "code",
      "metadata": {
        "colab": {
          "base_uri": "https://localhost:8080/",
          "height": 282
        },
        "id": "jRkLnlLP8GQv",
        "outputId": "e596f0b6-8217-4411-f941-0e77d30e61a8"
      },
      "source": [
        "plt.plot(hist.history['val_loss'])"
      ],
      "execution_count": 28,
      "outputs": [
        {
          "output_type": "execute_result",
          "data": {
            "text/plain": [
              "[<matplotlib.lines.Line2D at 0x7fd40013fb50>]"
            ]
          },
          "metadata": {},
          "execution_count": 28
        },
        {
          "output_type": "display_data",
          "data": {
            "image/png": "[encoded data removed]",
            "text/plain": [
              "<Figure size 432x288 with 1 Axes>"
            ]
          },
          "metadata": {
            "needs_background": "light"
          }
        }
      ]
    },
    {
      "cell_type": "code",
      "metadata": {
        "id": "zHLCRiDrVA-m"
      },
      "source": [
        "model.save('/content/drive/MyDrive/Colab Notebooks/Multitask/dr_9479.h5')"
      ],
      "execution_count": 29,
      "outputs": []
    },
    {
      "cell_type": "markdown",
      "metadata": {
        "id": "Sgo86Sw18GQw"
      },
      "source": [
        "**Evaluate the model with FON test partition**"
      ]
    },
    {
      "cell_type": "code",
      "metadata": {
        "id": "7-dcglKAbMej"
      },
      "source": [
        "model.load_weights('/content/drive/MyDrive/Colab Notebooks/Multitask/dr_9479.h5')"
      ],
      "execution_count": null,
      "outputs": []
    },
    {
      "cell_type": "code",
      "metadata": {
        "id": "jrf90H9g8GQw"
      },
      "source": [
        "y_pred=model.predict(X_test)\n",
        "#y_pred_round=np.round(model.predict(X_test))"
      ],
      "execution_count": 30,
      "outputs": []
    },
    {
      "cell_type": "code",
      "metadata": {
        "id": "l1PD42RP8GQw"
      },
      "source": [
        "from sklearn.metrics import roc_auc_score, roc_curve, auc, confusion_matrix"
      ],
      "execution_count": 31,
      "outputs": []
    },
    {
      "cell_type": "markdown",
      "metadata": {
        "id": "KKxi8LhS8GQx"
      },
      "source": [
        "**Aneurisms**"
      ]
    },
    {
      "cell_type": "code",
      "metadata": {
        "id": "Q8BsEuaIc1Bw"
      },
      "source": [
        "a=np.vstack((y_pred[:,0], y_test[:,0]))"
      ],
      "execution_count": 35,
      "outputs": []
    },
    {
      "cell_type": "code",
      "metadata": {
        "colab": {
          "base_uri": "https://localhost:8080/",
          "height": 292
        },
        "id": "BPZkUTAA8GQx",
        "outputId": "3313f687-e2e0-4223-9586-2ced34b608a3"
      },
      "source": [
        "fpr, tpr, threshold=roc_curve(y_test[:,0], y_pred[:,0])\n",
        "auc=roc_auc_score(y_test[:,0],y_pred[:,0])\n",
        "#plt.title('Receiver Operating Characteristic', fontsize = 22.0)\n",
        "plt.plot(fpr, tpr, 'b', label = 'AUC = %0.4f' % auc)\n",
        "plt.legend(loc='lower right')\n",
        "plt.plot([0, 1], [0, 1],'r--')\n",
        "plt.xlim([0, 1])\n",
        "plt.ylim([0, 1])\n",
        "plt.ylabel('True Positive Rate', fontsize = 20.0)\n",
        "plt.xlabel('False Positive Rate', fontsize = 20.0)\n",
        "plt.show()"
      ],
      "execution_count": 41,
      "outputs": [
        {
          "output_type": "display_data",
          "data": {
            "image/png": "[encoded data removed]",
            "text/plain": [
              "<Figure size 432x288 with 1 Axes>"
            ]
          },
          "metadata": {
            "needs_background": "light"
          }
        }
      ]
    },
    {
      "cell_type": "markdown",
      "metadata": {
        "id": "efzX5Aj08GQy"
      },
      "source": [
        "**Hemorrhage**"
      ]
    },
    {
      "cell_type": "code",
      "metadata": {
        "colab": {
          "base_uri": "https://localhost:8080/",
          "height": 292
        },
        "id": "NPiFetw6hcCF",
        "outputId": "5871db65-8438-4499-ff68-c4c0b313e0ee"
      },
      "source": [
        "fpr, tpr, threshold=roc_curve(y_test[:,1], y_pred[:,1])\n",
        "auc=roc_auc_score(y_test[:,1],y_pred[:,1])\n",
        "#plt.title('Receiver Operating Characteristic', fontsize = 22.0)\n",
        "plt.plot(fpr, tpr, 'b', label = 'AUC = %0.4f' % auc)\n",
        "plt.legend(loc='lower right')\n",
        "plt.plot([0, 1], [0, 1],'r--')\n",
        "plt.xlim([0, 1])\n",
        "plt.ylim([0, 1])\n",
        "plt.ylabel('True Positive Rate', fontsize = 20.0)\n",
        "plt.xlabel('False Positive Rate', fontsize = 20.0)\n",
        "plt.show()\n"
      ],
      "execution_count": 42,
      "outputs": [
        {
          "output_type": "display_data",
          "data": {
            "image/png": "[encoded data removed]",
            "text/plain": [
              "<Figure size 432x288 with 1 Axes>"
            ]
          },
          "metadata": {
            "needs_background": "light"
          }
        }
      ]
    },
    {
      "cell_type": "markdown",
      "metadata": {
        "id": "5QauncCy8GQy"
      },
      "source": [
        "**CWS**"
      ]
    },
    {
      "cell_type": "code",
      "metadata": {
        "colab": {
          "base_uri": "https://localhost:8080/",
          "height": 292
        },
        "id": "K_2rkc1whzHL",
        "outputId": "211e3a5c-f6fe-49c2-9ecd-7e819f86aef3"
      },
      "source": [
        "fpr, tpr, threshold=roc_curve(y_test[:,2], y_pred[:,2])\n",
        "auc=roc_auc_score(y_test[:,2],y_pred[:,2])\n",
        "#plt.title('Receiver Operating Characteristic', fontsize = 22.0)\n",
        "plt.plot(fpr, tpr, 'b', label = 'AUC = %0.4f' % auc)\n",
        "plt.legend(loc='lower right')\n",
        "plt.plot([0, 1], [0, 1],'r--')\n",
        "plt.xlim([0, 1])\n",
        "plt.ylim([0, 1])\n",
        "plt.ylabel('True Positive Rate', fontsize = 20.0)\n",
        "plt.xlabel('False Positive Rate', fontsize = 20.0)\n",
        "plt.show()\n",
        "\n"
      ],
      "execution_count": 43,
      "outputs": [
        {
          "output_type": "display_data",
          "data": {
            "image/png": "[encoded data removed]",
            "text/plain": [
              "<Figure size 432x288 with 1 Axes>"
            ]
          },
          "metadata": {
            "needs_background": "light"
          }
        }
      ]
    },
    {
      "cell_type": "markdown",
      "metadata": {
        "id": "4RNtnr9z8GQz"
      },
      "source": [
        "**Venous beading**"
      ]
    },
    {
      "cell_type": "code",
      "metadata": {
        "colab": {
          "base_uri": "https://localhost:8080/",
          "height": 292
        },
        "id": "7yGAyzEeiU3m",
        "outputId": "7c8cf9a0-be68-45fb-ee88-3fb7d691be73"
      },
      "source": [
        "fpr, tpr, threshold=roc_curve(y_test[:,3], y_pred[:,3])\n",
        "auc=roc_auc_score(y_test[:,3],y_pred[:,3])\n",
        "#plt.title('Receiver Operating Characteristic', fontsize = 22.0)\n",
        "plt.plot(fpr, tpr, 'b', label = 'AUC = %0.4f' % auc)\n",
        "plt.legend(loc='lower right')\n",
        "plt.plot([0, 1], [0, 1],'r--')\n",
        "plt.xlim([0, 1])\n",
        "plt.ylim([0, 1])\n",
        "plt.ylabel('True Positive Rate', fontsize = 20.0)\n",
        "plt.xlabel('False Positive Rate', fontsize = 20.0)\n",
        "plt.show()\n",
        "\n"
      ],
      "execution_count": 44,
      "outputs": [
        {
          "output_type": "display_data",
          "data": {
            "image/png": "[encoded data removed]",
            "text/plain": [
              "<Figure size 432x288 with 1 Axes>"
            ]
          },
          "metadata": {
            "needs_background": "light"
          }
        }
      ]
    },
    {
      "cell_type": "markdown",
      "metadata": {
        "id": "zML3_Wtn8GQ0"
      },
      "source": [
        "**Neovascularization**"
      ]
    },
    {
      "cell_type": "code",
      "metadata": {
        "colab": {
          "base_uri": "https://localhost:8080/",
          "height": 292
        },
        "id": "6KnWSRnBjGUC",
        "outputId": "1a9afeab-258c-40ea-b1aa-db96c325efb4"
      },
      "source": [
        "fpr, tpr, threshold=roc_curve(y_test[:,4], y_pred[:,4])\n",
        "auc=roc_auc_score(y_test[:,4],y_pred[:,4])\n",
        "#plt.title('Receiver Operating Characteristic', fontsize = 22.0)\n",
        "plt.plot(fpr, tpr, 'b', label = 'AUC = %0.4f' % auc)\n",
        "plt.legend(loc='lower right')\n",
        "plt.plot([0, 1], [0, 1],'r--')\n",
        "plt.xlim([0, 1])\n",
        "plt.ylim([0, 1])\n",
        "plt.ylabel('True Positive Rate', fontsize = 20.0)\n",
        "plt.xlabel('False Positive Rate', fontsize = 20.0)\n",
        "plt.show()\n"
      ],
      "execution_count": 45,
      "outputs": [
        {
          "output_type": "display_data",
          "data": {
            "image/png": "[encoded data removed]",
            "text/plain": [
              "<Figure size 432x288 with 1 Axes>"
            ]
          },
          "metadata": {
            "needs_background": "light"
          }
        }
      ]
    },
    {
      "cell_type": "markdown",
      "metadata": {
        "id": "Lid9jDY38GQ1"
      },
      "source": [
        "**Retinopathy**"
      ]
    },
    {
      "cell_type": "code",
      "metadata": {
        "colab": {
          "base_uri": "https://localhost:8080/",
          "height": 292
        },
        "id": "4dK-vFHluGm_",
        "outputId": "6c7bfbcf-0b5b-4e6d-8ea6-0d5cc6abdfea"
      },
      "source": [
        "fpr, tpr, threshold=roc_curve(y_test[:,5], y_pred[:,5])\n",
        "auc=roc_auc_score(y_test[:,5],y_pred[:,5])\n",
        "#plt.title('Receiver Operating Characteristic', fontsize = 22.0)\n",
        "plt.plot(fpr, tpr, 'b', label = 'AUC = %0.4f' % auc)\n",
        "plt.legend(loc='lower right')\n",
        "plt.plot([0, 1], [0, 1],'r--')\n",
        "plt.xlim([0, 1])\n",
        "plt.ylim([0, 1])\n",
        "plt.ylabel('True Positive Rate', fontsize = 20.0)\n",
        "plt.xlabel('False Positive Rate', fontsize = 20.0)\n",
        "plt.show()"
      ],
      "execution_count": 46,
      "outputs": [
        {
          "output_type": "display_data",
          "data": {
            "image/png": "[encoded data removed]",
            "text/plain": [
              "<Figure size 432x288 with 1 Axes>"
            ]
          },
          "metadata": {
            "needs_background": "light"
          }
        }
      ]
    }
  ]
}