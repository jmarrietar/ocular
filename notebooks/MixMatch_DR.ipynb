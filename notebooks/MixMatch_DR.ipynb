{
  "nbformat": 4,
  "nbformat_minor": 0,
  "metadata": {
    "accelerator": "GPU",
    "colab": {
      "name": "MixMatch-DR.ipynb",
      "provenance": [],
      "collapsed_sections": [],
      "machine_shape": "hm",
      "include_colab_link": true
    },
    "kernelspec": {
      "display_name": "Python 3",
      "name": "python3"
    },
    "widgets": {
      "application/vnd.jupyter.widget-state+json": {
        "ce04d5f175b44165bb1fce69b20488ee": {
          "model_module": "@jupyter-widgets/controls",
          "model_name": "HBoxModel",
          "state": {
            "_view_name": "HBoxView",
            "_dom_classes": [],
            "_model_name": "HBoxModel",
            "_view_module": "@jupyter-widgets/controls",
            "_model_module_version": "1.5.0",
            "_view_count": null,
            "_view_module_version": "1.5.0",
            "box_style": "",
            "layout": "IPY_MODEL_fc499dbba38942bd8419ba9e7b704009",
            "_model_module": "@jupyter-widgets/controls",
            "children": [
              "IPY_MODEL_00d99922bd0a4f11bef797385d933676",
              "IPY_MODEL_3ddf287dd3a746bc993a9b111fe2b98c"
            ]
          }
        },
        "fc499dbba38942bd8419ba9e7b704009": {
          "model_module": "@jupyter-widgets/base",
          "model_name": "LayoutModel",
          "state": {
            "_view_name": "LayoutView",
            "grid_template_rows": null,
            "right": null,
            "justify_content": null,
            "_view_module": "@jupyter-widgets/base",
            "overflow": null,
            "_model_module_version": "1.2.0",
            "_view_count": null,
            "flex_flow": null,
            "width": null,
            "min_width": null,
            "border": null,
            "align_items": null,
            "bottom": null,
            "_model_module": "@jupyter-widgets/base",
            "top": null,
            "grid_column": null,
            "overflow_y": null,
            "overflow_x": null,
            "grid_auto_flow": null,
            "grid_area": null,
            "grid_template_columns": null,
            "flex": null,
            "_model_name": "LayoutModel",
            "justify_items": null,
            "grid_row": null,
            "max_height": null,
            "align_content": null,
            "visibility": null,
            "align_self": null,
            "height": null,
            "min_height": null,
            "padding": null,
            "grid_auto_rows": null,
            "grid_gap": null,
            "max_width": null,
            "order": null,
            "_view_module_version": "1.2.0",
            "grid_template_areas": null,
            "object_position": null,
            "object_fit": null,
            "grid_auto_columns": null,
            "margin": null,
            "display": null,
            "left": null
          }
        },
        "00d99922bd0a4f11bef797385d933676": {
          "model_module": "@jupyter-widgets/controls",
          "model_name": "FloatProgressModel",
          "state": {
            "_view_name": "ProgressView",
            "style": "IPY_MODEL_1f3d6e5ada364ea98d7cca00f6303287",
            "_dom_classes": [],
            "description": "100%",
            "_model_name": "FloatProgressModel",
            "bar_style": "success",
            "max": 57365526,
            "_view_module": "@jupyter-widgets/controls",
            "_model_module_version": "1.5.0",
            "value": 57365526,
            "_view_count": null,
            "_view_module_version": "1.5.0",
            "orientation": "horizontal",
            "min": 0,
            "description_tooltip": null,
            "_model_module": "@jupyter-widgets/controls",
            "layout": "IPY_MODEL_ad82252d8ab6456787fe023d248c2292"
          }
        },
        "3ddf287dd3a746bc993a9b111fe2b98c": {
          "model_module": "@jupyter-widgets/controls",
          "model_name": "HTMLModel",
          "state": {
            "_view_name": "HTMLView",
            "style": "IPY_MODEL_46c887cc6140447cb2bbeefb16b8bff0",
            "_dom_classes": [],
            "description": "",
            "_model_name": "HTMLModel",
            "placeholder": "​",
            "_view_module": "@jupyter-widgets/controls",
            "_model_module_version": "1.5.0",
            "value": " 54.7M/54.7M [00:06&lt;00:00, 8.41MB/s]",
            "_view_count": null,
            "_view_module_version": "1.5.0",
            "description_tooltip": null,
            "_model_module": "@jupyter-widgets/controls",
            "layout": "IPY_MODEL_e28dd46a296e42cbb6ca135df4ca3cb3"
          }
        },
        "1f3d6e5ada364ea98d7cca00f6303287": {
          "model_module": "@jupyter-widgets/controls",
          "model_name": "ProgressStyleModel",
          "state": {
            "_view_name": "StyleView",
            "_model_name": "ProgressStyleModel",
            "description_width": "initial",
            "_view_module": "@jupyter-widgets/base",
            "_model_module_version": "1.5.0",
            "_view_count": null,
            "_view_module_version": "1.2.0",
            "bar_color": null,
            "_model_module": "@jupyter-widgets/controls"
          }
        },
        "ad82252d8ab6456787fe023d248c2292": {
          "model_module": "@jupyter-widgets/base",
          "model_name": "LayoutModel",
          "state": {
            "_view_name": "LayoutView",
            "grid_template_rows": null,
            "right": null,
            "justify_content": null,
            "_view_module": "@jupyter-widgets/base",
            "overflow": null,
            "_model_module_version": "1.2.0",
            "_view_count": null,
            "flex_flow": null,
            "width": null,
            "min_width": null,
            "border": null,
            "align_items": null,
            "bottom": null,
            "_model_module": "@jupyter-widgets/base",
            "top": null,
            "grid_column": null,
            "overflow_y": null,
            "overflow_x": null,
            "grid_auto_flow": null,
            "grid_area": null,
            "grid_template_columns": null,
            "flex": null,
            "_model_name": "LayoutModel",
            "justify_items": null,
            "grid_row": null,
            "max_height": null,
            "align_content": null,
            "visibility": null,
            "align_self": null,
            "height": null,
            "min_height": null,
            "padding": null,
            "grid_auto_rows": null,
            "grid_gap": null,
            "max_width": null,
            "order": null,
            "_view_module_version": "1.2.0",
            "grid_template_areas": null,
            "object_position": null,
            "object_fit": null,
            "grid_auto_columns": null,
            "margin": null,
            "display": null,
            "left": null
          }
        },
        "46c887cc6140447cb2bbeefb16b8bff0": {
          "model_module": "@jupyter-widgets/controls",
          "model_name": "DescriptionStyleModel",
          "state": {
            "_view_name": "StyleView",
            "_model_name": "DescriptionStyleModel",
            "description_width": "",
            "_view_module": "@jupyter-widgets/base",
            "_model_module_version": "1.5.0",
            "_view_count": null,
            "_view_module_version": "1.2.0",
            "_model_module": "@jupyter-widgets/controls"
          }
        },
        "e28dd46a296e42cbb6ca135df4ca3cb3": {
          "model_module": "@jupyter-widgets/base",
          "model_name": "LayoutModel",
          "state": {
            "_view_name": "LayoutView",
            "grid_template_rows": null,
            "right": null,
            "justify_content": null,
            "_view_module": "@jupyter-widgets/base",
            "overflow": null,
            "_model_module_version": "1.2.0",
            "_view_count": null,
            "flex_flow": null,
            "width": null,
            "min_width": null,
            "border": null,
            "align_items": null,
            "bottom": null,
            "_model_module": "@jupyter-widgets/base",
            "top": null,
            "grid_column": null,
            "overflow_y": null,
            "overflow_x": null,
            "grid_auto_flow": null,
            "grid_area": null,
            "grid_template_columns": null,
            "flex": null,
            "_model_name": "LayoutModel",
            "justify_items": null,
            "grid_row": null,
            "max_height": null,
            "align_content": null,
            "visibility": null,
            "align_self": null,
            "height": null,
            "min_height": null,
            "padding": null,
            "grid_auto_rows": null,
            "grid_gap": null,
            "max_width": null,
            "order": null,
            "_view_module_version": "1.2.0",
            "grid_template_areas": null,
            "object_position": null,
            "object_fit": null,
            "grid_auto_columns": null,
            "margin": null,
            "display": null,
            "left": null
          }
        }
      }
    }
  },
  "cells": [
    {
      "cell_type": "markdown",
      "metadata": {
        "id": "view-in-github",
        "colab_type": "text"
      },
      "source": [
        "<a href=\"https://colab.research.google.com/github/jmarrietar/ocular/blob/master/notebooks/MixMatch_DR.ipynb\" target=\"_parent\"><img src=\"https://colab.research.google.com/assets/colab-badge.svg\" alt=\"Open In Colab\"/></a>"
      ]
    },
    {
      "cell_type": "code",
      "metadata": {
        "colab": {
          "base_uri": "https://localhost:8080/"
        },
        "id": "XDu69BImGHVy",
        "outputId": "9fd42993-881d-4ea3-bdca-7f9bcfaed59c"
      },
      "source": [
        "#GPU count and name\n",
        "!nvidia-smi -L"
      ],
      "execution_count": null,
      "outputs": [
        {
          "output_type": "stream",
          "text": [
            "GPU 0: Tesla V100-SXM2-16GB (UUID: GPU-9a3be293-1831-3bf7-0dc1-25b3068f33b9)\n"
          ],
          "name": "stdout"
        }
      ]
    },
    {
      "cell_type": "code",
      "metadata": {
        "colab": {
          "base_uri": "https://localhost:8080/"
        },
        "id": "ubyb_oImGK8f",
        "outputId": "2842527d-f2ef-465f-d06f-3f3b411b118a"
      },
      "source": [
        "!git clone -b development https://github.com/jmarrietar/NST_MixMatch_HAM10000.git"
      ],
      "execution_count": null,
      "outputs": [
        {
          "output_type": "stream",
          "text": [
            "Cloning into 'NST_MixMatch_HAM10000'...\n",
            "remote: Enumerating objects: 90, done.\u001b[K\n",
            "remote: Counting objects: 100% (90/90), done.\u001b[K\n",
            "remote: Compressing objects: 100% (72/72), done.\u001b[K\n",
            "remote: Total 90 (delta 27), reused 64 (delta 16), pack-reused 0\u001b[K\n",
            "Unpacking objects: 100% (90/90), done.\n"
          ],
          "name": "stdout"
        }
      ]
    },
    {
      "cell_type": "code",
      "metadata": {
        "colab": {
          "base_uri": "https://localhost:8080/"
        },
        "id": "gW7AxfnbGSmf",
        "outputId": "1304b334-a6ce-4022-9edc-31a7e1664232"
      },
      "source": [
        "!pip install progress"
      ],
      "execution_count": null,
      "outputs": [
        {
          "output_type": "stream",
          "text": [
            "Collecting progress\n",
            "  Downloading https://files.pythonhosted.org/packages/38/ef/2e887b3d2b248916fc2121889ce68af8a16aaddbe82f9ae6533c24ff0d2b/progress-1.5.tar.gz\n",
            "Building wheels for collected packages: progress\n",
            "  Building wheel for progress (setup.py) ... \u001b[?25l\u001b[?25hdone\n",
            "  Created wheel for progress: filename=progress-1.5-cp36-none-any.whl size=8075 sha256=6c8539efed56a160e7f5ea4e94dec4daf6f56cc81db6f418f26aae446e6de95d\n",
            "  Stored in directory: /root/.cache/pip/wheels/6c/c8/80/32a294e3041f006c661838c05a411c7b7ffc60ff939d14e116\n",
            "Successfully built progress\n",
            "Installing collected packages: progress\n",
            "Successfully installed progress-1.5\n"
          ],
          "name": "stdout"
        }
      ]
    },
    {
      "cell_type": "code",
      "metadata": {
        "colab": {
          "base_uri": "https://localhost:8080/"
        },
        "id": "sHcOfnMsGVBx",
        "outputId": "d07996b7-d849-46fb-e03f-2e2fb2dcb4f9"
      },
      "source": [
        "!pip install tensorboardX"
      ],
      "execution_count": null,
      "outputs": [
        {
          "output_type": "stream",
          "text": [
            "Collecting tensorboardX\n",
            "\u001b[?25l  Downloading https://files.pythonhosted.org/packages/af/0c/4f41bcd45db376e6fe5c619c01100e9b7531c55791b7244815bac6eac32c/tensorboardX-2.1-py2.py3-none-any.whl (308kB)\n",
            "\r\u001b[K     |█                               | 10kB 26.1MB/s eta 0:00:01\r\u001b[K     |██▏                             | 20kB 31.4MB/s eta 0:00:01\r\u001b[K     |███▏                            | 30kB 24.1MB/s eta 0:00:01\r\u001b[K     |████▎                           | 40kB 18.5MB/s eta 0:00:01\r\u001b[K     |█████▎                          | 51kB 15.6MB/s eta 0:00:01\r\u001b[K     |██████▍                         | 61kB 16.9MB/s eta 0:00:01\r\u001b[K     |███████▍                        | 71kB 14.0MB/s eta 0:00:01\r\u001b[K     |████████▌                       | 81kB 14.1MB/s eta 0:00:01\r\u001b[K     |█████████▌                      | 92kB 14.4MB/s eta 0:00:01\r\u001b[K     |██████████▋                     | 102kB 13.5MB/s eta 0:00:01\r\u001b[K     |███████████▊                    | 112kB 13.5MB/s eta 0:00:01\r\u001b[K     |████████████▊                   | 122kB 13.5MB/s eta 0:00:01\r\u001b[K     |█████████████▉                  | 133kB 13.5MB/s eta 0:00:01\r\u001b[K     |██████████████▉                 | 143kB 13.5MB/s eta 0:00:01\r\u001b[K     |████████████████                | 153kB 13.5MB/s eta 0:00:01\r\u001b[K     |█████████████████               | 163kB 13.5MB/s eta 0:00:01\r\u001b[K     |██████████████████              | 174kB 13.5MB/s eta 0:00:01\r\u001b[K     |███████████████████             | 184kB 13.5MB/s eta 0:00:01\r\u001b[K     |████████████████████▏           | 194kB 13.5MB/s eta 0:00:01\r\u001b[K     |█████████████████████▎          | 204kB 13.5MB/s eta 0:00:01\r\u001b[K     |██████████████████████▎         | 215kB 13.5MB/s eta 0:00:01\r\u001b[K     |███████████████████████▍        | 225kB 13.5MB/s eta 0:00:01\r\u001b[K     |████████████████████████▍       | 235kB 13.5MB/s eta 0:00:01\r\u001b[K     |█████████████████████████▌      | 245kB 13.5MB/s eta 0:00:01\r\u001b[K     |██████████████████████████▌     | 256kB 13.5MB/s eta 0:00:01\r\u001b[K     |███████████████████████████▋    | 266kB 13.5MB/s eta 0:00:01\r\u001b[K     |████████████████████████████▋   | 276kB 13.5MB/s eta 0:00:01\r\u001b[K     |█████████████████████████████▊  | 286kB 13.5MB/s eta 0:00:01\r\u001b[K     |██████████████████████████████▊ | 296kB 13.5MB/s eta 0:00:01\r\u001b[K     |███████████████████████████████▉| 307kB 13.5MB/s eta 0:00:01\r\u001b[K     |████████████████████████████████| 317kB 13.5MB/s \n",
            "\u001b[?25hRequirement already satisfied: six in /usr/local/lib/python3.6/dist-packages (from tensorboardX) (1.15.0)\n",
            "Requirement already satisfied: protobuf>=3.8.0 in /usr/local/lib/python3.6/dist-packages (from tensorboardX) (3.12.4)\n",
            "Requirement already satisfied: numpy in /usr/local/lib/python3.6/dist-packages (from tensorboardX) (1.19.5)\n",
            "Requirement already satisfied: setuptools in /usr/local/lib/python3.6/dist-packages (from protobuf>=3.8.0->tensorboardX) (53.0.0)\n",
            "Installing collected packages: tensorboardX\n",
            "Successfully installed tensorboardX-2.1\n"
          ],
          "name": "stdout"
        }
      ]
    },
    {
      "cell_type": "code",
      "metadata": {
        "colab": {
          "base_uri": "https://localhost:8080/"
        },
        "id": "59rNN3GnGXZb",
        "outputId": "9ec05ee3-2663-426e-c797-4b5e60768a7f"
      },
      "source": [
        "cd /content/NST_MixMatch_HAM10000/"
      ],
      "execution_count": null,
      "outputs": [
        {
          "output_type": "stream",
          "text": [
            "/content/NST_MixMatch_HAM10000\n"
          ],
          "name": "stdout"
        }
      ]
    },
    {
      "cell_type": "markdown",
      "metadata": {
        "id": "dMpsG8C-fw2p"
      },
      "source": [
        "### Download Data "
      ]
    },
    {
      "cell_type": "code",
      "metadata": {
        "id": "h2snuE1mfzcc"
      },
      "source": [
        "data_samples = {\n",
        "    \"sample@200\": \"https://drive.google.com/uc?id=1FfV7YyDJvNUCDP5r3-8iQfZ2-xJp_pgb\",\n",
        "    \"sample@500\": \"https://drive.google.com/uc?id=1dHwUqpmSogEdjAB9rwDUL-OKFRUcVXte\",\n",
        "    \"sample@1000\": \"https://drive.google.com/uc?id=1DPZrHrj3Bdte5Dc6NCZ33CAqMG-Oipa2\",\n",
        "    \"sample@2000\": \"https://drive.google.com/uc?id=1PB7uGd-dUnZKnKZpZl-HvE1DVcWgX50F\",\n",
        "    \"sample@3000\": \"https://drive.google.com/uc?id=1_yre5K9YYvJgSrT4xvrI8eD_htucIywA\",\n",
        "    \"sample@4000_images\": \"https://drive.google.com/uc?id=1dqVB8EozEpwWzyuU80AauoQmsiw3Gtm2\",\n",
        "    \"sample@20000\": \"https://drive.google.com/uc?id=1MTDpLzpmhSiZq2jSdmHx2UDPn9FC8gzO\",\n",
        "    \"val-voets-tf\": \"https://drive.google.com/uc?id=1VzVgMGTkBBPG2qbzLunD9HvLzH6tcyrv\",\n",
        "    \"train_voets\": \"https://drive.google.com/uc?id=1AmcFh1MOOZ6aqKm2eO7XEdgmIEqHKTZ5\",\n",
        "    \"voets_test_images\": \"https://drive.google.com/uc?id=15S_V3B_Z3BOjCT3AbO2c887FyS5B0Lyd\"\n",
        "}"
      ],
      "execution_count": null,
      "outputs": []
    },
    {
      "cell_type": "code",
      "metadata": {
        "id": "FJSeqbPYjJ2v"
      },
      "source": [
        "LABELED = 'sample@4000_images'\n",
        "URL_LABELED = data_samples[LABELED]\n",
        "UNLABELED = 'sample@20000'\n",
        "URL_UNLABELED = data_samples[UNLABELED]"
      ],
      "execution_count": null,
      "outputs": []
    },
    {
      "cell_type": "code",
      "metadata": {
        "colab": {
          "base_uri": "https://localhost:8080/"
        },
        "id": "ikxYOCwijQzM",
        "outputId": "bc23f7a8-72db-49a0-a9cc-74e486612f24"
      },
      "source": [
        "!gdown $URL_LABELED"
      ],
      "execution_count": null,
      "outputs": [
        {
          "output_type": "stream",
          "text": [
            "Downloading...\n",
            "From: https://drive.google.com/uc?id=1dqVB8EozEpwWzyuU80AauoQmsiw3Gtm2\n",
            "To: /content/NST_MixMatch_HAM10000/sample@4000_images.zip\n",
            "206MB [00:01, 110MB/s]\n"
          ],
          "name": "stdout"
        }
      ]
    },
    {
      "cell_type": "code",
      "metadata": {
        "id": "j251avf7j2XN"
      },
      "source": [
        "import zipfile\n",
        "local_zip = '{}.zip'.format(LABELED)\n",
        "zip_ref = zipfile.ZipFile(local_zip, 'r')\n",
        "zip_ref.extractall('/content/NST_MixMatch_HAM10000')\n",
        "zip_ref.close()"
      ],
      "execution_count": null,
      "outputs": []
    },
    {
      "cell_type": "code",
      "metadata": {
        "colab": {
          "base_uri": "https://localhost:8080/"
        },
        "id": "ao8olo26HUnw",
        "outputId": "c8bfc489-bf29-4ecf-e8b9-ff5601139f80"
      },
      "source": [
        "!gdown $URL_UNLABELED"
      ],
      "execution_count": null,
      "outputs": [
        {
          "output_type": "stream",
          "text": [
            "Downloading...\n",
            "From: https://drive.google.com/uc?id=1MTDpLzpmhSiZq2jSdmHx2UDPn9FC8gzO\n",
            "To: /content/NST_MixMatch_HAM10000/sample@20000.zip\n",
            "1.08GB [00:10, 106MB/s] \n"
          ],
          "name": "stdout"
        }
      ]
    },
    {
      "cell_type": "code",
      "metadata": {
        "id": "nhftBLwXHlhK"
      },
      "source": [
        "import zipfile\n",
        "local_zip = '{}.zip'.format(UNLABELED)\n",
        "zip_ref = zipfile.ZipFile(local_zip, 'r')\n",
        "zip_ref.extractall('/content/NST_MixMatch_HAM10000')\n",
        "zip_ref.close()"
      ],
      "execution_count": null,
      "outputs": []
    },
    {
      "cell_type": "code",
      "metadata": {
        "id": "Ya1CSv_UHG6p"
      },
      "source": [
        "VAL = 'voets_test_images'\n",
        "URL_VAL = data_samples[VAL]"
      ],
      "execution_count": null,
      "outputs": []
    },
    {
      "cell_type": "code",
      "metadata": {
        "colab": {
          "base_uri": "https://localhost:8080/"
        },
        "id": "LSmcZsu1HWMc",
        "outputId": "9f893128-28ff-45e0-c870-411164255a23"
      },
      "source": [
        "!gdown $URL_VAL"
      ],
      "execution_count": null,
      "outputs": [
        {
          "output_type": "stream",
          "text": [
            "Downloading...\n",
            "From: https://drive.google.com/uc?id=15S_V3B_Z3BOjCT3AbO2c887FyS5B0Lyd\n",
            "To: /content/NST_MixMatch_HAM10000/voets_test_images.zip\n",
            "475MB [00:04, 99.5MB/s]\n"
          ],
          "name": "stdout"
        }
      ]
    },
    {
      "cell_type": "code",
      "metadata": {
        "id": "hQoS5fnXHptK"
      },
      "source": [
        "import zipfile\n",
        "local_zip = '{}.zip'.format(VAL)\n",
        "zip_ref = zipfile.ZipFile(local_zip, 'r')\n",
        "zip_ref.extractall('/content/NST_MixMatch_HAM10000')\n",
        "zip_ref.close()"
      ],
      "execution_count": null,
      "outputs": []
    },
    {
      "cell_type": "code",
      "metadata": {
        "colab": {
          "base_uri": "https://localhost:8080/"
        },
        "id": "ifRNuINubW0r",
        "outputId": "0ead54b5-b6ea-4746-b3f6-210f74597978"
      },
      "source": [
        "# Mount Drive\n",
        "from google.colab import drive\n",
        "drive.mount('/content/drive')"
      ],
      "execution_count": null,
      "outputs": [
        {
          "output_type": "stream",
          "text": [
            "Mounted at /content/drive\n"
          ],
          "name": "stdout"
        }
      ]
    },
    {
      "cell_type": "code",
      "metadata": {
        "id": "S5SkhyTQbYq3"
      },
      "source": [
        "from google.colab import auth\n",
        "from googleapiclient.http import MediaFileUpload\n",
        "from googleapiclient.discovery import build\n",
        "auth.authenticate_user()"
      ],
      "execution_count": null,
      "outputs": []
    },
    {
      "cell_type": "code",
      "metadata": {
        "id": "BHwYIqKhcWoo"
      },
      "source": [
        "root_path = 'drive/My Drive/Project'"
      ],
      "execution_count": null,
      "outputs": []
    },
    {
      "cell_type": "markdown",
      "metadata": {
        "id": "_96qT71zfz42"
      },
      "source": [
        "### Code"
      ]
    },
    {
      "cell_type": "code",
      "metadata": {
        "id": "rPVjUCZ2G9dE"
      },
      "source": [
        "from __future__ import print_function, division\n",
        "import random\n",
        "import argparse\n",
        "import numpy as np\n",
        "import os\n",
        "import zipfile\n",
        "import torch\n",
        "from torch.utils.data import DataLoader\n",
        "from torchvision import models\n",
        "from datetime import datetime"
      ],
      "execution_count": null,
      "outputs": []
    },
    {
      "cell_type": "code",
      "metadata": {
        "id": "P6nD7JoUfoV4"
      },
      "source": [
        "from pytorch_src.data import *\n",
        "from pytorch_src.batch import *\n",
        "from pytorch_src.main import create_model, WeightEMA"
      ],
      "execution_count": null,
      "outputs": []
    },
    {
      "cell_type": "markdown",
      "metadata": {
        "id": "t69GR6HamAVK"
      },
      "source": [
        "#### Arguments"
      ]
    },
    {
      "cell_type": "code",
      "metadata": {
        "colab": {
          "base_uri": "https://localhost:8080/"
        },
        "id": "GlefsIvMLuLN",
        "outputId": "5c762439-d62e-4de9-ef18-f6a94b4714a5"
      },
      "source": [
        "parser = argparse.ArgumentParser()\n",
        "\n",
        "parser.add_argument('--null_space_tuning', action='store_true',\n",
        "                    help='Turn on null space training')\n",
        "parser.add_argument('--alpha', type=float, default=10,\n",
        "                    help='Determines the impact of null space tuning')\n",
        "parser.add_argument('--mixup_alpha', type=float, default=0.75,\n",
        "                    help='Determines contribution of paired image in MixUp')\n",
        "parser.add_argument('--lambda_u', type=float, default=25.0,\n",
        "                    help='Determines contribution of MixMatch Loss')\n",
        "parser.add_argument('--T', type=float, default=0.5,\n",
        "                    help='Determines sharpening temperature for entropy minimization while guessing labels for unlabeled data')\n",
        "parser.add_argument('--ema-decay', type=float, default=0.999,\n",
        "                    help='Decay for exponential moving average')\n",
        "parser.add_argument('--mixmatch', action='store_true',\n",
        "                    help='Turn on MixMatch')\n",
        "parser.add_argument('--labeled_train_file', type=str, default='train_labeled.txt',\n",
        "                    help='This file should contain the path to an image as well and an integer specifying its class (comma separated) on each line')\n",
        "parser.add_argument('--unlabeled_train_file', type=str, default='train_unlabeled.txt',\n",
        "                    help='This file should contain the path to an image as well and an integer specifying its class (comma separated) on each line')\n",
        "parser.add_argument('--val_file', type=str, default='val.txt',\n",
        "                    help='This file should contain the path to an image as well and an integer specifying its class (comma separated) on each line')\n",
        "parser.add_argument('--test_file', type=str, default='test.txt',\n",
        "                    help='This file should contain the path to an image as well and an integer specifying its class (comma separated) on each line')\n",
        "parser.add_argument('--out_dir', type=str, default='out/',\n",
        "                    help='Path to output directory')\n",
        "parser.add_argument('--mode', type=str, default='train',\n",
        "                    help='Determines whether to backpropagate or not')\n",
        "parser.add_argument('--batch_size', type=int, default=6,\n",
        "                    help='Decides size of each training batch')\n",
        "parser.add_argument('--lr', type=float, default=0.0001,\n",
        "                    help='Optimizer\\'s learning rate')\n",
        "parser.add_argument('--total_epochs', type=int, default=75,\n",
        "                    help='Maximum number of epochs for training')\n",
        "parser.add_argument('--early_stop', type=int, default=-1,\n",
        "                    help='Decide to stop early after this many epochs in which the validation loss increases (-1 means no early stopping)')\n",
        "parser.add_argument('--decay_epoch', type=int, default=-1,\n",
        "                    help='Decay the learning rate after every this many epochs (-1 means no lr decay)')\n",
        "parser.add_argument('--decay_rate', type=float, default=0.10,\n",
        "                    help='Rate at which the learning rate will be decayed')\n",
        "parser.add_argument('--continue_training', action='store_true',\n",
        "                    help='Continue training from saved model')\n",
        "parser.add_argument('--rampup', default=75, type=int, metavar='N',\n",
        "                    help='number of epochs before unlabeled terms reach full value')"
      ],
      "execution_count": null,
      "outputs": [
        {
          "output_type": "execute_result",
          "data": {
            "text/plain": [
              "_StoreAction(option_strings=['--rampup'], dest='rampup', nargs=None, const=None, default=75, type=<class 'int'>, choices=None, help='number of epochs before unlabeled terms reach full value', metavar='N')"
            ]
          },
          "metadata": {
            "tags": []
          },
          "execution_count": 20
        }
      ]
    },
    {
      "cell_type": "code",
      "metadata": {
        "id": "g44NE4kpLTtz"
      },
      "source": [
        "config = parser.parse_args(['--alpha', '10',\n",
        "                   '--mixup_alpha', '0.75',\n",
        "                   '--lambda_u', '0.1',\n",
        "                   '--T', '0.5',\n",
        "                   '--ema-decay', '0.999',\n",
        "                   '--mixmatch',\n",
        "                   '--labeled_train_file', 'train_labeled.csv',\n",
        "                   '--unlabeled_train_file', 'train_unlabeled.csv',\n",
        "                   '--val_file', 'val.csv',\n",
        "                   '--test_file', 'test.csv',\n",
        "                   '--out_dir', 'out',\n",
        "                   '--mode', 'train',\n",
        "                   '--batch_size', '6',\n",
        "                   '--lr', '1e-5',\n",
        "                   '--total_epochs', '100',\n",
        "                   '--early_stop', '50',\n",
        "                   '--decay_epoch', '-1',\n",
        "                   '--decay_rate', '1e-3',\n",
        "                   '--rampup', '75'])"
      ],
      "execution_count": null,
      "outputs": []
    },
    {
      "cell_type": "code",
      "metadata": {
        "colab": {
          "base_uri": "https://localhost:8080/"
        },
        "id": "-jHziCLoo-_X",
        "outputId": "2d01a083-ed6e-4569-e1b4-d388446880b1"
      },
      "source": [
        "print(config)\n",
        "os.makedirs(config.out_dir, exist_ok=True)"
      ],
      "execution_count": null,
      "outputs": [
        {
          "output_type": "stream",
          "text": [
            "Namespace(T=0.5, alpha=10.0, batch_size=6, continue_training=False, decay_epoch=-1, decay_rate=0.001, early_stop=50, ema_decay=0.999, labeled_train_file='train_labeled.csv', lambda_u=0.1, lr=1e-05, mixmatch=True, mixup_alpha=0.75, mode='train', null_space_tuning=False, out_dir='out', rampup=75, test_file='test.csv', total_epochs=100, unlabeled_train_file='train_unlabeled.csv', val_file='val.csv')\n"
          ],
          "name": "stdout"
        }
      ]
    },
    {
      "cell_type": "code",
      "metadata": {
        "id": "O8T11hIGoz1R"
      },
      "source": [
        "os.makedirs(config.out_dir, exist_ok=True)"
      ],
      "execution_count": null,
      "outputs": []
    },
    {
      "cell_type": "markdown",
      "metadata": {
        "id": "eKutx28lmGEQ"
      },
      "source": [
        "#### Train Model"
      ]
    },
    {
      "cell_type": "code",
      "metadata": {
        "id": "7BL_wu4NKHL7"
      },
      "source": [
        "use_cuda = torch.cuda.is_available()\n",
        "torch.manual_seed(1)\n",
        "device = torch.device(\"cuda\" if use_cuda else \"cpu\")\n",
        "kwargs = {'num_workers': 1, 'pin_memory': True} if use_cuda else {}"
      ],
      "execution_count": null,
      "outputs": []
    },
    {
      "cell_type": "code",
      "metadata": {
        "colab": {
          "base_uri": "https://localhost:8080/"
        },
        "id": "tzNcm6lRK2kA",
        "outputId": "c54b6af8-5297-442e-a64c-71d4a64e8445"
      },
      "source": [
        "train_dataset = Train_Dataset(config.labeled_train_file, config.unlabeled_train_file, config)\n",
        "val_dataset = Test_Dataset(config.val_file, config)"
      ],
      "execution_count": null,
      "outputs": [
        {
          "output_type": "stream",
          "text": [
            "Loading labeled images: 100%|██████████| 3822/3822 [00:13<00:00, 274.37it/s]\n",
            "Loading unlabeled images: 100%|██████████| 20000/20000 [01:12<00:00, 276.47it/s]\n",
            "Loading images: 100%|██████████| 8790/8790 [00:29<00:00, 294.43it/s]\n"
          ],
          "name": "stderr"
        }
      ]
    },
    {
      "cell_type": "code",
      "metadata": {
        "id": "sjWb051g6VcO"
      },
      "source": [
        "train_loader = DataLoader(train_dataset, batch_size=config.batch_size, shuffle=False, **kwargs)\n",
        "val_loader = DataLoader(val_dataset, batch_size=config.batch_size, shuffle=False, **kwargs)"
      ],
      "execution_count": null,
      "outputs": []
    },
    {
      "cell_type": "code",
      "metadata": {
        "id": "xaVDgl8bmpuX",
        "colab": {
          "base_uri": "https://localhost:8080/",
          "height": 103,
          "referenced_widgets": [
            "ce04d5f175b44165bb1fce69b20488ee",
            "fc499dbba38942bd8419ba9e7b704009",
            "00d99922bd0a4f11bef797385d933676",
            "3ddf287dd3a746bc993a9b111fe2b98c",
            "1f3d6e5ada364ea98d7cca00f6303287",
            "ad82252d8ab6456787fe023d248c2292",
            "46c887cc6140447cb2bbeefb16b8bff0",
            "e28dd46a296e42cbb6ca135df4ca3cb3"
          ]
        },
        "outputId": "56cf352f-0f18-44c8-d192-21d8f3895eaa"
      },
      "source": [
        "model = create_model(device)\n",
        "ema_model = create_model(device, ema=True)"
      ],
      "execution_count": null,
      "outputs": [
        {
          "output_type": "stream",
          "text": [
            "Downloading: \"https://download.pytorch.org/models/densenet169-b2777c0a.pth\" to /root/.cache/torch/hub/checkpoints/densenet169-b2777c0a.pth\n"
          ],
          "name": "stderr"
        },
        {
          "output_type": "display_data",
          "data": {
            "application/vnd.jupyter.widget-view+json": {
              "model_id": "ce04d5f175b44165bb1fce69b20488ee",
              "version_minor": 0,
              "version_major": 2
            },
            "text/plain": [
              "HBox(children=(FloatProgress(value=0.0, max=57365526.0), HTML(value='')))"
            ]
          },
          "metadata": {
            "tags": []
          }
        },
        {
          "output_type": "stream",
          "text": [
            "\n"
          ],
          "name": "stdout"
        }
      ]
    },
    {
      "cell_type": "code",
      "metadata": {
        "id": "yfCm-kQRmyCI"
      },
      "source": [
        "optimizer = torch.optim.Adam(model.parameters(), lr=config.lr)\n",
        "ema_optimizer= WeightEMA(model, ema_model, alpha=config.ema_decay, lr=config.lr)"
      ],
      "execution_count": null,
      "outputs": []
    },
    {
      "cell_type": "code",
      "metadata": {
        "id": "2wNoGeILnADu"
      },
      "source": [
        "train_loss_file = '{}/train_loss.txt'.format(config.out_dir)\n",
        "f = open(train_loss_file, 'w')\n",
        "f.close()\n",
        "validate_loss_file = '{}/validate_loss.txt'.format(config.out_dir)\n",
        "f = open(validate_loss_file, 'w')\n",
        "f.close()\n",
        "train_accuracy_file = '{}/train_accuracy.txt'.format(config.out_dir)\n",
        "f = open(train_accuracy_file, 'w')\n",
        "f.close()\n",
        "validate_accuracy_file = '{}/validate_accuracy.txt'.format(config.out_dir)\n",
        "f = open(validate_accuracy_file, 'w')\n",
        "f.close()"
      ],
      "execution_count": null,
      "outputs": []
    },
    {
      "cell_type": "code",
      "metadata": {
        "id": "15BDC9HpnK6E"
      },
      "source": [
        "#model_file = '{}/model'.format(config.out_dir)\n",
        "model_file = '../{}/{}/{}_{}'.format(root_path, \"model\",  \"MixMatchModel\", LABELED)"
      ],
      "execution_count": null,
      "outputs": []
    },
    {
      "cell_type": "code",
      "metadata": {
        "colab": {
          "base_uri": "https://localhost:8080/",
          "height": 35
        },
        "id": "h4eP7zX_2dmG",
        "outputId": "4263a5db-d710-424b-cb64-15f59c1633bd"
      },
      "source": [
        "model_file"
      ],
      "execution_count": null,
      "outputs": [
        {
          "output_type": "execute_result",
          "data": {
            "application/vnd.google.colaboratory.intrinsic+json": {
              "type": "string"
            },
            "text/plain": [
              "'../drive/My Drive/Project/model/MixMatchModel_sample@4000_images'"
            ]
          },
          "metadata": {
            "tags": []
          },
          "execution_count": 33
        }
      ]
    },
    {
      "cell_type": "code",
      "metadata": {
        "id": "a1iBqZ1_08Kg"
      },
      "source": [
        "# Continue previous Training \n",
        "if config.continue_training:\n",
        "    model.load_state_dict(torch.load(model_file))\n",
        "    model = model.to(device)"
      ],
      "execution_count": null,
      "outputs": []
    },
    {
      "cell_type": "code",
      "metadata": {
        "id": "drXCTXCc09gE"
      },
      "source": [
        "seq_increase = 0\n",
        "min_loss = 10000"
      ],
      "execution_count": null,
      "outputs": []
    },
    {
      "cell_type": "code",
      "metadata": {
        "colab": {
          "base_uri": "https://localhost:8080/"
        },
        "id": "wqP1RyaAJKME",
        "outputId": "74478760-07da-4cf7-9253-a04d2b21ab49"
      },
      "source": [
        "for epoch in range(1, config.total_epochs+1):\n",
        "    loss = train(model, device, train_loader, optimizer, config, ema_optimizer, epoch)\n",
        "\n",
        "    with open(train_loss_file, \"a\") as file:\n",
        "        file.write(str(loss))\n",
        "        file.write('\\n')\n",
        "\n",
        "    #loss, accuracy, confusion = test(ema_model, device, val_loader)\n",
        "    loss, accuracy, confusion = test(model, device, val_loader)\n",
        "\n",
        "    class_accuracies = '\\t\\tAccuracy by class: '\n",
        "    for i in range(len(confusion)):\n",
        "        correct = confusion[i,i]\n",
        "        total = sum(confusion[:,i])\n",
        "        class_accuracies += '{0}--{1:.2f}%   '.format(i, (correct/total)*100)\n",
        "\n",
        "    print(class_accuracies)\n",
        "\n",
        "    if epoch % 5  ==0 and (config.mixmatch or config.null_space_tuning) and epoch != config.total_epochs:\n",
        "        train_dataset.assign_class(model, device)\n",
        "        train_loader = DataLoader(train_dataset, batch_size=config.batch_size, shuffle=False, **kwargs)\n",
        "\n",
        "\n",
        "    with open(validate_loss_file, \"a\") as file:\n",
        "        file.write(str(loss))\n",
        "        file.write('\\n')\n",
        "    with open(validate_accuracy_file, \"a\") as file:\n",
        "        file.write(str(accuracy))\n",
        "        file.write('\\n')\n",
        "\n",
        "    if loss < min_loss:\n",
        "        min_loss = loss\n",
        "        with open(model_file, 'wb') as f:\n",
        "            #torch.save(ema_model.state_dict(), f)\n",
        "            torch.save(model.state_dict(), f)\n",
        "\n",
        "    elif config.early_stop != -1:\n",
        "        if loss > min_loss:\n",
        "            seq_increase += 1\n",
        "            if seq_increase == config.early_stop:\n",
        "                break\n",
        "        else:\n",
        "            seq_increase = 0\n",
        "\n",
        "    if config.decay_epoch != -1:\n",
        "        if epoch % config.decay_epoch == 0:\n",
        "            config.lr = config.lr * config.decay_rate\n",
        "            for param_group in optimizer.param_groups:\n",
        "                param_group['lr'] = config.lr"
      ],
      "execution_count": null,
      "outputs": [
        {
          "output_type": "stream",
          "text": [
            "Epoch 1\tAvg Loss: 0.6882: 100%|██████████| 167/167 [01:38<00:00,  1.70it/s]\n",
            "       \tAvg Loss: 0.6384  Accuracy: 76.11%: 100%|██████████| 1465/1465 [01:54<00:00, 12.75it/s]\n"
          ],
          "name": "stderr"
        },
        {
          "output_type": "stream",
          "text": [
            "\t\tAccuracy by class: 0--63.17%   1--89.05%   \n"
          ],
          "name": "stdout"
        },
        {
          "output_type": "stream",
          "text": [
            "Epoch 2\tAvg Loss: 0.6764: 100%|██████████| 167/167 [01:39<00:00,  1.69it/s]\n",
            "       \tAvg Loss: 0.6201  Accuracy: 78.77%: 100%|██████████| 1465/1465 [01:52<00:00, 13.02it/s]\n"
          ],
          "name": "stderr"
        },
        {
          "output_type": "stream",
          "text": [
            "\t\tAccuracy by class: 0--65.18%   1--92.36%   \n"
          ],
          "name": "stdout"
        },
        {
          "output_type": "stream",
          "text": [
            "Epoch 3\tAvg Loss: 0.6733: 100%|██████████| 167/167 [01:35<00:00,  1.75it/s]\n",
            "       \tAvg Loss: 0.7272  Accuracy: 71.22%: 100%|██████████| 1465/1465 [01:51<00:00, 13.10it/s]\n",
            "  0%|          | 0/167 [00:00<?, ?it/s]"
          ],
          "name": "stderr"
        },
        {
          "output_type": "stream",
          "text": [
            "\t\tAccuracy by class: 0--44.60%   1--97.84%   \n"
          ],
          "name": "stdout"
        },
        {
          "output_type": "stream",
          "text": [
            "Epoch 4\tAvg Loss: 0.6719: 100%|██████████| 167/167 [01:38<00:00,  1.70it/s]\n",
            "       \tAvg Loss: 0.6466  Accuracy: 77.15%: 100%|██████████| 1465/1465 [01:53<00:00, 12.86it/s]\n",
            "  0%|          | 0/167 [00:00<?, ?it/s]"
          ],
          "name": "stderr"
        },
        {
          "output_type": "stream",
          "text": [
            "\t\tAccuracy by class: 0--59.20%   1--95.10%   \n"
          ],
          "name": "stdout"
        },
        {
          "output_type": "stream",
          "text": [
            "Epoch 5\tAvg Loss: 0.6555: 100%|██████████| 167/167 [01:36<00:00,  1.73it/s]\n",
            "       \tAvg Loss: 0.6946  Accuracy: 74.59%: 100%|██████████| 1465/1465 [01:53<00:00, 12.86it/s]\n",
            "Reassigning unlabeled image labels:   0%|          | 3/20000 [00:00<14:04, 23.68it/s]"
          ],
          "name": "stderr"
        },
        {
          "output_type": "stream",
          "text": [
            "\t\tAccuracy by class: 0--51.49%   1--97.69%   \n"
          ],
          "name": "stdout"
        },
        {
          "output_type": "stream",
          "text": [
            "Reassigning unlabeled image labels: 100%|██████████| 20000/20000 [14:56<00:00, 22.31it/s]\n",
            "Epoch 6\tAvg Loss: 0.6580: 100%|██████████| 167/167 [01:36<00:00,  1.73it/s]\n",
            "       \tAvg Loss: 0.6483  Accuracy: 77.70%: 100%|██████████| 1465/1465 [01:58<00:00, 12.33it/s]\n",
            "  0%|          | 0/167 [00:00<?, ?it/s]"
          ],
          "name": "stderr"
        },
        {
          "output_type": "stream",
          "text": [
            "\t\tAccuracy by class: 0--58.71%   1--96.69%   \n"
          ],
          "name": "stdout"
        },
        {
          "output_type": "stream",
          "text": [
            "Epoch 7\tAvg Loss: 0.6530: 100%|██████████| 167/167 [01:41<00:00,  1.65it/s]\n",
            "       \tAvg Loss: 0.6657  Accuracy: 77.00%: 100%|██████████| 1465/1465 [02:00<00:00, 12.13it/s]\n",
            "  0%|          | 0/167 [00:00<?, ?it/s]"
          ],
          "name": "stderr"
        },
        {
          "output_type": "stream",
          "text": [
            "\t\tAccuracy by class: 0--56.74%   1--97.26%   \n"
          ],
          "name": "stdout"
        },
        {
          "output_type": "stream",
          "text": [
            "Epoch 8\tAvg Loss: 0.6502: 100%|██████████| 167/167 [01:42<00:00,  1.64it/s]\n",
            "       \tAvg Loss: 0.5498  Accuracy: 84.58%: 100%|██████████| 1465/1465 [02:02<00:00, 12.00it/s]\n"
          ],
          "name": "stderr"
        },
        {
          "output_type": "stream",
          "text": [
            "\t\tAccuracy by class: 0--73.20%   1--95.97%   \n"
          ],
          "name": "stdout"
        },
        {
          "output_type": "stream",
          "text": [
            "Epoch 9\tAvg Loss: 0.6417: 100%|██████████| 167/167 [01:42<00:00,  1.63it/s]\n",
            "       \tAvg Loss: 0.4689  Accuracy: 87.14%: 100%|██████████| 1465/1465 [02:01<00:00, 12.05it/s]\n"
          ],
          "name": "stderr"
        },
        {
          "output_type": "stream",
          "text": [
            "\t\tAccuracy by class: 0--82.63%   1--91.64%   \n"
          ],
          "name": "stdout"
        },
        {
          "output_type": "stream",
          "text": [
            "Epoch 10\tAvg Loss: 0.6556: 100%|██████████| 167/167 [01:43<00:00,  1.61it/s]\n",
            "       \tAvg Loss: 0.6166  Accuracy: 79.11%: 100%|██████████| 1465/1465 [02:01<00:00, 12.02it/s]\n",
            "Reassigning unlabeled image labels:   0%|          | 2/20000 [00:00<18:46, 17.75it/s]"
          ],
          "name": "stderr"
        },
        {
          "output_type": "stream",
          "text": [
            "\t\tAccuracy by class: 0--63.25%   1--94.96%   \n"
          ],
          "name": "stdout"
        },
        {
          "output_type": "stream",
          "text": [
            "Reassigning unlabeled image labels: 100%|██████████| 20000/20000 [15:43<00:00, 21.21it/s]\n",
            "Epoch 11\tAvg Loss: 0.6523: 100%|██████████| 167/167 [01:41<00:00,  1.64it/s]\n",
            "       \tAvg Loss: 0.5990  Accuracy: 80.18%: 100%|██████████| 1465/1465 [02:04<00:00, 11.77it/s]\n",
            "  0%|          | 0/167 [00:00<?, ?it/s]"
          ],
          "name": "stderr"
        },
        {
          "output_type": "stream",
          "text": [
            "\t\tAccuracy by class: 0--66.56%   1--93.80%   \n"
          ],
          "name": "stdout"
        },
        {
          "output_type": "stream",
          "text": [
            "Epoch 12\tAvg Loss: 0.6577: 100%|██████████| 167/167 [01:42<00:00,  1.63it/s]\n",
            "       \tAvg Loss: 0.5572  Accuracy: 84.78%: 100%|██████████| 1465/1465 [02:03<00:00, 11.90it/s]\n",
            "  0%|          | 0/167 [00:00<?, ?it/s]"
          ],
          "name": "stderr"
        },
        {
          "output_type": "stream",
          "text": [
            "\t\tAccuracy by class: 0--74.02%   1--95.53%   \n"
          ],
          "name": "stdout"
        },
        {
          "output_type": "stream",
          "text": [
            "Epoch 13\tAvg Loss: 0.6489: 100%|██████████| 167/167 [01:42<00:00,  1.63it/s]\n",
            "       \tAvg Loss: 0.5194  Accuracy: 84.24%: 100%|██████████| 1465/1465 [02:02<00:00, 11.95it/s]\n",
            "  0%|          | 0/167 [00:00<?, ?it/s]"
          ],
          "name": "stderr"
        },
        {
          "output_type": "stream",
          "text": [
            "\t\tAccuracy by class: 0--76.98%   1--91.50%   \n"
          ],
          "name": "stdout"
        },
        {
          "output_type": "stream",
          "text": [
            "Epoch 14\tAvg Loss: 0.6641: 100%|██████████| 167/167 [01:40<00:00,  1.66it/s]\n",
            "       \tAvg Loss: 0.5155  Accuracy: 86.25%: 100%|██████████| 1465/1465 [01:58<00:00, 12.37it/s]\n",
            "  0%|          | 0/167 [00:00<?, ?it/s]"
          ],
          "name": "stderr"
        },
        {
          "output_type": "stream",
          "text": [
            "\t\tAccuracy by class: 0--78.99%   1--93.52%   \n"
          ],
          "name": "stdout"
        },
        {
          "output_type": "stream",
          "text": [
            "Epoch 15\tAvg Loss: 0.6504: 100%|██████████| 167/167 [01:41<00:00,  1.65it/s]\n",
            "       \tAvg Loss: 0.5346  Accuracy: 82.05%: 100%|██████████| 1465/1465 [02:02<00:00, 11.97it/s]\n",
            "Reassigning unlabeled image labels:   0%|          | 1/20000 [00:00<49:41,  6.71it/s]"
          ],
          "name": "stderr"
        },
        {
          "output_type": "stream",
          "text": [
            "\t\tAccuracy by class: 0--74.04%   1--90.06%   \n"
          ],
          "name": "stdout"
        },
        {
          "output_type": "stream",
          "text": [
            "Reassigning unlabeled image labels: 100%|██████████| 20000/20000 [15:48<00:00, 21.09it/s]\n",
            "Epoch 16\tAvg Loss: 0.6555: 100%|██████████| 167/167 [01:40<00:00,  1.67it/s]\n",
            "       \tAvg Loss: 0.6648  Accuracy: 77.39%: 100%|██████████| 1465/1465 [02:04<00:00, 11.75it/s]\n",
            "  0%|          | 0/167 [00:00<?, ?it/s]"
          ],
          "name": "stderr"
        },
        {
          "output_type": "stream",
          "text": [
            "\t\tAccuracy by class: 0--56.65%   1--98.13%   \n"
          ],
          "name": "stdout"
        },
        {
          "output_type": "stream",
          "text": [
            "Epoch 17\tAvg Loss: 0.6447: 100%|██████████| 167/167 [01:43<00:00,  1.61it/s]\n",
            "       \tAvg Loss: 0.5385  Accuracy: 84.29%: 100%|██████████| 1465/1465 [02:02<00:00, 11.97it/s]\n",
            "  0%|          | 0/167 [00:00<?, ?it/s]"
          ],
          "name": "stderr"
        },
        {
          "output_type": "stream",
          "text": [
            "\t\tAccuracy by class: 0--73.18%   1--95.39%   \n"
          ],
          "name": "stdout"
        },
        {
          "output_type": "stream",
          "text": [
            "Epoch 18\tAvg Loss: 0.6423: 100%|██████████| 167/167 [01:42<00:00,  1.62it/s]\n",
            "       \tAvg Loss: 0.4615  Accuracy: 87.22%: 100%|██████████| 1465/1465 [02:01<00:00, 12.02it/s]\n"
          ],
          "name": "stderr"
        },
        {
          "output_type": "stream",
          "text": [
            "\t\tAccuracy by class: 0--82.23%   1--92.22%   \n"
          ],
          "name": "stdout"
        },
        {
          "output_type": "stream",
          "text": [
            "Epoch 19\tAvg Loss: 0.6454: 100%|██████████| 167/167 [01:42<00:00,  1.64it/s]\n",
            "       \tAvg Loss: 0.4758  Accuracy: 86.46%: 100%|██████████| 1465/1465 [02:02<00:00, 11.97it/s]\n",
            "  0%|          | 0/167 [00:00<?, ?it/s]"
          ],
          "name": "stderr"
        },
        {
          "output_type": "stream",
          "text": [
            "\t\tAccuracy by class: 0--80.99%   1--91.93%   \n"
          ],
          "name": "stdout"
        },
        {
          "output_type": "stream",
          "text": [
            "Epoch 20\tAvg Loss: 0.6464: 100%|██████████| 167/167 [01:43<00:00,  1.61it/s]\n",
            "       \tAvg Loss: 0.5779  Accuracy: 81.78%: 100%|██████████| 1465/1465 [02:04<00:00, 11.75it/s]\n",
            "Reassigning unlabeled image labels:   0%|          | 1/20000 [00:00<50:12,  6.64it/s]"
          ],
          "name": "stderr"
        },
        {
          "output_type": "stream",
          "text": [
            "\t\tAccuracy by class: 0--68.02%   1--95.53%   \n"
          ],
          "name": "stdout"
        },
        {
          "output_type": "stream",
          "text": [
            "Reassigning unlabeled image labels: 100%|██████████| 20000/20000 [16:09<00:00, 20.62it/s]\n",
            "Epoch 21\tAvg Loss: 0.6310: 100%|██████████| 167/167 [01:42<00:00,  1.62it/s]\n",
            "       \tAvg Loss: 0.3587  Accuracy: 88.89%: 100%|██████████| 1465/1465 [02:03<00:00, 11.82it/s]\n"
          ],
          "name": "stderr"
        },
        {
          "output_type": "stream",
          "text": [
            "\t\tAccuracy by class: 0--90.60%   1--87.18%   \n"
          ],
          "name": "stdout"
        },
        {
          "output_type": "stream",
          "text": [
            "Epoch 22\tAvg Loss: 0.6459: 100%|██████████| 167/167 [01:45<00:00,  1.58it/s]\n",
            "       \tAvg Loss: 0.4872  Accuracy: 85.69%: 100%|██████████| 1465/1465 [02:04<00:00, 11.76it/s]\n",
            "  0%|          | 0/167 [00:00<?, ?it/s]"
          ],
          "name": "stderr"
        },
        {
          "output_type": "stream",
          "text": [
            "\t\tAccuracy by class: 0--77.72%   1--93.66%   \n"
          ],
          "name": "stdout"
        },
        {
          "output_type": "stream",
          "text": [
            "Epoch 23\tAvg Loss: 0.6532: 100%|██████████| 167/167 [01:41<00:00,  1.64it/s]\n",
            "       \tAvg Loss: 0.6334  Accuracy: 78.69%: 100%|██████████| 1465/1465 [02:02<00:00, 11.91it/s]\n",
            "  0%|          | 0/167 [00:00<?, ?it/s]"
          ],
          "name": "stderr"
        },
        {
          "output_type": "stream",
          "text": [
            "\t\tAccuracy by class: 0--60.84%   1--96.54%   \n"
          ],
          "name": "stdout"
        },
        {
          "output_type": "stream",
          "text": [
            "Epoch 24\tAvg Loss: 0.6514: 100%|██████████| 167/167 [01:44<00:00,  1.60it/s]\n",
            "       \tAvg Loss: 0.4875  Accuracy: 83.74%: 100%|██████████| 1465/1465 [02:04<00:00, 11.78it/s]\n",
            "  0%|          | 0/167 [00:00<?, ?it/s]"
          ],
          "name": "stderr"
        },
        {
          "output_type": "stream",
          "text": [
            "\t\tAccuracy by class: 0--78.87%   1--88.62%   \n"
          ],
          "name": "stdout"
        },
        {
          "output_type": "stream",
          "text": [
            "Epoch 25\tAvg Loss: 0.6508: 100%|██████████| 167/167 [01:44<00:00,  1.60it/s]\n",
            "       \tAvg Loss: 0.4661  Accuracy: 85.94%: 100%|██████████| 1465/1465 [02:05<00:00, 11.68it/s]\n",
            "Reassigning unlabeled image labels:   0%|          | 3/20000 [00:00<16:12, 20.57it/s]"
          ],
          "name": "stderr"
        },
        {
          "output_type": "stream",
          "text": [
            "\t\tAccuracy by class: 0--81.40%   1--90.49%   \n"
          ],
          "name": "stdout"
        },
        {
          "output_type": "stream",
          "text": [
            "Reassigning unlabeled image labels:  97%|█████████▋| 19379/20000 [15:35<00:28, 21.75it/s]"
          ],
          "name": "stderr"
        }
      ]
    },
    {
      "cell_type": "code",
      "metadata": {
        "colab": {
          "base_uri": "https://localhost:8080/"
        },
        "id": "pjqLGxZoIEOD",
        "outputId": "d4f266f3-2bc1-45aa-bd1b-9f54744ddef4"
      },
      "source": [
        "1+1"
      ],
      "execution_count": null,
      "outputs": [
        {
          "output_type": "execute_result",
          "data": {
            "text/plain": [
              "2"
            ]
          },
          "metadata": {
            "tags": []
          },
          "execution_count": 36
        }
      ]
    },
    {
      "cell_type": "code",
      "metadata": {
        "colab": {
          "base_uri": "https://localhost:8080/",
          "height": 35
        },
        "id": "wezfzP_ZK92x",
        "outputId": "5957bab1-9c58-42fa-e8e4-11013f7793c1"
      },
      "source": [
        "model_file"
      ],
      "execution_count": null,
      "outputs": [
        {
          "output_type": "execute_result",
          "data": {
            "application/vnd.google.colaboratory.intrinsic+json": {
              "type": "string"
            },
            "text/plain": [
              "'../drive/My Drive/Project/model/MixMatchModel_sample@2000'"
            ]
          },
          "metadata": {
            "tags": []
          },
          "execution_count": 37
        }
      ]
    },
    {
      "cell_type": "code",
      "metadata": {
        "id": "IBlI2cNzLms4"
      },
      "source": [
        "with open(model_file, 'wb') as f:\n",
        "    torch.save(model.state_dict(), f)"
      ],
      "execution_count": null,
      "outputs": []
    },
    {
      "cell_type": "markdown",
      "metadata": {
        "id": "5AKXlHRlMmqD"
      },
      "source": [
        "# Debug"
      ]
    },
    {
      "cell_type": "code",
      "metadata": {
        "id": "vCHMYju3Mnq2"
      },
      "source": [
        "import torch\n",
        "import numpy as np\n",
        "import zipfile\n",
        "from skimage import io, transform\n",
        "from tqdm import tqdm\n",
        "from torch.utils.data import DataLoader\n",
        "from torch.utils.data import Dataset\n",
        "from torchvision import models\n",
        "from torchvision import transforms"
      ],
      "execution_count": null,
      "outputs": []
    },
    {
      "cell_type": "code",
      "metadata": {
        "colab": {
          "base_uri": "https://localhost:8080/"
        },
        "id": "hRDTtpjRMwnK",
        "outputId": "51bf4cc3-7794-4337-92d1-c12c29f4381a"
      },
      "source": [
        "!gdown https://drive.google.com/uc?id=1HaUAxDtN4BNj0hpH8QYGmiX39Va-Ke8p"
      ],
      "execution_count": null,
      "outputs": [
        {
          "output_type": "stream",
          "text": [
            "Downloading...\n",
            "From: https://drive.google.com/uc?id=1HaUAxDtN4BNj0hpH8QYGmiX39Va-Ke8p\n",
            "To: /content/NST_MixMatch_HAM10000/messidor2.zip\n",
            "106MB [00:02, 39.9MB/s] \n"
          ],
          "name": "stdout"
        }
      ]
    },
    {
      "cell_type": "code",
      "metadata": {
        "id": "8ePCCf-SM1NE"
      },
      "source": [
        "local_zip = '{}.zip'.format(\"messidor2\")\n",
        "zip_ref = zipfile.ZipFile(local_zip, 'r')\n",
        "zip_ref.extractall('/content/NST_MixMatch_HAM10000/')\n",
        "zip_ref.close()"
      ],
      "execution_count": null,
      "outputs": []
    },
    {
      "cell_type": "code",
      "metadata": {
        "id": "YSWOuHkYNMoA"
      },
      "source": [
        "class Test_Dataset(Dataset):\n",
        "    def __init__(self, fname):\n",
        "        self.data = {}\n",
        "        with open(fname, 'r') as f:\n",
        "            for l in f.readlines():\n",
        "                l = l.split(',')\n",
        "                self.data[l[0]] = int(l[1])\n",
        "        self.keys = list(self.data.keys())\n",
        "\n",
        "        with tqdm(total=len(self.keys)) as pbar:\n",
        "            for key in self.keys:\n",
        "                self.data[key] = (self.data[key], self.load(key))\n",
        "                pbar.set_description(\"Loading images\")\n",
        "                pbar.update(1)\n",
        "\n",
        "        self.norm = transforms.Normalize(mean=[0.485, 0.456, 0.406], std=[0.229, 0.224, 0.225])\n",
        "        self.tensor = transforms.ToTensor()\n",
        "\n",
        "    def __len__(self):\n",
        "        return len(self.keys)\n",
        "\n",
        "    def load(self, fname):\n",
        "        img = io.imread(fname)\n",
        "        return img\n",
        "\n",
        "    def preprocess(self, img):\n",
        "        img = img / 255.0\n",
        "\n",
        "        img = transform.resize(img, [224, 224, 3], mode='constant', anti_aliasing=True)\n",
        "        img = self.tensor(img)\n",
        "        img = self.norm(img.float())\n",
        "\n",
        "        img = img.type(torch.float32)\n",
        "        return img\n",
        "\n",
        "    def __getitem__(self, idx):\n",
        "        key = self.keys[idx]\n",
        "        label = self.data[key][0]\n",
        "        img = self.data[key][1]\n",
        "\n",
        "        img = self.preprocess(img)\n",
        "\n",
        "        return {'image': img, \\\n",
        "                'target': torch.tensor(label), \\\n",
        "                'file': key}"
      ],
      "execution_count": null,
      "outputs": []
    },
    {
      "cell_type": "code",
      "metadata": {
        "colab": {
          "base_uri": "https://localhost:8080/"
        },
        "id": "FijMNbB4M9KF",
        "outputId": "e91d46e1-6b87-4dc5-ceb7-3781c1d4ca7f"
      },
      "source": [
        "# Make predictions on  Kaggle Test\n",
        "val_dataset = Test_Dataset('test.csv')"
      ],
      "execution_count": null,
      "outputs": [
        {
          "output_type": "stream",
          "text": [
            "Loading images: 100%|██████████| 1748/1748 [00:07<00:00, 237.17it/s]\n"
          ],
          "name": "stderr"
        }
      ]
    },
    {
      "cell_type": "code",
      "metadata": {
        "id": "RpJtfCfqNccJ"
      },
      "source": [
        "val_loader = DataLoader(val_dataset, batch_size=1, shuffle=False)"
      ],
      "execution_count": null,
      "outputs": []
    },
    {
      "cell_type": "code",
      "metadata": {
        "id": "OWc4jOhCNd1j"
      },
      "source": [
        "loader = val_loader"
      ],
      "execution_count": null,
      "outputs": []
    },
    {
      "cell_type": "code",
      "metadata": {
        "id": "HtROfNtQNfDq"
      },
      "source": [
        "y_true = []\n",
        "y_pred = []"
      ],
      "execution_count": null,
      "outputs": []
    },
    {
      "cell_type": "code",
      "metadata": {
        "colab": {
          "base_uri": "https://localhost:8080/"
        },
        "id": "Vg8G1EOXNhEU",
        "outputId": "b27e36ba-712a-4c98-cbf8-1826001c24b5"
      },
      "source": [
        "model.eval()\n",
        "with torch.no_grad():\n",
        "    with tqdm(total=len(loader)) as pbar:\n",
        "        for batch_idx, sample in enumerate(loader):\n",
        "            data = sample['image']\n",
        "            target = sample['target']\n",
        "            file = sample['file']\n",
        "\n",
        "            labels = target.to(device)\n",
        "            target = torch.zeros(target.shape[0], 2).scatter_(1, target.view(-1, 1), 1)\n",
        "            data, target = data.to(device), target.to(device)\n",
        "            output = model(data)\n",
        "            output = output.to(device)\n",
        "\n",
        "            # Yo le agrege esto\n",
        "            y_true.append(labels.cpu().detach().numpy()[0])\n",
        "            y_pred.append(np.argmax(output.cpu().detach().numpy()))\n",
        "            \n",
        "            pbar.update(1)"
      ],
      "execution_count": null,
      "outputs": [
        {
          "output_type": "stream",
          "text": [
            "100%|██████████| 1748/1748 [01:27<00:00, 19.94it/s]\n"
          ],
          "name": "stderr"
        }
      ]
    },
    {
      "cell_type": "code",
      "metadata": {
        "colab": {
          "base_uri": "https://localhost:8080/"
        },
        "id": "sMWhTQjFNjPw",
        "outputId": "effb3222-4719-46c5-c4c9-4d8bcb11afb8"
      },
      "source": [
        "# Alternative way to calculate AUC without y_pred_prob\n",
        "import numpy as np\n",
        "from sklearn import metrics\n",
        "#y = np.array([0, 0, 1, 1])\n",
        "#pred = np.array([0, 0, 1, 0])\n",
        "fpr, tpr, thresholds = metrics.roc_curve(y_true, y_pred, pos_label=1)\n",
        "metrics.auc(fpr, tpr)"
      ],
      "execution_count": null,
      "outputs": [
        {
          "output_type": "execute_result",
          "data": {
            "text/plain": [
              "0.7073830409356726"
            ]
          },
          "metadata": {
            "tags": []
          },
          "execution_count": 64
        }
      ]
    }
  ]
}