{
  "nbformat": 4,
  "nbformat_minor": 0,
  "metadata": {
    "colab": {
      "name": "PAWS-DR-TPU.ipynb",
      "provenance": [],
      "authorship_tag": "ABX9TyO+y/F+5a9CtC+hKKEQF2Ar",
      "include_colab_link": true
    },
    "kernelspec": {
      "name": "python3",
      "display_name": "Python 3"
    },
    "language_info": {
      "name": "python"
    },
    "accelerator": "TPU"
  },
  "cells": [
    {
      "cell_type": "markdown",
      "metadata": {
        "id": "view-in-github",
        "colab_type": "text"
      },
      "source": [
        "<a href=\"https://colab.research.google.com/github/jmarrietar/ocular/blob/master/notebooks/PAWS_DR_TPU.ipynb\" target=\"_parent\"><img src=\"https://colab.research.google.com/assets/colab-badge.svg\" alt=\"Open In Colab\"/></a>"
      ]
    },
    {
      "cell_type": "code",
      "metadata": {
        "id": "nA9U-sGlul5O"
      },
      "source": [
        "# Libraries"
      ],
      "execution_count": null,
      "outputs": []
    },
    {
      "cell_type": "code",
      "metadata": {
        "id": "2KVQ0Inbx9zC"
      },
      "source": [
        "# argparsers y demas Parameters"
      ],
      "execution_count": null,
      "outputs": []
    },
    {
      "cell_type": "code",
      "metadata": {
        "id": "z1og_585yA2R"
      },
      "source": [
        "#Loss functions"
      ],
      "execution_count": null,
      "outputs": []
    },
    {
      "cell_type": "code",
      "metadata": {
        "id": "pstze2ObyDNO"
      },
      "source": [
        "def train_resnet():\n",
        "    \"\"\"\n",
        "    Aqui tengo que incluir los dataloaders y demas\n",
        "\n",
        "    definir el train_loop_fn\n",
        "    \"\"\""
      ],
      "execution_count": null,
      "outputs": []
    },
    {
      "cell_type": "code",
      "metadata": {
        "id": "gYVzaIOQyOr3"
      },
      "source": [
        "# Start training processes\n",
        "def _mp_fn(rank, flags):\n",
        "    global FLAGS\n",
        "    FLAGS = flags\n",
        "    torch.set_default_tensor_type(\"torch.FloatTensor\")\n",
        "    accuracy, data, pred, target = train_resnet()\n"
      ],
      "execution_count": null,
      "outputs": []
    },
    {
      "cell_type": "code",
      "metadata": {
        "id": "xfBF0mNfyNbe"
      },
      "source": [
        "# TO DO \n",
        "\n",
        "if __name__ == \"__main__\":\n",
        "    parser = init_argparse()\n",
        "    FLAGS = parser.parse_args()\n",
        "    print(FLAGS)\n",
        "    xmp.spawn(_mp_fn, args=(FLAGS,), nprocs=FLAGS.num_cores, start_method=\"fork\")"
      ],
      "execution_count": null,
      "outputs": []
    }
  ]
}