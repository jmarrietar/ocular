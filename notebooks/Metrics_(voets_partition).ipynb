{
  "nbformat": 4,
  "nbformat_minor": 0,
  "metadata": {
    "colab": {
      "name": "Metrics (voets_partition).ipynb",
      "provenance": [],
      "collapsed_sections": [],
      "include_colab_link": true
    },
    "kernelspec": {
      "name": "python3",
      "display_name": "Python 3"
    },
    "accelerator": "GPU"
  },
  "cells": [
    {
      "cell_type": "markdown",
      "metadata": {
        "id": "view-in-github",
        "colab_type": "text"
      },
      "source": [
        "<a href=\"https://colab.research.google.com/github/jmarrietar/ocular/blob/master/notebooks/Metrics_(voets_partition).ipynb\" target=\"_parent\"><img src=\"https://colab.research.google.com/assets/colab-badge.svg\" alt=\"Open In Colab\"/></a>"
      ]
    },
    {
      "cell_type": "markdown",
      "metadata": {
        "id": "7AmmleW53j9-"
      },
      "source": [
        "# TF 2.0 - Test Metrics "
      ]
    },
    {
      "cell_type": "code",
      "metadata": {
        "id": "fnj1Ya3Z5zz6",
        "colab": {
          "base_uri": "https://localhost:8080/"
        },
        "outputId": "4cb583ef-abd7-4ebd-edc5-d58ecd4565a6"
      },
      "source": [
        "#GPU count and name\n",
        "!nvidia-smi -L"
      ],
      "execution_count": 10,
      "outputs": [
        {
          "output_type": "stream",
          "name": "stdout",
          "text": [
            "GPU 0: Tesla P100-PCIE-16GB (UUID: GPU-8b09c405-2fef-6a65-7849-1fff7cadcaf3)\n"
          ]
        }
      ]
    },
    {
      "cell_type": "code",
      "metadata": {
        "id": "UgD1R7rpuC5n"
      },
      "source": [
        "# Mount Drive\n",
        "from google.colab import drive\n",
        "from google.colab import auth\n",
        "from googleapiclient.http import MediaFileUpload\n",
        "from googleapiclient.discovery import build"
      ],
      "execution_count": 11,
      "outputs": []
    },
    {
      "cell_type": "code",
      "metadata": {
        "id": "XnaFS8QApPIQ",
        "colab": {
          "base_uri": "https://localhost:8080/"
        },
        "outputId": "90191e71-6878-4ed4-f802-890933a81c9c"
      },
      "source": [
        "auth.authenticate_user()\n",
        "drive.mount('/content/drive')"
      ],
      "execution_count": 12,
      "outputs": [
        {
          "output_type": "stream",
          "name": "stdout",
          "text": [
            "Mounted at /content/drive\n"
          ]
        }
      ]
    },
    {
      "cell_type": "code",
      "metadata": {
        "id": "R4D05dJRVtuC",
        "colab": {
          "base_uri": "https://localhost:8080/"
        },
        "outputId": "69acd4b7-5e90-4e21-937a-ebb8cb7492df"
      },
      "source": [
        "import os\n",
        "import zipfile\n",
        "import itertools\n",
        "import numpy as np\n",
        "import h5py\n",
        "import random\n",
        "from sklearn import metrics\n",
        "import seaborn as sns\n",
        "import matplotlib.pyplot as plt\n",
        "import matplotlib.image as mpimg\n",
        "from mlxtend.plotting import plot_confusion_matrix \n",
        "%matplotlib inline\n",
        "\n",
        "import tensorflow as tf\n",
        "\n",
        "import keras_preprocessing\n",
        "from keras_preprocessing import image\n",
        "from keras_preprocessing.image import ImageDataGenerator\n",
        "\n",
        "from tensorflow.keras.models import Model, model_from_json\n",
        "from keras_preprocessing.image import ImageDataGenerator\n",
        "from sklearn.metrics import roc_auc_score\n",
        "from sklearn.metrics import accuracy_score\n",
        "\n",
        "print(f\"Numpy version: {np.__version__}\")\n",
        "print(f\"Tensorflow version: {tf.__version__}\")\n",
        "\n",
        "random.seed(432)"
      ],
      "execution_count": 13,
      "outputs": [
        {
          "output_type": "stream",
          "name": "stdout",
          "text": [
            "Numpy version: 1.19.5\n",
            "Tensorflow version: 2.6.0\n"
          ]
        }
      ]
    },
    {
      "cell_type": "code",
      "metadata": {
        "id": "e94AxSqvxQNA"
      },
      "source": [
        "# Parameters \n",
        "BATCH_SIZE = 32\n",
        "num_workers = 8\n",
        "num_epochs = 200\n",
        "learning_rate = 1e-6\n",
        "decay = 4e-5\n",
        "min_delta_auc = 0.01\n",
        "BATCH_SIZE = 32\n",
        "img_width, img_height = 299, 299"
      ],
      "execution_count": 14,
      "outputs": []
    },
    {
      "cell_type": "markdown",
      "metadata": {
        "id": "Uj0joO7ixwND"
      },
      "source": [
        "#### Download data"
      ]
    },
    {
      "cell_type": "code",
      "metadata": {
        "id": "MV2tc95JsJHZ",
        "colab": {
          "base_uri": "https://localhost:8080/"
        },
        "outputId": "21518afa-b7a7-4681-f5cf-01e145dd9796"
      },
      "source": [
        "!gdown https://drive.google.com/uc?id=1Y0pDtx-5HdDcXFWyp2Kcjc4DCG65VLAH"
      ],
      "execution_count": 15,
      "outputs": [
        {
          "output_type": "stream",
          "name": "stdout",
          "text": [
            "Downloading...\n",
            "From: https://drive.google.com/uc?id=1Y0pDtx-5HdDcXFWyp2Kcjc4DCG65VLAH\n",
            "To: /content/eyepacs.zip\n",
            "100% 4.79G/4.79G [00:53<00:00, 89.2MB/s]\n",
            "Traceback (most recent call last):\n",
            "  File \"/usr/local/bin/gdown\", line 8, in <module>\n",
            "    sys.exit(main())\n",
            "  File \"/usr/local/lib/python2.7/dist-packages/gdown/cli.py\", line 61, in main\n",
            "    quiet=args.quiet,\n",
            "  File \"/usr/local/lib/python2.7/dist-packages/gdown/download.py\", line 109, in download\n",
            "    shutil.copy(tmp_file, output)\n",
            "  File \"/usr/lib/python2.7/shutil.py\", line 139, in copy\n",
            "    copyfile(src, dst)\n",
            "  File \"/usr/lib/python2.7/shutil.py\", line 98, in copyfile\n",
            "    copyfileobj(fsrc, fdst)\n",
            "  File \"/usr/lib/python2.7/shutil.py\", line 63, in copyfileobj\n",
            "    buf = fsrc.read(length)\n",
            "KeyboardInterrupt\n"
          ]
        }
      ]
    },
    {
      "cell_type": "code",
      "metadata": {
        "id": "febG9zpasS73"
      },
      "source": [
        "!gdown https://drive.google.com/uc?id=1HaUAxDtN4BNj0hpH8QYGmiX39Va-Ke8p"
      ],
      "execution_count": null,
      "outputs": []
    },
    {
      "cell_type": "code",
      "metadata": {
        "id": "2D2D8BvtuUPQ"
      },
      "source": [
        "import zipfile\n",
        "local_zip = '/content/eyepacs.zip'\n",
        "zip_ref = zipfile.ZipFile(local_zip, 'r')\n",
        "zip_ref.extractall('/content/')\n",
        "zip_ref.close()"
      ],
      "execution_count": null,
      "outputs": []
    },
    {
      "cell_type": "code",
      "metadata": {
        "id": "6dP93hAM7Vah"
      },
      "source": [
        "local_zip = '/content/messidor2.zip'\n",
        "zip_ref = zipfile.ZipFile(local_zip, 'r')\n",
        "zip_ref.extractall('/content/')\n",
        "zip_ref.close()"
      ],
      "execution_count": null,
      "outputs": []
    },
    {
      "cell_type": "code",
      "metadata": {
        "id": "U6_4NeJXuXUT"
      },
      "source": [
        "# Train data \n",
        "train_dir_1 = os.path.join('/content/eyepacs/train/1')\n",
        "train_dir_0 = os.path.join('/content/eyepacs/train/0')\n",
        "\n",
        "print(\"Total imagenes training Diabetic Retinopathy:\", len(os.listdir(train_dir_1)))\n",
        "print(\n",
        "    \"Total imagenes training Non Diabetic Retinopathy:\",\n",
        "    len(os.listdir(train_dir_0)),\n",
        ")"
      ],
      "execution_count": null,
      "outputs": []
    },
    {
      "cell_type": "code",
      "metadata": {
        "id": "K9MHUFsRjT26"
      },
      "source": [
        "# Test data\n",
        "test_dir_1 = os.path.join('/content/eyepacs/test/1')\n",
        "test_dir_0 = os.path.join('/content/eyepacs/test/0')\n",
        "\n",
        "print(\"Total imagenes Test Diabetic Retinopathy:\", len(os.listdir(test_dir_1)))\n",
        "print(\n",
        "    \"Total imagenes Test Non Diabetic Retinopathy:\",\n",
        "    len(os.listdir(test_dir_0)),\n",
        ")"
      ],
      "execution_count": null,
      "outputs": []
    },
    {
      "cell_type": "code",
      "metadata": {
        "id": "bG_kjcaruY_g"
      },
      "source": [
        "dr_files = os.listdir(train_dir_1)\n",
        "no_dr_files = os.listdir(train_dir_0)"
      ],
      "execution_count": null,
      "outputs": []
    },
    {
      "cell_type": "code",
      "metadata": {
        "id": "PtzGkkhjux_G"
      },
      "source": [
        "pic_index = 2\n",
        "\n",
        "next_dr = [os.path.join(train_dir_1, fname) for fname in dr_files[pic_index - 2 : pic_index]]\n",
        "next_no_dr = [\n",
        "    os.path.join(train_dir_0, fname) for fname in no_dr_files[pic_index - 2 : pic_index]\n",
        "]\n",
        "\n",
        "for i, img_path in enumerate(next_dr + next_no_dr):\n",
        "\n",
        "    img = mpimg.imread(img_path)\n",
        "    plt.imshow(img)\n",
        "    plt.axis(\"Off\")\n",
        "    plt.show()"
      ],
      "execution_count": null,
      "outputs": []
    },
    {
      "cell_type": "code",
      "metadata": {
        "id": "Ulx6R71FHk2T"
      },
      "source": [
        "def preprocessing(image):\n",
        "    image = tf.image.random_brightness(image, 0.125)\n",
        "    image = tf.image.random_saturation(image, 0.5, 1.5)\n",
        "    image = tf.image.random_hue(image, 0.2)\n",
        "    image = tf.image.random_contrast(image, 0.5, 1.5)\n",
        "    return image"
      ],
      "execution_count": null,
      "outputs": []
    },
    {
      "cell_type": "code",
      "metadata": {
        "id": "G5jshGUI6mzZ"
      },
      "source": [
        "TRAINING_DIR = \"/content/eyepacs/train/\"\n",
        "TEST_DIR = \"/content/eyepacs/test\"\n",
        "TEST_MESSIDOR_DIR = \"/content/messidor2\"\n",
        "\n",
        "datagen = ImageDataGenerator(\n",
        "    samplewise_center=True,\n",
        "    horizontal_flip=True,\n",
        "    rescale=1./255,\n",
        "    preprocessing_function=preprocessing,\n",
        "    validation_split=0.2\n",
        ")\n",
        "\n",
        "train_generator = datagen.flow_from_directory(\n",
        "    TRAINING_DIR,\n",
        "    target_size=(img_width, img_height),\n",
        "    color_mode='rgb',\n",
        "    batch_size=BATCH_SIZE,\n",
        "    class_mode=\"binary\",\n",
        "    subset='training',\n",
        "    shuffle=True,\n",
        ")\n"
      ],
      "execution_count": null,
      "outputs": []
    },
    {
      "cell_type": "code",
      "metadata": {
        "id": "2jrnrBLoNn4w"
      },
      "source": [
        "train_generator2 = datagen.flow_from_directory(\n",
        "    TRAINING_DIR,\n",
        "    target_size=(img_width, img_height),\n",
        "    color_mode='rgb',\n",
        "    batch_size=1,\n",
        "    class_mode=\"binary\",\n",
        "    shuffle=False,\n",
        ")"
      ],
      "execution_count": null,
      "outputs": []
    },
    {
      "cell_type": "code",
      "metadata": {
        "id": "8zjKfl7j6ps_"
      },
      "source": [
        "test_datagen = ImageDataGenerator(samplewise_center = True, \n",
        "                                  rescale=1./255)\n",
        "\n",
        "test_generator = test_datagen.flow_from_directory(\n",
        "\tTEST_DIR,\n",
        "    target_size=(img_width, img_height),\n",
        "    color_mode='rgb',\n",
        "\tclass_mode='binary', \n",
        "    batch_size=1,\n",
        "    shuffle=False,\n",
        ")"
      ],
      "execution_count": null,
      "outputs": []
    },
    {
      "cell_type": "code",
      "metadata": {
        "id": "kCZOAKGBzhdL"
      },
      "source": [
        "batch_size = 32\n",
        "\n",
        "messidor_datagen = ImageDataGenerator(samplewise_center = True, \n",
        "                                      rescale=1./255)\n",
        "\n",
        "messidor_generator = messidor_datagen.flow_from_directory(\n",
        "\tTEST_MESSIDOR_DIR,\n",
        "    target_size=(img_width, img_height),\n",
        "    color_mode='rgb',\n",
        "\tclass_mode='binary', \n",
        "    batch_size=1,\n",
        "    shuffle=False,\n",
        ")"
      ],
      "execution_count": null,
      "outputs": []
    },
    {
      "cell_type": "code",
      "metadata": {
        "id": "jGCCmxR1j-Mz"
      },
      "source": [
        "model_information = {\n",
        "    \"sample@500\": {\n",
        "        \"data\": \"https://drive.google.com/uc?id=1dHwUqpmSogEdjAB9rwDUL-OKFRUcVXte\",\n",
        "        \"JSON_STRUCTURE_FILE\": \"InceptionV3_warm_up_sample@500.json\",\n",
        "        \"WEIGHTS_FILE\": \"InceptionV3-sample@500-epochs:063-val_loss:0.570.hdf5\",\n",
        "    },\n",
        "    \"sample@1000\": {\n",
        "        \"data\": \"https://drive.google.com/uc?id=1DPZrHrj3Bdte5Dc6NCZ33CAqMG-Oipa2\",\n",
        "        \"JSON_STRUCTURE_FILE\": \"InceptionV3_warm_up_sample@1000.json\",\n",
        "        \"WEIGHTS_FILE\": \"InceptionV3-sample@1000-epochs:043-val_loss:0.585.hdf5\",\n",
        "    },\n",
        "    \"sample@2000\": {\n",
        "        \"data\": \"https://drive.google.com/uc?id=1PB7uGd-dUnZKnKZpZl-HvE1DVcWgX50F\",\n",
        "        \"JSON_STRUCTURE_FILE\": \"InceptionV3_warm_up_sample@2000.json\",\n",
        "        \"WEIGHTS_FILE\": \"InceptionV3-sample@2000-epochs:001-val_loss:0.562.hdf5\",\n",
        "    },\n",
        "    \"sample@3000\": {\n",
        "        \"data\": \"https://drive.google.com/uc?id=1_yre5K9YYvJgSrT4xvrI8eD_htucIywA\",\n",
        "        \"JSON_STRUCTURE_FILE\": \"InceptionV3_warm_up_sample@3000.json\",\n",
        "        \"WEIGHTS_FILE\": \"InceptionV3-sample@3000-epochs:002-val_loss:0.563.hdf5\",\n",
        "    },\n",
        "}"
      ],
      "execution_count": null,
      "outputs": []
    },
    {
      "cell_type": "code",
      "metadata": {
        "id": "tJ8OFVn89zkt"
      },
      "source": [
        "SAMPLE = \"sample@2000\""
      ],
      "execution_count": null,
      "outputs": []
    },
    {
      "cell_type": "code",
      "metadata": {
        "id": "8SDMRlt491Cy"
      },
      "source": [
        "JSON_STRUCTURE_FILE = model_information[SAMPLE][\"JSON_STRUCTURE_FILE\"]\n",
        "WEIGHTS_FILE = model_information[SAMPLE][\"WEIGHTS_FILE\"]"
      ],
      "execution_count": null,
      "outputs": []
    },
    {
      "cell_type": "code",
      "metadata": {
        "id": "ga-C7-g-YWb2"
      },
      "source": [
        "#with strategy.scope():\n",
        "# Load json file structure and create model\n",
        "json_file = open('drive/My Drive/Project/model/{}'.format(JSON_STRUCTURE_FILE), 'r')\n",
        "loaded_model_json = json_file.read()\n",
        "json_file.close()\n",
        "model = model_from_json(loaded_model_json)"
      ],
      "execution_count": null,
      "outputs": []
    },
    {
      "cell_type": "code",
      "metadata": {
        "id": "4cw5ArK5tdaB"
      },
      "source": [
        "#with strategy.scope():\n",
        "#Load weights into new model\n",
        "model.load_weights('drive/My Drive/Project/model/{}'.format(WEIGHTS_FILE))\n",
        "print(\"Loaded model from Drive\")"
      ],
      "execution_count": null,
      "outputs": []
    },
    {
      "cell_type": "code",
      "metadata": {
        "id": "lVJmyKJzDML4"
      },
      "source": [
        "for layer in model.layers:\n",
        "    layer.trainable = False\n",
        "\n",
        "# change the learning rate\n",
        "model.compile(\n",
        "    loss=tf.keras.losses.BinaryCrossentropy(),\n",
        "    optimizer=tf.keras.optimizers.RMSprop(learning_rate=learning_rate,\n",
        "                                       decay=decay),\n",
        "    metrics=['accuracy', tf.keras.metrics.AUC()]\n",
        ")"
      ],
      "execution_count": null,
      "outputs": []
    },
    {
      "cell_type": "markdown",
      "metadata": {
        "id": "qAJ1yQzxHiSr"
      },
      "source": [
        "## 2 Metrics"
      ]
    },
    {
      "cell_type": "markdown",
      "metadata": {
        "id": "KvdnYYEoqI4m"
      },
      "source": [
        "Auxiliar Functions"
      ]
    },
    {
      "cell_type": "code",
      "metadata": {
        "id": "zi0nuAbs3dGp"
      },
      "source": [
        "def create_plots(y_true, y_pred, y_pred_prob):\n",
        "    fpr, tpr, thresholds = metrics.roc_curve(y_true, y_pred_prob, pos_label=1)\n",
        "    cm=metrics.confusion_matrix(y_true, y_pred)\n",
        "    auc = roc_auc_score(y_true, y_pred_prob)\n",
        "    print('AUC: %.3f' % auc)\n",
        "    print('Accuracy: {}'.format(accuracy_score(y_true, y_pred)))\n",
        "\n",
        "    # Plot ROC curve\n",
        "    lw = 2\n",
        "    sns.set_style({'axes.grid' : False})\n",
        "    sns.set_style(\"darkgrid\")\n",
        "    ax1 = sns.lineplot(fpr, tpr, color='darkorange',\n",
        "            lw=lw, label='AUC = %0.2f' % auc)\n",
        "    plt.plot([0, 1], [0, 1], color='navy', lw=lw, linestyle='--')\n",
        "    ax1.set_title('Receiver operating characteristic')\n",
        "    ax1.set(xlabel='False Positive Rate', ylabel='True Positive Rate')\n",
        "    plt.legend(loc=\"lower right\")\n",
        "    plt.show()\n",
        "\n",
        "    # Plot Confusion Matrix \n",
        "    fig, ax2 = plot_confusion_matrix(conf_mat=cm,\n",
        "                                    show_normed=False)\n",
        "    plt.show()"
      ],
      "execution_count": null,
      "outputs": []
    },
    {
      "cell_type": "markdown",
      "metadata": {
        "id": "upKRckdT8iFk"
      },
      "source": [
        "#### Metrics on Kaggle train (voets)"
      ]
    },
    {
      "cell_type": "code",
      "metadata": {
        "id": "Q4kna4tNDuH9"
      },
      "source": [
        "\"\"\"\n",
        "train_generator2.reset()\n",
        "threshold = 0.5\n",
        "img_iter_val_0, img_iter_val_1 = itertools.tee(train_generator2, 2)\n",
        "y_true = train_generator2.classes\n",
        "y_pred_prob = model.predict(train_generator2,verbose=1,workers=0)\n",
        "y_pred_prob = np.hstack(y_pred_prob)\n",
        "y_pred = (y_pred_prob> threshold).astype('int')\n",
        "\"\"\""
      ],
      "execution_count": null,
      "outputs": []
    },
    {
      "cell_type": "code",
      "metadata": {
        "id": "b4698qvhqqjU"
      },
      "source": [
        "#create_plots(y_true, y_pred, y_pred_prob)"
      ],
      "execution_count": null,
      "outputs": []
    },
    {
      "cell_type": "markdown",
      "metadata": {
        "id": "brU3Iiwr1euf"
      },
      "source": [
        "#### Metrics on Kaggle test (voets)"
      ]
    },
    {
      "cell_type": "code",
      "metadata": {
        "id": "Ls3HJiYU1iSM"
      },
      "source": [
        "threshold = 0.5\n",
        "y_true = test_generator.classes\n",
        "y_pred_prob = model.predict_generator(test_generator, verbose=1, workers=5)\n",
        "y_pred_prob = np.hstack(y_pred_prob)\n",
        "y_pred = (y_pred_prob> threshold).astype('int')"
      ],
      "execution_count": null,
      "outputs": []
    },
    {
      "cell_type": "code",
      "metadata": {
        "id": "3AbtgLinqnAh"
      },
      "source": [
        "create_plots(y_true, y_pred, y_pred_prob)"
      ],
      "execution_count": null,
      "outputs": []
    },
    {
      "cell_type": "markdown",
      "metadata": {
        "id": "kr8A5QlO6jEr"
      },
      "source": [
        "#### Metrics on Messidor-2"
      ]
    },
    {
      "cell_type": "code",
      "metadata": {
        "id": "Gl7y9pG7ORNu"
      },
      "source": [
        "threshold = 0.5\n",
        "y_true = messidor_generator.classes\n",
        "y_pred_prob = model.predict(messidor_generator, verbose=1, workers=5)\n",
        "y_pred_prob = np.hstack(y_pred_prob)\n",
        "threshold = 0.5\n",
        "y_pred = (y_pred_prob> threshold).astype('int')"
      ],
      "execution_count": null,
      "outputs": []
    },
    {
      "cell_type": "code",
      "metadata": {
        "id": "AYBz32O9kPVl"
      },
      "source": [
        "threshold = 0.5\n",
        "y_pred = (y_pred_prob> threshold).astype('int')"
      ],
      "execution_count": null,
      "outputs": []
    },
    {
      "cell_type": "code",
      "metadata": {
        "id": "hrrqZZCEpzDS"
      },
      "source": [
        "create_plots(y_true, y_pred, y_pred_prob)"
      ],
      "execution_count": null,
      "outputs": []
    },
    {
      "cell_type": "markdown",
      "metadata": {
        "id": "8dEW2hZgfg0J"
      },
      "source": [
        "-----------------------"
      ]
    },
    {
      "cell_type": "markdown",
      "metadata": {
        "id": "zU3kFy542_4d"
      },
      "source": [
        "---------- "
      ]
    },
    {
      "cell_type": "markdown",
      "metadata": {
        "id": "jSLZUqw6fs8N"
      },
      "source": [
        "# Test MixMatch\n",
        "\n",
        "Pytorch Approach"
      ]
    },
    {
      "cell_type": "code",
      "metadata": {
        "id": "4ZDnMS19i9Qc"
      },
      "source": [
        "import torch\n",
        "import numpy as np\n",
        "import zipfile\n",
        "from skimage import io, transform\n",
        "from tqdm import tqdm\n",
        "from torch.utils.data import DataLoader\n",
        "from torch.utils.data import Dataset\n",
        "from torchvision import models\n",
        "from torchvision import transforms"
      ],
      "execution_count": 7,
      "outputs": []
    },
    {
      "cell_type": "code",
      "metadata": {
        "id": "_y05ChGV9rs2"
      },
      "source": [
        "# Mount Drive\n",
        "from google.colab import drive\n",
        "from google.colab import auth\n",
        "from googleapiclient.http import MediaFileUpload\n",
        "from googleapiclient.discovery import build"
      ],
      "execution_count": 16,
      "outputs": []
    },
    {
      "cell_type": "code",
      "metadata": {
        "id": "jokmuzSU9yGo",
        "colab": {
          "base_uri": "https://localhost:8080/"
        },
        "outputId": "d69603d9-8c59-4bc9-a380-8dc86630e2f8"
      },
      "source": [
        "drive.mount('/content/drive')\n",
        "auth.authenticate_user()"
      ],
      "execution_count": 20,
      "outputs": [
        {
          "output_type": "stream",
          "name": "stdout",
          "text": [
            "Drive already mounted at /content/drive; to attempt to forcibly remount, call drive.mount(\"/content/drive\", force_remount=True).\n"
          ]
        }
      ]
    },
    {
      "cell_type": "code",
      "metadata": {
        "id": "92oLEQp57TKr"
      },
      "source": [
        "test_data = {\n",
        "    \"voets_test_images\": \"https://drive.google.com/uc?id=15S_V3B_Z3BOjCT3AbO2c887FyS5B0Lyd\",\n",
        "    \"messidor2\": \"https://drive.google.com/uc?id=1HaUAxDtN4BNj0hpH8QYGmiX39Va-Ke8p\",\n",
        "}\n",
        "\n",
        "TEST_DATASET = 'messidor2'\n",
        "URL_TEST_DATASET = test_data[TEST_DATASET]"
      ],
      "execution_count": 23,
      "outputs": []
    },
    {
      "cell_type": "code",
      "metadata": {
        "id": "4FfhuKQeubVZ",
        "colab": {
          "base_uri": "https://localhost:8080/"
        },
        "outputId": "cacca563-8d13-4427-d38e-cd51305b1cb2"
      },
      "source": [
        "!gdown $URL_TEST_DATASET"
      ],
      "execution_count": 22,
      "outputs": [
        {
          "output_type": "stream",
          "name": "stdout",
          "text": [
            "Downloading...\n",
            "From: https://drive.google.com/uc?id=15S_V3B_Z3BOjCT3AbO2c887FyS5B0Lyd\n",
            "To: /content/voets_test_images.zip\n",
            "100% 475M/475M [00:13<00:00, 34.6MB/s]\n"
          ]
        }
      ]
    },
    {
      "cell_type": "code",
      "metadata": {
        "id": "KA-d9aUuujCF"
      },
      "source": [
        "local_zip = '{}.zip'.format(TEST_DATASET)\n",
        "zip_ref = zipfile.ZipFile(local_zip, 'r')\n",
        "zip_ref.extractall('/content/')\n",
        "zip_ref.close()"
      ],
      "execution_count": null,
      "outputs": []
    },
    {
      "cell_type": "code",
      "metadata": {
        "id": "kG4UTPvnjgiJ"
      },
      "source": [
        "def create_model(device, ema=False):\n",
        "    model = models.densenet169(pretrained=True)\n",
        "    ft = model.classifier.in_features\n",
        "    model.classifier = torch.nn.Linear(ft, 2)\n",
        "    model = model.to(device)\n",
        "\n",
        "    if ema:\n",
        "        for param in model.parameters():\n",
        "            param.detach_()\n",
        "\n",
        "    return model"
      ],
      "execution_count": null,
      "outputs": []
    },
    {
      "cell_type": "code",
      "metadata": {
        "id": "BSahbTQCrmN2"
      },
      "source": [
        "class Test_Dataset(Dataset):\n",
        "    def __init__(self, fname):\n",
        "        self.data = {}\n",
        "        with open(fname, 'r') as f:\n",
        "            for l in f.readlines():\n",
        "                l = l.split(',')\n",
        "                self.data[l[0]] = int(l[1])\n",
        "        self.keys = list(self.data.keys())\n",
        "\n",
        "        with tqdm(total=len(self.keys)) as pbar:\n",
        "            for key in self.keys:\n",
        "                self.data[key] = (self.data[key], self.load(key))\n",
        "                pbar.set_description(\"Loading images\")\n",
        "                pbar.update(1)\n",
        "\n",
        "        self.norm = transforms.Normalize(mean=[0.485, 0.456, 0.406], std=[0.229, 0.224, 0.225])\n",
        "        self.tensor = transforms.ToTensor()\n",
        "\n",
        "    def __len__(self):\n",
        "        return len(self.keys)\n",
        "\n",
        "    def load(self, fname):\n",
        "        img = io.imread(fname)\n",
        "        return img\n",
        "\n",
        "    def preprocess(self, img):\n",
        "        img = img / 255.0\n",
        "\n",
        "        img = transform.resize(img, [224, 224, 3], mode='constant', anti_aliasing=True)\n",
        "        img = self.tensor(img)\n",
        "        img = self.norm(img.float())\n",
        "\n",
        "        img = img.type(torch.float32)\n",
        "        return img\n",
        "\n",
        "    def __getitem__(self, idx):\n",
        "        key = self.keys[idx]\n",
        "        label = self.data[key][0]\n",
        "        img = self.data[key][1]\n",
        "\n",
        "        img = self.preprocess(img)\n",
        "\n",
        "        return {'image': img, \\\n",
        "                'target': torch.tensor(label), \\\n",
        "                'file': key}"
      ],
      "execution_count": null,
      "outputs": []
    },
    {
      "cell_type": "code",
      "metadata": {
        "id": "-2xuXaKDiyj1"
      },
      "source": [
        "use_cuda = torch.cuda.is_available()\n",
        "device = torch.device(\"cuda\" if use_cuda else \"cpu\")"
      ],
      "execution_count": null,
      "outputs": []
    },
    {
      "cell_type": "code",
      "metadata": {
        "id": "E6u-9E-oo6tC"
      },
      "source": [
        "device"
      ],
      "execution_count": null,
      "outputs": []
    },
    {
      "cell_type": "code",
      "metadata": {
        "id": "64LbMTcpjdR3"
      },
      "source": [
        "model = create_model(device)"
      ],
      "execution_count": null,
      "outputs": []
    },
    {
      "cell_type": "code",
      "metadata": {
        "id": "lKu4tjyMoQ93"
      },
      "source": [
        "model_name = 'MixMatchModel_sample@4000_images'"
      ],
      "execution_count": null,
      "outputs": []
    },
    {
      "cell_type": "code",
      "metadata": {
        "id": "xdV7z4Xk4o0e"
      },
      "source": [
        "model_file = 'drive/My Drive/Project/model/{}'.format(model_name)"
      ],
      "execution_count": null,
      "outputs": []
    },
    {
      "cell_type": "code",
      "metadata": {
        "id": "BOvfxmWqp6T0"
      },
      "source": [
        "model_file"
      ],
      "execution_count": null,
      "outputs": []
    },
    {
      "cell_type": "code",
      "metadata": {
        "id": "RDWZhFJHfhh_"
      },
      "source": [
        "# Load Model\n",
        "model.load_state_dict(torch.load(model_file))\n",
        "model = model.to(device)"
      ],
      "execution_count": null,
      "outputs": []
    },
    {
      "cell_type": "code",
      "metadata": {
        "id": "R1jFFnWzps1s"
      },
      "source": [
        "# Make predictions on  Kaggle Test\n",
        "val_dataset = Test_Dataset('test.csv')"
      ],
      "execution_count": null,
      "outputs": []
    },
    {
      "cell_type": "code",
      "metadata": {
        "id": "8B5QFhZCfxm7"
      },
      "source": [
        "val_loader = DataLoader(val_dataset, batch_size=1, shuffle=False)"
      ],
      "execution_count": null,
      "outputs": []
    },
    {
      "cell_type": "code",
      "metadata": {
        "id": "BG6dmKp62fHT"
      },
      "source": [
        "loader = val_loader"
      ],
      "execution_count": null,
      "outputs": []
    },
    {
      "cell_type": "code",
      "metadata": {
        "id": "31sViMqg55RQ"
      },
      "source": [
        "y_true = []\n",
        "y_pred = []"
      ],
      "execution_count": null,
      "outputs": []
    },
    {
      "cell_type": "code",
      "metadata": {
        "id": "nCV200me2buA"
      },
      "source": [
        "model.eval()\n",
        "with torch.no_grad():\n",
        "    with tqdm(total=len(loader)) as pbar:\n",
        "        for batch_idx, sample in enumerate(loader):\n",
        "            data = sample['image']\n",
        "            target = sample['target']\n",
        "            file = sample['file']\n",
        "\n",
        "            labels = target.to(device)\n",
        "            target = torch.zeros(target.shape[0], 2).scatter_(1, target.view(-1, 1), 1)\n",
        "            data, target = data.to(device), target.to(device)\n",
        "            output = model(data)\n",
        "            output = output.to(device)\n",
        "\n",
        "            # Yo le agrege esto\n",
        "            y_true.append(labels.cpu().detach().numpy()[0])\n",
        "            y_pred.append(np.argmax(output.cpu().detach().numpy()))\n",
        "            \n",
        "            pbar.update(1)"
      ],
      "execution_count": null,
      "outputs": []
    },
    {
      "cell_type": "code",
      "metadata": {
        "id": "4BhM_XQ0fkIC"
      },
      "source": [
        "# Alternative way to calculate AUC without y_pred_prob\n",
        "import numpy as np\n",
        "from sklearn import metrics\n",
        "#y = np.array([0, 0, 1, 1])\n",
        "#pred = np.array([0, 0, 1, 0])\n",
        "fpr, tpr, thresholds = metrics.roc_curve(y_true, y_pred, pos_label=1)\n",
        "metrics.auc(fpr, tpr)"
      ],
      "execution_count": null,
      "outputs": []
    },
    {
      "cell_type": "code",
      "metadata": {
        "id": "5M2y-FT1-UWY"
      },
      "source": [
        "from sklearn.metrics import accuracy_score\n",
        "import seaborn as sns\n",
        "import matplotlib.pyplot as plt\n",
        "import matplotlib.image as mpimg\n",
        "from mlxtend.plotting import plot_confusion_matrix \n",
        "%matplotlib inline\n",
        "\n",
        "cm=metrics.confusion_matrix(y_true, y_pred)\n",
        "auc = metrics.auc(fpr, tpr)\n",
        "print('AUC: %.3f' % auc)\n",
        "print('Accuracy: {}'.format(accuracy_score(y_true, y_pred)))\n",
        "\n",
        "# Plot ROC curve\n",
        "lw = 2\n",
        "sns.set_style({'axes.grid' : False})\n",
        "sns.set_style(\"darkgrid\")\n",
        "ax1 = sns.lineplot(fpr, tpr, color='darkorange',\n",
        "        lw=lw, label='AUC = %0.2f' % auc)\n",
        "plt.plot([0, 1], [0, 1], color='navy', lw=lw, linestyle='--')\n",
        "ax1.set_title('Receiver operating characteristic')\n",
        "ax1.set(xlabel='False Positive Rate', ylabel='True Positive Rate')\n",
        "plt.legend(loc=\"lower right\")\n",
        "plt.show()\n",
        "\n",
        "# Plot Confusion Matrix \n",
        "fig, ax2 = plot_confusion_matrix(conf_mat=cm,\n",
        "                                show_normed=False)\n",
        "plt.show()"
      ],
      "execution_count": null,
      "outputs": []
    },
    {
      "cell_type": "markdown",
      "metadata": {
        "id": "x3op6G9UFCTI"
      },
      "source": [
        "-------------"
      ]
    },
    {
      "cell_type": "markdown",
      "metadata": {
        "id": "TW5zvHhOFFpi"
      },
      "source": [
        "--------"
      ]
    },
    {
      "cell_type": "markdown",
      "metadata": {
        "id": "csf8bqNBPGs-"
      },
      "source": [
        "# Test FixMatch"
      ]
    },
    {
      "cell_type": "code",
      "metadata": {
        "id": "lty7UjmBoXX-"
      },
      "source": [
        "from torchvision import models\n",
        "from torchvision import datasets"
      ],
      "execution_count": 24,
      "outputs": []
    },
    {
      "cell_type": "code",
      "metadata": {
        "id": "G6FSO8_HyZ6U"
      },
      "source": [
        "import zipfile"
      ],
      "execution_count": 25,
      "outputs": []
    },
    {
      "cell_type": "code",
      "metadata": {
        "id": "KWNzdinHqQdc",
        "colab": {
          "base_uri": "https://localhost:8080/"
        },
        "outputId": "e988c506-126e-41dc-b0be-1389212104c8"
      },
      "source": [
        "# Descargar voets_test_images y messidor\n",
        "\n",
        "test_data = {\n",
        "    \"voets_test_images\": \"https://drive.google.com/uc?id=15S_V3B_Z3BOjCT3AbO2c887FyS5B0Lyd\",\n",
        "    \"messidor2\": \"https://drive.google.com/uc?id=1HaUAxDtN4BNj0hpH8QYGmiX39Va-Ke8p\",\n",
        "}\n",
        "\n",
        "TEST_DATASET = 'messidor2'\n",
        "URL_TEST_DATASET = test_data[TEST_DATASET]\n",
        "\n",
        "!gdown $URL_TEST_DATASET\n",
        "\n",
        "local_zip = '{}.zip'.format(TEST_DATASET)\n",
        "zip_ref = zipfile.ZipFile(local_zip, 'r')\n",
        "zip_ref.extractall('/content/')\n",
        "zip_ref.close()"
      ],
      "execution_count": 26,
      "outputs": [
        {
          "output_type": "stream",
          "name": "stdout",
          "text": [
            "Downloading...\n",
            "From: https://drive.google.com/uc?id=1HaUAxDtN4BNj0hpH8QYGmiX39Va-Ke8p\n",
            "To: /content/messidor2.zip\n",
            "100% 106M/106M [00:01<00:00, 105MB/s]  \n"
          ]
        }
      ]
    },
    {
      "cell_type": "code",
      "metadata": {
        "id": "ffJgi4bSNecd"
      },
      "source": [
        "LABELED = 'sample@1000'"
      ],
      "execution_count": 27,
      "outputs": []
    },
    {
      "cell_type": "code",
      "metadata": {
        "id": "kQMrzHkBFEd4"
      },
      "source": [
        "model_name = 'checkpoint.pth.tar'\n",
        "model_file = 'drive/My Drive/Project/model/FixMatchDR-DEBUG-v2@{}.5/{}'.format(LABELED, model_name)\n",
        "\n",
        "checkpoint = torch.load(model_file)"
      ],
      "execution_count": 28,
      "outputs": []
    },
    {
      "cell_type": "code",
      "metadata": {
        "id": "g3k-Zec7oB_F"
      },
      "source": [
        "use_cuda = torch.cuda.is_available()\n",
        "device = torch.device(\"cuda\" if use_cuda else \"cpu\")"
      ],
      "execution_count": 29,
      "outputs": []
    },
    {
      "cell_type": "code",
      "metadata": {
        "id": "TiwvZMfthhFp"
      },
      "source": [
        "model = models.resnet50(pretrained=True)\n",
        "ft = model.fc.in_features\n",
        "#model.fc = torch.nn.Linear(ft, 2)\n",
        "model.fc = torch.nn.Sequential(\n",
        "        torch.nn.Linear(ft, 1),\n",
        "        torch.nn.Sigmoid()\n",
        ")"
      ],
      "execution_count": 32,
      "outputs": []
    },
    {
      "cell_type": "code",
      "metadata": {
        "id": "yah7-gCPhc1a"
      },
      "source": [
        "model.load_state_dict(checkpoint['state_dict'])\n",
        "model = model.to(device)"
      ],
      "execution_count": 33,
      "outputs": []
    },
    {
      "cell_type": "code",
      "metadata": {
        "id": "jiuehvthkfoh"
      },
      "source": [
        "cifar10_mean = (0.4914, 0.4822, 0.4465)\n",
        "cifar10_std = (0.2471, 0.2435, 0.2616)\n",
        "\n",
        "transform_val = transforms.Compose([\n",
        "    transforms.ToTensor(),\n",
        "    transforms.Normalize(mean=cifar10_mean, std=cifar10_std) # CHANGE\n",
        "])\n",
        "\n",
        "test_dataset = datasets.ImageFolder(root=\"messidor2\", transform=transform_val) # root: test/messidor2"
      ],
      "execution_count": 34,
      "outputs": []
    },
    {
      "cell_type": "code",
      "metadata": {
        "id": "_Lfw1iolkhII"
      },
      "source": [
        "test_loader = DataLoader(\n",
        "    test_dataset,\n",
        "    batch_size=1,\n",
        "    num_workers=1,\n",
        "    shuffle=False)"
      ],
      "execution_count": 35,
      "outputs": []
    },
    {
      "cell_type": "code",
      "metadata": {
        "id": "bpurQshhjLNl"
      },
      "source": [
        "loader = test_loader"
      ],
      "execution_count": 36,
      "outputs": []
    },
    {
      "cell_type": "code",
      "metadata": {
        "id": "lGZsBFw2huvA",
        "colab": {
          "base_uri": "https://localhost:8080/"
        },
        "outputId": "7723ea82-0ca4-4e63-bb6b-0836d581fcee"
      },
      "source": [
        "y_true = []\n",
        "y_pred = []\n",
        "\n",
        "with torch.no_grad():\n",
        "    with tqdm(total=len(loader)) as pbar:\n",
        "        for batch_idx, (inputs, targets) in enumerate(loader):\n",
        "\n",
        "            model.eval()\n",
        "\n",
        "            inputs = inputs.to(device)\n",
        "            targets = targets.to(device)\n",
        "            output = model(inputs)\n",
        "\n",
        "            output = output.to(device)\n",
        "\n",
        "            # Yo le agrege esto\n",
        "            #y_true.append(targets.cpu().detach().numpy()[0]) # Descomentar si voy a usar el de softmax\n",
        "            #y_pred.append(np.argmax(output.cpu().detach().numpy())) # Descomentar si voy a usar el de softmax\n",
        "            y_true.append(targets.cpu().detach().numpy()[0]) # INTENTANDO APPROACH BINARY\n",
        "            y_pred.append(output.cpu().detach().numpy()[0][0]) # INTENTANDO APPROACH BINARY\n",
        "\n",
        "            pbar.update(1)"
      ],
      "execution_count": 37,
      "outputs": [
        {
          "output_type": "stream",
          "name": "stderr",
          "text": [
            "  0%|          | 0/1748 [00:00<?, ?it/s]/usr/local/lib/python3.7/dist-packages/torch/nn/functional.py:718: UserWarning: Named tensors and all their associated APIs are an experimental feature and subject to change. Please do not use them for anything important until they are released as stable. (Triggered internally at  /pytorch/c10/core/TensorImpl.h:1156.)\n",
            "  return torch.max_pool2d(input, kernel_size, stride, padding, dilation, ceil_mode)\n",
            "100%|██████████| 1748/1748 [00:23<00:00, 73.61it/s]\n"
          ]
        }
      ]
    },
    {
      "cell_type": "code",
      "metadata": {
        "id": "VE4xmSuypaSu",
        "colab": {
          "base_uri": "https://localhost:8080/"
        },
        "outputId": "76cd3c24-c0d0-487d-ccf2-aaf8e33d45d7"
      },
      "source": [
        "# Alternative way to calculate AUC without y_pred_prob\n",
        "import numpy as np\n",
        "from sklearn import metrics\n",
        "fpr, tpr, thresholds = metrics.roc_curve(y_true, y_pred, pos_label=1)\n",
        "metrics.auc(fpr, tpr)"
      ],
      "execution_count": 42,
      "outputs": [
        {
          "output_type": "execute_result",
          "data": {
            "text/plain": [
              "0.6783568020929517"
            ]
          },
          "metadata": {},
          "execution_count": 42
        }
      ]
    },
    {
      "cell_type": "code",
      "metadata": {
        "id": "oEudzTW06zb4",
        "colab": {
          "base_uri": "https://localhost:8080/",
          "height": 349
        },
        "outputId": "844bd0fb-edcc-49e1-f8c7-aa297cfaae0d"
      },
      "source": [
        "from sklearn.metrics import accuracy_score\n",
        "import seaborn as sns\n",
        "import matplotlib.pyplot as plt\n",
        "import matplotlib.image as mpimg\n",
        "from mlxtend.plotting import plot_confusion_matrix \n",
        "%matplotlib inline\n",
        "\n",
        "#cm=metrics.confusion_matrix(y_true, y_pred)\n",
        "auc = metrics.auc(fpr, tpr)\n",
        "#print('AUC: %.3f' % auc)\n",
        "#print('Accuracy: {}'.format(accuracy_score(y_true, y_pred)))\n",
        "\n",
        "# Plot ROC curve\n",
        "lw = 2\n",
        "sns.set_style({'axes.grid' : False})\n",
        "sns.set_style(\"darkgrid\")\n",
        "ax1 = sns.lineplot(fpr, tpr, color='darkorange',\n",
        "        lw=lw, label='AUC = %0.2f' % auc)\n",
        "plt.plot([0, 1], [0, 1], color='navy', lw=lw, linestyle='--')\n",
        "ax1.set_title('Receiver operating characteristic')\n",
        "ax1.set(xlabel='False Positive Rate', ylabel='True Positive Rate')\n",
        "plt.legend(loc=\"lower right\")\n",
        "plt.show()\n",
        "\n",
        "# Plot Confusion Matrix \n",
        "#fig, ax2 = plot_confusion_matrix(conf_mat=cm,show_normed=False)\n",
        "plt.show()"
      ],
      "execution_count": 46,
      "outputs": [
        {
          "output_type": "stream",
          "name": "stderr",
          "text": [
            "/usr/local/lib/python3.7/dist-packages/seaborn/_decorators.py:43: FutureWarning: Pass the following variables as keyword args: x, y. From version 0.12, the only valid positional argument will be `data`, and passing other arguments without an explicit keyword will result in an error or misinterpretation.\n",
            "  FutureWarning\n"
          ]
        },
        {
          "output_type": "display_data",
          "data": {
            "image/png": "[encoded data removed]",
            "text/plain": [
              "<Figure size 432x288 with 1 Axes>"
            ]
          },
          "metadata": {}
        }
      ]
    },
    {
      "cell_type": "code",
      "metadata": {
        "id": "3Whz0k3g3HeA"
      },
      "source": [
        ""
      ],
      "execution_count": null,
      "outputs": []
    }
  ]
}